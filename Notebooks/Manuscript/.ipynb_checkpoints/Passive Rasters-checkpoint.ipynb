{
 "cells": [
  {
   "cell_type": "code",
   "execution_count": null,
   "id": "c53a1f93-b952-4e9c-8c17-bda07eced680",
   "metadata": {},
   "outputs": [],
   "source": []
  },
  {
   "cell_type": "code",
   "execution_count": 57,
   "id": "385101b2-55fe-40d4-bad9-225443f305af",
   "metadata": {},
   "outputs": [],
   "source": [
    "import sys, os\n",
    "import json, pickle\n",
    "import matplotlib.pyplot as plt\n",
    "import matplotlib as mpl\n",
    "import numpy as np\n",
    "import pandas as pd\n",
    "import time as pytime\n",
    "import statsmodels.tsa.stattools as tsa\n",
    "import ruptures as rpt\n",
    "sys.path.append('../..')\n",
    "import InsanallyLabEphysTools as ilep\n",
    "from scipy.stats import gaussian_kde, sem, ttest_ind, ttest_rel, norm, mannwhitneyu, linregress, wilcoxon\n",
    "from tqdm import tqdm\n",
    "from types import SimpleNamespace\n",
    "from sklearn import linear_model\n",
    "from sklearn.model_selection import KFold\n",
    "import seaborn as sns\n",
    "import traceback\n",
    "from itertools import product\n",
    "\n",
    "plt.rcParams['legend.fontsize'] = 'small'\n",
    "plt.rcParams['axes.labelsize'] = 'medium'\n",
    "plt.rcParams['axes.formatter.limits'] = [-2,3]\n",
    "plt.rcParams['axes.formatter.use_mathtext'] = True\n",
    "plt.rcParams['axes.spines.top'] = False\n",
    "plt.rcParams['axes.spines.right'] = False\n",
    "plt.rcParams['xtick.direction'] = 'in'\n",
    "plt.rcParams['ytick.direction'] = 'in'\n",
    "plt.rcParams['figure.dpi'] = '150'\n",
    "\n",
    "#Set global font parameters\n",
    "plt.rcParams['font.family'] = 'sans-serif'\n",
    "plt.rcParams['font.sans-serif'] = 'Arial'\n",
    "#Set font type to TrueType for compatibility\n",
    "plt.rcParams['pdf.fonttype'] = 42\n",
    "plt.rcParams['ps.fonttype'] = 42\n",
    "\n",
    "TARGET_COLOR = '#ff3654'\n",
    "NONTARGET_COLOR = '#5776ff'\n",
    "\n",
    "CR_COLOR = '#808080'\n",
    "NCR_COLOR = '#FF767C'\n",
    "CNO_COLOR = '#00BFFF'\n",
    "SWITCH_COLOR = '#B07A3B'\n",
    "LASER_COLOR = '#3375E9'\n",
    "GOOD_GREY = '#969696'\n",
    "GOOD_GREEN = '#32A852'\n",
    "NCR_COLOR_DESAT = '#D98C90'\n",
    "CR_COLOR_DESAT = '#A0A0A0'\n",
    "NCR_CR_cmap = mpl.colors.LinearSegmentedColormap.from_list('NCR-CR color map', [NCR_COLOR, CR_COLOR], N=1000)\n",
    "PHASE_COLORS = ['#DEB9E0','#B78AB9','#906D92','#ABC5E8','#869BB7','#5E6C80']#,'#6ded94','#50d979','#36bf5f']\n",
    "\n",
    "#dualanimalnames = ['BS_40','BS_41','BS_42','BS_49','BS_50','BS_51','BS_56','BS_59','BS_61','BS_67','BS_70','BS_72','BS_87','BS_108','DS_15','DS_19']\n",
    "# dualanimalnames = ['BS_40','BS_41','BS_42','BS_49','BS_50','BS_51','BS_56','BS_59','BS_67','BS_70','BS_72','BS_87','BS_108','DS_15','DS_19']\n",
    "\n",
    "animals = ['TH_203']\n",
    "\n",
    "#act_directory = 'D:\\\\Analysis_Cache_archived_Oct_27_2022'\n",
    "act_directory = 'D:\\\\Analysis_Cache'\n",
    "ops_directory = 'D:\\\\Opsin_Cache'\n",
    "beh_directory = 'P:\\\\Behavioor'"
   ]
  },
  {
   "cell_type": "code",
   "execution_count": 58,
   "id": "71b1b97a-8119-4d14-8f31-5d2a23d3c140",
   "metadata": {},
   "outputs": [],
   "source": [
    "def get_response_times_with_default(sessionfile):\n",
    "    response_times_in_trial = (sessionfile.trials.response-sessionfile.trials.starts)\n",
    "    default_response_time = np.nanmedian(response_times_in_trial)\n",
    "\n",
    "    response_times = sessionfile.trials.response\n",
    "    nogo_trials = np.isnan(response_times)\n",
    "    response_times[nogo_trials] = sessionfile.trials.starts[nogo_trials]+default_response_time\n",
    "    return response_times"
   ]
  },
  {
   "cell_type": "code",
   "execution_count": null,
   "id": "c4dba949-dfed-4118-80fc-d7144bf0a280",
   "metadata": {
    "tags": []
   },
   "outputs": [],
   "source": []
  },
  {
   "cell_type": "code",
   "execution_count": null,
   "id": "5f4fdb0a-d7c5-428b-b80d-5ca751f82f27",
   "metadata": {
    "tags": []
   },
   "outputs": [],
   "source": []
  },
  {
   "cell_type": "code",
   "execution_count": 76,
   "id": "15c42911-9135-4608-b1a4-f540baa9b142",
   "metadata": {},
   "outputs": [
    {
     "name": "stderr",
     "output_type": "stream",
     "text": [
      "100%|██████████| 723/723 [00:08<00:00, 82.33it/s] "
     ]
    },
    {
     "name": "stdout",
     "output_type": "stream",
     "text": [
      "5\n",
      "6\n",
      "7\n",
      "8\n"
     ]
    },
    {
     "name": "stderr",
     "output_type": "stream",
     "text": [
      "\n"
     ]
    }
   ],
   "source": [
    "EnumSession2 = []\n",
    "EnumClust = []\n",
    "sessions = os.listdir(act_directory)\n",
    "for session in tqdm(sessions):\n",
    "    sessionfile = ilep.loadSessionCached(act_directory,session)\n",
    "    \n",
    "    if sessionfile.meta.animal not in ['TH_234']:\n",
    "        continue\n",
    "    print(sessionfile.meta.day_of_training)\n",
    "    \n",
    "    if sessionfile.meta.region != 'AC':\n",
    "        continue\n",
    "    \n",
    "#     if sessionfile.meta.animal not in animals:\n",
    "#         continue\n",
    "    \n",
    "    for clust in sessionfile.clusters.good:\n",
    "        EnumSession2.append(session)"
   ]
  },
  {
   "cell_type": "code",
   "execution_count": 77,
   "id": "79dba5b5-1a46-4b05-b4a8-bc5c743ee018",
   "metadata": {},
   "outputs": [
    {
     "name": "stdout",
     "output_type": "stream",
     "text": [
      "192\n"
     ]
    }
   ],
   "source": [
    "print(len(EnumSession2))"
   ]
  },
  {
   "cell_type": "code",
   "execution_count": null,
   "id": "ece979fb-e63e-4201-9ffd-d00b1ee0eb3f",
   "metadata": {},
   "outputs": [],
   "source": []
  },
  {
   "cell_type": "code",
   "execution_count": 108,
   "id": "f5de8a36-56ea-4090-96e9-62386c93f745",
   "metadata": {},
   "outputs": [
    {
     "name": "stderr",
     "output_type": "stream",
     "text": [
      "100%|██████████| 723/723 [00:08<00:00, 83.45it/s] "
     ]
    },
    {
     "name": "stdout",
     "output_type": "stream",
     "text": [
      "7\n"
     ]
    },
    {
     "name": "stderr",
     "output_type": "stream",
     "text": [
      "\n"
     ]
    }
   ],
   "source": [
    "EnumSession = []\n",
    "EnumClust = []\n",
    "sessions = os.listdir(act_directory)\n",
    "for session in tqdm(sessions):\n",
    "    sessionfile = ilep.loadSessionCached(act_directory,session)\n",
    "    \n",
    "#     if session not in ['TH_233_3_passive_AC.pickle','TH_233_4_passive_AC.pickle']:\n",
    "#         continue\n",
    "#     if session not in ['TH_230_1_passive_AC.pickle','TH_230_2_passive_AC.pickle','TH_234_1_passive_AC.pickle']:\n",
    "#         continue\n",
    "        \n",
    "    if session != 'TH_234_3_passive_AC.pickle':# and clust in [109,40]:\n",
    "        continue\n",
    "        \n",
    "    print(sessionfile.meta.day_of_training)\n",
    "    \n",
    "    if sessionfile.meta.region != 'AC':\n",
    "        continue\n",
    "    \n",
    "#     if sessionfile.meta.animal not in animals:\n",
    "#         continue\n",
    "    \n",
    "    for clust in sessionfile.clusters.good:\n",
    "        EnumSession.append(session)\n",
    "        EnumClust.append(clust)"
   ]
  },
  {
   "cell_type": "code",
   "execution_count": 109,
   "id": "c55bb5ed-578b-4db5-97f6-402e2dcf6c81",
   "metadata": {
    "collapsed": true,
    "jupyter": {
     "outputs_hidden": true
    },
    "tags": []
   },
   "outputs": [
    {
     "data": {
      "text/plain": [
       "['TH_234_3_passive_AC.pickle',\n",
       " 'TH_234_3_passive_AC.pickle',\n",
       " 'TH_234_3_passive_AC.pickle',\n",
       " 'TH_234_3_passive_AC.pickle',\n",
       " 'TH_234_3_passive_AC.pickle',\n",
       " 'TH_234_3_passive_AC.pickle',\n",
       " 'TH_234_3_passive_AC.pickle',\n",
       " 'TH_234_3_passive_AC.pickle',\n",
       " 'TH_234_3_passive_AC.pickle',\n",
       " 'TH_234_3_passive_AC.pickle',\n",
       " 'TH_234_3_passive_AC.pickle',\n",
       " 'TH_234_3_passive_AC.pickle',\n",
       " 'TH_234_3_passive_AC.pickle',\n",
       " 'TH_234_3_passive_AC.pickle',\n",
       " 'TH_234_3_passive_AC.pickle',\n",
       " 'TH_234_3_passive_AC.pickle',\n",
       " 'TH_234_3_passive_AC.pickle',\n",
       " 'TH_234_3_passive_AC.pickle',\n",
       " 'TH_234_3_passive_AC.pickle',\n",
       " 'TH_234_3_passive_AC.pickle',\n",
       " 'TH_234_3_passive_AC.pickle',\n",
       " 'TH_234_3_passive_AC.pickle',\n",
       " 'TH_234_3_passive_AC.pickle',\n",
       " 'TH_234_3_passive_AC.pickle',\n",
       " 'TH_234_3_passive_AC.pickle',\n",
       " 'TH_234_3_passive_AC.pickle',\n",
       " 'TH_234_3_passive_AC.pickle',\n",
       " 'TH_234_3_passive_AC.pickle',\n",
       " 'TH_234_3_passive_AC.pickle',\n",
       " 'TH_234_3_passive_AC.pickle',\n",
       " 'TH_234_3_passive_AC.pickle',\n",
       " 'TH_234_3_passive_AC.pickle',\n",
       " 'TH_234_3_passive_AC.pickle',\n",
       " 'TH_234_3_passive_AC.pickle',\n",
       " 'TH_234_3_passive_AC.pickle',\n",
       " 'TH_234_3_passive_AC.pickle',\n",
       " 'TH_234_3_passive_AC.pickle',\n",
       " 'TH_234_3_passive_AC.pickle',\n",
       " 'TH_234_3_passive_AC.pickle',\n",
       " 'TH_234_3_passive_AC.pickle',\n",
       " 'TH_234_3_passive_AC.pickle',\n",
       " 'TH_234_3_passive_AC.pickle',\n",
       " 'TH_234_3_passive_AC.pickle',\n",
       " 'TH_234_3_passive_AC.pickle',\n",
       " 'TH_234_3_passive_AC.pickle',\n",
       " 'TH_234_3_passive_AC.pickle',\n",
       " 'TH_234_3_passive_AC.pickle',\n",
       " 'TH_234_3_passive_AC.pickle',\n",
       " 'TH_234_3_passive_AC.pickle',\n",
       " 'TH_234_3_passive_AC.pickle',\n",
       " 'TH_234_3_passive_AC.pickle',\n",
       " 'TH_234_3_passive_AC.pickle',\n",
       " 'TH_234_3_passive_AC.pickle',\n",
       " 'TH_234_3_passive_AC.pickle',\n",
       " 'TH_234_3_passive_AC.pickle',\n",
       " 'TH_234_3_passive_AC.pickle',\n",
       " 'TH_234_3_passive_AC.pickle',\n",
       " 'TH_234_3_passive_AC.pickle',\n",
       " 'TH_234_3_passive_AC.pickle',\n",
       " 'TH_234_3_passive_AC.pickle',\n",
       " 'TH_234_3_passive_AC.pickle',\n",
       " 'TH_234_3_passive_AC.pickle',\n",
       " 'TH_234_3_passive_AC.pickle']"
      ]
     },
     "execution_count": 109,
     "metadata": {},
     "output_type": "execute_result"
    }
   ],
   "source": [
    "EnumSession"
   ]
  },
  {
   "cell_type": "code",
   "execution_count": null,
   "id": "5aeaea16-9ba6-4046-8e74-9e9d42612456",
   "metadata": {},
   "outputs": [],
   "source": []
  },
  {
   "cell_type": "code",
   "execution_count": null,
   "id": "3942b8c6-6ed6-42a2-9f2e-8b9c56016d44",
   "metadata": {},
   "outputs": [],
   "source": []
  },
  {
   "cell_type": "code",
   "execution_count": 60,
   "id": "3b115386-9f32-4237-bdbd-cbdd6466e16d",
   "metadata": {},
   "outputs": [
    {
     "ename": "FileExistsError",
     "evalue": "[WinError 183] Cannot create a file when that file already exists: 'D:\\\\\\\\TempFigures\\\\PassiveRasters\\\\pngs'",
     "output_type": "error",
     "traceback": [
      "\u001b[1;31m---------------------------------------------------------------------------\u001b[0m",
      "\u001b[1;31mFileExistsError\u001b[0m                           Traceback (most recent call last)",
      "\u001b[1;32m<ipython-input-60-0e36ee8ad1a7>\u001b[0m in \u001b[0;36m<module>\u001b[1;34m\u001b[0m\n\u001b[0;32m      1\u001b[0m \u001b[1;31m### Reset raster directory\u001b[0m\u001b[1;33m\u001b[0m\u001b[1;33m\u001b[0m\u001b[1;33m\u001b[0m\u001b[0m\n\u001b[0;32m      2\u001b[0m \u001b[1;33m\u001b[0m\u001b[0m\n\u001b[1;32m----> 3\u001b[1;33m \u001b[0mos\u001b[0m\u001b[1;33m.\u001b[0m\u001b[0mmkdir\u001b[0m\u001b[1;33m(\u001b[0m\u001b[0mos\u001b[0m\u001b[1;33m.\u001b[0m\u001b[0mpath\u001b[0m\u001b[1;33m.\u001b[0m\u001b[0mjoin\u001b[0m\u001b[1;33m(\u001b[0m\u001b[1;34m'D:\\\\\\\\TempFigures'\u001b[0m\u001b[1;33m,\u001b[0m\u001b[1;34m'PassiveRasters'\u001b[0m\u001b[1;33m,\u001b[0m\u001b[1;34m'pngs'\u001b[0m\u001b[1;33m)\u001b[0m\u001b[1;33m)\u001b[0m\u001b[1;33m\u001b[0m\u001b[1;33m\u001b[0m\u001b[0m\n\u001b[0m\u001b[0;32m      4\u001b[0m \u001b[0mos\u001b[0m\u001b[1;33m.\u001b[0m\u001b[0mmkdir\u001b[0m\u001b[1;33m(\u001b[0m\u001b[0mos\u001b[0m\u001b[1;33m.\u001b[0m\u001b[0mpath\u001b[0m\u001b[1;33m.\u001b[0m\u001b[0mjoin\u001b[0m\u001b[1;33m(\u001b[0m\u001b[1;34m'D:\\\\\\\\TempFigures'\u001b[0m\u001b[1;33m,\u001b[0m\u001b[1;34m'PassiveRasters'\u001b[0m\u001b[1;33m,\u001b[0m\u001b[1;34m'pdfs'\u001b[0m\u001b[1;33m)\u001b[0m\u001b[1;33m)\u001b[0m\u001b[1;33m\u001b[0m\u001b[1;33m\u001b[0m\u001b[0m\n\u001b[0;32m      5\u001b[0m \u001b[1;32mfor\u001b[0m \u001b[0mmodcat\u001b[0m \u001b[1;32min\u001b[0m \u001b[1;33m[\u001b[0m\u001b[1;34m'CR'\u001b[0m\u001b[1;33m,\u001b[0m\u001b[1;34m'NCR'\u001b[0m\u001b[1;33m,\u001b[0m\u001b[1;34m'Middle'\u001b[0m\u001b[1;33m]\u001b[0m\u001b[1;33m:\u001b[0m\u001b[1;33m\u001b[0m\u001b[1;33m\u001b[0m\u001b[0m\n",
      "\u001b[1;31mFileExistsError\u001b[0m: [WinError 183] Cannot create a file when that file already exists: 'D:\\\\\\\\TempFigures\\\\PassiveRasters\\\\pngs'"
     ]
    }
   ],
   "source": [
    "### Reset raster directory\n",
    "\n",
    "os.mkdir(os.path.join('D:\\\\\\\\TempFigures','PassiveRasters','pngs'))\n",
    "os.mkdir(os.path.join('D:\\\\\\\\TempFigures','PassiveRasters','pdfs'))\n",
    "for modcat in ['CR','NCR','Middle']:\n",
    "    os.mkdir(os.path.join('D:\\\\\\\\TempFigures','PassiveRasters',modcat))\n",
    "    os.mkdir(os.path.join('D:\\\\\\\\TempFigures','PassiveRasters',modcat,'pdfs'))\n",
    "    os.mkdir(os.path.join('D:\\\\\\\\TempFigures','PassiveRasters',modcat,'pngs'))"
   ]
  },
  {
   "cell_type": "code",
   "execution_count": 110,
   "id": "cc5eec28-2c6e-430f-8606-20ee3046afca",
   "metadata": {
    "tags": []
   },
   "outputs": [],
   "source": [
    "def visualizeClusterInternal(sessionfile,clust,ax1,ax2):\n",
    "    bw_scott_factor = 3\n",
    "\n",
    "    response_times = get_response_times_with_default(sessionfile)\n",
    "    \n",
    "    ax1.spines['bottom'].set_visible(False)\n",
    "    ax1.spines['left'].set_visible(False)\n",
    "    ax1.get_xaxis().set_visible(False)\n",
    "    ax1.get_yaxis().set_visible(False)\n",
    "\n",
    "    #FRmod = sessionfile.responsiveness[clust]['all_trials'].FRmodulation\n",
    "    FRmod_CR_NCR_threshold = 3.5\n",
    "    Ramping_CR_NCR_threshold = 5.72\n",
    "    \n",
    "#     FRmod_color = NCR_CR_cmap( (FRmod-1)/5)\n",
    "#     FRmod_color = NCR_CR_cmap( (FRmod-1)/5)\n",
    "    mn = 3.5\n",
    "    spread = 2\n",
    "    Y = sessionfile.responsiveness[clust]['all_trials'].FRmodulation\n",
    "    if np.isnan(Y):\n",
    "        color_to_use = 'k'\n",
    "    else:\n",
    "        color_to_use = NCR_CR_cmap( (Y-(mn-spread/2))/ (spread) )\n",
    "\n",
    "    #Sort trials by response time\n",
    "    allConditions = ilep.getAllConditions(sessionfile,clust,trialsPerDayLoaded='NO_TRIM')\n",
    "    trialsToPlot = allConditions['all_trials'].trials\n",
    "    ### If reordering trials, do it here\n",
    "    \n",
    "    ### End trial reordering\n",
    "\n",
    "    clustSpikes = ilep.getSpikeTimes(sessionfile,clust=clust)\n",
    "    trialSpikes = []\n",
    "    for trial in trialsToPlot:\n",
    "\n",
    "        #Need to get spike times for each trial...\n",
    "        starttime = sessionfile.trials.starts[trial] - 0.75*sessionfile.meta.fs\n",
    "        endtime = sessionfile.trials.starts[trial] + 2.75*sessionfile.meta.fs\n",
    "#         starttime = response_times[trial]-2.75*sessionfile.meta.fs\n",
    "#         endtime = response_times[trial]+0.75*sessionfile.meta.fs\n",
    "        \n",
    "        this_trial_spikes = ilep.getSpikeTimes(sessionfile,clust=clust,starttime=starttime,endtime=endtime)\n",
    "        this_trial_spikes = this_trial_spikes - sessionfile.trials.starts[trial]#response_times[trial]\n",
    "        this_trial_spikes = this_trial_spikes * 1000 / sessionfile.meta.fs\n",
    "\n",
    "        trialSpikes.append(this_trial_spikes)\n",
    "    trialSpikes = np.array(trialSpikes,dtype='object')\n",
    "\n",
    "    #Plot Raster\n",
    "    for idx,trial in enumerate(trialsToPlot):\n",
    "        ax1.scatter(trialSpikes[idx],np.ones_like(trialSpikes[idx])*idx,color=color_to_use,s=1.5,marker='o',lw=0)\n",
    "\n",
    "        trialend = response_times[trial]\n",
    "        trialstart = sessionfile.trials.starts[trial]\n",
    "        trial_duration = trialend-trialstart\n",
    "        trial_duration = trial_duration * 1000 / 30000\n",
    "\n",
    "        \n",
    "    ###################################################\n",
    "    \n",
    "#     ### Plot stimulus times\n",
    "#     stimulus_times = -response_times_trimmed\n",
    "#     ax1.scatter(stimulus_times,range(len(trialsToPlot)),marker='o',fc='k',ec='k',zorder=-1,s=1.5,label='stimulus')\n",
    "    \n",
    "#     ### Plot response times\n",
    "#     go_trials = new_go_trials_idx_list\n",
    "#     ax1.scatter(np.zeros_like(go_trials),go_trials,marker='o',fc='g',ec='g',zorder=-1,s=1.5,label='response')\n",
    "    \n",
    "    ###################################################\n",
    "    \n",
    "    #ax1.fill_betweenx(range(len(trialsToPlot)),-response_times_trimmed_sorted,100-response_times_trimmed_sorted,alpha=0.125,color='k',lw=0,label='stimulus')\n",
    "    \n",
    "    #ax1.axvline(0,lw=2.5,color='green',label='Response')\n",
    "    lgd = ax1.legend(frameon=False,loc=(0.6,1))\n",
    "\n",
    "    #if EIL == 'switch':\n",
    "    #    try:\n",
    "    #        switch_point = np.where(np.greater(trialsToPlot,200))[0][0]-0.5\n",
    "    #        ax1.axhline(switch_point,linestyle='--',lw=1,zorder=-10,color='k')\n",
    "    #    except:\n",
    "    #        pass\n",
    "\n",
    "    #Plot PSTH\n",
    "    starttime = -500\n",
    "    endtime = 2500\n",
    "    PSTHstart = starttime - 500\n",
    "    PSTHend = endtime + 500\n",
    "    xrange = np.linspace(starttime,endtime,num=1000)\n",
    "    numSplits = min(10,len(trialSpikes))\n",
    "    if numSplits < 2:\n",
    "        return False,[] ### Return a failure\n",
    "    FR = np.full((numSplits,len(xrange)),np.nan)\n",
    "    kf = KFold(n_splits=numSplits)\n",
    "    for idx,(train_index,_) in enumerate(kf.split(trialSpikes)):\n",
    "        PSTHspikes = np.concatenate(trialSpikes[train_index])\n",
    "        if len(PSTHspikes) == 0:\n",
    "            FR[idx,:] = np.zeros(len(xrange))\n",
    "            continue\n",
    "        bw = len(PSTHspikes)**(-1./5) / bw_scott_factor\n",
    "        KDE = gaussian_kde(PSTHspikes,bw_method=bw)\n",
    "        FR[idx,:] = KDE.evaluate(xrange)\n",
    "        FR[idx,:] = FR[idx,:] * len(PSTHspikes) / len(train_index) * 1000 #1000 is conversion to s/s because units are all in ms for this plot\n",
    "    avg_FR = np.mean(FR,axis=0)\n",
    "    sem_FR = np.std(FR,axis=0)\n",
    "\n",
    "    ax2.plot(xrange,avg_FR,lw=1,color=color_to_use)\n",
    "    ax2.fill_between(xrange,avg_FR-sem_FR,avg_FR+sem_FR,color=color_to_use,alpha=0.5,zorder=-10,lw=0)\n",
    "\n",
    "    max_FR_value = np.max(avg_FR+sem_FR) * 1.1\n",
    "    sequence_of_possible_axis_limits = np.array([1,2,4,6,8,10,12,16,20,30,40,50,60,80,100,120,140,150,160,180,200])\n",
    "    idx_of_okay_limits = np.greater_equal(sequence_of_possible_axis_limits,max_FR_value)\n",
    "    valid_limits = sequence_of_possible_axis_limits[idx_of_okay_limits]\n",
    "    limit = np.min(valid_limits)\n",
    "    ax2.set_ylim([0,limit])\n",
    "    ax2.set_yticks([0,limit/2,limit])\n",
    "    ax2.set_yticklabels(['0',str(int(limit/2)),str(limit)])\n",
    "    ylab = ax2.set_ylabel('Firing rate (spikes/s)')\n",
    "\n",
    "    #ax2.plot([0,100],[limit,limit],color='k',lw=3,linestyle='-',zorder=10)\n",
    "\n",
    "    ax2.set_xlim([starttime,endtime])\n",
    "    ax2.set_xlim([-50,150])\n",
    "#     ax2.set_xlim([-50,150])\n",
    "    #ax2.set_xticks([0,500,1000,1500])\n",
    "    #ax2.set_xticklabels(['0','0.5','1','1.5'])\n",
    "#     #ax2.set_xticks([-0,-500,-1000,-1500,-2000,-2500])\n",
    "#     ax2.set_xticks([-500,-250,0,250,500])\n",
    "#     ax2.set_xticklabels(['-0.5','-0.25','0','0.25','0.5'])\n",
    "#     ax2.set_xlim([-50,150])\n",
    "#     ax2.set_xticks([-50,-25,0,25,50,75,100,125,150])\n",
    "#     ax2.set_xticklabels(['-50','-25','0','25','50','75','100','125','150'])\n",
    "    xlab = ax2.set_xlabel('Time relative to response (ms)')\n",
    "    \n",
    "    ax1.axvline(10,lw=0.5)\n",
    "    ax1.axvline(20,lw=0.5)\n",
    "    \n",
    "    ################################################################\n",
    "    \n",
    "    ax1.fill_between([0,100],[ax1.get_ylim()[0]]*2,[ax1.get_ylim()[1]]*2,color='grey',lw=0,alpha=0.2)\n",
    "    \n",
    "    artists = [lgd,ylab,xlab]\n",
    "    \n",
    "    return True,artists"
   ]
  },
  {
   "cell_type": "code",
   "execution_count": null,
   "id": "695392a8-2c55-4d47-a641-4dd9dbb39fbc",
   "metadata": {},
   "outputs": [],
   "source": []
  },
  {
   "cell_type": "code",
   "execution_count": 116,
   "id": "a7756d0d-9d1a-4648-b1b8-f7aa9c743a11",
   "metadata": {},
   "outputs": [
    {
     "name": "stderr",
     "output_type": "stream",
     "text": [
      "0it [00:00, ?it/s]C:\\Users\\insan\\anaconda3\\envs\\EphysPlotting\\lib\\site-packages\\numpy\\lib\\nanfunctions.py:1119: RuntimeWarning: All-NaN slice encountered\n",
      "  r, k = function_base._ureduce(a, func=_nanmedian, axis=axis, out=out,\n",
      "WARNING:matplotlib.legend:No handles with labels found to put in legend.\n",
      "6it [00:10,  1.69s/it]C:\\Users\\insan\\anaconda3\\envs\\EphysPlotting\\lib\\site-packages\\numpy\\lib\\nanfunctions.py:1119: RuntimeWarning: All-NaN slice encountered\n",
      "  r, k = function_base._ureduce(a, func=_nanmedian, axis=axis, out=out,\n",
      "WARNING:matplotlib.legend:No handles with labels found to put in legend.\n",
      "63it [00:25,  2.52it/s]\n"
     ]
    },
    {
     "data": {
      "image/png": "[encoded data removed]",
      "text/plain": [
       "<Figure size 450x900 with 2 Axes>"
      ]
     },
     "metadata": {
      "needs_background": "light"
     },
     "output_type": "display_data"
    }
   ],
   "source": [
    "for idx,(session,clust) in tqdm(enumerate(zip(EnumSession,EnumClust))):\n",
    "    \n",
    "#     if clust not in [38,80,5]:\n",
    "#         continue\n",
    "    if clust not in [109,40]:\n",
    "        continue\n",
    "    \n",
    "    plt.close('all')\n",
    "    sessionfile = ilep.loadSessionCached(act_directory,session)\n",
    "    \n",
    "#     if sessionfile.meta.day_of_training > 4:\n",
    "#         continue\n",
    "    \n",
    "    fig = plt.figure(figsize=(3,6))\n",
    "    gs = fig.add_gridspec(2,1,height_ratios=[2,1],hspace=0.0125)#,wspace=0.5)#0.1)\n",
    "#     ax1 = plt.subplot(gs[0,0])#Raster\n",
    "#     ax2 = plt.subplot(gs[1,0],sharex=ax1)#PSTH\n",
    "    \n",
    "    ax3 = plt.subplot(gs[0,0])#Raster\n",
    "    ax4 = plt.subplot(gs[1,0],sharex=ax3)#PSTH\n",
    "    \n",
    "    #visualizeClusterInternal(sessionfile,clust,ax1,ax2)\n",
    "    success,artists = visualizeClusterInternal(sessionfile,clust,ax3,ax4)\n",
    "    if not success:\n",
    "        continue\n",
    "    \n",
    "#     ax3.set_title(f\"{session} clust {clust}\\nFRmodc_go={np.around(sessionfile.responsiveness[clust]['go'].FRmodulation_choice,2)}, FRmodc_nogo={np.around(sessionfile.responsiveness[clust]['nogo'].FRmodulation_choice,2)}\",fontsize=8)\n",
    "    \n",
    "    #Determine FRmod category\n",
    "    FRmodCategory = 'ERROR'\n",
    "    FRmod = sessionfile.responsiveness[clust]['all_trials'].FRmodulation\n",
    "    if FRmod < 1:\n",
    "        FRmodCategory = 'NCR'\n",
    "    elif FRmod > 5:\n",
    "        FRmodCategory = 'CR'\n",
    "    else:\n",
    "        FRmodCategory = 'Middle'\n",
    "    #Skip unidentified category neurons\n",
    "    if FRmodCategory in ['ERROR','nan',np.nan]:\n",
    "        continue\n",
    "\n",
    "    region = sessionfile.meta.region\n",
    "    \n",
    "    latency,lstd = calculateOnsetLatency(sessionfile,clust)\n",
    "    \n",
    "    if FRmod >= 3.5:\n",
    "        ax3.set_title(f\"CR: {FRmod}\\nlatency: {latency}ms +/- {lstd}\")\n",
    "    else:\n",
    "        ax3.set_title(f\"NCR: {FRmod}\\nlatency: {latency}ms +/- {lstd}\")\n",
    "    \n",
    "#     break\n",
    "        \n",
    "    try:\n",
    "        if not FRmodCategory == 'ERROR':\n",
    "            fig.savefig(os.path.join('D:\\\\\\\\TempFigures','PassiveRasters',FRmodCategory,'pdfs',ilep.generateDateString(sessionfile)+' '+str(clust)+'.pdf'),transparent=False,facecolor=\"white\",dpi=400, bbox_extra_artists=(artists), bbox_inches='tight')\n",
    "            fig.savefig(os.path.join('D:\\\\\\\\TempFigures','PassiveRasters',FRmodCategory,'pngs',ilep.generateDateString(sessionfile)+' '+str(clust)+'.png'),transparent=False,facecolor=\"white\",dpi=400, bbox_extra_artists=(artists), bbox_inches='tight')\n",
    "        fig.savefig(os.path.join('D:\\\\\\\\TempFigures','PassiveRasters','pdfs',ilep.generateDateString(sessionfile)+' '+str(clust)+'.pdf'),transparent=False,facecolor=\"white\",dpi=400, bbox_extra_artists=(artists), bbox_inches='tight')\n",
    "        fig.savefig(os.path.join('D:\\\\\\\\TempFigures','PassiveRasters','pngs',ilep.generateDateString(sessionfile)+' '+str(clust)+'.png'),transparent=False,facecolor=\"white\",dpi=400, bbox_extra_artists=(artists), bbox_inches='tight')\n",
    "    except Exception as e:\n",
    "        print(e)"
   ]
  },
  {
   "cell_type": "code",
   "execution_count": null,
   "id": "2e453f69-9aed-43eb-bd04-6ea30697fbf0",
   "metadata": {},
   "outputs": [],
   "source": []
  },
  {
   "cell_type": "code",
   "execution_count": 117,
   "id": "1f886524-fd21-4174-aa58-108630e63c9d",
   "metadata": {},
   "outputs": [],
   "source": [
    "def calculateOnsetLatency(sessionfile,clust):\n",
    "    latency = []\n",
    "    allConditions = ilep.getAllConditions(sessionfile,clust,trialsPerDayLoaded='NO_TRIM')\n",
    "    for trial in allConditions['all_trials'].trials:\n",
    "        starttime = sessionfile.trials.starts[trial]\n",
    "        endtime = sessionfile.trials.starts[trial] + 0.1*sessionfile.meta.fs\n",
    "        spike_times = ilep.getSpikeTimes(sessionfile,clust=clust,starttime=starttime,endtime=endtime)\n",
    "        if len(spike_times) > 0:\n",
    "            latency.append( (np.min(spike_times) - starttime)*1000/sessionfile.meta.fs )\n",
    "    return np.mean(latency), np.std(latency)"
   ]
  },
  {
   "cell_type": "code",
   "execution_count": null,
   "id": "e16d7c46-5f30-4778-afcc-b8ddc1d4ffcb",
   "metadata": {},
   "outputs": [],
   "source": []
  },
  {
   "cell_type": "code",
   "execution_count": null,
   "id": "93857565-c9f1-4b2a-948c-d52169c3e264",
   "metadata": {},
   "outputs": [],
   "source": []
  },
  {
   "cell_type": "code",
   "execution_count": null,
   "id": "180fb43e-caf3-4ff5-a605-71592a5da796",
   "metadata": {},
   "outputs": [],
   "source": []
  },
  {
   "cell_type": "code",
   "execution_count": null,
   "id": "13729788-85a5-4c7a-9ae2-eeff68ead177",
   "metadata": {},
   "outputs": [],
   "source": []
  },
  {
   "cell_type": "code",
   "execution_count": 47,
   "id": "40f2eede-9f97-461a-95a6-2be793dbae4d",
   "metadata": {},
   "outputs": [
    {
     "name": "stderr",
     "output_type": "stream",
     "text": [
      "100%|██████████| 723/723 [00:07<00:00, 102.66it/s]\n"
     ]
    }
   ],
   "source": [
    "EnumSession = []\n",
    "EnumClust = []\n",
    "sessions = os.listdir(act_directory)\n",
    "for session in tqdm(sessions):\n",
    "    sessionfile = ilep.loadSessionCached(act_directory,session)\n",
    "\n",
    "    if sessionfile.meta.region != 'AC':\n",
    "        continue\n",
    "    \n",
    "    if sessionfile.meta.animal not in ['TH_201','TH_203','LA_204','LA_205','TH_200', 'TH_230','AE_229','TH_233','TH_234']:\n",
    "        continue\n",
    "    \n",
    "    for clust in sessionfile.clusters.good:\n",
    "        EnumSession.append(session)\n",
    "        EnumClust.append(clust)"
   ]
  },
  {
   "cell_type": "code",
   "execution_count": 48,
   "id": "8f337e3c-14e7-4490-a72a-1ec78daaa12d",
   "metadata": {},
   "outputs": [
    {
     "name": "stderr",
     "output_type": "stream",
     "text": [
      "1442it [00:10, 136.13it/s]\n"
     ]
    }
   ],
   "source": [
    "FR_passive = []\n",
    "\n",
    "for idx,(session,clust) in tqdm(enumerate(zip(EnumSession,EnumClust))):\n",
    "    sessionfile = ilep.loadSessionCached(act_directory,session)\n",
    "    FR_passive.append(sessionfile.responsiveness[clust]['all_trials'].FRbaseline)"
   ]
  },
  {
   "cell_type": "code",
   "execution_count": null,
   "id": "6681d324-ba03-4784-b21e-fa2660c53147",
   "metadata": {},
   "outputs": [],
   "source": []
  },
  {
   "cell_type": "code",
   "execution_count": 44,
   "id": "f3805c94-d9f6-437f-9ca9-48674cd40a62",
   "metadata": {},
   "outputs": [
    {
     "name": "stderr",
     "output_type": "stream",
     "text": [
      "100%|██████████| 723/723 [00:07<00:00, 100.94it/s]\n"
     ]
    }
   ],
   "source": [
    "EnumSession = []\n",
    "EnumClust = []\n",
    "sessions = os.listdir(act_directory)\n",
    "for session in tqdm(sessions):\n",
    "    sessionfile = ilep.loadSessionCached(act_directory,session)\n",
    "\n",
    "    if sessionfile.meta.region != 'AC':\n",
    "        continue\n",
    "    \n",
    "    if sessionfile.meta.animal not in ['TH_203']:\n",
    "        continue\n",
    "    \n",
    "    for clust in sessionfile.clusters.good:\n",
    "        EnumSession.append(session)\n",
    "        EnumClust.append(clust)"
   ]
  },
  {
   "cell_type": "code",
   "execution_count": 46,
   "id": "1e0b86e9-4c41-4840-a2b3-a69d6fe60e5b",
   "metadata": {},
   "outputs": [
    {
     "name": "stderr",
     "output_type": "stream",
     "text": [
      "134it [00:00, 186.84it/s]\n"
     ]
    }
   ],
   "source": [
    "FR_203 = []\n",
    "\n",
    "for idx,(session,clust) in tqdm(enumerate(zip(EnumSession,EnumClust))):\n",
    "    sessionfile = ilep.loadSessionCached(act_directory,session)\n",
    "    FR_203.append(sessionfile.responsiveness[clust]['all_trials'].FRbaseline)"
   ]
  },
  {
   "cell_type": "code",
   "execution_count": null,
   "id": "7420e7b0-8e65-4af9-b18e-4be420921eac",
   "metadata": {},
   "outputs": [],
   "source": []
  },
  {
   "cell_type": "code",
   "execution_count": 36,
   "id": "d6d6438b-eed7-419c-b434-f969bbe836d5",
   "metadata": {},
   "outputs": [
    {
     "name": "stderr",
     "output_type": "stream",
     "text": [
      "100%|██████████| 723/723 [00:07<00:00, 101.64it/s]\n"
     ]
    }
   ],
   "source": [
    "EnumSession = []\n",
    "EnumClust = []\n",
    "sessions = os.listdir(act_directory)\n",
    "for session in tqdm(sessions):\n",
    "    sessionfile = ilep.loadSessionCached(act_directory,session)\n",
    "\n",
    "    if sessionfile.meta.region != 'AC':\n",
    "        continue\n",
    "    \n",
    "    if sessionfile.meta.animal not in ['BS_40','BS_41','BS_42','BS_49','BS_50','BS_51','BS_56','BS_59','BS_67','BS_70','BS_72','BS_87','BS_108','DS_15','DS_19']:\n",
    "        continue\n",
    "    \n",
    "    for clust in sessionfile.clusters.good:\n",
    "        EnumSession.append(session)\n",
    "        EnumClust.append(clust)"
   ]
  },
  {
   "cell_type": "code",
   "execution_count": 37,
   "id": "19e0d8d0-fa6a-47e6-97c5-a38262130033",
   "metadata": {},
   "outputs": [
    {
     "name": "stderr",
     "output_type": "stream",
     "text": [
      "1830it [00:13, 136.01it/s]\n"
     ]
    }
   ],
   "source": [
    "FR_active = []\n",
    "\n",
    "for idx,(session,clust) in tqdm(enumerate(zip(EnumSession,EnumClust))):\n",
    "    sessionfile = ilep.loadSessionCached(act_directory,session)\n",
    "    FR_active.append(sessionfile.responsiveness[clust]['all_trials'].FRbaseline)"
   ]
  },
  {
   "cell_type": "code",
   "execution_count": null,
   "id": "41358129-3269-49b7-b7ab-71e43dde49b6",
   "metadata": {},
   "outputs": [],
   "source": []
  },
  {
   "cell_type": "code",
   "execution_count": null,
   "id": "c16bf84d-bd41-4a8d-a953-19e593f27a26",
   "metadata": {},
   "outputs": [],
   "source": []
  },
  {
   "cell_type": "code",
   "execution_count": null,
   "id": "daceb16b-0e1f-480a-a67c-1d33c60d0f04",
   "metadata": {
    "tags": []
   },
   "outputs": [],
   "source": []
  },
  {
   "cell_type": "code",
   "execution_count": null,
   "id": "a892c478-002a-4965-b50b-f573281f0527",
   "metadata": {
    "tags": []
   },
   "outputs": [],
   "source": []
  },
  {
   "cell_type": "code",
   "execution_count": 54,
   "id": "d672ab22-d7fb-4ac8-ad87-ecf8e2e78487",
   "metadata": {},
   "outputs": [
    {
     "name": "stdout",
     "output_type": "stream",
     "text": [
      "1.9849246231155782\n"
     ]
    },
    {
     "data": {
      "image/png": "[encoded data removed]",
      "text/plain": [
       "<Figure size 900x600 with 1 Axes>"
      ]
     },
     "metadata": {
      "needs_background": "light"
     },
     "output_type": "display_data"
    }
   ],
   "source": [
    "plt.hist(FR_203,bins=100)\n",
    "print(np.nanmedian(FR_203))\n",
    "pass"
   ]
  },
  {
   "cell_type": "code",
   "execution_count": 55,
   "id": "5a5c38bf-f791-4b6d-9906-549c5dc3e781",
   "metadata": {},
   "outputs": [
    {
     "name": "stdout",
     "output_type": "stream",
     "text": [
      "2.218803418803419\n"
     ]
    },
    {
     "data": {
      "image/png": "[encoded data removed]",
      "text/plain": [
       "<Figure size 900x600 with 1 Axes>"
      ]
     },
     "metadata": {
      "needs_background": "light"
     },
     "output_type": "display_data"
    }
   ],
   "source": [
    "plt.hist(FR_passive,bins=100)\n",
    "print(np.nanmedian(FR_passive))\n",
    "pass"
   ]
  },
  {
   "cell_type": "code",
   "execution_count": 56,
   "id": "84719294-3301-4fb4-9d8f-2c04e5f18917",
   "metadata": {},
   "outputs": [
    {
     "name": "stdout",
     "output_type": "stream",
     "text": [
      "2.7598413182789137\n"
     ]
    },
    {
     "data": {
      "image/png": "[encoded data removed]",
      "text/plain": [
       "<Figure size 900x600 with 1 Axes>"
      ]
     },
     "metadata": {
      "needs_background": "light"
     },
     "output_type": "display_data"
    }
   ],
   "source": [
    "plt.hist(FR_active,bins=100)\n",
    "print(np.nanmedian(FR_active))\n",
    "pass"
   ]
  },
  {
   "cell_type": "code",
   "execution_count": null,
   "id": "ddac24c3-28be-4b23-8b0a-dc3e34747d4c",
   "metadata": {},
   "outputs": [],
   "source": []
  }
 ],
 "metadata": {
  "kernelspec": {
   "display_name": "Python 3",
   "language": "python",
   "name": "python3"
  },
  "language_info": {
   "codemirror_mode": {
    "name": "ipython",
    "version": 3
   },
   "file_extension": ".py",
   "mimetype": "text/x-python",
   "name": "python",
   "nbconvert_exporter": "python",
   "pygments_lexer": "ipython3",
   "version": "3.8.8"
  }
 },
 "nbformat": 4,
 "nbformat_minor": 5
}
