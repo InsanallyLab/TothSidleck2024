{
 "cells": [
  {
   "cell_type": "code",
   "execution_count": 25,
   "id": "52380818-06fe-4518-b541-5c942f703345",
   "metadata": {
    "tags": []
   },
   "outputs": [],
   "source": [
    "import sys, os\n",
    "import json, pickle\n",
    "import matplotlib.pyplot as plt\n",
    "import matplotlib as mpl\n",
    "import numpy as np\n",
    "import pandas as pd\n",
    "import time as pytime\n",
    "import statsmodels.tsa.stattools as tsa\n",
    "import ruptures as rpt\n",
    "sys.path.append('../..')\n",
    "import InsanallyLabEphysTools as ilep\n",
    "from scipy.stats import gaussian_kde, sem, ttest_ind, ttest_rel, norm, mannwhitneyu, linregress, wilcoxon\n",
    "from tqdm import tqdm\n",
    "from types import SimpleNamespace\n",
    "from sklearn import linear_model\n",
    "from sklearn.model_selection import KFold\n",
    "import seaborn as sns\n",
    "import traceback\n",
    "from itertools import product\n",
    "from brokenaxes import brokenaxes\n",
    "import pingouin as pg\n",
    "import colorsys\n",
    "\n",
    "plt.rcParams['legend.fontsize'] = 'small'\n",
    "plt.rcParams['axes.labelsize'] = 'medium'\n",
    "plt.rcParams['axes.formatter.limits'] = [-2,3]\n",
    "plt.rcParams['axes.formatter.use_mathtext'] = True\n",
    "plt.rcParams['axes.spines.top'] = False\n",
    "plt.rcParams['axes.spines.right'] = False\n",
    "plt.rcParams['xtick.direction'] = 'in'\n",
    "plt.rcParams['ytick.direction'] = 'in'\n",
    "plt.rcParams['figure.dpi'] = '150'\n",
    "\n",
    "#Set global font parameters\n",
    "plt.rcParams['font.family'] = 'sans-serif'\n",
    "plt.rcParams['font.sans-serif'] = 'Arial'\n",
    "#Set font type to TrueType for compatibility\n",
    "plt.rcParams['pdf.fonttype'] = 42\n",
    "plt.rcParams['ps.fonttype'] = 42\n",
    "\n",
    "TARGET_COLOR = '#ff3654'\n",
    "NONTARGET_COLOR = '#5776ff'\n",
    "\n",
    "CR_COLOR = '#808080'\n",
    "NCR_COLOR = '#FF767C'\n",
    "CNO_COLOR = '#00BFFF'\n",
    "SWITCH_COLOR = '#B07A3B'\n",
    "LASER_COLOR = '#3375E9'\n",
    "GOOD_GREY = '#969696'\n",
    "GOOD_GREEN = '#32A852'\n",
    "NCR_CR_cmap = mpl.colors.LinearSegmentedColormap.from_list('NCR-CR color map', [NCR_COLOR, CR_COLOR], N=1000)\n",
    "PHASE_COLORS = ['#DEB9E0','#B78AB9','#906D92','#ABC5E8','#869BB7','#5E6C80']#,'#6ded94','#50d979','#36bf5f']\n",
    "\n",
    "# dualanimalnames = ['BS_40','BS_41','BS_42','BS_49','BS_50','BS_51','BS_56','BS_59','BS_67','BS_70','BS_72','BS_87','BS_108']\n",
    "# danimals = ['DS_15','DS_19','DS_24','DS_27','DS_28']\n",
    "\n",
    "# retroanimals = ['PB_86','BS_86','PB_92','BS_92','BS_100','BS_103','BS_111','BS_119','BS_123','BS_128','BS_131','BS_139','BS_163','BS_165']\n",
    "# did_learn = ['BS_92','BS_103','BS_111','BS_179']\n",
    "# did_not_learn = ['BS_86','BS_100','BS_119','BS_123','BS_128','BS_131','BS_163','BS_174']\n",
    "# indeterminate = ['BS_139','BS_165','BS_191','BS_192']\n",
    "\n",
    "# dualanimalnames = ['BS_40','BS_41','BS_42','BS_49','BS_50','BS_51','BS_56','BS_59','BS_67','BS_70','BS_72','BS_87','BS_108']#,'DS_15','DS_19']\n",
    "# opsinanimalnames = ['BS_86','BS_92','BS_100','BS_103','BS_111','BS_119','BS_123','BS_128','BS_131','BS_139','BS_163','BS_165','BS_174','BS_179','BS_191','BS_192']\n",
    "# tuninganimalnames = ['BS_173','BS_175','BS_187','BS_188','BS_213','BS_214','TH_217','AE_235','AE_236','TH_237']\n",
    "# unuseddualanimals = ['BS_78']\n",
    "# danimals = ['DS_15','DS_19','DS_24','DS_27','DS_28','DS_16','DS_17','DS_22','DS_13','DS_23']\n",
    "\n",
    "# animals = np.concatenate((dualanimalnames,['DS_15','DS_19']))#danimals))\n",
    "# animalsext = np.concatenate((dualanimalnames,['DS_15','DS_19'],['AE_238','AE_239']))#danimals))\n",
    "\n",
    "\n",
    "\n",
    "# animals = ['BS_173','BS_175','BS_187','BS_188','BS_213','BS_214','AE_235','AE_236','TH_237'] #V0\n",
    "animals = ['BS_173','BS_175','BS_187','BS_188','BS_213','BS_214','AE_235','AE_236','TH_237','AE_252']#,'AE_254'] #V1\n",
    "\n",
    "\n",
    "#act_directory = 'D:\\\\Analysis_Cache_archived_Oct_27_2022'\n",
    "# act_directory = 'D:\\\\Analysis_Cache'\n",
    "# ops_directory = 'D:\\\\Opsin_Cache'\n",
    "# beh_directory = 'P:\\\\Behavioor'\n",
    "\n",
    "stim25sdecodingfilename = 'D:\\\\stimdecoding_25s.csv'\n",
    "stim25sopsinondecodingfilename = 'D:\\\\stimdecoding_25s_opsin_on.csv'\n",
    "stim25sopsinoffdecodingfilename = 'D:\\\\stimdecoding_25s_opsin_off.csv'\n",
    "\n",
    "# act_directory = 'C:\\\\Users\\insan\\\\Desktop\\\\Analysis_Cache_Aug23'\n",
    "act_directory = 'D:\\\\Analysis_Cache'\n",
    "beh_directory = 'P:\\\\Behavioor'\n",
    "\n",
    "current_version = 0 #July 6th, 2023\n",
    "current_version = 1 #July 20th, 2023\n",
    "current_version = 2 #July 25th, 2023\n",
    "current_version = 3 #Aug 3rd, 2023"
   ]
  },
  {
   "cell_type": "code",
   "execution_count": null,
   "id": "185e8747-5140-4c1d-981d-3463314b8e5a",
   "metadata": {},
   "outputs": [],
   "source": []
  },
  {
   "cell_type": "code",
   "execution_count": null,
   "id": "aad468bc-939f-4a6c-afc2-83b3167c7d67",
   "metadata": {},
   "outputs": [],
   "source": []
  },
  {
   "cell_type": "code",
   "execution_count": 2,
   "id": "dd1f95c9-8999-4793-9ca9-ccbd0f733914",
   "metadata": {
    "tags": []
   },
   "outputs": [
    {
     "name": "stdout",
     "output_type": "stream",
     "text": [
      "Fetching files for BS_51\n",
      "Fetching files for BS_52\n",
      "Fetching files for BS_56\n",
      "Fetching files for BS_59\n",
      "Fetching files for BS_61\n",
      "Fetching files for BS_86\n",
      "Fetching files for BS_92\n",
      "Fetching files for BS_100\n",
      "Fetching files for BS_103\n",
      "Fetching files for BS_111\n",
      "Fetching files for BS_119\n",
      "Fetching files for BS_123\n",
      "Fetching files for BS_128\n",
      "Fetching files for BS_131\n",
      "Fetching files for BS_139\n",
      "Fetching files for BS_163\n",
      "Fetching files for BS_165\n",
      "Fetching files for BS_174\n",
      "Fetching files for BS_179\n",
      "Fetching files for BS_191\n",
      "Fetching files for BS_192\n",
      "Fetching files for BS_33\n",
      "Fetching files for BS_67\n",
      "Fetching files for BS_73\n",
      "Fetching files for BS_78\n",
      "Fetching files for BS_108\n",
      "Fetching files for BS_40\n",
      "Fetching files for BS_41\n",
      "Fetching files for BS_42\n",
      "Fetching files for BS_49\n",
      "Fetching files for BS_50\n",
      "Fetching files for BS_70\n",
      "Fetching files for BS_72\n",
      "Fetching files for BS_83\n"
     ]
    },
    {
     "name": "stderr",
     "output_type": "stream",
     "text": [
      "C:\\Users\\insan\\anaconda3\\envs\\EphysPlotting\\lib\\site-packages\\outdated\\utils.py:14: OutdatedPackageWarning: The package pingouin is out of date. Your version is 0.5.2, the latest is 0.5.4.\n",
      "Set the environment variable OUTDATED_IGNORE=1 to disable these warnings.\n",
      "  return warn(\n"
     ]
    },
    {
     "name": "stdout",
     "output_type": "stream",
     "text": [
      "Fetching files for BS_85\n",
      "Fetching files for BS_87\n",
      "Fetching files for BS_95\n",
      "Fetching files for BS_113\n",
      "Fetching files for DS_15\n",
      "Fetching files for DS_16\n",
      "Fetching files for DS_17\n",
      "Fetching files for DS_19\n",
      "Fetching files for DS_22\n",
      "Fetching files for DS_23\n",
      "Fetching files for DS_24\n",
      "Fetching files for DS_27\n",
      "Fetching files for DS_28\n",
      "Fetching files for DS_13\n",
      "Fetching files for BS_173\n",
      "Fetching files for BS_175\n",
      "Fetching files for BS_187\n",
      "Fetching files for BS_188\n",
      "Fetching files for BS_213\n",
      "Fetching files for BS_214\n",
      "Fetching files for TH_217\n",
      "Fetching files for AE_235\n",
      "Fetching files for AE_236\n",
      "Fetching files for TH_237\n",
      "Fetching files for AE_252\n",
      "Fetching files for AE_254\n",
      "Fetching files for AE_238\n",
      "Fetching files for AE_239\n",
      "Fetching files for AE_240\n",
      "Fetching files for AE_267\n",
      "Fetching files for AO_273\n",
      "Fetching files for AO_274\n",
      "Fetching files for AE_287\n",
      "Fetching files for AE_301\n",
      "Fetching files for AE_312\n",
      "P:\\Behavioor\\BS_61\\behavior\\BS_61_42v2_reversal.txt: No columns to parse from file\n",
      "P:\\Behavioor\\BS_103\\behavior\\BS_103_11v4_opto.txt: No columns to parse from file\n",
      "Error loading P:\\Behavioor\\BS_123\\behavior\\BS_123_18v1_opto.txt: No columns to parse from file\n",
      "P:\\Behavioor\\BS_123\\behavior\\BS_123_18v1_opto.txt: No columns to parse from file\n",
      "ERROR: MULTIPLE REVERSALS IN ANIMAL BS_179\n",
      "P:\\Behavioor\\BS_191\\behavior\\BS_191_1v2.txt: No columns to parse from file\n",
      "Error loading P:\\Behavioor\\BS_33\\behavior\\BS_33_9v1.txt: No columns to parse from file\n",
      "P:\\Behavioor\\BS_33\\behavior\\BS_33_9v1.txt: No columns to parse from file\n",
      "P:\\Behavioor\\BS_33\\behavior\\BS_33_20v1_reversal.txt: No columns to parse from file\n",
      "P:\\Behavioor\\BS_49\\behavior\\BS_49_14v4_reversal.txt: No columns to parse from file\n",
      "Error loading P:\\Behavioor\\BS_87\\behavior\\BS_87_1v1.txt: No columns to parse from file\n",
      "P:\\Behavioor\\BS_87\\behavior\\BS_87_1v1.txt: No columns to parse from file\n",
      "DS_15 session 21 has no response time\n",
      "DS_15 session 22 has no response time\n",
      "DS_15 session 23 has no response time\n",
      "DS_15 session 24 has no response time\n",
      "DS_15 session 25 has no response time\n",
      "DS_15 session 26 has no response time\n",
      "DS_15 session 27 has no response time\n",
      "DS_15 session 29 has no response time\n",
      "DS_16 session 21 has no response time\n",
      "DS_16 session 22 has no response time\n",
      "DS_16 session 23 has no response time\n",
      "DS_16 session 24 has no response time\n",
      "DS_16 session 25 has no response time\n",
      "DS_16 session 26 has no response time\n",
      "DS_16 session 27 has no response time\n",
      "DS_16 session 28 has no response time\n",
      "DS_16 session 29 has no response time\n",
      "DS_16 session 30 has no response time\n",
      "DS_16 session 31 has no response time\n",
      "DS_17 session 13 has no response time\n",
      "DS_17 session 14 has no response time\n",
      "DS_17 session 15 has no response time\n",
      "DS_17 session 16 has no response time\n",
      "DS_17 session 17 has no response time\n",
      "DS_17 session 18 has no response time\n",
      "DS_17 session 19 has no response time\n",
      "DS_17 session 20 has no response time\n",
      "DS_17 session 21 has no response time\n",
      "DS_17 session 22 has no response time\n",
      "DS_17 session 23 has no response time\n",
      "DS_17 session 24 has no response time\n",
      "DS_17 session 25 has no response time\n",
      "DS_17 session 26 has no response time\n",
      "DS_17 session 27 has no response time\n",
      "DS_19 session 11 has no response time\n",
      "DS_19 session 12 has no response time\n",
      "DS_19 session 13 has no response time\n",
      "DS_19 session 14 has no response time\n",
      "DS_19 session 15 has no response time\n",
      "DS_19 session 16 has no response time\n",
      "DS_19 session 17 has no response time\n",
      "DS_19 session 18 has no response time\n",
      "DS_19 session 19 has no response time\n",
      "DS_19 session 20 has no response time\n",
      "DS_19 session 21 has no response time\n",
      "DS_19 session 22 has no response time\n",
      "DS_19 session 23 has no response time\n",
      "DS_19 session 24 has no response time\n",
      "DS_19 session 25 has no response time\n",
      "DS_19 session 26 has no response time\n",
      "DS_19 session 27 has no response time\n",
      "DS_22 session 13 has no response time\n",
      "DS_22 session 14 has no response time\n",
      "DS_22 session 15 has no response time\n",
      "DS_22 session 16 has no response time\n",
      "DS_22 session 17 has no response time\n",
      "DS_23 session 15 has no response time\n",
      "DS_23 session 16 has no response time\n",
      "DS_23 session 17 has no response time\n",
      "DS_23 session 18 has no response time\n",
      "DS_23 session 19 has no response time\n",
      "DS_23 session 20 has no response time\n",
      "DS_23 session 21 has no response time\n",
      "DS_23 session 22 has no response time\n",
      "DS_23 session 23 has no response time\n",
      "DS_23 session 24 has no response time\n",
      "DS_23 session 25 has no response time\n",
      "DS_23 session 26 has no response time\n",
      "DS_23 session 27 has no response time\n",
      "DS_23 session 28 has no response time\n",
      "DS_23 session 32 has no response time\n",
      "DS_23 session 33 has no response time\n",
      "DS_24 session 11 has no response time\n",
      "DS_24 session 12 has no response time\n",
      "DS_24 session 13 has no response time\n",
      "DS_24 session 14 has no response time\n",
      "DS_24 session 15 has no response time\n",
      "DS_24 session 16 has no response time\n",
      "DS_24 session 17 has no response time\n",
      "DS_24 session 18 has no response time\n",
      "DS_24 session 19 has no response time\n",
      "DS_24 session 20 has no response time\n",
      "DS_24 session 21 has no response time\n",
      "DS_24 session 22 has no response time\n",
      "DS_24 session 23 has no response time\n",
      "DS_24 session 24 has no response time\n",
      "DS_24 session 25 has no response time\n",
      "DS_24 session 26 has no response time\n",
      "P:\\Behavioor\\BS_173\\behavior\\BS_173_9v2.txt: No columns to parse from file\n",
      "P:\\Behavioor\\AE_238\\behavior\\AE_238_48v2.txt: No columns to parse from file\n",
      "P:\\Behavioor\\AE_239\\behavior\\AE_239_27v3.txt: No columns to parse from file\n",
      "P:\\Behavioor\\AO_273\\behavior\\AO_273_20v2_reversal.txt: No columns to parse from file\n"
     ]
    }
   ],
   "source": [
    "animalBehaviors = ilep.getAllBehavior(beh_directory)"
   ]
  },
  {
   "cell_type": "code",
   "execution_count": 3,
   "id": "ea156245-825d-429a-8804-04b3be2654b6",
   "metadata": {
    "tags": []
   },
   "outputs": [
    {
     "name": "stderr",
     "output_type": "stream",
     "text": [
      "../..\\InsanallyLabEphysTools\\behavior.py:94: RuntimeWarning: invalid value encountered in long_scalars\n",
      "  pc = (hit+creject)/(hit+miss+falarm+creject)\n",
      "../..\\InsanallyLabEphysTools\\behavior.py:94: RuntimeWarning: invalid value encountered in long_scalars\n",
      "  pc = (hit+creject)/(hit+miss+falarm+creject)\n",
      "../..\\InsanallyLabEphysTools\\behavior.py:94: RuntimeWarning: invalid value encountered in long_scalars\n",
      "  pc = (hit+creject)/(hit+miss+falarm+creject)\n",
      "../..\\InsanallyLabEphysTools\\behavior.py:94: RuntimeWarning: invalid value encountered in long_scalars\n",
      "  pc = (hit+creject)/(hit+miss+falarm+creject)\n"
     ]
    },
    {
     "name": "stdout",
     "output_type": "stream",
     "text": [
      "[ 9 10 11 12 13]\n",
      "[15 16 17 18 19 20 21 23 24 25]\n"
     ]
    },
    {
     "name": "stderr",
     "output_type": "stream",
     "text": [
      "posx and posy should be finite values\n",
      "posx and posy should be finite values\n",
      "posx and posy should be finite values\n",
      "posx and posy should be finite values\n",
      "posx and posy should be finite values\n",
      "posx and posy should be finite values\n",
      "posx and posy should be finite values\n",
      "posx and posy should be finite values\n",
      "posx and posy should be finite values\n",
      "posx and posy should be finite values\n",
      "posx and posy should be finite values\n",
      "posx and posy should be finite values\n",
      "posx and posy should be finite values\n",
      "posx and posy should be finite values\n",
      "posx and posy should be finite values\n",
      "posx and posy should be finite values\n",
      "posx and posy should be finite values\n",
      "posx and posy should be finite values\n",
      "posx and posy should be finite values\n",
      "posx and posy should be finite values\n",
      "posx and posy should be finite values\n",
      "posx and posy should be finite values\n",
      "posx and posy should be finite values\n",
      "posx and posy should be finite values\n",
      "posx and posy should be finite values\n",
      "posx and posy should be finite values\n",
      "posx and posy should be finite values\n",
      "posx and posy should be finite values\n"
     ]
    },
    {
     "data": {
      "image/png": "[encoded data removed]",
      "text/plain": [
       "<Figure size 2250x2250 with 10 Axes>"
      ]
     },
     "metadata": {
      "needs_background": "light"
     },
     "output_type": "display_data"
    }
   ],
   "source": [
    "learning_phases,a,b = ilep.calculateLearningPhasesV2(animals,animalBehaviors,plot=True)\n",
    "#plt.savefig(os.path.join('D:\\\\\\\\TempFigures','AE_252 Learning curve.pdf'),transparent=False,facecolor=\"white\")"
   ]
  },
  {
   "cell_type": "code",
   "execution_count": 26,
   "id": "f40cfdee-7eab-44a3-99d4-b0d918b91422",
   "metadata": {
    "tags": []
   },
   "outputs": [
    {
     "name": "stderr",
     "output_type": "stream",
     "text": [
      "100%|██████████| 740/740 [00:09<00:00, 75.45it/s] \n"
     ]
    }
   ],
   "source": [
    "EnumSession = []\n",
    "EnumClust = []\n",
    "sessions = os.listdir(act_directory)\n",
    "for session in tqdm(sessions):\n",
    "    sessionfile = ilep.loadSessionCached(act_directory,session)\n",
    "    \n",
    "    if sessionfile.meta.task not in ['tuning nonreversal', 'tuning switch', 'tuning reversal']:\n",
    "        continue\n",
    "        \n",
    "    if sessionfile.meta.animal not in animals:\n",
    "        continue\n",
    "        \n",
    "    sessionfile = ilep.determineTuningCurveTones(sessionfile)\n",
    "    if ilep.testInOrderTonePresentation(sessionfile):\n",
    "        continue\n",
    "    for clust in sessionfile.clusters.good:\n",
    "        if sessionfile.tuning.number_of_tones <= 0 or len(sessionfile.trim[clust].trimmed_tuning_trials) / len(np.unique(sessionfile.tuning.trial_freqs)) < 30:\n",
    "            continue\n",
    "        EnumSession.append(session)\n",
    "        EnumClust.append(clust)"
   ]
  },
  {
   "cell_type": "code",
   "execution_count": 27,
   "id": "c3f8ea51-6bdb-442c-9343-0be2e800531b",
   "metadata": {},
   "outputs": [
    {
     "name": "stderr",
     "output_type": "stream",
     "text": [
      "100%|██████████| 1261/1261 [00:38<00:00, 33.15it/s] "
     ]
    },
    {
     "name": "stdout",
     "output_type": "stream",
     "text": [
      "errors for: []\n"
     ]
    },
    {
     "name": "stderr",
     "output_type": "stream",
     "text": [
      "\n"
     ]
    }
   ],
   "source": [
    "EILphases = np.full_like(EnumSession,np.nan)\n",
    "error_animals = []\n",
    "\n",
    "for idx,session in enumerate(tqdm(EnumSession)):\n",
    "    sessionfile = ilep.loadSessionCached(act_directory,session)\n",
    "    \n",
    "    try:\n",
    "        animal = sessionfile.meta.animal\n",
    "        day = sessionfile.meta.day_of_training\n",
    "        \n",
    "        if sessionfile.meta.task in ['switch','opto switch','tuning switch']:\n",
    "            EILphases[idx] = 'switch'\n",
    "\n",
    "        elif sessionfile.meta.task in ['nonreversal','opto nonreversal','tuning nonreversal'] and day in learning_phases[animal].pre_early_days:\n",
    "            EILphases[idx] = 'pre early'\n",
    "        elif sessionfile.meta.task in ['nonreversal','opto nonreversal','tuning nonreversal']  and day in learning_phases[animal].pre_late_days:\n",
    "            EILphases[idx] = 'pre late'\n",
    "        elif sessionfile.meta.task in ['nonreversal','opto nonreversal','tuning nonreversal'] and day in learning_phases[animal].pre_expert_days:\n",
    "            EILphases[idx] = 'pre expert'\n",
    "\n",
    "        elif sessionfile.meta.task in ['reversal','opto reversal','tuning reversal']  and day in learning_phases[animal].post_early_days:\n",
    "            EILphases[idx] = 'post early'\n",
    "        elif sessionfile.meta.task in ['reversal','opto reversal','tuning reversal']  and day in learning_phases[animal].post_late_days:\n",
    "            EILphases[idx] = 'post late'\n",
    "        elif sessionfile.meta.task in ['reversal','opto reversal','tuning reversal']  and day in learning_phases[animal].post_expert_days:\n",
    "            EILphases[idx] = 'post expert'\n",
    "    except Exception as e:\n",
    "        raise e\n",
    "        #print(ilep.generateDateString(sessionfile))\n",
    "        error_animals.append(sessionfile.meta.animal)\n",
    "        pass\n",
    "                             \n",
    "error_animals = np.unique(error_animals)\n",
    "print('errors for: '+str(error_animals))"
   ]
  },
  {
   "cell_type": "code",
   "execution_count": 28,
   "id": "ff37d3c4-0ec3-4b68-af71-2c53e97db2e9",
   "metadata": {},
   "outputs": [
    {
     "data": {
      "text/plain": [
       "namespace(second_early_days=[],\n",
       "          second_late_days=[],\n",
       "          second_expert_days=[],\n",
       "          post_early_days=array([8]),\n",
       "          post_late_days=array([ 9, 10, 11, 12, 13, 15, 16, 17, 18, 19, 20, 21, 23, 24, 25]),\n",
       "          post_expert_days=array([14, 22, 26]),\n",
       "          pre_early_days=array([1, 2, 3]),\n",
       "          pre_late_days=array([15, 16, 17, 18, 19, 20, 21, 23, 24, 25]),\n",
       "          pre_expert_days=array([5, 6]))"
      ]
     },
     "execution_count": 28,
     "metadata": {},
     "output_type": "execute_result"
    }
   ],
   "source": [
    "learning_phases['AE_252']"
   ]
  },
  {
   "cell_type": "code",
   "execution_count": 29,
   "id": "68422c3d-32a6-41ae-9ef4-6e3a5a7b7fe6",
   "metadata": {},
   "outputs": [],
   "source": [
    "def CalculateBestFrequencies(sessionfile,clust):\n",
    "    tones_to_consider = np.sort(np.unique(sessionfile.tuning.trial_freqs))\n",
    "    tuning_FRs = np.full_like(tones_to_consider,np.nan)\n",
    "\n",
    "    clust_spikes = ilep.getSpikeTimes(sessionfile,clust=clust)\n",
    "    \n",
    "    for idx,tone in enumerate(tones_to_consider):\n",
    "\n",
    "        #tone_trials = np.equal(sessionfile.tuning.trial_freqs,tone)\n",
    "        #tone_trials = np.where(tone_trials)[0]\n",
    "        #\n",
    "        #this_tone_FRs = []\n",
    "        #for trial in tone_trials:\n",
    "\n",
    "            #trialstart = sessionfile.tuning.trial_starts[trial]\n",
    "\n",
    "            #trial_spikes = len(ilep.getSpikeTimes(sessionfile,cachedtimes = clust_spikes,starttime = trialstart, endtime = trialstart+0.2*sessionfile.meta.fs))\n",
    "            #trial_FR = trial_spikes / 0.2\n",
    "            #this_tone_FRs.append(trial_FR)\n",
    "\n",
    "        ##print(str(tone) + ': ' + str(this_tone_FRs))\n",
    "        #tuning_FRs[idx] = np.mean(this_tone_FRs)\n",
    "        \n",
    "        tuning_FRs[idx] = sessionfile.tuning.tuning_responsiveness[clust][str(tone)].FRevoked\n",
    "    \n",
    "    maxidxs = np.argwhere(tuning_FRs >= np.max(tuning_FRs)*1)\n",
    "    best_frequencies = tones_to_consider[maxidxs]\n",
    "    best_frequencies = np.concatenate(best_frequencies)\n",
    "    return best_frequencies\n",
    "\n",
    "def plotTuningCurve(sessionfile,clust):\n",
    "    tones_to_use = np.sort(np.unique(sessionfile.tuning.trial_freqs))\n",
    "    tuning_FRs = np.full_like(tones_to_use,np.nan)\n",
    "    tuning_FR_SEMs = np.full_like(tones_to_use,np.nan)\n",
    "\n",
    "    clust_spikes = ilep.getSpikeTimes(sessionfile,clust=clust)\n",
    "    \n",
    "    for idx,tone in enumerate(tones_to_use):\n",
    "\n",
    "        tone_trials = np.equal(sessionfile.tuning.trial_freqs,tone)\n",
    "        tone_trials = np.where(tone_trials)[0]\n",
    "\n",
    "        this_tone_FRs = []\n",
    "        for trial in tone_trials:\n",
    "\n",
    "            trialstart = sessionfile.tuning.trial_starts[trial]\n",
    "\n",
    "            trial_spikes = len(ilep.getSpikeTimes(sessionfile,cachedtimes = clust_spikes,starttime = trialstart, endtime = trialstart+0.2*sessionfile.meta.fs))\n",
    "            trial_FR = trial_spikes / 0.2\n",
    "            this_tone_FRs.append(trial_FR)\n",
    "\n",
    "        #print(str(tone) + ': ' + str(this_tone_FRs))\n",
    "        tuning_FRs[idx] = np.mean(this_tone_FRs)\n",
    "        tuning_FR_SEMs[idx] = sem(this_tone_FRs)\n",
    "        \n",
    "    best_frequencies = CalculateBestFrequencies(sessionfile,clust)\n",
    "    best_frequency_idxs = np.concatenate([np.argwhere(tones_to_use == f)[0] for f in best_frequencies])\n",
    "\n",
    "    fig,ax = plt.subplots(figsize=(5,3))\n",
    "    ax.plot(range(len(tuning_FRs)),tuning_FRs,color=GOOD_GREY,lw=1)\n",
    "    ax.fill_between(range(len(tuning_FRs)),tuning_FRs-tuning_FR_SEMs,tuning_FRs+tuning_FR_SEMs,color=GOOD_GREY,alpha=0.125,lw=0,zorder=-10)\n",
    "    ax.scatter(range(len(tuning_FRs)),tuning_FRs,color=GOOD_GREY,s=10)\n",
    "    ax.scatter(best_frequency_idxs,tuning_FRs[best_frequency_idxs],color=GOOD_GREEN,s=50,zorder=10,label='best frequency')\n",
    "\n",
    "    ax.set_xlabel('Tone Frequency (Hz)')\n",
    "    ax.set_xticks(range(len(tuning_FRs)))\n",
    "    ax.set_xticklabels(tones_to_use)\n",
    "    ax.set_xlim([0,len(tuning_FRs)-1])\n",
    "\n",
    "    ax.set_ylabel('Firing rate (spikes/s)')\n",
    "    max_FR_value = np.max(tuning_FRs) * 1.1\n",
    "    sequence_of_possible_axis_limits = np.array([1,2,4,6,8,10,12,16,20,30,40,50,60,80,100,120,140,150,160,180,200])\n",
    "    idx_of_okay_limits = np.greater_equal(sequence_of_possible_axis_limits,max_FR_value)\n",
    "    valid_limits = sequence_of_possible_axis_limits[idx_of_okay_limits]\n",
    "    limit = np.min(valid_limits)\n",
    "    ax.set_ylim([0,limit])\n",
    "    ax.set_yticks([0,limit/2,limit])\n",
    "    ax.set_yticklabels(['0',str(int(limit/2)),str(limit)])\n",
    "    \n",
    "    ax.legend(frameon=False,loc='upper right')\n",
    "    \n",
    "    return fig"
   ]
  },
  {
   "cell_type": "code",
   "execution_count": 39,
   "id": "6fa27d26-53a9-4719-8210-5ac8cd799911",
   "metadata": {},
   "outputs": [
    {
     "name": "stderr",
     "output_type": "stream",
     "text": [
      "1261it [00:38, 32.35it/s] \n"
     ]
    }
   ],
   "source": [
    "pre_early_FRmod = []\n",
    "\n",
    "pre_early_best_freqs = []\n",
    "pre_early_weights = []\n",
    "\n",
    "pre_late_best_freqs = []\n",
    "pre_late_weights = []\n",
    "\n",
    "pre_expert_best_freqs = []\n",
    "pre_expert_weights = []\n",
    "\n",
    "post_early_best_freqs = []\n",
    "post_early_weights = []\n",
    "\n",
    "post_late_best_freqs = []\n",
    "post_late_weights = []\n",
    "\n",
    "post_expert_best_freqs = []\n",
    "post_expert_weights = []\n",
    "\n",
    "for idx,(session,clust) in tqdm(enumerate(zip(EnumSession,EnumClust))):\n",
    "    sessionfile = ilep.loadSessionCached(act_directory,session)\n",
    "    sessionfile = ilep.determineTuningCurveTones(sessionfile)\n",
    "    \n",
    "    if sessionfile.meta.region != 'AC':\n",
    "        continue\n",
    "        \n",
    "    if sessionfile.meta.animal == 'BS_214' and sessionfile.meta.day_of_training >= 3:\n",
    "        continue\n",
    "        \n",
    "    if ilep.testInOrderTonePresentation(sessionfile):\n",
    "        continue\n",
    "        \n",
    "    if len(np.unique(sessionfile.tuning.trial_freqs)) < 7:\n",
    "        continue\n",
    "        \n",
    "#     #Restrict to CRs only\n",
    "#     if sessionfile.responsiveness[clust]['all_trials'].FRmodulation < 3.5:\n",
    "#         continue\n",
    "        \n",
    "    #Restrict to NCRs only\n",
    "#     if sessionfile.responsiveness[clust]['all_trials'].FRmodulation >= 3.5:\n",
    "#         continue\n",
    "    \n",
    "    best_freqs = CalculateBestFrequencies(sessionfile,clust)\n",
    "    weights = np.ones_like(best_freqs) / len(best_freqs)\n",
    "    \n",
    "    if EILphases[idx] == 'pre early':\n",
    "        pre_early_FRmod.append(sessionfile.responsiveness[clust]['all_trials'].FRmodulation)\n",
    "        pre_early_best_freqs.append(best_freqs)\n",
    "        pre_early_weights.append(weights)\n",
    "    if EILphases[idx] == 'pre late':\n",
    "        pre_late_best_freqs.append(best_freqs)\n",
    "        pre_late_weights.append(weights)\n",
    "    if EILphases[idx] == 'pre expert':\n",
    "        pre_expert_best_freqs.append(best_freqs)\n",
    "        pre_expert_weights.append(weights)\n",
    "    if EILphases[idx] == 'post early':\n",
    "        post_early_best_freqs.append(best_freqs)\n",
    "        post_early_weights.append(weights)\n",
    "    if EILphases[idx] == 'post late':\n",
    "        post_late_best_freqs.append(best_freqs)\n",
    "        post_late_weights.append(weights)\n",
    "    if EILphases[idx] == 'post expert':\n",
    "        post_expert_best_freqs.append(best_freqs)\n",
    "        post_expert_weights.append(weights)\n",
    "\n",
    "\n",
    "pre_early_best_freqs = np.concatenate(pre_early_best_freqs)\n",
    "pre_early_weights = np.concatenate(pre_early_weights)\n",
    "pre_late_best_freqs = np.concatenate(pre_late_best_freqs)\n",
    "pre_late_weights = np.concatenate(pre_late_weights)\n",
    "pre_expert_best_freqs = np.concatenate(pre_expert_best_freqs)\n",
    "pre_expert_weights = np.concatenate(pre_expert_weights)\n",
    "post_early_best_freqs = np.concatenate(post_early_best_freqs)\n",
    "post_early_weights = np.concatenate(post_early_weights)\n",
    "post_late_best_freqs = np.concatenate(post_late_best_freqs)\n",
    "post_late_weights = np.concatenate(post_late_weights)\n",
    "post_expert_best_freqs = np.concatenate(post_expert_best_freqs)\n",
    "post_expert_weights = np.concatenate(post_expert_weights)"
   ]
  },
  {
   "cell_type": "code",
   "execution_count": 40,
   "id": "e82e5e39-1b14-4447-9f94-9aa3972aadba",
   "metadata": {},
   "outputs": [
    {
     "data": {
      "text/plain": [
       "array([22627,  4000,  8000,  4000,  8000, 16000, 22627,  8000, 22627,\n",
       "       22627,  4000, 11260, 45255,  8000, 22627, 16000, 32000, 11260,\n",
       "       22627, 32000, 32000, 45255, 16000, 11260, 45255, 32000, 22627,\n",
       "        8000, 16000, 11260, 11260, 64000, 11260, 32000, 11260,  5648,\n",
       "       32000, 16000, 32000,  8000,  4000, 64000, 16000,  4000, 64000,\n",
       "        5648,  8000, 16000, 32000, 64000,  8000, 45255,  5648, 64000,\n",
       "       22627,  8000,  4000,  8000, 11260, 64000, 11260, 16000, 45255,\n",
       "       45255, 16000,  5648,  8000, 11260, 45255, 45255, 64000, 45255,\n",
       "        5648, 11260, 22627, 22627, 64000, 45255,  5648,  5648,  8000,\n",
       "        8000,  8000, 16000, 45255,  8000, 32000,  4000, 45255, 11260,\n",
       "       11260, 64000,  8000,  5648,  5648, 16000,  4000, 22627,  4000,\n",
       "        5648,  8000, 11260, 16000, 22627, 32000, 45255, 64000, 22627,\n",
       "       64000, 32000,  4000, 45255, 16000, 16000,  5648,  5648,  8000,\n",
       "        5648,  5648,  8000,  8000,  5648,  4000, 22627, 16000, 16000,\n",
       "       11260, 16000,  8000,  8000, 22627, 64000, 11260, 11260, 64000,\n",
       "        8000, 11260,  8000, 64000, 22627, 22627,  8000,  8000,  5648,\n",
       "        5648, 32000, 45255, 64000,  8000, 32000, 11260,  8000, 45255,\n",
       "        8000,  4000,  5648,  8000, 22627, 32000, 45255, 64000, 64000,\n",
       "        4000,  8000, 11260,  4000, 16000, 16000,  4000, 22627, 22627,\n",
       "       22627,  8000, 11260, 22627, 11260,  4000,  5648,  8000,  4000,\n",
       "        4000,  8000, 45255,  8000,  8000,  8000,  5648,  8000, 11260,\n",
       "        8000, 32000, 11260, 16000,  4000, 32000, 22627,  5648,  5648,\n",
       "       32000, 32000, 32000,  4000,  5648, 32000, 11260,  5648, 11260,\n",
       "       22627, 32000,  4000,  4000, 22627, 32000, 45255, 32000, 45255,\n",
       "       16000,  5648,  5648, 11260, 16000, 16000, 64000,  4000, 32000,\n",
       "       64000, 45255, 64000,  8000,  8000, 11260, 32000,  5648,  4000,\n",
       "       16000, 32000, 11260,  5648, 64000,  8000, 45255, 45255, 45255,\n",
       "       64000, 45255,  8000, 32000, 11260, 16000, 11260, 22627,  8000,\n",
       "       16000,  5648, 11260,  5648, 45255, 11260, 16000,  5648, 16000,\n",
       "       22627,  4000,  8000, 45255, 45255, 16000, 11260,  5648, 45255,\n",
       "       22627,  8000, 64000, 22627,  5648, 32000, 11260,  4000,  5648,\n",
       "        4000, 64000,  5648,  5648, 11260, 64000,  4000, 22627,  5648,\n",
       "       64000, 22627, 22627, 45255,  8000, 11260, 64000, 32000,  4000,\n",
       "       22627, 32000,  4000,  5648, 64000,  8000, 16000, 11260, 16000,\n",
       "        5648, 11260,  5648, 16000, 45255,  4000,  5648, 22627,  8000,\n",
       "        5648, 11260, 16000,  8000, 16000, 16000,  8000,  5648, 32000,\n",
       "       16000, 11260, 16000, 22627, 22627, 11260, 16000, 32000, 16000,\n",
       "       45255, 11260, 11260, 32000,  4000, 64000, 64000, 22627, 45255,\n",
       "        4000,  8000, 11260,  8000, 45255, 64000, 64000,  4000, 22627,\n",
       "       22627, 16000, 64000, 16000, 32000,  5648,  8000,  5648, 16000,\n",
       "       22627, 11260,  8000, 11260])"
      ]
     },
     "execution_count": 40,
     "metadata": {},
     "output_type": "execute_result"
    }
   ],
   "source": [
    "pre_early_best_freqs"
   ]
  },
  {
   "cell_type": "markdown",
   "id": "406e2efe-1f2f-4270-81e8-ce18c31a7bd2",
   "metadata": {},
   "source": [
    "# V3"
   ]
  },
  {
   "cell_type": "code",
   "execution_count": null,
   "id": "0de2786c-3440-41bb-92d9-90142d00e55c",
   "metadata": {},
   "outputs": [],
   "source": []
  },
  {
   "cell_type": "code",
   "execution_count": 32,
   "id": "e8e6c1d3-29bf-4f04-b605-94ebfe7b5245",
   "metadata": {},
   "outputs": [],
   "source": [
    "stdfont = 14\n",
    "stdyfrac = 0.06"
   ]
  },
  {
   "cell_type": "code",
   "execution_count": 42,
   "id": "fc08cca7-e40e-4d43-8cec-1e3e0299ee0a",
   "metadata": {},
   "outputs": [
    {
     "data": {
      "image/png": "[encoded data removed]",
      "text/plain": [
       "<Figure size 559.125x677.25 with 1 Axes>"
      ]
     },
     "metadata": {
      "needs_background": "light"
     },
     "output_type": "display_data"
    }
   ],
   "source": [
    "def add_axis_size(fig, ax_w, ax_h, left, bottom):\n",
    "    fig_w, fig_h = fig.get_size_inches()\n",
    "    ax = fig.add_axes([left/fig_w, bottom/fig_h, ax_w/fig_w, ax_h/fig_h])\n",
    "    return ax\n",
    "\n",
    "def make_axis_size(ax_w, ax_h, left=.3, bottom=.3, right=0, top=0):\n",
    "    fig_w = (ax_w + left + right) * 1.05\n",
    "    fig_h = (ax_h + bottom + top) * 1.05\n",
    "    fig = plt.figure(figsize=(fig_w, fig_h))\n",
    "    ax = add_axis_size(fig, ax_w, ax_h, left, bottom)\n",
    "    return fig, ax\n",
    "\n",
    "fig,ax = make_axis_size(3.25, 4, left=.3, bottom=.3, right=0, top=0)\n",
    "switch_offset = 0.25\n",
    "#switch_offset = 0\n",
    "################################################################################################################\n",
    "\n",
    "#Plot figure\n",
    "\n",
    "def plotBestFreqStack(ax,x,ylims,best_freqs,weights,width = 0.4,tntls=['-','-']):\n",
    "    tones_250 = [4000,8000,16000,32000,64000]\n",
    "    tones_350 = [4000,5648,8000,11260,16000,32000,64000]\n",
    "    tones_450 = [4000,5648,8000,11260,16000,22627,32000,45255,64000]\n",
    "    freqs_to_consider = tones_350\n",
    "    cmap = mpl.cm.get_cmap('Set2')\n",
    "    #colors_to_use = cmap(np.linspace(0,1,len(freqs_to_consider)))\n",
    "    #colors_to_use = ['#80689D','#4D4C55','#78B0AC','#a4b49c','#76a5af','#3d85c6','#B6888E']\n",
    "    colors_to_use = ['#A9A7BE','#A4B7C9','#AED2C6','#C7DEC8','#ECCBB3','#E4AFA7','#D5A2A9']\n",
    "    for idx,color in enumerate(colors_to_use):\n",
    "        r,g,b = mpl.colors.to_rgb(color)\n",
    "        h,l,s = colorsys.rgb_to_hls(r,g,b)\n",
    "        color=np.concatenate([colorsys.hls_to_rgb(h,(1-(1-l)*1)*1,s*1),[1]])\n",
    "        colors_to_use[idx] = color\n",
    "    #colors_to_use = mpl.colors.Colormap('plasma',len(freqs_to_consider))\n",
    "    \n",
    "    total_weight = 0\n",
    "    for tone in freqs_to_consider:\n",
    "        this_tone_idx = np.equal(best_freqs,tone)\n",
    "        total_weight += np.sum(weights[this_tone_idx])\n",
    "        \n",
    "    current_total = 0\n",
    "    last_breakpoints = []\n",
    "    breakpoints = [0]\n",
    "    for idx,tone in enumerate(freqs_to_consider):\n",
    "        this_tone_idx = np.equal(best_freqs,tone)\n",
    "        this_tone_weight = np.sum(weights[this_tone_idx])\n",
    "        if tone == 5648:\n",
    "            ax.fill_between([x-width/2,x+width/2],[current_total/total_weight]*2,[(current_total+this_tone_weight)/total_weight]*2,color=colors_to_use[idx],lw=0.65)\n",
    "            ax.fill_between([x-width/2,x+width/2],[current_total/total_weight]*2,[(current_total+this_tone_weight)/total_weight]*2,color=colors_to_use[idx],lw=1,linestyle=tntls[0],edgecolor='k',zorder=10)#,hatch='XXXXXX'\n",
    "        elif tone == 11260:\n",
    "            ax.fill_between([x-width/2,x+width/2],[current_total/total_weight]*2,[(current_total+this_tone_weight)/total_weight]*2,color=colors_to_use[idx],lw=0.65)\n",
    "            ax.fill_between([x-width/2,x+width/2],[current_total/total_weight]*2,[(current_total+this_tone_weight)/total_weight]*2,color=colors_to_use[idx],lw=1,linestyle=tntls[1],edgecolor='k',zorder=10)\n",
    "        else:\n",
    "            ax.fill_between([x-width/2,x+width/2],[current_total/total_weight]*2,[(current_total+this_tone_weight)/total_weight]*2,color=colors_to_use[idx],lw=0.65)\n",
    "        current_total += this_tone_weight\n",
    "        breakpoints.append(current_total)\n",
    "        \n",
    "    return (breakpoints/total_weight)\n",
    "\n",
    "def plotConnectingLines(breakpre,breakpost,X,width=0.125):\n",
    "    cmap = mpl.cm.get_cmap('Set2')\n",
    "    #colors_to_use = ['#80689D','#4D4C55','#78B0AC','#a4b49c','#76a5af','#3d85c6','#B6888E']\n",
    "    #colors_to_use = ['#b6888e','#80689D','#3d85c6','#78a5af','#78b0ac','#a4b49c','#4d4c55']\n",
    "    colors_to_use = ['#A9A7BE','#A4B7C9','#AED2C6','#C7DEC8','#ECCBB3','#E4AFA7','#D5A2A9']\n",
    "    for idx,color in enumerate(colors_to_use):\n",
    "        r,g,b = mpl.colors.to_rgb(color)\n",
    "        h,l,s = colorsys.rgb_to_hls(r,g,b)\n",
    "        color=np.concatenate([colorsys.hls_to_rgb(h,(1-(1-l)*1)*1,s*1),[1]])\n",
    "        colors_to_use[idx] = color\n",
    "        \n",
    "        Y1 = [breakpre[idx],breakpost[idx]]\n",
    "        Y2 = [breakpre[idx+1],breakpost[idx+1]]\n",
    "        Xplot = [X[0]+width,X[1]-width]\n",
    "        \n",
    "        ax.fill_between(Xplot,Y1,Y2,color=colors_to_use[idx],alpha=0.125,lw=0,zorder=-30)\n",
    "\n",
    "breakspreEa = plotBestFreqStack(ax,0-switch_offset,[],pre_early_best_freqs,pre_early_weights,tntls=['--','-'])\n",
    "breakspreLa = plotBestFreqStack(ax,1-switch_offset,[],pre_late_best_freqs,pre_late_weights,tntls=['--','-'])\n",
    "#plotConnectingLines(breakspreEa,breakspreLa,[0,1])\n",
    "breakspreEx = plotBestFreqStack(ax,2-switch_offset,[],pre_expert_best_freqs,pre_expert_weights,tntls=['--','-'])\n",
    "#plotConnectingLines(breakspreLa,breakspreEx,[1,2])\n",
    "breakspostEa = plotBestFreqStack(ax,3+switch_offset,[],post_early_best_freqs,post_early_weights,tntls=['-','--'])\n",
    "#plotConnectingLines(breakspreEx,breakspostEa,[2,3])\n",
    "breakspostLa = plotBestFreqStack(ax,4+switch_offset,[],post_late_best_freqs,post_late_weights,tntls=['-','--'])\n",
    "#plotConnectingLines(breakspostEa,breakspostLa,[3,4])\n",
    "breakspostEx = plotBestFreqStack(ax,5+switch_offset,[],post_expert_best_freqs,post_expert_weights,tntls=['-','--'])\n",
    "#plotConnectingLines(breakspostLa,breakspostEx,[4,5])\n",
    "\n",
    "tones_250 = [4000,8000,16000,32000,64000]\n",
    "tones_350 = [4000,5648,8000,11260,16000,32000,64000]\n",
    "tones_450 = [4000,5648,8000,11260,16000,22627,32000,45255,64000]\n",
    "tones_to_use = tones_350\n",
    "cmap = mpl.cm.get_cmap('Set2')\n",
    "colors_to_use = ['#A9A7BE','#A4B7C9','#AED2C6','#C7DEC8','#ECCBB3','#E4AFA7','#D5A2A9']\n",
    "for idx,tone in enumerate(tones_to_use):\n",
    "    ax.fill_between([],[],[],color = colors_to_use[idx],label=str(np.floor(tone/100)/10),lw=0.65)\n",
    "ax.fill_between([],[],[],color = 'white', ec = 'k', lw=0.65, linestyle='-',label='target')\n",
    "ax.fill_between([],[],[],color = 'white', ec = 'k', lw=0.65, linestyle='--',label='non-target')\n",
    "\n",
    "################################################################################################################\n",
    "\n",
    "labels = ['Early','Late','Expert','Early','Late','Expert']\n",
    "\n",
    "ax.set_ylim([0,1])\n",
    "ax.set_yticks([0,0.2,0.4,0.6,0.8,1])\n",
    "ax.set_yticklabels(['0','20','40','60','80','100'])\n",
    "ylab = ax.set_ylabel('Cumulative percent of units')\n",
    "\n",
    "ax.set_xlim([-0.75-switch_offset,5.75+switch_offset])\n",
    "ax.set_xticks([0-switch_offset,1-switch_offset,2-switch_offset,3+switch_offset,4+switch_offset,5+switch_offset])\n",
    "ax.set_xticklabels(labels)\n",
    "# xlab = ax.set_xlabel('Example X label')\n",
    "\n",
    "xtick_pos_pre = ax.get_xticks()[1]\n",
    "xtick_pos_post = ax.get_xticks()[4]\n",
    "Yval = ilep.getPrePostLabelYval(ax.get_ylim(),Yfrac=-2*stdyfrac)\n",
    "t1 = ax.text(xtick_pos_pre, Yval, 'Pre', ha='center', va='bottom', fontsize=stdfont,color='k')\n",
    "t2 = ax.text(xtick_pos_post, Yval, 'Post', ha='center', va='bottom',  fontsize=stdfont,color='k')\n",
    "ax.annotate('', xy=(0.04, -stdyfrac), xycoords='axes fraction', xytext=(0.48, -stdyfrac),arrowprops=dict(arrowstyle='-', color='black'))\n",
    "ax.annotate('', xy=(0.54, -stdyfrac), xycoords='axes fraction', xytext=(0.975, -stdyfrac),arrowprops=dict(arrowstyle='-', color='black'))\n",
    "\n",
    "ax.tick_params(direction='in', length=6, width=1)\n",
    "\n",
    "for item in ([ax.title, ax.xaxis.label, ax.yaxis.label] +\n",
    "    ax.get_xticklabels() + ax.get_yticklabels()):\n",
    "    item.set_fontsize(stdfont)\n",
    "for item in (ax.get_xticklabels()):\n",
    "    item.set_fontsize(stdfont*0.9)\n",
    "    pass\n",
    "\n",
    "### Log\n",
    "# Y = 10**np.mean(np.log10(ax.get_ylim()))\n",
    "# t = ax.text(2.5,Y,'Reversal',rotation=90,fontsize=stdfont,color=SWITCH_COLOR,horizontalalignment='center',verticalalignment='center')\n",
    "# ax.plot([2.5]*2,[ax.get_ylim()[0],Y*0.45],lw=1,color=SWITCH_COLOR)\n",
    "# ax.plot([2.5]*2,[ax.get_ylim()[1],Y/0.45],lw=1,color=SWITCH_COLOR)\n",
    "\n",
    "### Linear\n",
    "Y = np.mean(ax.get_ylim())\n",
    "t = ax.text(2.5,Y,'Reversal',rotation=90,fontsize=stdfont,color=SWITCH_COLOR,horizontalalignment='center',verticalalignment='center')\n",
    "ax.plot([2.5]*2,[ax.get_ylim()[0],Y-np.ptp(ax.get_ylim())*0.125],lw=1,color=SWITCH_COLOR)\n",
    "ax.plot([2.5]*2,[ax.get_ylim()[1],Y+np.ptp(ax.get_ylim())*0.125],lw=1,color=SWITCH_COLOR)\n",
    "\n",
    "artists = [ylab,t1,t2]\n",
    "fig.savefig(os.path.join('D:\\\\\\\\Figures','Manuscript Figures','Best Frequency Tuning V'+str(current_version)+'.pdf'),transparent=False,facecolor=\"white\",dpi=400, bbox_extra_artists=(artists), bbox_inches='tight')\n",
    "# fig.savefig(os.path.join('D:\\\\\\\\Figures','Manuscript Figures','CR Best Frequency Tuning V'+str(current_version)+'.pdf'),transparent=False,facecolor=\"white\",dpi=400, bbox_extra_artists=(artists), bbox_inches='tight')\n",
    "# fig.savefig(os.path.join('D:\\\\\\\\Figures','Manuscript Figures','NCR Best Frequency Tuning V'+str(current_version)+'.pdf'),transparent=False,facecolor=\"white\",dpi=400, bbox_extra_artists=(artists), bbox_inches='tight')"
   ]
  },
  {
   "cell_type": "code",
   "execution_count": null,
   "id": "aa8c63d0-f43c-4eab-b13f-045d8a6fe053",
   "metadata": {},
   "outputs": [],
   "source": []
  },
  {
   "cell_type": "markdown",
   "id": "98dbdb11-e8c0-49f5-95f5-1d5118139bf8",
   "metadata": {},
   "source": [
    "# V2"
   ]
  },
  {
   "cell_type": "code",
   "execution_count": 16,
   "id": "bbe3f13a-11ec-48df-aa7e-78da2e296134",
   "metadata": {},
   "outputs": [
    {
     "name": "stderr",
     "output_type": "stream",
     "text": [
      "meta NOT subset; don't know how to subset; dropped\n"
     ]
    },
    {
     "data": {
      "image/png": "[encoded data removed]",
      "text/plain": [
       "<Figure size 519.75x677.25 with 1 Axes>"
      ]
     },
     "metadata": {},
     "output_type": "display_data"
    }
   ],
   "source": [
    "\n",
    "stdfont = 14\n",
    "stdyfrac = 0.06\n",
    "\n",
    "def add_axis_size(fig, ax_w, ax_h, left, bottom):\n",
    "    fig_w, fig_h = fig.get_size_inches()\n",
    "    ax = fig.add_axes([left/fig_w, bottom/fig_h, ax_w/fig_w, ax_h/fig_h])\n",
    "    return ax\n",
    "\n",
    "def make_axis_size(ax_w, ax_h, left=.3, bottom=.3, right=0, top=0):\n",
    "    fig_w = (ax_w + left + right) * 1.05\n",
    "    fig_h = (ax_h + bottom + top) * 1.05\n",
    "    fig = plt.figure(figsize=(fig_w, fig_h))\n",
    "    ax = add_axis_size(fig, ax_w, ax_h, left, bottom)\n",
    "    return fig, ax\n",
    "\n",
    "fig,ax = make_axis_size(3, 4, left=.3, bottom=.3, right=0, top=0)\n",
    "\n",
    "################################################################################################################\n",
    "\n",
    "#Plot figure\n",
    "\n",
    "def plotBestFreqStack(ax,x,ylims,best_freqs,weights,width = 0.4,tntls=['-','-']):\n",
    "    tones_250 = [4000,8000,16000,32000,64000]\n",
    "    tones_350 = [4000,5648,8000,11260,16000,32000,64000]\n",
    "    tones_450 = [4000,5648,8000,11260,16000,22627,32000,45255,64000]\n",
    "    freqs_to_consider = tones_350\n",
    "    cmap = mpl.cm.get_cmap('Set2')\n",
    "    #colors_to_use = cmap(np.linspace(0,1,len(freqs_to_consider)))\n",
    "    #colors_to_use = ['#80689D','#4D4C55','#78B0AC','#a4b49c','#76a5af','#3d85c6','#B6888E']\n",
    "    colors_to_use = ['#A9A7BE','#A4B7C9','#AED2C6','#C7DEC8','#ECCBB3','#E4AFA7','#D5A2A9']\n",
    "    for idx,color in enumerate(colors_to_use):\n",
    "        r,g,b = mpl.colors.to_rgb(color)\n",
    "        h,l,s = colorsys.rgb_to_hls(r,g,b)\n",
    "        color=np.concatenate([colorsys.hls_to_rgb(h,(1-(1-l)*1)*1,s*1),[1]])\n",
    "        colors_to_use[idx] = color\n",
    "    #colors_to_use = mpl.colors.Colormap('plasma',len(freqs_to_consider))\n",
    "    \n",
    "    total_weight = 0\n",
    "    for tone in freqs_to_consider:\n",
    "        this_tone_idx = np.equal(best_freqs,tone)\n",
    "        total_weight += np.sum(weights[this_tone_idx])\n",
    "        \n",
    "    current_total = 0\n",
    "    last_breakpoints = []\n",
    "    breakpoints = [0]\n",
    "    for idx,tone in enumerate(freqs_to_consider):\n",
    "        this_tone_idx = np.equal(best_freqs,tone)\n",
    "        this_tone_weight = np.sum(weights[this_tone_idx])\n",
    "        if tone == 5648:\n",
    "            ax.fill_between([x-width/2,x+width/2],[current_total/total_weight]*2,[(current_total+this_tone_weight)/total_weight]*2,color=colors_to_use[idx],lw=0.65)\n",
    "            ax.fill_between([x-width/2,x+width/2],[current_total/total_weight]*2,[(current_total+this_tone_weight)/total_weight]*2,color=colors_to_use[idx],lw=1,linestyle=tntls[0],edgecolor='k',zorder=10)#,hatch='XXXXXX'\n",
    "        elif tone == 11260:\n",
    "            ax.fill_between([x-width/2,x+width/2],[current_total/total_weight]*2,[(current_total+this_tone_weight)/total_weight]*2,color=colors_to_use[idx],lw=0.65)\n",
    "            ax.fill_between([x-width/2,x+width/2],[current_total/total_weight]*2,[(current_total+this_tone_weight)/total_weight]*2,color=colors_to_use[idx],lw=1,linestyle=tntls[1],edgecolor='k',zorder=10)\n",
    "        else:\n",
    "            ax.fill_between([x-width/2,x+width/2],[current_total/total_weight]*2,[(current_total+this_tone_weight)/total_weight]*2,color=colors_to_use[idx],lw=0.65)\n",
    "        current_total += this_tone_weight\n",
    "        breakpoints.append(current_total)\n",
    "        \n",
    "    return (breakpoints/total_weight)\n",
    "\n",
    "def plotConnectingLines(breakpre,breakpost,X,width=0.125):\n",
    "    cmap = mpl.cm.get_cmap('Set2')\n",
    "    #colors_to_use = ['#80689D','#4D4C55','#78B0AC','#a4b49c','#76a5af','#3d85c6','#B6888E']\n",
    "    #colors_to_use = ['#b6888e','#80689D','#3d85c6','#78a5af','#78b0ac','#a4b49c','#4d4c55']\n",
    "    colors_to_use = ['#A9A7BE','#A4B7C9','#AED2C6','#C7DEC8','#ECCBB3','#E4AFA7','#D5A2A9']\n",
    "    for idx,color in enumerate(colors_to_use):\n",
    "        r,g,b = mpl.colors.to_rgb(color)\n",
    "        h,l,s = colorsys.rgb_to_hls(r,g,b)\n",
    "        color=np.concatenate([colorsys.hls_to_rgb(h,(1-(1-l)*1)*1,s*1),[1]])\n",
    "        colors_to_use[idx] = color\n",
    "        \n",
    "        Y1 = [breakpre[idx],breakpost[idx]]\n",
    "        Y2 = [breakpre[idx+1],breakpost[idx+1]]\n",
    "        Xplot = [X[0]+width,X[1]-width]\n",
    "        \n",
    "        ax.fill_between(Xplot,Y1,Y2,color=colors_to_use[idx],alpha=0.125,lw=0,zorder=-30)\n",
    "\n",
    "breakspreEa = plotBestFreqStack(ax,0,[],pre_early_best_freqs,pre_early_weights,tntls=['--','-'])\n",
    "breakspreLa = plotBestFreqStack(ax,1,[],pre_late_best_freqs,pre_late_weights,tntls=['--','-'])\n",
    "#plotConnectingLines(breakspreEa,breakspreLa,[0,1])\n",
    "breakspreEx = plotBestFreqStack(ax,2,[],pre_expert_best_freqs,pre_expert_weights,tntls=['--','-'])\n",
    "#plotConnectingLines(breakspreLa,breakspreEx,[1,2])\n",
    "breakspostEa = plotBestFreqStack(ax,3,[],post_early_best_freqs,post_early_weights,tntls=['-','--'])\n",
    "#plotConnectingLines(breakspreEx,breakspostEa,[2,3])\n",
    "breakspostLa = plotBestFreqStack(ax,4,[],post_late_best_freqs,post_late_weights,tntls=['-','--'])\n",
    "#plotConnectingLines(breakspostEa,breakspostLa,[3,4])\n",
    "breakspostEx = plotBestFreqStack(ax,5,[],post_expert_best_freqs,post_expert_weights,tntls=['-','--'])\n",
    "#plotConnectingLines(breakspostLa,breakspostEx,[4,5])\n",
    "\n",
    "tones_250 = [4000,8000,16000,32000,64000]\n",
    "tones_350 = [4000,5648,8000,11260,16000,32000,64000]\n",
    "tones_450 = [4000,5648,8000,11260,16000,22627,32000,45255,64000]\n",
    "tones_to_use = tones_350\n",
    "cmap = mpl.cm.get_cmap('Set2')\n",
    "colors_to_use = ['#A9A7BE','#A4B7C9','#AED2C6','#C7DEC8','#ECCBB3','#E4AFA7','#D5A2A9']\n",
    "for idx,tone in enumerate(tones_to_use):\n",
    "    ax.fill_between([],[],[],color = colors_to_use[idx],label=str(np.floor(tone/100)/10),lw=0.65)\n",
    "ax.fill_between([],[],[],color = 'white', ec = 'k', lw=0.65, linestyle='-',label='target')\n",
    "ax.fill_between([],[],[],color = 'white', ec = 'k', lw=0.65, linestyle='--',label='non-target')\n",
    "\n",
    "################################################################################################################\n",
    "\n",
    "labels = ['Early','Late','Expert','Early','Late','Expert']\n",
    "\n",
    "ax.set_ylim([0,1])\n",
    "ax.set_yticks([0,0.2,0.4,0.6,0.8,1])\n",
    "ax.set_yticklabels(['0','20','40','60','80','100'])\n",
    "ylab = ax.set_ylabel('Cumulative percent of units')\n",
    "\n",
    "numCon = 6\n",
    "ax.set_xlim([-0.5,5.5])\n",
    "ax.set_xticks(range(numCon))\n",
    "ax.set_xticklabels(labels)\n",
    "ax.set_xlim(ax.get_xlim())\n",
    "\n",
    "xtick_pos_pre = ax.get_xticks()[1]\n",
    "xtick_pos_post = ax.get_xticks()[4]\n",
    "Yval = ilep.getPrePostLabelYval(ax.get_ylim(),Yfrac=-2*stdyfrac)\n",
    "t1 = ax.text(xtick_pos_pre, Yval, 'Pre', ha='center', va='bottom', fontsize=stdfont,color='k')\n",
    "t2 = ax.text(xtick_pos_post, Yval, 'Post', ha='center', va='bottom',  fontsize=stdfont,color='k')\n",
    "ax.annotate('', xy=(0.03, -stdyfrac), xycoords='axes fraction', xytext=(0.49, -stdyfrac),arrowprops=dict(arrowstyle='-', color='black'))\n",
    "ax.annotate('', xy=(0.53, -stdyfrac), xycoords='axes fraction', xytext=(0.99, -stdyfrac),arrowprops=dict(arrowstyle='-', color='black'))\n",
    "\n",
    "\n",
    "ax.tick_params(direction='in', length=6, width=1)\n",
    "\n",
    "for item in ([ax.title, ax.xaxis.label, ax.yaxis.label] +\n",
    "    ax.get_xticklabels() + ax.get_yticklabels()):\n",
    "    item.set_fontsize(stdfont)\n",
    "for item in (ax.get_xticklabels()):\n",
    "    item.set_fontsize(stdfont*0.9)\n",
    "    pass\n",
    "\n",
    "### Log\n",
    "# Y = 10**np.mean(np.log10(ax.get_ylim()))\n",
    "# t = ax.text(2.5,Y,'Reversal',rotation=90,fontsize=stdfont,color=SWITCH_COLOR,horizontalalignment='center',verticalalignment='center')\n",
    "# ax.plot([2.5]*2,[ax.get_ylim()[0],Y*0.45],lw=1,color=SWITCH_COLOR)\n",
    "# ax.plot([2.5]*2,[ax.get_ylim()[1],Y/0.45],lw=1,color=SWITCH_COLOR)\n",
    "\n",
    "### Linear\n",
    "Y = np.mean(ax.get_ylim())\n",
    "t = ax.text(2.5,Y,'Reversal',rotation=90,fontsize=stdfont,color=SWITCH_COLOR,horizontalalignment='center',verticalalignment='center')\n",
    "ax.plot([2.5]*2,[ax.get_ylim()[0],Y-Y*0.25],lw=1,color=SWITCH_COLOR)\n",
    "ax.plot([2.5]*2,[ax.get_ylim()[1],Y+Y*0.25],lw=1,color=SWITCH_COLOR)\n",
    "\n",
    "artists = [ylab,t1,t2]\n",
    "\n",
    "fig.savefig(os.path.join('C:\\\\Users\\insan\\\\Desktop\\\\Figure2\\\\Best frequency over learning.pdf'),transparent=False,facecolor=\"white\",dpi=400, bbox_extra_artists=(artists), bbox_inches='tight')"
   ]
  },
  {
   "cell_type": "markdown",
   "id": "f96a58ba-a3e6-4c82-8579-b068ae2778d0",
   "metadata": {},
   "source": [
    "# V1"
   ]
  },
  {
   "cell_type": "code",
   "execution_count": 10,
   "id": "ea96a7c1-a2cd-4ae4-b3a9-8c6f2c9c87a5",
   "metadata": {},
   "outputs": [
    {
     "ename": "TypeError",
     "evalue": "only integer scalar arrays can be converted to a scalar index",
     "output_type": "error",
     "traceback": [
      "\u001b[1;31m---------------------------------------------------------------------------\u001b[0m",
      "\u001b[1;31mTypeError\u001b[0m                                 Traceback (most recent call last)",
      "Cell \u001b[1;32mIn[10], line 60\u001b[0m\n\u001b[0;32m     58\u001b[0m fig, ax \u001b[38;5;241m=\u001b[39m plt\u001b[38;5;241m.\u001b[39msubplots(figsize\u001b[38;5;241m=\u001b[39m(\u001b[38;5;241m4\u001b[39m,\u001b[38;5;241m4.5\u001b[39m))\n\u001b[0;32m     59\u001b[0m \u001b[38;5;66;03m#fig,ax = plt.subplots(figsize=(4,3))\u001b[39;00m\n\u001b[1;32m---> 60\u001b[0m breakspreEa \u001b[38;5;241m=\u001b[39m \u001b[43mplotBestFreqStack\u001b[49m\u001b[43m(\u001b[49m\u001b[43max\u001b[49m\u001b[43m,\u001b[49m\u001b[38;5;241;43m0\u001b[39;49m\u001b[43m,\u001b[49m\u001b[43m[\u001b[49m\u001b[43m]\u001b[49m\u001b[43m,\u001b[49m\u001b[43mpre_early_best_freqs\u001b[49m\u001b[43m,\u001b[49m\u001b[43mpre_early_weights\u001b[49m\u001b[43m,\u001b[49m\u001b[43mtntls\u001b[49m\u001b[38;5;241;43m=\u001b[39;49m\u001b[43m[\u001b[49m\u001b[38;5;124;43m'\u001b[39;49m\u001b[38;5;124;43m--\u001b[39;49m\u001b[38;5;124;43m'\u001b[39;49m\u001b[43m,\u001b[49m\u001b[38;5;124;43m'\u001b[39;49m\u001b[38;5;124;43m-\u001b[39;49m\u001b[38;5;124;43m'\u001b[39;49m\u001b[43m]\u001b[49m\u001b[43m)\u001b[49m\n\u001b[0;32m     61\u001b[0m breakspreLa \u001b[38;5;241m=\u001b[39m plotBestFreqStack(ax,\u001b[38;5;241m1\u001b[39m,[],pre_late_best_freqs,pre_late_weights,tntls\u001b[38;5;241m=\u001b[39m[\u001b[38;5;124m'\u001b[39m\u001b[38;5;124m--\u001b[39m\u001b[38;5;124m'\u001b[39m,\u001b[38;5;124m'\u001b[39m\u001b[38;5;124m-\u001b[39m\u001b[38;5;124m'\u001b[39m])\n\u001b[0;32m     62\u001b[0m \u001b[38;5;66;03m#plotConnectingLines(breakspreEa,breakspreLa,[0,1])\u001b[39;00m\n",
      "Cell \u001b[1;32mIn[10], line 20\u001b[0m, in \u001b[0;36mplotBestFreqStack\u001b[1;34m(ax, x, ylims, best_freqs, weights, width, tntls)\u001b[0m\n\u001b[0;32m     18\u001b[0m \u001b[38;5;28;01mfor\u001b[39;00m tone \u001b[38;5;129;01min\u001b[39;00m freqs_to_consider:\n\u001b[0;32m     19\u001b[0m     this_tone_idx \u001b[38;5;241m=\u001b[39m np\u001b[38;5;241m.\u001b[39mequal(best_freqs,tone)\n\u001b[1;32m---> 20\u001b[0m     total_weight \u001b[38;5;241m+\u001b[39m\u001b[38;5;241m=\u001b[39m np\u001b[38;5;241m.\u001b[39msum(\u001b[43mweights\u001b[49m\u001b[43m[\u001b[49m\u001b[43mthis_tone_idx\u001b[49m\u001b[43m]\u001b[49m)\n\u001b[0;32m     22\u001b[0m current_total \u001b[38;5;241m=\u001b[39m \u001b[38;5;241m0\u001b[39m\n\u001b[0;32m     23\u001b[0m last_breakpoints \u001b[38;5;241m=\u001b[39m []\n",
      "\u001b[1;31mTypeError\u001b[0m: only integer scalar arrays can be converted to a scalar index"
     ]
    },
    {
     "data": {
      "image/png": "[encoded data removed]",
      "text/plain": [
       "<Figure size 600x675 with 1 Axes>"
      ]
     },
     "metadata": {},
     "output_type": "display_data"
    }
   ],
   "source": [
    "def plotBestFreqStack(ax,x,ylims,best_freqs,weights,width = 0.4,tntls=['-','-']):\n",
    "    tones_250 = [4000,8000,16000,32000,64000]\n",
    "    tones_350 = [4000,5648,8000,11260,16000,32000,64000]\n",
    "    tones_450 = [4000,5648,8000,11260,16000,22627,32000,45255,64000]\n",
    "    freqs_to_consider = tones_350\n",
    "    cmap = mpl.cm.get_cmap('Set2')\n",
    "    #colors_to_use = cmap(np.linspace(0,1,len(freqs_to_consider)))\n",
    "    #colors_to_use = ['#80689D','#4D4C55','#78B0AC','#a4b49c','#76a5af','#3d85c6','#B6888E']\n",
    "    colors_to_use = ['#A9A7BE','#A4B7C9','#AED2C6','#C7DEC8','#ECCBB3','#E4AFA7','#D5A2A9']\n",
    "    for idx,color in enumerate(colors_to_use):\n",
    "        r,g,b = mpl.colors.to_rgb(color)\n",
    "        h,l,s = colorsys.rgb_to_hls(r,g,b)\n",
    "        color=np.concatenate([colorsys.hls_to_rgb(h,(1-(1-l)*1)*1,s*1),[1]])\n",
    "        colors_to_use[idx] = color\n",
    "    #colors_to_use = mpl.colors.Colormap('plasma',len(freqs_to_consider))\n",
    "    \n",
    "    total_weight = 0\n",
    "    for tone in freqs_to_consider:\n",
    "        this_tone_idx = np.equal(best_freqs,tone)\n",
    "        total_weight += np.sum(weights[this_tone_idx])\n",
    "        \n",
    "    current_total = 0\n",
    "    last_breakpoints = []\n",
    "    breakpoints = [0]\n",
    "    for idx,tone in enumerate(freqs_to_consider):\n",
    "        this_tone_idx = np.equal(best_freqs,tone)\n",
    "        this_tone_weight = np.sum(weights[this_tone_idx])\n",
    "        if tone == 5648:\n",
    "            ax.fill_between([x-width/2,x+width/2],[current_total/total_weight]*2,[(current_total+this_tone_weight)/total_weight]*2,color=colors_to_use[idx],lw=0.65)\n",
    "            ax.fill_between([x-width/2,x+width/2],[current_total/total_weight]*2,[(current_total+this_tone_weight)/total_weight]*2,color=colors_to_use[idx],lw=1,linestyle=tntls[0],edgecolor='k',zorder=10)#,hatch='XXXXXX'\n",
    "        elif tone == 11260:\n",
    "            ax.fill_between([x-width/2,x+width/2],[current_total/total_weight]*2,[(current_total+this_tone_weight)/total_weight]*2,color=colors_to_use[idx],lw=0.65)\n",
    "            ax.fill_between([x-width/2,x+width/2],[current_total/total_weight]*2,[(current_total+this_tone_weight)/total_weight]*2,color=colors_to_use[idx],lw=1,linestyle=tntls[1],edgecolor='k',zorder=10)\n",
    "        else:\n",
    "            ax.fill_between([x-width/2,x+width/2],[current_total/total_weight]*2,[(current_total+this_tone_weight)/total_weight]*2,color=colors_to_use[idx],lw=0.65)\n",
    "        current_total += this_tone_weight\n",
    "        breakpoints.append(current_total)\n",
    "        \n",
    "    return (breakpoints/total_weight)\n",
    "\n",
    "def plotConnectingLines(breakpre,breakpost,X,width=0.125):\n",
    "    cmap = mpl.cm.get_cmap('Set2')\n",
    "    #colors_to_use = ['#80689D','#4D4C55','#78B0AC','#a4b49c','#76a5af','#3d85c6','#B6888E']\n",
    "    #colors_to_use = ['#b6888e','#80689D','#3d85c6','#78a5af','#78b0ac','#a4b49c','#4d4c55']\n",
    "    colors_to_use = ['#A9A7BE','#A4B7C9','#AED2C6','#C7DEC8','#ECCBB3','#E4AFA7','#D5A2A9']\n",
    "    for idx,color in enumerate(colors_to_use):\n",
    "        r,g,b = mpl.colors.to_rgb(color)\n",
    "        h,l,s = colorsys.rgb_to_hls(r,g,b)\n",
    "        color=np.concatenate([colorsys.hls_to_rgb(h,(1-(1-l)*1)*1,s*1),[1]])\n",
    "        colors_to_use[idx] = color\n",
    "        \n",
    "        Y1 = [breakpre[idx],breakpost[idx]]\n",
    "        Y2 = [breakpre[idx+1],breakpost[idx+1]]\n",
    "        Xplot = [X[0]+width,X[1]-width]\n",
    "        \n",
    "        ax.fill_between(Xplot,Y1,Y2,color=colors_to_use[idx],alpha=0.125,lw=0,zorder=-30)\n",
    "\n",
    "fig, ax = plt.subplots(figsize=(4,4.5))\n",
    "#fig,ax = plt.subplots(figsize=(4,3))\n",
    "breakspreEa = plotBestFreqStack(ax,0,[],pre_early_best_freqs,pre_early_weights,tntls=['--','-'])\n",
    "breakspreLa = plotBestFreqStack(ax,1,[],pre_late_best_freqs,pre_late_weights,tntls=['--','-'])\n",
    "#plotConnectingLines(breakspreEa,breakspreLa,[0,1])\n",
    "breakspreEx = plotBestFreqStack(ax,2,[],pre_expert_best_freqs,pre_expert_weights,tntls=['--','-'])\n",
    "#plotConnectingLines(breakspreLa,breakspreEx,[1,2])\n",
    "breakspostEa = plotBestFreqStack(ax,3,[],post_early_best_freqs,post_early_weights,tntls=['-','--'])\n",
    "#plotConnectingLines(breakspreEx,breakspostEa,[2,3])\n",
    "breakspostLa = plotBestFreqStack(ax,4,[],post_late_best_freqs,post_late_weights,tntls=['-','--'])\n",
    "#plotConnectingLines(breakspostEa,breakspostLa,[3,4])\n",
    "breakspostEx = plotBestFreqStack(ax,5,[],post_expert_best_freqs,post_expert_weights,tntls=['-','--'])\n",
    "#plotConnectingLines(breakspostLa,breakspostEx,[4,5])\n",
    "\n",
    "tones_250 = [4000,8000,16000,32000,64000]\n",
    "tones_350 = [4000,5648,8000,11260,16000,32000,64000]\n",
    "tones_450 = [4000,5648,8000,11260,16000,22627,32000,45255,64000]\n",
    "tones_to_use = tones_350\n",
    "cmap = mpl.cm.get_cmap('Set2')\n",
    "colors_to_use = ['#A9A7BE','#A4B7C9','#AED2C6','#C7DEC8','#ECCBB3','#E4AFA7','#D5A2A9']\n",
    "for idx,tone in enumerate(tones_to_use):\n",
    "    ax.fill_between([],[],[],color = colors_to_use[idx],label=str(np.floor(tone/100)/10),lw=0.65)\n",
    "ax.fill_between([],[],[],color = 'white', ec = 'k', lw=0.65, linestyle='-',label='target')\n",
    "ax.fill_between([],[],[],color = 'white', ec = 'k', lw=0.65, linestyle='--',label='non-target')\n",
    "\n",
    "labels = ['Early','Late','Expert','Early','Late','Expert']\n",
    "\n",
    "ax.set_xlim([-0.5,5.5])\n",
    "ax.set_xticks(range(6))\n",
    "ax.set_xticklabels(labels)\n",
    "ax.set_xlim(ax.get_xlim())\n",
    "size = 5\n",
    "rev = 2.5\n",
    "center = np.mean(ax.get_ylim())\n",
    "\n",
    "ax.text(rev,center,'Reversal',color=SWITCH_COLOR,horizontalalignment='center',verticalalignment='center',rotation=90)\n",
    "ax.plot([rev,rev],[ax.get_ylim()[0],center/2],color=SWITCH_COLOR,lw=1,linestyle='-')\n",
    "ax.plot([rev,rev],[center*2,ax.get_ylim()[1]],color=SWITCH_COLOR,lw=1,linestyle='-')\n",
    "\n",
    "ax.set_ylim([0,1])\n",
    "ax.set_yticks([0,0.2,0.4,0.6,0.8,1])\n",
    "ax.set_yticklabels(['0','20','40','60','80','100'])\n",
    "ax.set_ylabel('Cumulative percent of units')\n",
    "\n",
    "#ax.legend(frameon=False,loc=[1,0.35])\n",
    "\n",
    "# ax.text(0,1.01,int(np.sum(pre_early_weights)),horizontalalignment='center',verticalalignment='bottom',fontsize=10)\n",
    "# ax.text(1,1.01,int(np.sum(pre_late_weights)),horizontalalignment='center',verticalalignment='bottom',fontsize=10)\n",
    "# ax.text(2,1.01,int(np.sum(pre_expert_weights)),horizontalalignment='center',verticalalignment='bottom',fontsize=10)\n",
    "# ax.text(3,1.01,int(np.sum(post_early_weights)),horizontalalignment='center',verticalalignment='bottom',fontsize=10)\n",
    "# ax.text(4,1.01,int(np.sum(post_late_weights)),horizontalalignment='center',verticalalignment='bottom',fontsize=10)\n",
    "# ax.text(5,1.01,int(np.sum(post_expert_weights)),horizontalalignment='center',verticalalignment='bottom',fontsize=10)\n",
    "\n",
    "xtick_pos_pre = ax.get_xticks()[1]\n",
    "xtick_pos_post = ax.get_xticks()[4]\n",
    "ax.text(xtick_pos_pre, -0.13304656298982956/1.5, 'Pre', ha='center', va='top', fontsize=14)\n",
    "ax.text(xtick_pos_post, -0.13304656298982956/1.5, 'Post', ha='center', va='top',  fontsize=14)\n",
    "ax.annotate('', xy=(0.03, -0.07), xycoords='axes fraction', xytext=(0.485, -0.07),arrowprops=dict(arrowstyle='-', color='black'))\n",
    "ax.annotate('', xy=(0.53, -0.07), xycoords='axes fraction', xytext=(0.985, -0.07),arrowprops=dict(arrowstyle='-', color='black'))\n",
    "\n",
    "plt.tight_layout()\n",
    "\n",
    "\n",
    "#fig.savefig(os.path.join('/Users/InsanallyLab/Desktop/Tiange Mac Folder/Figures','Best frequency over learning with TH_217.pdf'),transparent=False,facecolor=\"white\")\n",
    "#fig.savefig(os.path.join ('C:\\\\Users\\insan\\\\Desktop\\\\Figure2\\\\Best frequency over learning.pdf'),transparent=False,facecolor=\"white\")\n",
    "#fig.savefig(os.path.join('D:\\\\\\\\Figures','Automated Behavior Figures','Automated best frequency over learning LEGEND.pdf'),transparent=False,facecolor=\"white\")\n",
    "#fig.savefig(os.path.join('D:\\\\\\\\Figures','Manuscript Figures','Best frequency over learning.pdf'),transparent=False,facecolor=\"white\")"
   ]
  },
  {
   "cell_type": "code",
   "execution_count": null,
   "id": "6a87158c-3390-4f51-b10e-5b108574fa89",
   "metadata": {},
   "outputs": [],
   "source": []
  },
  {
   "cell_type": "code",
   "execution_count": null,
   "id": "03d50755-c920-48dd-b1c3-13ecb27b3ca8",
   "metadata": {},
   "outputs": [],
   "source": []
  },
  {
   "cell_type": "code",
   "execution_count": null,
   "id": "2ca26235-4616-4f1e-9b65-f11049429268",
   "metadata": {},
   "outputs": [],
   "source": []
  },
  {
   "cell_type": "code",
   "execution_count": null,
   "id": "4a43849d-6cd3-4117-8ada-be06bacb2086",
   "metadata": {},
   "outputs": [],
   "source": []
  },
  {
   "cell_type": "code",
   "execution_count": null,
   "id": "d01e422d-22d2-48c0-90da-9a7dc37e5fa3",
   "metadata": {},
   "outputs": [],
   "source": []
  },
  {
   "cell_type": "code",
   "execution_count": null,
   "id": "1262fb60-33da-48f1-bb63-095dbaa353f5",
   "metadata": {},
   "outputs": [],
   "source": []
  },
  {
   "cell_type": "code",
   "execution_count": null,
   "id": "ce9ed227-ca52-4bd1-a70b-f02b54719162",
   "metadata": {},
   "outputs": [],
   "source": []
  },
  {
   "cell_type": "code",
   "execution_count": null,
   "id": "cd84c38a-c745-4ff0-82e1-b524ef4e4e29",
   "metadata": {},
   "outputs": [],
   "source": []
  },
  {
   "cell_type": "code",
   "execution_count": null,
   "id": "8b9272aa-4a71-40f1-8e6a-d0158a45e7be",
   "metadata": {},
   "outputs": [],
   "source": []
  },
  {
   "cell_type": "code",
   "execution_count": null,
   "id": "5fdc6e31-376a-4706-a6a2-a8d55b735c11",
   "metadata": {},
   "outputs": [],
   "source": []
  },
  {
   "cell_type": "code",
   "execution_count": null,
   "id": "fbc86615-6e79-434a-9021-d58bc0557bdb",
   "metadata": {},
   "outputs": [],
   "source": []
  },
  {
   "cell_type": "code",
   "execution_count": null,
   "id": "5ffdb9f3-6258-4b80-8e10-804d04b7a4fd",
   "metadata": {},
   "outputs": [],
   "source": []
  },
  {
   "cell_type": "markdown",
   "id": "119bb9e1-ec49-48e7-8ee5-2dba8b36c0a5",
   "metadata": {},
   "source": [
    "# Tuning Stats"
   ]
  },
  {
   "cell_type": "code",
   "execution_count": 43,
   "id": "bd348bfd-004a-4322-9f67-5ee49e509fd9",
   "metadata": {},
   "outputs": [
    {
     "data": {
      "text/plain": [
       "array([22627,  4000,  8000,  4000,  8000, 16000, 22627,  8000, 22627,\n",
       "       22627,  4000, 11260, 45255,  8000, 22627, 16000, 32000, 11260,\n",
       "       22627, 32000, 32000, 45255, 16000, 11260, 45255, 32000, 22627,\n",
       "        8000, 16000, 11260, 11260, 64000, 11260, 32000, 11260,  5648,\n",
       "       32000, 16000, 32000,  8000,  4000, 64000, 16000,  4000, 64000,\n",
       "        5648,  8000, 16000, 32000, 64000,  8000, 45255,  5648, 64000,\n",
       "       22627,  8000,  4000,  8000, 11260, 64000, 11260, 16000, 45255,\n",
       "       45255, 16000,  5648,  8000, 11260, 45255, 45255, 64000, 45255,\n",
       "        5648, 11260, 22627, 22627, 64000, 45255,  5648,  5648,  8000,\n",
       "        8000,  8000, 16000, 45255,  8000, 32000,  4000, 45255, 11260,\n",
       "       11260, 64000,  8000,  5648,  5648, 16000,  4000, 22627,  4000,\n",
       "        5648,  8000, 11260, 16000, 22627, 32000, 45255, 64000, 22627,\n",
       "       64000, 32000,  4000, 45255, 16000, 16000,  5648,  5648,  8000,\n",
       "        5648,  5648,  8000,  8000,  5648,  4000, 22627, 16000, 16000,\n",
       "       11260, 16000,  8000,  8000, 22627, 64000, 11260, 11260, 64000,\n",
       "        8000, 11260,  8000, 64000, 22627, 22627,  8000,  8000,  5648,\n",
       "        5648, 32000, 45255, 64000,  8000, 32000, 11260,  8000, 45255,\n",
       "        8000,  4000,  5648,  8000, 22627, 32000, 45255, 64000, 64000,\n",
       "        4000,  8000, 11260,  4000, 16000, 16000,  4000, 22627, 22627,\n",
       "       22627,  8000, 11260, 22627, 11260,  4000,  5648,  8000,  4000,\n",
       "        4000,  8000, 45255,  8000,  8000,  8000,  5648,  8000, 11260,\n",
       "        8000, 32000, 11260, 16000,  4000, 32000, 22627,  5648,  5648,\n",
       "       32000, 32000, 32000,  4000,  5648, 32000, 11260,  5648, 11260,\n",
       "       22627, 32000,  4000,  4000, 22627, 32000, 45255, 32000, 45255,\n",
       "       16000,  5648,  5648, 11260, 16000, 16000, 64000,  4000, 32000,\n",
       "       64000, 45255, 64000,  8000,  8000, 11260, 32000,  5648,  4000,\n",
       "       16000, 32000, 11260,  5648, 64000,  8000, 45255, 45255, 45255,\n",
       "       64000, 45255,  8000, 32000, 11260, 16000, 11260, 22627,  8000,\n",
       "       16000,  5648, 11260,  5648, 45255, 11260, 16000,  5648, 16000,\n",
       "       22627,  4000,  8000, 45255, 45255, 16000, 11260,  5648, 45255,\n",
       "       22627,  8000, 64000, 22627,  5648, 32000, 11260,  4000,  5648,\n",
       "        4000, 64000,  5648,  5648, 11260, 64000,  4000, 22627,  5648,\n",
       "       64000, 22627, 22627, 45255,  8000, 11260, 64000, 32000,  4000,\n",
       "       22627, 32000,  4000,  5648, 64000,  8000, 16000, 11260, 16000,\n",
       "        5648, 11260,  5648, 16000, 45255,  4000,  5648, 22627,  8000,\n",
       "        5648, 11260, 16000,  8000, 16000, 16000,  8000,  5648, 32000,\n",
       "       16000, 11260, 16000, 22627, 22627, 11260, 16000, 32000, 16000,\n",
       "       45255, 11260, 11260, 32000,  4000, 64000, 64000, 22627, 45255,\n",
       "        4000,  8000, 11260,  8000, 45255, 64000, 64000,  4000, 22627,\n",
       "       22627, 16000, 64000, 16000, 32000,  5648,  8000,  5648, 16000,\n",
       "       22627, 11260,  8000, 11260])"
      ]
     },
     "execution_count": 43,
     "metadata": {},
     "output_type": "execute_result"
    }
   ],
   "source": [
    "pre_early_best_freqs"
   ]
  },
  {
   "cell_type": "code",
   "execution_count": 14,
   "id": "f4db90c6-a7bf-4e5d-87b4-eb6dd81e2bbf",
   "metadata": {
    "collapsed": true,
    "jupyter": {
     "outputs_hidden": true
    },
    "tags": []
   },
   "outputs": [
    {
     "name": "stderr",
     "output_type": "stream",
     "text": [
      "7it [00:00, 60.33it/s]"
     ]
    },
    {
     "name": "stdout",
     "output_type": "stream",
     "text": [
      "BS_173\n"
     ]
    },
    {
     "name": "stderr",
     "output_type": "stream",
     "text": [
      "660it [00:19, 38.08it/s]"
     ]
    },
    {
     "name": "stdout",
     "output_type": "stream",
     "text": [
      "Success\n",
      "Success\n",
      "Success\n",
      "Success\n",
      "Success\n",
      "Success\n"
     ]
    },
    {
     "name": "stderr",
     "output_type": "stream",
     "text": [
      "665it [00:19, 28.24it/s]"
     ]
    },
    {
     "name": "stdout",
     "output_type": "stream",
     "text": [
      "Success\n",
      "Success\n",
      "Success\n",
      "Success\n"
     ]
    },
    {
     "name": "stderr",
     "output_type": "stream",
     "text": [
      "669it [00:20, 25.79it/s]"
     ]
    },
    {
     "name": "stdout",
     "output_type": "stream",
     "text": [
      "Success\n",
      "Success\n",
      "Success\n",
      "Success\n",
      "Success\n"
     ]
    },
    {
     "name": "stderr",
     "output_type": "stream",
     "text": [
      "675it [00:20, 25.06it/s]"
     ]
    },
    {
     "name": "stdout",
     "output_type": "stream",
     "text": [
      "Success\n",
      "Success\n",
      "Success\n",
      "Success\n",
      "Success\n",
      "Success\n"
     ]
    },
    {
     "name": "stderr",
     "output_type": "stream",
     "text": [
      "681it [00:20, 23.87it/s]"
     ]
    },
    {
     "name": "stdout",
     "output_type": "stream",
     "text": [
      "Success\n",
      "Success\n",
      "Success\n",
      "Success\n",
      "Success\n"
     ]
    },
    {
     "name": "stderr",
     "output_type": "stream",
     "text": [
      "684it [00:20, 23.20it/s]"
     ]
    },
    {
     "name": "stdout",
     "output_type": "stream",
     "text": [
      "Success\n",
      "Success\n",
      "Success\n"
     ]
    },
    {
     "name": "stderr",
     "output_type": "stream",
     "text": [
      "690it [00:21, 19.28it/s]"
     ]
    },
    {
     "name": "stdout",
     "output_type": "stream",
     "text": [
      "Success\n",
      "Success\n",
      "Success\n",
      "Success\n",
      "Success\n"
     ]
    },
    {
     "name": "stderr",
     "output_type": "stream",
     "text": [
      "693it [00:21, 20.13it/s]"
     ]
    },
    {
     "name": "stdout",
     "output_type": "stream",
     "text": [
      "Success\n",
      "Success\n",
      "Success\n",
      "Success\n",
      "Success\n"
     ]
    },
    {
     "name": "stderr",
     "output_type": "stream",
     "text": [
      "699it [00:21, 21.42it/s]"
     ]
    },
    {
     "name": "stdout",
     "output_type": "stream",
     "text": [
      "Success\n",
      "Success\n",
      "Success\n",
      "Success\n",
      "Success\n"
     ]
    },
    {
     "name": "stderr",
     "output_type": "stream",
     "text": [
      "702it [00:21, 21.84it/s]"
     ]
    },
    {
     "name": "stdout",
     "output_type": "stream",
     "text": [
      "Success\n",
      "Success\n",
      "Success\n",
      "Success\n"
     ]
    },
    {
     "name": "stderr",
     "output_type": "stream",
     "text": [
      "707it [00:22, 17.79it/s]"
     ]
    },
    {
     "name": "stdout",
     "output_type": "stream",
     "text": [
      "Success\n",
      "Success\n",
      "Success\n",
      "Success\n",
      "Success\n"
     ]
    },
    {
     "name": "stderr",
     "output_type": "stream",
     "text": [
      "712it [00:22, 19.20it/s]"
     ]
    },
    {
     "name": "stdout",
     "output_type": "stream",
     "text": [
      "Success\n",
      "Success\n",
      "Success\n",
      "Success\n",
      "Success\n"
     ]
    },
    {
     "name": "stderr",
     "output_type": "stream",
     "text": [
      "718it [00:22, 20.54it/s]"
     ]
    },
    {
     "name": "stdout",
     "output_type": "stream",
     "text": [
      "Success\n",
      "Success\n",
      "Success\n",
      "Success\n"
     ]
    },
    {
     "name": "stderr",
     "output_type": "stream",
     "text": [
      "721it [00:22, 21.04it/s]"
     ]
    },
    {
     "name": "stdout",
     "output_type": "stream",
     "text": [
      "Success\n",
      "Success\n",
      "Success\n",
      "Success\n",
      "Success\n"
     ]
    },
    {
     "name": "stderr",
     "output_type": "stream",
     "text": [
      "728it [00:23, 23.02it/s]"
     ]
    },
    {
     "name": "stdout",
     "output_type": "stream",
     "text": [
      "Success\n",
      "Success\n",
      "Success\n",
      "Success\n",
      "Success\n",
      "Success\n",
      "Success\n",
      "Success\n",
      "Success\n"
     ]
    },
    {
     "name": "stderr",
     "output_type": "stream",
     "text": [
      "738it [00:23, 33.18it/s]"
     ]
    },
    {
     "name": "stdout",
     "output_type": "stream",
     "text": [
      "Success\n",
      "Success\n",
      "Success\n",
      "Success\n",
      "Success\n",
      "Success\n",
      "Success\n",
      "Success\n",
      "Success\n",
      "Success\n"
     ]
    },
    {
     "name": "stderr",
     "output_type": "stream",
     "text": [
      "749it [00:23, 41.67it/s]"
     ]
    },
    {
     "name": "stdout",
     "output_type": "stream",
     "text": [
      "Success\n",
      "Success\n",
      "Success\n",
      "Success\n",
      "Success\n",
      "Success\n",
      "Success\n",
      "Success\n",
      "Success\n",
      "Success\n",
      "Success\n"
     ]
    },
    {
     "name": "stderr",
     "output_type": "stream",
     "text": [
      "760it [00:23, 43.15it/s]"
     ]
    },
    {
     "name": "stdout",
     "output_type": "stream",
     "text": [
      "Success\n",
      "Success\n",
      "Success\n",
      "Success\n",
      "Success\n",
      "Success\n",
      "Success\n",
      "Success\n",
      "Success\n",
      "Success\n",
      "Success\n"
     ]
    },
    {
     "name": "stderr",
     "output_type": "stream",
     "text": [
      "772it [00:23, 48.60it/s]"
     ]
    },
    {
     "name": "stdout",
     "output_type": "stream",
     "text": [
      "Success\n",
      "Success\n",
      "Success\n",
      "Success\n",
      "Success\n",
      "Success\n",
      "Success\n",
      "Success\n"
     ]
    },
    {
     "name": "stderr",
     "output_type": "stream",
     "text": [
      "1261it [00:37, 33.66it/s] \n",
      "9it [00:00, 88.22it/s]"
     ]
    },
    {
     "name": "stdout",
     "output_type": "stream",
     "text": [
      "0\n",
      "0\n",
      "0\n",
      "97\n",
      "0\n",
      "0\n",
      "BS_175\n"
     ]
    },
    {
     "name": "stderr",
     "output_type": "stream",
     "text": [
      "781it [00:23, 48.15it/s]"
     ]
    },
    {
     "name": "stdout",
     "output_type": "stream",
     "text": [
      "Success\n",
      "Success\n",
      "Success\n",
      "Success\n",
      "Success\n",
      "Success\n",
      "Success\n",
      "Success\n",
      "Success\n",
      "Success\n"
     ]
    },
    {
     "name": "stderr",
     "output_type": "stream",
     "text": [
      "786it [00:23, 48.01it/s]"
     ]
    },
    {
     "name": "stdout",
     "output_type": "stream",
     "text": [
      "Success\n",
      "Success\n",
      "Success\n",
      "Success\n",
      "Success\n",
      "Success\n",
      "Success\n",
      "Success\n"
     ]
    },
    {
     "name": "stderr",
     "output_type": "stream",
     "text": [
      "797it [00:24, 44.04it/s]"
     ]
    },
    {
     "name": "stdout",
     "output_type": "stream",
     "text": [
      "Success\n",
      "Success\n",
      "Success\n",
      "Success\n",
      "Success\n",
      "Success\n",
      "Success\n",
      "Success\n",
      "Success\n",
      "Success\n"
     ]
    },
    {
     "name": "stderr",
     "output_type": "stream",
     "text": [
      "809it [00:24, 48.48it/s]"
     ]
    },
    {
     "name": "stdout",
     "output_type": "stream",
     "text": [
      "Success\n",
      "Success\n",
      "Success\n",
      "Success\n",
      "Success\n",
      "Success\n",
      "Success\n",
      "Success\n",
      "Success\n",
      "Success\n"
     ]
    },
    {
     "name": "stderr",
     "output_type": "stream",
     "text": [
      "821it [00:24, 46.76it/s]"
     ]
    },
    {
     "name": "stdout",
     "output_type": "stream",
     "text": [
      "Success\n",
      "Success\n",
      "Success\n",
      "Success\n",
      "Success\n",
      "Success\n",
      "Success\n",
      "Success\n",
      "Success\n",
      "Success\n",
      "Success\n",
      "Success\n"
     ]
    },
    {
     "name": "stderr",
     "output_type": "stream",
     "text": [
      "832it [00:24, 48.58it/s]"
     ]
    },
    {
     "name": "stdout",
     "output_type": "stream",
     "text": [
      "Success\n",
      "Success\n",
      "Success\n",
      "Success\n",
      "Success\n",
      "Success\n",
      "Success\n",
      "Success\n",
      "Success\n",
      "Success\n",
      "Success\n"
     ]
    },
    {
     "name": "stderr",
     "output_type": "stream",
     "text": [
      "838it [00:24, 43.88it/s]"
     ]
    },
    {
     "name": "stdout",
     "output_type": "stream",
     "text": [
      "Success\n",
      "Success\n",
      "Success\n",
      "Success\n",
      "Success\n",
      "Success\n",
      "Success\n",
      "Success\n"
     ]
    },
    {
     "name": "stderr",
     "output_type": "stream",
     "text": [
      "852it [00:25, 53.01it/s]"
     ]
    },
    {
     "name": "stdout",
     "output_type": "stream",
     "text": [
      "Success\n",
      "Success\n",
      "Success\n",
      "Success\n",
      "Success\n",
      "Success\n",
      "Success\n",
      "Success\n",
      "Success\n",
      "Success\n",
      "Success\n",
      "Success\n",
      "Success\n"
     ]
    },
    {
     "name": "stderr",
     "output_type": "stream",
     "text": [
      "858it [00:25, 49.49it/s]"
     ]
    },
    {
     "name": "stdout",
     "output_type": "stream",
     "text": [
      "Success\n",
      "Success\n",
      "Success\n",
      "Success\n",
      "Success\n",
      "Success\n",
      "Success\n"
     ]
    },
    {
     "name": "stderr",
     "output_type": "stream",
     "text": [
      "864it [00:25, 38.54it/s]"
     ]
    },
    {
     "name": "stdout",
     "output_type": "stream",
     "text": [
      "Success\n",
      "Success\n",
      "Success\n",
      "Success\n",
      "Success\n",
      "Success\n",
      "Success\n"
     ]
    },
    {
     "name": "stderr",
     "output_type": "stream",
     "text": [
      "873it [00:25, 37.39it/s]"
     ]
    },
    {
     "name": "stdout",
     "output_type": "stream",
     "text": [
      "Success\n",
      "Success\n",
      "Success\n",
      "Success\n",
      "Success\n",
      "Success\n",
      "Success\n",
      "Success\n",
      "Success\n"
     ]
    },
    {
     "name": "stderr",
     "output_type": "stream",
     "text": [
      "1261it [00:36, 34.24it/s] \n",
      "9it [00:00, 84.89it/s]"
     ]
    },
    {
     "name": "stdout",
     "output_type": "stream",
     "text": [
      "0\n",
      "0\n",
      "0\n",
      "0\n",
      "40\n",
      "38\n",
      "BS_187\n"
     ]
    },
    {
     "name": "stderr",
     "output_type": "stream",
     "text": [
      "880it [00:25, 42.77it/s]"
     ]
    },
    {
     "name": "stdout",
     "output_type": "stream",
     "text": [
      "Success\n",
      "Success\n",
      "Success\n",
      "Success\n",
      "Success\n"
     ]
    },
    {
     "name": "stderr",
     "output_type": "stream",
     "text": [
      "891it [00:25, 41.18it/s]"
     ]
    },
    {
     "name": "stdout",
     "output_type": "stream",
     "text": [
      "Success\n",
      "Success\n",
      "Success\n",
      "Success\n",
      "Success\n",
      "Success\n",
      "Success\n",
      "Success\n",
      "Success\n",
      "Success\n",
      "Success\n",
      "Success\n"
     ]
    },
    {
     "name": "stderr",
     "output_type": "stream",
     "text": [
      "897it [00:26, 44.05it/s]"
     ]
    },
    {
     "name": "stdout",
     "output_type": "stream",
     "text": [
      "Success\n",
      "Success\n",
      "Success\n",
      "Success\n",
      "Success\n",
      "Success\n",
      "Success\n"
     ]
    },
    {
     "name": "stderr",
     "output_type": "stream",
     "text": [
      "906it [00:26, 31.77it/s]"
     ]
    },
    {
     "name": "stdout",
     "output_type": "stream",
     "text": [
      "Success\n",
      "Success\n",
      "Success\n",
      "Success\n",
      "Success\n",
      "Success\n"
     ]
    },
    {
     "name": "stderr",
     "output_type": "stream",
     "text": [
      "910it [00:26, 30.29it/s]"
     ]
    },
    {
     "name": "stdout",
     "output_type": "stream",
     "text": [
      "Success\n",
      "Success\n",
      "Success\n",
      "Success\n"
     ]
    },
    {
     "name": "stderr",
     "output_type": "stream",
     "text": [
      "917it [00:26, 24.77it/s]"
     ]
    },
    {
     "name": "stdout",
     "output_type": "stream",
     "text": [
      "Success\n",
      "Success\n",
      "Success\n",
      "Success\n",
      "Success\n",
      "Success\n"
     ]
    },
    {
     "name": "stderr",
     "output_type": "stream",
     "text": [
      "920it [00:27, 25.48it/s]"
     ]
    },
    {
     "name": "stdout",
     "output_type": "stream",
     "text": [
      "Success\n",
      "Success\n",
      "Success\n",
      "Success\n"
     ]
    },
    {
     "name": "stderr",
     "output_type": "stream",
     "text": [
      "928it [00:27, 27.46it/s]"
     ]
    },
    {
     "name": "stdout",
     "output_type": "stream",
     "text": [
      "Success\n",
      "Success\n",
      "Success\n",
      "Success\n",
      "Success\n",
      "Success\n",
      "Success\n",
      "Success\n",
      "Success\n"
     ]
    },
    {
     "name": "stderr",
     "output_type": "stream",
     "text": [
      "942it [00:27, 43.94it/s]"
     ]
    },
    {
     "name": "stdout",
     "output_type": "stream",
     "text": [
      "Success\n",
      "Success\n",
      "Success\n",
      "Success\n",
      "Success\n",
      "Success\n",
      "Success\n",
      "Success\n",
      "Success\n",
      "Success\n",
      "Success\n"
     ]
    },
    {
     "name": "stderr",
     "output_type": "stream",
     "text": [
      "1261it [00:37, 33.96it/s] \n",
      "9it [00:00, 84.89it/s]"
     ]
    },
    {
     "name": "stdout",
     "output_type": "stream",
     "text": [
      "0\n",
      "19\n",
      "0\n",
      "17\n",
      "0\n",
      "0\n",
      "BS_188\n"
     ]
    },
    {
     "name": "stderr",
     "output_type": "stream",
     "text": [
      "884it [00:26, 33.15it/s]\n",
      "ERROR:root:Internal Python error in the inspect module.\n",
      "Below is the traceback from this internal error.\n",
      "\n",
      "ERROR:root:Internal Python error in the inspect module.\n",
      "Below is the traceback from this internal error.\n",
      "\n"
     ]
    },
    {
     "name": "stdout",
     "output_type": "stream",
     "text": [
      "Traceback (most recent call last):\n",
      "  File \"C:\\Users\\insan\\anaconda3\\envs\\EphysPlotting\\lib\\site-packages\\IPython\\core\\interactiveshell.py\", line 3437, in run_code\n",
      "    exec(code_obj, self.user_global_ns, self.user_ns)\n",
      "  File \"<ipython-input-15-af234360e610>\", line 31, in <module>\n",
      "    sessionfile = ilep.loadSessionCached(act_directory,session)\n",
      "  File \"../..\\InsanallyLabEphysTools\\io.py\", line 457, in loadSessionCached\n",
      "    session = pickle.load(f)\n",
      "  File \"C:\\Users\\insan\\anaconda3\\envs\\EphysPlotting\\lib\\site-packages\\numpy\\core\\numeric.py\", line 1855, in _frombuffer\n",
      "    return frombuffer(buf, dtype=dtype).reshape(shape, order=order)\n",
      "KeyboardInterrupt\n",
      "\n",
      "During handling of the above exception, another exception occurred:\n",
      "\n",
      "Traceback (most recent call last):\n",
      "  File \"C:\\Users\\insan\\anaconda3\\envs\\EphysPlotting\\lib\\site-packages\\IPython\\core\\interactiveshell.py\", line 2061, in showtraceback\n",
      "    stb = value._render_traceback_()\n",
      "AttributeError: 'KeyboardInterrupt' object has no attribute '_render_traceback_'\n",
      "\n",
      "During handling of the above exception, another exception occurred:\n",
      "\n",
      "Traceback (most recent call last):\n",
      "  File \"C:\\Users\\insan\\anaconda3\\envs\\EphysPlotting\\lib\\site-packages\\IPython\\core\\ultratb.py\", line 1101, in get_records\n",
      "    return _fixed_getinnerframes(etb, number_of_lines_of_context, tb_offset)\n",
      "  File \"C:\\Users\\insan\\anaconda3\\envs\\EphysPlotting\\lib\\site-packages\\IPython\\core\\ultratb.py\", line 248, in wrapped\n",
      "    return f(*args, **kwargs)\n",
      "  File \"C:\\Users\\insan\\anaconda3\\envs\\EphysPlotting\\lib\\site-packages\\IPython\\core\\ultratb.py\", line 281, in _fixed_getinnerframes\n",
      "    records = fix_frame_records_filenames(inspect.getinnerframes(etb, context))\n",
      "  File \"C:\\Users\\insan\\anaconda3\\envs\\EphysPlotting\\lib\\inspect.py\", line 1515, in getinnerframes\n",
      "    frameinfo = (tb.tb_frame,) + getframeinfo(tb, context)\n",
      "  File \"C:\\Users\\insan\\anaconda3\\envs\\EphysPlotting\\lib\\inspect.py\", line 1473, in getframeinfo\n",
      "    filename = getsourcefile(frame) or getfile(frame)\n",
      "  File \"C:\\Users\\insan\\anaconda3\\envs\\EphysPlotting\\lib\\inspect.py\", line 708, in getsourcefile\n",
      "    if getattr(getmodule(object, filename), '__loader__', None) is not None:\n",
      "  File \"C:\\Users\\insan\\anaconda3\\envs\\EphysPlotting\\lib\\inspect.py\", line 754, in getmodule\n",
      "    os.path.realpath(f)] = module.__name__\n",
      "  File \"C:\\Users\\insan\\anaconda3\\envs\\EphysPlotting\\lib\\ntpath.py\", line 664, in realpath\n",
      "    if _getfinalpathname(spath) == path:\n",
      "KeyboardInterrupt\n",
      "Traceback (most recent call last):\n",
      "  File \"C:\\Users\\insan\\anaconda3\\envs\\EphysPlotting\\lib\\site-packages\\IPython\\core\\interactiveshell.py\", line 3437, in run_code\n",
      "    exec(code_obj, self.user_global_ns, self.user_ns)\n",
      "  File \"<ipython-input-15-af234360e610>\", line 31, in <module>\n",
      "    sessionfile = ilep.loadSessionCached(act_directory,session)\n",
      "  File \"../..\\InsanallyLabEphysTools\\io.py\", line 457, in loadSessionCached\n",
      "    session = pickle.load(f)\n",
      "  File \"C:\\Users\\insan\\anaconda3\\envs\\EphysPlotting\\lib\\site-packages\\numpy\\core\\numeric.py\", line 1855, in _frombuffer\n",
      "    return frombuffer(buf, dtype=dtype).reshape(shape, order=order)\n",
      "KeyboardInterrupt\n",
      "\n",
      "During handling of the above exception, another exception occurred:\n",
      "\n",
      "Traceback (most recent call last):\n",
      "  File \"C:\\Users\\insan\\anaconda3\\envs\\EphysPlotting\\lib\\site-packages\\IPython\\core\\interactiveshell.py\", line 2061, in showtraceback\n",
      "    stb = value._render_traceback_()\n",
      "AttributeError: 'KeyboardInterrupt' object has no attribute '_render_traceback_'\n",
      "\n",
      "During handling of the above exception, another exception occurred:\n",
      "\n",
      "Traceback (most recent call last):\n",
      "  File \"C:\\Users\\insan\\anaconda3\\envs\\EphysPlotting\\lib\\site-packages\\IPython\\core\\interactiveshell.py\", line 3357, in run_ast_nodes\n",
      "    if (await self.run_code(code, result,  async_=asy)):\n",
      "  File \"C:\\Users\\insan\\anaconda3\\envs\\EphysPlotting\\lib\\site-packages\\IPython\\core\\interactiveshell.py\", line 3454, in run_code\n",
      "    self.showtraceback(running_compiled_code=True)\n",
      "  File \"C:\\Users\\insan\\anaconda3\\envs\\EphysPlotting\\lib\\site-packages\\IPython\\core\\interactiveshell.py\", line 2063, in showtraceback\n",
      "    stb = self.InteractiveTB.structured_traceback(etype,\n",
      "  File \"C:\\Users\\insan\\anaconda3\\envs\\EphysPlotting\\lib\\site-packages\\IPython\\core\\ultratb.py\", line 1367, in structured_traceback\n",
      "    return FormattedTB.structured_traceback(\n",
      "  File \"C:\\Users\\insan\\anaconda3\\envs\\EphysPlotting\\lib\\site-packages\\IPython\\core\\ultratb.py\", line 1267, in structured_traceback\n",
      "    return VerboseTB.structured_traceback(\n",
      "  File \"C:\\Users\\insan\\anaconda3\\envs\\EphysPlotting\\lib\\site-packages\\IPython\\core\\ultratb.py\", line 1124, in structured_traceback\n",
      "    formatted_exception = self.format_exception_as_a_whole(etype, evalue, etb, number_of_lines_of_context,\n",
      "  File \"C:\\Users\\insan\\anaconda3\\envs\\EphysPlotting\\lib\\site-packages\\IPython\\core\\ultratb.py\", line 1082, in format_exception_as_a_whole\n",
      "    last_unique, recursion_repeat = find_recursion(orig_etype, evalue, records)\n",
      "  File \"C:\\Users\\insan\\anaconda3\\envs\\EphysPlotting\\lib\\site-packages\\IPython\\core\\ultratb.py\", line 382, in find_recursion\n",
      "    return len(records), 0\n",
      "TypeError: object of type 'NoneType' has no len()\n",
      "\n",
      "During handling of the above exception, another exception occurred:\n",
      "\n",
      "Traceback (most recent call last):\n",
      "  File \"C:\\Users\\insan\\anaconda3\\envs\\EphysPlotting\\lib\\site-packages\\IPython\\core\\interactiveshell.py\", line 2061, in showtraceback\n",
      "    stb = value._render_traceback_()\n",
      "AttributeError: 'TypeError' object has no attribute '_render_traceback_'\n",
      "\n",
      "During handling of the above exception, another exception occurred:\n",
      "\n",
      "Traceback (most recent call last):\n",
      "  File \"C:\\Users\\insan\\anaconda3\\envs\\EphysPlotting\\lib\\site-packages\\IPython\\core\\ultratb.py\", line 1101, in get_records\n",
      "    return _fixed_getinnerframes(etb, number_of_lines_of_context, tb_offset)\n",
      "  File \"C:\\Users\\insan\\anaconda3\\envs\\EphysPlotting\\lib\\site-packages\\IPython\\core\\ultratb.py\", line 248, in wrapped\n",
      "    return f(*args, **kwargs)\n",
      "  File \"C:\\Users\\insan\\anaconda3\\envs\\EphysPlotting\\lib\\site-packages\\IPython\\core\\ultratb.py\", line 281, in _fixed_getinnerframes\n",
      "    records = fix_frame_records_filenames(inspect.getinnerframes(etb, context))\n",
      "  File \"C:\\Users\\insan\\anaconda3\\envs\\EphysPlotting\\lib\\inspect.py\", line 1515, in getinnerframes\n",
      "    frameinfo = (tb.tb_frame,) + getframeinfo(tb, context)\n",
      "  File \"C:\\Users\\insan\\anaconda3\\envs\\EphysPlotting\\lib\\inspect.py\", line 1473, in getframeinfo\n",
      "    filename = getsourcefile(frame) or getfile(frame)\n",
      "  File \"C:\\Users\\insan\\anaconda3\\envs\\EphysPlotting\\lib\\inspect.py\", line 708, in getsourcefile\n",
      "    if getattr(getmodule(object, filename), '__loader__', None) is not None:\n",
      "  File \"C:\\Users\\insan\\anaconda3\\envs\\EphysPlotting\\lib\\inspect.py\", line 754, in getmodule\n",
      "    os.path.realpath(f)] = module.__name__\n",
      "  File \"C:\\Users\\insan\\anaconda3\\envs\\EphysPlotting\\lib\\ntpath.py\", line 647, in realpath\n",
      "    path = _getfinalpathname(path)\n",
      "KeyboardInterrupt\n"
     ]
    },
    {
     "ename": "TypeError",
     "evalue": "object of type 'NoneType' has no len()",
     "output_type": "error",
     "traceback": [
      "\u001b[1;31m---------------------------------------------------------------------------\u001b[0m",
      "\u001b[1;31mKeyboardInterrupt\u001b[0m                         Traceback (most recent call last)",
      "    \u001b[1;31m[... skipping hidden 1 frame]\u001b[0m\n",
      "\u001b[1;32m<ipython-input-15-af234360e610>\u001b[0m in \u001b[0;36m<module>\u001b[1;34m\u001b[0m\n\u001b[0;32m     30\u001b[0m     \u001b[1;32mfor\u001b[0m \u001b[0midx\u001b[0m\u001b[1;33m,\u001b[0m\u001b[1;33m(\u001b[0m\u001b[0msession\u001b[0m\u001b[1;33m,\u001b[0m\u001b[0mclust\u001b[0m\u001b[1;33m)\u001b[0m \u001b[1;32min\u001b[0m \u001b[0mtqdm\u001b[0m\u001b[1;33m(\u001b[0m\u001b[0menumerate\u001b[0m\u001b[1;33m(\u001b[0m\u001b[0mzip\u001b[0m\u001b[1;33m(\u001b[0m\u001b[0mEnumSession\u001b[0m\u001b[1;33m,\u001b[0m\u001b[0mEnumClust\u001b[0m\u001b[1;33m)\u001b[0m\u001b[1;33m)\u001b[0m\u001b[1;33m)\u001b[0m\u001b[1;33m:\u001b[0m\u001b[1;33m\u001b[0m\u001b[1;33m\u001b[0m\u001b[0m\n\u001b[1;32m---> 31\u001b[1;33m         \u001b[0msessionfile\u001b[0m \u001b[1;33m=\u001b[0m \u001b[0milep\u001b[0m\u001b[1;33m.\u001b[0m\u001b[0mloadSessionCached\u001b[0m\u001b[1;33m(\u001b[0m\u001b[0mact_directory\u001b[0m\u001b[1;33m,\u001b[0m\u001b[0msession\u001b[0m\u001b[1;33m)\u001b[0m\u001b[1;33m\u001b[0m\u001b[1;33m\u001b[0m\u001b[0m\n\u001b[0m\u001b[0;32m     32\u001b[0m         \u001b[0msessionfile\u001b[0m \u001b[1;33m=\u001b[0m \u001b[0milep\u001b[0m\u001b[1;33m.\u001b[0m\u001b[0mdetermineTuningCurveTones\u001b[0m\u001b[1;33m(\u001b[0m\u001b[0msessionfile\u001b[0m\u001b[1;33m)\u001b[0m\u001b[1;33m\u001b[0m\u001b[1;33m\u001b[0m\u001b[0m\n",
      "\u001b[1;32m~\\Desktop\\EphysAnalysis\\InsanallyLabEphysTools\\io.py\u001b[0m in \u001b[0;36mloadSessionCached\u001b[1;34m(directory, filename)\u001b[0m\n\u001b[0;32m    456\u001b[0m         \u001b[1;32mwith\u001b[0m \u001b[0mopen\u001b[0m\u001b[1;33m(\u001b[0m\u001b[0mos\u001b[0m\u001b[1;33m.\u001b[0m\u001b[0mpath\u001b[0m\u001b[1;33m.\u001b[0m\u001b[0mjoin\u001b[0m\u001b[1;33m(\u001b[0m\u001b[0mdirectory\u001b[0m\u001b[1;33m,\u001b[0m\u001b[0mfilename\u001b[0m\u001b[1;33m)\u001b[0m\u001b[1;33m,\u001b[0m \u001b[1;34m'rb'\u001b[0m\u001b[1;33m)\u001b[0m \u001b[1;32mas\u001b[0m \u001b[0mf\u001b[0m\u001b[1;33m:\u001b[0m\u001b[1;33m\u001b[0m\u001b[1;33m\u001b[0m\u001b[0m\n\u001b[1;32m--> 457\u001b[1;33m             \u001b[0msession\u001b[0m \u001b[1;33m=\u001b[0m \u001b[0mpickle\u001b[0m\u001b[1;33m.\u001b[0m\u001b[0mload\u001b[0m\u001b[1;33m(\u001b[0m\u001b[0mf\u001b[0m\u001b[1;33m)\u001b[0m\u001b[1;33m\u001b[0m\u001b[1;33m\u001b[0m\u001b[0m\n\u001b[0m\u001b[0;32m    458\u001b[0m         \u001b[1;32mreturn\u001b[0m \u001b[0msession\u001b[0m\u001b[1;33m\u001b[0m\u001b[1;33m\u001b[0m\u001b[0m\n",
      "\u001b[1;32m~\\anaconda3\\envs\\EphysPlotting\\lib\\site-packages\\numpy\\core\\numeric.py\u001b[0m in \u001b[0;36m_frombuffer\u001b[1;34m(buf, dtype, shape, order)\u001b[0m\n\u001b[0;32m   1854\u001b[0m \u001b[1;32mdef\u001b[0m \u001b[0m_frombuffer\u001b[0m\u001b[1;33m(\u001b[0m\u001b[0mbuf\u001b[0m\u001b[1;33m,\u001b[0m \u001b[0mdtype\u001b[0m\u001b[1;33m,\u001b[0m \u001b[0mshape\u001b[0m\u001b[1;33m,\u001b[0m \u001b[0morder\u001b[0m\u001b[1;33m)\u001b[0m\u001b[1;33m:\u001b[0m\u001b[1;33m\u001b[0m\u001b[1;33m\u001b[0m\u001b[0m\n\u001b[1;32m-> 1855\u001b[1;33m     \u001b[1;32mreturn\u001b[0m \u001b[0mfrombuffer\u001b[0m\u001b[1;33m(\u001b[0m\u001b[0mbuf\u001b[0m\u001b[1;33m,\u001b[0m \u001b[0mdtype\u001b[0m\u001b[1;33m=\u001b[0m\u001b[0mdtype\u001b[0m\u001b[1;33m)\u001b[0m\u001b[1;33m.\u001b[0m\u001b[0mreshape\u001b[0m\u001b[1;33m(\u001b[0m\u001b[0mshape\u001b[0m\u001b[1;33m,\u001b[0m \u001b[0morder\u001b[0m\u001b[1;33m=\u001b[0m\u001b[0morder\u001b[0m\u001b[1;33m)\u001b[0m\u001b[1;33m\u001b[0m\u001b[1;33m\u001b[0m\u001b[0m\n\u001b[0m\u001b[0;32m   1856\u001b[0m \u001b[1;33m\u001b[0m\u001b[0m\n",
      "\u001b[1;31mKeyboardInterrupt\u001b[0m: ",
      "\nDuring handling of the above exception, another exception occurred:\n",
      "\u001b[1;31mAttributeError\u001b[0m                            Traceback (most recent call last)",
      "\u001b[1;32m~\\anaconda3\\envs\\EphysPlotting\\lib\\site-packages\\IPython\\core\\interactiveshell.py\u001b[0m in \u001b[0;36mshowtraceback\u001b[1;34m(self, exc_tuple, filename, tb_offset, exception_only, running_compiled_code)\u001b[0m\n\u001b[0;32m   2060\u001b[0m                         \u001b[1;31m# in the engines. This should return a list of strings.\u001b[0m\u001b[1;33m\u001b[0m\u001b[1;33m\u001b[0m\u001b[1;33m\u001b[0m\u001b[0m\n\u001b[1;32m-> 2061\u001b[1;33m                         \u001b[0mstb\u001b[0m \u001b[1;33m=\u001b[0m \u001b[0mvalue\u001b[0m\u001b[1;33m.\u001b[0m\u001b[0m_render_traceback_\u001b[0m\u001b[1;33m(\u001b[0m\u001b[1;33m)\u001b[0m\u001b[1;33m\u001b[0m\u001b[1;33m\u001b[0m\u001b[0m\n\u001b[0m\u001b[0;32m   2062\u001b[0m                     \u001b[1;32mexcept\u001b[0m \u001b[0mException\u001b[0m\u001b[1;33m:\u001b[0m\u001b[1;33m\u001b[0m\u001b[1;33m\u001b[0m\u001b[0m\n",
      "\u001b[1;31mAttributeError\u001b[0m: 'KeyboardInterrupt' object has no attribute '_render_traceback_'",
      "\nDuring handling of the above exception, another exception occurred:\n",
      "\u001b[1;31mTypeError\u001b[0m                                 Traceback (most recent call last)",
      "\u001b[1;32m~\\anaconda3\\envs\\EphysPlotting\\lib\\site-packages\\IPython\\core\\interactiveshell.py\u001b[0m in \u001b[0;36mrun_ast_nodes\u001b[1;34m(self, nodelist, cell_name, interactivity, compiler, result)\u001b[0m\n\u001b[0;32m   3356\u001b[0m                         \u001b[0masy\u001b[0m \u001b[1;33m=\u001b[0m \u001b[0mcompare\u001b[0m\u001b[1;33m(\u001b[0m\u001b[0mcode\u001b[0m\u001b[1;33m)\u001b[0m\u001b[1;33m\u001b[0m\u001b[1;33m\u001b[0m\u001b[0m\n\u001b[1;32m-> 3357\u001b[1;33m                     \u001b[1;32mif\u001b[0m \u001b[1;33m(\u001b[0m\u001b[1;32mawait\u001b[0m \u001b[0mself\u001b[0m\u001b[1;33m.\u001b[0m\u001b[0mrun_code\u001b[0m\u001b[1;33m(\u001b[0m\u001b[0mcode\u001b[0m\u001b[1;33m,\u001b[0m \u001b[0mresult\u001b[0m\u001b[1;33m,\u001b[0m  \u001b[0masync_\u001b[0m\u001b[1;33m=\u001b[0m\u001b[0masy\u001b[0m\u001b[1;33m)\u001b[0m\u001b[1;33m)\u001b[0m\u001b[1;33m:\u001b[0m\u001b[1;33m\u001b[0m\u001b[1;33m\u001b[0m\u001b[0m\n\u001b[0m\u001b[0;32m   3358\u001b[0m                         \u001b[1;32mreturn\u001b[0m \u001b[1;32mTrue\u001b[0m\u001b[1;33m\u001b[0m\u001b[1;33m\u001b[0m\u001b[0m\n",
      "    \u001b[1;31m[... skipping hidden 1 frame]\u001b[0m\n",
      "\u001b[1;32m~\\anaconda3\\envs\\EphysPlotting\\lib\\site-packages\\IPython\\core\\interactiveshell.py\u001b[0m in \u001b[0;36mshowtraceback\u001b[1;34m(self, exc_tuple, filename, tb_offset, exception_only, running_compiled_code)\u001b[0m\n\u001b[0;32m   2062\u001b[0m                     \u001b[1;32mexcept\u001b[0m \u001b[0mException\u001b[0m\u001b[1;33m:\u001b[0m\u001b[1;33m\u001b[0m\u001b[1;33m\u001b[0m\u001b[0m\n\u001b[1;32m-> 2063\u001b[1;33m                         stb = self.InteractiveTB.structured_traceback(etype,\n\u001b[0m\u001b[0;32m   2064\u001b[0m                                             value, tb, tb_offset=tb_offset)\n",
      "\u001b[1;32m~\\anaconda3\\envs\\EphysPlotting\\lib\\site-packages\\IPython\\core\\ultratb.py\u001b[0m in \u001b[0;36mstructured_traceback\u001b[1;34m(self, etype, value, tb, tb_offset, number_of_lines_of_context)\u001b[0m\n\u001b[0;32m   1366\u001b[0m             \u001b[0mself\u001b[0m\u001b[1;33m.\u001b[0m\u001b[0mtb\u001b[0m \u001b[1;33m=\u001b[0m \u001b[0mtb\u001b[0m\u001b[1;33m\u001b[0m\u001b[1;33m\u001b[0m\u001b[0m\n\u001b[1;32m-> 1367\u001b[1;33m         return FormattedTB.structured_traceback(\n\u001b[0m\u001b[0;32m   1368\u001b[0m             self, etype, value, tb, tb_offset, number_of_lines_of_context)\n",
      "\u001b[1;32m~\\anaconda3\\envs\\EphysPlotting\\lib\\site-packages\\IPython\\core\\ultratb.py\u001b[0m in \u001b[0;36mstructured_traceback\u001b[1;34m(self, etype, value, tb, tb_offset, number_of_lines_of_context)\u001b[0m\n\u001b[0;32m   1266\u001b[0m             \u001b[1;31m# Verbose modes need a full traceback\u001b[0m\u001b[1;33m\u001b[0m\u001b[1;33m\u001b[0m\u001b[1;33m\u001b[0m\u001b[0m\n\u001b[1;32m-> 1267\u001b[1;33m             return VerboseTB.structured_traceback(\n\u001b[0m\u001b[0;32m   1268\u001b[0m                 \u001b[0mself\u001b[0m\u001b[1;33m,\u001b[0m \u001b[0metype\u001b[0m\u001b[1;33m,\u001b[0m \u001b[0mvalue\u001b[0m\u001b[1;33m,\u001b[0m \u001b[0mtb\u001b[0m\u001b[1;33m,\u001b[0m \u001b[0mtb_offset\u001b[0m\u001b[1;33m,\u001b[0m \u001b[0mnumber_of_lines_of_context\u001b[0m\u001b[1;33m\u001b[0m\u001b[1;33m\u001b[0m\u001b[0m\n",
      "\u001b[1;32m~\\anaconda3\\envs\\EphysPlotting\\lib\\site-packages\\IPython\\core\\ultratb.py\u001b[0m in \u001b[0;36mstructured_traceback\u001b[1;34m(self, etype, evalue, etb, tb_offset, number_of_lines_of_context)\u001b[0m\n\u001b[0;32m   1123\u001b[0m \u001b[1;33m\u001b[0m\u001b[0m\n\u001b[1;32m-> 1124\u001b[1;33m         formatted_exception = self.format_exception_as_a_whole(etype, evalue, etb, number_of_lines_of_context,\n\u001b[0m\u001b[0;32m   1125\u001b[0m                                                                tb_offset)\n",
      "\u001b[1;32m~\\anaconda3\\envs\\EphysPlotting\\lib\\site-packages\\IPython\\core\\ultratb.py\u001b[0m in \u001b[0;36mformat_exception_as_a_whole\u001b[1;34m(self, etype, evalue, etb, number_of_lines_of_context, tb_offset)\u001b[0m\n\u001b[0;32m   1081\u001b[0m \u001b[1;33m\u001b[0m\u001b[0m\n\u001b[1;32m-> 1082\u001b[1;33m         \u001b[0mlast_unique\u001b[0m\u001b[1;33m,\u001b[0m \u001b[0mrecursion_repeat\u001b[0m \u001b[1;33m=\u001b[0m \u001b[0mfind_recursion\u001b[0m\u001b[1;33m(\u001b[0m\u001b[0morig_etype\u001b[0m\u001b[1;33m,\u001b[0m \u001b[0mevalue\u001b[0m\u001b[1;33m,\u001b[0m \u001b[0mrecords\u001b[0m\u001b[1;33m)\u001b[0m\u001b[1;33m\u001b[0m\u001b[1;33m\u001b[0m\u001b[0m\n\u001b[0m\u001b[0;32m   1083\u001b[0m \u001b[1;33m\u001b[0m\u001b[0m\n",
      "\u001b[1;32m~\\anaconda3\\envs\\EphysPlotting\\lib\\site-packages\\IPython\\core\\ultratb.py\u001b[0m in \u001b[0;36mfind_recursion\u001b[1;34m(etype, value, records)\u001b[0m\n\u001b[0;32m    381\u001b[0m     \u001b[1;32mif\u001b[0m \u001b[1;32mnot\u001b[0m \u001b[0mis_recursion_error\u001b[0m\u001b[1;33m(\u001b[0m\u001b[0metype\u001b[0m\u001b[1;33m,\u001b[0m \u001b[0mvalue\u001b[0m\u001b[1;33m,\u001b[0m \u001b[0mrecords\u001b[0m\u001b[1;33m)\u001b[0m\u001b[1;33m:\u001b[0m\u001b[1;33m\u001b[0m\u001b[1;33m\u001b[0m\u001b[0m\n\u001b[1;32m--> 382\u001b[1;33m         \u001b[1;32mreturn\u001b[0m \u001b[0mlen\u001b[0m\u001b[1;33m(\u001b[0m\u001b[0mrecords\u001b[0m\u001b[1;33m)\u001b[0m\u001b[1;33m,\u001b[0m \u001b[1;36m0\u001b[0m\u001b[1;33m\u001b[0m\u001b[1;33m\u001b[0m\u001b[0m\n\u001b[0m\u001b[0;32m    383\u001b[0m \u001b[1;33m\u001b[0m\u001b[0m\n",
      "\u001b[1;31mTypeError\u001b[0m: object of type 'NoneType' has no len()",
      "\nDuring handling of the above exception, another exception occurred:\n",
      "\u001b[1;31mAttributeError\u001b[0m                            Traceback (most recent call last)",
      "\u001b[1;32m~\\anaconda3\\envs\\EphysPlotting\\lib\\site-packages\\IPython\\core\\interactiveshell.py\u001b[0m in \u001b[0;36mshowtraceback\u001b[1;34m(self, exc_tuple, filename, tb_offset, exception_only, running_compiled_code)\u001b[0m\n\u001b[0;32m   2060\u001b[0m                         \u001b[1;31m# in the engines. This should return a list of strings.\u001b[0m\u001b[1;33m\u001b[0m\u001b[1;33m\u001b[0m\u001b[1;33m\u001b[0m\u001b[0m\n\u001b[1;32m-> 2061\u001b[1;33m                         \u001b[0mstb\u001b[0m \u001b[1;33m=\u001b[0m \u001b[0mvalue\u001b[0m\u001b[1;33m.\u001b[0m\u001b[0m_render_traceback_\u001b[0m\u001b[1;33m(\u001b[0m\u001b[1;33m)\u001b[0m\u001b[1;33m\u001b[0m\u001b[1;33m\u001b[0m\u001b[0m\n\u001b[0m\u001b[0;32m   2062\u001b[0m                     \u001b[1;32mexcept\u001b[0m \u001b[0mException\u001b[0m\u001b[1;33m:\u001b[0m\u001b[1;33m\u001b[0m\u001b[1;33m\u001b[0m\u001b[0m\n",
      "\u001b[1;31mAttributeError\u001b[0m: 'TypeError' object has no attribute '_render_traceback_'",
      "\nDuring handling of the above exception, another exception occurred:\n",
      "\u001b[1;31mTypeError\u001b[0m                                 Traceback (most recent call last)",
      "\u001b[1;32m~\\anaconda3\\envs\\EphysPlotting\\lib\\site-packages\\IPython\\core\\async_helpers.py\u001b[0m in \u001b[0;36m_pseudo_sync_runner\u001b[1;34m(coro)\u001b[0m\n\u001b[0;32m     66\u001b[0m     \"\"\"\n\u001b[0;32m     67\u001b[0m     \u001b[1;32mtry\u001b[0m\u001b[1;33m:\u001b[0m\u001b[1;33m\u001b[0m\u001b[1;33m\u001b[0m\u001b[0m\n\u001b[1;32m---> 68\u001b[1;33m         \u001b[0mcoro\u001b[0m\u001b[1;33m.\u001b[0m\u001b[0msend\u001b[0m\u001b[1;33m(\u001b[0m\u001b[1;32mNone\u001b[0m\u001b[1;33m)\u001b[0m\u001b[1;33m\u001b[0m\u001b[1;33m\u001b[0m\u001b[0m\n\u001b[0m\u001b[0;32m     69\u001b[0m     \u001b[1;32mexcept\u001b[0m \u001b[0mStopIteration\u001b[0m \u001b[1;32mas\u001b[0m \u001b[0mexc\u001b[0m\u001b[1;33m:\u001b[0m\u001b[1;33m\u001b[0m\u001b[1;33m\u001b[0m\u001b[0m\n\u001b[0;32m     70\u001b[0m         \u001b[1;32mreturn\u001b[0m \u001b[0mexc\u001b[0m\u001b[1;33m.\u001b[0m\u001b[0mvalue\u001b[0m\u001b[1;33m\u001b[0m\u001b[1;33m\u001b[0m\u001b[0m\n",
      "\u001b[1;32m~\\anaconda3\\envs\\EphysPlotting\\lib\\site-packages\\IPython\\core\\interactiveshell.py\u001b[0m in \u001b[0;36mrun_cell_async\u001b[1;34m(self, raw_cell, store_history, silent, shell_futures, transformed_cell, preprocessing_exc_tuple)\u001b[0m\n\u001b[0;32m   3163\u001b[0m                     \u001b[0minteractivity\u001b[0m \u001b[1;33m=\u001b[0m \u001b[1;34m'async'\u001b[0m\u001b[1;33m\u001b[0m\u001b[1;33m\u001b[0m\u001b[0m\n\u001b[0;32m   3164\u001b[0m \u001b[1;33m\u001b[0m\u001b[0m\n\u001b[1;32m-> 3165\u001b[1;33m                 has_raised = await self.run_ast_nodes(code_ast.body, cell_name,\n\u001b[0m\u001b[0;32m   3166\u001b[0m                        interactivity=interactivity, compiler=compiler, result=result)\n\u001b[0;32m   3167\u001b[0m \u001b[1;33m\u001b[0m\u001b[0m\n",
      "\u001b[1;32m~\\anaconda3\\envs\\EphysPlotting\\lib\\site-packages\\IPython\\core\\interactiveshell.py\u001b[0m in \u001b[0;36mrun_ast_nodes\u001b[1;34m(self, nodelist, cell_name, interactivity, compiler, result)\u001b[0m\n\u001b[0;32m   3374\u001b[0m             \u001b[1;32mif\u001b[0m \u001b[0mresult\u001b[0m\u001b[1;33m:\u001b[0m\u001b[1;33m\u001b[0m\u001b[1;33m\u001b[0m\u001b[0m\n\u001b[0;32m   3375\u001b[0m                 \u001b[0mresult\u001b[0m\u001b[1;33m.\u001b[0m\u001b[0merror_before_exec\u001b[0m \u001b[1;33m=\u001b[0m \u001b[0msys\u001b[0m\u001b[1;33m.\u001b[0m\u001b[0mexc_info\u001b[0m\u001b[1;33m(\u001b[0m\u001b[1;33m)\u001b[0m\u001b[1;33m[\u001b[0m\u001b[1;36m1\u001b[0m\u001b[1;33m]\u001b[0m\u001b[1;33m\u001b[0m\u001b[1;33m\u001b[0m\u001b[0m\n\u001b[1;32m-> 3376\u001b[1;33m             \u001b[0mself\u001b[0m\u001b[1;33m.\u001b[0m\u001b[0mshowtraceback\u001b[0m\u001b[1;33m(\u001b[0m\u001b[1;33m)\u001b[0m\u001b[1;33m\u001b[0m\u001b[1;33m\u001b[0m\u001b[0m\n\u001b[0m\u001b[0;32m   3377\u001b[0m             \u001b[1;32mreturn\u001b[0m \u001b[1;32mTrue\u001b[0m\u001b[1;33m\u001b[0m\u001b[1;33m\u001b[0m\u001b[0m\n\u001b[0;32m   3378\u001b[0m \u001b[1;33m\u001b[0m\u001b[0m\n",
      "\u001b[1;32m~\\anaconda3\\envs\\EphysPlotting\\lib\\site-packages\\IPython\\core\\interactiveshell.py\u001b[0m in \u001b[0;36mshowtraceback\u001b[1;34m(self, exc_tuple, filename, tb_offset, exception_only, running_compiled_code)\u001b[0m\n\u001b[0;32m   2061\u001b[0m                         \u001b[0mstb\u001b[0m \u001b[1;33m=\u001b[0m \u001b[0mvalue\u001b[0m\u001b[1;33m.\u001b[0m\u001b[0m_render_traceback_\u001b[0m\u001b[1;33m(\u001b[0m\u001b[1;33m)\u001b[0m\u001b[1;33m\u001b[0m\u001b[1;33m\u001b[0m\u001b[0m\n\u001b[0;32m   2062\u001b[0m                     \u001b[1;32mexcept\u001b[0m \u001b[0mException\u001b[0m\u001b[1;33m:\u001b[0m\u001b[1;33m\u001b[0m\u001b[1;33m\u001b[0m\u001b[0m\n\u001b[1;32m-> 2063\u001b[1;33m                         stb = self.InteractiveTB.structured_traceback(etype,\n\u001b[0m\u001b[0;32m   2064\u001b[0m                                             value, tb, tb_offset=tb_offset)\n\u001b[0;32m   2065\u001b[0m \u001b[1;33m\u001b[0m\u001b[0m\n",
      "\u001b[1;32m~\\anaconda3\\envs\\EphysPlotting\\lib\\site-packages\\IPython\\core\\ultratb.py\u001b[0m in \u001b[0;36mstructured_traceback\u001b[1;34m(self, etype, value, tb, tb_offset, number_of_lines_of_context)\u001b[0m\n\u001b[0;32m   1365\u001b[0m         \u001b[1;32melse\u001b[0m\u001b[1;33m:\u001b[0m\u001b[1;33m\u001b[0m\u001b[1;33m\u001b[0m\u001b[0m\n\u001b[0;32m   1366\u001b[0m             \u001b[0mself\u001b[0m\u001b[1;33m.\u001b[0m\u001b[0mtb\u001b[0m \u001b[1;33m=\u001b[0m \u001b[0mtb\u001b[0m\u001b[1;33m\u001b[0m\u001b[1;33m\u001b[0m\u001b[0m\n\u001b[1;32m-> 1367\u001b[1;33m         return FormattedTB.structured_traceback(\n\u001b[0m\u001b[0;32m   1368\u001b[0m             self, etype, value, tb, tb_offset, number_of_lines_of_context)\n\u001b[0;32m   1369\u001b[0m \u001b[1;33m\u001b[0m\u001b[0m\n",
      "\u001b[1;32m~\\anaconda3\\envs\\EphysPlotting\\lib\\site-packages\\IPython\\core\\ultratb.py\u001b[0m in \u001b[0;36mstructured_traceback\u001b[1;34m(self, etype, value, tb, tb_offset, number_of_lines_of_context)\u001b[0m\n\u001b[0;32m   1265\u001b[0m         \u001b[1;32mif\u001b[0m \u001b[0mmode\u001b[0m \u001b[1;32min\u001b[0m \u001b[0mself\u001b[0m\u001b[1;33m.\u001b[0m\u001b[0mverbose_modes\u001b[0m\u001b[1;33m:\u001b[0m\u001b[1;33m\u001b[0m\u001b[1;33m\u001b[0m\u001b[0m\n\u001b[0;32m   1266\u001b[0m             \u001b[1;31m# Verbose modes need a full traceback\u001b[0m\u001b[1;33m\u001b[0m\u001b[1;33m\u001b[0m\u001b[1;33m\u001b[0m\u001b[0m\n\u001b[1;32m-> 1267\u001b[1;33m             return VerboseTB.structured_traceback(\n\u001b[0m\u001b[0;32m   1268\u001b[0m                 \u001b[0mself\u001b[0m\u001b[1;33m,\u001b[0m \u001b[0metype\u001b[0m\u001b[1;33m,\u001b[0m \u001b[0mvalue\u001b[0m\u001b[1;33m,\u001b[0m \u001b[0mtb\u001b[0m\u001b[1;33m,\u001b[0m \u001b[0mtb_offset\u001b[0m\u001b[1;33m,\u001b[0m \u001b[0mnumber_of_lines_of_context\u001b[0m\u001b[1;33m\u001b[0m\u001b[1;33m\u001b[0m\u001b[0m\n\u001b[0;32m   1269\u001b[0m             )\n",
      "\u001b[1;32m~\\anaconda3\\envs\\EphysPlotting\\lib\\site-packages\\IPython\\core\\ultratb.py\u001b[0m in \u001b[0;36mstructured_traceback\u001b[1;34m(self, etype, evalue, etb, tb_offset, number_of_lines_of_context)\u001b[0m\n\u001b[0;32m   1140\u001b[0m         \u001b[0mchained_exc_ids\u001b[0m \u001b[1;33m=\u001b[0m \u001b[0mset\u001b[0m\u001b[1;33m(\u001b[0m\u001b[1;33m)\u001b[0m\u001b[1;33m\u001b[0m\u001b[1;33m\u001b[0m\u001b[0m\n\u001b[0;32m   1141\u001b[0m         \u001b[1;32mwhile\u001b[0m \u001b[0mevalue\u001b[0m\u001b[1;33m:\u001b[0m\u001b[1;33m\u001b[0m\u001b[1;33m\u001b[0m\u001b[0m\n\u001b[1;32m-> 1142\u001b[1;33m             formatted_exceptions += self.format_exception_as_a_whole(etype, evalue, etb, lines_of_context,\n\u001b[0m\u001b[0;32m   1143\u001b[0m                                                                      chained_exceptions_tb_offset)\n\u001b[0;32m   1144\u001b[0m             \u001b[0mexception\u001b[0m \u001b[1;33m=\u001b[0m \u001b[0mself\u001b[0m\u001b[1;33m.\u001b[0m\u001b[0mget_parts_of_chained_exception\u001b[0m\u001b[1;33m(\u001b[0m\u001b[0mevalue\u001b[0m\u001b[1;33m)\u001b[0m\u001b[1;33m\u001b[0m\u001b[1;33m\u001b[0m\u001b[0m\n",
      "\u001b[1;32m~\\anaconda3\\envs\\EphysPlotting\\lib\\site-packages\\IPython\\core\\ultratb.py\u001b[0m in \u001b[0;36mformat_exception_as_a_whole\u001b[1;34m(self, etype, evalue, etb, number_of_lines_of_context, tb_offset)\u001b[0m\n\u001b[0;32m   1080\u001b[0m \u001b[1;33m\u001b[0m\u001b[0m\n\u001b[0;32m   1081\u001b[0m \u001b[1;33m\u001b[0m\u001b[0m\n\u001b[1;32m-> 1082\u001b[1;33m         \u001b[0mlast_unique\u001b[0m\u001b[1;33m,\u001b[0m \u001b[0mrecursion_repeat\u001b[0m \u001b[1;33m=\u001b[0m \u001b[0mfind_recursion\u001b[0m\u001b[1;33m(\u001b[0m\u001b[0morig_etype\u001b[0m\u001b[1;33m,\u001b[0m \u001b[0mevalue\u001b[0m\u001b[1;33m,\u001b[0m \u001b[0mrecords\u001b[0m\u001b[1;33m)\u001b[0m\u001b[1;33m\u001b[0m\u001b[1;33m\u001b[0m\u001b[0m\n\u001b[0m\u001b[0;32m   1083\u001b[0m \u001b[1;33m\u001b[0m\u001b[0m\n\u001b[0;32m   1084\u001b[0m         \u001b[0mframes\u001b[0m \u001b[1;33m=\u001b[0m \u001b[0mself\u001b[0m\u001b[1;33m.\u001b[0m\u001b[0mformat_records\u001b[0m\u001b[1;33m(\u001b[0m\u001b[0mrecords\u001b[0m\u001b[1;33m,\u001b[0m \u001b[0mlast_unique\u001b[0m\u001b[1;33m,\u001b[0m \u001b[0mrecursion_repeat\u001b[0m\u001b[1;33m)\u001b[0m\u001b[1;33m\u001b[0m\u001b[1;33m\u001b[0m\u001b[0m\n",
      "\u001b[1;32m~\\anaconda3\\envs\\EphysPlotting\\lib\\site-packages\\IPython\\core\\ultratb.py\u001b[0m in \u001b[0;36mfind_recursion\u001b[1;34m(etype, value, records)\u001b[0m\n\u001b[0;32m    380\u001b[0m     \u001b[1;31m# first frame (from in to out) that looks different.\u001b[0m\u001b[1;33m\u001b[0m\u001b[1;33m\u001b[0m\u001b[1;33m\u001b[0m\u001b[0m\n\u001b[0;32m    381\u001b[0m     \u001b[1;32mif\u001b[0m \u001b[1;32mnot\u001b[0m \u001b[0mis_recursion_error\u001b[0m\u001b[1;33m(\u001b[0m\u001b[0metype\u001b[0m\u001b[1;33m,\u001b[0m \u001b[0mvalue\u001b[0m\u001b[1;33m,\u001b[0m \u001b[0mrecords\u001b[0m\u001b[1;33m)\u001b[0m\u001b[1;33m:\u001b[0m\u001b[1;33m\u001b[0m\u001b[1;33m\u001b[0m\u001b[0m\n\u001b[1;32m--> 382\u001b[1;33m         \u001b[1;32mreturn\u001b[0m \u001b[0mlen\u001b[0m\u001b[1;33m(\u001b[0m\u001b[0mrecords\u001b[0m\u001b[1;33m)\u001b[0m\u001b[1;33m,\u001b[0m \u001b[1;36m0\u001b[0m\u001b[1;33m\u001b[0m\u001b[1;33m\u001b[0m\u001b[0m\n\u001b[0m\u001b[0;32m    383\u001b[0m \u001b[1;33m\u001b[0m\u001b[0m\n\u001b[0;32m    384\u001b[0m     \u001b[1;31m# Select filename, lineno, func_name to track frames with\u001b[0m\u001b[1;33m\u001b[0m\u001b[1;33m\u001b[0m\u001b[1;33m\u001b[0m\u001b[0m\n",
      "\u001b[1;31mTypeError\u001b[0m: object of type 'NoneType' has no len()"
     ]
    }
   ],
   "source": [
    "pre_early_5k = []\n",
    "pre_early_11k = []\n",
    "pre_late_5k = []\n",
    "pre_late_11k = []\n",
    "pre_expert_5k = []\n",
    "pre_expert_11k = []\n",
    "post_early_5k = []\n",
    "post_early_11k = []\n",
    "post_late_5k = []\n",
    "post_late_11k = []\n",
    "post_expert_5k = []\n",
    "post_expert_11k = []\n",
    "\n",
    "for animal in animals:\n",
    "    print(animal)\n",
    "    \n",
    "    pre_early_best_freqs = []\n",
    "    pre_early_weights = []\n",
    "    pre_late_best_freqs = []\n",
    "    pre_late_weights = []\n",
    "    pre_expert_best_freqs = []\n",
    "    pre_expert_weights = []\n",
    "    post_early_best_freqs = []\n",
    "    post_early_weights = []\n",
    "    post_late_best_freqs = []\n",
    "    post_late_weights = []\n",
    "    post_expert_best_freqs = []\n",
    "    post_expert_weights = []\n",
    "\n",
    "    for idx,(session,clust) in tqdm(enumerate(zip(EnumSession,EnumClust))):\n",
    "        sessionfile = ilep.loadSessionCached(act_directory,session)\n",
    "        sessionfile = ilep.determineTuningCurveTones(sessionfile)\n",
    "\n",
    "        if sessionfile.meta.region != 'AC':\n",
    "            continue\n",
    "\n",
    "        if sessionfile.meta.animal != animal:\n",
    "            continue\n",
    "\n",
    "        if ilep.testInOrderTonePresentation(sessionfile):\n",
    "            continue\n",
    "\n",
    "        if len(np.unique(sessionfile.tuning.trial_freqs)) < 7:\n",
    "            continue\n",
    "\n",
    "        best_freqs = CalculateBestFrequencies(sessionfile,clust)\n",
    "        weights = np.ones_like(best_freqs) / len(best_freqs)\n",
    "        \n",
    "        print('Success')\n",
    "\n",
    "        if EILphases[idx] == 'pre early':\n",
    "            pre_early_best_freqs.append(best_freqs)\n",
    "            pre_early_weights.append(weights)\n",
    "        if EILphases[idx] == 'pre late':\n",
    "            pre_late_best_freqs.append(best_freqs)\n",
    "            pre_late_weights.append(weights)\n",
    "        if EILphases[idx] == 'pre expert':\n",
    "            pre_expert_best_freqs.append(best_freqs)\n",
    "            pre_expert_weights.append(weights)\n",
    "        if EILphases[idx] == 'post early':\n",
    "            post_early_best_freqs.append(best_freqs)\n",
    "            post_early_weights.append(weights)\n",
    "        if EILphases[idx] == 'post late':\n",
    "            post_late_best_freqs.append(best_freqs)\n",
    "            post_late_weights.append(weights)\n",
    "        if EILphases[idx] == 'post expert':\n",
    "            post_expert_best_freqs.append(best_freqs)\n",
    "            post_expert_weights.append(weights)\n",
    "            \n",
    "    print(len(pre_early_best_freqs))\n",
    "    print(len(pre_late_best_freqs))\n",
    "    print(len(pre_expert_best_freqs))\n",
    "    print(len(post_early_best_freqs))\n",
    "    print(len(post_late_best_freqs))\n",
    "    print(len(post_expert_best_freqs))\n",
    "            \n",
    "    if len(pre_early_best_freqs) > 0:\n",
    "        pre_early_best_freqs = np.concatenate(pre_early_best_freqs)\n",
    "        pre_early_weights = np.concatenate(pre_early_weights)\n",
    "    if len(pre_late_best_freqs) > 0:\n",
    "        pre_late_best_freqs = np.concatenate(pre_late_best_freqs)\n",
    "        pre_late_weights = np.concatenate(pre_late_weights)\n",
    "    if len(pre_expert_best_freqs) > 0:\n",
    "        pre_expert_best_freqs = np.concatenate(pre_expert_best_freqs)\n",
    "        pre_expert_weights = np.concatenate(pre_expert_weights)\n",
    "    if len(post_early_best_freqs) > 0:\n",
    "        post_early_best_freqs = np.concatenate(post_early_best_freqs)\n",
    "        post_early_weights = np.concatenate(post_early_weights)\n",
    "    if len(post_late_best_freqs) > 0:\n",
    "        post_late_best_freqs = np.concatenate(post_late_best_freqs)\n",
    "        post_late_weights = np.concatenate(post_late_weights)\n",
    "    if len(post_expert_best_freqs) > 0:\n",
    "        post_expert_best_freqs = np.concatenate(post_expert_best_freqs)\n",
    "        post_expert_weights = np.concatenate(post_expert_weights)\n",
    "    \n",
    "    if len(pre_early_best_freqs) > 0:\n",
    "        mask_5k = np.equal(pre_early_best_freqs,5648)\n",
    "        mask_11k = np.equal(pre_early_best_freqs,11260)\n",
    "        weight_5k = np.sum(pre_early_weights[mask_5k])\n",
    "        weight_11k = np.sum(pre_early_weights[mask_11k])\n",
    "        weight_total = np.sum(pre_early_weights)\n",
    "        pre_early_5k.append(weight_5k/weight_total)\n",
    "        pre_early_11k.append(weight_11k/weight_total)\n",
    "    \n",
    "    if len(pre_late_best_freqs) > 0:\n",
    "        mask_5k = np.equal(pre_late_best_freqs,5648)\n",
    "        mask_11k = np.equal(pre_late_best_freqs,11260)\n",
    "        weight_5k = np.sum(pre_late_weights[mask_5k])\n",
    "        weight_11k = np.sum(pre_late_weights[mask_11k])\n",
    "        weight_total = np.sum(pre_late_weights)\n",
    "        pre_late_5k.append(weight_5k/weight_total)\n",
    "        pre_late_11k.append(weight_11k/weight_total)\n",
    "        \n",
    "    if len(pre_expert_best_freqs) > 0:\n",
    "        mask_5k = np.equal(pre_expert_best_freqs,5648)\n",
    "        mask_11k = np.equal(pre_expert_best_freqs,11260)\n",
    "        weight_5k = np.sum(pre_expert_weights[mask_5k])\n",
    "        weight_11k = np.sum(pre_expert_weights[mask_11k])\n",
    "        weight_total = np.sum(pre_expert_weights)\n",
    "        pre_expert_5k.append(weight_5k/weight_total)\n",
    "        pre_expert_11k.append(weight_11k/weight_total)\n",
    "        \n",
    "        \n",
    "    if len(post_early_best_freqs) > 0:\n",
    "        mask_5k = np.equal(post_early_best_freqs,5648)\n",
    "        mask_11k = np.equal(post_early_best_freqs,11260)\n",
    "        weight_5k = np.sum(post_early_weights[mask_5k])\n",
    "        weight_11k = np.sum(post_early_weights[mask_11k])\n",
    "        weight_total = np.sum(post_early_weights)\n",
    "        post_early_5k.append(weight_5k/weight_total)\n",
    "        post_early_11k.append(weight_11k/weight_total)\n",
    "    \n",
    "    if len(post_late_best_freqs) > 0:\n",
    "        mask_5k = np.equal(post_late_best_freqs,5648)\n",
    "        mask_11k = np.equal(post_late_best_freqs,11260)\n",
    "        weight_5k = np.sum(post_late_weights[mask_5k])\n",
    "        weight_11k = np.sum(post_late_weights[mask_11k])\n",
    "        weight_total = np.sum(post_late_weights)\n",
    "        post_late_5k.append(weight_5k/weight_total)\n",
    "        post_late_11k.append(weight_11k/weight_total)\n",
    "        \n",
    "    if len(post_expert_best_freqs) > 0:\n",
    "        mask_5k = np.equal(post_expert_best_freqs,5648)\n",
    "        mask_11k = np.equal(post_expert_best_freqs,11260)\n",
    "        weight_5k = np.sum(post_expert_weights[mask_5k])\n",
    "        weight_11k = np.sum(post_expert_weights[mask_11k])\n",
    "        weight_total = np.sum(post_expert_weights)\n",
    "        post_expert_5k.append(weight_5k/weight_total)\n",
    "        post_expert_11k.append(weight_11k/weight_total)"
   ]
  },
  {
   "cell_type": "code",
   "execution_count": 15,
   "id": "159c365e-3096-4e7f-baac-2ec4e18cd428",
   "metadata": {},
   "outputs": [
    {
     "name": "stdout",
     "output_type": "stream",
     "text": [
      "5\n",
      "5\n"
     ]
    }
   ],
   "source": [
    "print(len(pre_early_5k))\n",
    "print(len(pre_early_11k))"
   ]
  },
  {
   "cell_type": "code",
   "execution_count": 16,
   "id": "c408c23a-3a8b-40f3-91f0-41fec184f83b",
   "metadata": {},
   "outputs": [
    {
     "name": "stdout",
     "output_type": "stream",
     "text": [
      "2\n",
      "2\n"
     ]
    }
   ],
   "source": [
    "print(len(pre_late_5k))\n",
    "print(len(pre_late_11k))"
   ]
  },
  {
   "cell_type": "code",
   "execution_count": 17,
   "id": "de80ae13-57cf-40fb-9222-d8b8272adfa6",
   "metadata": {},
   "outputs": [
    {
     "name": "stdout",
     "output_type": "stream",
     "text": [
      "2\n",
      "2\n"
     ]
    }
   ],
   "source": [
    "print(len(pre_expert_5k))\n",
    "print(len(pre_expert_11k))"
   ]
  },
  {
   "cell_type": "code",
   "execution_count": 18,
   "id": "d56e3038-b77d-475a-9be4-a3068b473932",
   "metadata": {},
   "outputs": [
    {
     "name": "stdout",
     "output_type": "stream",
     "text": [
      "3\n",
      "3\n"
     ]
    }
   ],
   "source": [
    "print(len(post_early_5k))\n",
    "print(len(post_early_11k))"
   ]
  },
  {
   "cell_type": "code",
   "execution_count": 19,
   "id": "d420580f-1432-470b-815f-3ea6e86b1319",
   "metadata": {},
   "outputs": [
    {
     "name": "stdout",
     "output_type": "stream",
     "text": [
      "2\n",
      "2\n"
     ]
    }
   ],
   "source": [
    "print(len(post_late_5k))\n",
    "print(len(post_late_11k))"
   ]
  },
  {
   "cell_type": "code",
   "execution_count": 20,
   "id": "f0dfa314-59c9-4b1b-96ae-24616b8c9510",
   "metadata": {
    "tags": []
   },
   "outputs": [
    {
     "name": "stdout",
     "output_type": "stream",
     "text": [
      "3\n",
      "3\n"
     ]
    }
   ],
   "source": [
    "print(len(post_expert_5k))\n",
    "print(len(post_expert_11k))"
   ]
  },
  {
   "cell_type": "code",
   "execution_count": null,
   "id": "57b60326-683b-4a6a-a2f1-27b07fb5875b",
   "metadata": {},
   "outputs": [],
   "source": []
  },
  {
   "cell_type": "code",
   "execution_count": null,
   "id": "b440179a-c0f1-4703-98d4-f11e8de562ca",
   "metadata": {},
   "outputs": [],
   "source": []
  },
  {
   "cell_type": "code",
   "execution_count": 22,
   "id": "5e739c96-17a8-4e63-8996-a0d40c3065bd",
   "metadata": {},
   "outputs": [],
   "source": [
    "data_dec5 = SimpleNamespace()\n",
    "data_dec5.preearly = np.abs(pre_early_5k)\n",
    "data_dec5.prelate = np.abs(pre_late_5k)\n",
    "data_dec5.preexpert = np.abs(pre_expert_5k)\n",
    "data_dec5.postearly = np.abs(post_early_5k)\n",
    "data_dec5.postlate = np.abs(post_late_5k)\n",
    "data_dec5.postexpert = np.abs(post_expert_5k)\n",
    "\n",
    "data_dec11 = SimpleNamespace()\n",
    "data_dec11.preearly = np.abs(pre_early_11k)\n",
    "data_dec11.prelate = np.abs(pre_late_11k)\n",
    "data_dec11.preexpert = np.abs(pre_expert_11k)\n",
    "data_dec11.postearly = np.abs(post_early_11k)\n",
    "data_dec11.postlate = np.abs(post_late_11k)\n",
    "data_dec11.postexpert = np.abs(post_expert_11k)"
   ]
  },
  {
   "cell_type": "code",
   "execution_count": 23,
   "id": "683feeae-0cfe-4660-beb6-dbcc7a19703a",
   "metadata": {},
   "outputs": [
    {
     "name": "stdout",
     "output_type": "stream",
     "text": [
      "            Source        SS    DF        MS         F     p-unc       np2\n",
      "0            phase  0.013993   3.0  0.004664  0.382227  0.767533  0.081057\n",
      "1          context  0.002070   1.0  0.002070  0.169653  0.687131  0.012882\n",
      "2  phase * context  0.005823   3.0  0.001941  0.159061  0.921946  0.035407\n",
      "3         Residual  0.158640  13.0  0.012203       NaN       NaN       NaN\n",
      "\n",
      "          phase         A             B     p-unc  p-corr    hedges\n",
      "7   post-expert  baseline  experimental  0.800000     1.0  0.145454\n",
      "8     post-late  baseline  experimental  0.800000     1.0 -0.323873\n",
      "9    pre-expert  baseline  experimental  0.666667     1.0 -0.423766\n",
      "10     pre-late  baseline  experimental  1.000000     1.0 -0.363861\n",
      "key preearly has 5 non-nan elements\n",
      "key prelate has 2 non-nan elements\n",
      "key preexpert has 2 non-nan elements\n",
      "key postearly has 3 non-nan elements\n",
      "key postlate has 2 non-nan elements\n",
      "key postexpert has 3 non-nan elements\n"
     ]
    }
   ],
   "source": [
    "ilep.nonparametricIndependentStatsCompareToPrevious(data_dec5)\n",
    "pass"
   ]
  },
  {
   "cell_type": "code",
   "execution_count": 24,
   "id": "36b3cd5c-8cb5-4102-a474-d3c85412be08",
   "metadata": {},
   "outputs": [
    {
     "name": "stdout",
     "output_type": "stream",
     "text": [
      "            Source        SS    DF        MS         F     p-unc       np2\n",
      "0            phase  0.017490   3.0  0.005830  1.294903  0.317814  0.230073\n",
      "1          context  0.005235   1.0  0.005235  1.162842  0.300480  0.082105\n",
      "2  phase * context  0.009017   3.0  0.003006  0.667584  0.586792  0.133492\n",
      "3         Residual  0.058528  13.0  0.004502       NaN       NaN       NaN\n",
      "\n",
      "          phase         A             B  p-unc  p-corr    hedges\n",
      "7   post-expert  baseline  experimental    0.2     0.8  1.414634\n",
      "8     post-late  baseline  experimental    0.8     1.0  0.604880\n",
      "9    pre-expert  baseline  experimental    1.0     1.0  0.165304\n",
      "10     pre-late  baseline  experimental    1.0     1.0 -0.277965\n",
      "key preearly has 5 non-nan elements\n",
      "key prelate has 2 non-nan elements\n",
      "key preexpert has 2 non-nan elements\n",
      "key postearly has 3 non-nan elements\n",
      "key postlate has 2 non-nan elements\n",
      "key postexpert has 3 non-nan elements\n"
     ]
    }
   ],
   "source": [
    "ilep.nonparametricIndependentStatsCompareToPrevious(data_dec11)\n",
    "pass"
   ]
  },
  {
   "cell_type": "code",
   "execution_count": 25,
   "id": "ba69b77c-7f0e-4a91-98eb-aacb47ad9825",
   "metadata": {},
   "outputs": [
    {
     "name": "stdout",
     "output_type": "stream",
     "text": [
      "            Source        SS    DF        MS         F     p-unc       np2\n",
      "0            phase  0.027153   5.0  0.005431  0.728966  0.609231  0.142127\n",
      "1          context  0.008440   1.0  0.008440  1.132901  0.298701  0.048974\n",
      "2  phase * context  0.022788   5.0  0.004558  0.611784  0.691902  0.122069\n",
      "3         Residual  0.163891  22.0  0.007450       NaN       NaN       NaN\n",
      "\n",
      "          phase  A  B     p-unc  p-corr    hedges\n",
      "16   post-early  A  B  1.000000     1.0 -0.404300\n",
      "17  post-expert  A  B  0.700000     1.0  0.633807\n",
      "18    post-late  A  B  1.000000     1.0  0.288523\n",
      "19    pre-early  A  B  1.000000     1.0  0.081850\n",
      "20   pre-expert  A  B  0.333333     1.0  2.759664\n",
      "21     pre-late  A  B  1.000000     1.0  0.015831\n",
      "key preearly has 5 and 5 non-nan elements\n",
      "key prelate has 2 and 2 non-nan elements\n",
      "key preexpert has 2 and 2 non-nan elements\n",
      "key postearly has 3 and 3 non-nan elements\n",
      "key postlate has 2 and 2 non-nan elements\n",
      "key postexpert has 3 and 3 non-nan elements\n"
     ]
    }
   ],
   "source": [
    "ilep.nonparametricIndependentStatsCompareToOther(data_dec5,data_dec11)\n",
    "pass"
   ]
  },
  {
   "cell_type": "code",
   "execution_count": null,
   "id": "7a4e6eec-fd71-4ee5-ab40-93c1b0cdb7b4",
   "metadata": {},
   "outputs": [],
   "source": []
  },
  {
   "cell_type": "code",
   "execution_count": null,
   "id": "0c9cf4a9-c1e5-4f4c-9330-563319847923",
   "metadata": {},
   "outputs": [],
   "source": []
  },
  {
   "cell_type": "code",
   "execution_count": null,
   "id": "02766e4d-27e7-4fc1-81ed-54a38738639e",
   "metadata": {},
   "outputs": [],
   "source": []
  },
  {
   "cell_type": "code",
   "execution_count": null,
   "id": "e944791f-2bcc-4e82-bb5a-1df03815d563",
   "metadata": {},
   "outputs": [],
   "source": []
  },
  {
   "cell_type": "code",
   "execution_count": null,
   "id": "8f354819-4b54-4c5f-95d8-d2c3242b9a73",
   "metadata": {},
   "outputs": [],
   "source": []
  },
  {
   "cell_type": "code",
   "execution_count": null,
   "id": "2fa56472-f01c-4a27-8a17-3cd2fc99cc6f",
   "metadata": {},
   "outputs": [],
   "source": []
  },
  {
   "cell_type": "code",
   "execution_count": null,
   "id": "b0a3556b-3bb8-4c73-a06c-22726e7ce78f",
   "metadata": {},
   "outputs": [],
   "source": []
  },
  {
   "cell_type": "code",
   "execution_count": null,
   "id": "a77dfe3e-50d3-47bc-a2a2-dc0b53b39f41",
   "metadata": {},
   "outputs": [],
   "source": []
  },
  {
   "cell_type": "code",
   "execution_count": null,
   "id": "77faf83f-fdcf-429c-828b-85a3de422f1b",
   "metadata": {},
   "outputs": [],
   "source": []
  },
  {
   "cell_type": "code",
   "execution_count": 35,
   "id": "c6a9c1f6-ed4d-4f8e-9efc-0b79ab6ba155",
   "metadata": {},
   "outputs": [],
   "source": [
    "# 0.05 = *\n",
    "# 0.01 = **\n",
    "# 0.001 = ***\n",
    "# 0.0001 = ****"
   ]
  },
  {
   "cell_type": "code",
   "execution_count": 34,
   "id": "5113afed-3900-4215-8bee-ee35d5e294ad",
   "metadata": {},
   "outputs": [],
   "source": [
    "\n",
    "# For the 5k tone:(nontarget for pre-reversal, target for post-reversal)\n",
    "# pre-late(p=1), pre-expert(p=0.47), post-early(p=0.95),post-late(p=0.95), post-expert(p=1)\n",
    "\n",
    "# For the 11k tone:(target for pre-reversal,nontarget for post-reversal)\n",
    "# pre-late(p=1), pre-expert(p=0.47), post-early(p=0.17),post-late(p=0.23), post-expert(p=0.23)"
   ]
  },
  {
   "cell_type": "code",
   "execution_count": null,
   "id": "64afecbb-c951-4b0f-9e14-8e623d047923",
   "metadata": {},
   "outputs": [],
   "source": [
    "          phase         A             B     p-unc    p-corr    hedges\n",
    "11   post-early  baseline  experimental  0.392857  0.952381 -0.779272\n",
    "12  post-expert  baseline  experimental  1.000000  1.000000 -0.450354\n",
    "13    post-late  baseline  experimental  0.571429  0.952381 -1.056598\n",
    "14   pre-expert  baseline  experimental  0.095238  0.476190 -1.887628\n",
    "15     pre-late  baseline  experimental  1.000000  1.000000 -0.363861"
   ]
  },
  {
   "cell_type": "code",
   "execution_count": null,
   "id": "e09f7720-5f54-4531-a5a2-44ea64c9b01e",
   "metadata": {},
   "outputs": [],
   "source": [
    "          phase         A             B     p-unc    p-corr    hedges\n",
    "11   post-early  baseline  experimental  0.035714  0.178571 -1.671079\n",
    "12  post-expert  baseline  experimental  0.142857  0.238095  1.012373\n",
    "13    post-late  baseline  experimental  0.095238  0.238095 -1.253931\n",
    "14   pre-expert  baseline  experimental  0.380952  0.476190  0.170338\n",
    "15     pre-late  baseline  experimental  1.000000  1.000000 -0.277965"
   ]
  },
  {
   "cell_type": "code",
   "execution_count": null,
   "id": "50fef0ff-c4ed-4f36-8357-e41c1ecc7151",
   "metadata": {},
   "outputs": [],
   "source": []
  },
  {
   "cell_type": "code",
   "execution_count": null,
   "id": "cfa878d4-d404-48e9-a782-837447fdd846",
   "metadata": {},
   "outputs": [],
   "source": []
  },
  {
   "cell_type": "code",
   "execution_count": null,
   "id": "143e2a41-8030-4a7f-ab18-773ead3ee3c7",
   "metadata": {},
   "outputs": [],
   "source": []
  },
  {
   "cell_type": "code",
   "execution_count": null,
   "id": "b40d6ac4-b6e2-48a5-866c-ee05659904f0",
   "metadata": {},
   "outputs": [],
   "source": []
  },
  {
   "cell_type": "code",
   "execution_count": 29,
   "id": "37e01457-5dbb-4c21-8779-8d17caa4d070",
   "metadata": {},
   "outputs": [
    {
     "name": "stdout",
     "output_type": "stream",
     "text": [
      "            Source        SS    DF        MS         F     p-unc       np2\n",
      "0            phase  0.026444   4.0  0.006611  0.935088  0.460429  0.134834\n",
      "1          context  0.007979   1.0  0.007979  1.128622  0.298643  0.044914\n",
      "2  phase * context  0.019209   4.0  0.004802  0.679247  0.613062  0.101695\n",
      "3         Residual  0.169675  24.0  0.007070       NaN       NaN       NaN\n",
      "\n",
      "          phase    A   B     p-unc  p-corr    hedges\n",
      "11   post-early  11k  5k  1.000000     1.0  0.404300\n",
      "12  post-expert  11k  5k  0.700000     1.0 -0.633807\n",
      "13    post-late  11k  5k  1.000000     1.0 -0.239154\n",
      "14   pre-expert  11k  5k  0.685714     1.0 -0.511419\n",
      "15     pre-late  11k  5k  1.000000     1.0 -0.081850\n"
     ]
    }
   ],
   "source": [
    "### Create dataframe ###\n",
    "phase = len(pre_early_5k)*[\"pre-late\"] + len(pre_early_11k)*[\"pre-late\"] \\\n",
    "    + len(pre_late_5k)*[\"pre-expert\"] + len(pre_late_11k)*[\"pre-expert\"] \\\n",
    "    + len(pre_expert_5k)*[\"pre-expert\"] + len(pre_expert_11k)*[\"pre-expert\"] \\\n",
    "    + len(post_early_5k)*[\"post-early\"] + len(post_early_11k)*[\"post-early\"] \\\n",
    "    + len(post_late_5k)*[\"post-late\"] + len(post_late_11k)*[\"post-late\"] \\\n",
    "    + len(post_expert_5k)*[\"post-expert\"] + len(post_expert_11k)*[\"post-expert\"]\n",
    "\n",
    "\n",
    "context = len(pre_early_5k)*[\"5k\"] + len(pre_early_11k)*[\"11k\"] \\\n",
    "    + len(pre_late_5k)*[\"5k\"] + len(pre_late_11k)*[\"11k\"] \\\n",
    "    + len(pre_expert_5k)*[\"5k\"] + len(pre_expert_11k)*[\"11k\"] \\\n",
    "    + len(post_early_5k)*[\"5k\"] + len(post_early_11k)*[\"11k\"] \\\n",
    "    + len(post_late_5k)*[\"5k\"] + len(post_late_11k)*[\"11k\"] \\\n",
    "    + len(post_expert_5k)*[\"5k\"] + len(post_expert_11k)*[\"11k\"]\n",
    "\n",
    "mod = (np.concatenate([pre_early_5k, pre_early_11k,\n",
    "    pre_late_5k, pre_late_11k,\n",
    "    pre_expert_5k, pre_expert_11k,\n",
    "    post_early_5k, post_early_11k,\n",
    "    post_late_5k, post_late_11k,\n",
    "    post_expert_5k, post_expert_11k]))\n",
    "\n",
    "df = pd.DataFrame({\"phase\": phase, \"context\": context, \"FR_mod\": mod})\n",
    "\n",
    "\n",
    "\n",
    "### Anova ###\n",
    "anova = pg.anova(data=df, dv='FR_mod', between=['phase','context'], detailed=True)\n",
    "print(anova)\n",
    "print()\n",
    "\n",
    "\n",
    "\n",
    "### Create and print results ###\n",
    "pairwise_mwu = pg.pairwise_tests(data=df, dv='FR_mod', between=['phase','context'], padjust=\"fdr_bh\", parametric=False, )\n",
    "print(pairwise_mwu[pairwise_mwu[\"Contrast\"] == \"phase * context\"][[\"phase\",\"A\", \"B\", \"p-unc\", \"p-corr\", \"hedges\"]])"
   ]
  },
  {
   "cell_type": "code",
   "execution_count": null,
   "id": "efdd4562-2586-47e7-89c7-06e074d26bf5",
   "metadata": {},
   "outputs": [],
   "source": []
  },
  {
   "cell_type": "code",
   "execution_count": null,
   "id": "217625cf-39e4-4323-8f69-b16b4f80f0e5",
   "metadata": {},
   "outputs": [],
   "source": []
  },
  {
   "cell_type": "code",
   "execution_count": null,
   "id": "166ef9a6-553e-4704-b3fb-5238a16ed60a",
   "metadata": {},
   "outputs": [],
   "source": []
  },
  {
   "cell_type": "code",
   "execution_count": null,
   "id": "ced65442-9d6b-4eb4-afa1-d0debda9e8f2",
   "metadata": {},
   "outputs": [],
   "source": []
  },
  {
   "cell_type": "code",
   "execution_count": null,
   "id": "8a4d45e4-d8e3-4c52-a7b4-d0bc3c670056",
   "metadata": {},
   "outputs": [],
   "source": []
  },
  {
   "cell_type": "code",
   "execution_count": 12,
   "id": "cf662c54-0c7c-42d2-94f3-a2ad3c357ff2",
   "metadata": {},
   "outputs": [
    {
     "data": {
      "text/plain": [
       "['BS_173',\n",
       " 'BS_175',\n",
       " 'BS_187',\n",
       " 'BS_188',\n",
       " 'BS_213',\n",
       " 'BS_214',\n",
       " 'AE_235',\n",
       " 'AE_236',\n",
       " 'TH_237',\n",
       " 'AE_252']"
      ]
     },
     "execution_count": 12,
     "metadata": {},
     "output_type": "execute_result"
    }
   ],
   "source": [
    "animals"
   ]
  },
  {
   "cell_type": "code",
   "execution_count": null,
   "id": "bef7629d-6220-4569-a610-d21ee79d1675",
   "metadata": {},
   "outputs": [],
   "source": []
  },
  {
   "cell_type": "code",
   "execution_count": null,
   "id": "839c843d-a3d9-4a4a-89c7-a175099f4b15",
   "metadata": {},
   "outputs": [],
   "source": []
  },
  {
   "cell_type": "code",
   "execution_count": null,
   "id": "515106ea-b766-4723-ae51-5c738a051921",
   "metadata": {},
   "outputs": [],
   "source": []
  },
  {
   "cell_type": "markdown",
   "id": "6c36c261-70a2-47b4-aec4-a0d75e710018",
   "metadata": {},
   "source": [
    "# Tuning Stats Bootstrapped"
   ]
  },
  {
   "cell_type": "code",
   "execution_count": null,
   "id": "a2562719-b5a8-4e6b-bbf2-613e1fa5f7f0",
   "metadata": {},
   "outputs": [],
   "source": []
  },
  {
   "cell_type": "code",
   "execution_count": 34,
   "id": "36024785-a794-40b6-a810-34891bcbca56",
   "metadata": {},
   "outputs": [
    {
     "name": "stderr",
     "output_type": "stream",
     "text": [
      "1261it [00:37, 33.34it/s] \n",
      "1261it [00:37, 33.36it/s] \n",
      "1261it [00:37, 33.56it/s] \n",
      "1261it [00:37, 33.92it/s] \n",
      "1261it [00:37, 34.02it/s] \n",
      "1261it [00:37, 33.27it/s] \n",
      "1261it [00:38, 33.06it/s] \n",
      "1261it [00:38, 32.74it/s] \n",
      "1261it [00:38, 33.00it/s] \n",
      "1261it [00:34, 36.14it/s] \n"
     ]
    }
   ],
   "source": [
    "pre_early_best_freqs = []\n",
    "pre_early_weights = []\n",
    "pre_late_best_freqs = []\n",
    "pre_late_weights = []\n",
    "pre_expert_best_freqs = []\n",
    "pre_expert_weights = []\n",
    "post_early_best_freqs = []\n",
    "post_early_weights = []\n",
    "post_late_best_freqs = []\n",
    "post_late_weights = []\n",
    "post_expert_best_freqs = []\n",
    "post_expert_weights = []\n",
    "\n",
    "\n",
    "for animal in animals:\n",
    "    \n",
    "    animal_pre_early_best_freqs = []\n",
    "    animal_pre_early_weights = []\n",
    "    animal_pre_late_best_freqs = []\n",
    "    animal_pre_late_weights = []\n",
    "    animal_pre_expert_best_freqs = []\n",
    "    animal_pre_expert_weights = []\n",
    "    animal_post_early_best_freqs = []\n",
    "    animal_post_early_weights = []\n",
    "    animal_post_late_best_freqs = []\n",
    "    animal_post_late_weights = []\n",
    "    animal_post_expert_best_freqs = []\n",
    "    animal_post_expert_weights = []\n",
    "    \n",
    "    for idx,(session,clust) in tqdm(enumerate(zip(EnumSession,EnumClust))):\n",
    "        sessionfile = ilep.loadSessionCached(act_directory,session)\n",
    "        sessionfile = ilep.determineTuningCurveTones(sessionfile)\n",
    "        if sessionfile.meta.animal != animal:\n",
    "            continue\n",
    "\n",
    "        if sessionfile.meta.region != 'AC':\n",
    "            continue\n",
    "        if sessionfile.meta.animal == 'BS_214' and sessionfile.meta.day_of_training >= 3:\n",
    "            continue\n",
    "        if ilep.testInOrderTonePresentation(sessionfile):\n",
    "            continue\n",
    "        if len(np.unique(sessionfile.tuning.trial_freqs)) < 7:\n",
    "            continue\n",
    "\n",
    "        best_freqs = CalculateBestFrequencies(sessionfile,clust)\n",
    "        weights = np.ones_like(best_freqs) / len(best_freqs)\n",
    "\n",
    "        if EILphases[idx] == 'pre early':\n",
    "            animal_pre_early_best_freqs.append(best_freqs)\n",
    "            animal_pre_early_weights.append(weights)\n",
    "        if EILphases[idx] == 'pre late':\n",
    "            animal_pre_late_best_freqs.append(best_freqs)\n",
    "            animal_pre_late_weights.append(weights)\n",
    "        if EILphases[idx] == 'pre expert':\n",
    "            animal_pre_expert_best_freqs.append(best_freqs)\n",
    "            animal_pre_expert_weights.append(weights)\n",
    "        if EILphases[idx] == 'post early':\n",
    "            animal_post_early_best_freqs.append(best_freqs)\n",
    "            animal_post_early_weights.append(weights)\n",
    "        if EILphases[idx] == 'post late':\n",
    "            animal_post_late_best_freqs.append(best_freqs)\n",
    "            animal_post_late_weights.append(weights)\n",
    "        if EILphases[idx] == 'post expert':\n",
    "            animal_post_expert_best_freqs.append(best_freqs)\n",
    "            animal_post_expert_weights.append(weights)\n",
    "            \n",
    "    pre_early_best_freqs.append(animal_pre_early_best_freqs)\n",
    "    pre_early_weights.append(animal_pre_early_weights)\n",
    "    pre_late_best_freqs.append(animal_pre_late_best_freqs)\n",
    "    pre_late_weights.append(animal_pre_late_weights)\n",
    "    pre_expert_best_freqs.append(animal_pre_expert_best_freqs)\n",
    "    pre_expert_weights.append(animal_pre_expert_weights)\n",
    "    post_early_best_freqs.append(animal_post_early_best_freqs)\n",
    "    post_early_weights.append(animal_post_early_weights)\n",
    "    post_late_best_freqs.append(animal_post_late_best_freqs)\n",
    "    post_late_weights.append(animal_post_late_weights)\n",
    "    post_expert_best_freqs.append(animal_post_expert_best_freqs)\n",
    "    post_expert_weights.append(animal_post_expert_weights)\n"
   ]
  },
  {
   "cell_type": "code",
   "execution_count": null,
   "id": "1bf4ba24-5ef3-4914-be47-06063ad26b8c",
   "metadata": {
    "tags": []
   },
   "outputs": [],
   "source": []
  },
  {
   "cell_type": "code",
   "execution_count": null,
   "id": "de5160ce-034d-4f41-8281-7d8d9a92ffaa",
   "metadata": {
    "tags": []
   },
   "outputs": [],
   "source": []
  },
  {
   "cell_type": "code",
   "execution_count": 38,
   "id": "418c6155-cded-40d5-a409-40de68443824",
   "metadata": {
    "tags": []
   },
   "outputs": [
    {
     "name": "stdout",
     "output_type": "stream",
     "text": [
      "done\n"
     ]
    }
   ],
   "source": [
    "print('done')"
   ]
  },
  {
   "cell_type": "code",
   "execution_count": 231,
   "id": "5528b60f-ac5e-42ab-b1cf-4b48306949b0",
   "metadata": {
    "tags": []
   },
   "outputs": [
    {
     "name": "stderr",
     "output_type": "stream",
     "text": [
      "<ipython-input-221-db38f469fd10>:7: VisibleDeprecationWarning: Creating an ndarray from ragged nested sequences (which is a list-or-tuple of lists-or-tuples-or ndarrays with different lengths or shapes) is deprecated. If you meant to do this, you must specify 'dtype=object' when creating the ndarray.\n",
      "  Xf = np.array(Xf)\n",
      "<ipython-input-221-db38f469fd10>:8: VisibleDeprecationWarning: Creating an ndarray from ragged nested sequences (which is a list-or-tuple of lists-or-tuples-or ndarrays with different lengths or shapes) is deprecated. If you meant to do this, you must specify 'dtype=object' when creating the ndarray.\n",
      "  Xw = np.array(Xw)\n",
      "<ipython-input-221-db38f469fd10>:13: VisibleDeprecationWarning: Creating an ndarray from ragged nested sequences (which is a list-or-tuple of lists-or-tuples-or ndarrays with different lengths or shapes) is deprecated. If you meant to do this, you must specify 'dtype=object' when creating the ndarray.\n",
      "  Yf = np.array(Yf)\n",
      "<ipython-input-221-db38f469fd10>:14: VisibleDeprecationWarning: Creating an ndarray from ragged nested sequences (which is a list-or-tuple of lists-or-tuples-or ndarrays with different lengths or shapes) is deprecated. If you meant to do this, you must specify 'dtype=object' when creating the ndarray.\n",
      "  Yw = np.array(Yw)\n"
     ]
    },
    {
     "name": "stdout",
     "output_type": "stream",
     "text": [
      "[0.0967168 0.0967168 0.640744  0.0967168]\n",
      "[0.57224229 0.0967168  0.0967168  0.107552  ]\n"
     ]
    }
   ],
   "source": [
    "p1 = bootstrap_pc_tuned_test(pre_early_best_freqs,pre_early_weights,pre_late_best_freqs,pre_late_weights,B=250000,test_freqs=[11260,11260])\n",
    "p2 = bootstrap_pc_tuned_test(pre_late_best_freqs,pre_late_weights,pre_expert_best_freqs,pre_expert_weights,B=250000,test_freqs=[11260,11260])\n",
    "p3 = bootstrap_pc_tuned_test(post_early_best_freqs,post_early_weights,post_late_best_freqs,post_late_weights,B=250000,test_freqs=[11260,11260])\n",
    "p4 = bootstrap_pc_tuned_test(post_late_best_freqs,post_late_weights,post_expert_best_freqs,post_expert_weights,B=250000,test_freqs=[11260,11260])\n",
    "\n",
    "p5 = bootstrap_pc_tuned_test(pre_early_best_freqs,pre_early_weights,pre_late_best_freqs,pre_late_weights,B=250000,test_freqs=[5648,5648])\n",
    "p6 = bootstrap_pc_tuned_test(pre_late_best_freqs,pre_late_weights,pre_expert_best_freqs,pre_expert_weights,B=250000,test_freqs=[5648,5648])\n",
    "p7 = bootstrap_pc_tuned_test(post_early_best_freqs,post_early_weights,post_late_best_freqs,post_late_weights,B=250000,test_freqs=[5648,5648])\n",
    "p8 = bootstrap_pc_tuned_test(post_late_best_freqs,post_late_weights,post_expert_best_freqs,post_expert_weights,B=250000,test_freqs=[5648,5648])\n",
    "\n",
    "_,p_corr = pg.multicomp([p1,p2,p3,p4,p5,p6,p7,p8],method='fdr_bh')\n",
    "print(p_corr[0:4])\n",
    "print(p_corr[4:8])"
   ]
  },
  {
   "cell_type": "code",
   "execution_count": null,
   "id": "b158914f-7542-4fdc-b702-6e545ce1a414",
   "metadata": {
    "tags": []
   },
   "outputs": [],
   "source": []
  },
  {
   "cell_type": "code",
   "execution_count": null,
   "id": "93d7b249-4a27-4b9c-a173-4cf54b255317",
   "metadata": {
    "tags": []
   },
   "outputs": [],
   "source": []
  },
  {
   "cell_type": "code",
   "execution_count": null,
   "id": "5ad00e42-748b-4b5a-9820-2bf4317fa9ab",
   "metadata": {
    "tags": []
   },
   "outputs": [],
   "source": []
  },
  {
   "cell_type": "code",
   "execution_count": 36,
   "id": "b07ba504-5d67-4513-b034-dca1ccc91c63",
   "metadata": {},
   "outputs": [],
   "source": [
    "def bootstrap_pc_tuned_test(Xf,Xw,Yf,Yw,B=250000,test_freqs=[11260,5648]):\n",
    "    #https://www.ncbi.nlm.nih.gov/pmc/articles/PMC7906290/\n",
    "    #Application of the hierarchical bootstrap to multi-level data in neuroscience\n",
    "    #Saravanan et al.\n",
    "    \n",
    "    #Testing against the null hypothesis that these two groups are the same\n",
    "    Xf = np.array(Xf)\n",
    "    Xw = np.array(Xw)\n",
    "    mask = np.greater([len(l) for l in Xf],0)\n",
    "    Xf = Xf[mask]\n",
    "    Xw = Xw[mask]\n",
    "    \n",
    "    Yf = np.array(Yf)\n",
    "    Yw = np.array(Yw)\n",
    "    mask = np.greater([len(l) for l in Yf],0)\n",
    "    Yf = Yf[mask]\n",
    "    Yw = Yw[mask]\n",
    "\n",
    "    #Handle differing CR NCR Thresholds. Scale up to 2 if only one is provided\n",
    "    if len(test_freqs) == 1:\n",
    "        test_freqs = [test_freqs[0],test_freqs[0]]\n",
    "    \n",
    "    MwX_list = []\n",
    "    for idx_B in range(B):\n",
    "        \n",
    "        this_sample_freqs = []\n",
    "        this_sample_weights = []\n",
    "        for f,w in zip(Xf,Xw):\n",
    "            assert len(f) == len(w)\n",
    "            n = len(f)\n",
    "            \n",
    "            ftemp = np.empty(len(f), object)\n",
    "            for idx_f in range(len(f)):\n",
    "                ftemp[idx_f] = f[idx_f]\n",
    "            f = ftemp\n",
    "            \n",
    "            wtemp = np.empty(len(w), object)\n",
    "            for idx_w in range(len(w)):\n",
    "                wtemp[idx_w] = w[idx_w]\n",
    "            w = wtemp\n",
    "            \n",
    "            idxs = np.random.choice(range(n),n)\n",
    "            this_sample_freqs.append(f[idxs])\n",
    "            this_sample_weights.append(w[idxs])\n",
    "        \n",
    "        this_sample_freqs = np.concatenate(np.concatenate(this_sample_freqs))\n",
    "        this_sample_weights = np.concatenate(np.concatenate(this_sample_weights))\n",
    "        \n",
    "        matched_idx = np.equal(this_sample_freqs,test_freqs[0])\n",
    "        this_pc = np.sum(this_sample_weights[matched_idx]) / np.sum(this_sample_weights)\n",
    "        MwX_list.append(this_pc)\n",
    "        \n",
    "    MwY_list = []\n",
    "    for idx_B in range(B):\n",
    "        \n",
    "        this_sample_freqs = []\n",
    "        this_sample_weights = []\n",
    "        for f,w in zip(Yf,Yw):\n",
    "            assert len(f) == len(w)\n",
    "            n = len(f)\n",
    "            \n",
    "            ftemp = np.empty(len(f), object)\n",
    "            for idx_f in range(len(f)):\n",
    "                ftemp[idx_f] = f[idx_f]\n",
    "            f = ftemp\n",
    "            \n",
    "            wtemp = np.empty(len(w), object)\n",
    "            for idx_w in range(len(w)):\n",
    "                wtemp[idx_w] = w[idx_w]\n",
    "            w = wtemp\n",
    "            \n",
    "            idxs = np.random.choice(range(n),n)\n",
    "            this_sample_freqs.append(f[idxs])\n",
    "            this_sample_weights.append(w[idxs])\n",
    "        \n",
    "        this_sample_freqs = np.concatenate(np.concatenate(this_sample_freqs))\n",
    "        this_sample_weights = np.concatenate(np.concatenate(this_sample_weights))\n",
    "        \n",
    "        matched_idx = np.equal(this_sample_freqs,test_freqs[1])\n",
    "        this_pc = np.sum(this_sample_weights[matched_idx]) / np.sum(this_sample_weights)\n",
    "        MwY_list.append(this_pc)\n",
    "        \n",
    "    #Two-sided test\n",
    "    diffs = (np.array(MwY_list) - np.array(MwX_list))\n",
    "    pY = 1 - np.mean(np.greater(diffs,0))\n",
    "    pX = 1 - np.mean(np.less(diffs,0))\n",
    "    pboot = min(pX,pY)*2\n",
    "    return pboot"
   ]
  },
  {
   "cell_type": "code",
   "execution_count": null,
   "id": "a19c5652-9920-4d12-a8a2-6c04b4872a80",
   "metadata": {},
   "outputs": [],
   "source": []
  },
  {
   "cell_type": "code",
   "execution_count": null,
   "id": "5b1ba496-41b8-4b2e-859b-fa7a94650c77",
   "metadata": {},
   "outputs": [],
   "source": []
  },
  {
   "cell_type": "code",
   "execution_count": 201,
   "id": "41af003e-6cfc-4035-8fbc-cee9604956c9",
   "metadata": {},
   "outputs": [
    {
     "data": {
      "text/plain": [
       "[array([5648]), array([8000]), array([8000]), array([5648]), array([8000])]"
      ]
     },
     "execution_count": 201,
     "metadata": {},
     "output_type": "execute_result"
    }
   ],
   "source": [
    "post_expert_best_freqs[3]"
   ]
  },
  {
   "cell_type": "code",
   "execution_count": 203,
   "id": "3568ed95-7f0c-4e65-941e-b636f4220101",
   "metadata": {},
   "outputs": [
    {
     "data": {
      "text/plain": [
       "array([[5648],\n",
       "       [8000],\n",
       "       [8000],\n",
       "       [5648],\n",
       "       [8000]], dtype=object)"
      ]
     },
     "execution_count": 203,
     "metadata": {},
     "output_type": "execute_result"
    }
   ],
   "source": [
    "np.array(post_expert_best_freqs[3],dtype='object')"
   ]
  },
  {
   "cell_type": "code",
   "execution_count": null,
   "id": "19d809ae-f29d-431d-8c36-aee2c7af8d5a",
   "metadata": {},
   "outputs": [],
   "source": []
  }
 ],
 "metadata": {
  "kernelspec": {
   "display_name": "Python 3",
   "language": "python",
   "name": "python3"
  },
  "language_info": {
   "codemirror_mode": {
    "name": "ipython",
    "version": 3
   },
   "file_extension": ".py",
   "mimetype": "text/x-python",
   "name": "python",
   "nbconvert_exporter": "python",
   "pygments_lexer": "ipython3",
   "version": "3.8.8"
  }
 },
 "nbformat": 4,
 "nbformat_minor": 5
}
