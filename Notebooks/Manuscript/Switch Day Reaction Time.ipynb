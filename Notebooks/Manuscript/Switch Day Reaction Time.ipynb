{
 "cells": [
  {
   "cell_type": "code",
   "execution_count": 1,
   "id": "3aa9ffa9-4c2b-4a79-95aa-02c51c983cb1",
   "metadata": {},
   "outputs": [],
   "source": [
    "import sys, os\n",
    "import json, pickle\n",
    "import matplotlib.pyplot as plt\n",
    "import matplotlib as mpl\n",
    "import numpy as np\n",
    "import pandas as pd\n",
    "import time as pytime\n",
    "import statsmodels.tsa.stattools as tsa\n",
    "import ruptures as rpt\n",
    "sys.path.append('../..')\n",
    "import InsanallyLabEphysTools as ilep\n",
    "from scipy.stats import gaussian_kde, sem, ttest_ind, ttest_rel, norm, mannwhitneyu, linregress, wilcoxon\n",
    "from tqdm import tqdm\n",
    "from types import SimpleNamespace\n",
    "from sklearn import linear_model\n",
    "from sklearn.model_selection import KFold\n",
    "import seaborn as sns\n",
    "import traceback\n",
    "from itertools import product\n",
    "from brokenaxes import brokenaxes\n",
    "\n",
    "plt.rcParams['legend.fontsize'] = 'small'\n",
    "plt.rcParams['axes.labelsize'] = 'medium'\n",
    "plt.rcParams['axes.formatter.limits'] = [-2,3]\n",
    "plt.rcParams['axes.formatter.use_mathtext'] = True\n",
    "plt.rcParams['axes.spines.top'] = False\n",
    "plt.rcParams['axes.spines.right'] = False\n",
    "plt.rcParams['xtick.direction'] = 'in'\n",
    "plt.rcParams['ytick.direction'] = 'in'\n",
    "plt.rcParams['figure.dpi'] = '150'\n",
    "\n",
    "#Set global font parameters\n",
    "plt.rcParams['font.family'] = 'sans-serif'\n",
    "plt.rcParams['font.sans-serif'] = 'Arial'\n",
    "#Set font type to TrueType for compatibility\n",
    "plt.rcParams['pdf.fonttype'] = 42\n",
    "plt.rcParams['ps.fonttype'] = 42\n",
    "\n",
    "TARGET_COLOR = '#ff3654'\n",
    "NONTARGET_COLOR = '#5776ff'\n",
    "\n",
    "CR_COLOR = '#808080'\n",
    "NCR_COLOR = '#FF767C'\n",
    "CNO_COLOR = '#00BFFF'\n",
    "SWITCH_COLOR = '#B07A3B'\n",
    "GOOD_GREY = '#969696'\n",
    "GOOD_GREEN = '#32A852'\n",
    "NCR_CR_cmap = mpl.colors.LinearSegmentedColormap.from_list('NCR-CR color map', [NCR_COLOR, CR_COLOR], N=1000)\n",
    "PHASE_COLORS = ['#DEB9E0','#B78AB9','#906D92','#ABC5E8','#869BB7','#5E6C80']\n",
    "\n",
    "dualanimalnames = ['BS_40','BS_41','BS_42','BS_49','BS_50','BS_51','BS_56','BS_59','BS_67','BS_70','BS_72','BS_87','BS_108']\n",
    "danimals = ['DS_15','DS_19','DS_24','DS_27','DS_28']\n",
    "animals = np.concatenate((dualanimalnames,danimals))\n",
    "\n",
    "#act_directory = 'D:\\\\Analysis_Cache_archived_Oct_27_2022'\n",
    "act_directory = 'D:\\\\Analysis_Cache'\n",
    "ops_directory = 'D:\\\\Opsin_Cache'\n",
    "beh_directory = 'P:\\\\Behavioor'\n",
    "\n",
    "stim25sdecodingfilename = 'D:\\\\stimdecoding_25s.csv'\n",
    "choicedecodingfilename = 'D:\\\\choicedecoding.csv'\n",
    "\n",
    "current_version = 0 #July 3rd, 2023"
   ]
  },
  {
   "cell_type": "code",
   "execution_count": 2,
   "id": "2722db8b-3860-4439-8500-67a39b7e8b5d",
   "metadata": {
    "tags": []
   },
   "outputs": [
    {
     "name": "stdout",
     "output_type": "stream",
     "text": [
      "Fetching files for BS_51\n",
      "Fetching files for BS_52\n",
      "Fetching files for BS_56\n",
      "Fetching files for BS_59\n",
      "Fetching files for BS_61\n",
      "Fetching files for BS_86\n",
      "Fetching files for BS_92\n",
      "Fetching files for BS_100\n",
      "Fetching files for BS_103\n",
      "Fetching files for BS_111\n",
      "Fetching files for BS_119\n",
      "Fetching files for BS_123\n",
      "Fetching files for BS_128\n",
      "Fetching files for BS_131\n",
      "Fetching files for BS_139\n",
      "Fetching files for BS_163\n",
      "Fetching files for BS_165\n",
      "Fetching files for BS_174\n",
      "Fetching files for BS_179\n",
      "Fetching files for BS_191\n",
      "Fetching files for BS_192\n",
      "Fetching files for BS_33\n",
      "Fetching files for BS_67\n",
      "Fetching files for BS_73\n",
      "Fetching files for BS_78\n",
      "Fetching files for BS_108\n",
      "Fetching files for BS_40\n",
      "Fetching files for BS_41\n",
      "Fetching files for BS_42\n",
      "Fetching files for BS_49\n",
      "Fetching files for BS_50\n",
      "Fetching files for BS_70\n",
      "Fetching files for BS_72\n",
      "Fetching files for BS_83\n",
      "Fetching files for BS_85\n",
      "Fetching files for BS_87\n",
      "Fetching files for BS_95\n",
      "Fetching files for BS_113\n",
      "Fetching files for DS_15\n",
      "Fetching files for DS_16\n",
      "Fetching files for DS_19\n"
     ]
    },
    {
     "name": "stderr",
     "output_type": "stream",
     "text": [
      "C:\\Users\\insan\\anaconda3\\envs\\EphysPlotting\\lib\\site-packages\\outdated\\utils.py:14: OutdatedPackageWarning: The package pingouin is out of date. Your version is 0.5.2, the latest is 0.5.3.\n",
      "Set the environment variable OUTDATED_IGNORE=1 to disable these warnings.\n",
      "  return warn(\n"
     ]
    },
    {
     "name": "stdout",
     "output_type": "stream",
     "text": [
      "Fetching files for DS_24\n",
      "Fetching files for DS_27\n",
      "Fetching files for DS_28\n",
      "Fetching files for DS_17\n",
      "Fetching files for DS_22\n",
      "Fetching files for DS_13\n",
      "Fetching files for DS_23\n",
      "Fetching files for BS_173\n",
      "Fetching files for BS_175\n",
      "Fetching files for BS_187\n",
      "Fetching files for BS_188\n",
      "Fetching files for BS_213\n",
      "Fetching files for BS_214\n",
      "Fetching files for TH_217\n",
      "Fetching files for AE_235\n",
      "Fetching files for AE_236\n",
      "Fetching files for TH_237\n",
      "Fetching files for AE_238\n",
      "Fetching files for AE_239\n",
      "Fetching files for AE_240\n",
      "P:\\Behavioor\\BS_61\\behavior\\BS_61_42v2_reversal.txt: No columns to parse from file\n",
      "P:\\Behavioor\\BS_103\\behavior\\BS_103_11v4_opto.txt: No columns to parse from file\n",
      "P:\\Behavioor\\BS_123\\behavior\\BS_123_18v1_opto.txt: No columns to parse from file\n",
      "ERROR: MULTIPLE REVERSALS IN ANIMAL BS_179\n",
      "P:\\Behavioor\\BS_191\\behavior\\BS_191_1v2.txt: No columns to parse from file\n",
      "P:\\Behavioor\\BS_33\\behavior\\BS_33_9v1.txt: No columns to parse from file\n",
      "P:\\Behavioor\\BS_33\\behavior\\BS_33_20v1_reversal.txt: No columns to parse from file\n",
      "P:\\Behavioor\\BS_49\\behavior\\BS_49_14v4_reversal.txt: No columns to parse from file\n",
      "P:\\Behavioor\\BS_87\\behavior\\BS_87_1v1.txt: No columns to parse from file\n",
      "P:\\Behavioor\\BS_173\\behavior\\BS_173_9v2.txt: No columns to parse from file\n",
      "P:\\Behavioor\\AE_238\\behavior\\AE_238_48v2.txt: No columns to parse from file\n",
      "P:\\Behavioor\\AE_239\\behavior\\AE_239_27v3.txt: No columns to parse from file\n"
     ]
    }
   ],
   "source": [
    "animalBehaviors = ilep.getAllBehavior(beh_directory)"
   ]
  },
  {
   "cell_type": "code",
   "execution_count": 3,
   "id": "e2083e22-24a9-4e12-8af5-1e689b6a46f5",
   "metadata": {
    "tags": []
   },
   "outputs": [
    {
     "name": "stderr",
     "output_type": "stream",
     "text": [
      "100%|██████████| 661/661 [00:05<00:00, 110.55it/s]\n"
     ]
    }
   ],
   "source": [
    "EnumSession = []\n",
    "EnumClust = []\n",
    "sessions = os.listdir(act_directory)\n",
    "for session in tqdm(sessions):\n",
    "    sessionfile = ilep.loadSessionCached(act_directory,session)\n",
    "    \n",
    "    if sessionfile.meta.task in ['passive no beahvior']:\n",
    "        continue\n",
    "    if sessionfile.meta.task in ['tuning nonreversal','tuning switch','tuning reversal']:\n",
    "        continue\n",
    "    if sessionfile.meta.region != 'AC':\n",
    "        continue\n",
    "        \n",
    "    if sessionfile.meta.animal not in animals:\n",
    "        continue\n",
    "    \n",
    "    if sessionfile.meta.task not in ['switch']:\n",
    "        continue\n",
    "    \n",
    "#     for clust in sessionfile.clusters.good:\n",
    "    EnumSession.append(session)\n",
    "#         EnumClust.append(clust)"
   ]
  },
  {
   "cell_type": "code",
   "execution_count": null,
   "id": "52a20c53-d78d-4bc2-9735-dca2f88ce432",
   "metadata": {},
   "outputs": [],
   "source": []
  },
  {
   "cell_type": "code",
   "execution_count": null,
   "id": "c9a4be85-2f04-4402-9c2f-0b825f166bdb",
   "metadata": {},
   "outputs": [],
   "source": []
  },
  {
   "cell_type": "code",
   "execution_count": null,
   "id": "1a0d2339-a783-4451-bc79-7d69b91d38b1",
   "metadata": {},
   "outputs": [],
   "source": []
  },
  {
   "cell_type": "code",
   "execution_count": null,
   "id": "d9a9e281-0ac1-4309-8272-734ac4eb7f36",
   "metadata": {},
   "outputs": [],
   "source": []
  },
  {
   "cell_type": "code",
   "execution_count": 4,
   "id": "c3f25fcb-80b1-4edf-9713-0394e25c7bdb",
   "metadata": {},
   "outputs": [],
   "source": [
    "trialsPerDayLoaded = 'NO_TRIM'\n",
    "        \n",
    "def getReactionTimes(sessionfile):\n",
    "    trials_to_use = trialsPerDayLoaded[sessionfile.meta.animal][sessionfile.meta.day_of_training]\n",
    "    \n",
    "    response_times = sessionfile.trials.response[trials_to_use]\n",
    "    start_times = sessionfile.trials.starts[trials_to_use]\n",
    "\n",
    "    session_reaction_times = response_times - start_times\n",
    "    session_reaction_times = session_reaction_times[sessionfile.trials.go[trials_to_use]]\n",
    "    \n",
    "    return session_reaction_times"
   ]
  },
  {
   "cell_type": "code",
   "execution_count": null,
   "id": "a739bd5c-f3e7-4b2b-b000-cafca15e48a5",
   "metadata": {
    "tags": []
   },
   "outputs": [
    {
     "name": "stderr",
     "output_type": "stream",
     "text": [
      "8it [00:00, 70.13it/s]"
     ]
    }
   ],
   "source": [
    "Rxn_time_pre = []\n",
    "Rxn_time_post = []\n",
    "\n",
    "for idx,session in tqdm(enumerate(EnumSession)):\n",
    "    sessionfile = ilep.loadSessionCached(act_directory,session)\n",
    "\n",
    "    if sessionfile.meta.animal in ['DS_15','DS_19']:\n",
    "        continue\n",
    "        \n",
    "    try:\n",
    "        rxn_time = np.mean(getReactionTimes(sessionfile)) / sessionfile.meta.fs * 1000\n",
    "        print(rxn_time)\n",
    "    except Exception as e:\n",
    "        print(f\"{session} failed with error {e}\")\n",
    "        \n",
    "    Rxn_time_pre.append(Rxn_time_pre)\n",
    "    Rxn_time_post.append(Rxn_time_post)\n",
    "\n",
    "Rxn_time_pre = np.array(Rxn_time_pre)\n",
    "Rxn_time_ppost = np.array(Rxn_time_pre)"
   ]
  },
  {
   "cell_type": "code",
   "execution_count": null,
   "id": "cc2746c7-ecdb-4d25-86bf-187bbcb43978",
   "metadata": {},
   "outputs": [],
   "source": []
  }
 ],
 "metadata": {
  "kernelspec": {
   "display_name": "Python 3",
   "language": "python",
   "name": "python3"
  },
  "language_info": {
   "codemirror_mode": {
    "name": "ipython",
    "version": 3
   },
   "file_extension": ".py",
   "mimetype": "text/x-python",
   "name": "python",
   "nbconvert_exporter": "python",
   "pygments_lexer": "ipython3",
   "version": "3.8.8"
  }
 },
 "nbformat": 4,
 "nbformat_minor": 5
}
