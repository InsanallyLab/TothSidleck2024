{
 "cells": [
  {
   "cell_type": "code",
   "execution_count": null,
   "id": "5f32ada2-2c4d-420f-8694-aeabb11a8622",
   "metadata": {},
   "outputs": [],
   "source": []
  },
  {
   "cell_type": "code",
   "execution_count": 1,
   "id": "95719fea-933b-4ee2-bb93-60bbe14a4c2a",
   "metadata": {},
   "outputs": [],
   "source": [
    "#This code needs to be run in the phy environment\n",
    "#When installing jupyternotebook you might have issues with phy environment so be careful with that\n",
    "import sys\n",
    "import matplotlib.pyplot as plt\n",
    "from phylib.io.model import load_model\n",
    "#from phylib.utils.color import selected_cluster_color"
   ]
  },
  {
   "cell_type": "code",
   "execution_count": 2,
   "id": "6939de1e-7f86-4fc4-af5f-c06d1495151e",
   "metadata": {},
   "outputs": [],
   "source": [
    "# First, we load the TemplateModel.\n",
    "model = load_model('O:\\\\Sorts\\\\DualRecording\\\\BS_40\\\\BS_40 2\\\\AC\\\\params.py')"
   ]
  },
  {
   "cell_type": "code",
   "execution_count": 3,
   "id": "62f10e0f-ce93-4f88-954e-0b19f4c58744",
   "metadata": {},
   "outputs": [],
   "source": [
    "# We obtain the cluster id from the command-line arguments.\n",
    "cluster_id = int(9)  # second argument: cluster index"
   ]
  },
  {
   "cell_type": "code",
   "execution_count": 4,
   "id": "d1a8011a-15bd-456a-aa2f-33471c144024",
   "metadata": {},
   "outputs": [
    {
     "ename": "AttributeError",
     "evalue": "'NoneType' object has no attribute 'shape'",
     "output_type": "error",
     "traceback": [
      "\u001b[1;31m---------------------------------------------------------------------------\u001b[0m",
      "\u001b[1;31mAttributeError\u001b[0m                            Traceback (most recent call last)",
      "Cell \u001b[1;32mIn[4], line 3\u001b[0m\n\u001b[0;32m      1\u001b[0m \u001b[38;5;66;03m# We get the waveforms of the cluster.\u001b[39;00m\n\u001b[0;32m      2\u001b[0m waveforms \u001b[38;5;241m=\u001b[39m model\u001b[38;5;241m.\u001b[39mget_cluster_spike_waveforms(cluster_id)\n\u001b[1;32m----> 3\u001b[0m n_spikes, n_samples, n_channels_loc \u001b[38;5;241m=\u001b[39m \u001b[43mwaveforms\u001b[49m\u001b[38;5;241;43m.\u001b[39;49m\u001b[43mshape\u001b[49m\n",
      "\u001b[1;31mAttributeError\u001b[0m: 'NoneType' object has no attribute 'shape'"
     ]
    }
   ],
   "source": [
    "# We get the waveforms of the cluster.\n",
    "waveforms = model.get_cluster_spike_waveforms(cluster_id)\n",
    "n_spikes, n_samples, n_channels_loc = waveforms.shape"
   ]
  },
  {
   "cell_type": "code",
   "execution_count": null,
   "id": "e1984e5c-e3be-4cce-a3e6-812979295aeb",
   "metadata": {},
   "outputs": [],
   "source": [
    "# We get the channel ids where the waveforms are located.\n",
    "channel_ids = model.get_cluster_channels(cluster_id)\n",
    "\n"
   ]
  },
  {
   "cell_type": "code",
   "execution_count": null,
   "id": "833ea551-f135-47bd-a8e2-614928e1a162",
   "metadata": {},
   "outputs": [],
   "source": [
    "# We plot the waveforms on the first four channels.\n",
    "f, axes = plt.subplots(1, min(4, n_channels_loc), sharey=True)\n",
    "for ch in range(min(4, n_channels_loc)):\n",
    "    axes[ch].plot(waveforms[::100, :, ch].T, c='r')\n",
    "    axes[ch].set_title(\"channel %d\" % channel_ids[ch])\n",
    "plt.show()"
   ]
  },
  {
   "cell_type": "code",
   "execution_count": null,
   "id": "89f30c53-779c-4b45-bc20-a96e70c17be0",
   "metadata": {},
   "outputs": [],
   "source": []
  },
  {
   "cell_type": "code",
   "execution_count": 6,
   "id": "c3692767-f61d-44ef-836d-29465ed8f2de",
   "metadata": {},
   "outputs": [
    {
     "data": {
      "text/plain": [
       "<phylib.io.model.TemplateModel at 0x22c9bc01c10>"
      ]
     },
     "execution_count": 6,
     "metadata": {},
     "output_type": "execute_result"
    }
   ],
   "source": [
    "model"
   ]
  },
  {
   "cell_type": "code",
   "execution_count": 7,
   "id": "da701baf-5f52-491a-aced-d102ea971f9d",
   "metadata": {},
   "outputs": [],
   "source": [
    "waveforms"
   ]
  },
  {
   "cell_type": "code",
   "execution_count": 8,
   "id": "0c6e7d76-46e4-4380-b5f8-af8a7a8ee58f",
   "metadata": {},
   "outputs": [],
   "source": [
    "model.get_cluster_spike_waveforms(cluster_id)"
   ]
  },
  {
   "cell_type": "code",
   "execution_count": 9,
   "id": "948e180b-a879-43c0-9442-850348b086a4",
   "metadata": {},
   "outputs": [
    {
     "data": {
      "text/plain": [
       "9"
      ]
     },
     "execution_count": 9,
     "metadata": {},
     "output_type": "execute_result"
    }
   ],
   "source": [
    "cluster_id"
   ]
  },
  {
   "cell_type": "code",
   "execution_count": null,
   "id": "056cfa83-e54c-4c28-a82d-e8a400b9b233",
   "metadata": {},
   "outputs": [],
   "source": []
  },
  {
   "cell_type": "code",
   "execution_count": 14,
   "id": "9f69612a-7db2-4f0f-a9af-a52a8757828e",
   "metadata": {},
   "outputs": [
    {
     "name": "stdout",
     "output_type": "stream",
     "text": [
      "failure: 0\n",
      "failure: 1\n",
      "failure: 2\n",
      "failure: 3\n",
      "failure: 4\n",
      "failure: 5\n",
      "failure: 6\n",
      "failure: 7\n",
      "failure: 8\n",
      "failure: 9\n",
      "failure: 10\n",
      "failure: 11\n",
      "failure: 12\n",
      "failure: 13\n",
      "failure: 14\n",
      "failure: 15\n",
      "failure: 16\n",
      "failure: 17\n",
      "failure: 18\n",
      "failure: 19\n",
      "failure: 20\n",
      "failure: 21\n",
      "failure: 22\n",
      "failure: 23\n",
      "failure: 24\n",
      "failure: 25\n",
      "failure: 26\n",
      "failure: 27\n",
      "failure: 28\n",
      "failure: 29\n",
      "failure: 30\n",
      "failure: 31\n",
      "failure: 32\n",
      "failure: 33\n",
      "failure: 34\n",
      "failure: 35\n",
      "failure: 36\n",
      "failure: 37\n",
      "failure: 38\n",
      "failure: 39\n",
      "failure: 40\n",
      "failure: 41\n",
      "failure: 42\n",
      "failure: 43\n",
      "failure: 44\n",
      "failure: 45\n",
      "failure: 46\n",
      "failure: 47\n",
      "failure: 48\n",
      "failure: 49\n",
      "failure: 50\n",
      "failure: 51\n",
      "failure: 52\n",
      "failure: 53\n",
      "failure: 54\n",
      "failure: 55\n",
      "failure: 56\n",
      "failure: 57\n",
      "failure: 58\n",
      "failure: 59\n",
      "failure: 60\n",
      "failure: 61\n",
      "failure: 62\n",
      "failure: 63\n",
      "failure: 64\n",
      "failure: 65\n",
      "failure: 66\n",
      "failure: 67\n",
      "failure: 68\n",
      "failure: 69\n",
      "failure: 70\n",
      "failure: 71\n",
      "failure: 72\n",
      "failure: 73\n",
      "failure: 74\n",
      "failure: 75\n",
      "failure: 76\n",
      "failure: 77\n",
      "failure: 78\n",
      "failure: 79\n",
      "failure: 80\n",
      "failure: 81\n",
      "failure: 82\n",
      "failure: 83\n",
      "failure: 84\n",
      "failure: 85\n",
      "failure: 86\n",
      "failure: 87\n",
      "failure: 88\n",
      "failure: 89\n",
      "failure: 90\n",
      "failure: 91\n",
      "failure: 92\n",
      "failure: 93\n",
      "failure: 94\n",
      "failure: 95\n",
      "failure: 96\n",
      "failure: 97\n",
      "failure: 98\n",
      "failure: 99\n"
     ]
    }
   ],
   "source": [
    "for x in range(100):\n",
    "    try:\n",
    "        waveforms = model.get_cluster_spike_waveforms(x)\n",
    "        n_spikes, n_samples, n_channels_loc = waveforms.shape\n",
    "        print(f\"success: {x}\")\n",
    "    except:\n",
    "        print(f\"failure: {x}\")"
   ]
  },
  {
   "cell_type": "code",
   "execution_count": null,
   "id": "09bcf188-9eb8-41cf-a695-bfa9a6f729b9",
   "metadata": {},
   "outputs": [],
   "source": []
  }
 ],
 "metadata": {
  "kernelspec": {
   "display_name": "Python 3 (ipykernel)",
   "language": "python",
   "name": "python3"
  },
  "language_info": {
   "codemirror_mode": {
    "name": "ipython",
    "version": 3
   },
   "file_extension": ".py",
   "mimetype": "text/x-python",
   "name": "python",
   "nbconvert_exporter": "python",
   "pygments_lexer": "ipython3",
   "version": "3.12.4"
  }
 },
 "nbformat": 4,
 "nbformat_minor": 5
}
