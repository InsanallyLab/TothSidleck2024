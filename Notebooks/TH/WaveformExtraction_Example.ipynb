{
 "cells": [
  {
   "cell_type": "code",
   "execution_count": 1,
   "id": "63fef86d",
   "metadata": {},
   "outputs": [],
   "source": [
    "#This code needs to be run in the phy environment\n",
    "#When installing jupyternotebook you might have issues with phy environment so be careful with that\n",
    "import sys\n",
    "import matplotlib.pyplot as plt\n",
    "from phylib.io.model import load_model\n",
    "#from phylib.utils.color import selected_cluster_color"
   ]
  },
  {
   "cell_type": "code",
   "execution_count": 3,
   "id": "afca85f4",
   "metadata": {},
   "outputs": [],
   "source": [
    "# First, we load the TemplateModel.\n",
    "model = load_model('O:\\\\Sorts\\\\DualRecording\\\\AE_231\\\\AE_231 1\\\\AC\\\\params.py')"
   ]
  },
  {
   "cell_type": "code",
   "execution_count": 4,
   "id": "3516c010",
   "metadata": {},
   "outputs": [],
   "source": [
    "# We obtain the cluster id from the command-line arguments.\n",
    "cluster_id = int(9)  # second argument: cluster index"
   ]
  },
  {
   "cell_type": "code",
   "execution_count": 5,
   "id": "0e325a2d",
   "metadata": {},
   "outputs": [
    {
     "ename": "AttributeError",
     "evalue": "'NoneType' object has no attribute 'shape'",
     "output_type": "error",
     "traceback": [
      "\u001b[1;31m---------------------------------------------------------------------------\u001b[0m",
      "\u001b[1;31mAttributeError\u001b[0m                            Traceback (most recent call last)",
      "Cell \u001b[1;32mIn[5], line 3\u001b[0m\n\u001b[0;32m      1\u001b[0m \u001b[38;5;66;03m# We get the waveforms of the cluster.\u001b[39;00m\n\u001b[0;32m      2\u001b[0m waveforms \u001b[38;5;241m=\u001b[39m model\u001b[38;5;241m.\u001b[39mget_cluster_spike_waveforms(cluster_id)\n\u001b[1;32m----> 3\u001b[0m n_spikes, n_samples, n_channels_loc \u001b[38;5;241m=\u001b[39m waveforms\u001b[38;5;241m.\u001b[39mshape\n",
      "\u001b[1;31mAttributeError\u001b[0m: 'NoneType' object has no attribute 'shape'"
     ]
    }
   ],
   "source": [
    "# We get the waveforms of the cluster.\n",
    "waveforms = model.get_cluster_spike_waveforms(cluster_id)\n",
    "n_spikes, n_samples, n_channels_loc = waveforms.shape"
   ]
  },
  {
   "cell_type": "code",
   "execution_count": null,
   "id": "611dbaf9",
   "metadata": {},
   "outputs": [],
   "source": [
    "# We get the channel ids where the waveforms are located.\n",
    "channel_ids = model.get_cluster_channels(cluster_id)\n",
    "\n"
   ]
  },
  {
   "cell_type": "code",
   "execution_count": null,
   "id": "2c0f8853",
   "metadata": {},
   "outputs": [],
   "source": [
    "# We plot the waveforms on the first four channels.\n",
    "f, axes = plt.subplots(1, min(4, n_channels_loc), sharey=True)\n",
    "for ch in range(min(4, n_channels_loc)):\n",
    "    axes[ch].plot(waveforms[::100, :, ch].T, c='r')\n",
    "    axes[ch].set_title(\"channel %d\" % channel_ids[ch])\n",
    "plt.show()"
   ]
  },
  {
   "cell_type": "code",
   "execution_count": null,
   "id": "4cc20f11",
   "metadata": {},
   "outputs": [],
   "source": []
  },
  {
   "cell_type": "code",
   "execution_count": null,
   "id": "06cb6ea9",
   "metadata": {},
   "outputs": [],
   "source": []
  },
  {
   "cell_type": "code",
   "execution_count": null,
   "id": "b39d72d0",
   "metadata": {},
   "outputs": [],
   "source": []
  },
  {
   "cell_type": "code",
   "execution_count": null,
   "id": "3fad5a0a",
   "metadata": {},
   "outputs": [],
   "source": []
  }
 ],
 "metadata": {
  "kernelspec": {
   "display_name": "Python 3 (ipykernel)",
   "language": "python",
   "name": "python3"
  },
  "language_info": {
   "codemirror_mode": {
    "name": "ipython",
    "version": 3
   },
   "file_extension": ".py",
   "mimetype": "text/x-python",
   "name": "python",
   "nbconvert_exporter": "python",
   "pygments_lexer": "ipython3",
   "version": "3.12.4"
  }
 },
 "nbformat": 4,
 "nbformat_minor": 5
}
