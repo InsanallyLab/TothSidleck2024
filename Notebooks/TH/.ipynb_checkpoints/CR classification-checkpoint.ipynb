{
 "cells": [
  {
   "cell_type": "code",
   "execution_count": 1,
   "metadata": {},
   "outputs": [],
   "source": [
    "import sys, os\n",
    "import json, pickle\n",
    "import matplotlib.pyplot as plt\n",
    "import matplotlib as mpl\n",
    "import numpy as np\n",
    "import pandas as pd\n",
    "import time as pytime\n",
    "import statsmodels.tsa.stattools as tsa\n",
    "import ruptures as rpt\n",
    "import InsanallyLabEphysTools as ilep\n",
    "from scipy.stats import gaussian_kde, sem, ttest_ind, ttest_rel, norm, mannwhitneyu, linregress, wilcoxon\n",
    "from tqdm import tqdm\n",
    "from types import SimpleNamespace\n",
    "from sklearn import linear_model\n",
    "from itertools import product\n",
    "from datetime import datetime\n",
    "import h5py\n",
    "#import tables as tb\n",
    "from copy import deepcopy\n",
    "import colorsys\n",
    "import random\n",
    "\n",
    "from sklearn.model_selection import GridSearchCV, StratifiedKFold, LeaveOneOut\n",
    "from sklearn.neighbors import KernelDensity\n",
    "\n",
    "plt.rcParams['legend.fontsize'] = 'small'\n",
    "plt.rcParams['axes.labelsize'] = 'medium'\n",
    "plt.rcParams['axes.formatter.limits'] = [-2,3]\n",
    "plt.rcParams['axes.formatter.use_mathtext'] = True\n",
    "plt.rcParams['axes.spines.top'] = False\n",
    "plt.rcParams['axes.spines.right'] = False\n",
    "plt.rcParams['xtick.direction'] = 'in'\n",
    "plt.rcParams['ytick.direction'] = 'in'\n",
    "plt.rcParams['figure.dpi'] = '150'\n",
    "\n",
    "#Set global font parameters\n",
    "plt.rcParams['font.family'] = 'sans-serif'\n",
    "plt.rcParams['font.sans-serif'] = 'Arial'\n",
    "#Set font type to TrueType for compatibility\n",
    "plt.rcParams['pdf.fonttype'] = 42\n",
    "plt.rcParams['ps.fonttype'] = 42\n",
    "\n",
    "CR_COLOR = '#808080'\n",
    "NCR_COLOR = '#FF767C'\n",
    "CNO_COLOR = '#00BFFF'\n",
    "GOOD_GREY = '#969696'\n",
    "SWITCH_COLOR = '#B07A3B'\n",
    "NCR_CR_cmap = mpl.colors.LinearSegmentedColormap.from_list('NCR-CR color map', [NCR_COLOR, CR_COLOR], N=1000)\n",
    "\n",
    "dualanimals = ['BS_108','BS_113','BS_40','BS_41','BS_42','BS_49','BS_50','BS_51','BS_56','BS_59','BS_70','BS_72','BS_83','BS_85','BS_87','BS_95']"
   ]
  },
  {
   "cell_type": "code",
   "execution_count": 2,
   "metadata": {},
   "outputs": [],
   "source": [
    "act_directory = \"/Users/InsanallyLab/Desktop/Analysis_Cache\""
   ]
  },
  {
   "cell_type": "code",
   "execution_count": 3,
   "metadata": {},
   "outputs": [
    {
     "name": "stderr",
     "output_type": "stream",
     "text": [
      "100%|██████████| 494/494 [01:40<00:00,  4.93it/s]\n"
     ]
    }
   ],
   "source": [
    "animals_in_cache = []\n",
    "EnumSession = []\n",
    "EnumClust = []\n",
    "EnumOnlySession = []\n",
    "\n",
    "for session in tqdm(os.listdir(act_directory)):\n",
    "    sessionfile = ilep.loadSessionCached(act_directory,session)\n",
    "    animals_in_cache.append(sessionfile.meta.animal)\n",
    "    \n",
    "    if sessionfile.meta.animal not in dualanimals:\n",
    "        continue\n",
    "        \n",
    "    if not sessionfile.meta.region == 'AC':\n",
    "        continue\n",
    "    \n",
    "\n",
    "    EnumOnlySession.append(session)\n",
    "    \n",
    "    for clust in sessionfile.clusters.good:\n",
    "        EnumSession.append(session)\n",
    "        EnumClust.append(clust)\n",
    "        \n",
    "        \n",
    "animals_in_cache = np.unique(animals_in_cache)"
   ]
  },
  {
   "cell_type": "code",
   "execution_count": 4,
   "metadata": {},
   "outputs": [
    {
     "data": {
      "text/plain": [
       "-1.099214846538187"
      ]
     },
     "execution_count": 4,
     "metadata": {},
     "output_type": "execute_result"
    }
   ],
   "source": [
    "sessionfile.responsiveness[2]['all_trials'].FR - sessionfile.responsiveness[2]['all_trials'].FRbaseline"
   ]
  },
  {
   "cell_type": "code",
   "execution_count": 5,
   "metadata": {},
   "outputs": [
    {
     "data": {
      "text/plain": [
       "2.569593147751606"
      ]
     },
     "execution_count": 5,
     "metadata": {},
     "output_type": "execute_result"
    }
   ],
   "source": [
    "sessionfile.responsiveness[2]['all_trials'].FR"
   ]
  },
  {
   "cell_type": "code",
   "execution_count": 6,
   "metadata": {},
   "outputs": [
    {
     "data": {
      "text/plain": [
       "3.668807994289793"
      ]
     },
     "execution_count": 6,
     "metadata": {},
     "output_type": "execute_result"
    }
   ],
   "source": [
    "sessionfile.responsiveness[2]['all_trials'].FRbaseline"
   ]
  },
  {
   "cell_type": "code",
   "execution_count": null,
   "metadata": {},
   "outputs": [],
   "source": []
  },
  {
   "cell_type": "code",
   "execution_count": 7,
   "metadata": {},
   "outputs": [
    {
     "name": "stderr",
     "output_type": "stream",
     "text": [
      "100%|██████████| 494/494 [01:03<00:00,  7.76it/s]\n",
      "100%|██████████| 494/494 [01:20<00:00,  6.11it/s]"
     ]
    },
    {
     "name": "stdout",
     "output_type": "stream",
     "text": [
      "[]\n"
     ]
    },
    {
     "name": "stderr",
     "output_type": "stream",
     "text": [
      "\n"
     ]
    }
   ],
   "source": [
    "animals_in_cache = []\n",
    "for session in tqdm(os.listdir(act_directory)):\n",
    "    sessionfile = ilep.loadSessionCached(act_directory,session)\n",
    "    animals_in_cache.append(sessionfile.meta.animal)\n",
    "# for session in tqdm(os.listdir(ops_directory)):\n",
    "#     sessionfile = ilep.loadSessionCached(ops_directory,session)\n",
    "#     animals_in_cache.append(sessionfile.meta.animal)\n",
    "animals_in_cache = np.unique(animals_in_cache)\n",
    "\n",
    "training_days_recorded = dict()\n",
    "for animal in animals_in_cache:\n",
    "    training_days_recorded[animal] = []\n",
    "    \n",
    "for session in tqdm(os.listdir(act_directory)):\n",
    "    sessionfile = ilep.loadSessionCached(act_directory,session)\n",
    "    if sessionfile.meta.region != 'AC':\n",
    "        continue\n",
    "    training_days_recorded[sessionfile.meta.animal].append(sessionfile.meta.day_of_training)\n",
    "# for session in tqdm(os.listdir(ops_directory)):\n",
    "#     sessionfile = ilep.loadSessionCached(ops_directory,session)\n",
    "#     if sessionfile.meta.region != 'AC':\n",
    "#         continue\n",
    "#     training_days_recorded[sessionfile.meta.animal].append(sessionfile.meta.day_of_training)\n",
    "    \n",
    "print(training_days_recorded['BS_59'])"
   ]
  },
  {
   "cell_type": "code",
   "execution_count": 8,
   "metadata": {},
   "outputs": [
    {
     "name": "stdout",
     "output_type": "stream",
     "text": [
      "['BS_40', 'BS_41', 'BS_42', 'BS_49', 'BS_50', 'BS_51', 'BS_56', 'BS_59', 'BS_67', 'BS_70', 'BS_72', 'BS_87', 'BS_108', 'DS_15', 'DS_19', 'BS_173', 'BS_175', 'BS_187', 'BS_188', 'BS_213', 'BS_214', 'BS_78']\n"
     ]
    }
   ],
   "source": [
    "dualnames = ['BS_108','BS_113','BS_40','BS_41','BS_42','BS_49','BS_50','BS_51','BS_56','BS_59','BS_70','BS_72','BS_83','BS_85','BS_87','BS_95']\n",
    "#animalnames = dualnames\n",
    "\n",
    "#Animals missing:\n",
    "#113,50,83,95\n",
    "#Animals added:\n",
    "#61,67,15,16,17,19,22\n",
    "\n",
    "#animalnames = ['BS_40','BS_41','BS_42','BS_49','BS_51','BS_56','BS_59','BS_67','BS_70','BS_72','BS_87','BS_108','DS_15','DS_19']\n",
    "dualanimalnames = ['BS_40','BS_41','BS_42','BS_49','BS_50','BS_51','BS_56','BS_59','BS_67','BS_70','BS_72','BS_87','BS_108','DS_15','DS_19']\n",
    "# opsinanimalnames = ['BS_86','BS_92','BS_100','BS_103','BS_111','BS_119','BS_123','BS_128','BS_131','BS_139','BS_163','BS_165','BS_174','BS_179','BS_191','BS_192']\n",
    "tuninganimalnames = ['BS_173','BS_175','BS_187','BS_188','BS_213','BS_214']\n",
    "unuseddualanimals = ['BS_78']\n",
    "\n",
    "animalnames = np.concatenate([dualanimalnames,tuninganimalnames,unuseddualanimals])\n",
    "\n",
    "animals = dict()\n",
    "for animal in animalnames:\n",
    "    animals[animal] = SimpleNamespace()\n",
    "    animals[animal].name = animal\n",
    "    \n",
    "#Dual Recording Animals\n",
    "#animals['BS_33'].reversal = 20\n",
    "animals['BS_67'].reversal = 7\n",
    "#animals['BS_73'].reversal = np.nan\n",
    "animals['BS_78'].reversal = np.nan\n",
    "animals['BS_108'].reversal = 7\n",
    "#animals['BS_113'].reversal = 13\n",
    "animals['BS_40'].reversal = 18\n",
    "animals['BS_41'].reversal = 6\n",
    "animals['BS_42'].reversal = 7\n",
    "animals['BS_49'].reversal = 13\n",
    "animals['BS_50'].reversal = 12\n",
    "animals['BS_51'].reversal = 8\n",
    "#animals['BS_52'].reversal = 15\n",
    "animals['BS_56'].reversal = 8\n",
    "animals['BS_59'].reversal = 7\n",
    "#animals['BS_61'].reversal = 9    ###\n",
    "animals['BS_70'].reversal = 8\n",
    "animals['BS_72'].reversal = 6\n",
    "#animals['BS_83'].reversal = 20\n",
    "#animals['BS_85'].reversal = 10\n",
    "animals['BS_87'].reversal = 6\n",
    "#animals['DS_16'].reversal = 11\n",
    "#animals['BS_95'].reversal = 8\n",
    "animals['DS_15'].reversal = 12\n",
    "animals['DS_19'].reversal = 12\n",
    "\n",
    "#Opsin Animals\n",
    "# animals['BS_86'].reversal = 14\n",
    "# animals['BS_92'].reversal = 9\n",
    "# animals['BS_100'].reversal = 11\n",
    "# animals['BS_103'].reversal = 8\n",
    "# animals['BS_111'].reversal = 8\n",
    "# animals['BS_119'].reversal = 10\n",
    "# animals['BS_123'].reversal = 9\n",
    "# animals['BS_128'].reversal = 6\n",
    "# animals['BS_131'].reversal = 14\n",
    "# animals['BS_139'].reversal = 10\n",
    "# animals['BS_163'].reversal = 13\n",
    "# animals['BS_165'].reversal = np.Inf\n",
    "# animals['BS_174'].reversal = 14\n",
    "# animals['BS_179'].reversal = 16\n",
    "# animals['BS_191'].reversal = 10\n",
    "# animals['BS_192'].reversal = 7\n",
    "\n",
    "#Tuning Animals\n",
    "animals['BS_173'].reversal = 15\n",
    "animals['BS_175'].reversal = 11\n",
    "animals['BS_187'].reversal = 8\n",
    "animals['BS_188'].reversal = 8\n",
    "animals['BS_213'].reversal = 8\n",
    "animals['BS_214'].reversal = np.Inf\n",
    "\n",
    "print([a for a in animals])"
   ]
  },
  {
   "cell_type": "code",
   "execution_count": 9,
   "metadata": {},
   "outputs": [
    {
     "name": "stdout",
     "output_type": "stream",
     "text": [
      "BS_40\n",
      "6\n",
      "BS_41\n",
      "3\n",
      "BS_42\n",
      "3\n",
      "BS_49\n",
      "2\n",
      "BS_50\n",
      "7\n",
      "BS_51\n",
      "6\n",
      "BS_56\n",
      "4\n",
      "BS_59\n",
      "3\n",
      "BS_67\n",
      "4\n",
      "BS_70\n",
      "5\n",
      "BS_72\n",
      "3\n",
      "BS_87\n",
      "4\n",
      "BS_108\n",
      "3\n",
      "DS_15\n",
      "7\n",
      "DS_19\n",
      "4\n",
      "BS_173\n",
      "2\n",
      "BS_175\n",
      "1\n",
      "BS_187\n",
      "4\n",
      "BS_188\n",
      "5\n",
      "BS_213\n",
      "6\n",
      "BS_214\n",
      "BS_214 has no post-reversal\n",
      "inf\n",
      "BS_78\n",
      "BS_78 has no post-reversal\n",
      "inf\n"
     ]
    },
    {
     "data": {
      "image/png": "[encoded data removed]",
      "text/plain": [
       "<Figure size 2250x2250 with 49 Axes>"
      ]
     },
     "metadata": {
      "needs_background": "light"
     },
     "output_type": "display_data"
    }
   ],
   "source": [
    "filename = os.path.join('/Users/InsanallyLab/Desktop/DataForJMTTotal.csv')\n",
    "csv = pd.read_csv(filename)\n",
    "\n",
    "postthresholds = dict()\n",
    "\n",
    "plot=True\n",
    "if plot:\n",
    "    fig = plt.figure(figsize=(15,15))\n",
    "    gs = fig.add_gridspec(7,7,hspace=0.5)\n",
    "    axs = [plt.subplot(gs[i,j]) for i,j in product(range(7),range(7))]\n",
    "    #plt.delaxes(axs[14])\n",
    "    #plt.delaxes(axs[15])\n",
    "\n",
    "premiddlecutoffs = dict()\n",
    "postmiddlecutoffs = dict()\n",
    "PERphases = dict()\n",
    "\n",
    "for animalidx,animal in enumerate(animals):\n",
    "    print(animal)\n",
    "    PERphases[animal] = dict()\n",
    "    \n",
    "    condname = 'd\\' ' + animal\n",
    "    pc_condname = 'Percent correct ' + animal\n",
    "    days = np.array(list(csv['Day']))\n",
    "    cond = csv[condname]\n",
    "    cond_pc = csv[pc_condname]\n",
    "    \n",
    "    #Correct for double reversal days\n",
    "    for idx,day in enumerate(days):\n",
    "        if day > animals[animal].reversal:\n",
    "            days[idx] = day-1\n",
    "            \n",
    "        if day > animals[animal].reversal+1: #  +1 because the csv stores the switch day as two entries\n",
    "            #Calculate PERphase\n",
    "            PC = cond_pc[idx]\n",
    "            if PC <= 47.5:\n",
    "                PERphases[animal][day-1] = 'perseveration'\n",
    "            elif PC >= 52.5:\n",
    "                PERphases[animal][day-1] = 'refinement'\n",
    "            else:\n",
    "                PERphases[animal][day-1] = 'exploration'\n",
    "            \n",
    "    #days = days - animals[animal].reversal\n",
    "    \n",
    "    prereversaldays = []\n",
    "    prereversaldps = []\n",
    "    maxreversaldp = -np.Inf\n",
    "    minreversaldp = np.Inf\n",
    "    postreversaldays = []\n",
    "    postreversaldps = []\n",
    "    for idx,day in enumerate(days):\n",
    "        if day < animals[animal].reversal or np.isnan(animals[animal].reversal):\n",
    "            prereversaldays.append(day)\n",
    "            prereversaldps.append(cond[idx])\n",
    "        if day == animals[animal].reversal:\n",
    "            maxreversaldp = max(cond[idx],maxreversaldp)\n",
    "            minreversaldp = min(cond[idx],minreversaldp)\n",
    "        if day > animals[animal].reversal and not np.isnan(cond[idx]):\n",
    "            postreversaldays.append(day)\n",
    "            postreversaldps.append(cond[idx])\n",
    "            \n",
    "    #Prereversal threshold\n",
    "    maxperf = np.nanmax(np.concatenate((prereversaldps,[1.5])))\n",
    "    minperf = np.nanmin(prereversaldps)\n",
    "    prethreshold = minperf + 0.4*(maxperf-minperf)\n",
    "    #Postreversal threshold\n",
    "    try:\n",
    "        maxperf = np.nanmax(np.concatenate((postreversaldps,[1.5])))\n",
    "        minperf = np.nanmin(postreversaldps)\n",
    "    except:\n",
    "        print(animal+' has no post-reversal')\n",
    "        maxperf = np.nan\n",
    "        minperf = np.nan\n",
    "    postthreshold = minperf + 0.4*(maxperf-minperf)\n",
    "    \n",
    "    postthresholds[animal] = postthreshold\n",
    "    \n",
    "    prereversaldays = np.array(prereversaldays)\n",
    "    prereversaldps = np.array(prereversaldps)\n",
    "    postreversaldays = np.array(postreversaldays)\n",
    "    postreversaldps = np.array(postreversaldps)\n",
    "    \n",
    "    premiddlebool = np.greater_equal(prereversaldps,prethreshold)\n",
    "    for idx,day in enumerate(prereversaldays):\n",
    "        if premiddlebool[idx]:\n",
    "            premiddlebool[idx:(len(premiddlebool)-1)].fill(True)\n",
    "        #if not premiddlebool[idx]:\n",
    "        #    premiddlebool[0:idx].fill(False)\n",
    "    if np.any(premiddlebool):\n",
    "        premiddlefirstday = np.min(prereversaldays[premiddlebool])\n",
    "    else:\n",
    "        premiddlefirstday = np.Inf\n",
    "        \n",
    "    print(premiddlefirstday)\n",
    "                     \n",
    "    postmiddlebool = np.greater_equal(postreversaldps,postthreshold)\n",
    "    for idx,day in enumerate(postreversaldays):\n",
    "        if postmiddlebool[idx]:\n",
    "            postmiddlebool[idx:(len(postmiddlebool)-1)].fill(True)\n",
    "        #if not postmiddlebool[idx]:\n",
    "        #    postmiddlebool[0:idx].fill(False)\n",
    "    if np.any(postmiddlebool):\n",
    "        postmiddlefirstday = np.min(postreversaldays[postmiddlebool])\n",
    "    else:\n",
    "        postmiddlefirstday = np.Inf\n",
    "    \n",
    "    if animal == 'BS_95':\n",
    "        premiddlefirstday = 4\n",
    "    if animal == 'BS_49':\n",
    "        premiddlefirstday = 7\n",
    "    if animal in ['BS_83','BS_50']:\n",
    "        postmiddlefirstday = np.Inf\n",
    "    \n",
    "    premiddlecutoffs[animal] = premiddlefirstday\n",
    "    postmiddlecutoffs[animal] = postmiddlefirstday\n",
    "    \n",
    "    if plot:\n",
    "        ax = axs[animalidx]    \n",
    "        #All Days no color\n",
    "        ax.plot(days,cond,color='k',lw=1)\n",
    "        ax.scatter(days,cond,color='k',s=10,zorder=9)\n",
    "        #Pre Middle\n",
    "        premiddle = np.logical_and( np.greater_equal(days,premiddlefirstday), np.less(days,animals[animal].reversal) )\n",
    "        ax.scatter(days[premiddle],cond[premiddle],color='r',s=20,zorder=10)\n",
    "        #Post Middle\n",
    "        postmiddle = np.greater_equal(days,postmiddlefirstday)\n",
    "        ax.scatter(days[postmiddle],cond[postmiddle],color='r',s=20,zorder=10)\n",
    "        #Switch\n",
    "        switch = np.equal(days,animals[animal].reversal)\n",
    "        ax.scatter(days[switch],cond[switch],color='b',s=20,zorder=10)\n",
    "\n",
    "        xlims = ax.get_xlim()\n",
    "        ax.plot(xlims,[1.5,1.5],c='g',linestyle='--',lw=1,zorder=-10)\n",
    "        ax.set_xlim(xlims)\n",
    "        ax.set_ylim([-2,3])\n",
    "        \n",
    "        days_recorded = training_days_recorded[animal]\n",
    "        ax.scatter(days_recorded,np.ones_like(days_recorded)*2.9,s=5,marker='*',color='orange',zorder=11)\n",
    "\n",
    "        ax.set_title(animal)\n",
    "        \n",
    "fig.text(0.075, 0.5, 'Behavioral performance (d\\')', ha='center', va='center', rotation='vertical',fontsize=20)\n",
    "fig.text(0.5,0.075, 'Day of training', ha='center', va='center', rotation='horizontal',fontsize=20)\n",
    "\n",
    "if plot:\n",
    "    #plt.savefig(os.path.join('D:\\\\\\\\TempFigures','EIL Learning Phases.pdf'),transparent=False,facecolor=\"white\")\n",
    "    pass"
   ]
  },
  {
   "cell_type": "code",
   "execution_count": 10,
   "metadata": {},
   "outputs": [
    {
     "name": "stderr",
     "output_type": "stream",
     "text": [
      "100%|██████████| 142/142 [00:18<00:00,  7.89it/s]\n"
     ]
    }
   ],
   "source": [
    "EILphases = np.full_like(EnumOnlySession,np.nan)\n",
    "\n",
    "for idx,session in enumerate(tqdm(EnumOnlySession)):\n",
    "    sessionfile = ilep.loadSessionCached(act_directory,session)\n",
    "    \n",
    "    try:\n",
    "        if sessionfile.meta.task in ['switch','opto switch','tuning switch']:\n",
    "            EILphases[idx] = 'switch'\n",
    "\n",
    "        elif sessionfile.meta.task in ['nonreversal','opto nonreversal','tuning nonreversal'] and sessionfile.meta.day_of_training < premiddlecutoffs[sessionfile.meta.animal]:\n",
    "            EILphases[idx] = 'pre early'\n",
    "        elif sessionfile.meta.task in ['nonreversal','opto nonreversal','tuning nonreversal'] and sessionfile.meta.condition=='prereversal naive' and sessionfile.meta.day_of_training >= premiddlecutoffs[sessionfile.meta.animal]:\n",
    "            EILphases[idx] = 'pre late'\n",
    "        elif sessionfile.meta.task in ['nonreversal','opto nonreversal','tuning nonreversal'] and sessionfile.meta.condition=='prereversal expert':\n",
    "            EILphases[idx] = 'pre expert'\n",
    "\n",
    "        elif sessionfile.meta.task in ['reversal','opto reversal','tuning reversal'] and sessionfile.meta.day_of_training < postmiddlecutoffs[sessionfile.meta.animal]:\n",
    "            EILphases[idx] = 'post early'\n",
    "        elif sessionfile.meta.task in ['reversal','opto reversal','tuning reversal'] and sessionfile.meta.condition=='postreversal naive' and sessionfile.meta.day_of_training >= postmiddlecutoffs[sessionfile.meta.animal]:\n",
    "            EILphases[idx] = 'post late'\n",
    "        elif sessionfile.meta.task in ['reversal','opto reversal','tuning reversal'] and sessionfile.meta.condition=='postreversal expert':\n",
    "            EILphases[idx] = 'post expert'\n",
    "    except Exception as e:\n",
    "        #print(ilep.generateDateString(sessionfile))\n",
    "        #print(e)\n",
    "        pass"
   ]
  },
  {
   "cell_type": "code",
   "execution_count": 11,
   "metadata": {},
   "outputs": [
    {
     "name": "stdout",
     "output_type": "stream",
     "text": [
      "['nan' 'post early' 'post expert' 'post late' 'pre early' 'pre expert'\n",
      " 'pre late' 'switch']\n"
     ]
    }
   ],
   "source": [
    "print(np.unique(EILphases))"
   ]
  },
  {
   "cell_type": "code",
   "execution_count": 12,
   "metadata": {},
   "outputs": [],
   "source": [
    "#each index is for each cell/cluster\n",
    "#so length of EnumSession = EnumClust = EILphases"
   ]
  },
  {
   "cell_type": "code",
   "execution_count": 13,
   "metadata": {},
   "outputs": [],
   "source": [
    "#Create learning phase array with sessions'index\n",
    "pre_early = []\n",
    "pre_late = []\n",
    "pre_expert = []\n",
    "post_early = []\n",
    "post_late = []\n",
    "post_expert = []\n",
    "\n",
    "for idx,phase in enumerate(EILphases):\n",
    "    if phase == 'pre early':\n",
    "        pre_early.append(idx)\n",
    "    if phase == 'pre late':\n",
    "        pre_late.append(idx)\n",
    "    if phase == 'pre expert':\n",
    "        pre_expert.append(idx)\n",
    "    if phase == 'post early':\n",
    "        post_early.append(idx)\n",
    "    if phase == 'post late':\n",
    "        post_late.append(idx)\n",
    "    if phase == 'post expert':\n",
    "        post_expert.append(idx)\n",
    "\n",
    "#create session file array for each learning phase\n",
    "pre_early_session = []\n",
    "pre_late_session = []\n",
    "pre_expert_session = []\n",
    "post_early_session = []\n",
    "post_late_session = []\n",
    "post_expert_session = []\n",
    "\n",
    "for idx, session_idx in enumerate(pre_early):\n",
    "    pre_early_session.append(ilep.loadSessionCached(act_directory,EnumOnlySession[session_idx]))\n",
    "for idx, session_idx in enumerate(pre_late):\n",
    "    pre_late_session.append(ilep.loadSessionCached(act_directory,EnumOnlySession[session_idx]))\n",
    "for idx, session_idx in enumerate(pre_expert):\n",
    "    pre_expert_session.append(ilep.loadSessionCached(act_directory,EnumOnlySession[session_idx]))\n",
    "for idx, session_idx in enumerate(post_early):\n",
    "    post_early_session.append(ilep.loadSessionCached(act_directory,EnumOnlySession[session_idx]))\n",
    "for idx, session_idx in enumerate(post_late):\n",
    "    post_late_session.append(ilep.loadSessionCached(act_directory,EnumOnlySession[session_idx]))\n",
    "for idx, session_idx in enumerate(post_expert):\n",
    "    post_expert_session.append(ilep.loadSessionCached(act_directory,EnumOnlySession[session_idx]))\n"
   ]
  },
  {
   "cell_type": "code",
   "execution_count": 14,
   "metadata": {},
   "outputs": [
    {
     "name": "stdout",
     "output_type": "stream",
     "text": [
      "7\n",
      "16\n",
      "10\n",
      "25\n",
      "19\n",
      "23\n"
     ]
    }
   ],
   "source": [
    "#Sessions for each learning phase\n",
    "pre_early = pre_early_session\n",
    "pre_late= pre_late_session\n",
    "pre_expert= pre_expert_session\n",
    "\n",
    "post_early = post_early_session\n",
    "post_late= post_late_session\n",
    "post_expert= post_expert_session\n",
    "\n",
    "print(len(pre_early))\n",
    "print(len(pre_late))\n",
    "print(len(pre_expert))\n",
    "print(len(post_early))\n",
    "print(len(post_late))\n",
    "print(len(post_expert))"
   ]
  },
  {
   "cell_type": "code",
   "execution_count": 15,
   "metadata": {},
   "outputs": [],
   "source": [
    "#classification criteria \n",
    "#FR-FRbase:\n",
    "#NCR: FRmodulation < pre_early_baseline\n",
    "#CR = not NCR\n",
    "#CRevok: CR and (FR-FRbase)>0\n",
    "#CRsup: CR and (FR-FRbase)<0"
   ]
  },
  {
   "cell_type": "code",
   "execution_count": 16,
   "metadata": {},
   "outputs": [],
   "source": [
    "#calculate CRevok and CRsup percentage for each learning phase\n",
    "FRmod_baseline = 3.59\n",
    "\n",
    "def classify_CR(phase):\n",
    "    CR_evok_num = 0\n",
    "    CR_sup_num = 0\n",
    "    \n",
    "    #Need to find sessionfile object\n",
    "    for sessionfile in phase:\n",
    "        for clust in sessionfile.clusters.good: \n",
    "            if sessionfile.responsiveness[clust]['all_trials'].FRmodulation < FRmod_baseline:\n",
    "                continue   \n",
    "            response_diff = sessionfile.responsiveness[clust]['all_trials'].FR - sessionfile.responsiveness[clust]['all_trials'].FRbaseline\n",
    "            #print(response_diff)\n",
    "            if response_diff >0:\n",
    "                CR_evok_num +=1\n",
    "            if response_diff<0:\n",
    "                CR_sup_num +=1\n",
    "        \n",
    "    CR_total = CR_evok_num + CR_sup_num\n",
    "    CR_evok_per = CR_evok_num / CR_total\n",
    "    CR_sup_per = CR_sup_num / CR_total\n",
    "    \n",
    "    return CR_evok_per, CR_sup_per\n",
    "        \n",
    "        "
   ]
  },
  {
   "cell_type": "code",
   "execution_count": 17,
   "metadata": {},
   "outputs": [],
   "source": [
    "test_phase = pre_early[:]"
   ]
  },
  {
   "cell_type": "code",
   "execution_count": 18,
   "metadata": {},
   "outputs": [],
   "source": [
    "#call functions for each learning phase\n",
    "data_preearly = classify_CR(pre_early)\n",
    "data_prelate = classify_CR(pre_late)\n",
    "data_preexpert = classify_CR(pre_expert)\n",
    "data_postearly = classify_CR(post_early)\n",
    "data_postlate = classify_CR(post_late)\n",
    "data_postexpert = classify_CR(post_expert)"
   ]
  },
  {
   "cell_type": "code",
   "execution_count": 19,
   "metadata": {},
   "outputs": [],
   "source": [
    "#plot"
   ]
  },
  {
   "cell_type": "code",
   "execution_count": 21,
   "metadata": {},
   "outputs": [
    {
     "data": {
      "image/png": "[encoded data removed]",
      "text/plain": [
       "<Figure size 750x750 with 1 Axes>"
      ]
     },
     "metadata": {
      "needs_background": "light"
     },
     "output_type": "display_data"
    }
   ],
   "source": [
    "import matplotlib.lines as lines\n",
    "\n",
    "size=5\n",
    "\n",
    "fig,ax = plt.subplots(figsize=(5,5))\n",
    "\n",
    "cells = ['Evoked CR', 'Suppressed CR', 'NCR', 'Inconclusive']\n",
    "\n",
    "#data_learning_phase = ['Pre_Early','Pre_Late','Pre_Expert','Post_Early','Post_Late','Post_Expert']\n",
    "data_learning_phase = ['Early','Late\\n\\nPre-reversal','Expert','Early','Late\\n\\nPost-reversal','Expert']\n",
    "\n",
    "Evoked_CR = np.array([data_preearly[0],data_prelate[0],data_preexpert[0],data_postearly[0],data_postlate[0],data_postexpert[0]])\n",
    "Sup_CR = np.array([data_preearly[1],data_prelate[1],data_preexpert[1],data_postearly[1],data_postlate[1],data_postexpert[1]])\n",
    "\n",
    "#data\n",
    "ax.bar(range(len(data_learning_phase)),Evoked_CR,label = 'Evoked CR',width = 0.5, color='#A78889')\n",
    "ax.bar(range(len(data_learning_phase)),Sup_CR, bottom = Evoked_CR, label = 'Suppressed CR',width = 0.5,  color='#686893')\n",
    "\n",
    "#Plot summary\n",
    "ax.set_ylim([0,1])\n",
    "ax.set_yticks([0,0.25,0.50,0.75,1])\n",
    "ax.set_yticklabels(['0','25','50','75','100'])\n",
    "ax.set_ylabel('CR Percentage')\n",
    "ax.legend(frameon=False,loc=(1,0.8))\n",
    "\n",
    "ax.set_xlim([-0.5,5.5])\n",
    "ax.set_xlim(ax.get_xlim())\n",
    "ax.set_xticks(range(len(data_learning_phase)))\n",
    "ax.set_xticklabels(data_learning_phase)\n",
    "ax.axvline(2.5,color=SWITCH_COLOR,linestyle='--',zorder=10,lw=1)\n",
    "ax.axhline(2.5,color='r',linestyle='-')\n",
    "ax.annotate('', xy=(0.06, -0.06), xycoords='axes fraction', xytext=(0.48, -0.06),arrowprops=dict(arrowstyle='-', color='black'))\n",
    "ax.annotate('', xy=(0.56, -0.06), xycoords='axes fraction', xytext=(0.98, -0.06),arrowprops=dict(arrowstyle='-', color='black'))\n",
    "#plt.figtext(0.2, -0.01, 'Pre-reversal', wrap=True, horizontalalignment='left')\n",
    "#plt.figtext(0.5, -0.01, 'Post-reversal', wrap=True, horizontalalignment='left')\n",
    "\n",
    "plt.tight_layout()\n",
    "fig.savefig(os.path.join('/Users/InsanallyLab/Desktop/Tiange Mac Folder/Figures','CR learning phase percentage.pdf'),transparent=False,facecolor=\"white\")"
   ]
  },
  {
   "cell_type": "code",
   "execution_count": null,
   "metadata": {},
   "outputs": [],
   "source": []
  },
  {
   "cell_type": "code",
   "execution_count": null,
   "metadata": {},
   "outputs": [],
   "source": []
  },
  {
   "cell_type": "code",
   "execution_count": null,
   "metadata": {},
   "outputs": [],
   "source": []
  },
  {
   "cell_type": "code",
   "execution_count": null,
   "metadata": {},
   "outputs": [],
   "source": []
  },
  {
   "cell_type": "code",
   "execution_count": null,
   "metadata": {},
   "outputs": [],
   "source": []
  },
  {
   "cell_type": "code",
   "execution_count": null,
   "metadata": {},
   "outputs": [],
   "source": []
  },
  {
   "cell_type": "code",
   "execution_count": null,
   "metadata": {},
   "outputs": [],
   "source": []
  },
  {
   "cell_type": "code",
   "execution_count": null,
   "metadata": {},
   "outputs": [],
   "source": []
  },
  {
   "cell_type": "code",
   "execution_count": null,
   "metadata": {},
   "outputs": [],
   "source": []
  },
  {
   "cell_type": "code",
   "execution_count": null,
   "metadata": {},
   "outputs": [],
   "source": []
  },
  {
   "cell_type": "code",
   "execution_count": null,
   "metadata": {},
   "outputs": [],
   "source": []
  },
  {
   "cell_type": "code",
   "execution_count": null,
   "metadata": {},
   "outputs": [],
   "source": []
  },
  {
   "cell_type": "code",
   "execution_count": null,
   "metadata": {},
   "outputs": [],
   "source": []
  },
  {
   "cell_type": "code",
   "execution_count": null,
   "metadata": {},
   "outputs": [],
   "source": []
  },
  {
   "cell_type": "code",
   "execution_count": null,
   "metadata": {},
   "outputs": [],
   "source": []
  },
  {
   "cell_type": "code",
   "execution_count": null,
   "metadata": {},
   "outputs": [],
   "source": []
  },
  {
   "cell_type": "code",
   "execution_count": null,
   "metadata": {},
   "outputs": [],
   "source": []
  },
  {
   "cell_type": "code",
   "execution_count": null,
   "metadata": {},
   "outputs": [],
   "source": []
  },
  {
   "cell_type": "code",
   "execution_count": null,
   "metadata": {},
   "outputs": [],
   "source": []
  },
  {
   "cell_type": "code",
   "execution_count": null,
   "metadata": {},
   "outputs": [],
   "source": []
  },
  {
   "cell_type": "code",
   "execution_count": null,
   "metadata": {},
   "outputs": [],
   "source": []
  },
  {
   "cell_type": "code",
   "execution_count": null,
   "metadata": {},
   "outputs": [],
   "source": []
  },
  {
   "cell_type": "code",
   "execution_count": null,
   "metadata": {},
   "outputs": [],
   "source": []
  },
  {
   "cell_type": "code",
   "execution_count": null,
   "metadata": {},
   "outputs": [],
   "source": []
  },
  {
   "cell_type": "code",
   "execution_count": null,
   "metadata": {},
   "outputs": [],
   "source": []
  },
  {
   "cell_type": "code",
   "execution_count": null,
   "metadata": {},
   "outputs": [],
   "source": []
  },
  {
   "cell_type": "code",
   "execution_count": null,
   "metadata": {},
   "outputs": [],
   "source": []
  },
  {
   "cell_type": "code",
   "execution_count": null,
   "metadata": {},
   "outputs": [],
   "source": []
  },
  {
   "cell_type": "code",
   "execution_count": null,
   "metadata": {},
   "outputs": [],
   "source": []
  },
  {
   "cell_type": "code",
   "execution_count": null,
   "metadata": {},
   "outputs": [],
   "source": []
  },
  {
   "cell_type": "code",
   "execution_count": null,
   "metadata": {},
   "outputs": [],
   "source": []
  },
  {
   "cell_type": "code",
   "execution_count": null,
   "metadata": {},
   "outputs": [],
   "source": []
  },
  {
   "cell_type": "code",
   "execution_count": null,
   "metadata": {},
   "outputs": [],
   "source": []
  },
  {
   "cell_type": "code",
   "execution_count": null,
   "metadata": {},
   "outputs": [],
   "source": []
  },
  {
   "cell_type": "code",
   "execution_count": null,
   "metadata": {},
   "outputs": [],
   "source": []
  },
  {
   "cell_type": "code",
   "execution_count": null,
   "metadata": {},
   "outputs": [],
   "source": []
  },
  {
   "cell_type": "code",
   "execution_count": null,
   "metadata": {},
   "outputs": [],
   "source": []
  },
  {
   "cell_type": "code",
   "execution_count": null,
   "metadata": {},
   "outputs": [],
   "source": []
  },
  {
   "cell_type": "code",
   "execution_count": null,
   "metadata": {},
   "outputs": [],
   "source": []
  },
  {
   "cell_type": "code",
   "execution_count": null,
   "metadata": {},
   "outputs": [],
   "source": []
  },
  {
   "cell_type": "code",
   "execution_count": null,
   "metadata": {},
   "outputs": [],
   "source": []
  },
  {
   "cell_type": "code",
   "execution_count": null,
   "metadata": {},
   "outputs": [],
   "source": []
  },
  {
   "cell_type": "code",
   "execution_count": null,
   "metadata": {},
   "outputs": [],
   "source": []
  },
  {
   "cell_type": "code",
   "execution_count": null,
   "metadata": {},
   "outputs": [],
   "source": []
  },
  {
   "cell_type": "code",
   "execution_count": null,
   "metadata": {},
   "outputs": [],
   "source": []
  },
  {
   "cell_type": "code",
   "execution_count": null,
   "metadata": {},
   "outputs": [],
   "source": []
  },
  {
   "cell_type": "code",
   "execution_count": null,
   "metadata": {},
   "outputs": [],
   "source": []
  },
  {
   "cell_type": "code",
   "execution_count": null,
   "metadata": {},
   "outputs": [],
   "source": []
  },
  {
   "cell_type": "code",
   "execution_count": null,
   "metadata": {},
   "outputs": [],
   "source": []
  },
  {
   "cell_type": "code",
   "execution_count": null,
   "metadata": {},
   "outputs": [],
   "source": []
  },
  {
   "cell_type": "code",
   "execution_count": null,
   "metadata": {},
   "outputs": [],
   "source": []
  },
  {
   "cell_type": "code",
   "execution_count": null,
   "metadata": {},
   "outputs": [],
   "source": []
  },
  {
   "cell_type": "code",
   "execution_count": null,
   "metadata": {},
   "outputs": [],
   "source": []
  },
  {
   "cell_type": "code",
   "execution_count": null,
   "metadata": {},
   "outputs": [],
   "source": []
  },
  {
   "cell_type": "code",
   "execution_count": null,
   "metadata": {},
   "outputs": [],
   "source": []
  },
  {
   "cell_type": "code",
   "execution_count": null,
   "metadata": {},
   "outputs": [],
   "source": []
  },
  {
   "cell_type": "code",
   "execution_count": null,
   "metadata": {},
   "outputs": [],
   "source": []
  },
  {
   "cell_type": "code",
   "execution_count": null,
   "metadata": {},
   "outputs": [],
   "source": []
  },
  {
   "cell_type": "code",
   "execution_count": null,
   "metadata": {},
   "outputs": [],
   "source": []
  },
  {
   "cell_type": "code",
   "execution_count": null,
   "metadata": {},
   "outputs": [],
   "source": []
  },
  {
   "cell_type": "code",
   "execution_count": null,
   "metadata": {},
   "outputs": [],
   "source": []
  },
  {
   "cell_type": "code",
   "execution_count": null,
   "metadata": {},
   "outputs": [],
   "source": []
  },
  {
   "cell_type": "code",
   "execution_count": null,
   "metadata": {},
   "outputs": [],
   "source": []
  },
  {
   "cell_type": "code",
   "execution_count": null,
   "metadata": {},
   "outputs": [],
   "source": []
  },
  {
   "cell_type": "code",
   "execution_count": null,
   "metadata": {},
   "outputs": [],
   "source": []
  },
  {
   "cell_type": "code",
   "execution_count": null,
   "metadata": {},
   "outputs": [],
   "source": []
  },
  {
   "cell_type": "code",
   "execution_count": null,
   "metadata": {},
   "outputs": [],
   "source": []
  },
  {
   "cell_type": "code",
   "execution_count": null,
   "metadata": {},
   "outputs": [],
   "source": []
  },
  {
   "cell_type": "code",
   "execution_count": null,
   "metadata": {},
   "outputs": [],
   "source": []
  },
  {
   "cell_type": "code",
   "execution_count": null,
   "metadata": {},
   "outputs": [],
   "source": []
  },
  {
   "cell_type": "code",
   "execution_count": null,
   "metadata": {},
   "outputs": [],
   "source": []
  },
  {
   "cell_type": "code",
   "execution_count": null,
   "metadata": {},
   "outputs": [],
   "source": []
  },
  {
   "cell_type": "code",
   "execution_count": null,
   "metadata": {},
   "outputs": [],
   "source": []
  },
  {
   "cell_type": "code",
   "execution_count": null,
   "metadata": {},
   "outputs": [],
   "source": []
  },
  {
   "cell_type": "code",
   "execution_count": null,
   "metadata": {},
   "outputs": [],
   "source": []
  },
  {
   "cell_type": "code",
   "execution_count": null,
   "metadata": {},
   "outputs": [],
   "source": []
  },
  {
   "cell_type": "code",
   "execution_count": null,
   "metadata": {},
   "outputs": [],
   "source": []
  },
  {
   "cell_type": "code",
   "execution_count": null,
   "metadata": {},
   "outputs": [],
   "source": []
  },
  {
   "cell_type": "code",
   "execution_count": null,
   "metadata": {},
   "outputs": [],
   "source": []
  },
  {
   "cell_type": "code",
   "execution_count": null,
   "metadata": {},
   "outputs": [],
   "source": []
  },
  {
   "cell_type": "code",
   "execution_count": null,
   "metadata": {},
   "outputs": [],
   "source": []
  },
  {
   "cell_type": "code",
   "execution_count": null,
   "metadata": {},
   "outputs": [],
   "source": []
  },
  {
   "cell_type": "code",
   "execution_count": null,
   "metadata": {},
   "outputs": [],
   "source": []
  },
  {
   "cell_type": "code",
   "execution_count": null,
   "metadata": {},
   "outputs": [],
   "source": []
  },
  {
   "cell_type": "code",
   "execution_count": null,
   "metadata": {},
   "outputs": [],
   "source": []
  },
  {
   "cell_type": "code",
   "execution_count": null,
   "metadata": {},
   "outputs": [],
   "source": []
  },
  {
   "cell_type": "code",
   "execution_count": null,
   "metadata": {},
   "outputs": [],
   "source": []
  },
  {
   "cell_type": "code",
   "execution_count": null,
   "metadata": {},
   "outputs": [],
   "source": []
  },
  {
   "cell_type": "code",
   "execution_count": null,
   "metadata": {},
   "outputs": [],
   "source": []
  },
  {
   "cell_type": "code",
   "execution_count": null,
   "metadata": {},
   "outputs": [],
   "source": []
  },
  {
   "cell_type": "code",
   "execution_count": null,
   "metadata": {},
   "outputs": [],
   "source": []
  },
  {
   "cell_type": "code",
   "execution_count": null,
   "metadata": {},
   "outputs": [],
   "source": []
  },
  {
   "cell_type": "code",
   "execution_count": null,
   "metadata": {},
   "outputs": [],
   "source": []
  },
  {
   "cell_type": "code",
   "execution_count": null,
   "metadata": {},
   "outputs": [],
   "source": []
  },
  {
   "cell_type": "code",
   "execution_count": null,
   "metadata": {},
   "outputs": [],
   "source": []
  },
  {
   "cell_type": "code",
   "execution_count": null,
   "metadata": {},
   "outputs": [],
   "source": []
  },
  {
   "cell_type": "code",
   "execution_count": null,
   "metadata": {},
   "outputs": [],
   "source": []
  },
  {
   "cell_type": "code",
   "execution_count": null,
   "metadata": {},
   "outputs": [],
   "source": []
  },
  {
   "cell_type": "code",
   "execution_count": null,
   "metadata": {},
   "outputs": [],
   "source": []
  },
  {
   "cell_type": "code",
   "execution_count": null,
   "metadata": {},
   "outputs": [],
   "source": []
  },
  {
   "cell_type": "code",
   "execution_count": null,
   "metadata": {},
   "outputs": [],
   "source": []
  },
  {
   "cell_type": "code",
   "execution_count": null,
   "metadata": {},
   "outputs": [],
   "source": []
  },
  {
   "cell_type": "code",
   "execution_count": null,
   "metadata": {},
   "outputs": [],
   "source": []
  },
  {
   "cell_type": "code",
   "execution_count": null,
   "metadata": {},
   "outputs": [],
   "source": []
  },
  {
   "cell_type": "code",
   "execution_count": null,
   "metadata": {},
   "outputs": [],
   "source": []
  },
  {
   "cell_type": "code",
   "execution_count": null,
   "metadata": {},
   "outputs": [],
   "source": []
  },
  {
   "cell_type": "code",
   "execution_count": null,
   "metadata": {},
   "outputs": [],
   "source": []
  },
  {
   "cell_type": "code",
   "execution_count": null,
   "metadata": {},
   "outputs": [],
   "source": []
  },
  {
   "cell_type": "code",
   "execution_count": null,
   "metadata": {},
   "outputs": [],
   "source": []
  },
  {
   "cell_type": "code",
   "execution_count": null,
   "metadata": {},
   "outputs": [],
   "source": []
  },
  {
   "cell_type": "code",
   "execution_count": null,
   "metadata": {},
   "outputs": [],
   "source": []
  },
  {
   "cell_type": "code",
   "execution_count": null,
   "metadata": {},
   "outputs": [],
   "source": []
  },
  {
   "cell_type": "code",
   "execution_count": null,
   "metadata": {},
   "outputs": [],
   "source": []
  },
  {
   "cell_type": "code",
   "execution_count": null,
   "metadata": {},
   "outputs": [],
   "source": []
  },
  {
   "cell_type": "code",
   "execution_count": null,
   "metadata": {},
   "outputs": [],
   "source": []
  },
  {
   "cell_type": "code",
   "execution_count": null,
   "metadata": {},
   "outputs": [],
   "source": []
  },
  {
   "cell_type": "code",
   "execution_count": null,
   "metadata": {},
   "outputs": [],
   "source": []
  },
  {
   "cell_type": "code",
   "execution_count": null,
   "metadata": {},
   "outputs": [],
   "source": []
  },
  {
   "cell_type": "code",
   "execution_count": null,
   "metadata": {},
   "outputs": [],
   "source": []
  },
  {
   "cell_type": "code",
   "execution_count": null,
   "metadata": {},
   "outputs": [],
   "source": []
  },
  {
   "cell_type": "code",
   "execution_count": null,
   "metadata": {},
   "outputs": [],
   "source": []
  },
  {
   "cell_type": "code",
   "execution_count": null,
   "metadata": {},
   "outputs": [],
   "source": []
  },
  {
   "cell_type": "code",
   "execution_count": null,
   "metadata": {},
   "outputs": [],
   "source": []
  },
  {
   "cell_type": "code",
   "execution_count": null,
   "metadata": {},
   "outputs": [],
   "source": []
  },
  {
   "cell_type": "code",
   "execution_count": null,
   "metadata": {},
   "outputs": [],
   "source": []
  },
  {
   "cell_type": "code",
   "execution_count": null,
   "metadata": {},
   "outputs": [],
   "source": []
  },
  {
   "cell_type": "code",
   "execution_count": null,
   "metadata": {},
   "outputs": [],
   "source": []
  },
  {
   "cell_type": "code",
   "execution_count": null,
   "metadata": {},
   "outputs": [],
   "source": []
  },
  {
   "cell_type": "code",
   "execution_count": null,
   "metadata": {},
   "outputs": [],
   "source": []
  },
  {
   "cell_type": "code",
   "execution_count": null,
   "metadata": {},
   "outputs": [],
   "source": []
  },
  {
   "cell_type": "code",
   "execution_count": null,
   "metadata": {},
   "outputs": [],
   "source": []
  },
  {
   "cell_type": "code",
   "execution_count": null,
   "metadata": {},
   "outputs": [],
   "source": []
  },
  {
   "cell_type": "code",
   "execution_count": null,
   "metadata": {},
   "outputs": [],
   "source": []
  },
  {
   "cell_type": "code",
   "execution_count": null,
   "metadata": {},
   "outputs": [],
   "source": []
  },
  {
   "cell_type": "code",
   "execution_count": null,
   "metadata": {},
   "outputs": [],
   "source": []
  },
  {
   "cell_type": "code",
   "execution_count": null,
   "metadata": {},
   "outputs": [],
   "source": []
  },
  {
   "cell_type": "code",
   "execution_count": null,
   "metadata": {},
   "outputs": [],
   "source": []
  },
  {
   "cell_type": "code",
   "execution_count": null,
   "metadata": {},
   "outputs": [],
   "source": []
  },
  {
   "cell_type": "code",
   "execution_count": null,
   "metadata": {},
   "outputs": [],
   "source": []
  },
  {
   "cell_type": "code",
   "execution_count": null,
   "metadata": {},
   "outputs": [],
   "source": []
  },
  {
   "cell_type": "code",
   "execution_count": null,
   "metadata": {},
   "outputs": [],
   "source": []
  },
  {
   "cell_type": "code",
   "execution_count": null,
   "metadata": {},
   "outputs": [],
   "source": []
  },
  {
   "cell_type": "code",
   "execution_count": null,
   "metadata": {},
   "outputs": [],
   "source": [
    "raise NotImplementedError(\"not use\")"
   ]
  },
  {
   "cell_type": "code",
   "execution_count": null,
   "metadata": {},
   "outputs": [],
   "source": []
  },
  {
   "cell_type": "code",
   "execution_count": null,
   "metadata": {},
   "outputs": [],
   "source": []
  },
  {
   "cell_type": "code",
   "execution_count": null,
   "metadata": {},
   "outputs": [],
   "source": []
  },
  {
   "cell_type": "code",
   "execution_count": null,
   "metadata": {},
   "outputs": [],
   "source": []
  },
  {
   "cell_type": "code",
   "execution_count": null,
   "metadata": {},
   "outputs": [],
   "source": []
  },
  {
   "cell_type": "code",
   "execution_count": null,
   "metadata": {},
   "outputs": [],
   "source": []
  },
  {
   "cell_type": "code",
   "execution_count": null,
   "metadata": {},
   "outputs": [],
   "source": []
  }
 ],
 "metadata": {
  "kernelspec": {
   "display_name": "Python 3",
   "language": "python",
   "name": "python3"
  },
  "language_info": {
   "codemirror_mode": {
    "name": "ipython",
    "version": 3
   },
   "file_extension": ".py",
   "mimetype": "text/x-python",
   "name": "python",
   "nbconvert_exporter": "python",
   "pygments_lexer": "ipython3",
   "version": "3.8.2"
  }
 },
 "nbformat": 4,
 "nbformat_minor": 4
}
