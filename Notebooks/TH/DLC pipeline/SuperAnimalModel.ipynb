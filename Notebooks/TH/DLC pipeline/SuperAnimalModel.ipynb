{
 "cells": [
  {
   "cell_type": "code",
   "execution_count": 1,
   "id": "43884a88-eee9-4537-8062-24dc5d5b1f63",
   "metadata": {},
   "outputs": [
    {
     "name": "stdout",
     "output_type": "stream",
     "text": [
      "Loading DLC 2.3.9...\n",
      "Using DeepLabCut version: 2.3.9\n",
      "Using TensorFlow version: 2.10.0\n"
     ]
    }
   ],
   "source": [
    "#Run this code in Deeplabcut environment\n",
    "#https://www.nature.com/articles/s41596-019-0176-0#Sec14\n",
    "\n",
    "try:\n",
    "    import deeplabcut\n",
    "    import tensorflow\n",
    "    import tkinter\n",
    "    from tkinter import filedialog\n",
    "\n",
    "    print(f'Using DeepLabCut version: {deeplabcut. __version__}')\n",
    "    print(f'Using TensorFlow version: {tensorflow. __version__}')   \n",
    "\n",
    "except:\n",
    "    print(\"Please run the notebook in in your local environment\")"
   ]
  },
  {
   "cell_type": "code",
   "execution_count": 2,
   "id": "186f41c9",
   "metadata": {
    "collapsed": true,
    "jupyter": {
     "outputs_hidden": true,
     "source_hidden": true
    },
    "tags": []
   },
   "outputs": [
    {
     "name": "stdout",
     "output_type": "stream",
     "text": [
      "Requirement already satisfied: deeplabcut[modelzoo,tf] in c:\\users\\insan\\anaconda3\\envs\\deeplabcut\\lib\\site-packages (2.3.9)\n",
      "Requirement already satisfied: dlclibrary>=0.0.6 in c:\\users\\insan\\anaconda3\\envs\\deeplabcut\\lib\\site-packages (from deeplabcut[modelzoo,tf]) (0.0.6)\n",
      "Requirement already satisfied: imageio-ffmpeg in c:\\users\\insan\\anaconda3\\envs\\deeplabcut\\lib\\site-packages (from deeplabcut[modelzoo,tf]) (0.4.8)\n",
      "Requirement already satisfied: numpy>=1.18.5 in c:\\users\\insan\\anaconda3\\envs\\deeplabcut\\lib\\site-packages (from deeplabcut[modelzoo,tf]) (1.21.0)\n",
      "Requirement already satisfied: torch<=1.12 in c:\\users\\insan\\anaconda3\\envs\\deeplabcut\\lib\\site-packages (from deeplabcut[modelzoo,tf]) (1.12.0)\n",
      "Requirement already satisfied: pandas!=1.5.0,>=1.0.1 in c:\\users\\insan\\anaconda3\\envs\\deeplabcut\\lib\\site-packages (from deeplabcut[modelzoo,tf]) (1.5.3)\n",
      "Requirement already satisfied: Pillow>=7.1 in c:\\users\\insan\\anaconda3\\envs\\deeplabcut\\lib\\site-packages (from deeplabcut[modelzoo,tf]) (9.4.0)\n",
      "Requirement already satisfied: filterpy>=1.4.4 in c:\\users\\insan\\anaconda3\\envs\\deeplabcut\\lib\\site-packages (from deeplabcut[modelzoo,tf]) (1.4.5)\n",
      "Requirement already satisfied: scikit-learn>=1.0 in c:\\users\\insan\\anaconda3\\envs\\deeplabcut\\lib\\site-packages (from deeplabcut[modelzoo,tf]) (1.2.1)\n",
      "Requirement already satisfied: ruamel.yaml>=0.15.0 in c:\\users\\insan\\anaconda3\\envs\\deeplabcut\\lib\\site-packages (from deeplabcut[modelzoo,tf]) (0.17.21)\n",
      "Requirement already satisfied: scikit-image>=0.17 in c:\\users\\insan\\appdata\\roaming\\python\\python38\\site-packages (from deeplabcut[modelzoo,tf]) (0.19.3)\n",
      "Requirement already satisfied: tensorpack>=0.11 in c:\\users\\insan\\anaconda3\\envs\\deeplabcut\\lib\\site-packages (from deeplabcut[modelzoo,tf]) (0.11)\n",
      "Requirement already satisfied: tf-slim>=1.1.0 in c:\\users\\insan\\anaconda3\\envs\\deeplabcut\\lib\\site-packages (from deeplabcut[modelzoo,tf]) (1.1.0)\n",
      "Requirement already satisfied: scipy>=1.9 in c:\\users\\insan\\anaconda3\\envs\\deeplabcut\\lib\\site-packages (from deeplabcut[modelzoo,tf]) (1.9.1)\n",
      "Requirement already satisfied: numba>=0.54 in c:\\users\\insan\\anaconda3\\envs\\deeplabcut\\lib\\site-packages (from deeplabcut[modelzoo,tf]) (0.56.4)\n",
      "Requirement already satisfied: networkx>=2.6 in c:\\users\\insan\\anaconda3\\envs\\deeplabcut\\lib\\site-packages (from deeplabcut[modelzoo,tf]) (3.0)\n",
      "Requirement already satisfied: matplotlib!=3.7.0,!=3.7.1,>=3.3 in c:\\users\\insan\\anaconda3\\envs\\deeplabcut\\lib\\site-packages (from deeplabcut[modelzoo,tf]) (3.7.5)\n",
      "Requirement already satisfied: statsmodels>=0.11 in c:\\users\\insan\\anaconda3\\envs\\deeplabcut\\lib\\site-packages (from deeplabcut[modelzoo,tf]) (0.13.5)\n",
      "Requirement already satisfied: imgaug>=0.4.0 in c:\\users\\insan\\anaconda3\\envs\\deeplabcut\\lib\\site-packages (from deeplabcut[modelzoo,tf]) (0.4.0)\n",
      "Requirement already satisfied: tqdm in c:\\users\\insan\\anaconda3\\envs\\deeplabcut\\lib\\site-packages (from deeplabcut[modelzoo,tf]) (4.64.1)\n",
      "Requirement already satisfied: tables>=3.7.0 in c:\\users\\insan\\anaconda3\\envs\\deeplabcut\\lib\\site-packages (from deeplabcut[modelzoo,tf]) (3.8.0)\n",
      "Requirement already satisfied: pyyaml in c:\\users\\insan\\anaconda3\\envs\\deeplabcut\\lib\\site-packages (from deeplabcut[modelzoo,tf]) (6.0)\n",
      "Requirement already satisfied: tensorflow<=2.10,>=2.0 in c:\\users\\insan\\anaconda3\\envs\\deeplabcut\\lib\\site-packages (from deeplabcut[modelzoo,tf]) (2.10.0)\n",
      "Requirement already satisfied: huggingface-hub in c:\\users\\insan\\anaconda3\\envs\\deeplabcut\\lib\\site-packages (from deeplabcut[modelzoo,tf]) (0.12.1)\n",
      "Requirement already satisfied: imageio in c:\\users\\insan\\anaconda3\\envs\\deeplabcut\\lib\\site-packages (from imgaug>=0.4.0->deeplabcut[modelzoo,tf]) (2.26.0)\n",
      "Requirement already satisfied: Shapely in c:\\users\\insan\\anaconda3\\envs\\deeplabcut\\lib\\site-packages (from imgaug>=0.4.0->deeplabcut[modelzoo,tf]) (2.0.1)\n",
      "Requirement already satisfied: six in c:\\users\\insan\\anaconda3\\envs\\deeplabcut\\lib\\site-packages (from imgaug>=0.4.0->deeplabcut[modelzoo,tf]) (1.16.0)\n",
      "Requirement already satisfied: opencv-python in c:\\users\\insan\\anaconda3\\envs\\deeplabcut\\lib\\site-packages (from imgaug>=0.4.0->deeplabcut[modelzoo,tf]) (4.7.0.72)\n",
      "Requirement already satisfied: python-dateutil>=2.7 in c:\\users\\insan\\anaconda3\\envs\\deeplabcut\\lib\\site-packages (from matplotlib!=3.7.0,!=3.7.1,>=3.3->deeplabcut[modelzoo,tf]) (2.8.2)\n",
      "Requirement already satisfied: pyparsing>=2.3.1 in c:\\users\\insan\\anaconda3\\envs\\deeplabcut\\lib\\site-packages (from matplotlib!=3.7.0,!=3.7.1,>=3.3->deeplabcut[modelzoo,tf]) (3.0.9)\n",
      "Requirement already satisfied: contourpy>=1.0.1 in c:\\users\\insan\\anaconda3\\envs\\deeplabcut\\lib\\site-packages (from matplotlib!=3.7.0,!=3.7.1,>=3.3->deeplabcut[modelzoo,tf]) (1.0.7)\n",
      "Requirement already satisfied: fonttools>=4.22.0 in c:\\users\\insan\\anaconda3\\envs\\deeplabcut\\lib\\site-packages (from matplotlib!=3.7.0,!=3.7.1,>=3.3->deeplabcut[modelzoo,tf]) (4.38.0)\n",
      "Requirement already satisfied: cycler>=0.10 in c:\\users\\insan\\anaconda3\\envs\\deeplabcut\\lib\\site-packages (from matplotlib!=3.7.0,!=3.7.1,>=3.3->deeplabcut[modelzoo,tf]) (0.11.0)\n",
      "Requirement already satisfied: kiwisolver>=1.0.1 in c:\\users\\insan\\anaconda3\\envs\\deeplabcut\\lib\\site-packages (from matplotlib!=3.7.0,!=3.7.1,>=3.3->deeplabcut[modelzoo,tf]) (1.4.4)\n",
      "Requirement already satisfied: packaging>=20.0 in c:\\users\\insan\\anaconda3\\envs\\deeplabcut\\lib\\site-packages (from matplotlib!=3.7.0,!=3.7.1,>=3.3->deeplabcut[modelzoo,tf]) (23.0)\n",
      "Requirement already satisfied: importlib-resources>=3.2.0 in c:\\users\\insan\\anaconda3\\envs\\deeplabcut\\lib\\site-packages (from matplotlib!=3.7.0,!=3.7.1,>=3.3->deeplabcut[modelzoo,tf]) (5.12.0)\n",
      "Requirement already satisfied: setuptools in c:\\users\\insan\\anaconda3\\envs\\deeplabcut\\lib\\site-packages (from numba>=0.54->deeplabcut[modelzoo,tf]) (67.4.0)\n",
      "Requirement already satisfied: importlib-metadata in c:\\users\\insan\\anaconda3\\envs\\deeplabcut\\lib\\site-packages (from numba>=0.54->deeplabcut[modelzoo,tf]) (6.0.0)\n",
      "Requirement already satisfied: llvmlite<0.40,>=0.39.0dev0 in c:\\users\\insan\\anaconda3\\envs\\deeplabcut\\lib\\site-packages (from numba>=0.54->deeplabcut[modelzoo,tf]) (0.39.1)\n",
      "Requirement already satisfied: pytz>=2020.1 in c:\\users\\insan\\anaconda3\\envs\\deeplabcut\\lib\\site-packages (from pandas!=1.5.0,>=1.0.1->deeplabcut[modelzoo,tf]) (2023.3.post1)\n",
      "Requirement already satisfied: ruamel.yaml.clib>=0.2.6 in c:\\users\\insan\\anaconda3\\envs\\deeplabcut\\lib\\site-packages (from ruamel.yaml>=0.15.0->deeplabcut[modelzoo,tf]) (0.2.7)\n",
      "Requirement already satisfied: PyWavelets>=1.1.1 in c:\\users\\insan\\anaconda3\\envs\\deeplabcut\\lib\\site-packages (from scikit-image>=0.17->deeplabcut[modelzoo,tf]) (1.4.1)\n",
      "Requirement already satisfied: tifffile>=2019.7.26 in c:\\users\\insan\\anaconda3\\envs\\deeplabcut\\lib\\site-packages (from scikit-image>=0.17->deeplabcut[modelzoo,tf]) (2023.2.28)\n",
      "Requirement already satisfied: joblib>=1.1.1 in c:\\users\\insan\\anaconda3\\envs\\deeplabcut\\lib\\site-packages (from scikit-learn>=1.0->deeplabcut[modelzoo,tf]) (1.2.0)\n",
      "Requirement already satisfied: threadpoolctl>=2.0.0 in c:\\users\\insan\\anaconda3\\envs\\deeplabcut\\lib\\site-packages (from scikit-learn>=1.0->deeplabcut[modelzoo,tf]) (3.1.0)\n",
      "Requirement already satisfied: patsy>=0.5.2 in c:\\users\\insan\\anaconda3\\envs\\deeplabcut\\lib\\site-packages (from statsmodels>=0.11->deeplabcut[modelzoo,tf]) (0.5.3)\n",
      "Requirement already satisfied: blosc2~=2.0.0 in c:\\users\\insan\\anaconda3\\envs\\deeplabcut\\lib\\site-packages (from tables>=3.7.0->deeplabcut[modelzoo,tf]) (2.0.0)\n",
      "Requirement already satisfied: cython>=0.29.21 in c:\\users\\insan\\anaconda3\\envs\\deeplabcut\\lib\\site-packages (from tables>=3.7.0->deeplabcut[modelzoo,tf]) (0.29.33)\n",
      "Requirement already satisfied: numexpr>=2.6.2 in c:\\users\\insan\\anaconda3\\envs\\deeplabcut\\lib\\site-packages (from tables>=3.7.0->deeplabcut[modelzoo,tf]) (2.8.4)\n",
      "Requirement already satisfied: py-cpuinfo in c:\\users\\insan\\anaconda3\\envs\\deeplabcut\\lib\\site-packages (from tables>=3.7.0->deeplabcut[modelzoo,tf]) (9.0.0)\n",
      "Requirement already satisfied: tensorflow-io-gcs-filesystem>=0.23.1 in c:\\users\\insan\\anaconda3\\envs\\deeplabcut\\lib\\site-packages (from tensorflow<=2.10,>=2.0->deeplabcut[modelzoo,tf]) (0.31.0)\n",
      "Requirement already satisfied: libclang>=13.0.0 in c:\\users\\insan\\anaconda3\\envs\\deeplabcut\\lib\\site-packages (from tensorflow<=2.10,>=2.0->deeplabcut[modelzoo,tf]) (15.0.6.1)\n",
      "Requirement already satisfied: gast<=0.4.0,>=0.2.1 in c:\\users\\insan\\anaconda3\\envs\\deeplabcut\\lib\\site-packages (from tensorflow<=2.10,>=2.0->deeplabcut[modelzoo,tf]) (0.4.0)\n",
      "Requirement already satisfied: typing-extensions>=3.6.6 in c:\\users\\insan\\anaconda3\\envs\\deeplabcut\\lib\\site-packages (from tensorflow<=2.10,>=2.0->deeplabcut[modelzoo,tf]) (4.4.0)\n",
      "Requirement already satisfied: tensorflow-estimator<2.11,>=2.10.0 in c:\\users\\insan\\anaconda3\\envs\\deeplabcut\\lib\\site-packages (from tensorflow<=2.10,>=2.0->deeplabcut[modelzoo,tf]) (2.10.0)\n",
      "Requirement already satisfied: keras-preprocessing>=1.1.1 in c:\\users\\insan\\anaconda3\\envs\\deeplabcut\\lib\\site-packages (from tensorflow<=2.10,>=2.0->deeplabcut[modelzoo,tf]) (1.1.2)\n",
      "Requirement already satisfied: absl-py>=1.0.0 in c:\\users\\insan\\anaconda3\\envs\\deeplabcut\\lib\\site-packages (from tensorflow<=2.10,>=2.0->deeplabcut[modelzoo,tf]) (1.4.0)\n",
      "Requirement already satisfied: protobuf<3.20,>=3.9.2 in c:\\users\\insan\\anaconda3\\envs\\deeplabcut\\lib\\site-packages (from tensorflow<=2.10,>=2.0->deeplabcut[modelzoo,tf]) (3.19.6)\n",
      "Requirement already satisfied: grpcio<2.0,>=1.24.3 in c:\\users\\insan\\anaconda3\\envs\\deeplabcut\\lib\\site-packages (from tensorflow<=2.10,>=2.0->deeplabcut[modelzoo,tf]) (1.51.3)\n",
      "Requirement already satisfied: wrapt>=1.11.0 in c:\\users\\insan\\anaconda3\\envs\\deeplabcut\\lib\\site-packages (from tensorflow<=2.10,>=2.0->deeplabcut[modelzoo,tf]) (1.15.0)\n",
      "Requirement already satisfied: google-pasta>=0.1.1 in c:\\users\\insan\\anaconda3\\envs\\deeplabcut\\lib\\site-packages (from tensorflow<=2.10,>=2.0->deeplabcut[modelzoo,tf]) (0.2.0)\n",
      "Requirement already satisfied: astunparse>=1.6.0 in c:\\users\\insan\\anaconda3\\envs\\deeplabcut\\lib\\site-packages (from tensorflow<=2.10,>=2.0->deeplabcut[modelzoo,tf]) (1.6.3)\n",
      "Requirement already satisfied: h5py>=2.9.0 in c:\\users\\insan\\anaconda3\\envs\\deeplabcut\\lib\\site-packages (from tensorflow<=2.10,>=2.0->deeplabcut[modelzoo,tf]) (3.8.0)\n",
      "Requirement already satisfied: termcolor>=1.1.0 in c:\\users\\insan\\anaconda3\\envs\\deeplabcut\\lib\\site-packages (from tensorflow<=2.10,>=2.0->deeplabcut[modelzoo,tf]) (2.2.0)\n",
      "Requirement already satisfied: flatbuffers>=2.0 in c:\\users\\insan\\anaconda3\\envs\\deeplabcut\\lib\\site-packages (from tensorflow<=2.10,>=2.0->deeplabcut[modelzoo,tf]) (23.1.21)\n",
      "Requirement already satisfied: keras<2.11,>=2.10.0 in c:\\users\\insan\\anaconda3\\envs\\deeplabcut\\lib\\site-packages (from tensorflow<=2.10,>=2.0->deeplabcut[modelzoo,tf]) (2.10.0)\n",
      "Requirement already satisfied: tensorboard<2.11,>=2.10 in c:\\users\\insan\\anaconda3\\envs\\deeplabcut\\lib\\site-packages (from tensorflow<=2.10,>=2.0->deeplabcut[modelzoo,tf]) (2.10.1)\n",
      "Requirement already satisfied: opt-einsum>=2.3.2 in c:\\users\\insan\\anaconda3\\envs\\deeplabcut\\lib\\site-packages (from tensorflow<=2.10,>=2.0->deeplabcut[modelzoo,tf]) (3.3.0)\n",
      "Requirement already satisfied: msgpack-numpy>=0.4.4.2 in c:\\users\\insan\\anaconda3\\envs\\deeplabcut\\lib\\site-packages (from tensorpack>=0.11->deeplabcut[modelzoo,tf]) (0.4.8)\n",
      "Requirement already satisfied: msgpack>=0.5.2 in c:\\users\\insan\\anaconda3\\envs\\deeplabcut\\lib\\site-packages (from tensorpack>=0.11->deeplabcut[modelzoo,tf]) (1.0.4)\n",
      "Requirement already satisfied: pyzmq>=16 in c:\\users\\insan\\anaconda3\\envs\\deeplabcut\\lib\\site-packages (from tensorpack>=0.11->deeplabcut[modelzoo,tf]) (25.0.0)\n",
      "Requirement already satisfied: tabulate>=0.7.7 in c:\\users\\insan\\anaconda3\\envs\\deeplabcut\\lib\\site-packages (from tensorpack>=0.11->deeplabcut[modelzoo,tf]) (0.9.0)\n",
      "Requirement already satisfied: psutil>=5 in c:\\users\\insan\\anaconda3\\envs\\deeplabcut\\lib\\site-packages (from tensorpack>=0.11->deeplabcut[modelzoo,tf]) (5.9.4)\n",
      "Requirement already satisfied: colorama in c:\\users\\insan\\anaconda3\\envs\\deeplabcut\\lib\\site-packages (from tqdm->deeplabcut[modelzoo,tf]) (0.4.6)\n",
      "Requirement already satisfied: filelock in c:\\users\\insan\\anaconda3\\envs\\deeplabcut\\lib\\site-packages (from huggingface-hub->deeplabcut[modelzoo,tf]) (3.9.0)\n",
      "Requirement already satisfied: requests in c:\\users\\insan\\anaconda3\\envs\\deeplabcut\\lib\\site-packages (from huggingface-hub->deeplabcut[modelzoo,tf]) (2.31.0)\n",
      "Requirement already satisfied: wheel<1.0,>=0.23.0 in c:\\users\\insan\\anaconda3\\envs\\deeplabcut\\lib\\site-packages (from astunparse>=1.6.0->tensorflow<=2.10,>=2.0->deeplabcut[modelzoo,tf]) (0.38.4)\n",
      "Requirement already satisfied: zipp>=3.1.0 in c:\\users\\insan\\anaconda3\\envs\\deeplabcut\\lib\\site-packages (from importlib-resources>=3.2.0->matplotlib!=3.7.0,!=3.7.1,>=3.3->deeplabcut[modelzoo,tf]) (3.15.0)\n",
      "Requirement already satisfied: markdown>=2.6.8 in c:\\users\\insan\\anaconda3\\envs\\deeplabcut\\lib\\site-packages (from tensorboard<2.11,>=2.10->tensorflow<=2.10,>=2.0->deeplabcut[modelzoo,tf]) (3.4.1)\n",
      "Requirement already satisfied: tensorboard-plugin-wit>=1.6.0 in c:\\users\\insan\\anaconda3\\envs\\deeplabcut\\lib\\site-packages (from tensorboard<2.11,>=2.10->tensorflow<=2.10,>=2.0->deeplabcut[modelzoo,tf]) (1.8.1)\n",
      "Requirement already satisfied: werkzeug>=1.0.1 in c:\\users\\insan\\anaconda3\\envs\\deeplabcut\\lib\\site-packages (from tensorboard<2.11,>=2.10->tensorflow<=2.10,>=2.0->deeplabcut[modelzoo,tf]) (2.2.3)\n",
      "Requirement already satisfied: google-auth<3,>=1.6.3 in c:\\users\\insan\\anaconda3\\envs\\deeplabcut\\lib\\site-packages (from tensorboard<2.11,>=2.10->tensorflow<=2.10,>=2.0->deeplabcut[modelzoo,tf]) (2.16.1)\n",
      "Requirement already satisfied: tensorboard-data-server<0.7.0,>=0.6.0 in c:\\users\\insan\\anaconda3\\envs\\deeplabcut\\lib\\site-packages (from tensorboard<2.11,>=2.10->tensorflow<=2.10,>=2.0->deeplabcut[modelzoo,tf]) (0.6.1)\n",
      "Requirement already satisfied: google-auth-oauthlib<0.5,>=0.4.1 in c:\\users\\insan\\anaconda3\\envs\\deeplabcut\\lib\\site-packages (from tensorboard<2.11,>=2.10->tensorflow<=2.10,>=2.0->deeplabcut[modelzoo,tf]) (0.4.6)\n",
      "Requirement already satisfied: urllib3<3,>=1.21.1 in c:\\users\\insan\\anaconda3\\envs\\deeplabcut\\lib\\site-packages (from requests->huggingface-hub->deeplabcut[modelzoo,tf]) (2.1.0)\n",
      "Requirement already satisfied: certifi>=2017.4.17 in c:\\users\\insan\\anaconda3\\envs\\deeplabcut\\lib\\site-packages (from requests->huggingface-hub->deeplabcut[modelzoo,tf]) (2024.2.2)\n",
      "Requirement already satisfied: charset-normalizer<4,>=2 in c:\\users\\insan\\anaconda3\\envs\\deeplabcut\\lib\\site-packages (from requests->huggingface-hub->deeplabcut[modelzoo,tf]) (3.0.1)\n",
      "Requirement already satisfied: idna<4,>=2.5 in c:\\users\\insan\\anaconda3\\envs\\deeplabcut\\lib\\site-packages (from requests->huggingface-hub->deeplabcut[modelzoo,tf]) (3.4)\n",
      "Requirement already satisfied: rsa<5,>=3.1.4 in c:\\users\\insan\\anaconda3\\envs\\deeplabcut\\lib\\site-packages (from google-auth<3,>=1.6.3->tensorboard<2.11,>=2.10->tensorflow<=2.10,>=2.0->deeplabcut[modelzoo,tf]) (4.9)\n",
      "Requirement already satisfied: pyasn1-modules>=0.2.1 in c:\\users\\insan\\anaconda3\\envs\\deeplabcut\\lib\\site-packages (from google-auth<3,>=1.6.3->tensorboard<2.11,>=2.10->tensorflow<=2.10,>=2.0->deeplabcut[modelzoo,tf]) (0.2.8)\n",
      "Requirement already satisfied: cachetools<6.0,>=2.0.0 in c:\\users\\insan\\anaconda3\\envs\\deeplabcut\\lib\\site-packages (from google-auth<3,>=1.6.3->tensorboard<2.11,>=2.10->tensorflow<=2.10,>=2.0->deeplabcut[modelzoo,tf]) (5.3.0)\n",
      "Requirement already satisfied: requests-oauthlib>=0.7.0 in c:\\users\\insan\\anaconda3\\envs\\deeplabcut\\lib\\site-packages (from google-auth-oauthlib<0.5,>=0.4.1->tensorboard<2.11,>=2.10->tensorflow<=2.10,>=2.0->deeplabcut[modelzoo,tf]) (1.3.1)\n",
      "Requirement already satisfied: MarkupSafe>=2.1.1 in c:\\users\\insan\\anaconda3\\envs\\deeplabcut\\lib\\site-packages (from werkzeug>=1.0.1->tensorboard<2.11,>=2.10->tensorflow<=2.10,>=2.0->deeplabcut[modelzoo,tf]) (2.1.2)\n",
      "Requirement already satisfied: pyasn1<0.5.0,>=0.4.6 in c:\\users\\insan\\anaconda3\\envs\\deeplabcut\\lib\\site-packages (from pyasn1-modules>=0.2.1->google-auth<3,>=1.6.3->tensorboard<2.11,>=2.10->tensorflow<=2.10,>=2.0->deeplabcut[modelzoo,tf]) (0.4.8)\n",
      "Requirement already satisfied: oauthlib>=3.0.0 in c:\\users\\insan\\anaconda3\\envs\\deeplabcut\\lib\\site-packages (from requests-oauthlib>=0.7.0->google-auth-oauthlib<0.5,>=0.4.1->tensorboard<2.11,>=2.10->tensorflow<=2.10,>=2.0->deeplabcut[modelzoo,tf]) (3.2.2)\n",
      "Note: you may need to restart the kernel to use updated packages.\n"
     ]
    }
   ],
   "source": [
    "pip install deeplabcut[tf,modelzoo]"
   ]
  },
  {
   "cell_type": "code",
   "execution_count": null,
   "id": "207426f9",
   "metadata": {},
   "outputs": [],
   "source": []
  },
  {
   "cell_type": "code",
   "execution_count": 4,
   "id": "b08bcb49-5c10-47e6-9f47-49ce8f463339",
   "metadata": {},
   "outputs": [
    {
     "name": "stdout",
     "output_type": "stream",
     "text": [
      "Loading.... superanimal_quadruped\n"
     ]
    },
    {
     "name": "stderr",
     "output_type": "stream",
     "text": [
      "C:\\Users\\insan\\anaconda3\\envs\\DEEPLABCUT\\lib\\site-packages\\huggingface_hub\\file_download.py:129: UserWarning: `huggingface_hub` cache-system uses symlinks by default to efficiently store duplicated files but your machine does not support them in C:\\Users\\insan\\anaconda3\\envs\\DEEPLABCUT\\Lib\\site-packages\\deeplabcut\\pose_estimation_tensorflow\\models\\pretrained\\superanimal_quadruped_weights. Caching files will still work but in a degraded version that might require more space on your disk. This warning can be disabled by setting the `HF_HUB_DISABLE_SYMLINKS_WARNING` environment variable. For more details, see https://huggingface.co/docs/huggingface_hub/how-to-cache#limitations.\n",
      "To support symlinks on Windows, you either need to activate Developer Mode or to run Python as an administrator. In order to see activate developer mode, see this article: https://docs.microsoft.com/en-us/windows/apps/get-started/enable-your-device-for-development\n",
      "  warnings.warn(message)\n",
      "C:\\Users\\insan\\anaconda3\\envs\\DEEPLABCUT\\lib\\site-packages\\tensorflow\\python\\keras\\engine\\base_layer_v1.py:1694: UserWarning: `layer.apply` is deprecated and will be removed in a future version. Please use `layer.__call__` method instead.\n",
      "  warnings.warn('`layer.apply` is deprecated and '\n"
     ]
    },
    {
     "name": "stdout",
     "output_type": "stream",
     "text": [
      "Loading  C:\\Users\\insan\\Desktop\\Tal_video_test\\superanimaltest2.mp4\n",
      "Duration of video [s]:  78.47 , recorded with  30.0 fps!\n",
      "Overall # of frames:  2354  found with (before cropping) frame dimensions:  1280 960\n",
      "Starting to extract posture\n"
     ]
    },
    {
     "name": "stderr",
     "output_type": "stream",
     "text": [
      "  0%|          | 0/2354 [00:00<?, ?it/s]"
     ]
    },
    {
     "name": "stdout",
     "output_type": "stream",
     "text": [
      "scale list range(200, 600, 50)\n"
     ]
    },
    {
     "name": "stderr",
     "output_type": "stream",
     "text": [
      "100%|██████████| 2354/2354 [10:34<00:00,  3.71it/s]\n"
     ]
    },
    {
     "name": "stdout",
     "output_type": "stream",
     "text": [
      "Saving results in C:\\Users\\insan\\Desktop\\Tal_video_test...\n",
      "Starting to process video: C:\\Users\\insan\\Desktop\\Tal_video_test\\superanimaltest2.mp4\n",
      "Loading C:\\Users\\insan\\Desktop\\Tal_video_test\\superanimaltest2.mp4 and data.\n",
      "Duration of video [s]: 78.47, recorded with 30.0 fps!\n",
      "Overall # of frames: 2354 with cropped frame dimensions: 1280 960\n",
      "Generating frames and creating video.\n"
     ]
    },
    {
     "name": "stderr",
     "output_type": "stream",
     "text": [
      "100%|██████████| 2354/2354 [00:23<00:00, 99.27it/s] \n"
     ]
    }
   ],
   "source": [
    "video_path = 'C:\\\\Users\\insan\\\\Desktop\\\\Tal_video_test\\\\superanimaltest2.mp4'\n",
    "superanimal_name = 'superanimal_quadruped'\n",
    "\n",
    "# The purpose of the scale list is to aggregate predictions from various image sizes. We anticipate the appearance size of the animal in the images to be approximately 400 pixels.\n",
    "scale_list = range(200, 600, 50)\n",
    "\n",
    "deeplabcut.video_inference_superanimal([video_path], superanimal_name, scale_list=scale_list, video_adapt = False)"
   ]
  },
  {
   "cell_type": "code",
   "execution_count": 3,
   "id": "6c654ea6-0ed4-4a78-99be-44c90aca3b92",
   "metadata": {
    "collapsed": true,
    "jupyter": {
     "outputs_hidden": true,
     "source_hidden": true
    },
    "tags": []
   },
   "outputs": [
    {
     "name": "stdout",
     "output_type": "stream",
     "text": [
      "['CropVideo', 'DEBUG', 'DownSampleVideo', 'ShortenVideo', 'SkeletonBuilder', 'VERSION', '__builtins__', '__cached__', '__doc__', '__file__', '__loader__', '__name__', '__package__', '__path__', '__spec__', '__version__', 'add_new_videos', 'adddatasetstovideolistandviceversa', 'analyze_time_lapse_frames', 'analyze_videos', 'analyze_videos_converth5_to_csv', 'analyze_videos_converth5_to_nwb', 'analyzeskeleton', 'auxfun_videos', 'auxiliaryfunctions', 'calibrate_cameras', 'check_labels', 'check_undistortion', 'check_video_integrity', 'comparevideolistsanddatafolders', 'convert2_maDLC', 'convert_detections2tracklets', 'convertcsv2h5', 'create_labeled_video', 'create_labeled_video_3d', 'create_multianimaltraining_dataset', 'create_new_project', 'create_new_project_3d', 'create_pretrained_human_project', 'create_pretrained_project', 'create_project', 'create_tracking_dataset', 'create_training_dataset', 'create_training_model_comparison', 'create_video_with_all_detections', 'dropannotationfileentriesduetodeletedimages', 'dropduplicatesinannotatinfiles', 'dropimagesduetolackofannotation', 'dropunlabeledframes', 'evaluate_network', 'export_model', 'extract_frames', 'extract_maps', 'extract_outlier_frames', 'extract_save_all_maps', 'filterpredictions', 'find_outliers_in_raw_data', 'generate_training_dataset', 'gui', 'label_frames', 'launch_dlc', 'load_demo_data', 'merge_datasets', 'mergeandsplit', 'os', 'plot_trajectories', 'pose_estimation_3d', 'pose_estimation_tensorflow', 'pose_tracking_pytorch', 'post_processing', 'refine_labels', 'refine_tracklets', 'refine_training_dataset', 'return_evaluate_network_data', 'return_train_network_path', 'stitch_tracklets', 'tf', 'train_network', 'transformer_reID', 'triangulate', 'utils', 'version', 'visualize_locrefs', 'visualize_paf', 'visualize_scoremaps']\n"
     ]
    }
   ],
   "source": [
    "print(dir(deeplabcut))"
   ]
  },
  {
   "cell_type": "code",
   "execution_count": 8,
   "id": "26177e29-76be-423b-8ab5-4ebef6f3ef9c",
   "metadata": {},
   "outputs": [],
   "source": [
    "video_directory = 'C:\\\\Users\\insan\\\\Desktop\\\\Tal_video_test\\\\pupiltest.mp4'"
   ]
  },
  {
   "cell_type": "code",
   "execution_count": 10,
   "id": "9ecd79cf-b83b-4fc1-8ed2-77cac3f911ca",
   "metadata": {},
   "outputs": [
    {
     "ename": "ValueError",
     "evalue": "`supermodel_name` should be one of: superanimal_quadruped, superanimal_topviewmouse.",
     "output_type": "error",
     "traceback": [
      "\u001b[1;31m---------------------------------------------------------------------------\u001b[0m",
      "\u001b[1;31mValueError\u001b[0m                                Traceback (most recent call last)",
      "Cell \u001b[1;32mIn[10], line 7\u001b[0m\n\u001b[0;32m      4\u001b[0m \u001b[38;5;66;03m# The purpose of the scale list is to aggregate predictions from various image sizes. We anticipate the appearance size of the animal in the images to be approximately 400 pixels.\u001b[39;00m\n\u001b[0;32m      5\u001b[0m scale_list \u001b[38;5;241m=\u001b[39m \u001b[38;5;28mrange\u001b[39m(\u001b[38;5;241m200\u001b[39m, \u001b[38;5;241m600\u001b[39m, \u001b[38;5;241m50\u001b[39m)\n\u001b[1;32m----> 7\u001b[0m \u001b[43mdeeplabcut\u001b[49m\u001b[38;5;241;43m.\u001b[39;49m\u001b[43mvideo_inference_superanimal\u001b[49m\u001b[43m(\u001b[49m\u001b[43m[\u001b[49m\u001b[43mvideo_path\u001b[49m\u001b[43m]\u001b[49m\u001b[43m,\u001b[49m\u001b[43m \u001b[49m\u001b[43msuperanimal_name\u001b[49m\u001b[43m,\u001b[49m\u001b[43m \u001b[49m\u001b[43mscale_list\u001b[49m\u001b[38;5;241;43m=\u001b[39;49m\u001b[43mscale_list\u001b[49m\u001b[43m,\u001b[49m\u001b[43m \u001b[49m\u001b[43mvideo_adapt\u001b[49m\u001b[43m \u001b[49m\u001b[38;5;241;43m=\u001b[39;49m\u001b[43m \u001b[49m\u001b[38;5;28;43;01mFalse\u001b[39;49;00m\u001b[43m)\u001b[49m\n",
      "File \u001b[1;32m~\\anaconda3\\envs\\DEEPLABCUT\\lib\\site-packages\\deeplabcut\\pose_estimation_tensorflow\\predict_supermodel.py:90\u001b[0m, in \u001b[0;36mvideo_inference_superanimal\u001b[1;34m(videos, superanimal_name, scale_list, videotype, video_adapt, plot_trajectories, pcutoff, adapt_iterations, pseudo_threshold)\u001b[0m\n\u001b[0;32m     82\u001b[0m dlcparent_path \u001b[38;5;241m=\u001b[39m get_deeplabcut_path()\n\u001b[0;32m     83\u001b[0m modelfolder \u001b[38;5;241m=\u001b[39m (\n\u001b[0;32m     84\u001b[0m     Path(dlcparent_path)\n\u001b[0;32m     85\u001b[0m     \u001b[38;5;241m/\u001b[39m \u001b[38;5;124m\"\u001b[39m\u001b[38;5;124mpose_estimation_tensorflow\u001b[39m\u001b[38;5;124m\"\u001b[39m\n\u001b[1;32m   (...)\u001b[0m\n\u001b[0;32m     88\u001b[0m     \u001b[38;5;241m/\u001b[39m (superanimal_name \u001b[38;5;241m+\u001b[39m \u001b[38;5;124m\"\u001b[39m\u001b[38;5;124m_\u001b[39m\u001b[38;5;124m\"\u001b[39m \u001b[38;5;241m+\u001b[39m vname \u001b[38;5;241m+\u001b[39m \u001b[38;5;124m\"\u001b[39m\u001b[38;5;124m_weights\u001b[39m\u001b[38;5;124m\"\u001b[39m)\n\u001b[0;32m     89\u001b[0m )\n\u001b[1;32m---> 90\u001b[0m adapter \u001b[38;5;241m=\u001b[39m \u001b[43mSpatiotemporalAdaptation\u001b[49m\u001b[43m(\u001b[49m\n\u001b[0;32m     91\u001b[0m \u001b[43m    \u001b[49m\u001b[43mvideo\u001b[49m\u001b[43m,\u001b[49m\n\u001b[0;32m     92\u001b[0m \u001b[43m    \u001b[49m\u001b[43msuperanimal_name\u001b[49m\u001b[43m,\u001b[49m\n\u001b[0;32m     93\u001b[0m \u001b[43m    \u001b[49m\u001b[43mmodelfolder\u001b[49m\u001b[38;5;241;43m=\u001b[39;49m\u001b[43mmodelfolder\u001b[49m\u001b[43m,\u001b[49m\n\u001b[0;32m     94\u001b[0m \u001b[43m    \u001b[49m\u001b[43mvideotype\u001b[49m\u001b[38;5;241;43m=\u001b[39;49m\u001b[43mvideotype\u001b[49m\u001b[43m,\u001b[49m\n\u001b[0;32m     95\u001b[0m \u001b[43m    \u001b[49m\u001b[43mscale_list\u001b[49m\u001b[38;5;241;43m=\u001b[39;49m\u001b[43mscale_list\u001b[49m\u001b[43m,\u001b[49m\n\u001b[0;32m     96\u001b[0m \u001b[43m\u001b[49m\u001b[43m)\u001b[49m\n\u001b[0;32m     97\u001b[0m \u001b[38;5;28;01mif\u001b[39;00m \u001b[38;5;129;01mnot\u001b[39;00m video_adapt:\n\u001b[0;32m     98\u001b[0m     adapter\u001b[38;5;241m.\u001b[39mbefore_adapt_inference(\n\u001b[0;32m     99\u001b[0m         make_video\u001b[38;5;241m=\u001b[39m\u001b[38;5;28;01mTrue\u001b[39;00m, pcutoff\u001b[38;5;241m=\u001b[39mpcutoff, plot_trajectories\u001b[38;5;241m=\u001b[39mplot_trajectories\n\u001b[0;32m    100\u001b[0m     )\n",
      "File \u001b[1;32m~\\anaconda3\\envs\\DEEPLABCUT\\lib\\site-packages\\deeplabcut\\modelzoo\\api\\spatiotemporal_adapt.py:77\u001b[0m, in \u001b[0;36mSpatiotemporalAdaptation.__init__\u001b[1;34m(self, video_path, supermodel_name, scale_list, videotype, adapt_iterations, modelfolder, customized_pose_config, init_weights)\u001b[0m\n\u001b[0;32m     75\u001b[0m supermodels \u001b[38;5;241m=\u001b[39m parse_available_supermodels()\n\u001b[0;32m     76\u001b[0m \u001b[38;5;28;01mif\u001b[39;00m supermodel_name \u001b[38;5;129;01mnot\u001b[39;00m \u001b[38;5;129;01min\u001b[39;00m supermodels:\n\u001b[1;32m---> 77\u001b[0m     \u001b[38;5;28;01mraise\u001b[39;00m \u001b[38;5;167;01mValueError\u001b[39;00m(\n\u001b[0;32m     78\u001b[0m         \u001b[38;5;124mf\u001b[39m\u001b[38;5;124m\"\u001b[39m\u001b[38;5;124m`supermodel_name` should be one of: \u001b[39m\u001b[38;5;132;01m{\u001b[39;00m\u001b[38;5;124m'\u001b[39m\u001b[38;5;124m, \u001b[39m\u001b[38;5;124m'\u001b[39m\u001b[38;5;241m.\u001b[39mjoin(supermodels)\u001b[38;5;132;01m}\u001b[39;00m\u001b[38;5;124m.\u001b[39m\u001b[38;5;124m\"\u001b[39m\n\u001b[0;32m     79\u001b[0m     )\n\u001b[0;32m     81\u001b[0m \u001b[38;5;28mself\u001b[39m\u001b[38;5;241m.\u001b[39mvideo_path \u001b[38;5;241m=\u001b[39m video_path\n\u001b[0;32m     82\u001b[0m \u001b[38;5;28mself\u001b[39m\u001b[38;5;241m.\u001b[39msupermodel_name \u001b[38;5;241m=\u001b[39m supermodel_name\n",
      "\u001b[1;31mValueError\u001b[0m: `supermodel_name` should be one of: superanimal_quadruped, superanimal_topviewmouse."
     ]
    }
   ],
   "source": [
    "video_path = 'C:\\\\Users\\insan\\\\Desktop\\\\Tal_video_test\\\\pupiltest.mp4'\n",
    "superanimal_name = 'mouse_pupil_vclose'\n",
    "\n",
    "# The purpose of the scale list is to aggregate predictions from various image sizes. We anticipate the appearance size of the animal in the images to be approximately 400 pixels.\n",
    "scale_list = range(200, 600, 50)\n",
    "\n",
    "deeplabcut.video_inference_superanimal([video_path], superanimal_name, scale_list=scale_list, video_adapt = False)"
   ]
  },
  {
   "cell_type": "code",
   "execution_count": null,
   "id": "29bfd828-fabc-4333-9958-7f3b2fa655ff",
   "metadata": {},
   "outputs": [],
   "source": []
  },
  {
   "cell_type": "code",
   "execution_count": null,
   "id": "2b2fa5ae-8150-4d79-b360-ba4106114dae",
   "metadata": {},
   "outputs": [],
   "source": []
  }
 ],
 "metadata": {
  "kernelspec": {
   "display_name": "Python 3 (ipykernel)",
   "language": "python",
   "name": "python3"
  },
  "language_info": {
   "codemirror_mode": {
    "name": "ipython",
    "version": 3
   },
   "file_extension": ".py",
   "mimetype": "text/x-python",
   "name": "python",
   "nbconvert_exporter": "python",
   "pygments_lexer": "ipython3",
   "version": "3.9.16"
  }
 },
 "nbformat": 4,
 "nbformat_minor": 5
}
