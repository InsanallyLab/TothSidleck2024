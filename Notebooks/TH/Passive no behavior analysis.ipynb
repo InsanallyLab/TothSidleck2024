{
 "cells": [
  {
   "cell_type": "code",
   "execution_count": 1,
   "metadata": {},
   "outputs": [],
   "source": [
    "import sys, os\n",
    "import json, pickle\n",
    "import matplotlib.pyplot as plt\n",
    "import matplotlib as mpl\n",
    "import numpy as np\n",
    "import pandas as pd\n",
    "import time as pytime\n",
    "import statsmodels.tsa.stattools as tsa\n",
    "import ruptures as rpt\n",
    "import InsanallyLabEphysTools as ilep\n",
    "from scipy.stats import gaussian_kde, sem, ttest_ind, ttest_rel, norm, mannwhitneyu, linregress, wilcoxon\n",
    "from tqdm import tqdm\n",
    "from types import SimpleNamespace\n",
    "from sklearn import linear_model\n",
    "from itertools import product\n",
    "from datetime import datetime\n",
    "import h5py\n",
    "#import tables as tb\n",
    "from copy import deepcopy\n",
    "import colorsys\n",
    "import pingouin as pg\n",
    "\n",
    "from sklearn.model_selection import GridSearchCV, StratifiedKFold, LeaveOneOut\n",
    "from sklearn.neighbors import KernelDensity\n",
    "\n",
    "plt.rcParams['legend.fontsize'] = 'small'\n",
    "plt.rcParams['axes.labelsize'] = 'medium'\n",
    "plt.rcParams['axes.formatter.limits'] = [-2,3]\n",
    "plt.rcParams['axes.formatter.use_mathtext'] = True\n",
    "plt.rcParams['axes.spines.top'] = False\n",
    "plt.rcParams['axes.spines.right'] = False\n",
    "plt.rcParams['xtick.direction'] = 'in'\n",
    "plt.rcParams['ytick.direction'] = 'in'\n",
    "plt.rcParams['figure.dpi'] = '150'\n",
    "\n",
    "#Set global font parameters\n",
    "plt.rcParams['font.family'] = 'sans-serif'\n",
    "plt.rcParams['font.sans-serif'] = 'Arial'\n",
    "#Set font type to TrueType for compatibility\n",
    "plt.rcParams['pdf.fonttype'] = 42\n",
    "plt.rcParams['ps.fonttype'] = 42\n",
    "\n",
    "CR_COLOR = '#808080'\n",
    "NCR_COLOR = '#FF767C'\n",
    "CNO_COLOR = '#00BFFF'\n",
    "GOOD_GREY = '#969696'\n",
    "SWITCH_COLOR = '#B07A3B'\n",
    "NCR_CR_cmap = mpl.colors.LinearSegmentedColormap.from_list('NCR-CR color map', [NCR_COLOR, CR_COLOR], N=1000)\n",
    "PHASE_COLORS = ['#DEB9E0','#B78AB9','#906D92','#ABC5E8','#869BB7','#5E6C80']"
   ]
  },
  {
   "cell_type": "code",
   "execution_count": null,
   "metadata": {},
   "outputs": [],
   "source": []
  },
  {
   "cell_type": "code",
   "execution_count": 2,
   "metadata": {},
   "outputs": [],
   "source": [
    "#act_directory = \"/Users/InsanallyLab/Desktop/Analysis_Cache\"\n",
    "#act_directory = 'D:\\\\Analysis_Cache'\n",
    "act_directory = 'C:\\\\Users\\insan\\\\Desktop\\\\Analysis_Cache'"
   ]
  },
  {
   "cell_type": "code",
   "execution_count": null,
   "metadata": {},
   "outputs": [],
   "source": []
  },
  {
   "cell_type": "code",
   "execution_count": 3,
   "metadata": {},
   "outputs": [
    {
     "name": "stderr",
     "output_type": "stream",
     "text": [
      "100%|██████████| 515/515 [00:06<00:00, 79.49it/s] \n"
     ]
    }
   ],
   "source": [
    "animals_in_cache = []\n",
    "\n",
    "EnumACSession = []\n",
    "EnumACClust = []\n",
    "\n",
    "for session in tqdm(os.listdir(act_directory)):\n",
    "    sessionfile = ilep.loadSessionCached(act_directory,session)\n",
    "    \n",
    "    if sessionfile.meta.animal not in ['TH_201','TH_203','LA_204','LA_205','TH_200', 'TH_230','AE_229','TH_233','TH_234']:\n",
    "        continue\n",
    "    \n",
    "    animals_in_cache.append(sessionfile.meta.animal)\n",
    "    \n",
    "    for clust in sessionfile.clusters.good:\n",
    "        if sessionfile.meta.region == \"AC\":\n",
    "            EnumACSession.append(session)\n",
    "            EnumACClust.append(clust)\n",
    "        \n",
    "animals_in_cache = np.unique(animals_in_cache)"
   ]
  },
  {
   "cell_type": "code",
   "execution_count": 4,
   "metadata": {},
   "outputs": [
    {
     "data": {
      "text/plain": [
       "'TH_237'"
      ]
     },
     "execution_count": 4,
     "metadata": {},
     "output_type": "execute_result"
    }
   ],
   "source": [
    "sessionfile.meta.animal"
   ]
  },
  {
   "cell_type": "code",
   "execution_count": null,
   "metadata": {},
   "outputs": [],
   "source": []
  },
  {
   "cell_type": "code",
   "execution_count": null,
   "metadata": {},
   "outputs": [],
   "source": []
  },
  {
   "cell_type": "code",
   "execution_count": 5,
   "metadata": {},
   "outputs": [],
   "source": [
    "# FRmod_cohort1 = []\n",
    "# FRmod_cohort2 = []\n",
    "# FRmod_cohort3 = []"
   ]
  },
  {
   "cell_type": "code",
   "execution_count": 6,
   "metadata": {},
   "outputs": [],
   "source": [
    "# for idx,(session,clust) in tqdm(enumerate(zip(EnumACSession,EnumACClust))):\n",
    "#     ACsessionfile = ilep.loadSessionCached(act_directory,session)\n",
    "    \n",
    "#     #if ACsessionfile.meta.region != 'AC':   Already handled in enum creations\n",
    "#     #    continue\n",
    "    \n",
    "#     if ACsessionfile.meta.animal in cohort1:\n",
    "#         FRmod_cohort1.append(ACsessionfile.responsiveness[clust]['all_trials'].FRmodulation)\n",
    "        \n",
    "#     if ACsessionfile.meta.animal in cohort2:\n",
    "#         FRmod_cohort2.append(ACsessionfile.responsiveness[clust]['all_trials'].FRmodulation)\n",
    "        \n",
    "#     if ACsessionfile.meta.animal in cohort3:\n",
    "#         FRmod_cohort3.append(ACsessionfile.responsiveness[clust]['all_trials'].FRmodulation)\n"
   ]
  },
  {
   "cell_type": "code",
   "execution_count": 7,
   "metadata": {},
   "outputs": [],
   "source": [
    "# FRmod_cohort1 = np.array(FRmod_cohort1)\n",
    "# FRmod_cohort2 = np.array(FRmod_cohort2)\n",
    "# FRmod_cohort3 = np.array(FRmod_cohort3)"
   ]
  },
  {
   "cell_type": "code",
   "execution_count": 8,
   "metadata": {},
   "outputs": [],
   "source": [
    "# #Firing rate modulation graphs\n",
    "\n",
    "# size=5\n",
    "\n",
    "# FRmod_baseline_median = 3.5938903863432152\n",
    "\n",
    "# fig, ax = plt.subplots(figsize=(4,4.5))\n",
    "# data = [FRmod_cohort1, FRmod_cohort2, FRmod_cohort3]\n",
    "# labels = ['Cohort1','Cohort2','Cohort3']\n",
    "# numCon = len(data)\n",
    "# X = [np.ones(len(l))*idx for idx,l in enumerate(data)]\n",
    "\n",
    "# _,Y = ilep.violin(np.concatenate(X),np.concatenate(data),width=0.25)\n",
    "# X,_ = ilep.violin(np.concatenate(X),np.log10(np.concatenate(data)),width=0.25)\n",
    "# colors = NCR_CR_cmap((Y-1)/5)\n",
    "\n",
    "# ax.scatter(X, Y, s=size, ec=colors, fc='white', lw=0.5,zorder=-10)\n",
    "# ax.set_yscale('log',subsy=[])\n",
    "\n",
    "# #Plot summary\n",
    "# for idx,column in enumerate(data):\n",
    "#     percentCR = np.nanmean(np.greater(column,FRmod_baseline_median))*100\n",
    "    \n",
    "#     eye_color=NCR_CR_cmap((percentCR-40)/20)\n",
    "    \n",
    "#     r,g,b = mpl.colors.to_rgb(eye_color)\n",
    "#     h,l,s = colorsys.rgb_to_hls(r,g,b)\n",
    "#     border_color=colorsys.hls_to_rgb(h,l*0.5,s)\n",
    "#     print(border_color)\n",
    "\n",
    "#     summary_size=50\n",
    "#     summary_width=1\n",
    "    \n",
    "#     Q1, median, Q3 = (np.percentile(column, q) for q in [25, 50, 75])\n",
    "    \n",
    "#     ax.scatter([idx], [median], ec=border_color,fc=eye_color, s=summary_size,lw=summary_width, zorder=10)\n",
    "#     ax.plot([idx, idx], [Q1, Q3], c=border_color, lw=summary_width, zorder=9, solid_capstyle='round')\n",
    "\n",
    "# #\n",
    "# ax.set_ylim([0.1,100])\n",
    "# ax.set_yticks([0.1,1,10,100])\n",
    "# ax.set_yticklabels(['0.1','1','10','100'])\n",
    "# ax.set_ylabel('Firing rate modulation(spikes/s)')\n",
    "\n",
    "# ax.set_xlim([-0.5,2.5])\n",
    "# ax.set_xticks(range(numCon))\n",
    "# ax.set_xticklabels(labels,fontsize=7.5)\n",
    "# ax.set_xlim(ax.get_xlim())\n",
    "\n",
    "# for idx,column in enumerate(data):\n",
    "#     ax.text(idx,90,str(len(column)))\n",
    "\n",
    "# ax.fill_between(ax.get_xlim(),[ax.get_ylim()[0]]*2,[ax.get_ylim()[1]]*2,color='white',alpha=0.5,zorder=-5)\n",
    "# ax.axhline(FRmod_baseline_median,color='k',linestyle='--',lw=1,zorder=-4)\n",
    "# #fig.savefig(os.path.join('D:\\\\\\\\Figures','Passive No Behavior Figures','Passive no behavior Shift FRmod over exposure.pdf'),transparent=False,facecolor=\"white\")"
   ]
  },
  {
   "cell_type": "code",
   "execution_count": 9,
   "metadata": {},
   "outputs": [],
   "source": [
    "#Define 6 learning phases(days)\n",
    "pre_early = 4\n",
    "pre_late = 6\n",
    "pre_expert = 8\n",
    "post_early = 12\n",
    "post_late = 15\n",
    "post_expert = 16\n",
    "\n",
    "#\n",
    "FRmod_preearly = []\n",
    "FRmod_prelate = []\n",
    "FRmod_preexpert = []\n",
    "FRmod_postearly = []\n",
    "FRmod_postlate = []\n",
    "FRmod_postexpert = []\n",
    "\n",
    "#\n",
    "preexpert_session_num = []\n",
    "postlate_session_num = []\n",
    "postexpert_session_num = []\n"
   ]
  },
  {
   "cell_type": "code",
   "execution_count": 10,
   "metadata": {},
   "outputs": [
    {
     "name": "stderr",
     "output_type": "stream",
     "text": [
      "1442it [00:13, 110.43it/s]\n"
     ]
    }
   ],
   "source": [
    "preearly_animal = []\n",
    "prelate_animal = []\n",
    "preexpert_animal = []\n",
    "postearly_animal = []\n",
    "postlate_animal = []\n",
    "postexpert_animal = []\n",
    "\n",
    "\n",
    "for idx,(session,clust) in tqdm(enumerate(zip(EnumACSession,EnumACClust))):\n",
    "    ACsessionfile = ilep.loadSessionCached(act_directory,session)\n",
    "    \n",
    "    #1,2,3,4\n",
    "    if ACsessionfile.meta.day_of_training <= pre_early:\n",
    "        FRmod_preearly.append(ACsessionfile.responsiveness[clust]['all_trials'].FRmodulation)\n",
    "        preearly_animal.append(ACsessionfile.meta.animal)\n",
    "        \n",
    "        \n",
    "    #5,6\n",
    "    if ACsessionfile.meta.day_of_training <= pre_late and ACsessionfile.meta.day_of_training >pre_early:\n",
    "        FRmod_prelate.append(ACsessionfile.responsiveness[clust]['all_trials'].FRmodulation)\n",
    "        prelate_animal.append(ACsessionfile.meta.animal)\n",
    "    \n",
    "    #7,8\n",
    "    if ACsessionfile.meta.day_of_training <= pre_expert and ACsessionfile.meta.day_of_training >pre_late:\n",
    "        FRmod_preexpert.append(ACsessionfile.responsiveness[clust]['all_trials'].FRmodulation)\n",
    "        preexpert_session_num.append(ACsessionfile.meta.files)\n",
    "        preexpert_animal.append(ACsessionfile.meta.animal)\n",
    "        \n",
    "    #9,10,11,12\n",
    "    if ACsessionfile.meta.day_of_training <= post_early and ACsessionfile.meta.day_of_training >pre_expert:\n",
    "        FRmod_postearly.append(ACsessionfile.responsiveness[clust]['all_trials'].FRmodulation)\n",
    "        postearly_animal.append(ACsessionfile.meta.animal)\n",
    "\n",
    "    #13,14,15\n",
    "    if ACsessionfile.meta.day_of_training <= post_late and ACsessionfile.meta.day_of_training >post_early:\n",
    "        FRmod_postlate.append(ACsessionfile.responsiveness[clust]['all_trials'].FRmodulation)\n",
    "        postlate_session_num.append(ACsessionfile.meta.files)\n",
    "        postlate_animal.append(ACsessionfile.meta.animal)\n",
    "    \n",
    "    #16,17,18,19,20,21\n",
    "    if ACsessionfile.meta.day_of_training >= post_expert:\n",
    "        FRmod_postexpert.append(ACsessionfile.responsiveness[clust]['all_trials'].FRmodulation)\n",
    "        postexpert_session_num.append(ACsessionfile.meta.files)\n",
    "        postexpert_animal.append(ACsessionfile.meta.animal)\n",
    "    "
   ]
  },
  {
   "cell_type": "code",
   "execution_count": 11,
   "metadata": {},
   "outputs": [],
   "source": [
    "#number of animals in each learning phase\n",
    "\n",
    "preearly_animal = np.unique(preearly_animal)\n",
    "prelate_animal = np.unique(prelate_animal)\n",
    "preexpert_animal = np.unique(preexpert_animal)\n",
    "postearly_animal = np.unique(postearly_animal)\n",
    "postlate_animal = np.unique(postlate_animal)\n",
    "postexpert_animal = np.unique(postexpert_animal)\n",
    "\n",
    "preearly_animal_num = len(preearly_animal)\n",
    "prelate_animal_num = len(prelate_animal)\n",
    "preexpert_animal_num = len(preexpert_animal)\n",
    "postearly_animal_num = len(postearly_animal)\n",
    "postlate_animal_num = len(postlate_animal)\n",
    "postexpert_animal_num = len(postexpert_animal)"
   ]
  },
  {
   "cell_type": "code",
   "execution_count": 12,
   "metadata": {},
   "outputs": [
    {
     "data": {
      "text/plain": [
       "array(['TH_201', 'TH_203'], dtype='<U6')"
      ]
     },
     "execution_count": 12,
     "metadata": {},
     "output_type": "execute_result"
    }
   ],
   "source": [
    "preearly_animal"
   ]
  },
  {
   "cell_type": "code",
   "execution_count": 13,
   "metadata": {},
   "outputs": [
    {
     "data": {
      "text/plain": [
       "array(['TH_201', 'TH_203', 'TH_233', 'TH_234'], dtype='<U6')"
      ]
     },
     "execution_count": 13,
     "metadata": {},
     "output_type": "execute_result"
    }
   ],
   "source": [
    "prelate_animal"
   ]
  },
  {
   "cell_type": "code",
   "execution_count": 14,
   "metadata": {},
   "outputs": [
    {
     "data": {
      "text/plain": [
       "array(['TH_201', 'TH_203', 'TH_233', 'TH_234'], dtype='<U6')"
      ]
     },
     "execution_count": 14,
     "metadata": {},
     "output_type": "execute_result"
    }
   ],
   "source": [
    "preexpert_animal"
   ]
  },
  {
   "cell_type": "code",
   "execution_count": 15,
   "metadata": {},
   "outputs": [
    {
     "data": {
      "text/plain": [
       "array(['LA_204', 'LA_205'], dtype='<U6')"
      ]
     },
     "execution_count": 15,
     "metadata": {},
     "output_type": "execute_result"
    }
   ],
   "source": [
    "postearly_animal"
   ]
  },
  {
   "cell_type": "code",
   "execution_count": 16,
   "metadata": {},
   "outputs": [
    {
     "data": {
      "text/plain": [
       "array(['AE_229', 'LA_204', 'TH_200', 'TH_230'], dtype='<U6')"
      ]
     },
     "execution_count": 16,
     "metadata": {},
     "output_type": "execute_result"
    }
   ],
   "source": [
    "postlate_animal"
   ]
  },
  {
   "cell_type": "code",
   "execution_count": 17,
   "metadata": {},
   "outputs": [
    {
     "data": {
      "text/plain": [
       "array(['AE_229', 'TH_200', 'TH_230'], dtype='<U6')"
      ]
     },
     "execution_count": 17,
     "metadata": {},
     "output_type": "execute_result"
    }
   ],
   "source": [
    "postexpert_animal"
   ]
  },
  {
   "cell_type": "code",
   "execution_count": 18,
   "metadata": {},
   "outputs": [],
   "source": [
    "# preearly_animal: TH_201, TH_203\n",
    "# prelate_animal: TH_201, TH_203\n",
    "# preexpert_animal: TH_201, TH_203\n",
    "# postearly_animal: LA_204, LA_205\n",
    "# postlate_animal: AE_229, LA_204, TH_200, TH_230\n",
    "# postexpert_animal: AE_229, TH_200, TH_230"
   ]
  },
  {
   "cell_type": "code",
   "execution_count": 19,
   "metadata": {},
   "outputs": [],
   "source": [
    "FRmod_preearly = np.array(FRmod_preearly)\n",
    "FRmod_prelate = np.array(FRmod_prelate)\n",
    "FRmod_preexpert = np.array(FRmod_preexpert)\n",
    "FRmod_postearly = np.array(FRmod_postearly)\n",
    "FRmod_postlate = np.array(FRmod_postlate)\n",
    "FRmod_postexpert = np.array(FRmod_postexpert)"
   ]
  },
  {
   "cell_type": "code",
   "execution_count": 20,
   "metadata": {},
   "outputs": [
    {
     "name": "stdout",
     "output_type": "stream",
     "text": [
      "2.6315789473684212\n"
     ]
    }
   ],
   "source": [
    "FRmod_baseline_median = np.median(FRmod_preearly)\n",
    "print(FRmod_baseline_median)"
   ]
  },
  {
   "cell_type": "code",
   "execution_count": 230,
   "metadata": {},
   "outputs": [
    {
     "name": "stdout",
     "output_type": "stream",
     "text": [
      "(0.42097718360607495, 0.19810071782476768, 0.20786173092467894)\n",
      "(0.287481233672967, 0.24571078187198975, 0.2475401447245873)\n",
      "(0.29417824746592147, 0.2442955204196111, 0.24648016539974144)\n",
      "(0.2568044776498045, 0.2504380590044969, 0.25071688025903593)\n",
      "(0.25098039215686274, 0.25098039215686274, 0.25098039215686274)\n",
      "(0.25098039215686274, 0.25098039215686274, 0.25098039215686274)\n"
     ]
    },
    {
     "data": {
      "image/png": "[encoded data removed]",
      "text/plain": [
       "<Figure size 600x450 with 1 Axes>"
      ]
     },
     "metadata": {},
     "output_type": "display_data"
    },
    {
     "name": "stderr",
     "output_type": "stream",
     "text": [
      "meta NOT subset; don't know how to subset; dropped\n"
     ]
    }
   ],
   "source": [
    "#Firing rate modulation graphs\n",
    "\n",
    "size=5\n",
    "\n",
    "FRmod_baseline_median = np.median(FRmod_preearly)\n",
    "\n",
    "fig, ax = plt.subplots(figsize=(4,3))\n",
    "data = [FRmod_preearly,FRmod_prelate,FRmod_preexpert,FRmod_postearly,FRmod_postlate,FRmod_postexpert]\n",
    "num_animal = [preearly_animal_num,prelate_animal_num,preexpert_animal_num,postearly_animal_num,postlate_animal_num,postexpert_animal_num]\n",
    "labels = ['Early','Late','Expert','Early','Late','Expert']\n",
    "#labels = ['Early','Late\\n\\nPre-rev','Expert','Early','Late','Expert']\n",
    "numCon = len(data)\n",
    "X = [np.ones(len(l))*idx for idx,l in enumerate(data)]\n",
    "\n",
    "_,Y = ilep.violin(np.concatenate(X),np.concatenate(data),width=0.5)\n",
    "X,_ = ilep.violin(np.concatenate(X),np.log10(np.concatenate(data)),width=0.5)\n",
    "colors = NCR_CR_cmap((Y-1)/5)\n",
    "\n",
    "ax.scatter(X, Y, s=size, ec=colors, fc='white', lw=0.5,zorder=-10)\n",
    "ax.set_yscale('log',subs=[])\n",
    "\n",
    "#Plot summary\n",
    "for idx,column in enumerate(data):\n",
    "    percentCR = np.nanmean(np.greater(column,FRmod_baseline_median))*100\n",
    "    \n",
    "    eye_color=NCR_CR_cmap((percentCR-40)/20)\n",
    "    \n",
    "    r,g,b = mpl.colors.to_rgb(eye_color)\n",
    "    h,l,s = colorsys.rgb_to_hls(r,g,b)\n",
    "    border_color=colorsys.hls_to_rgb(h,l*0.5,s)\n",
    "    print(border_color)\n",
    "\n",
    "    summary_size=50\n",
    "    summary_width=1\n",
    "    \n",
    "    Q1, median, Q3 = (np.percentile(column, q) for q in [25, 50, 75])\n",
    "    \n",
    "    ax.scatter([idx], [median], ec=border_color,fc=eye_color, s=summary_size,lw=summary_width, zorder=10)\n",
    "    ax.plot([idx, idx], [Q1, Q3], c=border_color, lw=summary_width, zorder=9, solid_capstyle='round')\n",
    "\n",
    "ax.axhline(FRmod_baseline_median,color='k',linestyle='-',lw=0.5,zorder=-40)\n",
    "ax.axvline(2.5,color=SWITCH_COLOR,linestyle='--',zorder=10,lw=1)\n",
    "#\n",
    "ax.set_ylim([0.1,200])\n",
    "ax.set_yticks([0.1,1,10,100])\n",
    "ax.set_yticklabels(['0.1','1','10','100'])\n",
    "ax.set_ylabel('Firing rate modulation(spikes/s)')\n",
    "\n",
    "ax.set_xlim([-0.5,5.5])\n",
    "ax.set_xticks(range(numCon))\n",
    "ax.set_xticklabels(labels)\n",
    "pad=2.5 #in points\n",
    "ax.tick_params(axis='both', which='major')\n",
    "ax.set_xlim(ax.get_xlim())\n",
    "\n",
    "# #numbers\n",
    "#cells\n",
    "for idx,column in enumerate(data):\n",
    "    ax.text(idx-0.25,0.15,'n='+str(len(column)),fontsize=6)\n",
    "#animals\n",
    "# for idx,column in enumerate(num_animal):\n",
    "#     ax.text(idx,95,str(column))\n",
    "    \n",
    "ax.fill_between(ax.get_xlim(),[ax.get_ylim()[0]]*2,[ax.get_ylim()[1]]*2,color='white',alpha=0.5,zorder=-5)\n",
    "#ax.axhline(FRmod_baseline_median,color='k',linestyle='--',lw=1,zorder=-4)\n",
    "\n",
    "ax.annotate('', xy=(0.03, -0.115), xycoords='axes fraction', xytext=(0.49, -0.115),arrowprops=dict(arrowstyle='-', color='black'))\n",
    "ax.annotate('', xy=(0.53, -0.115), xycoords='axes fraction', xytext=(0.99, -0.115),arrowprops=dict(arrowstyle='-', color='black'))\n",
    "#ax.annotate('Pre-rev', xy=(0.15, -10), xycoords='axes points', xytext=(0.15, -10),color='black',fontsize=12)\n",
    "ax.annotate('Pre-rev', xy=(0.16, -0.2), xycoords='axes fraction', color='black',fontsize=12)\n",
    "ax.annotate('Post-rev', xy=(0.66, -0.2), xycoords='axes fraction', color='black',fontsize=12)\n",
    "\n",
    "ax.text(2.5,ax.get_ylim()[1],'Reversal',color=SWITCH_COLOR,horizontalalignment='center',verticalalignment='bottom')\n",
    "\n",
    "#statistics\n",
    "#ax.text(1,175,str('n.s.'),verticalalignment='top',horizontalalignment='center')\n",
    "#ax.text(2,175,str('n.s.'),verticalalignment='top',horizontalalignment='center')\n",
    "#ax.text(3,175,str('n.s.'),verticalalignment='top',horizontalalignment='center')\n",
    "#ax.text(4,175,str('n.s.'),verticalalignment='top',horizontalalignment='center')\n",
    "#ax.text(5,175,str('n.s.'),verticalalignment='top',horizontalalignment='center')\n",
    "plt.show()\n",
    "fig.tight_layout()\n",
    "fig.savefig(os.path.join('C:\\\\Users\\insan\\\\Desktop\\\\Figures','Passive no behavior Shift FRmod over exposure V2.pdf'),transparent=False,facecolor=\"white\")\n",
    "#fig.savefig(os.path.join('/Users/InsanallyLab/Desktop/Tiange Mac folder/Figures','Passive no behavior Shift FRmod over exposure.pdf'),transparent=False,facecolor=\"white\")\n",
    "#fig.savefig(os.path.join('D:\\\\\\\\Figures','Decoding Figures','FR modulations','Passive no behavior Shift FRmod over exposure V2.pdf'),transparent=False,facecolor=\"white\")"
   ]
  },
  {
   "cell_type": "code",
   "execution_count": null,
   "metadata": {},
   "outputs": [],
   "source": []
  },
  {
   "cell_type": "code",
   "execution_count": 255,
   "metadata": {},
   "outputs": [
    {
     "name": "stdout",
     "output_type": "stream",
     "text": [
      "(0.42097718360607495, 0.19810071782476768, 0.20786173092467894)\n",
      "(0.287481233672967, 0.24571078187198975, 0.2475401447245873)\n",
      "(0.29417824746592147, 0.2442955204196111, 0.24648016539974144)\n",
      "(0.2568044776498045, 0.2504380590044969, 0.25071688025903593)\n",
      "(0.25098039215686274, 0.25098039215686274, 0.25098039215686274)\n",
      "(0.25098039215686274, 0.25098039215686274, 0.25098039215686274)\n"
     ]
    },
    {
     "data": {
      "image/png": "[encoded data removed]",
      "text/plain": [
       "<Figure size 600x450 with 1 Axes>"
      ]
     },
     "metadata": {},
     "output_type": "display_data"
    },
    {
     "name": "stderr",
     "output_type": "stream",
     "text": [
      "meta NOT subset; don't know how to subset; dropped\n"
     ]
    }
   ],
   "source": [
    "#Firing rate modulation graphs\n",
    "\n",
    "size=5\n",
    "\n",
    "FRmod_baseline_median = np.median(FRmod_preearly)\n",
    "\n",
    "fig, ax = plt.subplots(figsize=(4,3))\n",
    "data = [FRmod_preearly,FRmod_prelate,FRmod_preexpert,FRmod_postearly,FRmod_postlate,FRmod_postexpert]\n",
    "num_animal = [preearly_animal_num,prelate_animal_num,preexpert_animal_num,postearly_animal_num,postlate_animal_num,postexpert_animal_num]\n",
    "labels = ['Early','Late','Expert','Early','Late','Expert']\n",
    "#labels = ['Early','Late\\n\\nPre-rev','Expert','Early','Late','Expert']\n",
    "numCon = len(data)\n",
    "X = [np.ones(len(l))*idx for idx,l in enumerate(data)]\n",
    "\n",
    "_,Y = ilep.violin(np.concatenate(X),np.concatenate(data),width=0.5)\n",
    "X,_ = ilep.violin(np.concatenate(X),np.log10(np.concatenate(data)),width=0.5)\n",
    "colors = NCR_CR_cmap((Y-1)/5)\n",
    "\n",
    "ax.scatter(X, Y, s=size, ec=colors, fc='white', lw=0.5,zorder=-10)\n",
    "ax.set_yscale('log',subs=[])\n",
    "\n",
    "#Plot summary\n",
    "for idx,column in enumerate(data):\n",
    "    percentCR = np.nanmean(np.greater(column,FRmod_baseline_median))*100\n",
    "    \n",
    "    eye_color=NCR_CR_cmap((percentCR-40)/20)\n",
    "    \n",
    "    r,g,b = mpl.colors.to_rgb(eye_color)\n",
    "    h,l,s = colorsys.rgb_to_hls(r,g,b)\n",
    "    border_color=colorsys.hls_to_rgb(h,l*0.5,s)\n",
    "    print(border_color)\n",
    "\n",
    "    summary_size=50\n",
    "    summary_width=1\n",
    "    \n",
    "    Q1, median, Q3 = (np.percentile(column, q) for q in [25, 50, 75])\n",
    "    \n",
    "    ax.scatter([idx], [median], ec=border_color,fc=eye_color, s=summary_size,lw=summary_width, zorder=10)\n",
    "    ax.plot([idx, idx], [Q1, Q3], c=border_color, lw=summary_width, zorder=9, solid_capstyle='round')\n",
    "\n",
    "ax.axhline(FRmod_baseline_median,color='k',linestyle='-',lw=0.5,zorder=-40)\n",
    "ax.axvline(2.5,color=SWITCH_COLOR,linestyle='--',zorder=10,lw=1)\n",
    "#\n",
    "ax.set_ylim([0.1,200])\n",
    "ax.set_yticks([0.1,1,10,100])\n",
    "ax.set_yticklabels(['0.1','1','10','100'])\n",
    "ax.set_ylabel('Firing rate modulation(spikes/s)')\n",
    "\n",
    "ax.set_xlim([-0.5,5.5])\n",
    "ax.set_xticks(range(numCon))\n",
    "ax.set_xticklabels(labels)\n",
    "pad=2.5 #in points\n",
    "ax.tick_params(axis='both', which='major')\n",
    "ax.set_xlim(ax.get_xlim())\n",
    "\n",
    "# #numbers\n",
    "#cells\n",
    "for idx,column in enumerate(data):\n",
    "    ax.text(idx-0.25,0.15,'n='+str(len(column)),fontsize=6)\n",
    "#animals\n",
    "# for idx,column in enumerate(num_animal):\n",
    "#     ax.text(idx,95,str(column))\n",
    "    \n",
    "ax.fill_between(ax.get_xlim(),[ax.get_ylim()[0]]*2,[ax.get_ylim()[1]]*2,color='white',alpha=0.5,zorder=-5)\n",
    "#ax.axhline(FRmod_baseline_median,color='k',linestyle='--',lw=1,zorder=-4)\n",
    "\n",
    "ax.annotate('', xy=(0.03, -0.11), xycoords='axes fraction', xytext=(0.49, -0.11),arrowprops=dict(arrowstyle='-', color='black'))\n",
    "ax.annotate('', xy=(0.53, -0.11), xycoords='axes fraction', xytext=(0.99, -0.11),arrowprops=dict(arrowstyle='-', color='black'))\n",
    "#ax.annotate('Pre-rev', xy=(0.15, -10), xycoords='axes points', xytext=(0.15, -10),color='black',fontsize=12)\n",
    "# ax.annotate('Pre-rev', xy=(0.16, -0.2), xycoords='axes fraction', color='black',fontsize=12)\n",
    "# ax.annotate('Post-rev', xy=(0.66, -0.2), xycoords='axes fraction', color='black',fontsize=12)\n",
    "\n",
    "ax.text(2.5,ax.get_ylim()[1],'Reversal',color=SWITCH_COLOR,horizontalalignment='center',verticalalignment='bottom')\n",
    "\n",
    "# get the x-position of the second tick label\n",
    "xtick_pos_pre = ax.get_xticks()[1]\n",
    "xtick_pos_post = ax.get_xticks()[4]\n",
    "# add the text under the second label\n",
    "ax.text(xtick_pos_pre,ax.get_ylim()[0]-0.08, 'Pre-rev', ha='center', va='bottom', fontsize=12)\n",
    "ax.text(xtick_pos_post,ax.get_ylim()[0]-0.08, 'Post-rev', ha='center', va='bottom', fontsize=12)\n",
    "\n",
    "#statistics\n",
    "#ax.text(1,175,str('n.s.'),verticalalignment='top',horizontalalignment='center')\n",
    "#ax.text(2,175,str('n.s.'),verticalalignment='top',horizontalalignment='center')\n",
    "#ax.text(3,175,str('n.s.'),verticalalignment='top',horizontalalignment='center')\n",
    "#ax.text(4,175,str('n.s.'),verticalalignment='top',horizontalalignment='center')\n",
    "#ax.text(5,175,str('n.s.'),verticalalignment='top',horizontalalignment='center')\n",
    "plt.show()\n",
    "fig.tight_layout()\n",
    "fig.savefig(os.path.join('C:\\\\Users\\insan\\\\Desktop\\\\Figures','Passive no behavior Shift FRmod over exposure V2.pdf'),transparent=False,facecolor=\"white\")"
   ]
  },
  {
   "cell_type": "code",
   "execution_count": null,
   "metadata": {},
   "outputs": [],
   "source": []
  },
  {
   "cell_type": "code",
   "execution_count": null,
   "metadata": {},
   "outputs": [],
   "source": []
  },
  {
   "cell_type": "code",
   "execution_count": null,
   "metadata": {},
   "outputs": [],
   "source": []
  },
  {
   "cell_type": "code",
   "execution_count": null,
   "metadata": {},
   "outputs": [],
   "source": []
  },
  {
   "cell_type": "code",
   "execution_count": null,
   "metadata": {},
   "outputs": [],
   "source": []
  },
  {
   "cell_type": "code",
   "execution_count": null,
   "metadata": {},
   "outputs": [],
   "source": []
  },
  {
   "cell_type": "code",
   "execution_count": null,
   "metadata": {},
   "outputs": [],
   "source": []
  },
  {
   "cell_type": "code",
   "execution_count": null,
   "metadata": {},
   "outputs": [],
   "source": []
  },
  {
   "cell_type": "code",
   "execution_count": null,
   "metadata": {},
   "outputs": [],
   "source": []
  },
  {
   "cell_type": "code",
   "execution_count": null,
   "metadata": {},
   "outputs": [],
   "source": []
  },
  {
   "cell_type": "code",
   "execution_count": null,
   "metadata": {},
   "outputs": [],
   "source": []
  },
  {
   "cell_type": "code",
   "execution_count": null,
   "metadata": {},
   "outputs": [],
   "source": []
  },
  {
   "cell_type": "code",
   "execution_count": null,
   "metadata": {},
   "outputs": [],
   "source": []
  },
  {
   "cell_type": "code",
   "execution_count": null,
   "metadata": {},
   "outputs": [],
   "source": []
  },
  {
   "cell_type": "code",
   "execution_count": null,
   "metadata": {},
   "outputs": [],
   "source": []
  },
  {
   "cell_type": "code",
   "execution_count": null,
   "metadata": {},
   "outputs": [],
   "source": []
  },
  {
   "cell_type": "code",
   "execution_count": null,
   "metadata": {},
   "outputs": [],
   "source": []
  },
  {
   "cell_type": "code",
   "execution_count": null,
   "metadata": {},
   "outputs": [],
   "source": []
  },
  {
   "cell_type": "code",
   "execution_count": null,
   "metadata": {},
   "outputs": [],
   "source": []
  },
  {
   "cell_type": "code",
   "execution_count": null,
   "metadata": {},
   "outputs": [],
   "source": []
  },
  {
   "cell_type": "code",
   "execution_count": null,
   "metadata": {},
   "outputs": [],
   "source": []
  },
  {
   "cell_type": "code",
   "execution_count": null,
   "metadata": {},
   "outputs": [],
   "source": []
  },
  {
   "cell_type": "code",
   "execution_count": null,
   "metadata": {},
   "outputs": [],
   "source": []
  },
  {
   "cell_type": "code",
   "execution_count": null,
   "metadata": {},
   "outputs": [],
   "source": []
  },
  {
   "cell_type": "code",
   "execution_count": null,
   "metadata": {},
   "outputs": [],
   "source": []
  },
  {
   "cell_type": "code",
   "execution_count": null,
   "metadata": {},
   "outputs": [],
   "source": []
  },
  {
   "cell_type": "code",
   "execution_count": null,
   "metadata": {},
   "outputs": [],
   "source": []
  },
  {
   "cell_type": "code",
   "execution_count": null,
   "metadata": {},
   "outputs": [],
   "source": []
  },
  {
   "cell_type": "code",
   "execution_count": null,
   "metadata": {},
   "outputs": [],
   "source": []
  },
  {
   "cell_type": "code",
   "execution_count": null,
   "metadata": {},
   "outputs": [],
   "source": []
  },
  {
   "cell_type": "code",
   "execution_count": null,
   "metadata": {},
   "outputs": [],
   "source": []
  },
  {
   "cell_type": "code",
   "execution_count": null,
   "metadata": {},
   "outputs": [],
   "source": []
  },
  {
   "cell_type": "code",
   "execution_count": null,
   "metadata": {},
   "outputs": [],
   "source": []
  },
  {
   "cell_type": "code",
   "execution_count": null,
   "metadata": {},
   "outputs": [],
   "source": []
  },
  {
   "cell_type": "code",
   "execution_count": null,
   "metadata": {},
   "outputs": [],
   "source": []
  },
  {
   "cell_type": "code",
   "execution_count": null,
   "metadata": {},
   "outputs": [],
   "source": []
  },
  {
   "cell_type": "code",
   "execution_count": null,
   "metadata": {},
   "outputs": [],
   "source": []
  },
  {
   "cell_type": "code",
   "execution_count": null,
   "metadata": {},
   "outputs": [],
   "source": []
  },
  {
   "cell_type": "code",
   "execution_count": null,
   "metadata": {},
   "outputs": [],
   "source": []
  },
  {
   "cell_type": "code",
   "execution_count": null,
   "metadata": {},
   "outputs": [],
   "source": []
  },
  {
   "cell_type": "code",
   "execution_count": null,
   "metadata": {},
   "outputs": [],
   "source": []
  },
  {
   "cell_type": "code",
   "execution_count": null,
   "metadata": {},
   "outputs": [],
   "source": []
  },
  {
   "cell_type": "code",
   "execution_count": null,
   "metadata": {},
   "outputs": [],
   "source": []
  },
  {
   "cell_type": "code",
   "execution_count": null,
   "metadata": {},
   "outputs": [],
   "source": []
  },
  {
   "cell_type": "code",
   "execution_count": null,
   "metadata": {},
   "outputs": [],
   "source": []
  },
  {
   "cell_type": "code",
   "execution_count": null,
   "metadata": {},
   "outputs": [],
   "source": []
  },
  {
   "cell_type": "code",
   "execution_count": null,
   "metadata": {},
   "outputs": [],
   "source": []
  },
  {
   "cell_type": "code",
   "execution_count": null,
   "metadata": {},
   "outputs": [],
   "source": []
  },
  {
   "cell_type": "code",
   "execution_count": null,
   "metadata": {},
   "outputs": [],
   "source": []
  },
  {
   "cell_type": "code",
   "execution_count": null,
   "metadata": {},
   "outputs": [],
   "source": []
  },
  {
   "cell_type": "code",
   "execution_count": null,
   "metadata": {},
   "outputs": [],
   "source": []
  },
  {
   "cell_type": "code",
   "execution_count": null,
   "metadata": {},
   "outputs": [],
   "source": []
  },
  {
   "cell_type": "code",
   "execution_count": null,
   "metadata": {},
   "outputs": [],
   "source": []
  },
  {
   "cell_type": "code",
   "execution_count": null,
   "metadata": {},
   "outputs": [],
   "source": []
  },
  {
   "cell_type": "code",
   "execution_count": null,
   "metadata": {},
   "outputs": [],
   "source": []
  },
  {
   "cell_type": "code",
   "execution_count": null,
   "metadata": {},
   "outputs": [],
   "source": []
  },
  {
   "cell_type": "code",
   "execution_count": null,
   "metadata": {},
   "outputs": [],
   "source": []
  },
  {
   "cell_type": "code",
   "execution_count": null,
   "metadata": {},
   "outputs": [],
   "source": []
  },
  {
   "cell_type": "code",
   "execution_count": null,
   "metadata": {},
   "outputs": [],
   "source": []
  },
  {
   "cell_type": "code",
   "execution_count": null,
   "metadata": {},
   "outputs": [],
   "source": []
  },
  {
   "cell_type": "code",
   "execution_count": null,
   "metadata": {},
   "outputs": [],
   "source": []
  },
  {
   "cell_type": "code",
   "execution_count": null,
   "metadata": {},
   "outputs": [],
   "source": []
  },
  {
   "cell_type": "code",
   "execution_count": 256,
   "metadata": {},
   "outputs": [
    {
     "name": "stderr",
     "output_type": "stream",
     "text": [
      "meta NOT subset; don't know how to subset; dropped\n"
     ]
    },
    {
     "data": {
      "image/png": "[encoded data removed]",
      "text/plain": [
       "<Figure size 600x450 with 1 Axes>"
      ]
     },
     "metadata": {},
     "output_type": "display_data"
    }
   ],
   "source": [
    "fig, ax = plt.subplots(figsize=(4,3))\n",
    "#fig, ax = plt.subplots(figsize=(5,3))\n",
    "percentCR = np.array([FRmod_preearly_pc,FRmod_prelate_pc,FRmod_preexpert_pc,FRmod_postearly_pc,FRmod_postlate_pc,FRmod_postexpert_pc])*100\n",
    "labels = ['Early','Late','Expert','Early','Late','Expert']\n",
    "#percentCR = np.array([FRmod_prelate_pc,FRmod_postearly_pc,FRmod_postint_pc,FRmod_postlate_pc])*100\n",
    "#labels = ['Pre Late','Early','Intermediate\\npost-reversal','Late']\n",
    "numCon = len(labels)\n",
    "ax.plot([0,1,2,3,4,5],(percentCR-50),color='k',linestyle=':',lw=1,alpha=1)\n",
    "#ax.plot([3,4,5],(percentCR[3:6]-50),color='grey',lw=1,alpha=0.5)\n",
    "\n",
    "color=NCR_CR_cmap((percentCR-40)/20)\n",
    "ax.scatter(range(numCon),(percentCR-50),c=PHASE_COLORS,s=100,zorder=10)\n",
    "\n",
    "xlims = [-0.5,numCon-0.5]\n",
    "ax.set_xlim(xlims)\n",
    "ax.set_xticks(range(numCon))\n",
    "ax.set_xticklabels(labels)\n",
    "\n",
    "xlims = [-0.5,numCon-0.5]\n",
    "ax.set_xlim(xlims)\n",
    "ax.set_xticks(range(numCon))\n",
    "ax.set_xticklabels(labels)\n",
    "\n",
    "#All cells with All Cells baseline\n",
    "ax.set_ylabel('Shift in responsiveness (%)')\n",
    "ax.set_ylim([-15,30])\n",
    "ax.set_yticks([-15,-15,0,15,30])\n",
    "\n",
    "ax.text(-0.4,25,'CR',color=CR_COLOR)\n",
    "ax.text(-0.4,-10,'NCR',color=NCR_COLOR)\n",
    "\n",
    "#ax.plot([2.5,2.5],ax.get_ylim(),color='blue',lw=1,zorder=-15)\n",
    "\n",
    "ax.axvline(2.5,color=SWITCH_COLOR,linestyle='--',zorder=10,lw=1)\n",
    "ax.axhline(0,c='k',linestyle='-',lw=0.5,zorder=-10)\n",
    "\n",
    "#Add line\n",
    "ax.annotate('', xy=(0.03, -0.115), xycoords='axes fraction', xytext=(0.49, -0.115),arrowprops=dict(arrowstyle='-', color='black'))\n",
    "ax.annotate('', xy=(0.53, -0.115), xycoords='axes fraction', xytext=(0.99, -0.115),arrowprops=dict(arrowstyle='-', color='black'))\n",
    "# get the x-position of the second tick label\n",
    "xtick_pos_pre = ax.get_xticks()[1]\n",
    "xtick_pos_post = ax.get_xticks()[4]\n",
    "# add the text under the second label\n",
    "ax.text(xtick_pos_pre, -22, 'Pre-rev', ha='center', va='top', fontsize=12)\n",
    "ax.text(xtick_pos_post, -22, 'Post-rev', ha='center', va='top',  fontsize=12)\n",
    "\n",
    "#ax.annotate('', xy=(0.04, -0.08), xycoords='axes fraction', xytext=(0.47, -0.08),arrowprops=dict(arrowstyle='-', color='black'))\n",
    "# ax.annotate('', xy=(0.54, -0.08), xycoords='axes fraction', xytext=(0.97, -0.08),arrowprops=dict(arrowstyle='-', color='black'))\n",
    "\n",
    "ax.text(2.5,ax.get_ylim()[1],'Reversal',color=SWITCH_COLOR,horizontalalignment='center',verticalalignment='bottom')\n",
    "\n",
    "plt.tight_layout()\n",
    "#fig.savefig(os.path.join('D:\\\\\\\\Figures','Tuning Figures','Passive no behavior Shift in responsiveness V2.pdf'),transparent=False,facecolor=\"white\")\n",
    "fig.savefig(os.path.join('C:\\\\Users\\insan\\\\Desktop\\\\Figures','Passive no behavior Shift in responsiveness V2.pdf'),transparent=False,facecolor=\"white\")"
   ]
  },
  {
   "cell_type": "code",
   "execution_count": null,
   "metadata": {},
   "outputs": [],
   "source": []
  },
  {
   "cell_type": "code",
   "execution_count": null,
   "metadata": {},
   "outputs": [],
   "source": []
  },
  {
   "cell_type": "code",
   "execution_count": null,
   "metadata": {},
   "outputs": [],
   "source": []
  },
  {
   "cell_type": "code",
   "execution_count": null,
   "metadata": {},
   "outputs": [],
   "source": []
  },
  {
   "cell_type": "code",
   "execution_count": null,
   "metadata": {},
   "outputs": [],
   "source": []
  },
  {
   "cell_type": "code",
   "execution_count": null,
   "metadata": {},
   "outputs": [],
   "source": []
  },
  {
   "cell_type": "code",
   "execution_count": null,
   "metadata": {},
   "outputs": [],
   "source": []
  },
  {
   "cell_type": "code",
   "execution_count": null,
   "metadata": {},
   "outputs": [],
   "source": []
  },
  {
   "cell_type": "code",
   "execution_count": null,
   "metadata": {},
   "outputs": [],
   "source": []
  },
  {
   "cell_type": "code",
   "execution_count": null,
   "metadata": {},
   "outputs": [],
   "source": []
  },
  {
   "cell_type": "code",
   "execution_count": null,
   "metadata": {},
   "outputs": [],
   "source": []
  },
  {
   "cell_type": "code",
   "execution_count": null,
   "metadata": {},
   "outputs": [],
   "source": []
  },
  {
   "cell_type": "code",
   "execution_count": null,
   "metadata": {},
   "outputs": [],
   "source": []
  },
  {
   "cell_type": "code",
   "execution_count": null,
   "metadata": {},
   "outputs": [],
   "source": []
  },
  {
   "cell_type": "code",
   "execution_count": null,
   "metadata": {},
   "outputs": [],
   "source": []
  },
  {
   "cell_type": "code",
   "execution_count": null,
   "metadata": {},
   "outputs": [],
   "source": []
  },
  {
   "cell_type": "code",
   "execution_count": null,
   "metadata": {},
   "outputs": [],
   "source": []
  },
  {
   "cell_type": "code",
   "execution_count": null,
   "metadata": {},
   "outputs": [],
   "source": []
  },
  {
   "cell_type": "code",
   "execution_count": null,
   "metadata": {},
   "outputs": [],
   "source": []
  },
  {
   "cell_type": "code",
   "execution_count": null,
   "metadata": {},
   "outputs": [],
   "source": []
  },
  {
   "cell_type": "code",
   "execution_count": null,
   "metadata": {},
   "outputs": [],
   "source": []
  },
  {
   "cell_type": "code",
   "execution_count": null,
   "metadata": {},
   "outputs": [],
   "source": []
  },
  {
   "cell_type": "code",
   "execution_count": null,
   "metadata": {},
   "outputs": [],
   "source": []
  },
  {
   "cell_type": "code",
   "execution_count": null,
   "metadata": {},
   "outputs": [],
   "source": []
  },
  {
   "cell_type": "code",
   "execution_count": null,
   "metadata": {},
   "outputs": [],
   "source": []
  },
  {
   "cell_type": "code",
   "execution_count": null,
   "metadata": {},
   "outputs": [],
   "source": []
  },
  {
   "cell_type": "code",
   "execution_count": null,
   "metadata": {},
   "outputs": [],
   "source": []
  },
  {
   "cell_type": "code",
   "execution_count": null,
   "metadata": {},
   "outputs": [],
   "source": []
  },
  {
   "cell_type": "code",
   "execution_count": null,
   "metadata": {},
   "outputs": [],
   "source": []
  },
  {
   "cell_type": "code",
   "execution_count": null,
   "metadata": {},
   "outputs": [],
   "source": []
  },
  {
   "cell_type": "code",
   "execution_count": null,
   "metadata": {},
   "outputs": [],
   "source": []
  },
  {
   "cell_type": "code",
   "execution_count": null,
   "metadata": {},
   "outputs": [],
   "source": []
  },
  {
   "cell_type": "code",
   "execution_count": null,
   "metadata": {},
   "outputs": [],
   "source": []
  },
  {
   "cell_type": "code",
   "execution_count": null,
   "metadata": {},
   "outputs": [],
   "source": []
  },
  {
   "cell_type": "code",
   "execution_count": null,
   "metadata": {},
   "outputs": [],
   "source": []
  },
  {
   "cell_type": "code",
   "execution_count": null,
   "metadata": {},
   "outputs": [],
   "source": []
  },
  {
   "cell_type": "code",
   "execution_count": null,
   "metadata": {},
   "outputs": [],
   "source": []
  },
  {
   "cell_type": "code",
   "execution_count": null,
   "metadata": {},
   "outputs": [],
   "source": []
  },
  {
   "cell_type": "code",
   "execution_count": null,
   "metadata": {},
   "outputs": [],
   "source": []
  },
  {
   "cell_type": "code",
   "execution_count": null,
   "metadata": {},
   "outputs": [],
   "source": []
  },
  {
   "cell_type": "code",
   "execution_count": null,
   "metadata": {},
   "outputs": [],
   "source": []
  },
  {
   "cell_type": "code",
   "execution_count": null,
   "metadata": {},
   "outputs": [],
   "source": []
  },
  {
   "cell_type": "code",
   "execution_count": null,
   "metadata": {},
   "outputs": [],
   "source": []
  },
  {
   "cell_type": "code",
   "execution_count": null,
   "metadata": {},
   "outputs": [],
   "source": []
  },
  {
   "cell_type": "code",
   "execution_count": null,
   "metadata": {},
   "outputs": [],
   "source": []
  },
  {
   "cell_type": "code",
   "execution_count": null,
   "metadata": {},
   "outputs": [],
   "source": []
  },
  {
   "cell_type": "code",
   "execution_count": null,
   "metadata": {},
   "outputs": [],
   "source": []
  },
  {
   "cell_type": "code",
   "execution_count": null,
   "metadata": {},
   "outputs": [],
   "source": []
  },
  {
   "cell_type": "code",
   "execution_count": null,
   "metadata": {},
   "outputs": [],
   "source": []
  },
  {
   "cell_type": "code",
   "execution_count": null,
   "metadata": {},
   "outputs": [],
   "source": []
  },
  {
   "cell_type": "code",
   "execution_count": null,
   "metadata": {},
   "outputs": [],
   "source": []
  },
  {
   "cell_type": "code",
   "execution_count": null,
   "metadata": {},
   "outputs": [],
   "source": []
  },
  {
   "cell_type": "code",
   "execution_count": null,
   "metadata": {},
   "outputs": [],
   "source": []
  },
  {
   "cell_type": "code",
   "execution_count": null,
   "metadata": {},
   "outputs": [],
   "source": []
  },
  {
   "cell_type": "code",
   "execution_count": null,
   "metadata": {},
   "outputs": [],
   "source": []
  },
  {
   "cell_type": "code",
   "execution_count": null,
   "metadata": {},
   "outputs": [],
   "source": []
  },
  {
   "cell_type": "code",
   "execution_count": null,
   "metadata": {},
   "outputs": [],
   "source": []
  },
  {
   "cell_type": "code",
   "execution_count": null,
   "metadata": {},
   "outputs": [],
   "source": []
  },
  {
   "cell_type": "code",
   "execution_count": null,
   "metadata": {},
   "outputs": [],
   "source": []
  },
  {
   "cell_type": "code",
   "execution_count": 22,
   "metadata": {},
   "outputs": [
    {
     "name": "stdout",
     "output_type": "stream",
     "text": [
      "(0.42097718360607495, 0.19810071782476768, 0.20786173092467894)\n",
      "(0.287481233672967, 0.24571078187198975, 0.2475401447245873)\n",
      "(0.29417824746592147, 0.2442955204196111, 0.24648016539974144)\n",
      "(0.2568044776498045, 0.2504380590044969, 0.25071688025903593)\n",
      "(0.25098039215686274, 0.25098039215686274, 0.25098039215686274)\n",
      "(0.25098039215686274, 0.25098039215686274, 0.25098039215686274)\n"
     ]
    },
    {
     "data": {
      "image/png": "[encoded data removed]",
      "text/plain": [
       "<Figure size 600x675 with 1 Axes>"
      ]
     },
     "metadata": {},
     "output_type": "display_data"
    },
    {
     "name": "stderr",
     "output_type": "stream",
     "text": [
      "meta NOT subset; don't know how to subset; dropped\n"
     ]
    }
   ],
   "source": [
    "#Firing rate modulation graphs\n",
    "\n",
    "size=5\n",
    "\n",
    "FRmod_baseline_median = np.median(FRmod_preearly)\n",
    "\n",
    "fig, ax = plt.subplots(figsize=(4,4.5))\n",
    "data = [FRmod_preearly,FRmod_prelate,FRmod_preexpert,FRmod_postearly,FRmod_postlate,FRmod_postexpert]\n",
    "num_animal = [preearly_animal_num,prelate_animal_num,preexpert_animal_num,postearly_animal_num,postlate_animal_num,postexpert_animal_num]\n",
    "labels = ['Early','Late\\n\\nPre-reversal','Expert','Early','Late\\n\\nPost-reversal','Expert']\n",
    "numCon = len(data)\n",
    "X = [np.ones(len(l))*idx for idx,l in enumerate(data)]\n",
    "\n",
    "_,Y = ilep.violin(np.concatenate(X),np.concatenate(data),width=0.25)\n",
    "X,_ = ilep.violin(np.concatenate(X),np.log10(np.concatenate(data)),width=0.25)\n",
    "colors = NCR_CR_cmap((Y-1)/5)\n",
    "\n",
    "ax.scatter(X, Y, s=size, ec=colors, fc='white', lw=0.5,zorder=-10)\n",
    "ax.set_yscale('log',subs=[])\n",
    "\n",
    "#Plot summary\n",
    "for idx,column in enumerate(data):\n",
    "    percentCR = np.nanmean(np.greater(column,FRmod_baseline_median))*100\n",
    "    \n",
    "    eye_color=NCR_CR_cmap((percentCR-40)/20)\n",
    "    \n",
    "    r,g,b = mpl.colors.to_rgb(eye_color)\n",
    "    h,l,s = colorsys.rgb_to_hls(r,g,b)\n",
    "    border_color=colorsys.hls_to_rgb(h,l*0.5,s)\n",
    "    print(border_color)\n",
    "\n",
    "    summary_size=50\n",
    "    summary_width=1\n",
    "    \n",
    "    Q1, median, Q3 = (np.percentile(column, q) for q in [25, 50, 75])\n",
    "    \n",
    "    ax.scatter([idx], [median], ec=border_color,fc=eye_color, s=summary_size,lw=summary_width, zorder=10)\n",
    "    ax.plot([idx, idx], [Q1, Q3], c=border_color, lw=summary_width, zorder=9, solid_capstyle='round')\n",
    "    \n",
    "    median = np.mean(column)\n",
    "    Q1 = median - sem(column)\n",
    "    Q3 = median + sem(column)\n",
    "    ax.scatter([idx-0.125], [median], ec='k',fc='white', s=summary_size,lw=summary_width, zorder=100)\n",
    "    ax.plot([idx-0.125, idx-0.125], [Q1, Q3], c='k', lw=summary_width, zorder=900, solid_capstyle='round')\n",
    "\n",
    "ax.axvline(2.5,color=SWITCH_COLOR,linestyle='--',zorder=10,lw=1)\n",
    "#\n",
    "ax.set_ylim([0.1,100])\n",
    "ax.set_yticks([0.1,1,10,100])\n",
    "ax.set_yticklabels(['0.1','1','10','100'])\n",
    "ax.set_ylabel('Firing rate modulation(spikes/s)')\n",
    "\n",
    "ax.set_xlim([-0.5,5.5])\n",
    "ax.set_xticks(range(numCon))\n",
    "ax.set_xticklabels(labels)\n",
    "ax.set_xlim(ax.get_xlim())\n",
    "\n",
    "# #numbers\n",
    "#cells\n",
    "# for idx,column in enumerate(data):\n",
    "#     ax.text(idx,120,str(len(column)))\n",
    "# #animals\n",
    "# for idx,column in enumerate(num_animal):\n",
    "#     ax.text(idx,95,str(column))\n",
    "    \n",
    "ax.fill_between(ax.get_xlim(),[ax.get_ylim()[0]]*2,[ax.get_ylim()[1]]*2,color='white',alpha=0.5,zorder=-5)\n",
    "#ax.axhline(FRmod_baseline_median,color='k',linestyle='--',lw=1,zorder=-4)\n",
    "ax.annotate('', xy=(0.07, -0.07), xycoords='axes fraction', xytext=(0.47, -0.07),arrowprops=dict(arrowstyle='-', color='black'))\n",
    "ax.annotate('', xy=(0.57, -0.07), xycoords='axes fraction', xytext=(0.97, -0.07),arrowprops=dict(arrowstyle='-', color='black'))\n",
    "ax.text(2.5,ax.get_ylim()[1],'Reversal',color=SWITCH_COLOR,horizontalalignment='center',verticalalignment='bottom')\n",
    "#statistics\n",
    "ax.text(1,175,str('n.s.'),verticalalignment='top',horizontalalignment='center')\n",
    "ax.text(2,175,str('n.s.'),verticalalignment='top',horizontalalignment='center')\n",
    "ax.text(3,175,str('n.s.'),verticalalignment='top',horizontalalignment='center')\n",
    "ax.text(4,175,str('n.s.'),verticalalignment='top',horizontalalignment='center')\n",
    "ax.text(5,175,str('n.s.'),verticalalignment='top',horizontalalignment='center')\n",
    "plt.show()\n",
    "\n",
    "fig.savefig(os.path.join('C:\\\\Users\\insan\\\\Desktop\\\\Figures','Passive no behavior Shift FRmod over exposure.pdf'),transparent=False,facecolor=\"white\")\n",
    "#fig.savefig(os.path.join('/Users/InsanallyLab/Desktop/Tiange Mac folder/Figures','Passive no behavior Shift FRmod over exposure.pdf'),transparent=False,facecolor=\"white\")\n",
    "#fig.savefig(os.path.join('D:\\\\\\\\Figures','Decoding Figures','FR modulations','Passive no behavior Shift FRmod over exposure.pdf'),transparent=False,facecolor=\"white\")"
   ]
  },
  {
   "cell_type": "code",
   "execution_count": null,
   "metadata": {},
   "outputs": [],
   "source": []
  },
  {
   "cell_type": "code",
   "execution_count": null,
   "metadata": {},
   "outputs": [],
   "source": []
  },
  {
   "cell_type": "code",
   "execution_count": null,
   "metadata": {},
   "outputs": [],
   "source": []
  },
  {
   "cell_type": "code",
   "execution_count": null,
   "metadata": {},
   "outputs": [],
   "source": []
  },
  {
   "cell_type": "code",
   "execution_count": null,
   "metadata": {},
   "outputs": [],
   "source": []
  },
  {
   "cell_type": "code",
   "execution_count": null,
   "metadata": {},
   "outputs": [],
   "source": []
  },
  {
   "cell_type": "code",
   "execution_count": null,
   "metadata": {},
   "outputs": [],
   "source": []
  },
  {
   "cell_type": "code",
   "execution_count": null,
   "metadata": {},
   "outputs": [],
   "source": []
  },
  {
   "cell_type": "code",
   "execution_count": null,
   "metadata": {},
   "outputs": [],
   "source": []
  },
  {
   "cell_type": "code",
   "execution_count": null,
   "metadata": {},
   "outputs": [],
   "source": []
  },
  {
   "cell_type": "code",
   "execution_count": null,
   "metadata": {},
   "outputs": [],
   "source": []
  },
  {
   "cell_type": "code",
   "execution_count": null,
   "metadata": {},
   "outputs": [],
   "source": []
  },
  {
   "cell_type": "code",
   "execution_count": null,
   "metadata": {},
   "outputs": [],
   "source": []
  },
  {
   "cell_type": "code",
   "execution_count": null,
   "metadata": {},
   "outputs": [],
   "source": []
  },
  {
   "cell_type": "code",
   "execution_count": null,
   "metadata": {},
   "outputs": [],
   "source": []
  },
  {
   "cell_type": "code",
   "execution_count": null,
   "metadata": {},
   "outputs": [],
   "source": []
  },
  {
   "cell_type": "code",
   "execution_count": null,
   "metadata": {},
   "outputs": [],
   "source": []
  },
  {
   "cell_type": "code",
   "execution_count": null,
   "metadata": {},
   "outputs": [],
   "source": []
  },
  {
   "cell_type": "code",
   "execution_count": null,
   "metadata": {},
   "outputs": [],
   "source": []
  },
  {
   "cell_type": "code",
   "execution_count": null,
   "metadata": {},
   "outputs": [],
   "source": []
  },
  {
   "cell_type": "code",
   "execution_count": 23,
   "metadata": {},
   "outputs": [],
   "source": [
    "#pre_early = first 3 days\n",
    "#pre_late = next 3 days\n",
    "#pre_expert = next 2\n",
    "#post_early = next 3 days\n",
    "#post_late = next 3 days\n",
    "#post_expert = next 2 days"
   ]
  },
  {
   "cell_type": "code",
   "execution_count": null,
   "metadata": {},
   "outputs": [],
   "source": []
  },
  {
   "cell_type": "code",
   "execution_count": null,
   "metadata": {},
   "outputs": [],
   "source": []
  },
  {
   "cell_type": "code",
   "execution_count": null,
   "metadata": {},
   "outputs": [],
   "source": []
  },
  {
   "cell_type": "code",
   "execution_count": null,
   "metadata": {},
   "outputs": [],
   "source": []
  },
  {
   "cell_type": "code",
   "execution_count": null,
   "metadata": {},
   "outputs": [],
   "source": []
  },
  {
   "cell_type": "code",
   "execution_count": 24,
   "metadata": {
    "scrolled": true
   },
   "outputs": [],
   "source": [
    "#preexpert_session_num"
   ]
  },
  {
   "cell_type": "code",
   "execution_count": 25,
   "metadata": {},
   "outputs": [],
   "source": [
    "#len(preexpert_session_num)"
   ]
  },
  {
   "cell_type": "code",
   "execution_count": 26,
   "metadata": {},
   "outputs": [],
   "source": [
    "#postexpert_session_num"
   ]
  },
  {
   "cell_type": "code",
   "execution_count": 27,
   "metadata": {},
   "outputs": [],
   "source": [
    "#len(postexpert_session_num)"
   ]
  },
  {
   "cell_type": "code",
   "execution_count": 28,
   "metadata": {},
   "outputs": [],
   "source": [
    "#postlate_session_num"
   ]
  },
  {
   "cell_type": "code",
   "execution_count": null,
   "metadata": {},
   "outputs": [],
   "source": []
  },
  {
   "cell_type": "code",
   "execution_count": 29,
   "metadata": {},
   "outputs": [],
   "source": [
    "#These numbers are essentially %CR\n",
    "FRmod_preearly_pc = np.nanmean(np.greater(FRmod_preearly,FRmod_baseline_median))\n",
    "FRmod_prelate_pc = np.nanmean(np.greater(FRmod_prelate,FRmod_baseline_median))\n",
    "FRmod_preexpert_pc = np.nanmean(np.greater(FRmod_preexpert,FRmod_baseline_median))\n",
    "FRmod_postearly_pc = np.nanmean(np.greater(FRmod_postearly,FRmod_baseline_median))\n",
    "FRmod_postlate_pc = np.nanmean(np.greater(FRmod_postlate,FRmod_baseline_median))\n",
    "FRmod_postexpert_pc = np.nanmean(np.greater(FRmod_postexpert,FRmod_baseline_median))\n"
   ]
  },
  {
   "cell_type": "code",
   "execution_count": 30,
   "metadata": {},
   "outputs": [
    {
     "name": "stderr",
     "output_type": "stream",
     "text": [
      "meta NOT subset; don't know how to subset; dropped\n"
     ]
    },
    {
     "data": {
      "image/png": "[encoded data removed]",
      "text/plain": [
       "<Figure size 750x450 with 1 Axes>"
      ]
     },
     "metadata": {},
     "output_type": "display_data"
    }
   ],
   "source": [
    "# shift in responsiveness graph\n",
    "fig, ax = plt.subplots(figsize=(5,3))\n",
    "percentCR = np.array([FRmod_preearly_pc,FRmod_prelate_pc,FRmod_preexpert_pc,FRmod_postearly_pc,FRmod_postlate_pc,FRmod_postexpert_pc])*100\n",
    "labels = ['Early','Late\\n\\nPre-reversal','Expert','Early','Late\\n\\nPost-reversal','Expert']\n",
    "\n",
    "numCon = len(labels)\n",
    "ax.plot([0,1,2,3,4,5],(percentCR-50),color='grey',lw=1,alpha=0.5)\n",
    "#ax.plot([3,4,5],(percentCR[3:6]-50),color='grey',lw=1,alpha=0.5)\n",
    "\n",
    "color=NCR_CR_cmap((percentCR-40)/20)\n",
    "ax.scatter(range(numCon),(percentCR-50),c=color,s=100,zorder=10)\n",
    "\n",
    "xlims = [-0.5,numCon-0.25]\n",
    "ax.plot(xlims,[0,0],c='grey',linestyle='--',lw=1,zorder=-10)\n",
    "ax.set_xlim(xlims)\n",
    "ax.set_xticks(range(numCon))\n",
    "ax.set_xticklabels(labels)\n",
    "\n",
    "#All cells with All Cells baseline\n",
    "ax.set_ylabel('Shift in responsiveness (%)')\n",
    "ax.set_ylim([-30,45])\n",
    "ax.set_yticks([-30,-15,0,15,30, 45])\n",
    "ax.text(-0.25,35,'CR',color=CR_COLOR)\n",
    "ax.text(-0.25,-10,'NCR',color=NCR_COLOR)\n",
    "\n",
    "ax.annotate('', xy=(0.08, -0.12), xycoords='axes fraction', xytext=(0.44, -0.12),arrowprops=dict(arrowstyle='-', color='black'))\n",
    "ax.annotate('', xy=(0.56, -0.12), xycoords='axes fraction', xytext=(0.92, -0.12),arrowprops=dict(arrowstyle='-', color='black'))\n",
    "\n",
    "ax.axvline(2.5,color=SWITCH_COLOR,linestyle='--',zorder=10,lw=1)\n",
    "fig.savefig(os.path.join('C:\\\\Users\\insan\\\\Desktop\\\\Figures','Passive no behavior Shift in responsiveness.pdf'),transparent=False,facecolor=\"white\")\n"
   ]
  },
  {
   "cell_type": "code",
   "execution_count": null,
   "metadata": {},
   "outputs": [],
   "source": []
  },
  {
   "cell_type": "code",
   "execution_count": null,
   "metadata": {},
   "outputs": [],
   "source": []
  },
  {
   "cell_type": "code",
   "execution_count": 31,
   "metadata": {},
   "outputs": [
    {
     "name": "stderr",
     "output_type": "stream",
     "text": [
      "meta NOT subset; don't know how to subset; dropped\n"
     ]
    },
    {
     "data": {
      "image/png": "[encoded data removed]",
      "text/plain": [
       "<Figure size 750x450 with 1 Axes>"
      ]
     },
     "metadata": {},
     "output_type": "display_data"
    }
   ],
   "source": [
    "fig, ax = plt.subplots(figsize=(5,3))\n",
    "percentCR = np.array([FRmod_preearly_pc,FRmod_prelate_pc,FRmod_preexpert_pc,FRmod_postearly_pc,FRmod_postlate_pc,FRmod_postexpert_pc])*100\n",
    "labels = ['Early','Late','Expert','Early','Late','Expert']\n",
    "#percentCR = np.array([FRmod_prelate_pc,FRmod_postearly_pc,FRmod_postint_pc,FRmod_postlate_pc])*100\n",
    "#labels = ['Pre Late','Early','Intermediate\\npost-reversal','Late']\n",
    "numCon = len(labels)\n",
    "ax.plot([0,1,2,3,4,5],(percentCR-50),color='k',linestyle=':',lw=1,alpha=1)\n",
    "#ax.plot([3,4,5],(percentCR[3:6]-50),color='grey',lw=1,alpha=0.5)\n",
    "\n",
    "color=NCR_CR_cmap((percentCR-40)/20)\n",
    "ax.scatter(range(numCon),(percentCR-50),c=PHASE_COLORS,s=100,zorder=10)\n",
    "\n",
    "xlims = [-0.5,numCon-0.5]\n",
    "ax.set_xlim(xlims)\n",
    "ax.set_xticks(range(numCon))\n",
    "ax.set_xticklabels(labels)\n",
    "\n",
    "# ax.set_ylabel('Shift in responsiveness (%)')\n",
    "# ax.set_ylim([-35,25])\n",
    "# ax.set_yticks([-30,-20,-10,0,10,20])\n",
    "# ax.text(-0.5,20,'NCR',color=NCR_COLOR)\n",
    "# ax.text(-0.5,-30,'CR',color=CR_COLOR)\n",
    "\n",
    "#ax.set_ylabel('Shift in responsiveness (%)')\n",
    "#ax.set_ylim([-35,65])\n",
    "#ax.set_yticks([-30,-15,0,15,30,45,60])\n",
    "#ax.text(-0.5,55,'NCR',color=NCR_COLOR)\n",
    "#ax.text(-0.5,-30,'CR',color=CR_COLOR)\n",
    "\n",
    "xlims = [-0.5,numCon-0.5]\n",
    "ax.set_xlim(xlims)\n",
    "ax.set_xticks(range(numCon))\n",
    "ax.set_xticklabels(labels)\n",
    "\n",
    "#All cells with All Cells baseline\n",
    "ax.set_ylabel('Shift in responsiveness (%)')\n",
    "ax.set_ylim([-15,30])\n",
    "ax.set_yticks([-15,-15,0,15,30])\n",
    "\n",
    "ax.text(-0.4,25,'CR',color=CR_COLOR)\n",
    "ax.text(-0.4,-10,'NCR',color=NCR_COLOR)\n",
    "\n",
    "#ax.plot([2.5,2.5],ax.get_ylim(),color='blue',lw=1,zorder=-15)\n",
    "\n",
    "ax.axvline(2.5,color=SWITCH_COLOR,linestyle='--',zorder=10,lw=1)\n",
    "ax.axhline(0,c='k',linestyle='-',lw=0.5,zorder=-10)\n",
    "\n",
    "\n",
    "ax.annotate('', xy=(0.04, -0.08), xycoords='axes fraction', xytext=(0.47, -0.08),arrowprops=dict(arrowstyle='-', color='black'))\n",
    "ax.annotate('', xy=(0.54, -0.08), xycoords='axes fraction', xytext=(0.97, -0.08),arrowprops=dict(arrowstyle='-', color='black'))\n",
    "ax.text(2.5,ax.get_ylim()[1],'Reversal',color=SWITCH_COLOR,horizontalalignment='center',verticalalignment='bottom')\n",
    "\n",
    "plt.tight_layout()\n",
    "#fig.savefig(os.path.join('D:\\\\\\\\Figures','Tuning Figures','Passive no behavior Shift in responsiveness V2.pdf'),transparent=False,facecolor=\"white\")\n",
    "fig.savefig(os.path.join('C:\\\\Users\\insan\\\\Desktop\\\\Figures','Passive no behavior Shift in responsiveness V2.pdf'),transparent=False,facecolor=\"white\")\n"
   ]
  },
  {
   "cell_type": "code",
   "execution_count": null,
   "metadata": {},
   "outputs": [],
   "source": []
  },
  {
   "cell_type": "code",
   "execution_count": null,
   "metadata": {},
   "outputs": [],
   "source": []
  },
  {
   "cell_type": "code",
   "execution_count": 32,
   "metadata": {},
   "outputs": [],
   "source": [
    "#Stats analysis"
   ]
  },
  {
   "cell_type": "code",
   "execution_count": 33,
   "metadata": {},
   "outputs": [],
   "source": [
    "#Create a namespace containing FRmod from each learning phase\n",
    "\n",
    "obj = SimpleNamespace(prereversal_early=FRmod_preearly,\n",
    "                      prereversal_late=FRmod_prelate,\n",
    "                      prereversal_expert=FRmod_preexpert,\n",
    "                      postreversal_early=FRmod_postearly,\n",
    "                      postreversal_late=FRmod_postlate,\n",
    "                      postreversal_expert=FRmod_postexpert\n",
    "                     )\n"
   ]
  },
  {
   "cell_type": "code",
   "execution_count": 34,
   "metadata": {},
   "outputs": [
    {
     "data": {
      "text/plain": [
       "namespace(prereversal_early=array([ 1.99329983,  1.02380952,  0.67039106, 15.72864322,  8.69346734,\n",
       "                                    9.56448911,  4.87437186,  1.47403685, 13.92857143,  4.7037037 ,\n",
       "                                    2.8879892 ,  4.40044004,  7.03703704,  4.82905983,  4.22110553,\n",
       "                                   11.52722444,  0.56022409,  6.98492462, 19.07872697,  4.72361809,\n",
       "                                   16.44891122, 13.27131783,  6.29815745, 16.46090535, 17.59057971,\n",
       "                                   32.93132328, 25.64489112,  1.65997323,  1.33333333, 18.10720268,\n",
       "                                    1.1299435 ,  9.26298157, 33.16073355,  4.00335008,  3.60587002,\n",
       "                                    2.20043573, 55.12562814, 35.79564489, 28.9279732 , 12.39530988,\n",
       "                                    5.10887772,  1.30434783,  6.91792295,  2.4120603 , 16.9681742 ,\n",
       "                                   15.67282322, 10.72222222,  3.18257956,  6.99415205,  0.68676717,\n",
       "                                    8.52596315,  1.22278057,  1.03852596, 20.08375209,  2.7638191 ,\n",
       "                                    8.99497487,  3.7520938 ,  1.39028476,  6.89990282, 15.7118928 ,\n",
       "                                    5.61139028,  2.51256281,  3.09882747, 10.56951424,  1.39487179,\n",
       "                                    2.37855946,  5.39363484,  0.58626466,  6.7839196 ,  3.40686275,\n",
       "                                   10.88777219,  1.62479062,  0.85626911, 11.22278057, 13.58558559,\n",
       "                                    0.61976549,  5.27196653,  6.61202186, 16.3099631 , 11.17252931,\n",
       "                                    9.01960784,  4.29951691,  5.45787546, 17.52834467,  4.75711893,\n",
       "                                    2.31155779,  2.52931323,  1.39028476, 35.7884797 , 15.61139028,\n",
       "                                   39.02847571,  3.2160804 , 26.7001675 ,  0.79812207,  1.62479062,\n",
       "                                    1.10552764,  0.64197531,  3.40033501, 35.86264657,  5.25963149,\n",
       "                                    1.72529313,  7.21943049,  0.75376884,  9.49748744, 18.14070352,\n",
       "                                    4.53936348, 12.51661918,  1.40703518,  9.83249581,  0.78726968,\n",
       "                                    1.62107396,  1.50753769,  1.68498168,  1.82579564, 15.3495935 ,\n",
       "                                    0.34632035,  4.38356164,  2.89782245,  6.33165829,  2.59631491,\n",
       "                                    2.2278057 ,  4.00335008,  2.16505895,  1.08474576,  1.76245211,\n",
       "                                    2.14285714,  5.14237856,  1.08877722,  0.76923077,  0.49382716,\n",
       "                                    1.20603015,  3.61809045,  5.49180328,  2.53687316,  1.04895105,\n",
       "                                    8.35051546,  4.13735343,  1.12227806,  2.56281407,  8.35845896,\n",
       "                                    2.8765792 ,  1.67504188,  1.39028476,  4.40536013,  2.63157895,\n",
       "                                    0.56951424,  2.89308176,  0.88777219,  9.98324958, 40.93802345,\n",
       "                                    1.30653266,  3.37837838, 15.52763819,  7.83919598, 26.18090452,\n",
       "                                    1.59128978,  0.87774295,  1.04803493,  5.30973451, 16.93467337,\n",
       "                                   22.44556114,  5.56113903,  1.47403685,  4.03685092,  1.13902848,\n",
       "                                    1.87725632,  1.86379928,  2.11055276,  1.66056166,  0.49808429,\n",
       "                                    8.9279732 ,  2.98157454,  0.78726968,  0.50359712,  3.53174603,\n",
       "                                    1.19460501,  2.42138365,  0.72607261,  1.12244898,  0.85427136,\n",
       "                                    1.29353234,  0.85427136,  7.68844221,  0.87102178,  0.57068742,\n",
       "                                    0.75026795,  1.12227806,  1.32328308,  0.47179487,  4.65661642,\n",
       "                                   11.0720268 ,  5.74539363,  0.75376884,  0.87102178,  2.09643606,\n",
       "                                    2.06030151,  5.4438861 ,  1.16743472, 22.11055276,  1.72529313,\n",
       "                                    1.39028476,  4.89112228,  1.21794872,  7.75544389,  1.47582697,\n",
       "                                    7.52093802,  1.22807018,  2.44556114,  3.09368192,  0.43551089,\n",
       "                                    0.75376884,  7.68817204,  2.54606365,  1.95223261,  1.14068441,\n",
       "                                    9.27973199,  0.85197018,  1.72222222,  7.01842546,  1.03792415,\n",
       "                                    1.12      ,  1.21816168,  4.53936348,  3.78559464,  1.00182149,\n",
       "                                    2.47906198,  1.44053601,  0.52083333,  1.23953099,  0.44260028,\n",
       "                                    2.1440536 ,  0.58626466,  0.90196078,  2.86432161,  3.14907873,\n",
       "                                    1.20789779,  2.09643606,  0.39840637,  0.6116208 ,  0.58626466,\n",
       "                                    0.72026801,  1.57407407,  0.44817927,  0.9009009 ,  0.69084629]),\n",
       "          prereversal_late=array([  9.34673367,  23.17460317,  15.01872659,  16.94267516,\n",
       "                                    6.95142379,   1.77142857,   0.73643411,  10.95477387,\n",
       "                                    9.51423786,  32.65359477,   5.8045977 ,   0.8040201 ,\n",
       "                                   10.35175879,   3.8358459 ,   1.08877722,   0.56951424,\n",
       "                                   34.50586265,  21.80904523,   1.64215686,   1.85507246,\n",
       "                                    4.80737018,   2.51256281,  16.93989071,   3.04696449,\n",
       "                                    0.89026915,  12.02680067,   0.55276382,  13.24958124,\n",
       "                                    2.46231156,   4.08710218,   1.19711042,   1.08877722,\n",
       "                                    0.86666667,   2.79012346,   2.11055276,   3.46441948,\n",
       "                                   29.34673367,  17.33668342,  12.05720572,   0.3125    ,\n",
       "                                    6.36515913,   0.75757576,   2.99832496,   0.40201005,\n",
       "                                    0.77007701,   0.75376884,   1.27303183,   1.32328308,\n",
       "                                    4.2881072 ,   0.63651591,   1.26245847,  12.26130653,\n",
       "                                    1.38408304,   3.61809045,   1.48717949,  19.13043478,\n",
       "                                   25.96314908,  31.49078727,  20.8040201 ,   1.40020899,\n",
       "                                    8.14285714,  33.95238095,   3.74269006,   1.6765286 ,\n",
       "                                    1.05164319,   2.91666667,   2.95698925,   8.02345059,\n",
       "                                   11.95035461,  30.62039958,   5.86264657,   1.37353434,\n",
       "                                    1.2173913 ,   4.87895717,   4.09982175,   8.85185185,\n",
       "                                    4.52696729,   5.56832695,   3.89937107,  11.416122  ,\n",
       "                                   27.52093802,  21.70854271,  31.77554439,  36.04690117,\n",
       "                                    4.92462312,   4.58333333,   5.25963149,   1.24610592,\n",
       "                                    7.2361809 ,   1.77083333,   0.80094229,   1.32132132,\n",
       "                                    0.95238095,   0.96153846,   2.02729045,  15.9798995 ,\n",
       "                                    7.34082397,   0.52366566,   1.1820331 ,   0.59259259,\n",
       "                                   36.93262411,  11.40609636,  14.75711893,   2.12962963,\n",
       "                                    0.73701843,   0.88777219,   9.39698492,  14.43886097,\n",
       "                                    7.95644891,   1.51111111,  10.11725293,   1.63522013,\n",
       "                                    4.68468468,  13.80368098,   3.99201597,   2.27477477,\n",
       "                                    1.45620023,   0.9       ,   5.7       ,  19.53098827,\n",
       "                                   10.32380952,   2.70440252,   9.18238994, 132.95597484,\n",
       "                                    3.77358491,   1.57232704,   2.0754717 ,   2.13836478,\n",
       "                                    2.45283019,   7.79874214,  69.05660377,  29.05660377,\n",
       "                                    4.77987421,  29.68553459,   5.53459119,   7.10691824,\n",
       "                                    2.51572327,  12.26415094,   4.1509434 ,   3.14465409,\n",
       "                                    0.44025157,   6.28930818,   2.83018868,   1.00628931,\n",
       "                                    8.99371069,   1.69811321,   4.08805031,   5.22012579,\n",
       "                                    1.19496855,  26.35220126,   0.62893082,  19.81132075,\n",
       "                                    3.08176101,  41.63522013,   3.83647799,   9.3081761 ,\n",
       "                                    4.02515723,   1.65829146,  12.67217631,   7.70519263,\n",
       "                                   14.26523297,  63.78787879,  28.09045226,   1.48594378,\n",
       "                                    6.71691792,   5.57823129,   5.88996764,   3.4840871 ,\n",
       "                                    1.67504188,   2.12389381,   1.35561746,   5.27638191,\n",
       "                                    1.87878788,   3.91959799,  13.88609715,   1.50110375,\n",
       "                                    0.81343943,   2.93859649,   2.44556114,   2.69681742,\n",
       "                                    3.78559464,   4.58961474,   2.42881072,   0.91324201,\n",
       "                                   29.38023451,   3.58458961,   5.87939698,   1.08877722,\n",
       "                                    1.8760469 ,   2.64656616,   2.680067  ,   1.17969822,\n",
       "                                    0.58626466,   0.40201005,   1.59128978,   0.55710306,\n",
       "                                   23.29140461,  27.08542714,   3.36683417,   4.22110553,\n",
       "                                    0.5643739 ,   0.5360134 ,   6.1641541 ,   0.98765432,\n",
       "                                    0.65185185,   1.95918367,  20.08375209,  10.08375209,\n",
       "                                   20.93802345,   1.82579564,   1.05527638,   2.12730318,\n",
       "                                    3.73534338,   0.31088083,   1.92629816,   0.64197531,\n",
       "                                    0.67039106,  27.12280702,   0.79545455,   0.75376884,\n",
       "                                   31.08481262,   0.89324619,   1.08803165,   0.93781855,\n",
       "                                    1.3400335 ,   9.12897822,   1.62479062,  22.98157454,\n",
       "                                    2.54606365,  34.0201005 ,   1.42857143,   1.08161259,\n",
       "                                   17.2361809 ,   3.09882747,   5.99664992,   1.47540984,\n",
       "                                    1.62479062,   4.11111111,   4.79061977,   1.18927973,\n",
       "                                    1.63416899]),\n",
       "          prereversal_expert=array([  9.22666667,  22.67399267,  13.7913486 ,   2.7638191 ,\n",
       "                                      1.23042506,   4.89112228,  38.58974359,   0.56338028,\n",
       "                                      0.87636933,   3.90022676,   1.41975309,   0.75471698,\n",
       "                                      0.88777219,   2.15686275,   0.60185185,   2.02680067,\n",
       "                                      0.68468468,   0.46666667,   5.33333333,   2.46085011,\n",
       "                                      1.45098039,   2.63888889,   0.5734767 ,   9.82843137,\n",
       "                                      0.89655172,   0.57553957,   2.73127753,   0.68571429,\n",
       "                                      0.88888889,  11.39028476,   3.71859296,   0.65083553,\n",
       "                                      5.61728395,   2.51256281,   2.36190476,   8.57621441,\n",
       "                                     14.0201005 ,   3.58458961,   4.77987421,  13.2160804 ,\n",
       "                                      1.31991051,   1.55778894,   1.28342246,   1.96261682,\n",
       "                                      1.85929648,   5.15151515,   2.94871795,   1.17171717,\n",
       "                                      6.19765494,   9.01172529,   7.90619765,  14.86419753,\n",
       "                                      3.70056497,   8.0754717 ,   3.16582915,   1.11553785,\n",
       "                                      8.        ,  24.92462312,   6.99319728,   3.36683417,\n",
       "                                     29.86599665,   3.23366556,   8.14070352,   7.37018425,\n",
       "                                      8.82747069,  97.52093802,  16.66666667,   0.7       ,\n",
       "                                     13.41708543,   1.12227806,  13.01507538,   0.8       ,\n",
       "                                     10.13400335,  11.23953099,   1.15577889,   0.81871345,\n",
       "                                      2.62981575,   3.93634841,   4.70238095,   3.14907873,\n",
       "                                      8.76046901,   7.93969849, 144.79061977,   6.31490787,\n",
       "                                      5.03401361,   6.2479062 ,   0.52757794,   2.17755444,\n",
       "                                      1.40703518,  70.61976549,   4.42211055,   1.6080402 ,\n",
       "                                      8.52596315,   2.88107203,   2.78056951,  15.79564489,\n",
       "                                      3.81909548,  16.37931034,   3.57723577,   2.47086247,\n",
       "                                      2.8742515 ,   0.73701843,   7.90619765,   0.73421439,\n",
       "                                      1.75879397,   0.63651591,   1.95979899,  25.47738693,\n",
       "                                      2.57217848,   1.25628141,   6.68341709,   2.00385356,\n",
       "                                      1.44578313,   0.875     ,   0.91269841,  12.27805695,\n",
       "                                      1.08527132,   4.639866  ,   2.22222222,   6.53266332,\n",
       "                                      1.02857143,   4.85762144,   6.04690117,   2.69681742,\n",
       "                                      2.34505863,   0.89253188,   3.71859296,   1.64319249,\n",
       "                                     25.64489112,   3.01507538,  13.06532663,   2.14437367]),\n",
       "          postreversal_early=array([ 3.31658291,  3.37962963,  4.92462312,  0.46901173,  1.05527638,\n",
       "                                     8.52941176,  2.88107203,  4.67120181,  0.73701843, 11.02177554,\n",
       "                                    12.89782245,  1.44053601,  5.66164154,  4.94137353,  3.2160804 ,\n",
       "                                     5.84589615,  3.85259631,  6.2479062 ,  0.73701843,  4.58961474,\n",
       "                                     4.07035176,  4.71408647,  3.41708543,  7.13567839,  6.04690117,\n",
       "                                     6.33165829,  1.35384615,  1.25628141,  5.37688442,  4.17085427,\n",
       "                                     2.57956449,  1.95979899,  3.7654321 ,  3.66834171, 24.20435511,\n",
       "                                     1.03174603,  1.10552764,  2.79731993,  2.92063492,  3.7520938 ,\n",
       "                                     1.52505447,  1.70854271,  3.57766143,  3.36683417,  0.72026801,\n",
       "                                     3.78559464,  0.65326633,  4.22136422, 11.28555176,  6.54941374,\n",
       "                                     4.05360134,  2.76094276,  0.97152429,  0.82352941,  0.62062062,\n",
       "                                     1.15577889,  1.55555556,  2.28710462,  3.38624339,  1.35449735,\n",
       "                                     1.0403397 ,  3.61724501,  1.16772824,  1.91082803,  0.91697646,\n",
       "                                     5.19262982,  0.88888889,  0.75993092, 20.51926298,  2.46231156,\n",
       "                                     1.53846154,  1.38996139, 24.75711893, 21.17252931, 19.59459459,\n",
       "                                     0.33500838, 15.00837521,  1.77121771,  5.3030303 ,  5.15981735,\n",
       "                                    41.85061315,  2.56651017,  7.53914989,  1.82754183,  2.2008547 ,\n",
       "                                     1.90954774,  2.47906198,  4.67336683,  3.21660182,  6.09715243,\n",
       "                                    10.73701843,  8.78205128, 12.6754386 ,  3.09882747, 26.05095541,\n",
       "                                     4.70833333, 12.47906198,  0.89485459,  2.03612479,  0.62305296,\n",
       "                                    11.40703518,  1.70854271,  3.01647655,  2.45726496, 15.30988275,\n",
       "                                     2.32830821,  3.71859296,  5.07537688,  0.48576214, 17.47068677,\n",
       "                                     8.44221106, 21.80904523,  2.07705193,  4.85762144,  1.23730379,\n",
       "                                     1.30653266,  3.96984925,  2.51256281,  3.23283082,  1.47403685,\n",
       "                                     2.96482412,  7.92592593, 20.06700168,  0.53156146,  0.6514658 ,\n",
       "                                    23.61809045,  1.50753769,  3.19932998, 16.46566164,  1.77554439,\n",
       "                                     2.29480737, 13.18257956,  1.6080402 ,  0.48109966, 36.28140704,\n",
       "                                     3.45058626,  3.41708543,  2.2754491 , 12.3655914 ,  0.98039216,\n",
       "                                     7.97202797,  2.2556391 ,  0.57553957,  1.70854271,  2.73031826,\n",
       "                                     3.96984925, 20.20100503,  6.13154961,  8.37520938,  7.80701754,\n",
       "                                    26.00472813,  6.61641541,  2.52873563,  3.25396825, 15.88235294,\n",
       "                                    27.03517588,  7.52093802,  0.59790732,  4.80359147, 17.8559464 ,\n",
       "                                     7.03517588,  3.46733668,  1.95856874,  0.78431373,  2.49084249,\n",
       "                                    10.70866142,  3.57001972,  2.45454545,  7.33850129,  7.89189189,\n",
       "                                     0.6462585 ,  8.09045226,  0.61976549]),\n",
       "          postreversal_late=array([ 27.75793651,   2.27805695,   4.83399734,  10.48576214,\n",
       "                                    17.56731662,  12.32830821,   4.35510888,  33.95309883,\n",
       "                                     4.53936348,   0.85427136,   4.95812395,  39.93299832,\n",
       "                                     8.29145729,   2.66331658,   4.1038526 ,   6.76470588,\n",
       "                                     1.28978224,  61.55778894,   1.8       ,   5.8961474 ,\n",
       "                                    61.27303183,  15.10887772,  10.01675042,   0.82077052,\n",
       "                                     1.55778894,   5.66164154,   2.83082077,   5.81239531,\n",
       "                                     2.47906198,   0.97323601,   1.96666667,   2.89782245,\n",
       "                                     1.42378559,   1.02177554,   7.53768844,   2.21105528,\n",
       "                                     4.23785595,   2.08333333,   2.17795485,  29.81574539,\n",
       "                                    20.95477387,   3.60134003,   4.3718593 ,   5.86264657,\n",
       "                                     0.70351759,   1.77156177,   4.30555556,   2.30680507,\n",
       "                                     2.81761006,   6.13065327,   0.92691622,   0.92915215,\n",
       "                                     4.60636516,   2.02680067,   2.42176871,   6.01340034,\n",
       "                                     3.73534338,   1.70666667,   3.33333333,   6.32536974,\n",
       "                                    32.10045662,   0.6993007 ,   2.04081633,   2.47126437,\n",
       "                                     1.75757576,   4.03892944,   2.95264624,   1.27303183,\n",
       "                                     4.8241206 ,   8.38541667,   5.19262982,   1.3740458 ,\n",
       "                                     0.46666667,   8.69346734,   0.67001675,   7.68558952,\n",
       "                                     3.79814077,   1.0178117 ,   2.61306533,   1.53846154,\n",
       "                                    34.22572178,  10.56410256,   2.16080402,   2.93132328,\n",
       "                                     4.22619048,  11.75879397,   4.52261307,  29.61474037,\n",
       "                                     4.3718593 ,  13.29411765,   1.05137395,  12.42881072,\n",
       "                                     4.65661642,  21.18927973,   2.48484848,   1.51898734,\n",
       "                                     7.75544389,   8.47571189,   7.48743719,   1.03852596,\n",
       "                                     1.28735632,   7.61904762,   8.00670017,   2.680067  ,\n",
       "                                    11.89279732,   9.81574539,   1.8875502 ,   9.35779817,\n",
       "                                     5.76576577,   7.15025907,   2.32067511,   1.50753769,\n",
       "                                     2.56281407,   1.10701107,   0.55276382,   2.88107203,\n",
       "                                     8.11320755,   4.05555556,  22.13930348,  30.51926298,\n",
       "                                     8.40871022,   0.89668616,   2.78787879,   2.7638191 ,\n",
       "                                     2.30769231,  15.7398374 ,   1.68150346,  13.50083752,\n",
       "                                     5.39363484,   1.45728643,  23.43195266,  17.5879397 ,\n",
       "                                    24.9078727 ,   1.70498084,   2.86844708,  42.55451713,\n",
       "                                     6.5159129 ,   9.51653944,   7.8559464 ,   1.23953099,\n",
       "                                     0.45751634,  23.56756757, 107.61904762,  17.25293132,\n",
       "                                     4.98442368,  15.67839196,   0.59360731,   0.14403292,\n",
       "                                     4.84087102,  19.38023451,  11.85929648,   0.8727948 ,\n",
       "                                    41.27303183,   4.19405321,   0.98827471,   2.37037037,\n",
       "                                     2.06030151,   2.41975309,  25.51088777,  38.57271906,\n",
       "                                     5.46063652,   6.33165829,   3.51020408,   2.61306533,\n",
       "                                     2.11055276,  22.75793651,   1.94835681,  30.01675042,\n",
       "                                     5.37688442,   2.54196643,   2.03562341,   3.5678392 ,\n",
       "                                     3.60134003,  10.31825796,  34.57286432,   1.71052632,\n",
       "                                    34.9078727 ,   3.9817975 ,   1.75799087,   2.40860215,\n",
       "                                    23.0318258 ,   2.43678161,   2.53968254,   3.65079365,\n",
       "                                     2.2278057 ,   5.7960199 ,   0.4040404 ,   6.80507497,\n",
       "                                    24.62311558,   8.60130719,   1.96769457,  16.78618858,\n",
       "                                     9.04761905,   2.62745098,   2.02680067,   0.86956522,\n",
       "                                     1.78294574,  11.16339869,   2.56281407,   2.2289767 ,\n",
       "                                     0.77898551]),\n",
       "          postreversal_expert=array([  1.78521618,   1.6969697 ,  18.30820771,   1.90082645,\n",
       "                                       1.99329983,   4.75711893,   3.65159129,   0.92127303,\n",
       "                                       0.39716312,   0.93802345,   0.65326633,   4.16666667,\n",
       "                                       0.8908046 ,  31.50753769,   6.61641541,   4.6737841 ,\n",
       "                                       2.06030151,   7.82244556,  20.40201005,   3.93634841,\n",
       "                                       5.82914573,  13.87387387,  32.19430486,  28.09045226,\n",
       "                                       1.80451128,   4.3718593 ,   2.74706868,   0.65608466,\n",
       "                                       3.50083752,  46.03015075,  13.08207705,   9.09547739,\n",
       "                                       0.80536913,  15.66164154,  10.68676717,  20.45112782,\n",
       "                                       3.71859296,   0.95534787,   5.10887772,   1.36162688,\n",
       "                                       5.81239531,   1.92629816,   1.6080402 ,   3.76884422,\n",
       "                                       4.30485762,   1.9047619 ,   5.96314908,   5.26170799,\n",
       "                                       3.36391437,   5.98393574,   2.4958124 ,   1.17400419,\n",
       "                                       2.77310924,   1.50997151,   1.43302181,   3.97350993,\n",
       "                                       1.04683196,   3.46733668,   0.38888889,   1.10169492,\n",
       "                                       2.98157454,   1.75879397,   1.41242938,   0.8908046 ,\n",
       "                                       4.52961672,   1.38418079,   1.06972302,   0.43333333,\n",
       "                                       0.53475936,  31.25628141,   6.21440536,   1.01010101,\n",
       "                                       6.7001675 ,   1.62297129,   0.65891473,   2.15962441,\n",
       "                                      43.61538462,  27.37306843,  41.81623932,  31.28514056,\n",
       "                                      57.11892797,  36.71691792,  14.95812395,   4.06060606,\n",
       "                                       8.54271357,  10.        ,   1.88323917,   1.30612245,\n",
       "                                       4.38860972,   0.71625344,   4.50586265,   8.44221106,\n",
       "                                      29.02847571,   7.11892797,  40.50251256,   5.07537688,\n",
       "                                      14.57286432,   3.04857621,   3.4840871 ,   1.08571429,\n",
       "                                       0.50359712,   7.80569514,   6.74242424,  12.96482412,\n",
       "                                       1.0720268 ,   2.4958124 ,  50.48576214,   1.00278552,\n",
       "                                      10.48576214,  39.66499162,   1.3400335 ,  62.7638191 ,\n",
       "                                      11.49270483,   1.78187404,   0.87102178,   0.95477387,\n",
       "                                      10.30150754,   0.75757576,   2.35772358,   0.99773243,\n",
       "                                      26.2479062 ,   3.7037037 ,  12.11055276,  17.7124183 ,\n",
       "                                      35.37688442,  18.72416891,   2.11055276,   1.64154104,\n",
       "                                       1.35531136,   8.36707152,   2.92035398,   0.67001675,\n",
       "                                      14.01540154,   1.30841121,  17.59784076,   3.16582915,\n",
       "                                       3.26633166,   5.39363484,   5.84589615,   5.1369863 ,\n",
       "                                       4.77386935,   2.42424242,  54.14304993,   2.122571  ,\n",
       "                                       7.91666667,  10.83752094,   1.36422136,  11.8079096 ,\n",
       "                                      16.49916248,   1.28472222,   1.70854271,   1.05485232,\n",
       "                                       2.2278057 ,   0.91254753,   8.73015873,   0.73717949,\n",
       "                                       5.6684492 ,   0.61976549,   0.68627451,  23.71967655,\n",
       "                                       4.6728972 ,   1.18518519,   2.15130024,   0.63768116,\n",
       "                                       1.63265306,   1.33333333,   2.70944742,   9.7319933 ,\n",
       "                                       8.44202899,   3.75838926,   1.91721133,  12.46846847,\n",
       "                                       1.4973262 ,   4.58961474,   2.78056951,   2.24043716,\n",
       "                                      12.74706868,   2.41176471,   1.39028476,  22.71356784,\n",
       "                                       0.85427136,  25.76214405,   7.38693467,  10.32520325,\n",
       "                                      24.17302799,  11.55172414,  16.5159129 ,   2.77526395,\n",
       "                                      10.25125628,   6.7839196 ,   1.22278057,   5.24288107,\n",
       "                                       2.77153558,   0.98827471,   9.84924623,   2.31155779,\n",
       "                                       6.53266332,   1.78343949,   3.80234506,  12.07705193,\n",
       "                                       2.5607064 ,  23.70184255,   2.7638191 ,   0.69868996,\n",
       "                                       5.32663317,   6.26465662,   5.6281407 ,   6.19765494,\n",
       "                                      19.79899497,  15.38784067,   2.81407035,   3.24958124,\n",
       "                                       7.40368509,   8.24712644,  14.82720178,   6.01340034,\n",
       "                                       3.41708543,  22.48995984,   1.39028476,   2.4120603 ,\n",
       "                                      16.68341709,   2.39530988,  11.99329983,   0.69767442,\n",
       "                                       3.91959799,   6.53846154,   0.92127303,   0.80229226,\n",
       "                                       5.32319392,   0.86614173,   1.77920686,  15.96244131,\n",
       "                                       0.97152429,  27.97319933,   6.9681742 ,   4.67105263,\n",
       "                                       1.49305556,   5.9197787 ,  23.04635762,   3.73424971,\n",
       "                                      10.35320088,   0.49945711,  32.74509804,   1.30653266,\n",
       "                                      25.15912898,   3.37807606,   8.40871022,   1.02236422,\n",
       "                                       4.40536013,   0.74074074,   2.40601504,   7.60646109,\n",
       "                                       0.77821012,   0.59190031,   3.11557789,   2.57028112,\n",
       "                                      18.03212851,   0.79689018,  19.29648241,   8.67996201,\n",
       "                                      10.04859086,   1.32149901,   1.3592233 ,   0.92127303,\n",
       "                                       2.32649071,  15.96371882,  26.38961039,   3.07692308,\n",
       "                                       2.93333333,   1.18948824,   1.22733612,   2.78056951,\n",
       "                                       2.1440536 ,   3.08207705,   0.4685836 ,   3.36683417,\n",
       "                                       8.25795645,   0.36850921,   3.68352789,   5.65217391,\n",
       "                                       9.71524288,   7.36507937,   5.32663317,  13.7520938 ,\n",
       "                                       5.0921273 ,   3.88405797,   0.92961487,  27.57118928,\n",
       "                                       6.53266332,   0.89371981,   3.35008375,   6.8       ,\n",
       "                                       1.12332112,   8.07207207,   1.22931442,   1.81818182,\n",
       "                                       2.23938224,   3.84288747,   1.89125296,   0.60377358,\n",
       "                                       6.3878327 ,   4.46115288,   9.98027613,   5.71717172,\n",
       "                                       5.06265664,   1.76470588,   1.17252931,   2.56084656,\n",
       "                                       2.18068536,  10.77051926,   2.62042389,   1.70854271,\n",
       "                                       1.54103853,   6.44891122,   6.44891122,   4.75655431,\n",
       "                                       2.98507463,   2.680067  ,   1.13680154,   1.22278057,\n",
       "                                       0.93802345,  48.44221106,   2.26130653,   5.81239531,\n",
       "                                       4.80737018,  36.04690117,   2.27074236,   2.33918129,\n",
       "                                       1.23953099,  51.80904523,   8.37520938, 108.47571189,\n",
       "                                      13.41708543,   8.97822446,  14.38860972,  12.06030151,\n",
       "                                       2.96482412,   3.61809045,   1.45728643,  22.84757119,\n",
       "                                       2.25895317,   3.63484087,  11.13902848,   0.70175439,\n",
       "                                       5.40037244,   8.75      ,   0.93663912,  31.94304858,\n",
       "                                       1.52428811,   1.58095238,   2.4958124 ,   7.13131313,\n",
       "                                       4.23785595,   3.66834171,   3.57407407,   0.76648841,\n",
       "                                       0.98827471,   8.25520833,  59.91624791,   2.4120603 ,\n",
       "                                      64.8241206 ,  37.27272727,  44.32160804,  25.57788945,\n",
       "                                      21.25628141,  15.71600481,  35.41038526,   2.88107203,\n",
       "                                       3.06532663,   5.36398467,   4.67336683,  16.81742044,\n",
       "                                       5.67839196,  26.41541039,   3.20582878,   0.88777219,\n",
       "                                       1.65829146,   4.03685092,   1.64736165,   2.34505863,\n",
       "                                       7.319933  ,   8.81355932,  10.95115681,  15.20833333,\n",
       "                                       2.73684211,   5.24691358,   3.63076923,   1.75257732,\n",
       "                                       6.75279931,   2.29755179,   3.5678392 ,   3.30827068,\n",
       "                                       1.61764706,   3.74307863,   0.81300813,   1.79166667,\n",
       "                                      11.48243359,   0.63492063,   1.5399061 ,   3.25114155,\n",
       "                                      13.88609715,   5.99664992,  10.3117506 ,   1.13821138,\n",
       "                                      15.92592593,   4.05360134,   1.30653266,  22.16905901,\n",
       "                                      17.47044917,   2.44897959,   2.79693487,   9.14027149,\n",
       "                                      15.76811594,  10.76115486,   3.1496063 ,   5.12121212,\n",
       "                                       9.68390805,   5.66164154,   7.91068581,   2.78867102,\n",
       "                                       5.        ,   1.08949416,  21.16575592,  11.25786164,\n",
       "                                      17.99498747,   4.66960352,   4.15410385,   0.77777778,\n",
       "                                       0.90014065,  62.09380235,   0.56980057,  11.09837631,\n",
       "                                       1.94835681,  21.74204355,   9.63391137,   5.99664992,\n",
       "                                      21.91441441,   3.72439479,   0.90431125,  25.69780854,\n",
       "                                       3.49685535,  53.16582915,  35.51322751,   9.94974874,\n",
       "                                       5.31609195,  19.32998325,  35.22613065,   7.11640212,\n",
       "                                       1.2398374 ,  20.16      ]))"
      ]
     },
     "execution_count": 34,
     "metadata": {},
     "output_type": "execute_result"
    }
   ],
   "source": [
    "obj"
   ]
  },
  {
   "cell_type": "code",
   "execution_count": 35,
   "metadata": {},
   "outputs": [],
   "source": [
    "filename = 'C:\\\\Users\\insan\\\\Desktop\\\\Passive Analysis/passiveFRmod.pickle'\n",
    "with open(filename, 'wb') as f:\n",
    "    pickle.dump(obj, f, protocol=pickle.HIGHEST_PROTOCOL)"
   ]
  },
  {
   "cell_type": "code",
   "execution_count": null,
   "metadata": {},
   "outputs": [],
   "source": []
  },
  {
   "cell_type": "code",
   "execution_count": 36,
   "metadata": {},
   "outputs": [],
   "source": [
    "with open('C:\\\\Users\\insan\\\\Desktop\\\\Passive Analysis/passiveFRmod.pickle', \"rb\") as f:\n",
    "    data = pickle.load(f)"
   ]
  },
  {
   "cell_type": "code",
   "execution_count": null,
   "metadata": {},
   "outputs": [],
   "source": []
  },
  {
   "cell_type": "code",
   "execution_count": 37,
   "metadata": {},
   "outputs": [],
   "source": [
    "phase = len(data.postreversal_early)*[\"pre-early\"] + len(data.prereversal_late)*[\"pre-late\"] + len(data.prereversal_expert)*[\"pre-expert\"] \\\n",
    "        + len(data.postreversal_early)*[\"post-early\"] + len(data.postreversal_late)*[\"post-late\"] + len(data.postreversal_expert)*[\"post-expert\"] \n",
    "mod = np.concatenate([data.postreversal_early, data.prereversal_late, data.prereversal_expert, data.postreversal_early, data.postreversal_late, data.postreversal_expert])\n",
    "\n",
    "df = pd.DataFrame({\"phase\": phase, \"FR_mod\": mod})"
   ]
  },
  {
   "cell_type": "code",
   "execution_count": 38,
   "metadata": {},
   "outputs": [
    {
     "data": {
      "text/html": [
       "<div>\n",
       "<style scoped>\n",
       "    .dataframe tbody tr th:only-of-type {\n",
       "        vertical-align: middle;\n",
       "    }\n",
       "\n",
       "    .dataframe tbody tr th {\n",
       "        vertical-align: top;\n",
       "    }\n",
       "\n",
       "    .dataframe thead th {\n",
       "        text-align: right;\n",
       "    }\n",
       "</style>\n",
       "<table border=\"1\" class=\"dataframe\">\n",
       "  <thead>\n",
       "    <tr style=\"text-align: right;\">\n",
       "      <th></th>\n",
       "      <th>Source</th>\n",
       "      <th>ddof1</th>\n",
       "      <th>ddof2</th>\n",
       "      <th>F</th>\n",
       "      <th>p-unc</th>\n",
       "      <th>np2</th>\n",
       "    </tr>\n",
       "  </thead>\n",
       "  <tbody>\n",
       "    <tr>\n",
       "      <th>0</th>\n",
       "      <td>phase</td>\n",
       "      <td>5</td>\n",
       "      <td>1364</td>\n",
       "      <td>2.619006</td>\n",
       "      <td>0.022943</td>\n",
       "      <td>0.009509</td>\n",
       "    </tr>\n",
       "  </tbody>\n",
       "</table>\n",
       "</div>"
      ],
      "text/plain": [
       "  Source  ddof1  ddof2         F     p-unc       np2\n",
       "0  phase      5   1364  2.619006  0.022943  0.009509"
      ]
     },
     "execution_count": 38,
     "metadata": {},
     "output_type": "execute_result"
    }
   ],
   "source": [
    "# Checking that the anova is significant\n",
    "\n",
    "pg.anova(df, dv=\"FR_mod\", between=\"phase\")"
   ]
  },
  {
   "cell_type": "code",
   "execution_count": 39,
   "metadata": {},
   "outputs": [
    {
     "data": {
      "text/html": [
       "<div>\n",
       "<style scoped>\n",
       "    .dataframe tbody tr th:only-of-type {\n",
       "        vertical-align: middle;\n",
       "    }\n",
       "\n",
       "    .dataframe tbody tr th {\n",
       "        vertical-align: top;\n",
       "    }\n",
       "\n",
       "    .dataframe thead th {\n",
       "        text-align: right;\n",
       "    }\n",
       "</style>\n",
       "<table border=\"1\" class=\"dataframe\">\n",
       "  <thead>\n",
       "    <tr style=\"text-align: right;\">\n",
       "      <th></th>\n",
       "      <th>A</th>\n",
       "      <th>B</th>\n",
       "      <th>p-tukey</th>\n",
       "      <th>hedges</th>\n",
       "    </tr>\n",
       "  </thead>\n",
       "  <tbody>\n",
       "  </tbody>\n",
       "</table>\n",
       "</div>"
      ],
      "text/plain": [
       "Empty DataFrame\n",
       "Columns: [A, B, p-tukey, hedges]\n",
       "Index: []"
      ]
     },
     "execution_count": 39,
     "metadata": {},
     "output_type": "execute_result"
    }
   ],
   "source": [
    "# Pairwise Tukey-HSD post-hoc test\n",
    "\n",
    "pairwise_tukey = pg.pairwise_tukey(data=df, dv='FR_mod', between=\"phase\")\n",
    "\n",
    "pairwise_tukey[pairwise_tukey[\"p-tukey\"] <= 0.05][[\"A\", \"B\", \"p-tukey\", \"hedges\"]]\n",
    "#pairwise_tukey[:][[\"A\", \"B\", \"p-tukey\", \"hedges\"]]"
   ]
  },
  {
   "cell_type": "code",
   "execution_count": null,
   "metadata": {},
   "outputs": [],
   "source": []
  },
  {
   "cell_type": "code",
   "execution_count": 40,
   "metadata": {},
   "outputs": [
    {
     "data": {
      "text/html": [
       "<div>\n",
       "<style scoped>\n",
       "    .dataframe tbody tr th:only-of-type {\n",
       "        vertical-align: middle;\n",
       "    }\n",
       "\n",
       "    .dataframe tbody tr th {\n",
       "        vertical-align: top;\n",
       "    }\n",
       "\n",
       "    .dataframe thead th {\n",
       "        text-align: right;\n",
       "    }\n",
       "</style>\n",
       "<table border=\"1\" class=\"dataframe\">\n",
       "  <thead>\n",
       "    <tr style=\"text-align: right;\">\n",
       "      <th></th>\n",
       "      <th>A</th>\n",
       "      <th>B</th>\n",
       "      <th>p-corr</th>\n",
       "      <th>hedges</th>\n",
       "    </tr>\n",
       "  </thead>\n",
       "  <tbody>\n",
       "  </tbody>\n",
       "</table>\n",
       "</div>"
      ],
      "text/plain": [
       "Empty DataFrame\n",
       "Columns: [A, B, p-corr, hedges]\n",
       "Index: []"
      ]
     },
     "execution_count": 40,
     "metadata": {},
     "output_type": "execute_result"
    }
   ],
   "source": [
    "# Conducting pairwise tests using Benjamini/Hochberg FDR correction to Mann-Whitney U\n",
    "\n",
    "pairwise_mwu = pg.pairwise_tests(data=df, dv='FR_mod', between=\"phase\", padjust=\"fdr_bh\", parametric=False, )\n",
    "\n",
    "pairwise_mwu[pairwise_mwu[\"p-corr\"] <= 0.05][[\"A\", \"B\", \"p-corr\", \"hedges\"]]\n",
    "#pairwise_mwu[:][[\"A\", \"B\", \"p-corr\", \"hedges\"]]"
   ]
  },
  {
   "cell_type": "code",
   "execution_count": null,
   "metadata": {},
   "outputs": [],
   "source": []
  },
  {
   "cell_type": "code",
   "execution_count": null,
   "metadata": {},
   "outputs": [],
   "source": []
  },
  {
   "cell_type": "code",
   "execution_count": null,
   "metadata": {},
   "outputs": [],
   "source": []
  },
  {
   "cell_type": "code",
   "execution_count": null,
   "metadata": {},
   "outputs": [],
   "source": []
  },
  {
   "cell_type": "code",
   "execution_count": null,
   "metadata": {},
   "outputs": [],
   "source": []
  },
  {
   "cell_type": "code",
   "execution_count": null,
   "metadata": {},
   "outputs": [],
   "source": []
  },
  {
   "cell_type": "code",
   "execution_count": null,
   "metadata": {},
   "outputs": [],
   "source": []
  },
  {
   "cell_type": "code",
   "execution_count": null,
   "metadata": {},
   "outputs": [],
   "source": []
  },
  {
   "cell_type": "code",
   "execution_count": null,
   "metadata": {},
   "outputs": [],
   "source": []
  },
  {
   "cell_type": "code",
   "execution_count": null,
   "metadata": {},
   "outputs": [],
   "source": []
  },
  {
   "cell_type": "code",
   "execution_count": null,
   "metadata": {},
   "outputs": [],
   "source": []
  },
  {
   "cell_type": "code",
   "execution_count": null,
   "metadata": {},
   "outputs": [],
   "source": []
  },
  {
   "cell_type": "code",
   "execution_count": null,
   "metadata": {},
   "outputs": [],
   "source": []
  },
  {
   "cell_type": "code",
   "execution_count": null,
   "metadata": {},
   "outputs": [],
   "source": []
  },
  {
   "cell_type": "code",
   "execution_count": null,
   "metadata": {},
   "outputs": [],
   "source": []
  },
  {
   "cell_type": "code",
   "execution_count": null,
   "metadata": {},
   "outputs": [],
   "source": []
  },
  {
   "cell_type": "code",
   "execution_count": null,
   "metadata": {},
   "outputs": [],
   "source": []
  },
  {
   "cell_type": "code",
   "execution_count": null,
   "metadata": {},
   "outputs": [],
   "source": []
  },
  {
   "cell_type": "code",
   "execution_count": null,
   "metadata": {},
   "outputs": [],
   "source": []
  },
  {
   "cell_type": "code",
   "execution_count": null,
   "metadata": {},
   "outputs": [],
   "source": []
  },
  {
   "cell_type": "code",
   "execution_count": null,
   "metadata": {},
   "outputs": [],
   "source": []
  },
  {
   "cell_type": "code",
   "execution_count": null,
   "metadata": {},
   "outputs": [],
   "source": []
  },
  {
   "cell_type": "code",
   "execution_count": null,
   "metadata": {},
   "outputs": [],
   "source": []
  },
  {
   "cell_type": "code",
   "execution_count": null,
   "metadata": {},
   "outputs": [],
   "source": []
  },
  {
   "cell_type": "code",
   "execution_count": null,
   "metadata": {},
   "outputs": [],
   "source": []
  },
  {
   "cell_type": "code",
   "execution_count": null,
   "metadata": {},
   "outputs": [],
   "source": []
  },
  {
   "cell_type": "code",
   "execution_count": null,
   "metadata": {},
   "outputs": [],
   "source": []
  },
  {
   "cell_type": "code",
   "execution_count": null,
   "metadata": {},
   "outputs": [],
   "source": []
  },
  {
   "cell_type": "code",
   "execution_count": 41,
   "metadata": {},
   "outputs": [
    {
     "data": {
      "text/plain": [
       "['February 24 2023 Passive Go No-go TH_234_4001']"
      ]
     },
     "execution_count": 41,
     "metadata": {},
     "output_type": "execute_result"
    }
   ],
   "source": [
    "ACsessionfile.meta.files"
   ]
  },
  {
   "cell_type": "code",
   "execution_count": null,
   "metadata": {},
   "outputs": [],
   "source": []
  },
  {
   "cell_type": "code",
   "execution_count": null,
   "metadata": {},
   "outputs": [],
   "source": []
  },
  {
   "cell_type": "code",
   "execution_count": null,
   "metadata": {},
   "outputs": [],
   "source": []
  },
  {
   "cell_type": "code",
   "execution_count": null,
   "metadata": {},
   "outputs": [],
   "source": []
  },
  {
   "cell_type": "code",
   "execution_count": null,
   "metadata": {},
   "outputs": [],
   "source": []
  },
  {
   "cell_type": "code",
   "execution_count": null,
   "metadata": {},
   "outputs": [],
   "source": []
  },
  {
   "cell_type": "code",
   "execution_count": null,
   "metadata": {},
   "outputs": [],
   "source": []
  },
  {
   "cell_type": "code",
   "execution_count": null,
   "metadata": {},
   "outputs": [],
   "source": []
  },
  {
   "cell_type": "code",
   "execution_count": null,
   "metadata": {},
   "outputs": [],
   "source": []
  },
  {
   "cell_type": "code",
   "execution_count": null,
   "metadata": {},
   "outputs": [],
   "source": []
  },
  {
   "cell_type": "code",
   "execution_count": null,
   "metadata": {},
   "outputs": [],
   "source": []
  },
  {
   "cell_type": "code",
   "execution_count": null,
   "metadata": {},
   "outputs": [],
   "source": []
  },
  {
   "cell_type": "code",
   "execution_count": null,
   "metadata": {},
   "outputs": [],
   "source": []
  },
  {
   "cell_type": "code",
   "execution_count": null,
   "metadata": {},
   "outputs": [],
   "source": []
  },
  {
   "cell_type": "code",
   "execution_count": null,
   "metadata": {},
   "outputs": [],
   "source": []
  },
  {
   "cell_type": "code",
   "execution_count": null,
   "metadata": {},
   "outputs": [],
   "source": []
  },
  {
   "cell_type": "code",
   "execution_count": null,
   "metadata": {},
   "outputs": [],
   "source": []
  },
  {
   "cell_type": "code",
   "execution_count": 42,
   "metadata": {},
   "outputs": [
    {
     "data": {
      "text/plain": [
       "namespace(directory='D:\\\\DualRecording\\\\TH_234\\\\TH_234 4\\\\AC\\\\',\n",
       "          region='AC',\n",
       "          animal='TH_234',\n",
       "          probe=11419,\n",
       "          date='02/24/2023',\n",
       "          depth=1284,\n",
       "          task='passive no behavior',\n",
       "          day_of_training=8,\n",
       "          day_of_recording=4,\n",
       "          first_tuning_trial=-1,\n",
       "          length_in_samples=59718916.0,\n",
       "          files=['February 24 2023 Passive Go No-go TH_234_4001'],\n",
       "          arraystart=0,\n",
       "          tonelength=0.1,\n",
       "          triallength=2.5,\n",
       "          lickdelayrelativetostart=0.2,\n",
       "          lickdelayrelativetotone=0.1,\n",
       "          fs=30000,\n",
       "          length_in_seconds=1990.6305333333332,\n",
       "          length_in_minutes=33.17717555555556,\n",
       "          length_in_trials=398,\n",
       "          first_tuning_trial_corrected=398)"
      ]
     },
     "execution_count": 42,
     "metadata": {},
     "output_type": "execute_result"
    }
   ],
   "source": [
    "ACsessionfile.meta"
   ]
  },
  {
   "cell_type": "code",
   "execution_count": 43,
   "metadata": {},
   "outputs": [
    {
     "data": {
      "text/plain": [
       "array([ 26,  28,  30,  60,  63,  73,  91,  97, 110], dtype=int64)"
      ]
     },
     "execution_count": 43,
     "metadata": {},
     "output_type": "execute_result"
    }
   ],
   "source": [
    "ACsessionfile.clusters.good"
   ]
  },
  {
   "cell_type": "code",
   "execution_count": null,
   "metadata": {},
   "outputs": [],
   "source": []
  },
  {
   "cell_type": "code",
   "execution_count": null,
   "metadata": {},
   "outputs": [],
   "source": []
  },
  {
   "cell_type": "code",
   "execution_count": null,
   "metadata": {},
   "outputs": [],
   "source": []
  },
  {
   "cell_type": "code",
   "execution_count": null,
   "metadata": {},
   "outputs": [],
   "source": []
  },
  {
   "cell_type": "code",
   "execution_count": null,
   "metadata": {},
   "outputs": [],
   "source": []
  },
  {
   "cell_type": "code",
   "execution_count": null,
   "metadata": {},
   "outputs": [],
   "source": []
  },
  {
   "cell_type": "code",
   "execution_count": null,
   "metadata": {},
   "outputs": [],
   "source": []
  },
  {
   "cell_type": "code",
   "execution_count": null,
   "metadata": {},
   "outputs": [],
   "source": []
  },
  {
   "cell_type": "code",
   "execution_count": null,
   "metadata": {},
   "outputs": [],
   "source": []
  },
  {
   "cell_type": "code",
   "execution_count": null,
   "metadata": {},
   "outputs": [],
   "source": []
  },
  {
   "cell_type": "code",
   "execution_count": null,
   "metadata": {},
   "outputs": [],
   "source": []
  },
  {
   "cell_type": "code",
   "execution_count": null,
   "metadata": {},
   "outputs": [],
   "source": []
  },
  {
   "cell_type": "code",
   "execution_count": null,
   "metadata": {},
   "outputs": [],
   "source": [
    "\n",
    "\n",
    "\n",
    "\n"
   ]
  },
  {
   "cell_type": "code",
   "execution_count": null,
   "metadata": {},
   "outputs": [],
   "source": []
  },
  {
   "cell_type": "code",
   "execution_count": null,
   "metadata": {},
   "outputs": [],
   "source": []
  },
  {
   "cell_type": "code",
   "execution_count": 44,
   "metadata": {},
   "outputs": [
    {
     "ename": "KeyError",
     "evalue": "2",
     "output_type": "error",
     "traceback": [
      "\u001b[1;31m---------------------------------------------------------------------------\u001b[0m",
      "\u001b[1;31mKeyError\u001b[0m                                  Traceback (most recent call last)",
      "Cell \u001b[1;32mIn[44], line 1\u001b[0m\n\u001b[1;32m----> 1\u001b[0m \u001b[43msessionfile\u001b[49m\u001b[38;5;241;43m.\u001b[39;49m\u001b[43mresponsiveness\u001b[49m\u001b[43m[\u001b[49m\u001b[38;5;241;43m2\u001b[39;49m\u001b[43m]\u001b[49m[\u001b[38;5;124m'\u001b[39m\u001b[38;5;124mall_trials\u001b[39m\u001b[38;5;124m'\u001b[39m]\u001b[38;5;241m.\u001b[39mFRmodulation\n",
      "\u001b[1;31mKeyError\u001b[0m: 2"
     ]
    }
   ],
   "source": [
    "sessionfile.responsiveness[2]['all_trials'].FRmodulation"
   ]
  },
  {
   "cell_type": "code",
   "execution_count": null,
   "metadata": {},
   "outputs": [],
   "source": [
    "animalnames = np.concatenate([cohort1,cohort2,cohort3])\n",
    "\n",
    "animals = dict()\n",
    "for animal in animalnames:\n",
    "    animals[animal] = SimpleNamespace()\n",
    "    animals[animal].name = animal\n",
    "    "
   ]
  },
  {
   "cell_type": "code",
   "execution_count": null,
   "metadata": {},
   "outputs": [],
   "source": [
    "#sessionfile.responsiveness[2]['all_trials']\n",
    "sessionfile.responsiveness[2]['all_trials'].FRmodulation"
   ]
  },
  {
   "cell_type": "code",
   "execution_count": null,
   "metadata": {},
   "outputs": [],
   "source": [
    "sessionfile.clusters.good"
   ]
  },
  {
   "cell_type": "code",
   "execution_count": null,
   "metadata": {},
   "outputs": [],
   "source": [
    "clust_good = sessionfile.clusters.good"
   ]
  },
  {
   "cell_type": "code",
   "execution_count": null,
   "metadata": {},
   "outputs": [],
   "source": []
  },
  {
   "cell_type": "code",
   "execution_count": null,
   "metadata": {},
   "outputs": [],
   "source": [
    "type(sessionfile)"
   ]
  },
  {
   "cell_type": "code",
   "execution_count": null,
   "metadata": {},
   "outputs": [],
   "source": [
    "#sessionfile.responsiveness"
   ]
  },
  {
   "cell_type": "code",
   "execution_count": null,
   "metadata": {},
   "outputs": [],
   "source": [
    "FRmod = []\n",
    "for i in range(len(clust_good)):\n",
    "    FRmod.append(sessionfile.responsiveness[clust_good[i]]['all_trials'].FRmodulation)\n",
    "    \n",
    "print(FRmod)"
   ]
  },
  {
   "cell_type": "code",
   "execution_count": null,
   "metadata": {},
   "outputs": [],
   "source": []
  },
  {
   "cell_type": "code",
   "execution_count": null,
   "metadata": {},
   "outputs": [],
   "source": [
    "sessionfile.responsiveness[2]"
   ]
  },
  {
   "cell_type": "code",
   "execution_count": null,
   "metadata": {},
   "outputs": [],
   "source": []
  },
  {
   "cell_type": "code",
   "execution_count": null,
   "metadata": {},
   "outputs": [],
   "source": []
  },
  {
   "cell_type": "code",
   "execution_count": null,
   "metadata": {},
   "outputs": [],
   "source": []
  },
  {
   "cell_type": "code",
   "execution_count": null,
   "metadata": {},
   "outputs": [],
   "source": []
  },
  {
   "cell_type": "code",
   "execution_count": null,
   "metadata": {},
   "outputs": [],
   "source": []
  },
  {
   "cell_type": "code",
   "execution_count": null,
   "metadata": {},
   "outputs": [],
   "source": []
  },
  {
   "cell_type": "code",
   "execution_count": null,
   "metadata": {},
   "outputs": [],
   "source": []
  },
  {
   "cell_type": "code",
   "execution_count": null,
   "metadata": {},
   "outputs": [],
   "source": []
  },
  {
   "cell_type": "code",
   "execution_count": null,
   "metadata": {},
   "outputs": [],
   "source": []
  },
  {
   "cell_type": "code",
   "execution_count": null,
   "metadata": {},
   "outputs": [],
   "source": []
  },
  {
   "cell_type": "code",
   "execution_count": null,
   "metadata": {},
   "outputs": [],
   "source": [
    "\n"
   ]
  },
  {
   "cell_type": "code",
   "execution_count": null,
   "metadata": {},
   "outputs": [],
   "source": []
  },
  {
   "cell_type": "code",
   "execution_count": null,
   "metadata": {},
   "outputs": [],
   "source": []
  },
  {
   "cell_type": "code",
   "execution_count": null,
   "metadata": {},
   "outputs": [],
   "source": []
  },
  {
   "cell_type": "code",
   "execution_count": null,
   "metadata": {},
   "outputs": [],
   "source": []
  },
  {
   "cell_type": "code",
   "execution_count": null,
   "metadata": {},
   "outputs": [],
   "source": []
  },
  {
   "cell_type": "code",
   "execution_count": null,
   "metadata": {},
   "outputs": [],
   "source": []
  },
  {
   "cell_type": "code",
   "execution_count": null,
   "metadata": {},
   "outputs": [],
   "source": []
  },
  {
   "cell_type": "code",
   "execution_count": null,
   "metadata": {},
   "outputs": [],
   "source": []
  },
  {
   "cell_type": "code",
   "execution_count": null,
   "metadata": {},
   "outputs": [],
   "source": []
  },
  {
   "cell_type": "code",
   "execution_count": null,
   "metadata": {},
   "outputs": [],
   "source": []
  },
  {
   "cell_type": "code",
   "execution_count": null,
   "metadata": {},
   "outputs": [],
   "source": []
  },
  {
   "cell_type": "code",
   "execution_count": null,
   "metadata": {},
   "outputs": [],
   "source": []
  },
  {
   "cell_type": "code",
   "execution_count": null,
   "metadata": {},
   "outputs": [],
   "source": []
  },
  {
   "cell_type": "code",
   "execution_count": null,
   "metadata": {},
   "outputs": [],
   "source": []
  },
  {
   "cell_type": "code",
   "execution_count": null,
   "metadata": {},
   "outputs": [],
   "source": []
  },
  {
   "cell_type": "code",
   "execution_count": null,
   "metadata": {},
   "outputs": [],
   "source": []
  },
  {
   "cell_type": "code",
   "execution_count": null,
   "metadata": {},
   "outputs": [],
   "source": []
  },
  {
   "cell_type": "code",
   "execution_count": null,
   "metadata": {},
   "outputs": [],
   "source": []
  },
  {
   "cell_type": "code",
   "execution_count": null,
   "metadata": {},
   "outputs": [],
   "source": []
  },
  {
   "cell_type": "code",
   "execution_count": null,
   "metadata": {},
   "outputs": [],
   "source": []
  },
  {
   "cell_type": "code",
   "execution_count": null,
   "metadata": {},
   "outputs": [],
   "source": []
  },
  {
   "cell_type": "code",
   "execution_count": null,
   "metadata": {},
   "outputs": [],
   "source": []
  },
  {
   "cell_type": "code",
   "execution_count": null,
   "metadata": {},
   "outputs": [],
   "source": []
  },
  {
   "cell_type": "code",
   "execution_count": null,
   "metadata": {},
   "outputs": [],
   "source": []
  },
  {
   "cell_type": "code",
   "execution_count": null,
   "metadata": {},
   "outputs": [],
   "source": []
  },
  {
   "cell_type": "code",
   "execution_count": null,
   "metadata": {},
   "outputs": [],
   "source": []
  },
  {
   "cell_type": "code",
   "execution_count": null,
   "metadata": {},
   "outputs": [],
   "source": []
  }
 ],
 "metadata": {
  "kernelspec": {
   "display_name": "Python 3",
   "language": "python",
   "name": "python3"
  },
  "language_info": {
   "codemirror_mode": {
    "name": "ipython",
    "version": 3
   },
   "file_extension": ".py",
   "mimetype": "text/x-python",
   "name": "python",
   "nbconvert_exporter": "python",
   "pygments_lexer": "ipython3",
   "version": "3.8.8"
  }
 },
 "nbformat": 4,
 "nbformat_minor": 4
}
