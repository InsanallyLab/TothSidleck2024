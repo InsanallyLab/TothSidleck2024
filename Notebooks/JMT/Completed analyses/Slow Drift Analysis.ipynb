{
 "cells": [
  {
   "cell_type": "code",
   "execution_count": 149,
   "id": "e10b9345-be3a-4658-be30-f370c90676ac",
   "metadata": {},
   "outputs": [],
   "source": [
    "import sys, os\n",
    "import json, pickle\n",
    "import matplotlib.pyplot as plt\n",
    "import matplotlib as mpl\n",
    "import numpy as np\n",
    "import pandas as pd\n",
    "import time as pytime\n",
    "import statsmodels.tsa.stattools as tsa\n",
    "import ruptures as rpt\n",
    "import InsanallyLabEphysTools as ilep\n",
    "from scipy.stats import gaussian_kde, sem, ttest_ind, ttest_rel, norm, mannwhitneyu, linregress, wilcoxon, pearsonr\n",
    "from tqdm import tqdm\n",
    "from types import SimpleNamespace\n",
    "from sklearn import linear_model\n",
    "from sklearn.model_selection import KFold\n",
    "from sklearn.decomposition import PCA\n",
    "from sklearn.linear_model import LinearRegression\n",
    "import seaborn as sns\n",
    "import traceback\n",
    "from itertools import product\n",
    "import colorsys\n",
    "import pingouin as pg\n",
    "\n",
    "plt.rcParams['legend.fontsize'] = 'small'\n",
    "plt.rcParams['axes.labelsize'] = 'medium'\n",
    "plt.rcParams['axes.formatter.limits'] = [-2,3]\n",
    "plt.rcParams['axes.formatter.use_mathtext'] = True\n",
    "plt.rcParams['axes.spines.top'] = False\n",
    "plt.rcParams['axes.spines.right'] = False\n",
    "plt.rcParams['xtick.direction'] = 'in'\n",
    "plt.rcParams['ytick.direction'] = 'in'\n",
    "plt.rcParams['figure.dpi'] = '150'\n",
    "\n",
    "#Set global font parameters\n",
    "plt.rcParams['font.family'] = 'sans-serif'\n",
    "plt.rcParams['font.sans-serif'] = 'Arial'\n",
    "#Set font type to TrueType for compatibility\n",
    "plt.rcParams['pdf.fonttype'] = 42\n",
    "plt.rcParams['ps.fonttype'] = 42\n",
    "\n",
    "TARGET_COLOR = '#ff3654'\n",
    "NONTARGET_COLOR = '#5776ff'\n",
    "\n",
    "CR_COLOR = '#808080'\n",
    "NCR_COLOR = '#FF767C'\n",
    "CNO_COLOR = '#00BFFF'\n",
    "GOOD_GREY = '#969696'\n",
    "GOOD_GREEN = '#32A852'\n",
    "SWITCH_COLOR = '#B07A3B'\n",
    "NCR_CR_cmap = mpl.colors.LinearSegmentedColormap.from_list('NCR-CR color map', [NCR_COLOR, CR_COLOR], N=1000)\n",
    "PHASE_COLORS = ['#DEB9E0','#B78AB9','#906D92','#ABC5E8','#869BB7','#5E6C80']\n",
    "\n",
    "stimrespdecodingfilename = 'D:\\\\stimdecoding_resp.csv'\n",
    "stim25sdecodingfilename = 'D:\\\\stimdecoding_25s.csv'\n",
    "stimbufferdecodingfilename = 'D:\\\\stimdecoding_25s_buffer.csv'\n",
    "stimnobufferdecodingfilename = 'D:\\\\stimdecoding_25s_nobuffer.csv'\n",
    "stimnotrimdecodingfilename = 'D:\\\\stimdecoding_25s_notrim.csv'\n",
    "choicedecodingfilename = 'D:\\\\choicedecoding.csv'\n",
    "\n",
    "#act_directory = 'D:\\\\Analysis_Cache_archived_Oct_27_2022'\n",
    "act_directory = 'D:\\\\Analysis_Cache'\n",
    "ops_directory = 'D:\\\\Opsin_Cache'\n",
    "beh_directory = 'P:\\\\Behavioor'"
   ]
  },
  {
   "cell_type": "code",
   "execution_count": null,
   "id": "309188bb-1289-4677-9df1-eb3fe1bd9d4e",
   "metadata": {},
   "outputs": [],
   "source": []
  },
  {
   "cell_type": "code",
   "execution_count": 76,
   "id": "b354573c-64ed-42f9-8cd4-7f79f981299f",
   "metadata": {},
   "outputs": [],
   "source": [
    "timescale = 15 #trials"
   ]
  },
  {
   "cell_type": "code",
   "execution_count": 127,
   "id": "aa9e345d-a9ff-488e-9ff4-913a74ca1710",
   "metadata": {},
   "outputs": [
    {
     "data": {
      "text/plain": [
       "namespace(directory='D:\\\\DualRecording\\\\BS_49\\\\BS_49 16\\\\M2\\\\',\n",
       "          region='M2',\n",
       "          animal='BS_49',\n",
       "          probe=7373,\n",
       "          date='9/22/2021',\n",
       "          depth=1300,\n",
       "          task='reversal',\n",
       "          day_of_training=16,\n",
       "          day_of_recording=15,\n",
       "          day_of_reversal=2,\n",
       "          length_in_samples=98418689.0,\n",
       "          files=['September 22 2021 Dual BS_49_16001',\n",
       "                 'September 22 2021 Dual BS_49_16002',\n",
       "                 'September 22 2021 Dual BS_49_16003',\n",
       "                 'September 22 2021 Dual BS_49_16004'],\n",
       "          behavior='naive',\n",
       "          condition='postreversal naive',\n",
       "          arraystart=0,\n",
       "          tonelength=0.1,\n",
       "          triallength=2.5,\n",
       "          lickdelayrelativetostart=0.2,\n",
       "          lickdelayrelativetotone=0.1,\n",
       "          fs=30000,\n",
       "          length_in_seconds=3280.622966666667,\n",
       "          length_in_minutes=54.67704944444445,\n",
       "          length_in_trials=538)"
      ]
     },
     "execution_count": 127,
     "metadata": {},
     "output_type": "execute_result"
    }
   ],
   "source": [
    "sessionfile = ilep.getRandomSession(act_directory)\n",
    "sessionfile.meta"
   ]
  },
  {
   "cell_type": "code",
   "execution_count": null,
   "id": "8d9a3507-6619-4268-90f0-b95e2980a391",
   "metadata": {},
   "outputs": [],
   "source": []
  },
  {
   "cell_type": "code",
   "execution_count": 128,
   "id": "85b9097a-7a22-4e93-9660-b1bb03239afe",
   "metadata": {},
   "outputs": [
    {
     "name": "stderr",
     "output_type": "stream",
     "text": [
      "2it [00:00,  6.33it/s]\n"
     ]
    }
   ],
   "source": [
    "num_bins = 25\n",
    "spike_counts = np.zeros((len(sessionfile.clusters.good),sessionfile.meta.length_in_trials,num_bins))\n",
    "\n",
    "for clust_idx,clust in tqdm(enumerate(sessionfile.clusters.good)):\n",
    "    spikes_clust = ilep.getSpikeTimes(sessionfile,clust=clust)\n",
    "    for trial_idx,trial in enumerate(range(sessionfile.meta.length_in_trials)):\n",
    "        spikes_trial = ilep.getSpikeTimes(sessionfile,starttime=sessionfile.trials.starts[trial],endtime=sessionfile.trials.starts[trial]+2.5*sessionfile.meta.fs,cachedtimes=spikes_clust)\n",
    "        bins = np.linspace(0,2.5,num_bins+1)\n",
    "        for bin_idx,(bin_start,bin_end) in enumerate(zip( bins[0:len(bins)],bins[1:len(bins+1)] )):\n",
    "            #print(f\"cluster {clust}, trial {trial}, bin from {bin_start} to {bin_end}\")\n",
    "            window_start = sessionfile.trials.starts[trial]+bin_start*sessionfile.meta.fs\n",
    "            window_end = sessionfile.trials.starts[trial]+bin_end*sessionfile.meta.fs\n",
    "            spikes = ilep.getSpikeTimes(sessionfile,starttime=window_start,endtime=window_end,cachedtimes=spikes_trial)\n",
    "            spike_counts[clust_idx,trial_idx,bin_idx] = len(spikes)"
   ]
  },
  {
   "cell_type": "code",
   "execution_count": 129,
   "id": "426470fc-ac7d-473b-a22e-d069b09942d1",
   "metadata": {},
   "outputs": [],
   "source": [
    "mean_counts_target = np.mean(spike_counts[:,sessionfile.trials.target,:],axis=1)\n",
    "mean_counts_nontarget = np.mean(spike_counts[:,np.logical_not(sessionfile.trials.target),:],axis=1)\n",
    "\n",
    "residual_spike_counts = np.copy(spike_counts)\n",
    "for trial_idx,trial in enumerate(range(sessionfile.meta.length_in_trials)):\n",
    "    if sessionfile.trials.target[trial]:\n",
    "        residual_spike_counts[:,trial_idx,:] -= mean_counts_target\n",
    "    else:\n",
    "        residual_spike_counts[:,trial_idx,:] -= mean_counts_nontarget"
   ]
  },
  {
   "cell_type": "code",
   "execution_count": null,
   "id": "7dfffe6b-613c-463b-a164-3de35eeb064b",
   "metadata": {},
   "outputs": [],
   "source": []
  },
  {
   "cell_type": "code",
   "execution_count": 130,
   "id": "b3aa1c1f-7444-486a-bd67-be539cafc63d",
   "metadata": {},
   "outputs": [],
   "source": [
    "outcomes = ilep.getOutcomesFromSession(sessionfile)\n",
    "window_length = 50    \n",
    "\n",
    "hits = np.equal(outcomes,1)\n",
    "misses = np.equal(outcomes,2)\n",
    "falarms = np.equal(outcomes,3)\n",
    "crejects = np.equal(outcomes,4)\n",
    "gos = np.logical_or(hits,falarms)\n",
    "nogos = np.logical_or(misses,crejects)\n",
    "\n",
    "#Determine lick rate over time\n",
    "number_windows = len(outcomes) - window_length + 1\n",
    "if number_windows <= 0:\n",
    "    raise Exception('No Windows')\n",
    "    \n",
    "lick_rates = np.full(number_windows,np.nan)\n",
    "neural_activity = np.full((len(sessionfile.clusters.good),number_windows),np.nan)\n",
    "for window_idx in range(number_windows):\n",
    "\n",
    "    window_trials = list(range(window_idx,window_idx+window_length))\n",
    "    \n",
    "    window_gos = gos[window_trials]\n",
    "    window_lick_rate = np.mean(window_gos)\n",
    "    lick_rates[window_idx] = window_lick_rate\n",
    "    \n",
    "    neural_activity[:,window_idx] = np.mean(residual_spike_counts[:,window_trials],axis=(1,2))"
   ]
  },
  {
   "cell_type": "code",
   "execution_count": 135,
   "id": "5254780f-17d8-45fd-b14e-d1ea255e0a53",
   "metadata": {},
   "outputs": [
    {
     "name": "stdout",
     "output_type": "stream",
     "text": [
      "[0.97256035]\n",
      "[7.20434517]\n",
      "-0.0018837791423673793\n",
      "0.0018346505394825842\n"
     ]
    },
    {
     "data": {
      "text/plain": [
       "[<matplotlib.lines.Line2D at 0x1c9109a1a30>]"
      ]
     },
     "execution_count": 135,
     "metadata": {},
     "output_type": "execute_result"
    },
    {
     "data": {
      "image/png": "[encoded data removed]",
      "text/plain": [
       "<Figure size 900x600 with 1 Axes>"
      ]
     },
     "metadata": {
      "needs_background": "light"
     },
     "output_type": "display_data"
    }
   ],
   "source": [
    "def normalize(X):\n",
    "    X = X - np.min(X)\n",
    "    X = X / np.max(X)\n",
    "    return X\n",
    "\n",
    "pca = PCA(n_components=1)\n",
    "pca.fit(neural_activity.T)\n",
    "print(pca.explained_variance_ratio_)\n",
    "print(pca.singular_values_)\n",
    "\n",
    "Y = normalize(lick_rates)\n",
    "X = np.array(range(len(Y)))\n",
    "X =  X.reshape(-1, 1)\n",
    "reg_lick = LinearRegression().fit(X,Y)\n",
    "plt.plot(X,Y)\n",
    "\n",
    "Y = normalize(pca.transform(neural_activity.T))\n",
    "X = np.array(range(len(Y)))\n",
    "X =  X.reshape(-1, 1)\n",
    "reg_act = LinearRegression().fit(X,Y)\n",
    "\n",
    "print(reg_lick.coef_[0])\n",
    "print(reg_act.coef_[0][0])\n",
    "\n",
    "if (reg_lick.coef_[0]>0) != (reg_act.coef_[0]>0):\n",
    "    Y = 1-Y\n",
    "plt.plot(X,Y)"
   ]
  },
  {
   "cell_type": "code",
   "execution_count": null,
   "id": "3946035e-fc71-4b05-9c07-84ed97a636f3",
   "metadata": {},
   "outputs": [],
   "source": []
  },
  {
   "cell_type": "code",
   "execution_count": null,
   "id": "3051e01a-82b5-403c-a046-8bf11a21e466",
   "metadata": {},
   "outputs": [],
   "source": []
  },
  {
   "cell_type": "code",
   "execution_count": null,
   "id": "98879ad4-92d4-4836-8e15-4529d8d4f65f",
   "metadata": {},
   "outputs": [],
   "source": []
  },
  {
   "cell_type": "code",
   "execution_count": null,
   "id": "0e89400c-7c47-49b3-bb32-df318e1f1729",
   "metadata": {},
   "outputs": [],
   "source": []
  },
  {
   "cell_type": "code",
   "execution_count": 198,
   "id": "d722a944-fe7a-4299-b2a9-611bf17a1dcc",
   "metadata": {},
   "outputs": [],
   "source": [
    "def normalize(X):\n",
    "    X = X - np.min(X)\n",
    "    X = X / np.max(X)\n",
    "    return X\n",
    "\n",
    "def getSlowDrift(sessionfile,window_length=50,active_threshold=0):\n",
    "    cells = []\n",
    "    for clust in sessionfile.clusters.good:\n",
    "        if len(sessionfile.trim[clust].trimmed_trials) >= active_threshold*sessionfile.meta.length_in_trials:\n",
    "            cells.append(clust)\n",
    "    if len(cells) < 5:\n",
    "        return None,None,None,None\n",
    "    \n",
    "    #Calculate spike counts\n",
    "    num_bins = 25\n",
    "    spike_counts = np.zeros((len(cells),sessionfile.meta.length_in_trials,num_bins))\n",
    "\n",
    "    for clust_idx,clust in tqdm(enumerate(cells)):\n",
    "        spikes_clust = ilep.getSpikeTimes(sessionfile,clust=clust)\n",
    "        for trial_idx,trial in enumerate(range(sessionfile.meta.length_in_trials)):\n",
    "            spikes_trial = ilep.getSpikeTimes(sessionfile,starttime=sessionfile.trials.starts[trial],endtime=sessionfile.trials.starts[trial]+2.5*sessionfile.meta.fs,cachedtimes=spikes_clust)\n",
    "            bins = np.linspace(0,2.5,num_bins+1)\n",
    "            for bin_idx,(bin_start,bin_end) in enumerate(zip( bins[0:len(bins)],bins[1:len(bins+1)] )):\n",
    "                #print(f\"cluster {clust}, trial {trial}, bin from {bin_start} to {bin_end}\")\n",
    "                window_start = sessionfile.trials.starts[trial]+bin_start*sessionfile.meta.fs\n",
    "                window_end = sessionfile.trials.starts[trial]+bin_end*sessionfile.meta.fs\n",
    "                spikes = ilep.getSpikeTimes(sessionfile,starttime=window_start,endtime=window_end,cachedtimes=spikes_trial)\n",
    "                spike_counts[clust_idx,trial_idx,bin_idx] = len(spikes)\n",
    "                \n",
    "    #Calculate residuals\n",
    "    mean_counts_target = np.mean(spike_counts[:,sessionfile.trials.target,:],axis=1)\n",
    "    mean_counts_nontarget = np.mean(spike_counts[:,np.logical_not(sessionfile.trials.target),:],axis=1)\n",
    "\n",
    "    residual_spike_counts = np.copy(spike_counts)\n",
    "    for trial_idx,trial in enumerate(range(sessionfile.meta.length_in_trials)):\n",
    "        if sessionfile.trials.target[trial]:\n",
    "            residual_spike_counts[:,trial_idx,:] -= mean_counts_target\n",
    "        else:\n",
    "            residual_spike_counts[:,trial_idx,:] -= mean_counts_nontarget\n",
    "            \n",
    "    #Get windowed lick rate and activity\n",
    "    outcomes = ilep.getOutcomesFromSession(sessionfile)\n",
    "    window_length = 50    \n",
    "\n",
    "    hits = np.equal(outcomes,1)\n",
    "    misses = np.equal(outcomes,2)\n",
    "    falarms = np.equal(outcomes,3)\n",
    "    crejects = np.equal(outcomes,4)\n",
    "    gos = np.logical_or(hits,falarms)\n",
    "    nogos = np.logical_or(misses,crejects)\n",
    "\n",
    "    #Determine lick rate over time\n",
    "    number_windows = len(outcomes) - window_length + 1\n",
    "    if number_windows <= 0:\n",
    "        raise Exception('No Windows')\n",
    "\n",
    "    lick_rates = np.full(number_windows,np.nan)\n",
    "    neural_activity = np.full((len(cells),number_windows),np.nan)\n",
    "    for window_idx in range(number_windows):\n",
    "\n",
    "        window_trials = list(range(window_idx,window_idx+window_length))\n",
    "\n",
    "        window_gos = gos[window_trials]\n",
    "        window_lick_rate = np.mean(window_gos)\n",
    "        lick_rates[window_idx] = window_lick_rate\n",
    "\n",
    "        neural_activity[:,window_idx] = np.mean(residual_spike_counts[:,window_trials],axis=(1,2))\n",
    "        \n",
    "    #Get drift\n",
    "    pca = PCA(n_components=1)\n",
    "    pca.fit(neural_activity.T)\n",
    "    print(pca.explained_variance_ratio_)\n",
    "    print(pca.singular_values_)\n",
    "\n",
    "    Y = normalize(lick_rates)\n",
    "    X = np.array(range(len(Y)))\n",
    "    X =  X.reshape(-1, 1)\n",
    "    reg_lick = LinearRegression().fit(X,Y)\n",
    "    behavior_drift = np.copy(Y)\n",
    "\n",
    "    Y = normalize(pca.transform(neural_activity.T))\n",
    "    X = np.array(range(len(Y)))\n",
    "    X =  X.reshape(-1, 1)\n",
    "    reg_act = LinearRegression().fit(X,Y)\n",
    "\n",
    "    print(reg_lick.coef_[0])\n",
    "    print(reg_act.coef_[0][0])\n",
    "\n",
    "    if (reg_lick.coef_[0]>0) != (reg_act.coef_[0]>0):\n",
    "        Y = 1-Y\n",
    "    activity_drift = np.copy(Y)\n",
    "    \n",
    "    #Get R^2\n",
    "    r2,_ = pearsonr(behavior_drift,activity_drift)\n",
    "    \n",
    "    return behavior_drift,activity_drift,r2,cells"
   ]
  },
  {
   "cell_type": "code",
   "execution_count": null,
   "id": "289e9038-c1cc-46ce-b0df-342251c150b8",
   "metadata": {},
   "outputs": [],
   "source": []
  },
  {
   "cell_type": "code",
   "execution_count": 199,
   "id": "2cd3fd9a-f55b-4669-abd5-62668a1defa5",
   "metadata": {},
   "outputs": [
    {
     "name": "stderr",
     "output_type": "stream",
     "text": [
      "6it [00:00,  8.24it/s]\n"
     ]
    },
    {
     "name": "stdout",
     "output_type": "stream",
     "text": [
      "[0.67937738]\n",
      "[10.33174756]\n",
      "-0.0016621540416932401\n",
      "-0.001877473877211832\n"
     ]
    },
    {
     "name": "stderr",
     "output_type": "stream",
     "text": [
      "31it [00:03,  9.39it/s]\n"
     ]
    },
    {
     "name": "stdout",
     "output_type": "stream",
     "text": [
      "[0.56097556]\n",
      "[14.46318319]\n",
      "-0.002885911137049192\n",
      "-0.002375014729798977\n"
     ]
    },
    {
     "name": "stderr",
     "output_type": "stream",
     "text": [
      "22it [00:02,  9.44it/s]\n"
     ]
    },
    {
     "name": "stdout",
     "output_type": "stream",
     "text": [
      "[0.56149347]\n",
      "[12.15620419]\n",
      "-0.002130629497778002\n",
      "0.00196436870974535\n"
     ]
    },
    {
     "name": "stderr",
     "output_type": "stream",
     "text": [
      "17it [00:02,  6.62it/s]\n"
     ]
    },
    {
     "name": "stdout",
     "output_type": "stream",
     "text": [
      "[0.89033413]\n",
      "[42.9096061]\n",
      "-0.0018628657185816775\n",
      "0.002085922633612918\n"
     ]
    },
    {
     "name": "stderr",
     "output_type": "stream",
     "text": [
      "19it [00:02,  9.11it/s]\n"
     ]
    },
    {
     "name": "stdout",
     "output_type": "stream",
     "text": [
      "[0.70635897]\n",
      "[15.7501366]\n",
      "-0.0018614303998873872\n",
      "-0.0023783532817227755\n"
     ]
    },
    {
     "name": "stderr",
     "output_type": "stream",
     "text": [
      "23it [00:03,  7.17it/s]\n"
     ]
    },
    {
     "name": "stdout",
     "output_type": "stream",
     "text": [
      "[0.64099578]\n",
      "[62.83024071]\n",
      "-0.00233216794159568\n",
      "0.002465965711164712\n"
     ]
    },
    {
     "name": "stderr",
     "output_type": "stream",
     "text": [
      "12it [00:01, 10.96it/s]\n"
     ]
    },
    {
     "name": "stdout",
     "output_type": "stream",
     "text": [
      "[0.74737916]\n",
      "[19.82643876]\n",
      "-0.003013532631274097\n",
      "-0.0032520584239860285\n"
     ]
    },
    {
     "name": "stderr",
     "output_type": "stream",
     "text": [
      "11it [00:01, 10.17it/s]\n"
     ]
    },
    {
     "name": "stdout",
     "output_type": "stream",
     "text": [
      "[0.74657238]\n",
      "[18.41142281]\n",
      "-0.0024587733858571444\n",
      "-0.0030854106326747865\n"
     ]
    },
    {
     "name": "stderr",
     "output_type": "stream",
     "text": [
      "6it [00:00,  7.27it/s]\n"
     ]
    },
    {
     "name": "stdout",
     "output_type": "stream",
     "text": [
      "[0.78672047]\n",
      "[9.9085585]\n",
      "-0.001637534555895867\n",
      "-0.0004684278671905923\n"
     ]
    },
    {
     "name": "stderr",
     "output_type": "stream",
     "text": [
      "13it [00:01,  8.38it/s]\n"
     ]
    },
    {
     "name": "stdout",
     "output_type": "stream",
     "text": [
      "[0.48955426]\n",
      "[5.40315691]\n",
      "-0.001711793312241952\n",
      "-0.00017709992192646554\n"
     ]
    },
    {
     "name": "stderr",
     "output_type": "stream",
     "text": [
      "12it [00:01,  9.45it/s]\n"
     ]
    },
    {
     "name": "stdout",
     "output_type": "stream",
     "text": [
      "[0.51156325]\n",
      "[9.30077275]\n",
      "-0.002843870704852172\n",
      "0.0026574124877672667\n"
     ]
    },
    {
     "name": "stderr",
     "output_type": "stream",
     "text": [
      "5it [00:00,  8.43it/s]\n"
     ]
    },
    {
     "name": "stdout",
     "output_type": "stream",
     "text": [
      "[0.8661757]\n",
      "[19.40436503]\n",
      "-0.0019808256536211623\n",
      "-0.0022000711311778187\n"
     ]
    },
    {
     "name": "stderr",
     "output_type": "stream",
     "text": [
      "55it [00:05, 10.46it/s]\n"
     ]
    },
    {
     "name": "stdout",
     "output_type": "stream",
     "text": [
      "[0.51670713]\n",
      "[22.65371026]\n",
      "-0.0022636357085071266\n",
      "-0.0031888795121107535\n"
     ]
    },
    {
     "name": "stderr",
     "output_type": "stream",
     "text": [
      "29it [00:03,  9.62it/s]\n"
     ]
    },
    {
     "name": "stdout",
     "output_type": "stream",
     "text": [
      "[0.51006941]\n",
      "[10.61583088]\n",
      "-0.0021722728254926224\n",
      "0.0023141699071731704\n"
     ]
    },
    {
     "name": "stderr",
     "output_type": "stream",
     "text": [
      "8it [00:00,  8.06it/s]\n"
     ]
    },
    {
     "name": "stdout",
     "output_type": "stream",
     "text": [
      "[0.8963086]\n",
      "[27.51888103]\n",
      "-0.0017349264027542704\n",
      "-0.001471790714270947\n"
     ]
    },
    {
     "name": "stderr",
     "output_type": "stream",
     "text": [
      "10it [00:01,  6.62it/s]\n"
     ]
    },
    {
     "name": "stdout",
     "output_type": "stream",
     "text": [
      "[0.5250117]\n",
      "[10.28421985]\n",
      "-0.0017717004762912356\n",
      "-0.0007647011177869768\n"
     ]
    },
    {
     "name": "stderr",
     "output_type": "stream",
     "text": [
      "8it [00:00,  8.51it/s]\n"
     ]
    },
    {
     "name": "stdout",
     "output_type": "stream",
     "text": [
      "[0.85113188]\n",
      "[5.89625896]\n",
      "-0.0005023091751783637\n",
      "0.0008487668215414925\n"
     ]
    },
    {
     "name": "stderr",
     "output_type": "stream",
     "text": [
      "16it [00:02,  7.86it/s]\n"
     ]
    },
    {
     "name": "stdout",
     "output_type": "stream",
     "text": [
      "[0.771742]\n",
      "[16.1640367]\n",
      "-0.0017380161463068037\n",
      "-0.0020935201056303736\n"
     ]
    },
    {
     "name": "stderr",
     "output_type": "stream",
     "text": [
      "38it [00:03, 11.00it/s]\n"
     ]
    },
    {
     "name": "stdout",
     "output_type": "stream",
     "text": [
      "[0.67374976]\n",
      "[57.54646933]\n",
      "-0.002731461892516765\n",
      "-0.0029027797124806676\n"
     ]
    },
    {
     "name": "stderr",
     "output_type": "stream",
     "text": [
      "10it [00:00, 11.01it/s]\n"
     ]
    },
    {
     "name": "stdout",
     "output_type": "stream",
     "text": [
      "[0.73981898]\n",
      "[8.67218887]\n",
      "0.00015328607871080297\n",
      "0.0011240784984880917\n"
     ]
    },
    {
     "name": "stderr",
     "output_type": "stream",
     "text": [
      "29it [00:03,  7.41it/s]\n"
     ]
    },
    {
     "name": "stdout",
     "output_type": "stream",
     "text": [
      "[0.57389799]\n",
      "[24.60127961]\n",
      "-0.0019885280473858104\n",
      "-0.002261693093823623\n"
     ]
    },
    {
     "name": "stderr",
     "output_type": "stream",
     "text": [
      "9it [00:01,  8.02it/s]\n"
     ]
    },
    {
     "name": "stdout",
     "output_type": "stream",
     "text": [
      "[0.75716594]\n",
      "[17.13504638]\n",
      "-0.0020857941082818732\n",
      "-0.0018950608692443213\n"
     ]
    },
    {
     "name": "stderr",
     "output_type": "stream",
     "text": [
      "5it [00:00,  6.79it/s]\n"
     ]
    },
    {
     "name": "stdout",
     "output_type": "stream",
     "text": [
      "[0.55724678]\n",
      "[3.91513486]\n",
      "-0.0014990614672891758\n",
      "8.247596467632814e-05\n"
     ]
    },
    {
     "name": "stderr",
     "output_type": "stream",
     "text": [
      "16it [00:02,  6.89it/s]\n"
     ]
    },
    {
     "name": "stdout",
     "output_type": "stream",
     "text": [
      "[0.76756569]\n",
      "[20.96175586]\n",
      "-0.0013912825313417308\n",
      "-0.0018372155227838374\n"
     ]
    },
    {
     "name": "stderr",
     "output_type": "stream",
     "text": [
      "20it [00:02,  7.86it/s]\n"
     ]
    },
    {
     "name": "stdout",
     "output_type": "stream",
     "text": [
      "[0.54659492]\n",
      "[22.4549374]\n",
      "-0.00039930112696139037\n",
      "-0.0015205002636926475\n"
     ]
    },
    {
     "name": "stderr",
     "output_type": "stream",
     "text": [
      "13it [00:01,  6.69it/s]\n"
     ]
    },
    {
     "name": "stdout",
     "output_type": "stream",
     "text": [
      "[0.74439086]\n",
      "[13.32124326]\n",
      "-0.0012233872022398807\n",
      "-0.00041179752994468594\n"
     ]
    },
    {
     "name": "stderr",
     "output_type": "stream",
     "text": [
      "9it [00:01,  8.09it/s]\n"
     ]
    },
    {
     "name": "stdout",
     "output_type": "stream",
     "text": [
      "[0.47135865]\n",
      "[7.90025309]\n",
      "-0.0021460182272147886\n",
      "0.0012753046822420698\n"
     ]
    },
    {
     "name": "stderr",
     "output_type": "stream",
     "text": [
      "18it [00:02,  8.55it/s]\n"
     ]
    },
    {
     "name": "stdout",
     "output_type": "stream",
     "text": [
      "[0.71710641]\n",
      "[8.51439983]\n",
      "6.797088083511515e-05\n",
      "-0.002618675790959429\n"
     ]
    },
    {
     "name": "stderr",
     "output_type": "stream",
     "text": [
      "39it [00:04,  8.00it/s]\n"
     ]
    },
    {
     "name": "stdout",
     "output_type": "stream",
     "text": [
      "[0.65133236]\n",
      "[23.53407479]\n",
      "-0.0010285748338845681\n",
      "-0.002007929837394408\n"
     ]
    },
    {
     "name": "stderr",
     "output_type": "stream",
     "text": [
      "30it [00:04,  6.71it/s]\n"
     ]
    },
    {
     "name": "stdout",
     "output_type": "stream",
     "text": [
      "[0.47805706]\n",
      "[19.4126786]\n",
      "-0.0008801880672787321\n",
      "-0.0015235577748846723\n"
     ]
    },
    {
     "name": "stderr",
     "output_type": "stream",
     "text": [
      "30it [00:04,  6.37it/s]\n"
     ]
    },
    {
     "name": "stdout",
     "output_type": "stream",
     "text": [
      "[0.49308914]\n",
      "[22.73349774]\n",
      "-0.001886797536626634\n",
      "-0.001627919870495801\n"
     ]
    },
    {
     "name": "stderr",
     "output_type": "stream",
     "text": [
      "13it [00:01,  8.11it/s]\n"
     ]
    },
    {
     "name": "stdout",
     "output_type": "stream",
     "text": [
      "[0.45668788]\n",
      "[8.3787779]\n",
      "-0.0014604785897684653\n",
      "0.0011208354006794145\n"
     ]
    },
    {
     "name": "stderr",
     "output_type": "stream",
     "text": [
      "26it [00:03,  6.85it/s]\n"
     ]
    },
    {
     "name": "stdout",
     "output_type": "stream",
     "text": [
      "[0.71018802]\n",
      "[19.78168589]\n",
      "-0.0012110078334038724\n",
      "-0.002059266584924095\n"
     ]
    },
    {
     "name": "stderr",
     "output_type": "stream",
     "text": [
      "31it [00:04,  6.69it/s]\n"
     ]
    },
    {
     "name": "stdout",
     "output_type": "stream",
     "text": [
      "[0.41585975]\n",
      "[9.75001938]\n",
      "-0.0011135979059911827\n",
      "-0.0014715086443622568\n"
     ]
    },
    {
     "name": "stderr",
     "output_type": "stream",
     "text": [
      "6it [00:00,  8.10it/s]\n"
     ]
    },
    {
     "name": "stdout",
     "output_type": "stream",
     "text": [
      "[0.57192692]\n",
      "[21.00046638]\n",
      "-0.0022846396486718664\n",
      "-0.0002690421716175512\n"
     ]
    },
    {
     "name": "stderr",
     "output_type": "stream",
     "text": [
      "52it [00:04, 11.07it/s]\n"
     ]
    },
    {
     "name": "stdout",
     "output_type": "stream",
     "text": [
      "[0.50771674]\n",
      "[21.37873012]\n",
      "-0.0028702817772679125\n",
      "-0.0036200500414004743\n"
     ]
    },
    {
     "name": "stderr",
     "output_type": "stream",
     "text": [
      "31it [00:03,  9.66it/s]\n"
     ]
    },
    {
     "name": "stdout",
     "output_type": "stream",
     "text": [
      "[0.58341248]\n",
      "[28.77835308]\n",
      "-0.0018506197161939416\n",
      "0.0027097457763411398\n"
     ]
    },
    {
     "name": "stderr",
     "output_type": "stream",
     "text": [
      "27it [00:01, 23.26it/s]\n"
     ]
    },
    {
     "name": "stdout",
     "output_type": "stream",
     "text": [
      "[0.88120333]\n",
      "[7.38574679]\n",
      "-0.0016475729414637133\n",
      "0.008012292458316722\n"
     ]
    },
    {
     "name": "stderr",
     "output_type": "stream",
     "text": [
      "5it [00:00, 18.68it/s]\n"
     ]
    },
    {
     "name": "stdout",
     "output_type": "stream",
     "text": [
      "[0.79181674]\n",
      "[4.61020657]\n",
      "0.00021534149663433313\n",
      "-0.004339361468140267\n"
     ]
    },
    {
     "name": "stderr",
     "output_type": "stream",
     "text": [
      "15it [00:00, 15.09it/s]\n"
     ]
    },
    {
     "name": "stdout",
     "output_type": "stream",
     "text": [
      "[0.67072595]\n",
      "[17.18712944]\n",
      "-0.0053909808761262576\n",
      "-0.003530563552382908\n"
     ]
    },
    {
     "name": "stderr",
     "output_type": "stream",
     "text": [
      "21it [00:00, 32.03it/s]\n"
     ]
    },
    {
     "name": "stdout",
     "output_type": "stream",
     "text": [
      "[0.79841223]\n",
      "[4.00497879]\n",
      "-0.013463246724405955\n",
      "0.012147435037909219\n"
     ]
    },
    {
     "name": "stderr",
     "output_type": "stream",
     "text": [
      "12it [00:01, 11.67it/s]\n"
     ]
    },
    {
     "name": "stdout",
     "output_type": "stream",
     "text": [
      "[0.78917754]\n",
      "[11.13039095]\n",
      "-0.0035365680617929275\n",
      "-0.0029991243967373723\n"
     ]
    },
    {
     "name": "stderr",
     "output_type": "stream",
     "text": [
      "6it [00:00,  7.12it/s]\n"
     ]
    },
    {
     "name": "stdout",
     "output_type": "stream",
     "text": [
      "[0.94611377]\n",
      "[16.25558549]\n",
      "-0.0014630070848558052\n",
      "-0.0015778196871918913\n"
     ]
    },
    {
     "name": "stderr",
     "output_type": "stream",
     "text": [
      "10it [00:01,  8.28it/s]\n"
     ]
    },
    {
     "name": "stdout",
     "output_type": "stream",
     "text": [
      "[0.66911418]\n",
      "[31.4541218]\n",
      "-0.0018534693268230898\n",
      "-0.002118795242957721\n"
     ]
    },
    {
     "name": "stderr",
     "output_type": "stream",
     "text": [
      "8it [00:00,  8.70it/s]\n"
     ]
    },
    {
     "name": "stdout",
     "output_type": "stream",
     "text": [
      "[0.85747896]\n",
      "[13.74689546]\n",
      "-0.0020127491722486666\n",
      "-0.0016471759678619107\n"
     ]
    },
    {
     "name": "stderr",
     "output_type": "stream",
     "text": [
      "7it [00:01,  5.74it/s]\n"
     ]
    },
    {
     "name": "stdout",
     "output_type": "stream",
     "text": [
      "[0.52595324]\n",
      "[15.03188969]\n",
      "-9.52322959051634e-05\n",
      "0.00010746032295093043\n"
     ]
    },
    {
     "name": "stderr",
     "output_type": "stream",
     "text": [
      "11it [00:01,  7.81it/s]\n"
     ]
    },
    {
     "name": "stdout",
     "output_type": "stream",
     "text": [
      "[0.82328697]\n",
      "[8.97493611]\n",
      "-0.0021514076760158294\n",
      "-0.0013584520609797807\n"
     ]
    },
    {
     "name": "stderr",
     "output_type": "stream",
     "text": [
      "9it [00:00,  9.07it/s]\n"
     ]
    },
    {
     "name": "stdout",
     "output_type": "stream",
     "text": [
      "[0.86814861]\n",
      "[16.44283073]\n",
      "-0.0029127265652282167\n",
      "-0.0028387330593616926\n"
     ]
    },
    {
     "name": "stderr",
     "output_type": "stream",
     "text": [
      "9it [00:00, 10.32it/s]\n"
     ]
    },
    {
     "name": "stdout",
     "output_type": "stream",
     "text": [
      "[0.74296492]\n",
      "[12.64908438]\n",
      "-0.0030754978815123167\n",
      "-0.002554084573932824\n"
     ]
    },
    {
     "name": "stderr",
     "output_type": "stream",
     "text": [
      "5it [00:00,  8.23it/s]\n"
     ]
    },
    {
     "name": "stdout",
     "output_type": "stream",
     "text": [
      "[0.82221061]\n",
      "[15.00984938]\n",
      "-0.002083697724213244\n",
      "-0.0020200534392480927\n"
     ]
    },
    {
     "name": "stderr",
     "output_type": "stream",
     "text": [
      "27it [00:03,  7.37it/s]\n"
     ]
    },
    {
     "name": "stdout",
     "output_type": "stream",
     "text": [
      "[0.55787357]\n",
      "[19.98123591]\n",
      "-0.0013268165805213783\n",
      "-0.0021622733212695914\n"
     ]
    },
    {
     "name": "stderr",
     "output_type": "stream",
     "text": [
      "14it [00:01, 10.78it/s]\n"
     ]
    },
    {
     "name": "stdout",
     "output_type": "stream",
     "text": [
      "[0.79279434]\n",
      "[10.29710741]\n",
      "-0.003523828777037219\n",
      "-0.0019423038768883983\n"
     ]
    },
    {
     "name": "stderr",
     "output_type": "stream",
     "text": [
      "8it [00:00, 10.36it/s]\n"
     ]
    },
    {
     "name": "stdout",
     "output_type": "stream",
     "text": [
      "[0.754148]\n",
      "[13.92497501]\n",
      "-0.003130282166005115\n",
      "-0.0035615266289830303\n"
     ]
    },
    {
     "name": "stderr",
     "output_type": "stream",
     "text": [
      "15it [00:01,  8.04it/s]\n"
     ]
    },
    {
     "name": "stdout",
     "output_type": "stream",
     "text": [
      "[0.83564567]\n",
      "[19.26775966]\n",
      "-0.0028820455425139888\n",
      "-0.001637002450788602\n"
     ]
    },
    {
     "name": "stderr",
     "output_type": "stream",
     "text": [
      "16it [00:01,  8.16it/s]\n"
     ]
    },
    {
     "name": "stdout",
     "output_type": "stream",
     "text": [
      "[0.65675233]\n",
      "[9.19227989]\n",
      "-0.0017468372583895068\n",
      "-0.0020614951560270958\n"
     ]
    },
    {
     "name": "stderr",
     "output_type": "stream",
     "text": [
      "7it [00:00, 14.00it/s]\n"
     ]
    },
    {
     "name": "stdout",
     "output_type": "stream",
     "text": [
      "[0.93300372]\n",
      "[18.78995515]\n",
      "-0.00407391890608128\n",
      "0.0034946498786450307\n"
     ]
    },
    {
     "name": "stderr",
     "output_type": "stream",
     "text": [
      "19it [00:02,  7.22it/s]\n"
     ]
    },
    {
     "name": "stdout",
     "output_type": "stream",
     "text": [
      "[0.76577416]\n",
      "[22.23265636]\n",
      "-0.0015367151477044603\n",
      "0.0019118102378062648\n"
     ]
    },
    {
     "name": "stderr",
     "output_type": "stream",
     "text": [
      "12it [00:01, 10.28it/s]\n"
     ]
    },
    {
     "name": "stdout",
     "output_type": "stream",
     "text": [
      "[0.84472393]\n",
      "[22.54714903]\n",
      "-0.0024280481423338564\n",
      "0.003009414599102972\n"
     ]
    },
    {
     "name": "stderr",
     "output_type": "stream",
     "text": [
      "12it [00:01,  6.74it/s]\n"
     ]
    },
    {
     "name": "stdout",
     "output_type": "stream",
     "text": [
      "[0.73527072]\n",
      "[17.52640861]\n",
      "0.0002593135793999477\n",
      "-0.0015002142203173713\n"
     ]
    },
    {
     "name": "stderr",
     "output_type": "stream",
     "text": [
      "25it [00:02, 10.40it/s]\n"
     ]
    },
    {
     "name": "stdout",
     "output_type": "stream",
     "text": [
      "[0.83724508]\n",
      "[25.41661873]\n",
      "-0.0034186947117185538\n",
      "-0.003590513479543143\n"
     ]
    },
    {
     "name": "stderr",
     "output_type": "stream",
     "text": [
      "15it [00:01,  7.90it/s]\n"
     ]
    },
    {
     "name": "stdout",
     "output_type": "stream",
     "text": [
      "[0.61613084]\n",
      "[15.73101188]\n",
      "-0.0016201763557688442\n",
      "-0.0025023225440924746\n"
     ]
    },
    {
     "name": "stderr",
     "output_type": "stream",
     "text": [
      "23it [00:02,  8.09it/s]\n"
     ]
    },
    {
     "name": "stdout",
     "output_type": "stream",
     "text": [
      "[0.68325205]\n",
      "[15.4637986]\n",
      "-0.0023386610910893246\n",
      "0.002316845338366102\n"
     ]
    },
    {
     "name": "stderr",
     "output_type": "stream",
     "text": [
      "8it [00:00, 10.62it/s]\n"
     ]
    },
    {
     "name": "stdout",
     "output_type": "stream",
     "text": [
      "[0.9385187]\n",
      "[17.30350589]\n",
      "-0.0022781943322549188\n",
      "-0.003476276141239265\n"
     ]
    },
    {
     "name": "stderr",
     "output_type": "stream",
     "text": [
      "10it [00:00, 20.57it/s]\n"
     ]
    },
    {
     "name": "stdout",
     "output_type": "stream",
     "text": [
      "[0.79878378]\n",
      "[5.73684289]\n",
      "-0.00513311230370346\n",
      "-0.005870420815307711\n"
     ]
    },
    {
     "name": "stderr",
     "output_type": "stream",
     "text": [
      "5it [00:00,  7.80it/s]\n"
     ]
    },
    {
     "name": "stdout",
     "output_type": "stream",
     "text": [
      "[0.71545419]\n",
      "[4.35356763]\n",
      "-0.0013526498239044434\n",
      "-0.0022946426941925654\n"
     ]
    },
    {
     "name": "stderr",
     "output_type": "stream",
     "text": [
      "8it [00:00,  8.04it/s]\n"
     ]
    },
    {
     "name": "stdout",
     "output_type": "stream",
     "text": [
      "[0.64923148]\n",
      "[14.18621242]\n",
      "-0.0017253686049297908\n",
      "0.0006730696768801501\n"
     ]
    },
    {
     "name": "stderr",
     "output_type": "stream",
     "text": [
      "40it [00:04,  9.56it/s]\n"
     ]
    },
    {
     "name": "stdout",
     "output_type": "stream",
     "text": [
      "[0.58667481]\n",
      "[19.65295813]\n",
      "-0.002618400389860405\n",
      "0.0028021206112009093\n"
     ]
    },
    {
     "name": "stderr",
     "output_type": "stream",
     "text": [
      "29it [00:02,  9.87it/s]\n"
     ]
    },
    {
     "name": "stdout",
     "output_type": "stream",
     "text": [
      "[0.53944099]\n",
      "[12.23277095]\n",
      "-0.0028180406705200518\n",
      "0.0028002424544735696\n"
     ]
    },
    {
     "name": "stderr",
     "output_type": "stream",
     "text": [
      "16it [00:01, 10.23it/s]\n"
     ]
    },
    {
     "name": "stdout",
     "output_type": "stream",
     "text": [
      "[0.65159884]\n",
      "[9.27686306]\n",
      "-0.003254228913311805\n",
      "-0.0015156639766108959\n"
     ]
    },
    {
     "name": "stderr",
     "output_type": "stream",
     "text": [
      "9it [00:00, 10.57it/s]\n"
     ]
    },
    {
     "name": "stdout",
     "output_type": "stream",
     "text": [
      "[0.67260946]\n",
      "[4.93592183]\n",
      "-0.001572545595168194\n",
      "-0.00203577199390213\n"
     ]
    },
    {
     "name": "stderr",
     "output_type": "stream",
     "text": [
      "28it [00:03,  8.31it/s]\n"
     ]
    },
    {
     "name": "stdout",
     "output_type": "stream",
     "text": [
      "[0.68867763]\n",
      "[26.18525804]\n",
      "-0.0007741341078308839\n",
      "-0.002377198803283196\n"
     ]
    },
    {
     "name": "stderr",
     "output_type": "stream",
     "text": [
      "15it [00:02,  7.27it/s]\n"
     ]
    },
    {
     "name": "stdout",
     "output_type": "stream",
     "text": [
      "[0.64858893]\n",
      "[20.38800947]\n",
      "-0.0013706693168819698\n",
      "0.0024747073944763514\n"
     ]
    },
    {
     "name": "stderr",
     "output_type": "stream",
     "text": [
      "21it [00:03,  5.82it/s]\n"
     ]
    },
    {
     "name": "stdout",
     "output_type": "stream",
     "text": [
      "[0.61389965]\n",
      "[18.17547645]\n",
      "-0.0019345007296542832\n",
      "-0.0013851401992239065\n"
     ]
    },
    {
     "name": "stderr",
     "output_type": "stream",
     "text": [
      "7it [00:00,  7.62it/s]\n"
     ]
    },
    {
     "name": "stdout",
     "output_type": "stream",
     "text": [
      "[0.72656998]\n",
      "[6.64965167]\n",
      "-0.002019746116608151\n",
      "-0.0019414428238144757\n"
     ]
    },
    {
     "name": "stderr",
     "output_type": "stream",
     "text": [
      "16it [00:02,  6.58it/s]\n"
     ]
    },
    {
     "name": "stdout",
     "output_type": "stream",
     "text": [
      "[0.79575273]\n",
      "[27.05688209]\n",
      "-0.0020752224805647263\n",
      "-0.0019282293073752108\n"
     ]
    },
    {
     "name": "stderr",
     "output_type": "stream",
     "text": [
      "33it [00:03,  8.55it/s]\n"
     ]
    },
    {
     "name": "stdout",
     "output_type": "stream",
     "text": [
      "[0.66050321]\n",
      "[21.03931544]\n",
      "-0.0025130403002204334\n",
      "-0.0028620192987365155\n"
     ]
    },
    {
     "name": "stderr",
     "output_type": "stream",
     "text": [
      "25it [00:03,  7.29it/s]\n"
     ]
    },
    {
     "name": "stdout",
     "output_type": "stream",
     "text": [
      "[0.74843414]\n",
      "[30.56920633]\n",
      "-0.0015209138699062777\n",
      "0.0020698231092046338\n"
     ]
    },
    {
     "name": "stderr",
     "output_type": "stream",
     "text": [
      "6it [00:00,  8.11it/s]\n"
     ]
    },
    {
     "name": "stdout",
     "output_type": "stream",
     "text": [
      "[0.70247332]\n",
      "[4.74898345]\n",
      "-0.0017637680980367497\n",
      "-0.002030756299144112\n"
     ]
    },
    {
     "name": "stderr",
     "output_type": "stream",
     "text": [
      "14it [00:01, 13.50it/s]\n"
     ]
    },
    {
     "name": "stdout",
     "output_type": "stream",
     "text": [
      "[0.56491086]\n",
      "[6.81290277]\n",
      "-0.002649754722606175\n",
      "0.004791613850008137\n"
     ]
    },
    {
     "name": "stderr",
     "output_type": "stream",
     "text": [
      "17it [00:01, 12.81it/s]\n"
     ]
    },
    {
     "name": "stdout",
     "output_type": "stream",
     "text": [
      "[0.85704038]\n",
      "[19.6527878]\n",
      "-0.0025531072986963717\n",
      "-0.004023637057380204\n"
     ]
    },
    {
     "name": "stderr",
     "output_type": "stream",
     "text": [
      "18it [00:01, 13.49it/s]\n"
     ]
    },
    {
     "name": "stdout",
     "output_type": "stream",
     "text": [
      "[0.83580964]\n",
      "[21.80685623]\n",
      "-0.002330543517814021\n",
      "-0.004334046003642238\n"
     ]
    },
    {
     "name": "stderr",
     "output_type": "stream",
     "text": [
      "18it [00:01, 10.23it/s]\n"
     ]
    },
    {
     "name": "stdout",
     "output_type": "stream",
     "text": [
      "[0.60272898]\n",
      "[12.79751276]\n",
      "-0.002101906030477458\n",
      "-0.002326184439666511\n"
     ]
    },
    {
     "name": "stderr",
     "output_type": "stream",
     "text": [
      "22it [00:01, 13.48it/s]\n"
     ]
    },
    {
     "name": "stdout",
     "output_type": "stream",
     "text": [
      "[0.56449576]\n",
      "[10.98476482]\n",
      "-0.0022552330361095317\n",
      "0.003252023246410779\n"
     ]
    },
    {
     "name": "stderr",
     "output_type": "stream",
     "text": [
      "5it [00:00,  8.93it/s]\n"
     ]
    },
    {
     "name": "stdout",
     "output_type": "stream",
     "text": [
      "[0.770873]\n",
      "[6.80226491]\n",
      "-0.0012922760304596092\n",
      "-0.001546869415339939\n"
     ]
    },
    {
     "name": "stderr",
     "output_type": "stream",
     "text": [
      "10it [00:00, 12.17it/s]\n"
     ]
    },
    {
     "name": "stdout",
     "output_type": "stream",
     "text": [
      "[0.78379432]\n",
      "[21.25076575]\n",
      "-0.003039016823768045\n",
      "-0.0037877174858945446\n"
     ]
    },
    {
     "name": "stderr",
     "output_type": "stream",
     "text": [
      "8it [00:00,  8.15it/s]\n"
     ]
    },
    {
     "name": "stdout",
     "output_type": "stream",
     "text": [
      "[0.77088869]\n",
      "[20.04842809]\n",
      "-0.0015562887690490624\n",
      "-0.0020546881807617687\n"
     ]
    },
    {
     "name": "stderr",
     "output_type": "stream",
     "text": [
      "7it [00:00, 10.92it/s]\n"
     ]
    },
    {
     "name": "stdout",
     "output_type": "stream",
     "text": [
      "[0.55091723]\n",
      "[7.29987212]\n",
      "-0.0020632150514333417\n",
      "0.003064856397570693\n"
     ]
    },
    {
     "name": "stderr",
     "output_type": "stream",
     "text": [
      "5it [00:00, 13.15it/s]\n"
     ]
    },
    {
     "name": "stdout",
     "output_type": "stream",
     "text": [
      "[0.80692439]\n",
      "[4.76068088]\n",
      "-2.8246801155166988e-05\n",
      "0.0024568485314848607\n"
     ]
    },
    {
     "name": "stderr",
     "output_type": "stream",
     "text": [
      "8it [00:00, 10.07it/s]\n"
     ]
    },
    {
     "name": "stdout",
     "output_type": "stream",
     "text": [
      "[0.65285699]\n",
      "[10.53224095]\n",
      "-0.002599206349206347\n",
      "-0.002468629293070175\n"
     ]
    },
    {
     "name": "stderr",
     "output_type": "stream",
     "text": [
      "15it [00:01,  7.91it/s]\n"
     ]
    },
    {
     "name": "stdout",
     "output_type": "stream",
     "text": [
      "[0.73331999]\n",
      "[24.74698715]\n",
      "-0.001782441328027971\n",
      "0.00217743078859119\n"
     ]
    },
    {
     "data": {
      "image/png": "[encoded data removed]",
      "text/plain": [
       "<Figure size 750x450 with 1 Axes>"
      ]
     },
     "metadata": {
      "needs_background": "light"
     },
     "output_type": "display_data"
    }
   ],
   "source": [
    "num_cells = []\n",
    "r2s = []\n",
    "\n",
    "for session in os.listdir(act_directory):\n",
    "    sessionfile = ilep.loadSessionCached(act_directory,session)\n",
    "    if sessionfile.meta.length_in_trials < 100:\n",
    "        continue\n",
    "    if len(sessionfile.clusters.good) < 5:\n",
    "        continue\n",
    "    if sessionfile.meta.task not in ['nonreversal','switch','reversal']:\n",
    "        continue\n",
    "    if sessionfile.meta.region != 'AC':\n",
    "        continue\n",
    "    if sessionfile.meta.animal not in ['BS_40','BS_41','BS_42','BS_49','BS_50','BS_51','BS_56','BS_59','BS_67','BS_70','BS_72','BS_87','BS_108','DS_16','DS_19']:\n",
    "        continue\n",
    "\n",
    "    beh,act,r2,cells = getSlowDrift(sessionfile)\n",
    "    if beh is None:\n",
    "        continue\n",
    "    \n",
    "    num_cells.append(len(cells))\n",
    "    r2s.append(r2)\n",
    "    X = range(len(beh))\n",
    "\n",
    "    plt.close('all')\n",
    "    fig, ax = plt.subplots(figsize=(5,3))\n",
    "    ax.plot(X,beh,color=GOOD_GREY,label='lick rate')\n",
    "    ax.plot(X,act,color='pink',label='slow drift')\n",
    "    ax.set_ylim([0,1])\n",
    "\n",
    "    ax.set_xlabel('Window index (50-trials each, sliding)')\n",
    "    ax.set_ylabel('Normalized value (unitless)')\n",
    "    \n",
    "    ax.set_title(f\"correlation (r**2) = {np.round(r2[0]*1000)/1000}\")\n",
    "\n",
    "    lgd = ax.legend(frameon=False,loc=(1,0.8))\n",
    "\n",
    "    fig.savefig(os.path.join('D:\\\\TempFigures','Slow Drift Figures',f\"{ilep.generateDateString(sessionfile)} slow drift vs behavior\"),transparent=False,facecolor=\"white\", bbox_extra_artists=(lgd,), bbox_inches='tight')"
   ]
  },
  {
   "cell_type": "code",
   "execution_count": 200,
   "id": "f2e4fdad-9e14-4623-9d08-926d3522d028",
   "metadata": {},
   "outputs": [],
   "source": [
    "r2s = np.abs(r2s)"
   ]
  },
  {
   "cell_type": "code",
   "execution_count": null,
   "id": "64d0d62f-7b83-4b70-b9ba-46078b0cee08",
   "metadata": {},
   "outputs": [],
   "source": []
  },
  {
   "cell_type": "code",
   "execution_count": 205,
   "id": "1ff72c4f-0fd9-48f2-9312-efa02fd5afa3",
   "metadata": {},
   "outputs": [
    {
     "data": {
      "image/png": "[encoded data removed]",
      "text/plain": [
       "<Figure size 750x450 with 1 Axes>"
      ]
     },
     "metadata": {
      "needs_background": "light"
     },
     "output_type": "display_data"
    }
   ],
   "source": [
    "fig, ax = plt.subplots(figsize=(5,3))\n",
    "\n",
    "ax.hist(r2s,bins=20)\n",
    "ax.set_xlabel('R^2 between lick rate and slow drift')\n",
    "ax.set_ylabel('Number of sessions')\n",
    "\n",
    "fig.savefig(os.path.join('D:\\\\TempFigures','Slow Drift Figures',f\"R^2 Histogram\"),transparent=False,facecolor=\"white\", bbox_extra_artists=(lgd,), bbox_inches='tight')"
   ]
  },
  {
   "cell_type": "code",
   "execution_count": 208,
   "id": "8bc519db-c759-4cd5-83aa-6f1cdc688f62",
   "metadata": {},
   "outputs": [
    {
     "data": {
      "image/png": "[encoded data removed]",
      "text/plain": [
       "<Figure size 750x450 with 1 Axes>"
      ]
     },
     "metadata": {
      "needs_background": "light"
     },
     "output_type": "display_data"
    }
   ],
   "source": [
    "fig, ax = plt.subplots(figsize=(5,3))\n",
    "\n",
    "ax.scatter(num_cells,r2s,color=GOOD_GREY,s=10)\n",
    "ax.set_ylim([0,1])\n",
    "ax.set_xlabel('Number of cells in session')\n",
    "ax.set_ylabel('Correlation (R^2)')\n",
    "\n",
    "fig.savefig(os.path.join('D:\\\\TempFigures','Slow Drift Figures',f\"Correlation vs number of clusters\"),transparent=False,facecolor=\"white\", bbox_extra_artists=(lgd,), bbox_inches='tight')"
   ]
  },
  {
   "cell_type": "code",
   "execution_count": null,
   "id": "adbc34f6-0d80-4e01-8756-842f732bff06",
   "metadata": {},
   "outputs": [],
   "source": []
  }
 ],
 "metadata": {
  "kernelspec": {
   "display_name": "Python 3",
   "language": "python",
   "name": "python3"
  },
  "language_info": {
   "codemirror_mode": {
    "name": "ipython",
    "version": 3
   },
   "file_extension": ".py",
   "mimetype": "text/x-python",
   "name": "python",
   "nbconvert_exporter": "python",
   "pygments_lexer": "ipython3",
   "version": "3.8.8"
  }
 },
 "nbformat": 4,
 "nbformat_minor": 5
}
