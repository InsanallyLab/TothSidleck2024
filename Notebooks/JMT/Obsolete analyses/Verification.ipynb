{
 "cells": [
  {
   "cell_type": "code",
   "execution_count": 1,
   "id": "3e821439-8b03-4a9d-ab79-48592c8e7f54",
   "metadata": {},
   "outputs": [],
   "source": [
    "import sys, os\n",
    "import json, pickle\n",
    "import matplotlib.pyplot as plt\n",
    "import matplotlib as mpl\n",
    "import numpy as np\n",
    "import pandas as pd\n",
    "import time as pytime\n",
    "import statsmodels.tsa.stattools as tsa\n",
    "import ruptures as rpt\n",
    "import InsanallyLabEphysTools as ilep\n",
    "import OldDecodingTools as odt\n",
    "from scipy.stats import gaussian_kde, sem, ttest_ind, ttest_rel, norm, mannwhitneyu, linregress, wilcoxon\n",
    "from tqdm import tqdm\n",
    "from types import SimpleNamespace\n",
    "from sklearn import linear_model\n",
    "from itertools import product\n",
    "from datetime import datetime\n",
    "import h5py\n",
    "#import tables as tb\n",
    "from copy import deepcopy\n",
    "import colorsys\n",
    "import pingouin as pg\n",
    "\n",
    "from sklearn.model_selection import GridSearchCV, StratifiedKFold, LeaveOneOut\n",
    "from sklearn.neighbors import KernelDensity\n",
    "\n",
    "plt.rcParams['legend.fontsize'] = 'small'\n",
    "plt.rcParams['axes.labelsize'] = 'medium'\n",
    "plt.rcParams['axes.formatter.limits'] = [-2,3]\n",
    "plt.rcParams['axes.formatter.use_mathtext'] = True\n",
    "plt.rcParams['axes.spines.top'] = False\n",
    "plt.rcParams['axes.spines.right'] = False\n",
    "plt.rcParams['xtick.direction'] = 'in'\n",
    "plt.rcParams['ytick.direction'] = 'in'\n",
    "plt.rcParams['figure.dpi'] = '150'\n",
    "\n",
    "#Set global font parameters\n",
    "plt.rcParams['font.family'] = 'sans-serif'\n",
    "plt.rcParams['font.sans-serif'] = 'Arial'\n",
    "#Set font type to TrueType for compatibility\n",
    "plt.rcParams['pdf.fonttype'] = 42\n",
    "plt.rcParams['ps.fonttype'] = 42\n",
    "\n",
    "CR_COLOR = '#808080'\n",
    "NCR_COLOR = '#FF767C'\n",
    "CNO_COLOR = '#00BFFF'\n",
    "GOOD_GREY = '#969696'\n",
    "SWITCH_COLOR = '#B07A3B'\n",
    "NCR_CR_cmap = mpl.colors.LinearSegmentedColormap.from_list('NCR-CR color map', [NCR_COLOR, CR_COLOR], N=1000)\n",
    "\n",
    "act_directory = 'D:\\\\Analysis_Cache'\n",
    "ops_directory = 'D:\\\\Opsin_Cache'\n",
    "beh_directory = 'P:\\\\Behavioor'\n",
    "\n",
    "%run animal_info\n",
    "ANIMAL = 'AC_12102016'\n",
    "\n",
    "#animalstouse = ['BS_40','BS_41','BS_42','BS_49','BS_51','BS_56','BS_59','BS_61','BS_67','BS_70','BS_72','BS_87','BS_108','DS_15','DS_19']\n",
    "\n",
    "\n",
    "dualanimalnames = ['BS_40','BS_41','BS_42','BS_49','BS_50','BS_51','BS_56','BS_59','BS_61','BS_67','BS_70','BS_72','BS_87','BS_108','DS_15','DS_19']\n",
    "opsinanimalnames = ['BS_86','BS_92','BS_100','BS_103','BS_111','BS_119','BS_123','BS_128','BS_131','BS_139','BS_163','BS_165','BS_174','BS_179','BS_191','BS_192']\n",
    "tuninganimalnames = ['BS_213','BS_214']\n",
    "unuseddualanimals = ['BS_78']\n",
    "\n",
    "dualanimals = ['BS_174','BS_179','BS_191','BS_192']\n",
    "retroanimals = ['PB_86','BS_86','PB_92','BS_92','BS_100','BS_103','BS_111','BS_119','BS_123','BS_128','BS_131','BS_139','BS_163','BS_165']\n",
    "didlearnopsinanimals = ['BS_92','BS_103','BS_111','BS_179']\n",
    "didnotlearnopsinanimals = ['BS_86','BS_100','BS_119','BS_123','BS_128','BS_131','BS_163','BS_174']\n",
    "indeterminateopsinanimals = ['BS_139','BS_165','BS_191','BS_192']"
   ]
  },
  {
   "cell_type": "code",
   "execution_count": null,
   "id": "c8087981-21d3-4970-8ee1-038159a0387d",
   "metadata": {},
   "outputs": [],
   "source": []
  },
  {
   "cell_type": "code",
   "execution_count": null,
   "id": "a01e0a75-05f3-4e44-9e38-43c7c6e831c3",
   "metadata": {},
   "outputs": [],
   "source": []
  },
  {
   "cell_type": "code",
   "execution_count": null,
   "id": "920d372b-bbe5-43ef-b351-0b3ffbb96b0c",
   "metadata": {},
   "outputs": [],
   "source": []
  },
  {
   "cell_type": "code",
   "execution_count": null,
   "id": "ee82ecfa-fedc-43a1-bf2d-62472eabed9e",
   "metadata": {},
   "outputs": [],
   "source": []
  },
  {
   "cell_type": "code",
   "execution_count": null,
   "id": "70d3e449-4146-4c7c-9021-22dae4cdb6c1",
   "metadata": {},
   "outputs": [],
   "source": []
  },
  {
   "cell_type": "markdown",
   "id": "521eff0d-be5a-4a60-a1cf-75d600221aab",
   "metadata": {},
   "source": [
    "# Generate Dataset to test CNO Verification correctness"
   ]
  },
  {
   "cell_type": "code",
   "execution_count": 40,
   "id": "8b47aeae-7dcf-4c47-87a6-73d1a8061ed3",
   "metadata": {},
   "outputs": [],
   "source": [
    "DIR = \"C:\\\\Users\\\\insan\\\\Desktop\\\\CNOTest\"\n",
    "\n",
    "staticcells = 10\n",
    "responsivecells = 10\n",
    "mua = 10\n",
    "noise = 10\n",
    "\n",
    "maxID = 300\n",
    "maxChan = 64\n",
    "FR = 10\n",
    "fs = 30000\n",
    "maxTime = 60*60;"
   ]
  },
  {
   "cell_type": "code",
   "execution_count": 41,
   "id": "dabd75e5-ebef-45b2-bdcb-34e4425c3af3",
   "metadata": {},
   "outputs": [],
   "source": [
    "spike_clusters = []\n",
    "spike_times = []"
   ]
  },
  {
   "cell_type": "code",
   "execution_count": 42,
   "id": "098b808b-4453-4c20-9410-804b4f5b66dc",
   "metadata": {},
   "outputs": [],
   "source": [
    "unitIDs = random.sample(range(maxID),staticcells+responsivecells+mua+noise)\n",
    "channels = random.choices(range(maxChan),k=len(unitIDs))\n",
    "\n",
    "for i in range(staticcells):\n",
    "    unitID = unitIDs[i]\n",
    "    \n",
    "    numberSpikes = maxTime * FR\n",
    "    maxSample = maxTime * fs\n",
    "    currentSpikeTimes = np.random.rand(numberSpikes)*maxSample\n",
    "    currentSpikeIDs = np.ones(numberSpikes)*unitID\n",
    "    spike_times = np.concatenate((spike_times,currentSpikeTimes))\n",
    "    spike_clusters = np.concatenate((spike_clusters,currentSpikeIDs))\n",
    "    \n",
    "for i in range (responsivecells):\n",
    "    unitID = unitIDs[i+staticcells]\n",
    "    \n",
    "    numberSpikes = maxTime * FR\n",
    "    maxSample = maxTime * fs\n",
    "    currentSpikeTimes = np.random.rand(numberSpikes)*maxSample\n",
    "    currentSpikeIDs = np.ones(numberSpikes)*unitID\n",
    "    \n",
    "    numberSpikes = int((maxTime * FR)/2)\n",
    "    maxSample = int((maxTime * fs)/2)\n",
    "    currentSpikeTimes2 = np.random.rand(numberSpikes)*maxSample+maxSample\n",
    "    currentSpikeIDs2 = np.ones(numberSpikes)*unitID\n",
    "    \n",
    "    spike_times = np.concatenate((spike_times,currentSpikeTimes,currentSpikeTimes2))\n",
    "    spike_clusters = np.concatenate((spike_clusters,currentSpikeIDs,currentSpikeIDs2))\n",
    "        \n",
    "for i in range(mua):\n",
    "    unitID = unitIDs[i+staticcells+responsivecells]\n",
    "    \n",
    "    numberSpikes = maxTime * FR\n",
    "    maxSample = maxTime * fs\n",
    "    currentSpikeTimes = np.random.rand(numberSpikes)*maxSample\n",
    "    currentSpikeIDs = np.ones(numberSpikes)*unitID\n",
    "    spike_times = np.concatenate((spike_times,currentSpikeTimes))\n",
    "    spike_clusters = np.concatenate((spike_clusters,currentSpikeIDs))\n",
    "    \n",
    "for i in range(noise):\n",
    "    unitID = unitIDs[i+staticcells+responsivecells+mua]\n",
    "    \n",
    "    numberSpikes = np.random.rand() * (2 * maxTime * FR)\n",
    "    currentSpikeTimes = np.random.rand(int(numberSpikes))*maxSample\n",
    "    currentSpikeIDs = np.ones(int(numberSpikes))*unitID\n",
    "    spike_times = np.concatenate((spike_times,currentSpikeTimes))\n",
    "    spike_clusters = np.concatenate((spike_clusters,currentSpikeIDs))\n",
    "    \n",
    "perm = np.random.permutation(range(len(spike_times)))\n",
    "spike_times = (spike_times[perm]).astype(int)\n",
    "spike_clusters = (spike_clusters[perm]).astype(int)"
   ]
  },
  {
   "cell_type": "code",
   "execution_count": 43,
   "id": "0c9fdf0e-849b-4c34-894d-579a67f0d1b0",
   "metadata": {},
   "outputs": [],
   "source": [
    "labels = np.repeat([\"-----\"],len(unitIDs))\n",
    "for i in range(len(labels)):\n",
    "    labels[i] = \"good\"\n",
    "for i in range(mua):\n",
    "    labels[i+staticcells+responsivecells] = \"mua\"\n",
    "for i in range(noise):\n",
    "    labels[i+staticcells+responsivecells+mua] = \"noise\"\n",
    "\n",
    "phylabel = pd.DataFrame(np.array([unitIDs,labels]).T,columns=[\"cluster_id\",\"group\"])\n",
    "KSlabel = pd.DataFrame(np.array([unitIDs,labels]).T,columns=[\"cluster_id\",\"KSlabel\"])\n",
    "clusterinfo = pd.DataFrame(np.array([unitIDs,channels]).T,columns=[\"cluster_id\",\"ch\"])"
   ]
  },
  {
   "cell_type": "code",
   "execution_count": 44,
   "id": "6b32dbfd-0181-43cf-9c09-f64d24840ef3",
   "metadata": {},
   "outputs": [],
   "source": [
    "np.save(os.path.join(DIR,\"spike_times.npy\"),spike_times)\n",
    "np.save(os.path.join(DIR,\"spike_clusters.npy\"),spike_clusters)\n",
    "phylabel.to_csv(os.path.join(DIR,\"cluster_group.tsv\"),sep='\\t',index=True,header=True)\n",
    "KSlabel.to_csv(os.path.join(DIR,\"cluster_KSlabel.tsv\"),sep='\\t',index=True,header=True)\n",
    "clusterinfo.to_csv(os.path.join(DIR,\"cluster_info.tsv\"),sep='\\t',index=True,header=True)"
   ]
  },
  {
   "cell_type": "code",
   "execution_count": null,
   "id": "082451c5-2db4-460d-b92a-60ccf8177c5b",
   "metadata": {},
   "outputs": [],
   "source": []
  },
  {
   "cell_type": "code",
   "execution_count": 31,
   "id": "86c8ff78-bc4d-4ac1-ad60-75b86a2cd677",
   "metadata": {},
   "outputs": [
    {
     "name": "stdout",
     "output_type": "stream",
     "text": [
      "1.7\n",
      "1.7\n"
     ]
    }
   ],
   "source": [
    "trials = 100000\n",
    "baseFR = 0.5\n",
    "stimFR = 3\n",
    "triallength = 2.5\n",
    "stimlength = 1\n",
    "stimoffset = 0.5\n",
    "peristimulustimes = np.random.rand(int(baseFR*trials*triallength))*triallength\n",
    "peristimulustimes = np.concatenate((peristimulustimes,np.random.rand(int(stimFR*trials*stimlength))*stimlength+stimoffset))\n",
    "\n",
    "m1 = len(peristimulustimes)/trials/triallength\n",
    "m2 = (baseFR*triallength + stimlength*stimFR)/triallength\n",
    "\n",
    "print(m1)\n",
    "print(m2)\n",
    "                                   \n",
    "xrange = np.linspace(0,triallength,num=1000)\n",
    "KDE = gaussian_kde(peristimulustimes,bw_method=0.001).evaluate(xrange)\n",
    "#KDE = KDE/np.sum(KDE)\n",
    "#print(np.sum(KDE))\n",
    "FR = KDE * len(peristimulustimes) / trials"
   ]
  },
  {
   "cell_type": "code",
   "execution_count": 32,
   "id": "3a72c3ae-f131-4ec1-a053-852bbd5db392",
   "metadata": {},
   "outputs": [
    {
     "data": {
      "text/plain": [
       "Text(0.5, 1.0, 'Simulated unit')"
      ]
     },
     "execution_count": 32,
     "metadata": {},
     "output_type": "execute_result"
    },
    {
     "data": {
      "image/png": "[encoded data removed]",
      "text/plain": [
       "<Figure size 360x216 with 1 Axes>"
      ]
     },
     "metadata": {
      "needs_background": "light"
     },
     "output_type": "display_data"
    }
   ],
   "source": [
    "fig,ax = plt.subplots(figsize=(5,3))\n",
    "ax.plot(xrange,FR,c='k',lw=2)\n",
    "\n",
    "ylims = ax.get_ylim()\n",
    "ax.set_ylim([0,ylims[1]])\n",
    "ax.set_ylabel('Firing rate (spikes/s)')\n",
    "ax.set_xlabel('Time (s)')\n",
    "ax.set_title('Simulated unit')"
   ]
  },
  {
   "cell_type": "code",
   "execution_count": null,
   "id": "52b9b547-06fa-4d41-a652-5b29ffa38c1b",
   "metadata": {},
   "outputs": [],
   "source": []
  },
  {
   "cell_type": "code",
   "execution_count": null,
   "id": "21548d9b-27a3-4c07-94ad-e66c29742327",
   "metadata": {},
   "outputs": [],
   "source": []
  },
  {
   "cell_type": "code",
   "execution_count": null,
   "id": "e37e3459-4182-421f-9518-f7ddaf4290b9",
   "metadata": {},
   "outputs": [],
   "source": []
  },
  {
   "cell_type": "code",
   "execution_count": null,
   "id": "25a8b4a8-5529-419c-8645-f22a121a1152",
   "metadata": {},
   "outputs": [],
   "source": []
  },
  {
   "cell_type": "code",
   "execution_count": null,
   "id": "6c903f40-2176-4ef5-a2dd-579963438cc2",
   "metadata": {},
   "outputs": [],
   "source": []
  },
  {
   "cell_type": "code",
   "execution_count": null,
   "id": "f96ad30d-e04d-4fd7-99b4-7a83fd9ab40e",
   "metadata": {},
   "outputs": [],
   "source": []
  },
  {
   "cell_type": "code",
   "execution_count": null,
   "id": "096a634f-c7fd-4e63-9f3a-65f74bb54b7e",
   "metadata": {},
   "outputs": [],
   "source": []
  },
  {
   "cell_type": "code",
   "execution_count": null,
   "id": "f5ede8a9-d72b-49b6-86e6-1222e59b65fe",
   "metadata": {},
   "outputs": [],
   "source": []
  },
  {
   "cell_type": "code",
   "execution_count": null,
   "id": "3e01beda-4588-44a3-af42-345220665929",
   "metadata": {},
   "outputs": [],
   "source": []
  },
  {
   "cell_type": "markdown",
   "id": "cb26a4ef-806f-4465-816a-8af662618c78",
   "metadata": {},
   "source": [
    "# Verify equal amounts of 5k and 11k tone presentations"
   ]
  },
  {
   "cell_type": "code",
   "execution_count": 8,
   "id": "c03693a1-afbf-4126-acac-7f3b31549c29",
   "metadata": {},
   "outputs": [
    {
     "name": "stderr",
     "output_type": "stream",
     "text": [
      "100%|██████████| 398/398 [00:01<00:00, 293.44it/s]\n",
      "100%|██████████| 101/101 [00:00<00:00, 135.90it/s]\n"
     ]
    }
   ],
   "source": [
    "diffs = []\n",
    "for session in tqdm(os.listdir(act_directory)):\n",
    "    sessionfile = ilep.loadSessionCached(act_directory,session)\n",
    "    freqs = sessionfile.trials.freqs\n",
    "    \n",
    "    num_5k = np.mean(np.equal(freqs,5648))\n",
    "    num_11k = np.mean(np.equal(freqs,11260))\n",
    "    diffs.append(num_5k - num_11k)\n",
    "    \n",
    "for session in tqdm(os.listdir(ops_directory)):\n",
    "    sessionfile = ilep.loadSessionCached(ops_directory,session)\n",
    "    freqs = sessionfile.trials.freqs\n",
    "    \n",
    "    num_5k = np.mean(np.equal(freqs,5648))\n",
    "    num_11k = np.mean(np.equal(freqs,11260))\n",
    "    diffs.append(num_5k - num_11k)"
   ]
  },
  {
   "cell_type": "code",
   "execution_count": 10,
   "id": "69182059-1591-4704-b63b-a8b5aebd343a",
   "metadata": {},
   "outputs": [
    {
     "data": {
      "text/plain": [
       "array([-0.0960452 , -0.0960452 , -0.09433962, -0.09433962, -0.0877193 ,\n",
       "       -0.07906977, -0.07906977, -0.07792208, -0.0738255 , -0.0738255 ,\n",
       "       -0.07246377, -0.07246377, -0.06995885, -0.06995885, -0.06976744,\n",
       "       -0.06976744, -0.06935123, -0.06935123, -0.06878307, -0.06878307,\n",
       "       -0.06859206, -0.06859206, -0.06748466, -0.06542056, -0.06451613,\n",
       "       -0.06265664, -0.06265664, -0.05747126, -0.05732484, -0.05685619,\n",
       "       -0.05454545, -0.05454545, -0.05376344, -0.05194805, -0.05194805,\n",
       "       -0.05188679, -0.05188679, -0.05140187, -0.05140187, -0.05102041,\n",
       "       -0.05102041, -0.04792332, -0.04792332, -0.04738155, -0.04738155,\n",
       "       -0.04347826, -0.04347826, -0.04347826, -0.04347826, -0.04255319,\n",
       "       -0.04218362, -0.04218362, -0.04201681, -0.04201681, -0.04121475,\n",
       "       -0.04121475, -0.04098361, -0.04089219, -0.04089219, -0.04      ,\n",
       "       -0.04      , -0.03939962, -0.03939962, -0.03926097, -0.03926097,\n",
       "       -0.03896104, -0.03896104, -0.03854875, -0.03763441, -0.03763441,\n",
       "       -0.03736264, -0.03730018, -0.03730018, -0.03675048, -0.03608247,\n",
       "       -0.03597122, -0.03597122, -0.03557312, -0.03557312, -0.03539823,\n",
       "       -0.0349345 , -0.0349345 , -0.03486239, -0.03486239, -0.03466667,\n",
       "       -0.03466667, -0.03409091, -0.03409091, -0.03333333, -0.03333333,\n",
       "       -0.03333333, -0.03282276, -0.03282276, -0.0327553 , -0.0327553 ,\n",
       "       -0.03097345, -0.03092784, -0.03092784, -0.02991453, -0.02947846,\n",
       "       -0.02947846, -0.02916667, -0.02916667, -0.02895323, -0.02895323,\n",
       "       -0.02847571, -0.02847571, -0.02834008, -0.028     , -0.028     ,\n",
       "       -0.0278481 , -0.0278481 , -0.02716049, -0.02688172, -0.02688172,\n",
       "       -0.02631579, -0.02631579, -0.025     , -0.025     , -0.02487562,\n",
       "       -0.024     , -0.024     , -0.02362205, -0.02359347, -0.02359347,\n",
       "       -0.02333333, -0.02333333, -0.02333333, -0.02333333, -0.02231237,\n",
       "       -0.02189781, -0.02170284, -0.02170284, -0.02145923, -0.02105263,\n",
       "       -0.02105263, -0.02068966, -0.02      , -0.0199005 , -0.01538462,\n",
       "       -0.01440922, -0.01440922, -0.00666667,  0.00650759,  0.00650759,\n",
       "        0.01066098,  0.01066098,  0.01123596,  0.012     ,  0.012     ,\n",
       "        0.01333333,  0.01333333,  0.01333333,  0.01333333,  0.01333333,\n",
       "        0.01333333,  0.01333333,  0.01333333,  0.01385042,  0.015     ,\n",
       "        0.015     ,  0.01612903,  0.01716738,  0.01724138,  0.01792115,\n",
       "        0.01792115,  0.01796407,  0.01818182,  0.01818182,  0.01818182,\n",
       "        0.01818182,  0.01834862,  0.01840491,  0.01840491,  0.01863354,\n",
       "        0.01886792,  0.01894737,  0.01894737,  0.01926445,  0.01970443,\n",
       "        0.02      ,  0.02      ,  0.02      ,  0.02      ,  0.02      ,\n",
       "        0.02      ,  0.02066116,  0.02066116,  0.0210084 ,  0.0212766 ,\n",
       "        0.02136752,  0.02136752,  0.02179177,  0.02189781,  0.02212389,\n",
       "        0.02283105,  0.0230179 ,  0.0230179 ,  0.0230179 ,  0.02325581,\n",
       "        0.02333333,  0.02333333,  0.02333333,  0.02358491,  0.02358491,\n",
       "        0.024     ,  0.02439024,  0.02439024,  0.02452316,  0.0245614 ,\n",
       "        0.0245614 ,  0.02484472,  0.025     ,  0.025     ,  0.025     ,\n",
       "        0.025     ,  0.025     ,  0.025     ,  0.025     ,  0.02512563,\n",
       "        0.02512563,  0.02549575,  0.02564103,  0.02564103,  0.0257732 ,\n",
       "        0.0257732 ,  0.0259366 ,  0.0259366 ,  0.02608696,  0.02623907,\n",
       "        0.02626263,  0.02641509,  0.02659574,  0.02659574,  0.02663438,\n",
       "        0.02666667,  0.02666667,  0.02666667,  0.02702703,  0.0273224 ,\n",
       "        0.0273224 ,  0.02748414,  0.02772643,  0.02790698,  0.02790698,\n",
       "        0.028     ,  0.028     ,  0.028     ,  0.028     ,  0.028     ,\n",
       "        0.028     ,  0.028     ,  0.028     ,  0.02803738,  0.02816901,\n",
       "        0.02816901,  0.02857143,  0.02857143,  0.02869757,  0.02902375,\n",
       "        0.02902375,  0.02917772,  0.02930403,  0.02930403,  0.02941176,\n",
       "        0.0296496 ,  0.0296496 ,  0.02974828,  0.02974828,  0.03030303,\n",
       "        0.03030303,  0.03042596,  0.03042596,  0.03045685,  0.03045685,\n",
       "        0.0305499 ,  0.0305499 ,  0.03056769,  0.03056769,  0.03056769,\n",
       "        0.03056769,  0.03056769,  0.03056769,  0.03076923,  0.03076923,\n",
       "        0.03096539,  0.0311284 ,  0.0311284 ,  0.03116147,  0.03116147,\n",
       "        0.0313253 ,  0.03133903,  0.03153153,  0.03157895,  0.03157895,\n",
       "        0.03157895,  0.032     ,  0.032     ,  0.032     ,  0.032     ,\n",
       "        0.032     ,  0.032     ,  0.032     ,  0.032     ,  0.03208556,\n",
       "        0.03208556,  0.03211009,  0.03211009,  0.03211009,  0.03213611,\n",
       "        0.03214286,  0.03267974,  0.03282276,  0.03282276,  0.03282276,\n",
       "        0.03282276,  0.03282276,  0.03296703,  0.03303303,  0.03303303,\n",
       "        0.03333333,  0.03333333,  0.03340757,  0.03340757,  0.03422053,\n",
       "        0.03422053,  0.03463203,  0.03463203,  0.0349076 ,  0.0349076 ,\n",
       "        0.035     ,  0.03501946,  0.03501946,  0.03519669,  0.03571429,\n",
       "        0.03571429,  0.03571429,  0.03571429,  0.03571429,  0.03571429,\n",
       "        0.03581267,  0.036     ,  0.036     ,  0.03614458,  0.03614458,\n",
       "        0.0361991 ,  0.0361991 ,  0.03622047,  0.03622047,  0.03636364,\n",
       "        0.03636364,  0.03663004,  0.03666667,  0.03666667,  0.03666667,\n",
       "        0.03666667,  0.03667482,  0.03680982,  0.03714286,  0.03714286,\n",
       "        0.037182  ,  0.03738318,  0.03754266,  0.03754266,  0.03787879,\n",
       "        0.03787879,  0.03790087,  0.03790087,  0.03802281,  0.03802281,\n",
       "        0.03839122,  0.03839122,  0.03857567,  0.03857567,  0.03864734,\n",
       "        0.03872437,  0.03872437,  0.03883495,  0.03883495,  0.03883495,\n",
       "        0.03883495,  0.03891709,  0.03891709,  0.03896104,  0.03937008,\n",
       "        0.03937008,  0.03939962,  0.03944316,  0.04      ,  0.04038005,\n",
       "        0.04038005,  0.04060914,  0.04060914,  0.04060914,  0.04060914,\n",
       "        0.04065041,  0.04065041,  0.04081633,  0.04081633,  0.04102564,\n",
       "        0.04102564,  0.04117647,  0.04147465,  0.04147465,  0.04147465,\n",
       "        0.04150943,  0.04150943,  0.04159132,  0.04159132,  0.04166667,\n",
       "        0.04166667,  0.04166667,  0.04178273,  0.04178273,  0.04187605,\n",
       "        0.0419426 ,  0.04225352,  0.04233577,  0.04265403,  0.04285714,\n",
       "        0.04301075,  0.04301075,  0.04301075,  0.04329004,  0.04329004,\n",
       "        0.0433213 ,  0.04347826,  0.04347826,  0.04347826,  0.04405286,\n",
       "        0.04444444,  0.04460967,  0.04460967,  0.04496788,  0.04496788,\n",
       "        0.04496788,  0.04561404,  0.04571429,  0.04587156,  0.04604052,\n",
       "        0.04604052,  0.04609218,  0.04742268,  0.04785894,  0.04810127,\n",
       "        0.04810127,  0.04884319,  0.04884319,  0.04895105,  0.04930966,\n",
       "        0.04935065,  0.05022831,  0.05022831,  0.05105105,  0.05149051,\n",
       "        0.05149051,  0.05202312,  0.05263158,  0.05322129,  0.05343511,\n",
       "        0.05417277,  0.05421687,  0.05494505,  0.05603448,  0.05603448,\n",
       "        0.05693431,  0.05693431,  0.05732484,  0.05882353,  0.05882353,\n",
       "        0.06060606,  0.06060606,  0.06557377,  0.06557377,  0.06741573,\n",
       "        0.06741573,  0.06796117,  0.06796117,  0.06930693,  0.07027027,\n",
       "        0.07027027,  0.07253886,  0.07253886,  0.07333333,  0.07368421,\n",
       "        0.08270677,  0.08713693,  0.09090909,  0.09090909,  0.09333333,\n",
       "        0.09333333,  0.10059172,  0.10059172,  0.11156187,  0.11156187,\n",
       "        0.11206897,  0.11206897,  0.12250712,  0.12250712])"
      ]
     },
     "execution_count": 10,
     "metadata": {},
     "output_type": "execute_result"
    }
   ],
   "source": [
    "np.sort(diffs)"
   ]
  },
  {
   "cell_type": "code",
   "execution_count": null,
   "id": "58149fa1-3a45-4e8d-b6fa-efea27a85735",
   "metadata": {},
   "outputs": [],
   "source": []
  },
  {
   "cell_type": "code",
   "execution_count": null,
   "id": "9ef8a9d6-4d76-44cc-9836-f3aa61b1734b",
   "metadata": {},
   "outputs": [],
   "source": []
  },
  {
   "cell_type": "code",
   "execution_count": null,
   "id": "46ae5e52-682e-4bca-ab20-fc0d7f222134",
   "metadata": {},
   "outputs": [],
   "source": []
  },
  {
   "cell_type": "code",
   "execution_count": null,
   "id": "049bc452-045e-47cc-91bc-0b843c44d4de",
   "metadata": {},
   "outputs": [],
   "source": []
  },
  {
   "cell_type": "code",
   "execution_count": null,
   "id": "83a4ff06-436f-4211-bf55-b21dd1a60a6e",
   "metadata": {},
   "outputs": [],
   "source": []
  },
  {
   "cell_type": "code",
   "execution_count": null,
   "id": "6aecb9d4-6a1f-4780-b9a7-a112446dfd16",
   "metadata": {},
   "outputs": [],
   "source": []
  },
  {
   "cell_type": "code",
   "execution_count": null,
   "id": "9f072347-dc98-4230-ac40-9edd2aff120b",
   "metadata": {},
   "outputs": [],
   "source": []
  },
  {
   "cell_type": "code",
   "execution_count": null,
   "id": "d5125cb5-02e6-4155-bc26-ef5c9d81c580",
   "metadata": {},
   "outputs": [],
   "source": []
  },
  {
   "cell_type": "markdown",
   "id": "9cb688e5-893c-45bf-81ef-f3ca53179688",
   "metadata": {},
   "source": [
    "# Verify Pseudorandom tone presentation"
   ]
  },
  {
   "cell_type": "code",
   "execution_count": 62,
   "id": "3e62dbdd-5d9a-4555-a7c9-131430c92baf",
   "metadata": {},
   "outputs": [
    {
     "name": "stdout",
     "output_type": "stream",
     "text": [
      "C:\\Users\\insan\\Desktop\\FreqListTuningCurve.txt\n"
     ]
    }
   ],
   "source": [
    "sessionfile = ilep.loadSessionCached(act_directory,'BS_173_1_tuning_AC.pickle')\n",
    "sessionfile = ilep.determineTuningCurveTones(sessionfile)"
   ]
  },
  {
   "cell_type": "code",
   "execution_count": null,
   "id": "7e2348cd-6a1f-4f7f-9a9f-1b6b37eca731",
   "metadata": {},
   "outputs": [],
   "source": []
  },
  {
   "cell_type": "code",
   "execution_count": 13,
   "id": "933b1e9e-7376-4c5e-8084-98df0bb9f4d6",
   "metadata": {},
   "outputs": [
    {
     "name": "stdout",
     "output_type": "stream",
     "text": [
      "BS_188_1_tuning_AC.pickle\tFalse\n",
      "BS_188_2_tuning_AC.pickle\tFalse\n",
      "BS_188_3_tuning_AC.pickle\tFalse\n",
      "BS_188_4_tuning_AC.pickle\tFalse\n",
      "BS_188_5_tuning_AC.pickle\tFalse\n",
      "BS_188_6_tuning_AC.pickle\tFalse\n"
     ]
    }
   ],
   "source": [
    "for session in os.listdir(act_directory):\n",
    "    sessionfile = ilep.loadSessionCached(act_directory,session)\n",
    "    \n",
    "    if sessionfile.meta.animal != 'BS_188':\n",
    "        continue\n",
    "        \n",
    "    print(session + '\\t' + str(ilep.testInOrderTonePresentation(sessionfile)))"
   ]
  },
  {
   "cell_type": "code",
   "execution_count": null,
   "id": "c9be4406-d9f8-4f6b-94b4-39d6f1b8e72c",
   "metadata": {},
   "outputs": [],
   "source": []
  },
  {
   "cell_type": "code",
   "execution_count": 5,
   "id": "2650c7ba-fe08-43d9-ae60-0ee412515871",
   "metadata": {},
   "outputs": [
    {
     "name": "stdout",
     "output_type": "stream",
     "text": [
      "BS_173_10_tuning_AC.pickle\t350\t1.0\n",
      "BS_173_1_tuning_AC.pickle\t450\t1.0\n",
      "BS_173_2_tuning_AC.pickle\t450\t1.0\n",
      "BS_173_3_tuning_AC.pickle\t450\t1.0\n",
      "BS_173_4_tuning_AC.pickle\t250\t1.0\n",
      "BS_173_5_tuning_AC.pickle\t250\t1.0\n",
      "BS_173_6_tuning_AC.pickle\t250\t1.0\n",
      "BS_173_7_tuning_AC.pickle\t350\t1.0\n",
      "BS_173_8_tuning_AC.pickle\t350\t1.0\n",
      "BS_173_9_tuning_AC.pickle\t350\t1.0\n",
      "BS_175_10_tuning_AC.pickle\t0\tnan\n",
      "BS_175_11_tuning_AC.pickle\t350\t1.0\n",
      "BS_175_12_tuning_AC.pickle\t0\tnan\n",
      "BS_175_13_tuning_AC.pickle\t350\t1.0\n",
      "BS_175_14_tuning_AC.pickle\t350\t1.0\n",
      "BS_175_15_tuning_AC.pickle\t350\t1.0\n",
      "BS_175_2_tuning_AC.pickle\t450\t1.0\n",
      "BS_175_3_tuning_AC.pickle\t450\t1.0\n",
      "BS_175_4_tuning_AC.pickle\t450\t1.0\n",
      "BS_175_5_tuning_AC.pickle\t250\t1.0\n",
      "BS_175_6_tuning_AC.pickle\t250\t1.0\n",
      "BS_175_7_tuning_AC.pickle\t250\t1.0\n",
      "BS_175_8_tuning_AC.pickle\t250\t1.0\n",
      "BS_175_9_tuning_AC.pickle\t250\t1.0\n",
      "BS_187_1_tuning_AC.pickle\t350\t1.0\n",
      "BS_187_2_tuning_AC.pickle\t350\t1.0\n",
      "BS_187_3_tuning_AC.pickle\t350\t1.0\n",
      "BS_187_4_tuning_AC.pickle\t350\t1.0\n",
      "BS_188_1_tuning_AC.pickle\t350\t1.0\n",
      "BS_188_2_tuning_AC.pickle\t350\t1.0\n",
      "BS_188_3_tuning_AC.pickle\t350\t1.0\n",
      "BS_188_4_tuning_AC.pickle\t350\t1.0\n",
      "BS_188_5_tuning_AC.pickle\t350\t1.0\n",
      "BS_188_6_tuning_AC.pickle\t350\t1.0\n",
      "BS_213_1_tuning_AC.pickle\t449\t1.0\n",
      "BS_213_2_tuning_AC.pickle\t449\t1.0\n",
      "BS_213_3_tuning_AC.pickle\t449\t1.0\n",
      "BS_214_1_tuning_AC.pickle\t449\t1.0\n",
      "BS_214_2_tuning_AC.pickle\t449\t1.0\n",
      "BS_214_3_tuning_AC.pickle\t449\t1.0\n",
      "BS_214_4_tuning_AC.pickle\t449\t1.0\n"
     ]
    }
   ],
   "source": [
    "for session in os.listdir(act_directory):\n",
    "    sessionfile = ilep.loadSessionCached(act_directory,session)\n",
    "    \n",
    "    if sessionfile.meta.animal not in ['BS_173','BS_175','BS_187','BS_188','BS_213','BS_214']:\n",
    "        continue\n",
    "        \n",
    "    sessionfile = ilep.determineTuningCurveTones(sessionfile)\n",
    "    correct = verifyCorrectTonePresentation(sessionfile)\n",
    "    print(session + '\\t' + str(sessionfile.tuning.number_of_tones) + '\\t' + str(correct))"
   ]
  },
  {
   "cell_type": "code",
   "execution_count": 4,
   "id": "306652b5-ca32-4fb8-b995-d527ddaf83f7",
   "metadata": {},
   "outputs": [],
   "source": [
    "def verifyCorrectTonePresentation(sessionfile):\n",
    "    number_tone_presentations = len(sessionfile.tuning.all_tone_times)\n",
    "    tuning_tone_idxs = list(range(sessionfile.meta.length_in_trials,number_tone_presentations))\n",
    "    toneCounts = sessionfile.trials.raw_audio_threshold_crossings[tuning_tone_idxs]\n",
    "    toneFreqs = toneCounts * 10\n",
    "    \n",
    "    tones_present = np.unique(sessionfile.tuning.trial_freqs)\n",
    "    tones_to_check = tones_present[np.less(tones_present,sessionfile.meta.fs/2)]\n",
    "    \n",
    "    if len(tones_to_check)==0:\n",
    "        return np.nan\n",
    "    \n",
    "    tone_errors = []\n",
    "    for tone in tones_to_check:\n",
    "        \n",
    "        this_tone_idxs = np.equal(sessionfile.tuning.trial_freqs,tone)\n",
    "        \n",
    "        error = np.less(np.abs(toneFreqs - tone),750)\n",
    "        error = error[this_tone_idxs]\n",
    "        \n",
    "        tone_errors.append(error)\n",
    "    tone_errors = np.concatenate(tone_errors)\n",
    "    \n",
    "    return np.mean(tone_errors)"
   ]
  },
  {
   "cell_type": "code",
   "execution_count": 8,
   "id": "d9cc8220-53c7-4de1-b3c1-3dd5482f5d4c",
   "metadata": {},
   "outputs": [],
   "source": [
    "sessionfile = ilep.loadSessionCached(act_directory,'BS_213_1_tuning_AC.pickle')\n",
    "sessionfile = ilep.determineTuningCurveTones(sessionfile)"
   ]
  },
  {
   "cell_type": "code",
   "execution_count": 9,
   "id": "32a5990f-02f7-41f2-abb0-66ad6dc0f6f1",
   "metadata": {},
   "outputs": [
    {
     "name": "stdout",
     "output_type": "stream",
     "text": [
      "[ 5670. 14180. 12590.  4390. 11150.  4140.  5510.  2310.  7560.  8500.\n",
      " 13350. 12980.  4380. 11120.  4140.  5510.  2310.  7560.  8480. 13090.\n",
      " 12740.  4380. 11110.  4140.  5500.  2320.  7570.  8440. 14250. 12750.\n",
      "  4400. 11140.  4140.  5520.  2310.  7580.  8490. 13910. 12960.  4410.\n",
      " 11140.  4140.  5500.  2310.  7570.  8480. 12830. 12910.  4390. 11130.\n",
      "  4140.  5510.  2300.  7570.  8440. 14260. 12790.  4350. 11090.  4130.\n",
      "  5510.  2300.  7580.  8500. 13880. 12950.  4360. 11110.  4140.  5510.\n",
      "  2310.  7580.  8480. 13010. 12970.  4390. 11140.  4150.  5500.  2340.\n",
      "  7590.  8430. 14260. 12860.  4410. 11130.  4140.  5500.  2340.  7570.\n",
      "  8500. 13480. 12970.  4390. 11120.  4130.  5510.  2340.  7570.  8440.\n",
      " 13490. 12900.  4350. 11110.  4140.  5510.  2340.  7570.  8500. 14240.\n",
      " 12950.  4380. 11130.  4140.  5500.  2330.  7560.  8510. 13130. 12960.\n",
      "  4390. 11140.  4140.  5520.  2330.  7540.  8450. 13960. 13000.  4400.\n",
      " 11150.  4140.  5500.  2340.  7550.  8500. 14160. 12990.  4390. 11120.\n",
      "  4140.  5510.  2340.  7560.  8480. 12920. 12790.  4360. 11110.  4140.\n",
      "  5510.  2330.  7560.  8440. 14290. 12910.  4370. 11120.  4140.  5510.\n",
      "  2330.  7570.  8500. 13330. 12690.  4390. 11130.  4140.  5510.  2320.\n",
      "  7550.  8450. 13920. 12990.  4400. 11150.  4140.  5510.  2320.  7570.\n",
      "  8520. 14150. 13000.  4390. 11130.  4130.  5510.  2310.  7580.  8480.\n",
      " 13100. 12780.  4370. 11120.  4140.  5510.  2310.  7570.  8490. 14260.\n",
      " 12910.  4360. 11090.  4130.  5510.  2300.  7580.  8510. 12870. 12700.\n",
      "  4380. 11130.  4140.  5500.  2310.  7580.  8440. 14260. 12980.  4400.\n",
      " 11140.  4130.  5510.  2330.  7590.  8510. 13230. 13010.  4390. 11150.\n",
      "  4150.  5510.  2340.  7570.  8450. 14190. 12950.  4390. 11130.  4140.\n",
      "  5500.  2350.  7540.  8520. 13550. 12920.  4390. 11120.  4140.  5510.\n",
      "  2340.  7550.  8450. 13970. 12950.  4360. 11110.  4150.  5500.  2340.\n",
      "  7560.  8510. 13860. 12740.  4390. 11120.  4140.  5500.  2330.  7570.\n",
      "  8450. 13610. 12800.  4390. 11120.  4140.  5500.  2330.  7570.  8490.\n",
      " 14110. 12900.  4400. 11150.  4140.  5510.  2320.  7570.  8470. 13360.\n",
      " 12930.  4400. 11140.  4150.  5500.  2300.  7560.  8490. 14230. 12960.\n",
      "  4390. 11120.  4130.  5510.  2300.  7570.  8510. 12990. 12990.  4350.\n",
      " 11120.  4140.  5510.  2300.  7580.  8480. 14230. 12950.  4380. 11110.\n",
      "  4150.  5500.  2330.  7590.  8490. 12840. 12900.  4380. 11140.  4140.\n",
      "  5510.  2340.  7590.  8460. 14260. 12960.  4390. 11140.  4140.  5510.\n",
      "  2340.  7580.  8510. 12850. 12690.  4400. 11160.  4140.  5510.  2340.\n",
      "  7530.  8450. 14250. 13000.  4400. 11130.  4150.  5500.  2340.  7550.\n",
      "  8500. 13100. 12960.  4360. 11110.  4130.  5510.  2330.  7550.  8450.\n",
      " 14290. 12680.  4360. 11080.  4140.  5500.  2320.  7560.  8510. 13230.\n",
      " 12950.  4380. 11130.  4140.  5510.  2320.  7580.  8440. 14260. 12990.\n",
      "  4400. 11140.  4130.  5510.  2300.  7580.  8500. 13180. 12980.  4410.\n",
      " 11140.  4140.  5500.  2300.  7570.  8440. 14260. 12620.  4400. 11140.\n",
      "  4140.  5510.  2330.  7580.  8490. 13130. 12950.  4380. 11140.  4130.\n",
      "  5490.  2340.  7590.  8440. 14240. 12970.  4360. 11100.  4140.  5510.\n",
      "  2330.  7560.  8500. 12930. 12980.  4370. 11080.  4140.  5510.  2340.\n",
      "  7540.  8450. 14210. 12570.  4380. 11130.  4140.  5500.  2330.  7130.]\n",
      "[16000 45255  4000 11260 64000  5648 32000 22627  8000 16000 45255  4000\n",
      " 11260 64000  5648 32000 22627  8000 16000 45255  4000 11260 64000  5648\n",
      " 32000 22627  8000 16000 45255  4000 11260 64000  5648 32000 22627  8000\n",
      " 16000 45255  4000 11260 64000  5648 32000 22627  8000 16000 45255  4000\n",
      " 11260 64000  5648 32000 22627  8000 16000 45255  4000 11260 64000  5648\n",
      " 32000 22627  8000 16000 45255  4000 11260 64000  5648 32000 22627  8000\n",
      " 16000 45255  4000 11260 64000  5648 32000 22627  8000 16000 45255  4000\n",
      " 11260 64000  5648 32000 22627  8000 16000 45255  4000 11260 64000  5648\n",
      " 32000 22627  8000 16000 45255  4000 11260 64000  5648 32000 22627  8000\n",
      " 16000 45255  4000 11260 64000  5648 32000 22627  8000 16000 45255  4000\n",
      " 11260 64000  5648 32000 22627  8000 16000 45255  4000 11260 64000  5648\n",
      " 32000 22627  8000 16000 45255  4000 11260 64000  5648 32000 22627  8000\n",
      " 16000 45255  4000 11260 64000  5648 32000 22627  8000 16000 45255  4000\n",
      " 11260 64000  5648 32000 22627  8000 16000 45255  4000 11260 64000  5648\n",
      " 32000 22627  8000 16000 45255  4000 11260 64000  5648 32000 22627  8000\n",
      " 16000 45255  4000 11260 64000  5648 32000 22627  8000 16000 45255  4000\n",
      " 11260 64000  5648 32000 22627  8000 16000 45255  4000 11260 64000  5648\n",
      " 32000 22627  8000 16000 45255  4000 11260 64000  5648 32000 22627  8000\n",
      " 16000 45255  4000 11260 64000  5648 32000 22627  8000 16000 45255  4000\n",
      " 11260 64000  5648 32000 22627  8000 16000 45255  4000 11260 64000  5648\n",
      " 32000 22627  8000 16000 45255  4000 11260 64000  5648 32000 22627  8000\n",
      " 16000 45255  4000 11260 64000  5648 32000 22627  8000 16000 45255  4000\n",
      " 11260 64000  5648 32000 22627  8000 16000 45255  4000 11260 64000  5648\n",
      " 32000 22627  8000 16000 45255  4000 11260 64000  5648 32000 22627  8000\n",
      " 16000 45255  4000 11260 64000  5648 32000 22627  8000 16000 45255  4000\n",
      " 11260 64000  5648 32000 22627  8000 16000 45255  4000 11260 64000  5648\n",
      " 32000 22627  8000 16000 45255  4000 11260 64000  5648 32000 22627  8000\n",
      " 16000 45255  4000 11260 64000  5648 32000 22627  8000 16000 45255  4000\n",
      " 11260 64000  5648 32000 22627  8000 16000 45255  4000 11260 64000  5648\n",
      " 32000 22627  8000 16000 45255  4000 11260 64000  5648 32000 22627  8000\n",
      " 16000 45255  4000 11260 64000  5648 32000 22627  8000 16000 45255  4000\n",
      " 11260 64000  5648 32000 22627  8000 16000 45255  4000 11260 64000  5648\n",
      " 32000 22627  8000 16000 45255  4000 11260 64000  5648 32000 22627  8000\n",
      " 16000 45255  4000 11260 64000  5648 32000 22627  8000 16000 45255  4000\n",
      " 11260 64000  5648 32000 22627  8000 16000 45255  4000 11260 64000  5648\n",
      " 32000 22627  8000 16000 45255  4000 11260 64000  5648 32000 22627  8000\n",
      " 16000 45255  4000 11260 64000  5648 32000 22627  8000 16000 45255  4000\n",
      " 11260 64000  5648 32000 22627  8000]\n",
      "0.245\n"
     ]
    }
   ],
   "source": [
    "res = verifyCorrectTonePresentation(sessionfile)\n",
    "print(res)"
   ]
  },
  {
   "cell_type": "code",
   "execution_count": null,
   "id": "e0c3765b-cccd-44c2-bb95-af523e869c02",
   "metadata": {},
   "outputs": [],
   "source": []
  },
  {
   "cell_type": "code",
   "execution_count": null,
   "id": "0d68b34b-8c86-4755-a51e-9114c921ba6b",
   "metadata": {},
   "outputs": [],
   "source": []
  },
  {
   "cell_type": "code",
   "execution_count": null,
   "id": "9d9feb1b-00c7-4424-97bd-95decbb275e4",
   "metadata": {},
   "outputs": [],
   "source": []
  },
  {
   "cell_type": "code",
   "execution_count": null,
   "id": "c7242aa6-e5db-43ef-bed6-24c1e33a6f8e",
   "metadata": {},
   "outputs": [],
   "source": []
  },
  {
   "cell_type": "code",
   "execution_count": null,
   "id": "1cc5ddee-48ba-4cf9-b44a-7f9b41ff48ca",
   "metadata": {},
   "outputs": [],
   "source": []
  },
  {
   "cell_type": "code",
   "execution_count": null,
   "id": "e7b21912-48e7-4137-980c-d53292c28a2f",
   "metadata": {},
   "outputs": [],
   "source": []
  },
  {
   "cell_type": "code",
   "execution_count": null,
   "id": "3e30738f-b71d-4c4e-a3b5-ffd06bdafe17",
   "metadata": {},
   "outputs": [],
   "source": []
  }
 ],
 "metadata": {
  "kernelspec": {
   "display_name": "Python 3",
   "language": "python",
   "name": "python3"
  },
  "language_info": {
   "codemirror_mode": {
    "name": "ipython",
    "version": 3
   },
   "file_extension": ".py",
   "mimetype": "text/x-python",
   "name": "python",
   "nbconvert_exporter": "python",
   "pygments_lexer": "ipython3",
   "version": "3.8.8"
  }
 },
 "nbformat": 4,
 "nbformat_minor": 5
}
