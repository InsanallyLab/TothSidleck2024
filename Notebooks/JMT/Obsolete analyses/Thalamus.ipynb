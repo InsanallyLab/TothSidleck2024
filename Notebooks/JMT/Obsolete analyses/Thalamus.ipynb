{
 "cells": [
  {
   "cell_type": "code",
   "execution_count": 1,
   "id": "2728777a",
   "metadata": {},
   "outputs": [],
   "source": [
    "import sys, os\n",
    "import json, pickle\n",
    "import matplotlib.pyplot as plt\n",
    "import matplotlib as mpl\n",
    "import numpy as np\n",
    "import pandas as pd\n",
    "import time as pytime\n",
    "import statsmodels.tsa.stattools as tsa\n",
    "import ruptures as rpt\n",
    "import InsanallyLabEphysTools as ilep\n",
    "from scipy.stats import gaussian_kde, sem, ttest_ind, ttest_rel, norm, mannwhitneyu, linregress, wilcoxon\n",
    "from tqdm import tqdm\n",
    "from types import SimpleNamespace\n",
    "from sklearn import linear_model\n",
    "\n",
    "plt.rcParams['legend.fontsize'] = 'small'\n",
    "plt.rcParams['axes.labelsize'] = 'medium'\n",
    "plt.rcParams['axes.formatter.limits'] = [-2,3]\n",
    "plt.rcParams['axes.formatter.use_mathtext'] = True\n",
    "plt.rcParams['axes.spines.top'] = False\n",
    "plt.rcParams['axes.spines.right'] = False\n",
    "plt.rcParams['xtick.direction'] = 'in'\n",
    "plt.rcParams['ytick.direction'] = 'in'\n",
    "plt.rcParams['figure.dpi'] = '150'\n",
    "\n",
    "#Set global font parameters\n",
    "plt.rcParams['font.family'] = 'sans-serif'\n",
    "plt.rcParams['font.sans-serif'] = 'Arial'\n",
    "#Set font type to TrueType for compatibility\n",
    "plt.rcParams['pdf.fonttype'] = 42\n",
    "plt.rcParams['ps.fonttype'] = 42\n",
    "\n",
    "CR_COLOR = '#808080'\n",
    "NCR_COLOR = '#FF767C'\n",
    "CNO_COLOR = '#00BFFF'"
   ]
  },
  {
   "cell_type": "code",
   "execution_count": 2,
   "id": "c2fb90f2",
   "metadata": {},
   "outputs": [
    {
     "name": "stdout",
     "output_type": "stream",
     "text": [
      "3 sessions\n",
      "AC       : 0\n",
      "M2       : 0\n",
      "Trim     : 0\n",
      "Disq Len : 0\n",
      "Disq ISI : 1\n",
      "Disq FR  : 0\n",
      "namespace(animal='BS_152', arraystart=0, date='7/5/2022', depth=2900, directory='D:\\\\ThalamusRecording\\\\BS_152\\\\BS_152 6\\\\MGB\\\\', files=['June 5 2022 Thalamus BS_152_4004'], fs=30000, length_in_minutes=5.073002777777777, length_in_samples=9131405.0, length_in_seconds=304.38016666666664, length_in_trials=213, lickdelayrelativetostart=0.2, lickdelayrelativetotone=0.1, probe=8945, recording_session=6, region='MGB', task='thalamus tuning', tonelength=0.1, triallength=2.5)\n"
     ]
    }
   ],
   "source": [
    "directory = 'D:\\\\Thalamus_Cache'\n",
    "\n",
    "numbersessions = 0\n",
    "numberdisqlen = 0\n",
    "numberdisqISI = 0\n",
    "numberdisqFR = 0\n",
    "numAC = 0\n",
    "numM2 = 0\n",
    "numTrim = 0\n",
    "\n",
    "sessions = os.listdir(directory)\n",
    "for session in sessions:\n",
    "    sessionfile = ilep.loadSessionCached(directory,session)\n",
    "    numbersessions += 1\n",
    "    if hasattr(sessionfile.disqualified,'NumTrials'):\n",
    "        numberdisqlen += len(sessionfile.disqualified.NumTrials)\n",
    "    if hasattr(sessionfile.disqualified,'ISI'):\n",
    "        numberdisqISI += len(sessionfile.disqualified.ISI)\n",
    "    if hasattr(sessionfile.disqualified,'FRthresh'):\n",
    "        numberdisqFR += len(sessionfile.disqualified.FRthresh)\n",
    "\n",
    "    if sessionfile.meta.region == 'AC':\n",
    "        numAC += len(sessionfile.clusters.good)\n",
    "    elif sessionfile.meta.region == 'M2':\n",
    "        numM2 += len(sessionfile.clusters.good)\n",
    "    else:\n",
    "        pass\n",
    "    \n",
    "    if hasattr(sessionfile,'trim'):\n",
    "        numTrim += 1\n",
    "\n",
    "print(str(numbersessions)+' sessions')\n",
    "print('AC       : ' + str(numAC))\n",
    "print('M2       : ' + str(numM2))\n",
    "print('Trim     : ' + str(numTrim))\n",
    "print('Disq Len : ' + str(numberdisqlen))\n",
    "print('Disq ISI : ' + str(numberdisqISI))\n",
    "print('Disq FR  : ' + str(numberdisqFR))\n",
    "print(sessionfile.meta)"
   ]
  },
  {
   "cell_type": "code",
   "execution_count": null,
   "id": "436c226d",
   "metadata": {},
   "outputs": [],
   "source": []
  },
  {
   "cell_type": "code",
   "execution_count": null,
   "id": "b487cae2",
   "metadata": {},
   "outputs": [],
   "source": []
  },
  {
   "cell_type": "code",
   "execution_count": null,
   "id": "f2ba5b62",
   "metadata": {},
   "outputs": [],
   "source": []
  },
  {
   "cell_type": "code",
   "execution_count": null,
   "id": "cc2b583a",
   "metadata": {},
   "outputs": [],
   "source": []
  },
  {
   "cell_type": "code",
   "execution_count": null,
   "id": "45439fcc",
   "metadata": {},
   "outputs": [],
   "source": []
  },
  {
   "cell_type": "code",
   "execution_count": 84,
   "id": "4bc30880",
   "metadata": {},
   "outputs": [
    {
     "name": "stderr",
     "output_type": "stream",
     "text": [
      "100%|██████████| 1/1 [00:00<00:00,  4.88it/s]"
     ]
    },
    {
     "name": "stdout",
     "output_type": "stream",
     "text": [
      "D:\\ThalamusRecording\\BS_152\\BS_152 1\\AC\\session_metadata.json missing. Skipping\n",
      "D:\\ThalamusRecording\\BS_152\\BS_152 1\\M2\\session_metadata.json missing. Skipping\n",
      "D:\\ThalamusRecording\\BS_152\\BS_152 1\\MGB\\session_metadata.json missing. Skipping\n",
      "D:\\ThalamusRecording\\BS_152\\BS_152 10\\AC\\session_metadata.json missing. Skipping\n",
      "D:\\ThalamusRecording\\BS_152\\BS_152 10\\M2\\session_metadata.json missing. Skipping\n",
      "D:\\ThalamusRecording\\BS_152\\BS_152 2\\AC\\session_metadata.json missing. Skipping\n",
      "D:\\ThalamusRecording\\BS_152\\BS_152 2\\M2\\session_metadata.json missing. Skipping\n",
      "D:\\ThalamusRecording\\BS_152\\BS_152 6\\AC\\session_metadata.json missing. Skipping\n",
      "D:\\ThalamusRecording\\BS_152\\BS_152 6\\M2\\session_metadata.json missing. Skipping\n",
      "BS_152 complete\n"
     ]
    },
    {
     "name": "stderr",
     "output_type": "stream",
     "text": [
      "100%|██████████| 1/1 [00:00<00:00,  4.88it/s]"
     ]
    },
    {
     "name": "stdout",
     "output_type": "stream",
     "text": [
      "D:\\ThalamusRecording complete\n",
      "END PROCESS\n",
      "Finished       : 0.0034165064493815104 minutes elapsed\n"
     ]
    },
    {
     "name": "stderr",
     "output_type": "stream",
     "text": [
      "\n"
     ]
    }
   ],
   "source": [
    "starttime = pytime.time()\n",
    "\n",
    "#if False:\n",
    "if True:    \n",
    "    #Trim Sessions\n",
    "    #ilep.trimSessions('S:\\\\Sorts\\DualRecording',replace=False)\n",
    "    #endtime1 = pytime.time()\n",
    "    #print('END TRIMMING')\n",
    "    #Calculate Responsiveness\n",
    "    #ilep.calculateResponsiveness('S:\\\\Sorts\\DualRecording',replace=True)\n",
    "    #endtime2 = pytime.time()\n",
    "    #print('END RESPONSIVENESS')\n",
    "    #Finish\n",
    "    ilep.loadSessionsComplete('D:\\\\ThalamusRecording',destination='D:\\\\Thalamus_Cache',verbose=False)\n",
    "    endtime3 = pytime.time()\n",
    "    print('END PROCESS')\n",
    "    #print('Trimming       : ' + str((endtime1-starttime)/60)+' minutes elapsed');\n",
    "    #print('Responsiveness : ' + str((endtime2-starttime)/60)+' minutes elapsed');\n",
    "    print('Finished       : ' + str((endtime3-starttime)/60)+' minutes elapsed');"
   ]
  },
  {
   "cell_type": "code",
   "execution_count": 3,
   "id": "e71f20e5",
   "metadata": {},
   "outputs": [
    {
     "name": "stdout",
     "output_type": "stream",
     "text": [
      "['BS_152_10_thalamus_tuning_MGB.pickle', 'BS_152_2_thalamus_tuning_MGB.pickle', 'BS_152_6_thalamus_tuning_MGB.pickle']\n"
     ]
    }
   ],
   "source": [
    "print(sessions)"
   ]
  },
  {
   "cell_type": "code",
   "execution_count": 3,
   "id": "0367af0e",
   "metadata": {},
   "outputs": [],
   "source": [
    "sessionfile = ilep.loadSessionCached(directory,sessions[2])"
   ]
  },
  {
   "cell_type": "code",
   "execution_count": 4,
   "id": "5344d475",
   "metadata": {},
   "outputs": [
    {
     "data": {
      "text/plain": [
       "namespace(directory='D:\\\\ThalamusRecording\\\\BS_152\\\\BS_152 6\\\\MGB\\\\',\n",
       "          region='MGB',\n",
       "          animal='BS_152',\n",
       "          probe=8945,\n",
       "          date='7/5/2022',\n",
       "          depth=2900,\n",
       "          task='thalamus tuning',\n",
       "          recording_session=6,\n",
       "          length_in_samples=9131405.0,\n",
       "          files=['June 5 2022 Thalamus BS_152_4004'],\n",
       "          arraystart=0,\n",
       "          tonelength=0.1,\n",
       "          triallength=2.5,\n",
       "          lickdelayrelativetostart=0.2,\n",
       "          lickdelayrelativetotone=0.1,\n",
       "          fs=30000,\n",
       "          length_in_seconds=304.38016666666664,\n",
       "          length_in_minutes=5.073002777777777,\n",
       "          length_in_trials=213)"
      ]
     },
     "execution_count": 4,
     "metadata": {},
     "output_type": "execute_result"
    }
   ],
   "source": [
    "sessionfile.meta"
   ]
  },
  {
   "cell_type": "code",
   "execution_count": null,
   "id": "520fcd3b",
   "metadata": {},
   "outputs": [],
   "source": []
  },
  {
   "cell_type": "code",
   "execution_count": 14,
   "id": "7ef7dc39",
   "metadata": {},
   "outputs": [
    {
     "data": {
      "text/plain": [
       "27"
      ]
     },
     "execution_count": 14,
     "metadata": {},
     "output_type": "execute_result"
    }
   ],
   "source": [
    "9*3"
   ]
  },
  {
   "cell_type": "code",
   "execution_count": 5,
   "id": "bce08158",
   "metadata": {},
   "outputs": [
    {
     "data": {
      "image/png": "[encoded data removed]",
      "text/plain": [
       "<Figure size 600x600 with 1 Axes>"
      ]
     },
     "metadata": {
      "needs_background": "light"
     },
     "output_type": "display_data"
    }
   ],
   "source": [
    "for clust in sessionfile.clusters.good:\n",
    "    plt.close('all')\n",
    "    #Caching search -- Unit\n",
    "    idx = np.equal(sessionfile.spikes.clusters,clust)\n",
    "    totaltimes = sessionfile.spikes.times[idx]\n",
    "    \n",
    "    toneFreqs = [4, 5.7, 8, 11.3, 16, 22.6, 32, 45.3]*3#, 64]*3\n",
    "    tonepresentationnums = [8,9,9,9,9,9,9,9]*3#,9]*3\n",
    "    numtones = len(tonepresentationnums)\n",
    "    \n",
    "    responses = dict()\n",
    "    for tone in toneFreqs:\n",
    "        responses[tone] = []\n",
    "    \n",
    "    toneidx = 0\n",
    "    for idx,tonenum in enumerate(tonepresentationnums):\n",
    "        for idxx in range(tonenum):\n",
    "            trialstart = sessionfile.trials.starts[toneidx]\n",
    "        \n",
    "            window = 0.25\n",
    "        \n",
    "            #Caching search -- Trial\n",
    "            tonestart = trialstart\n",
    "            toneend = trialstart + window*sessionfile.meta.fs\n",
    "            spikeidxs = np.logical_and(      np.greater(totaltimes,tonestart) , np.less(totaltimes,toneend)     )\n",
    "            numspikes = np.sum(spikeidxs)\n",
    "            \n",
    "            responses[toneFreqs[idx]].append(numspikes / window)\n",
    "\n",
    "            toneidx += 1\n",
    "    \n",
    "    #for tone in responses:\n",
    "    #    print(tone)\n",
    "    #    print(len(responses[tone]))\n",
    "    #    print(responses[tone])\n",
    "    #print('\\n')\n",
    "    \n",
    "    X = []\n",
    "    Y = []\n",
    "    S = []\n",
    "    tones = np.sort(np.unique(toneFreqs))\n",
    "    for tone in tones:\n",
    "        X.append(tone)\n",
    "        Y.append(np.mean(responses[tone]))\n",
    "        #S.append(np.std(responses[tone]))\n",
    "        S.append(sem(responses[tone]))\n",
    "    Y = np.array(Y)\n",
    "    S = np.array(S)\n",
    "        \n",
    "    fig, ax = plt.subplots(figsize=(4,4))\n",
    "    ax.plot(range(len(X)),Y,color='k')\n",
    "    ax.fill_between(range(len(X)),Y-S,Y+S,color='k',alpha=0.125,lw=0)\n",
    "    \n",
    "    xlims = [0,len(Y)-1]\n",
    "    ylims = ax.get_ylim()\n",
    "    if ylims[0] < 0 and ylims[1] > 0:\n",
    "        ax.plot(xlims,[0,0],color='k',lw=1,zorder=-10)\n",
    "    ax.set_xlim(xlims)\n",
    "    \n",
    "    ylims = ax.get_ylim()\n",
    "    ylims = [ np.floor(ylims[0]/5)*5, np.ceil(ylims[1]/5)*5 ]\n",
    "    ax.set_ylim(ylims)\n",
    "    ticks = np.linspace(ylims[0],ylims[1],num=int((ylims[1]-ylims[0])/5 +1) )\n",
    "    ax.set_yticks(ticks)\n",
    "    \n",
    "    ax.set_xticks(range(len(Y)))\n",
    "    ax.set_xticklabels(X)\n",
    "    ax.set_ylabel('Firing rate (spikes/s)')\n",
    "    ax.set_xlabel('Frequency (kHz)')\n",
    "    \n",
    "    plt.tight_layout()\n",
    "    fig.savefig(os.path.join('D:\\\\\\\\Figures','Thalamus',sessionfile.meta.animal + ' ' + sessionfile.meta.region + ' ' + str(sessionfile.meta.recording_session) + ' cluster ' + str(clust) + '.pdf'),transparent=False,facecolor=\"white\")"
   ]
  },
  {
   "cell_type": "code",
   "execution_count": null,
   "id": "534a6224",
   "metadata": {},
   "outputs": [],
   "source": []
  },
  {
   "cell_type": "code",
   "execution_count": null,
   "id": "f02dd090",
   "metadata": {},
   "outputs": [],
   "source": []
  },
  {
   "cell_type": "code",
   "execution_count": null,
   "id": "b3dffd45",
   "metadata": {},
   "outputs": [],
   "source": []
  },
  {
   "cell_type": "code",
   "execution_count": null,
   "id": "2db9c31a",
   "metadata": {},
   "outputs": [],
   "source": []
  },
  {
   "cell_type": "code",
   "execution_count": null,
   "id": "3d5c94c4",
   "metadata": {},
   "outputs": [],
   "source": []
  },
  {
   "cell_type": "code",
   "execution_count": null,
   "id": "6a668a0e",
   "metadata": {},
   "outputs": [],
   "source": []
  },
  {
   "cell_type": "code",
   "execution_count": null,
   "id": "9b4c2a32",
   "metadata": {},
   "outputs": [],
   "source": []
  },
  {
   "cell_type": "code",
   "execution_count": 10,
   "id": "14cad1db",
   "metadata": {},
   "outputs": [],
   "source": [
    "from matplotlib import font_manager"
   ]
  },
  {
   "cell_type": "code",
   "execution_count": 11,
   "id": "3ceb9ef2",
   "metadata": {},
   "outputs": [],
   "source": [
    "font_manager._rebuild()"
   ]
  },
  {
   "cell_type": "code",
   "execution_count": null,
   "id": "4f4ca79f",
   "metadata": {},
   "outputs": [],
   "source": []
  },
  {
   "cell_type": "code",
   "execution_count": null,
   "id": "11bb5b42",
   "metadata": {},
   "outputs": [],
   "source": []
  },
  {
   "cell_type": "code",
   "execution_count": null,
   "id": "4ad93353",
   "metadata": {},
   "outputs": [],
   "source": []
  }
 ],
 "metadata": {
  "kernelspec": {
   "display_name": "Python 3",
   "language": "python",
   "name": "python3"
  },
  "language_info": {
   "codemirror_mode": {
    "name": "ipython",
    "version": 3
   },
   "file_extension": ".py",
   "mimetype": "text/x-python",
   "name": "python",
   "nbconvert_exporter": "python",
   "pygments_lexer": "ipython3",
   "version": "3.8.8"
  }
 },
 "nbformat": 4,
 "nbformat_minor": 5
}
