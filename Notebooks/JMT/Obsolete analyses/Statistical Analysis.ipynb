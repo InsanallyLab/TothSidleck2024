{
 "cells": [
  {
   "cell_type": "code",
   "execution_count": 2,
   "metadata": {},
   "outputs": [
    {
     "name": "stderr",
     "output_type": "stream",
     "text": [
      "C:\\Users\\insan\\anaconda3\\envs\\EphysPlotting\\lib\\site-packages\\outdated\\utils.py:14: OutdatedPackageWarning: The package pingouin is out of date. Your version is 0.5.2, the latest is 0.5.3.\n",
      "Set the environment variable OUTDATED_IGNORE=1 to disable these warnings.\n",
      "  return warn(\n"
     ]
    }
   ],
   "source": [
    "import numpy as np\n",
    "import pingouin as pg\n",
    "import pandas as pd\n",
    "import pickle\n",
    "import matplotlib.pyplot as plt"
   ]
  },
  {
   "cell_type": "code",
   "execution_count": null,
   "metadata": {},
   "outputs": [],
   "source": []
  },
  {
   "cell_type": "code",
   "execution_count": null,
   "metadata": {},
   "outputs": [],
   "source": []
  },
  {
   "cell_type": "code",
   "execution_count": null,
   "metadata": {},
   "outputs": [],
   "source": []
  },
  {
   "cell_type": "markdown",
   "metadata": {},
   "source": [
    "# Modulation"
   ]
  },
  {
   "cell_type": "code",
   "execution_count": 3,
   "metadata": {},
   "outputs": [],
   "source": [
    "with open(\"C:\\\\Users\\\\insan\\\\Desktop\\\\FRmodDataForStats.pickle\", \"rb\") as f:\n",
    "    data = pickle.load(f)"
   ]
  },
  {
   "cell_type": "code",
   "execution_count": 4,
   "metadata": {},
   "outputs": [],
   "source": [
    "phase = len(data.postreversal_early)*[\"pre-early\"] + len(data.prereversal_late)*[\"pre-late\"] + len(data.prereversal_expert)*[\"pre-expert\"] \\\n",
    "        + len(data.postreversal_early)*[\"post-early\"] + len(data.postreversal_late)*[\"post-late\"] + len(data.postreversal_expert)*[\"post-expert\"]\n",
    "context = len(data.prereversal_early)*[\"pre\"] + len(data.prereversal_late)*[\"pre\"] + len(data.prereversal_expert)*[\"pre\"] \\\n",
    "        + len(data.postreversal_early)*[\"post\"] + len(data.postreversal_late)*[\"post\"] + len(data.postreversal_expert)*[\"post\"]\n",
    "mod = np.concatenate([data.postreversal_early, data.prereversal_late, data.prereversal_expert, data.postreversal_early, data.postreversal_late, data.postreversal_expert])\n",
    "\n",
    "df = pd.DataFrame({\"phase\": phase, \"FR_mod\": mod})"
   ]
  },
  {
   "cell_type": "code",
   "execution_count": 5,
   "metadata": {},
   "outputs": [
    {
     "data": {
      "text/html": [
       "<div>\n",
       "<style scoped>\n",
       "    .dataframe tbody tr th:only-of-type {\n",
       "        vertical-align: middle;\n",
       "    }\n",
       "\n",
       "    .dataframe tbody tr th {\n",
       "        vertical-align: top;\n",
       "    }\n",
       "\n",
       "    .dataframe thead th {\n",
       "        text-align: right;\n",
       "    }\n",
       "</style>\n",
       "<table border=\"1\" class=\"dataframe\">\n",
       "  <thead>\n",
       "    <tr style=\"text-align: right;\">\n",
       "      <th></th>\n",
       "      <th>Source</th>\n",
       "      <th>ddof1</th>\n",
       "      <th>ddof2</th>\n",
       "      <th>F</th>\n",
       "      <th>p-unc</th>\n",
       "      <th>np2</th>\n",
       "    </tr>\n",
       "  </thead>\n",
       "  <tbody>\n",
       "    <tr>\n",
       "      <th>0</th>\n",
       "      <td>phase</td>\n",
       "      <td>5</td>\n",
       "      <td>1527</td>\n",
       "      <td>7.588464</td>\n",
       "      <td>4.720937e-07</td>\n",
       "      <td>0.024245</td>\n",
       "    </tr>\n",
       "  </tbody>\n",
       "</table>\n",
       "</div>"
      ],
      "text/plain": [
       "  Source  ddof1  ddof2         F         p-unc       np2\n",
       "0  phase      5   1527  7.588464  4.720937e-07  0.024245"
      ]
     },
     "execution_count": 5,
     "metadata": {},
     "output_type": "execute_result"
    }
   ],
   "source": [
    "# Checking that the anova is significant\n",
    "\n",
    "pg.anova(df, dv=\"FR_mod\", between=\"phase\")"
   ]
  },
  {
   "cell_type": "code",
   "execution_count": 6,
   "metadata": {},
   "outputs": [
    {
     "data": {
      "text/html": [
       "<div>\n",
       "<style scoped>\n",
       "    .dataframe tbody tr th:only-of-type {\n",
       "        vertical-align: middle;\n",
       "    }\n",
       "\n",
       "    .dataframe tbody tr th {\n",
       "        vertical-align: top;\n",
       "    }\n",
       "\n",
       "    .dataframe thead th {\n",
       "        text-align: right;\n",
       "    }\n",
       "</style>\n",
       "<table border=\"1\" class=\"dataframe\">\n",
       "  <thead>\n",
       "    <tr style=\"text-align: right;\">\n",
       "      <th></th>\n",
       "      <th>A</th>\n",
       "      <th>B</th>\n",
       "      <th>p-tukey</th>\n",
       "      <th>hedges</th>\n",
       "    </tr>\n",
       "  </thead>\n",
       "  <tbody>\n",
       "    <tr>\n",
       "      <th>0</th>\n",
       "      <td>post-early</td>\n",
       "      <td>post-expert</td>\n",
       "      <td>0.000296</td>\n",
       "      <td>0.347108</td>\n",
       "    </tr>\n",
       "    <tr>\n",
       "      <th>1</th>\n",
       "      <td>post-early</td>\n",
       "      <td>post-late</td>\n",
       "      <td>0.001521</td>\n",
       "      <td>0.322225</td>\n",
       "    </tr>\n",
       "    <tr>\n",
       "      <th>4</th>\n",
       "      <td>post-early</td>\n",
       "      <td>pre-late</td>\n",
       "      <td>0.011266</td>\n",
       "      <td>0.306001</td>\n",
       "    </tr>\n",
       "    <tr>\n",
       "      <th>6</th>\n",
       "      <td>post-expert</td>\n",
       "      <td>pre-early</td>\n",
       "      <td>0.000296</td>\n",
       "      <td>-0.347108</td>\n",
       "    </tr>\n",
       "    <tr>\n",
       "      <th>9</th>\n",
       "      <td>post-late</td>\n",
       "      <td>pre-early</td>\n",
       "      <td>0.001521</td>\n",
       "      <td>-0.322225</td>\n",
       "    </tr>\n",
       "    <tr>\n",
       "      <th>13</th>\n",
       "      <td>pre-early</td>\n",
       "      <td>pre-late</td>\n",
       "      <td>0.011266</td>\n",
       "      <td>0.306001</td>\n",
       "    </tr>\n",
       "  </tbody>\n",
       "</table>\n",
       "</div>"
      ],
      "text/plain": [
       "              A            B   p-tukey    hedges\n",
       "0    post-early  post-expert  0.000296  0.347108\n",
       "1    post-early    post-late  0.001521  0.322225\n",
       "4    post-early     pre-late  0.011266  0.306001\n",
       "6   post-expert    pre-early  0.000296 -0.347108\n",
       "9     post-late    pre-early  0.001521 -0.322225\n",
       "13    pre-early     pre-late  0.011266  0.306001"
      ]
     },
     "execution_count": 6,
     "metadata": {},
     "output_type": "execute_result"
    }
   ],
   "source": [
    "# Pairwise Tukey-HSD post-hoc test\n",
    "\n",
    "pairwise_tukey = pg.pairwise_tukey(data=df, dv='FR_mod', between=\"phase\")\n",
    "\n",
    "pairwise_tukey[pairwise_tukey[\"p-tukey\"] <= 0.05][[\"A\", \"B\", \"p-tukey\", \"hedges\"]]"
   ]
  },
  {
   "cell_type": "code",
   "execution_count": 8,
   "metadata": {},
   "outputs": [
    {
     "data": {
      "text/html": [
       "<div>\n",
       "<style scoped>\n",
       "    .dataframe tbody tr th:only-of-type {\n",
       "        vertical-align: middle;\n",
       "    }\n",
       "\n",
       "    .dataframe tbody tr th {\n",
       "        vertical-align: top;\n",
       "    }\n",
       "\n",
       "    .dataframe thead th {\n",
       "        text-align: right;\n",
       "    }\n",
       "</style>\n",
       "<table border=\"1\" class=\"dataframe\">\n",
       "  <thead>\n",
       "    <tr style=\"text-align: right;\">\n",
       "      <th></th>\n",
       "      <th>A</th>\n",
       "      <th>B</th>\n",
       "      <th>p-unc</th>\n",
       "      <th>p-corr</th>\n",
       "      <th>hedges</th>\n",
       "    </tr>\n",
       "  </thead>\n",
       "  <tbody>\n",
       "    <tr>\n",
       "      <th>0</th>\n",
       "      <td>post-early</td>\n",
       "      <td>post-expert</td>\n",
       "      <td>0.000004</td>\n",
       "      <td>0.000029</td>\n",
       "      <td>0.323909</td>\n",
       "    </tr>\n",
       "    <tr>\n",
       "      <th>1</th>\n",
       "      <td>post-early</td>\n",
       "      <td>post-late</td>\n",
       "      <td>0.000179</td>\n",
       "      <td>0.000671</td>\n",
       "      <td>0.307050</td>\n",
       "    </tr>\n",
       "    <tr>\n",
       "      <th>4</th>\n",
       "      <td>post-early</td>\n",
       "      <td>pre-late</td>\n",
       "      <td>0.005295</td>\n",
       "      <td>0.009929</td>\n",
       "      <td>0.283627</td>\n",
       "    </tr>\n",
       "    <tr>\n",
       "      <th>6</th>\n",
       "      <td>post-expert</td>\n",
       "      <td>pre-early</td>\n",
       "      <td>0.000004</td>\n",
       "      <td>0.000029</td>\n",
       "      <td>-0.323909</td>\n",
       "    </tr>\n",
       "    <tr>\n",
       "      <th>7</th>\n",
       "      <td>post-expert</td>\n",
       "      <td>pre-expert</td>\n",
       "      <td>0.000240</td>\n",
       "      <td>0.000719</td>\n",
       "      <td>-0.262201</td>\n",
       "    </tr>\n",
       "    <tr>\n",
       "      <th>9</th>\n",
       "      <td>post-late</td>\n",
       "      <td>pre-early</td>\n",
       "      <td>0.000179</td>\n",
       "      <td>0.000671</td>\n",
       "      <td>-0.307050</td>\n",
       "    </tr>\n",
       "    <tr>\n",
       "      <th>10</th>\n",
       "      <td>post-late</td>\n",
       "      <td>pre-expert</td>\n",
       "      <td>0.002974</td>\n",
       "      <td>0.007434</td>\n",
       "      <td>-0.253696</td>\n",
       "    </tr>\n",
       "    <tr>\n",
       "      <th>13</th>\n",
       "      <td>pre-early</td>\n",
       "      <td>pre-late</td>\n",
       "      <td>0.005295</td>\n",
       "      <td>0.009929</td>\n",
       "      <td>0.283627</td>\n",
       "    </tr>\n",
       "    <tr>\n",
       "      <th>14</th>\n",
       "      <td>pre-expert</td>\n",
       "      <td>pre-late</td>\n",
       "      <td>0.024076</td>\n",
       "      <td>0.040126</td>\n",
       "      <td>0.233924</td>\n",
       "    </tr>\n",
       "  </tbody>\n",
       "</table>\n",
       "</div>"
      ],
      "text/plain": [
       "              A            B     p-unc    p-corr    hedges\n",
       "0    post-early  post-expert  0.000004  0.000029  0.323909\n",
       "1    post-early    post-late  0.000179  0.000671  0.307050\n",
       "4    post-early     pre-late  0.005295  0.009929  0.283627\n",
       "6   post-expert    pre-early  0.000004  0.000029 -0.323909\n",
       "7   post-expert   pre-expert  0.000240  0.000719 -0.262201\n",
       "9     post-late    pre-early  0.000179  0.000671 -0.307050\n",
       "10    post-late   pre-expert  0.002974  0.007434 -0.253696\n",
       "13    pre-early     pre-late  0.005295  0.009929  0.283627\n",
       "14   pre-expert     pre-late  0.024076  0.040126  0.233924"
      ]
     },
     "execution_count": 8,
     "metadata": {},
     "output_type": "execute_result"
    }
   ],
   "source": [
    "# Conducting pairwise tests using Benjamini/Hochberg FDR correction to Mann-Whitney U\n",
    "\n",
    "pairwise_mwu = pg.pairwise_tests(data=df, dv='FR_mod', between=\"phase\", padjust=\"fdr_bh\", parametric=False, )\n",
    "\n",
    "pairwise_mwu[pairwise_mwu[\"p-corr\"] <= 0.05][[\"A\", \"B\", \"p-unc\", \"p-corr\", \"hedges\"]]"
   ]
  },
  {
   "cell_type": "code",
   "execution_count": null,
   "metadata": {},
   "outputs": [],
   "source": []
  },
  {
   "cell_type": "code",
   "execution_count": null,
   "metadata": {},
   "outputs": [],
   "source": []
  },
  {
   "cell_type": "code",
   "execution_count": null,
   "metadata": {},
   "outputs": [],
   "source": []
  },
  {
   "cell_type": "code",
   "execution_count": null,
   "metadata": {},
   "outputs": [],
   "source": []
  },
  {
   "cell_type": "markdown",
   "metadata": {},
   "source": [
    "# Spontaneous"
   ]
  },
  {
   "cell_type": "code",
   "execution_count": 4,
   "metadata": {},
   "outputs": [],
   "source": [
    "with open(\"C:\\\\Users\\\\4thgr\\\\Desktop\\\\FRbDataForStats.pickle\", \"rb\") as f:\n",
    "    data = pickle.load(f)"
   ]
  },
  {
   "cell_type": "code",
   "execution_count": 5,
   "metadata": {},
   "outputs": [],
   "source": [
    "phase = len(data.postreversal_early)*[\"pre-early\"] + len(data.prereversal_late)*[\"pre-late\"] + len(data.prereversal_expert)*[\"pre-expert\"] \\\n",
    "        + len(data.postreversal_early)*[\"post-early\"] + len(data.postreversal_late)*[\"post-late\"] + len(data.postreversal_expert)*[\"post-expert\"] \n",
    "mod = np.concatenate([data.postreversal_early, data.prereversal_late, data.prereversal_expert, data.postreversal_early, data.postreversal_late, data.postreversal_expert])\n",
    "\n",
    "df = pd.DataFrame({\"phase\": phase, \"FR_mod\": mod})"
   ]
  },
  {
   "cell_type": "code",
   "execution_count": 6,
   "metadata": {},
   "outputs": [
    {
     "data": {
      "text/html": [
       "<div>\n",
       "<style scoped>\n",
       "    .dataframe tbody tr th:only-of-type {\n",
       "        vertical-align: middle;\n",
       "    }\n",
       "\n",
       "    .dataframe tbody tr th {\n",
       "        vertical-align: top;\n",
       "    }\n",
       "\n",
       "    .dataframe thead th {\n",
       "        text-align: right;\n",
       "    }\n",
       "</style>\n",
       "<table border=\"1\" class=\"dataframe\">\n",
       "  <thead>\n",
       "    <tr style=\"text-align: right;\">\n",
       "      <th></th>\n",
       "      <th>Source</th>\n",
       "      <th>ddof1</th>\n",
       "      <th>ddof2</th>\n",
       "      <th>F</th>\n",
       "      <th>p-unc</th>\n",
       "      <th>np2</th>\n",
       "    </tr>\n",
       "  </thead>\n",
       "  <tbody>\n",
       "    <tr>\n",
       "      <th>0</th>\n",
       "      <td>phase</td>\n",
       "      <td>5</td>\n",
       "      <td>1579</td>\n",
       "      <td>2.404866</td>\n",
       "      <td>0.034923</td>\n",
       "      <td>0.007558</td>\n",
       "    </tr>\n",
       "  </tbody>\n",
       "</table>\n",
       "</div>"
      ],
      "text/plain": [
       "  Source  ddof1  ddof2         F     p-unc       np2\n",
       "0  phase      5   1579  2.404866  0.034923  0.007558"
      ]
     },
     "execution_count": 6,
     "metadata": {},
     "output_type": "execute_result"
    }
   ],
   "source": [
    "# Checking that the anova is significant\n",
    "\n",
    "pg.anova(df, dv=\"FR_mod\", between=\"phase\")"
   ]
  },
  {
   "cell_type": "code",
   "execution_count": 7,
   "metadata": {},
   "outputs": [
    {
     "data": {
      "text/html": [
       "<div>\n",
       "<style scoped>\n",
       "    .dataframe tbody tr th:only-of-type {\n",
       "        vertical-align: middle;\n",
       "    }\n",
       "\n",
       "    .dataframe tbody tr th {\n",
       "        vertical-align: top;\n",
       "    }\n",
       "\n",
       "    .dataframe thead th {\n",
       "        text-align: right;\n",
       "    }\n",
       "</style>\n",
       "<table border=\"1\" class=\"dataframe\">\n",
       "  <thead>\n",
       "    <tr style=\"text-align: right;\">\n",
       "      <th></th>\n",
       "      <th>A</th>\n",
       "      <th>B</th>\n",
       "      <th>p-tukey</th>\n",
       "      <th>hedges</th>\n",
       "    </tr>\n",
       "  </thead>\n",
       "  <tbody>\n",
       "  </tbody>\n",
       "</table>\n",
       "</div>"
      ],
      "text/plain": [
       "Empty DataFrame\n",
       "Columns: [A, B, p-tukey, hedges]\n",
       "Index: []"
      ]
     },
     "execution_count": 7,
     "metadata": {},
     "output_type": "execute_result"
    }
   ],
   "source": [
    "# Pairwise Tukey-HSD post-hoc test\n",
    "\n",
    "pairwise_tukey = pg.pairwise_tukey(data=df, dv='FR_mod', between=\"phase\")\n",
    "\n",
    "pairwise_tukey[pairwise_tukey[\"p-tukey\"] <= 0.05][[\"A\", \"B\", \"p-tukey\", \"hedges\"]]"
   ]
  },
  {
   "cell_type": "code",
   "execution_count": 8,
   "metadata": {},
   "outputs": [
    {
     "data": {
      "text/html": [
       "<div>\n",
       "<style scoped>\n",
       "    .dataframe tbody tr th:only-of-type {\n",
       "        vertical-align: middle;\n",
       "    }\n",
       "\n",
       "    .dataframe tbody tr th {\n",
       "        vertical-align: top;\n",
       "    }\n",
       "\n",
       "    .dataframe thead th {\n",
       "        text-align: right;\n",
       "    }\n",
       "</style>\n",
       "<table border=\"1\" class=\"dataframe\">\n",
       "  <thead>\n",
       "    <tr style=\"text-align: right;\">\n",
       "      <th></th>\n",
       "      <th>A</th>\n",
       "      <th>B</th>\n",
       "      <th>p-tukey</th>\n",
       "      <th>hedges</th>\n",
       "    </tr>\n",
       "  </thead>\n",
       "  <tbody>\n",
       "  </tbody>\n",
       "</table>\n",
       "</div>"
      ],
      "text/plain": [
       "Empty DataFrame\n",
       "Columns: [A, B, p-tukey, hedges]\n",
       "Index: []"
      ]
     },
     "execution_count": 8,
     "metadata": {},
     "output_type": "execute_result"
    }
   ],
   "source": [
    "# Pairwise Tukey-HSD post-hoc test\n",
    "\n",
    "pairwise_tukey = pg.pairwise_tukey(data=df, dv='FR_mod', between=\"phase\")\n",
    "\n",
    "pairwise_tukey[pairwise_tukey[\"p-tukey\"] <= 0.05][[\"A\", \"B\", \"p-tukey\", \"hedges\"]]"
   ]
  },
  {
   "cell_type": "code",
   "execution_count": 9,
   "metadata": {},
   "outputs": [
    {
     "data": {
      "text/html": [
       "<div>\n",
       "<style scoped>\n",
       "    .dataframe tbody tr th:only-of-type {\n",
       "        vertical-align: middle;\n",
       "    }\n",
       "\n",
       "    .dataframe tbody tr th {\n",
       "        vertical-align: top;\n",
       "    }\n",
       "\n",
       "    .dataframe thead th {\n",
       "        text-align: right;\n",
       "    }\n",
       "</style>\n",
       "<table border=\"1\" class=\"dataframe\">\n",
       "  <thead>\n",
       "    <tr style=\"text-align: right;\">\n",
       "      <th></th>\n",
       "      <th>A</th>\n",
       "      <th>B</th>\n",
       "      <th>p-corr</th>\n",
       "      <th>hedges</th>\n",
       "    </tr>\n",
       "  </thead>\n",
       "  <tbody>\n",
       "  </tbody>\n",
       "</table>\n",
       "</div>"
      ],
      "text/plain": [
       "Empty DataFrame\n",
       "Columns: [A, B, p-corr, hedges]\n",
       "Index: []"
      ]
     },
     "execution_count": 9,
     "metadata": {},
     "output_type": "execute_result"
    }
   ],
   "source": [
    "# Conducting pairwise tests using Benjamini/Hochberg FDR correction to Mann-Whitney U\n",
    "\n",
    "pairwise_mwu = pg.pairwise_tests(data=df, dv='FR_mod', between=\"phase\", padjust=\"fdr_bh\", parametric=False, )\n",
    "\n",
    "pairwise_mwu[pairwise_mwu[\"p-corr\"] <= 0.05][[\"A\", \"B\", \"p-corr\", \"hedges\"]]"
   ]
  },
  {
   "cell_type": "code",
   "execution_count": null,
   "metadata": {},
   "outputs": [],
   "source": []
  },
  {
   "cell_type": "code",
   "execution_count": null,
   "metadata": {},
   "outputs": [],
   "source": []
  },
  {
   "cell_type": "code",
   "execution_count": null,
   "metadata": {},
   "outputs": [],
   "source": []
  },
  {
   "cell_type": "code",
   "execution_count": null,
   "metadata": {},
   "outputs": [],
   "source": []
  },
  {
   "cell_type": "code",
   "execution_count": null,
   "metadata": {},
   "outputs": [],
   "source": []
  },
  {
   "cell_type": "code",
   "execution_count": null,
   "metadata": {},
   "outputs": [],
   "source": []
  },
  {
   "cell_type": "code",
   "execution_count": null,
   "metadata": {},
   "outputs": [],
   "source": []
  },
  {
   "cell_type": "markdown",
   "metadata": {},
   "source": [
    "# Evoked"
   ]
  },
  {
   "cell_type": "code",
   "execution_count": 10,
   "metadata": {},
   "outputs": [],
   "source": [
    "with open(\"C:\\\\Users\\\\4thgr\\\\Desktop\\\\FReDataForStats.pickle\", \"rb\") as f:\n",
    "    data = pickle.load(f)"
   ]
  },
  {
   "cell_type": "code",
   "execution_count": 11,
   "metadata": {},
   "outputs": [],
   "source": [
    "phase = len(data.postreversal_early)*[\"pre-early\"] + len(data.prereversal_late)*[\"pre-late\"] + len(data.prereversal_expert)*[\"pre-expert\"] \\\n",
    "        + len(data.postreversal_early)*[\"post-early\"] + len(data.postreversal_late)*[\"post-late\"] + len(data.postreversal_expert)*[\"post-expert\"] \n",
    "mod = np.concatenate([data.postreversal_early, data.prereversal_late, data.prereversal_expert, data.postreversal_early, data.postreversal_late, data.postreversal_expert])\n",
    "\n",
    "df = pd.DataFrame({\"phase\": phase, \"FR_mod\": mod})"
   ]
  },
  {
   "cell_type": "code",
   "execution_count": 12,
   "metadata": {},
   "outputs": [
    {
     "data": {
      "text/html": [
       "<div>\n",
       "<style scoped>\n",
       "    .dataframe tbody tr th:only-of-type {\n",
       "        vertical-align: middle;\n",
       "    }\n",
       "\n",
       "    .dataframe tbody tr th {\n",
       "        vertical-align: top;\n",
       "    }\n",
       "\n",
       "    .dataframe thead th {\n",
       "        text-align: right;\n",
       "    }\n",
       "</style>\n",
       "<table border=\"1\" class=\"dataframe\">\n",
       "  <thead>\n",
       "    <tr style=\"text-align: right;\">\n",
       "      <th></th>\n",
       "      <th>Source</th>\n",
       "      <th>ddof1</th>\n",
       "      <th>ddof2</th>\n",
       "      <th>F</th>\n",
       "      <th>p-unc</th>\n",
       "      <th>np2</th>\n",
       "    </tr>\n",
       "  </thead>\n",
       "  <tbody>\n",
       "    <tr>\n",
       "      <th>0</th>\n",
       "      <td>phase</td>\n",
       "      <td>5</td>\n",
       "      <td>1579</td>\n",
       "      <td>4.368989</td>\n",
       "      <td>0.000593</td>\n",
       "      <td>0.013646</td>\n",
       "    </tr>\n",
       "  </tbody>\n",
       "</table>\n",
       "</div>"
      ],
      "text/plain": [
       "  Source  ddof1  ddof2         F     p-unc       np2\n",
       "0  phase      5   1579  4.368989  0.000593  0.013646"
      ]
     },
     "execution_count": 12,
     "metadata": {},
     "output_type": "execute_result"
    }
   ],
   "source": [
    "# Checking that the anova is significant\n",
    "\n",
    "pg.anova(df, dv=\"FR_mod\", between=\"phase\")"
   ]
  },
  {
   "cell_type": "code",
   "execution_count": 13,
   "metadata": {},
   "outputs": [
    {
     "data": {
      "text/html": [
       "<div>\n",
       "<style scoped>\n",
       "    .dataframe tbody tr th:only-of-type {\n",
       "        vertical-align: middle;\n",
       "    }\n",
       "\n",
       "    .dataframe tbody tr th {\n",
       "        vertical-align: top;\n",
       "    }\n",
       "\n",
       "    .dataframe thead th {\n",
       "        text-align: right;\n",
       "    }\n",
       "</style>\n",
       "<table border=\"1\" class=\"dataframe\">\n",
       "  <thead>\n",
       "    <tr style=\"text-align: right;\">\n",
       "      <th></th>\n",
       "      <th>A</th>\n",
       "      <th>B</th>\n",
       "      <th>p-tukey</th>\n",
       "      <th>hedges</th>\n",
       "    </tr>\n",
       "  </thead>\n",
       "  <tbody>\n",
       "    <tr>\n",
       "      <th>1</th>\n",
       "      <td>post-early</td>\n",
       "      <td>post-late</td>\n",
       "      <td>0.00751</td>\n",
       "      <td>0.271076</td>\n",
       "    </tr>\n",
       "    <tr>\n",
       "      <th>9</th>\n",
       "      <td>post-late</td>\n",
       "      <td>pre-early</td>\n",
       "      <td>0.00751</td>\n",
       "      <td>-0.271076</td>\n",
       "    </tr>\n",
       "  </tbody>\n",
       "</table>\n",
       "</div>"
      ],
      "text/plain": [
       "            A          B  p-tukey    hedges\n",
       "1  post-early  post-late  0.00751  0.271076\n",
       "9   post-late  pre-early  0.00751 -0.271076"
      ]
     },
     "execution_count": 13,
     "metadata": {},
     "output_type": "execute_result"
    }
   ],
   "source": [
    "# Pairwise Tukey-HSD post-hoc test\n",
    "\n",
    "pairwise_tukey = pg.pairwise_tukey(data=df, dv='FR_mod', between=\"phase\")\n",
    "\n",
    "pairwise_tukey[pairwise_tukey[\"p-tukey\"] <= 0.05][[\"A\", \"B\", \"p-tukey\", \"hedges\"]]"
   ]
  },
  {
   "cell_type": "code",
   "execution_count": 14,
   "metadata": {},
   "outputs": [
    {
     "data": {
      "text/html": [
       "<div>\n",
       "<style scoped>\n",
       "    .dataframe tbody tr th:only-of-type {\n",
       "        vertical-align: middle;\n",
       "    }\n",
       "\n",
       "    .dataframe tbody tr th {\n",
       "        vertical-align: top;\n",
       "    }\n",
       "\n",
       "    .dataframe thead th {\n",
       "        text-align: right;\n",
       "    }\n",
       "</style>\n",
       "<table border=\"1\" class=\"dataframe\">\n",
       "  <thead>\n",
       "    <tr style=\"text-align: right;\">\n",
       "      <th></th>\n",
       "      <th>A</th>\n",
       "      <th>B</th>\n",
       "      <th>p-corr</th>\n",
       "      <th>hedges</th>\n",
       "    </tr>\n",
       "  </thead>\n",
       "  <tbody>\n",
       "    <tr>\n",
       "      <th>1</th>\n",
       "      <td>post-early</td>\n",
       "      <td>post-late</td>\n",
       "      <td>0.017071</td>\n",
       "      <td>0.271076</td>\n",
       "    </tr>\n",
       "    <tr>\n",
       "      <th>9</th>\n",
       "      <td>post-late</td>\n",
       "      <td>pre-early</td>\n",
       "      <td>0.017071</td>\n",
       "      <td>-0.271076</td>\n",
       "    </tr>\n",
       "  </tbody>\n",
       "</table>\n",
       "</div>"
      ],
      "text/plain": [
       "            A          B    p-corr    hedges\n",
       "1  post-early  post-late  0.017071  0.271076\n",
       "9   post-late  pre-early  0.017071 -0.271076"
      ]
     },
     "execution_count": 14,
     "metadata": {},
     "output_type": "execute_result"
    }
   ],
   "source": [
    "# Conducting pairwise tests using Benjamini/Hochberg FDR correction to Mann-Whitney U\n",
    "\n",
    "pairwise_mwu = pg.pairwise_tests(data=df, dv='FR_mod', between=\"phase\", padjust=\"fdr_bh\", parametric=False, )\n",
    "\n",
    "pairwise_mwu[pairwise_mwu[\"p-corr\"] <= 0.05][[\"A\", \"B\", \"p-corr\", \"hedges\"]]"
   ]
  },
  {
   "cell_type": "code",
   "execution_count": null,
   "metadata": {},
   "outputs": [],
   "source": []
  },
  {
   "cell_type": "code",
   "execution_count": null,
   "metadata": {},
   "outputs": [],
   "source": []
  },
  {
   "cell_type": "code",
   "execution_count": null,
   "metadata": {},
   "outputs": [],
   "source": []
  },
  {
   "cell_type": "code",
   "execution_count": null,
   "metadata": {},
   "outputs": [],
   "source": []
  },
  {
   "cell_type": "code",
   "execution_count": null,
   "metadata": {},
   "outputs": [],
   "source": []
  },
  {
   "cell_type": "code",
   "execution_count": null,
   "metadata": {},
   "outputs": [],
   "source": []
  },
  {
   "cell_type": "markdown",
   "metadata": {},
   "source": [
    "# Evoked 11.2kHz"
   ]
  },
  {
   "cell_type": "code",
   "execution_count": 15,
   "metadata": {},
   "outputs": [],
   "source": [
    "with open(\"C:\\\\Users\\\\4thgr\\\\Desktop\\\\FRe11DataForStats.pickle\", \"rb\") as f:\n",
    "    data = pickle.load(f)"
   ]
  },
  {
   "cell_type": "code",
   "execution_count": 16,
   "metadata": {},
   "outputs": [],
   "source": [
    "phase = len(data.postreversal_early)*[\"pre-early\"] + len(data.prereversal_late)*[\"pre-late\"] + len(data.prereversal_expert)*[\"pre-expert\"] \\\n",
    "        + len(data.postreversal_early)*[\"post-early\"] + len(data.postreversal_late)*[\"post-late\"] + len(data.postreversal_expert)*[\"post-expert\"] \n",
    "mod = np.concatenate([data.postreversal_early, data.prereversal_late, data.prereversal_expert, data.postreversal_early, data.postreversal_late, data.postreversal_expert])\n",
    "\n",
    "df = pd.DataFrame({\"phase\": phase, \"FR_mod\": mod})"
   ]
  },
  {
   "cell_type": "code",
   "execution_count": 17,
   "metadata": {},
   "outputs": [
    {
     "data": {
      "text/html": [
       "<div>\n",
       "<style scoped>\n",
       "    .dataframe tbody tr th:only-of-type {\n",
       "        vertical-align: middle;\n",
       "    }\n",
       "\n",
       "    .dataframe tbody tr th {\n",
       "        vertical-align: top;\n",
       "    }\n",
       "\n",
       "    .dataframe thead th {\n",
       "        text-align: right;\n",
       "    }\n",
       "</style>\n",
       "<table border=\"1\" class=\"dataframe\">\n",
       "  <thead>\n",
       "    <tr style=\"text-align: right;\">\n",
       "      <th></th>\n",
       "      <th>Source</th>\n",
       "      <th>ddof1</th>\n",
       "      <th>ddof2</th>\n",
       "      <th>F</th>\n",
       "      <th>p-unc</th>\n",
       "      <th>np2</th>\n",
       "    </tr>\n",
       "  </thead>\n",
       "  <tbody>\n",
       "    <tr>\n",
       "      <th>0</th>\n",
       "      <td>phase</td>\n",
       "      <td>5</td>\n",
       "      <td>1579</td>\n",
       "      <td>4.751239</td>\n",
       "      <td>0.000259</td>\n",
       "      <td>0.014822</td>\n",
       "    </tr>\n",
       "  </tbody>\n",
       "</table>\n",
       "</div>"
      ],
      "text/plain": [
       "  Source  ddof1  ddof2         F     p-unc       np2\n",
       "0  phase      5   1579  4.751239  0.000259  0.014822"
      ]
     },
     "execution_count": 17,
     "metadata": {},
     "output_type": "execute_result"
    }
   ],
   "source": [
    "# Checking that the anova is significant\n",
    "\n",
    "pg.anova(df, dv=\"FR_mod\", between=\"phase\")"
   ]
  },
  {
   "cell_type": "code",
   "execution_count": 18,
   "metadata": {},
   "outputs": [
    {
     "data": {
      "text/html": [
       "<div>\n",
       "<style scoped>\n",
       "    .dataframe tbody tr th:only-of-type {\n",
       "        vertical-align: middle;\n",
       "    }\n",
       "\n",
       "    .dataframe tbody tr th {\n",
       "        vertical-align: top;\n",
       "    }\n",
       "\n",
       "    .dataframe thead th {\n",
       "        text-align: right;\n",
       "    }\n",
       "</style>\n",
       "<table border=\"1\" class=\"dataframe\">\n",
       "  <thead>\n",
       "    <tr style=\"text-align: right;\">\n",
       "      <th></th>\n",
       "      <th>A</th>\n",
       "      <th>B</th>\n",
       "      <th>p-tukey</th>\n",
       "      <th>hedges</th>\n",
       "    </tr>\n",
       "  </thead>\n",
       "  <tbody>\n",
       "    <tr>\n",
       "      <th>0</th>\n",
       "      <td>post-early</td>\n",
       "      <td>post-expert</td>\n",
       "      <td>0.027878</td>\n",
       "      <td>0.253815</td>\n",
       "    </tr>\n",
       "    <tr>\n",
       "      <th>1</th>\n",
       "      <td>post-early</td>\n",
       "      <td>post-late</td>\n",
       "      <td>0.010144</td>\n",
       "      <td>0.264027</td>\n",
       "    </tr>\n",
       "    <tr>\n",
       "      <th>6</th>\n",
       "      <td>post-expert</td>\n",
       "      <td>pre-early</td>\n",
       "      <td>0.027878</td>\n",
       "      <td>-0.253815</td>\n",
       "    </tr>\n",
       "    <tr>\n",
       "      <th>9</th>\n",
       "      <td>post-late</td>\n",
       "      <td>pre-early</td>\n",
       "      <td>0.010144</td>\n",
       "      <td>-0.264027</td>\n",
       "    </tr>\n",
       "  </tbody>\n",
       "</table>\n",
       "</div>"
      ],
      "text/plain": [
       "             A            B   p-tukey    hedges\n",
       "0   post-early  post-expert  0.027878  0.253815\n",
       "1   post-early    post-late  0.010144  0.264027\n",
       "6  post-expert    pre-early  0.027878 -0.253815\n",
       "9    post-late    pre-early  0.010144 -0.264027"
      ]
     },
     "execution_count": 18,
     "metadata": {},
     "output_type": "execute_result"
    }
   ],
   "source": [
    "# Pairwise Tukey-HSD post-hoc test\n",
    "\n",
    "pairwise_tukey = pg.pairwise_tukey(data=df, dv='FR_mod', between=\"phase\")\n",
    "\n",
    "pairwise_tukey[pairwise_tukey[\"p-tukey\"] <= 0.05][[\"A\", \"B\", \"p-tukey\", \"hedges\"]]"
   ]
  },
  {
   "cell_type": "code",
   "execution_count": 19,
   "metadata": {},
   "outputs": [
    {
     "data": {
      "text/html": [
       "<div>\n",
       "<style scoped>\n",
       "    .dataframe tbody tr th:only-of-type {\n",
       "        vertical-align: middle;\n",
       "    }\n",
       "\n",
       "    .dataframe tbody tr th {\n",
       "        vertical-align: top;\n",
       "    }\n",
       "\n",
       "    .dataframe thead th {\n",
       "        text-align: right;\n",
       "    }\n",
       "</style>\n",
       "<table border=\"1\" class=\"dataframe\">\n",
       "  <thead>\n",
       "    <tr style=\"text-align: right;\">\n",
       "      <th></th>\n",
       "      <th>A</th>\n",
       "      <th>B</th>\n",
       "      <th>p-corr</th>\n",
       "      <th>hedges</th>\n",
       "    </tr>\n",
       "  </thead>\n",
       "  <tbody>\n",
       "    <tr>\n",
       "      <th>0</th>\n",
       "      <td>post-early</td>\n",
       "      <td>post-expert</td>\n",
       "      <td>0.045405</td>\n",
       "      <td>0.253815</td>\n",
       "    </tr>\n",
       "    <tr>\n",
       "      <th>1</th>\n",
       "      <td>post-early</td>\n",
       "      <td>post-late</td>\n",
       "      <td>0.024505</td>\n",
       "      <td>0.264027</td>\n",
       "    </tr>\n",
       "    <tr>\n",
       "      <th>4</th>\n",
       "      <td>post-early</td>\n",
       "      <td>pre-late</td>\n",
       "      <td>0.024505</td>\n",
       "      <td>0.214546</td>\n",
       "    </tr>\n",
       "    <tr>\n",
       "      <th>6</th>\n",
       "      <td>post-expert</td>\n",
       "      <td>pre-early</td>\n",
       "      <td>0.045405</td>\n",
       "      <td>-0.253815</td>\n",
       "    </tr>\n",
       "    <tr>\n",
       "      <th>9</th>\n",
       "      <td>post-late</td>\n",
       "      <td>pre-early</td>\n",
       "      <td>0.024505</td>\n",
       "      <td>-0.264027</td>\n",
       "    </tr>\n",
       "    <tr>\n",
       "      <th>13</th>\n",
       "      <td>pre-early</td>\n",
       "      <td>pre-late</td>\n",
       "      <td>0.024505</td>\n",
       "      <td>0.214546</td>\n",
       "    </tr>\n",
       "  </tbody>\n",
       "</table>\n",
       "</div>"
      ],
      "text/plain": [
       "              A            B    p-corr    hedges\n",
       "0    post-early  post-expert  0.045405  0.253815\n",
       "1    post-early    post-late  0.024505  0.264027\n",
       "4    post-early     pre-late  0.024505  0.214546\n",
       "6   post-expert    pre-early  0.045405 -0.253815\n",
       "9     post-late    pre-early  0.024505 -0.264027\n",
       "13    pre-early     pre-late  0.024505  0.214546"
      ]
     },
     "execution_count": 19,
     "metadata": {},
     "output_type": "execute_result"
    }
   ],
   "source": [
    "# Conducting pairwise tests using Benjamini/Hochberg FDR correction to Mann-Whitney U\n",
    "\n",
    "pairwise_mwu = pg.pairwise_tests(data=df, dv='FR_mod', between=\"phase\", padjust=\"fdr_bh\", parametric=False, )\n",
    "\n",
    "pairwise_mwu[pairwise_mwu[\"p-corr\"] <= 0.05][[\"A\", \"B\", \"p-corr\", \"hedges\"]]"
   ]
  },
  {
   "cell_type": "code",
   "execution_count": null,
   "metadata": {},
   "outputs": [],
   "source": []
  },
  {
   "cell_type": "code",
   "execution_count": null,
   "metadata": {},
   "outputs": [],
   "source": []
  },
  {
   "cell_type": "code",
   "execution_count": null,
   "metadata": {},
   "outputs": [],
   "source": []
  },
  {
   "cell_type": "code",
   "execution_count": null,
   "metadata": {},
   "outputs": [],
   "source": []
  },
  {
   "cell_type": "code",
   "execution_count": null,
   "metadata": {},
   "outputs": [],
   "source": []
  },
  {
   "cell_type": "code",
   "execution_count": null,
   "metadata": {},
   "outputs": [],
   "source": []
  },
  {
   "cell_type": "code",
   "execution_count": null,
   "metadata": {},
   "outputs": [],
   "source": []
  },
  {
   "cell_type": "markdown",
   "metadata": {},
   "source": [
    "# Evoked 5kHz"
   ]
  },
  {
   "cell_type": "code",
   "execution_count": 21,
   "metadata": {},
   "outputs": [],
   "source": [
    "with open(\"C:\\\\Users\\\\4thgr\\\\Desktop\\\\FRe5DataForStats.pickle\", \"rb\") as f:\n",
    "    data = pickle.load(f)"
   ]
  },
  {
   "cell_type": "code",
   "execution_count": 22,
   "metadata": {},
   "outputs": [],
   "source": [
    "phase = len(data.postreversal_early)*[\"pre-early\"] + len(data.prereversal_late)*[\"pre-late\"] + len(data.prereversal_expert)*[\"pre-expert\"] \\\n",
    "        + len(data.postreversal_early)*[\"post-early\"] + len(data.postreversal_late)*[\"post-late\"] + len(data.postreversal_expert)*[\"post-expert\"] \n",
    "mod = np.concatenate([data.postreversal_early, data.prereversal_late, data.prereversal_expert, data.postreversal_early, data.postreversal_late, data.postreversal_expert])\n",
    "\n",
    "df = pd.DataFrame({\"phase\": phase, \"FR_mod\": mod})"
   ]
  },
  {
   "cell_type": "code",
   "execution_count": 23,
   "metadata": {},
   "outputs": [
    {
     "data": {
      "text/html": [
       "<div>\n",
       "<style scoped>\n",
       "    .dataframe tbody tr th:only-of-type {\n",
       "        vertical-align: middle;\n",
       "    }\n",
       "\n",
       "    .dataframe tbody tr th {\n",
       "        vertical-align: top;\n",
       "    }\n",
       "\n",
       "    .dataframe thead th {\n",
       "        text-align: right;\n",
       "    }\n",
       "</style>\n",
       "<table border=\"1\" class=\"dataframe\">\n",
       "  <thead>\n",
       "    <tr style=\"text-align: right;\">\n",
       "      <th></th>\n",
       "      <th>Source</th>\n",
       "      <th>ddof1</th>\n",
       "      <th>ddof2</th>\n",
       "      <th>F</th>\n",
       "      <th>p-unc</th>\n",
       "      <th>np2</th>\n",
       "    </tr>\n",
       "  </thead>\n",
       "  <tbody>\n",
       "    <tr>\n",
       "      <th>0</th>\n",
       "      <td>phase</td>\n",
       "      <td>5</td>\n",
       "      <td>1579</td>\n",
       "      <td>2.934189</td>\n",
       "      <td>0.01213</td>\n",
       "      <td>0.009206</td>\n",
       "    </tr>\n",
       "  </tbody>\n",
       "</table>\n",
       "</div>"
      ],
      "text/plain": [
       "  Source  ddof1  ddof2         F    p-unc       np2\n",
       "0  phase      5   1579  2.934189  0.01213  0.009206"
      ]
     },
     "execution_count": 23,
     "metadata": {},
     "output_type": "execute_result"
    }
   ],
   "source": [
    "# Checking that the anova is significant\n",
    "\n",
    "pg.anova(df, dv=\"FR_mod\", between=\"phase\")"
   ]
  },
  {
   "cell_type": "code",
   "execution_count": 24,
   "metadata": {},
   "outputs": [
    {
     "data": {
      "text/html": [
       "<div>\n",
       "<style scoped>\n",
       "    .dataframe tbody tr th:only-of-type {\n",
       "        vertical-align: middle;\n",
       "    }\n",
       "\n",
       "    .dataframe tbody tr th {\n",
       "        vertical-align: top;\n",
       "    }\n",
       "\n",
       "    .dataframe thead th {\n",
       "        text-align: right;\n",
       "    }\n",
       "</style>\n",
       "<table border=\"1\" class=\"dataframe\">\n",
       "  <thead>\n",
       "    <tr style=\"text-align: right;\">\n",
       "      <th></th>\n",
       "      <th>A</th>\n",
       "      <th>B</th>\n",
       "      <th>p-tukey</th>\n",
       "      <th>hedges</th>\n",
       "    </tr>\n",
       "  </thead>\n",
       "  <tbody>\n",
       "    <tr>\n",
       "      <th>1</th>\n",
       "      <td>post-early</td>\n",
       "      <td>post-late</td>\n",
       "      <td>0.039049</td>\n",
       "      <td>0.231311</td>\n",
       "    </tr>\n",
       "    <tr>\n",
       "      <th>9</th>\n",
       "      <td>post-late</td>\n",
       "      <td>pre-early</td>\n",
       "      <td>0.039049</td>\n",
       "      <td>-0.231311</td>\n",
       "    </tr>\n",
       "  </tbody>\n",
       "</table>\n",
       "</div>"
      ],
      "text/plain": [
       "            A          B   p-tukey    hedges\n",
       "1  post-early  post-late  0.039049  0.231311\n",
       "9   post-late  pre-early  0.039049 -0.231311"
      ]
     },
     "execution_count": 24,
     "metadata": {},
     "output_type": "execute_result"
    }
   ],
   "source": [
    "# Pairwise Tukey-HSD post-hoc test\n",
    "\n",
    "pairwise_tukey = pg.pairwise_tukey(data=df, dv='FR_mod', between=\"phase\")\n",
    "\n",
    "pairwise_tukey[pairwise_tukey[\"p-tukey\"] <= 0.05][[\"A\", \"B\", \"p-tukey\", \"hedges\"]]"
   ]
  },
  {
   "cell_type": "code",
   "execution_count": 25,
   "metadata": {},
   "outputs": [
    {
     "data": {
      "text/html": [
       "<div>\n",
       "<style scoped>\n",
       "    .dataframe tbody tr th:only-of-type {\n",
       "        vertical-align: middle;\n",
       "    }\n",
       "\n",
       "    .dataframe tbody tr th {\n",
       "        vertical-align: top;\n",
       "    }\n",
       "\n",
       "    .dataframe thead th {\n",
       "        text-align: right;\n",
       "    }\n",
       "</style>\n",
       "<table border=\"1\" class=\"dataframe\">\n",
       "  <thead>\n",
       "    <tr style=\"text-align: right;\">\n",
       "      <th></th>\n",
       "      <th>A</th>\n",
       "      <th>B</th>\n",
       "      <th>p-corr</th>\n",
       "      <th>hedges</th>\n",
       "    </tr>\n",
       "  </thead>\n",
       "  <tbody>\n",
       "  </tbody>\n",
       "</table>\n",
       "</div>"
      ],
      "text/plain": [
       "Empty DataFrame\n",
       "Columns: [A, B, p-corr, hedges]\n",
       "Index: []"
      ]
     },
     "execution_count": 25,
     "metadata": {},
     "output_type": "execute_result"
    }
   ],
   "source": [
    "# Conducting pairwise tests using Benjamini/Hochberg FDR correction to Mann-Whitney U\n",
    "\n",
    "pairwise_mwu = pg.pairwise_tests(data=df, dv='FR_mod', between=\"phase\", padjust=\"fdr_bh\", parametric=False, )\n",
    "\n",
    "pairwise_mwu[pairwise_mwu[\"p-corr\"] <= 0.05][[\"A\", \"B\", \"p-corr\", \"hedges\"]]"
   ]
  },
  {
   "cell_type": "code",
   "execution_count": null,
   "metadata": {},
   "outputs": [],
   "source": []
  },
  {
   "cell_type": "code",
   "execution_count": null,
   "metadata": {},
   "outputs": [],
   "source": []
  },
  {
   "cell_type": "code",
   "execution_count": null,
   "metadata": {},
   "outputs": [],
   "source": []
  },
  {
   "cell_type": "code",
   "execution_count": null,
   "metadata": {},
   "outputs": [],
   "source": []
  },
  {
   "cell_type": "code",
   "execution_count": null,
   "metadata": {},
   "outputs": [],
   "source": []
  },
  {
   "cell_type": "code",
   "execution_count": null,
   "metadata": {},
   "outputs": [],
   "source": []
  },
  {
   "cell_type": "code",
   "execution_count": null,
   "metadata": {},
   "outputs": [],
   "source": []
  },
  {
   "cell_type": "markdown",
   "metadata": {},
   "source": [
    "# Tuning"
   ]
  },
  {
   "cell_type": "code",
   "execution_count": 4,
   "metadata": {},
   "outputs": [],
   "source": [
    "with open(\"C:\\\\Users\\\\insan\\\\Desktop\\\\FRtDataForStats.pickle\", \"rb\") as f:\n",
    "    data = pickle.load(f)"
   ]
  },
  {
   "cell_type": "code",
   "execution_count": 5,
   "metadata": {},
   "outputs": [],
   "source": [
    "phase = len(data.postreversal_early)*[\"pre-early\"] + len(data.prereversal_late)*[\"pre-late\"] + len(data.prereversal_expert)*[\"pre-expert\"] \\\n",
    "        + len(data.postreversal_early)*[\"post-early\"] + len(data.postreversal_late)*[\"post-late\"] + len(data.postreversal_expert)*[\"post-expert\"] \n",
    "mod = np.concatenate([data.postreversal_early, data.prereversal_late, data.prereversal_expert, data.postreversal_early, data.postreversal_late, data.postreversal_expert])\n",
    "\n",
    "df = pd.DataFrame({\"phase\": phase, \"FR_mod\": mod})"
   ]
  },
  {
   "cell_type": "code",
   "execution_count": 6,
   "metadata": {},
   "outputs": [
    {
     "data": {
      "text/html": [
       "<div>\n",
       "<style scoped>\n",
       "    .dataframe tbody tr th:only-of-type {\n",
       "        vertical-align: middle;\n",
       "    }\n",
       "\n",
       "    .dataframe tbody tr th {\n",
       "        vertical-align: top;\n",
       "    }\n",
       "\n",
       "    .dataframe thead th {\n",
       "        text-align: right;\n",
       "    }\n",
       "</style>\n",
       "<table border=\"1\" class=\"dataframe\">\n",
       "  <thead>\n",
       "    <tr style=\"text-align: right;\">\n",
       "      <th></th>\n",
       "      <th>Source</th>\n",
       "      <th>ddof1</th>\n",
       "      <th>ddof2</th>\n",
       "      <th>F</th>\n",
       "      <th>p-unc</th>\n",
       "      <th>np2</th>\n",
       "    </tr>\n",
       "  </thead>\n",
       "  <tbody>\n",
       "    <tr>\n",
       "      <th>0</th>\n",
       "      <td>phase</td>\n",
       "      <td>5</td>\n",
       "      <td>1508</td>\n",
       "      <td>55.686646</td>\n",
       "      <td>3.190353e-53</td>\n",
       "      <td>0.15586</td>\n",
       "    </tr>\n",
       "  </tbody>\n",
       "</table>\n",
       "</div>"
      ],
      "text/plain": [
       "  Source  ddof1  ddof2          F         p-unc      np2\n",
       "0  phase      5   1508  55.686646  3.190353e-53  0.15586"
      ]
     },
     "execution_count": 6,
     "metadata": {},
     "output_type": "execute_result"
    }
   ],
   "source": [
    "# Checking that the anova is significant\n",
    "\n",
    "pg.anova(df, dv=\"FR_mod\", between=\"phase\")"
   ]
  },
  {
   "cell_type": "code",
   "execution_count": 7,
   "metadata": {},
   "outputs": [
    {
     "data": {
      "text/html": [
       "<div>\n",
       "<style scoped>\n",
       "    .dataframe tbody tr th:only-of-type {\n",
       "        vertical-align: middle;\n",
       "    }\n",
       "\n",
       "    .dataframe tbody tr th {\n",
       "        vertical-align: top;\n",
       "    }\n",
       "\n",
       "    .dataframe thead th {\n",
       "        text-align: right;\n",
       "    }\n",
       "</style>\n",
       "<table border=\"1\" class=\"dataframe\">\n",
       "  <thead>\n",
       "    <tr style=\"text-align: right;\">\n",
       "      <th></th>\n",
       "      <th>A</th>\n",
       "      <th>B</th>\n",
       "      <th>p-tukey</th>\n",
       "      <th>hedges</th>\n",
       "    </tr>\n",
       "  </thead>\n",
       "  <tbody>\n",
       "    <tr>\n",
       "      <th>0</th>\n",
       "      <td>post-early</td>\n",
       "      <td>post-expert</td>\n",
       "      <td>6.961665e-11</td>\n",
       "      <td>-0.571003</td>\n",
       "    </tr>\n",
       "    <tr>\n",
       "      <th>3</th>\n",
       "      <td>post-early</td>\n",
       "      <td>pre-expert</td>\n",
       "      <td>0.000000e+00</td>\n",
       "      <td>-1.233679</td>\n",
       "    </tr>\n",
       "    <tr>\n",
       "      <th>4</th>\n",
       "      <td>post-early</td>\n",
       "      <td>pre-late</td>\n",
       "      <td>0.000000e+00</td>\n",
       "      <td>-1.004924</td>\n",
       "    </tr>\n",
       "    <tr>\n",
       "      <th>5</th>\n",
       "      <td>post-expert</td>\n",
       "      <td>post-late</td>\n",
       "      <td>9.956740e-04</td>\n",
       "      <td>0.360794</td>\n",
       "    </tr>\n",
       "    <tr>\n",
       "      <th>6</th>\n",
       "      <td>post-expert</td>\n",
       "      <td>pre-early</td>\n",
       "      <td>6.961665e-11</td>\n",
       "      <td>0.571003</td>\n",
       "    </tr>\n",
       "    <tr>\n",
       "      <th>7</th>\n",
       "      <td>post-expert</td>\n",
       "      <td>pre-expert</td>\n",
       "      <td>2.503268e-08</td>\n",
       "      <td>-0.662545</td>\n",
       "    </tr>\n",
       "    <tr>\n",
       "      <th>8</th>\n",
       "      <td>post-expert</td>\n",
       "      <td>pre-late</td>\n",
       "      <td>1.751419e-04</td>\n",
       "      <td>-0.433859</td>\n",
       "    </tr>\n",
       "    <tr>\n",
       "      <th>10</th>\n",
       "      <td>post-late</td>\n",
       "      <td>pre-expert</td>\n",
       "      <td>0.000000e+00</td>\n",
       "      <td>-1.023086</td>\n",
       "    </tr>\n",
       "    <tr>\n",
       "      <th>11</th>\n",
       "      <td>post-late</td>\n",
       "      <td>pre-late</td>\n",
       "      <td>0.000000e+00</td>\n",
       "      <td>-0.794516</td>\n",
       "    </tr>\n",
       "    <tr>\n",
       "      <th>12</th>\n",
       "      <td>pre-early</td>\n",
       "      <td>pre-expert</td>\n",
       "      <td>0.000000e+00</td>\n",
       "      <td>-1.233679</td>\n",
       "    </tr>\n",
       "    <tr>\n",
       "      <th>13</th>\n",
       "      <td>pre-early</td>\n",
       "      <td>pre-late</td>\n",
       "      <td>0.000000e+00</td>\n",
       "      <td>-1.004924</td>\n",
       "    </tr>\n",
       "  </tbody>\n",
       "</table>\n",
       "</div>"
      ],
      "text/plain": [
       "              A            B       p-tukey    hedges\n",
       "0    post-early  post-expert  6.961665e-11 -0.571003\n",
       "3    post-early   pre-expert  0.000000e+00 -1.233679\n",
       "4    post-early     pre-late  0.000000e+00 -1.004924\n",
       "5   post-expert    post-late  9.956740e-04  0.360794\n",
       "6   post-expert    pre-early  6.961665e-11  0.571003\n",
       "7   post-expert   pre-expert  2.503268e-08 -0.662545\n",
       "8   post-expert     pre-late  1.751419e-04 -0.433859\n",
       "10    post-late   pre-expert  0.000000e+00 -1.023086\n",
       "11    post-late     pre-late  0.000000e+00 -0.794516\n",
       "12    pre-early   pre-expert  0.000000e+00 -1.233679\n",
       "13    pre-early     pre-late  0.000000e+00 -1.004924"
      ]
     },
     "execution_count": 7,
     "metadata": {},
     "output_type": "execute_result"
    }
   ],
   "source": [
    "# Pairwise Tukey-HSD post-hoc test\n",
    "\n",
    "pairwise_tukey = pg.pairwise_tukey(data=df, dv='FR_mod', between=\"phase\")\n",
    "\n",
    "#pairwise_tukey[:][[\"A\", \"B\", \"p-tukey\", \"hedges\"]]\n",
    "pairwise_tukey[pairwise_tukey[\"p-tukey\"] <= 0.05][[\"A\", \"B\", \"p-tukey\", \"hedges\"]]"
   ]
  },
  {
   "cell_type": "code",
   "execution_count": 8,
   "metadata": {},
   "outputs": [
    {
     "data": {
      "text/html": [
       "<div>\n",
       "<style scoped>\n",
       "    .dataframe tbody tr th:only-of-type {\n",
       "        vertical-align: middle;\n",
       "    }\n",
       "\n",
       "    .dataframe tbody tr th {\n",
       "        vertical-align: top;\n",
       "    }\n",
       "\n",
       "    .dataframe thead th {\n",
       "        text-align: right;\n",
       "    }\n",
       "</style>\n",
       "<table border=\"1\" class=\"dataframe\">\n",
       "  <thead>\n",
       "    <tr style=\"text-align: right;\">\n",
       "      <th></th>\n",
       "      <th>A</th>\n",
       "      <th>B</th>\n",
       "      <th>p-corr</th>\n",
       "      <th>hedges</th>\n",
       "    </tr>\n",
       "  </thead>\n",
       "  <tbody>\n",
       "    <tr>\n",
       "      <th>0</th>\n",
       "      <td>post-early</td>\n",
       "      <td>post-expert</td>\n",
       "      <td>3.290146e-11</td>\n",
       "      <td>-0.553579</td>\n",
       "    </tr>\n",
       "    <tr>\n",
       "      <th>1</th>\n",
       "      <td>post-early</td>\n",
       "      <td>post-late</td>\n",
       "      <td>2.301852e-03</td>\n",
       "      <td>-0.212142</td>\n",
       "    </tr>\n",
       "    <tr>\n",
       "      <th>3</th>\n",
       "      <td>post-early</td>\n",
       "      <td>pre-expert</td>\n",
       "      <td>4.789179e-24</td>\n",
       "      <td>-1.222611</td>\n",
       "    </tr>\n",
       "    <tr>\n",
       "      <th>4</th>\n",
       "      <td>post-early</td>\n",
       "      <td>pre-late</td>\n",
       "      <td>6.483113e-22</td>\n",
       "      <td>-0.988631</td>\n",
       "    </tr>\n",
       "    <tr>\n",
       "      <th>5</th>\n",
       "      <td>post-expert</td>\n",
       "      <td>post-late</td>\n",
       "      <td>8.332240e-05</td>\n",
       "      <td>0.371136</td>\n",
       "    </tr>\n",
       "    <tr>\n",
       "      <th>6</th>\n",
       "      <td>post-expert</td>\n",
       "      <td>pre-early</td>\n",
       "      <td>3.290146e-11</td>\n",
       "      <td>0.553579</td>\n",
       "    </tr>\n",
       "    <tr>\n",
       "      <th>7</th>\n",
       "      <td>post-expert</td>\n",
       "      <td>pre-expert</td>\n",
       "      <td>7.618830e-09</td>\n",
       "      <td>-0.668126</td>\n",
       "    </tr>\n",
       "    <tr>\n",
       "      <th>8</th>\n",
       "      <td>post-expert</td>\n",
       "      <td>pre-late</td>\n",
       "      <td>3.516337e-05</td>\n",
       "      <td>-0.432484</td>\n",
       "    </tr>\n",
       "    <tr>\n",
       "      <th>9</th>\n",
       "      <td>post-late</td>\n",
       "      <td>pre-early</td>\n",
       "      <td>2.301852e-03</td>\n",
       "      <td>0.212142</td>\n",
       "    </tr>\n",
       "    <tr>\n",
       "      <th>10</th>\n",
       "      <td>post-late</td>\n",
       "      <td>pre-expert</td>\n",
       "      <td>9.101936e-19</td>\n",
       "      <td>-1.115539</td>\n",
       "    </tr>\n",
       "    <tr>\n",
       "      <th>11</th>\n",
       "      <td>post-late</td>\n",
       "      <td>pre-late</td>\n",
       "      <td>1.832078e-14</td>\n",
       "      <td>-0.846264</td>\n",
       "    </tr>\n",
       "    <tr>\n",
       "      <th>12</th>\n",
       "      <td>pre-early</td>\n",
       "      <td>pre-expert</td>\n",
       "      <td>4.789179e-24</td>\n",
       "      <td>-1.222611</td>\n",
       "    </tr>\n",
       "    <tr>\n",
       "      <th>13</th>\n",
       "      <td>pre-early</td>\n",
       "      <td>pre-late</td>\n",
       "      <td>6.483113e-22</td>\n",
       "      <td>-0.988631</td>\n",
       "    </tr>\n",
       "    <tr>\n",
       "      <th>14</th>\n",
       "      <td>pre-expert</td>\n",
       "      <td>pre-late</td>\n",
       "      <td>4.810349e-02</td>\n",
       "      <td>0.240217</td>\n",
       "    </tr>\n",
       "  </tbody>\n",
       "</table>\n",
       "</div>"
      ],
      "text/plain": [
       "              A            B        p-corr    hedges\n",
       "0    post-early  post-expert  3.290146e-11 -0.553579\n",
       "1    post-early    post-late  2.301852e-03 -0.212142\n",
       "3    post-early   pre-expert  4.789179e-24 -1.222611\n",
       "4    post-early     pre-late  6.483113e-22 -0.988631\n",
       "5   post-expert    post-late  8.332240e-05  0.371136\n",
       "6   post-expert    pre-early  3.290146e-11  0.553579\n",
       "7   post-expert   pre-expert  7.618830e-09 -0.668126\n",
       "8   post-expert     pre-late  3.516337e-05 -0.432484\n",
       "9     post-late    pre-early  2.301852e-03  0.212142\n",
       "10    post-late   pre-expert  9.101936e-19 -1.115539\n",
       "11    post-late     pre-late  1.832078e-14 -0.846264\n",
       "12    pre-early   pre-expert  4.789179e-24 -1.222611\n",
       "13    pre-early     pre-late  6.483113e-22 -0.988631\n",
       "14   pre-expert     pre-late  4.810349e-02  0.240217"
      ]
     },
     "execution_count": 8,
     "metadata": {},
     "output_type": "execute_result"
    }
   ],
   "source": [
    "# Conducting pairwise tests using Benjamini/Hochberg FDR correction to Mann-Whitney U\n",
    "\n",
    "pairwise_mwu = pg.pairwise_tests(data=df, dv='FR_mod', between=\"phase\", padjust=\"fdr_bh\", parametric=False, )\n",
    "\n",
    "pairwise_mwu[pairwise_mwu[\"p-corr\"] <= 0.05][[\"A\", \"B\", \"p-corr\", \"hedges\"]]"
   ]
  },
  {
   "cell_type": "code",
   "execution_count": null,
   "metadata": {},
   "outputs": [],
   "source": []
  },
  {
   "cell_type": "code",
   "execution_count": null,
   "metadata": {},
   "outputs": [],
   "source": []
  },
  {
   "cell_type": "code",
   "execution_count": null,
   "metadata": {},
   "outputs": [],
   "source": []
  },
  {
   "cell_type": "code",
   "execution_count": null,
   "metadata": {},
   "outputs": [],
   "source": []
  },
  {
   "cell_type": "code",
   "execution_count": null,
   "metadata": {},
   "outputs": [],
   "source": []
  },
  {
   "cell_type": "markdown",
   "metadata": {},
   "source": [
    "# FR modulation task encoders"
   ]
  },
  {
   "cell_type": "code",
   "execution_count": 47,
   "metadata": {},
   "outputs": [],
   "source": [
    "with open(\"C:\\\\Users\\\\insan\\\\Desktop\\\\FRmodDataForStats.pickle\", \"rb\") as f:\n",
    "    databaseline = pickle.load(f)\n",
    "\n",
    "with open(\"C:\\\\Users\\\\insan\\\\Desktop\\\\FRmodteDataForStats.pickle\", \"rb\") as f:\n",
    "    data = pickle.load(f)"
   ]
  },
  {
   "cell_type": "code",
   "execution_count": 48,
   "metadata": {},
   "outputs": [],
   "source": [
    "phase = len(databaseline.postreversal_early)*[\"pre-early-baseline\"] + len(data.postreversal_early)*[\"pre-early\"] + len(data.prereversal_late)*[\"pre-late\"] + len(data.prereversal_expert)*[\"pre-expert\"] \\\n",
    "        + len(data.postreversal_early)*[\"post-early\"] + len(data.postreversal_late)*[\"post-late\"] + len(data.postreversal_expert)*[\"post-expert\"] \n",
    "mod = np.concatenate([databaseline.postreversal_early, data.postreversal_early, data.prereversal_late, data.prereversal_expert, data.postreversal_early, data.postreversal_late, data.postreversal_expert])\n",
    "\n",
    "df = pd.DataFrame({\"phase\": phase, \"FR_mod\": mod})"
   ]
  },
  {
   "cell_type": "code",
   "execution_count": 49,
   "metadata": {},
   "outputs": [
    {
     "data": {
      "text/html": [
       "<div>\n",
       "<style scoped>\n",
       "    .dataframe tbody tr th:only-of-type {\n",
       "        vertical-align: middle;\n",
       "    }\n",
       "\n",
       "    .dataframe tbody tr th {\n",
       "        vertical-align: top;\n",
       "    }\n",
       "\n",
       "    .dataframe thead th {\n",
       "        text-align: right;\n",
       "    }\n",
       "</style>\n",
       "<table border=\"1\" class=\"dataframe\">\n",
       "  <thead>\n",
       "    <tr style=\"text-align: right;\">\n",
       "      <th></th>\n",
       "      <th>Source</th>\n",
       "      <th>ddof1</th>\n",
       "      <th>ddof2</th>\n",
       "      <th>F</th>\n",
       "      <th>p-unc</th>\n",
       "      <th>np2</th>\n",
       "    </tr>\n",
       "  </thead>\n",
       "  <tbody>\n",
       "    <tr>\n",
       "      <th>0</th>\n",
       "      <td>phase</td>\n",
       "      <td>6</td>\n",
       "      <td>876</td>\n",
       "      <td>3.246375</td>\n",
       "      <td>0.003673</td>\n",
       "      <td>0.021752</td>\n",
       "    </tr>\n",
       "  </tbody>\n",
       "</table>\n",
       "</div>"
      ],
      "text/plain": [
       "  Source  ddof1  ddof2         F     p-unc       np2\n",
       "0  phase      6    876  3.246375  0.003673  0.021752"
      ]
     },
     "execution_count": 49,
     "metadata": {},
     "output_type": "execute_result"
    }
   ],
   "source": [
    "# Checking that the anova is significant\n",
    "\n",
    "pg.anova(df, dv=\"FR_mod\", between=\"phase\")"
   ]
  },
  {
   "cell_type": "code",
   "execution_count": 56,
   "metadata": {},
   "outputs": [
    {
     "data": {
      "text/html": [
       "<div>\n",
       "<style scoped>\n",
       "    .dataframe tbody tr th:only-of-type {\n",
       "        vertical-align: middle;\n",
       "    }\n",
       "\n",
       "    .dataframe tbody tr th {\n",
       "        vertical-align: top;\n",
       "    }\n",
       "\n",
       "    .dataframe thead th {\n",
       "        text-align: right;\n",
       "    }\n",
       "</style>\n",
       "<table border=\"1\" class=\"dataframe\">\n",
       "  <thead>\n",
       "    <tr style=\"text-align: right;\">\n",
       "      <th></th>\n",
       "      <th>A</th>\n",
       "      <th>B</th>\n",
       "      <th>p-tukey</th>\n",
       "      <th>hedges</th>\n",
       "    </tr>\n",
       "  </thead>\n",
       "  <tbody>\n",
       "    <tr>\n",
       "      <th>1</th>\n",
       "      <td>post-early</td>\n",
       "      <td>post-late</td>\n",
       "      <td>0.041126</td>\n",
       "      <td>0.4276</td>\n",
       "    </tr>\n",
       "    <tr>\n",
       "      <th>11</th>\n",
       "      <td>post-late</td>\n",
       "      <td>pre-early</td>\n",
       "      <td>0.041126</td>\n",
       "      <td>-0.4276</td>\n",
       "    </tr>\n",
       "  </tbody>\n",
       "</table>\n",
       "</div>"
      ],
      "text/plain": [
       "             A          B   p-tukey  hedges\n",
       "1   post-early  post-late  0.041126  0.4276\n",
       "11   post-late  pre-early  0.041126 -0.4276"
      ]
     },
     "execution_count": 56,
     "metadata": {},
     "output_type": "execute_result"
    }
   ],
   "source": [
    "# Pairwise Tukey-HSD post-hoc test\n",
    "\n",
    "pairwise_tukey = pg.pairwise_tukey(data=df, dv='FR_mod', between=\"phase\")\n",
    "\n",
    "#pairwise_tukey[:][[\"A\", \"B\", \"p-tukey\", \"hedges\"]]\n",
    "pairwise_tukey[pairwise_tukey[\"p-tukey\"] <= 0.05][[\"A\", \"B\", \"p-tukey\", \"hedges\"]]"
   ]
  },
  {
   "cell_type": "code",
   "execution_count": 57,
   "metadata": {},
   "outputs": [
    {
     "data": {
      "text/html": [
       "<div>\n",
       "<style scoped>\n",
       "    .dataframe tbody tr th:only-of-type {\n",
       "        vertical-align: middle;\n",
       "    }\n",
       "\n",
       "    .dataframe tbody tr th {\n",
       "        vertical-align: top;\n",
       "    }\n",
       "\n",
       "    .dataframe thead th {\n",
       "        text-align: right;\n",
       "    }\n",
       "</style>\n",
       "<table border=\"1\" class=\"dataframe\">\n",
       "  <thead>\n",
       "    <tr style=\"text-align: right;\">\n",
       "      <th></th>\n",
       "      <th>A</th>\n",
       "      <th>B</th>\n",
       "      <th>p-corr</th>\n",
       "      <th>hedges</th>\n",
       "    </tr>\n",
       "  </thead>\n",
       "  <tbody>\n",
       "    <tr>\n",
       "      <th>0</th>\n",
       "      <td>post-early</td>\n",
       "      <td>post-expert</td>\n",
       "      <td>0.019733</td>\n",
       "      <td>0.371241</td>\n",
       "    </tr>\n",
       "    <tr>\n",
       "      <th>1</th>\n",
       "      <td>post-early</td>\n",
       "      <td>post-late</td>\n",
       "      <td>0.019733</td>\n",
       "      <td>0.474496</td>\n",
       "    </tr>\n",
       "    <tr>\n",
       "      <th>3</th>\n",
       "      <td>post-early</td>\n",
       "      <td>pre-early-baseline</td>\n",
       "      <td>0.004419</td>\n",
       "      <td>0.260162</td>\n",
       "    </tr>\n",
       "    <tr>\n",
       "      <th>7</th>\n",
       "      <td>post-expert</td>\n",
       "      <td>pre-early</td>\n",
       "      <td>0.019733</td>\n",
       "      <td>-0.371241</td>\n",
       "    </tr>\n",
       "    <tr>\n",
       "      <th>11</th>\n",
       "      <td>post-late</td>\n",
       "      <td>pre-early</td>\n",
       "      <td>0.019733</td>\n",
       "      <td>-0.474496</td>\n",
       "    </tr>\n",
       "    <tr>\n",
       "      <th>15</th>\n",
       "      <td>pre-early</td>\n",
       "      <td>pre-early-baseline</td>\n",
       "      <td>0.004419</td>\n",
       "      <td>0.260162</td>\n",
       "    </tr>\n",
       "  </tbody>\n",
       "</table>\n",
       "</div>"
      ],
      "text/plain": [
       "              A                   B    p-corr    hedges\n",
       "0    post-early         post-expert  0.019733  0.371241\n",
       "1    post-early           post-late  0.019733  0.474496\n",
       "3    post-early  pre-early-baseline  0.004419  0.260162\n",
       "7   post-expert           pre-early  0.019733 -0.371241\n",
       "11    post-late           pre-early  0.019733 -0.474496\n",
       "15    pre-early  pre-early-baseline  0.004419  0.260162"
      ]
     },
     "execution_count": 57,
     "metadata": {},
     "output_type": "execute_result"
    }
   ],
   "source": [
    "# Conducting pairwise tests using Benjamini/Hochberg FDR correction to Mann-Whitney U\n",
    "\n",
    "pairwise_mwu = pg.pairwise_tests(data=df, dv='FR_mod', between=\"phase\", padjust=\"fdr_bh\", parametric=False, )\n",
    "\n",
    "#pairwise_mwu[:][[\"A\", \"B\", \"p-corr\", \"hedges\"]]\n",
    "pairwise_mwu[pairwise_mwu[\"p-corr\"] <= 0.05][[\"A\", \"B\", \"p-corr\", \"hedges\"]]"
   ]
  },
  {
   "cell_type": "code",
   "execution_count": null,
   "metadata": {},
   "outputs": [],
   "source": []
  }
 ],
 "metadata": {
  "kernelspec": {
   "display_name": "Python 3",
   "language": "python",
   "name": "python3"
  },
  "language_info": {
   "codemirror_mode": {
    "name": "ipython",
    "version": 3
   },
   "file_extension": ".py",
   "mimetype": "text/x-python",
   "name": "python",
   "nbconvert_exporter": "python",
   "pygments_lexer": "ipython3",
   "version": "3.8.8"
  },
  "vscode": {
   "interpreter": {
    "hash": "8427839d926cfa02cf98146f41fa7aa1f3aedf26d017c65310c4e12a8a7b9def"
   }
  }
 },
 "nbformat": 4,
 "nbformat_minor": 4
}
