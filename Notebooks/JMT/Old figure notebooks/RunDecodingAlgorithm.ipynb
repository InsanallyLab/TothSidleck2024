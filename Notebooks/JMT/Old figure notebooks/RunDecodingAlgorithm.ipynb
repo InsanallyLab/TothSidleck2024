{
 "cells": [
  {
   "cell_type": "code",
   "execution_count": 1,
   "id": "5df6fa0a-f312-4c59-a804-1bbf9a521178",
   "metadata": {},
   "outputs": [],
   "source": [
    "import sys, os\n",
    "import json, pickle\n",
    "import matplotlib.pyplot as plt\n",
    "import matplotlib as mpl\n",
    "import numpy as np\n",
    "import pandas as pd\n",
    "import time as pytime\n",
    "import statsmodels.tsa.stattools as tsa\n",
    "import ruptures as rpt\n",
    "import InsanallyLabEphysTools as ilep\n",
    "import OldDecodingTools as odt\n",
    "from scipy.stats import gaussian_kde, sem, ttest_ind, ttest_rel, norm, mannwhitneyu, linregress, wilcoxon\n",
    "from tqdm import tqdm\n",
    "from types import SimpleNamespace\n",
    "from sklearn import linear_model\n",
    "from itertools import product\n",
    "from datetime import datetime\n",
    "import h5py\n",
    "from ipyparallel import Client\n",
    "#import tables as tb\n",
    "from copy import deepcopy\n",
    "#from KDEpy import FFTKDE\n",
    "\n",
    "from sklearn.model_selection import GridSearchCV, StratifiedKFold, LeaveOneOut\n",
    "from sklearn.neighbors import KernelDensity\n",
    "\n",
    "plt.rcParams['legend.fontsize'] = 'small'\n",
    "plt.rcParams['axes.labelsize'] = 'medium'\n",
    "plt.rcParams['axes.formatter.limits'] = [-2,3]\n",
    "plt.rcParams['axes.formatter.use_mathtext'] = True\n",
    "plt.rcParams['axes.spines.top'] = False\n",
    "plt.rcParams['axes.spines.right'] = False\n",
    "plt.rcParams['xtick.direction'] = 'in'\n",
    "plt.rcParams['ytick.direction'] = 'in'\n",
    "plt.rcParams['figure.dpi'] = '150'\n",
    "\n",
    "#Set global font parameters\n",
    "plt.rcParams['font.family'] = 'sans-serif'\n",
    "plt.rcParams['font.sans-serif'] = 'Arial'\n",
    "#Set font type to TrueType for compatibility\n",
    "plt.rcParams['pdf.fonttype'] = 42\n",
    "plt.rcParams['ps.fonttype'] = 42\n",
    "\n",
    "CR_COLOR = '#808080'\n",
    "NCR_COLOR = '#FF767C'\n",
    "CNO_COLOR = '#00BFFF'\n",
    "GOOD_GREY = '#969696'\n",
    "NCR_CR_cmap = mpl.colors.LinearSegmentedColormap.from_list('NCR-CR color map', [NCR_COLOR, CR_COLOR], N=1000)\n",
    "\n",
    "act_directory = 'D:\\\\Analysis_Cache'\n",
    "ops_directory = 'D:\\\\Opsin_Cache'\n",
    "beh_directory = 'P:\\\\Behavioor'\n",
    "\n",
    "%run animal_info\n",
    "ANIMAL = 'AC_12102016'"
   ]
  },
  {
   "cell_type": "code",
   "execution_count": 2,
   "id": "47c6a539-12bf-4a1e-b718-649b20b9a8da",
   "metadata": {
    "tags": []
   },
   "outputs": [],
   "source": [
    "TRIAL_DURATION = 10\n",
    "PRE_TRIAL_DURATION = 2.5\n",
    "\n",
    "def extract_spikes(hd5_file, neuron_num=0):\n",
    "    \"\"\"Extracts the spiking data from the hdf5 file. Returns an array of\n",
    "    spike times.\n",
    "\n",
    "    Keyword arguments:\n",
    "    neuron_num -- the index of the neuron you would like to access.\n",
    "    \"\"\"\n",
    "    with h5py.File(hd5_file, \"r+\") as f:\n",
    "        neuron_list = f['NF']['value']['neurons']['value']\n",
    "        if len(neuron_list) <= 10:\n",
    "            neuron_str = \"_\" + str(neuron_num)\n",
    "        else:\n",
    "            neuron_str = \"_\" + \"0\" * (2 - len(str(neuron_num))) + str(neuron_num)\n",
    "        timestamps = numpy.array(neuron_list[neuron_str]['value']['timestamps']['value'][0])\n",
    "    return(timestamps)\n",
    "\n",
    "\n",
    "def extract_events(hd5_file):\n",
    "    \"\"\"Extracts the timestamps of the events stored in the hdf5 file.\"\"\"\n",
    "    events = {}\n",
    "    with h5py.File(hd5_file, \"r+\") as f:\n",
    "        event_list = f['NF']['value']['events']['value']\n",
    "        for key in event_list.keys():\n",
    "            if key == 'dims':\n",
    "                continue\n",
    "            name = event_list[key]['value']['name']['value']\n",
    "            # The hdf5 that results file contains the names not as strings\n",
    "            # but as an array of integers which code for the string in\n",
    "            # ASCII format.\n",
    "            #name_str = ''.join(map(chr, name))\n",
    "            name_str = ''.join([chr(c[0]) for c in numpy.array(name)])\n",
    "            try:\n",
    "                timestamps = numpy.array(event_list[key]['value']['timestamps']['value'][0])\n",
    "            except:\n",
    "                timestamps = numpy.array([], dtype='float64')\n",
    "            events[name_str] = timestamps\n",
    "    return(events)\n",
    "\n",
    "\n",
    "def load_events_spikes_script(neuron_num=0, base_dir='C:\\\\Users\\\\insan\\\\Desktop\\\\elife\\\\code', spike_files=None, event_files=None, exception=None, variables=None, **kwargs):\n",
    "    \"\"\"Extracts spikes and events\n",
    "    \"\"\"\n",
    "    event_set = [extract_events(os.path.join(base_dir, f)) for f in event_files]\n",
    "    if type(neuron_num) is int:\n",
    "        if exception is not None:\n",
    "            spike_set = [event_set[i][exception[neuron_num]] for i in range(len(event_set))]\n",
    "        else:\n",
    "            spike_set = [extract_spikes(os.path.join(base_dir, f), neuron_num) for f in spike_files]\n",
    "    elif (type(neuron_num) is list) or (type(neuron_num) is tuple):\n",
    "        spike_set = []\n",
    "        for num in neuron_num:\n",
    "            if exception is not None:\n",
    "                spike_set_temp = [event_set[i][exception[num]] for i in range(len(event_set))]\n",
    "            else:\n",
    "                spike_set_temp = [extract_spikes(os.path.join(base_dir, f), num) for f in spike_files]\n",
    "            spike_set.append(spike_set_temp)\n",
    "    return(event_set, spike_set)\n",
    "\n",
    "\n",
    "######################\n",
    "# Basic Calculations #\n",
    "######################\n",
    "\n",
    "\n",
    "def create_complete_table(event_set, spike_set, variable_maps, pre_trial_duration=PRE_TRIAL_DURATION, trial_duration=TRIAL_DURATION, stim_variables=['T', 'F'], action_variables=['NPT', 'NPF']):\n",
    "    assert len(action_variables) == len(stim_variables)\n",
    "    stimuli = []\n",
    "    stimuli_time = []\n",
    "    actions = []\n",
    "    correctness = []\n",
    "    nose_pokes = []\n",
    "    num_neurons = len(spike_set)\n",
    "    responses = [[] for i in range(num_neurons)]\n",
    "    all_trial_times = []\n",
    "    for events, spikes_list, variable_map in zip(event_set, zip(*spike_set), variable_maps):\n",
    "        for stim_variable, action_variable in zip(stim_variables, action_variables):\n",
    "            trial_times = events[variable_map[stim_variable]]\n",
    "            try:\n",
    "                nose_poke_times = numpy.array(events[variable_map[action_variable]])\n",
    "            except:\n",
    "                nose_poke_times = None\n",
    "            try:\n",
    "                correct_times = events[variable_map[stim_variable + '+']]\n",
    "            except:\n",
    "                correct_times = None\n",
    "\n",
    "            all_trial_times.extend(trial_times)\n",
    "\n",
    "            for i, trial_time in enumerate(trial_times):\n",
    "                stimuli.append(stim_variable)\n",
    "                stimuli_time.append(trial_time)\n",
    "\n",
    "                # finding correctness of trial\n",
    "                if correct_times is None:\n",
    "                    correctness.append('U')\n",
    "                elif trial_time in correct_times:\n",
    "                    correctness.append('+')\n",
    "                else:\n",
    "                    correctness.append('-')\n",
    "\n",
    "                # finding nosepoke time\n",
    "                if nose_poke_times is None:\n",
    "                    nose_pokes.append(numpy.nan)  # This conflates no response with unkown response.  There is probably a better system\n",
    "                    actions.append('U')\n",
    "                else:\n",
    "                    if i == len(trial_times) - 1:\n",
    "                        index = (nose_poke_times > trial_time)\n",
    "                    else:\n",
    "                        index = (nose_poke_times > trial_time)*(nose_poke_times < trial_times[i+1])\n",
    "                    if sum(index) == 0:\n",
    "                        nose_poke_time = numpy.nan\n",
    "                        actions.append('W')\n",
    "                    else:\n",
    "                        nose_poke_time = nose_poke_times[index][0] - trial_time\n",
    "                        actions.append('NP')\n",
    "                    nose_pokes.append(nose_poke_time)\n",
    "\n",
    "                for i, spikes in enumerate(spikes_list):\n",
    "                    current_response = spikes[(spikes >= trial_time - pre_trial_duration)*(spikes < (trial_time + trial_duration))] - trial_time\n",
    "                    responses[i].append(deepcopy(current_response))\n",
    "\n",
    "    sort_index = numpy.argsort(all_trial_times)\n",
    "    for i, response in enumerate(responses):\n",
    "        responses[i] = numpy.array(response)[sort_index]\n",
    "\n",
    "    return(numpy.array(stimuli_time)[sort_index], numpy.array(stimuli)[sort_index], numpy.array(actions)[sort_index], numpy.array(nose_pokes)[sort_index], responses)\n",
    "\n",
    "def load_session_h5py(ANIMAL):\n",
    "    animal_info = ANIMALS[ANIMAL]\n",
    "    neuron = 0\n",
    "    trial_duration = animal_info['trial_duration']\n",
    "    last_trial = animal_info['last_trial']\n",
    "\n",
    "    event_set, spike_set = load_events_spikes_script(neuron_num=neuron, **animal_info)\n",
    "    st0, s0, a0, np0, r0 = create_complete_table(event_set, spike_set, animal_info['variables'], \n",
    "                                                        trial_duration = trial_duration, \n",
    "                                                        pre_trial_duration = trial_duration)\n",
    "\n",
    "    #Meta\n",
    "    sessionfile = SimpleNamespace()\n",
    "    sessionfile.meta = SimpleNamespace()\n",
    "    sessionfile.meta.fs = 30000\n",
    "    sessionfile.meta.length_in_trials = len(s0)\n",
    "    sessionfile.meta.task = 'nonreversal'#\n",
    "\n",
    "    #Trials\n",
    "    sessionfile.trials = SimpleNamespace()\n",
    "    sessionfile.trials.target = s0 == 'T'\n",
    "    sessionfile.trials.go = a0 == 'NP'\n",
    "    sessionfile.trials.starts = st0\n",
    "    sessionfile.trials.ends = sessionfile.trials.starts + trial_duration\n",
    "    sessionfile.trials.starts *= sessionfile.meta.fs\n",
    "    sessionfile.trials.ends *= sessionfile.meta.fs\n",
    "\n",
    "    #Clusters\n",
    "    sessionfile.clusters = SimpleNamespace()\n",
    "    sessionfile.clusters.good = animal_info['all_neurons']\n",
    "\n",
    "    #Spikes\n",
    "    sessionfile.spikes = SimpleNamespace()\n",
    "    sessionfile.spikes.times = []\n",
    "    sessionfile.spikes.clusters = []\n",
    "    for clust in sessionfile.clusters.good:\n",
    "        _, spike_set_clust = load_events_spikes_script(neuron_num=[clust], **animal_info)\n",
    "        spikes = spike_set_clust[0][0]\n",
    "        spikes *= sessionfile.meta.fs\n",
    "        clusters = np.full_like(spikes,clust)    \n",
    "        sessionfile.spikes.times = np.concatenate((sessionfile.spikes.times,spikes))\n",
    "        sessionfile.spikes.clusters = np.concatenate((sessionfile.spikes.clusters,clusters))\n",
    "\n",
    "    #Trim\n",
    "    sessionfile.trim = dict()\n",
    "    for clust in sessionfile.clusters.good:\n",
    "        sessionfile.trim[clust] = SimpleNamespace()\n",
    "        sessionfile.trim[clust].trimmed_trials = list(range(len(s0)))\n",
    "        \n",
    "    return sessionfile"
   ]
  },
  {
   "cell_type": "code",
   "execution_count": null,
   "id": "20c8e74f-106c-4e29-828f-714d70468c13",
   "metadata": {},
   "outputs": [],
   "source": []
  },
  {
   "cell_type": "code",
   "execution_count": null,
   "id": "b53504e3-cf4b-459d-8a67-dee9dd168f5c",
   "metadata": {},
   "outputs": [],
   "source": []
  },
  {
   "cell_type": "markdown",
   "id": "1f3de308-e8cb-4ca8-88ba-0b809371011d",
   "metadata": {},
   "source": [
    "# Run Calculations on Mouse Data"
   ]
  },
  {
   "cell_type": "markdown",
   "id": "c52bdbe3-cd64-4d16-bd26-72e89f39700c",
   "metadata": {},
   "source": [
    "Activate Engines"
   ]
  },
  {
   "cell_type": "code",
   "execution_count": 2,
   "id": "8d6a1940-de2f-4c2e-a6b5-d74906fe9b7a",
   "metadata": {},
   "outputs": [
    {
     "name": "stdout",
     "output_type": "stream",
     "text": [
      "Number of active engines: 16\n"
     ]
    }
   ],
   "source": [
    "#rc = Client('/Users/balbanna/.starcluster/ipcluster/SecurityGroup:@sc-MI-us-east-1.json', sshkey='/Users/badr/.ssh/EC2key.rsa')\n",
    "rc = Client()\n",
    "dv = rc[:]\n",
    "dv.block = True\n",
    "dv.activate()\n",
    "print(\"Number of active engines: {0}\".format(len(dv)))"
   ]
  },
  {
   "cell_type": "code",
   "execution_count": 3,
   "id": "ac1305d1-e339-4bef-ab2c-a1200d20c2db",
   "metadata": {
    "tags": []
   },
   "outputs": [],
   "source": [
    "%%px --block\n",
    "import sys, os\n",
    "import numpy as np\n",
    "import InsanallyLabEphysTools as ilep\n",
    "import pickle\n",
    "\n",
    "act_directory = 'D:\\\\Analysis_Cache'\n",
    "categories = 'response'\n",
    "reps = 1000\n",
    "\n",
    "#%load_ext autoreload\n",
    "#%autoreload 2\n",
    "#%run animal_info"
   ]
  },
  {
   "cell_type": "code",
   "execution_count": 4,
   "id": "79ce96a3-abc3-4693-8a39-7848ac5e46c1",
   "metadata": {
    "tags": []
   },
   "outputs": [],
   "source": [
    "act_directory = 'D:\\\\Analysis_Cache'\n",
    "#categories = 'stimulus'\n",
    "categories = 'response'\n",
    "reps = 1000"
   ]
  },
  {
   "cell_type": "markdown",
   "id": "d0f4f174-7597-4084-ad98-044464a79ded",
   "metadata": {},
   "source": [
    "Run Calculation"
   ]
  },
  {
   "cell_type": "code",
   "execution_count": 6,
   "id": "dd63c168-1dbb-44fd-be86-d1882c50c06c",
   "metadata": {},
   "outputs": [],
   "source": [
    "def calculateDecodingForSingleNeuron(session,clust,directory):\n",
    "    print(directory)\n",
    "    print(session)\n",
    "    sessionfile = ilep.loadSessionCached(directory,session)\n",
    "    filename = ilep.generateDateString(sessionfile) + ' cluster ' + str(clust) + ' decoding cached result.pickle'\n",
    "    filename = os.path.join('D:\\\\Temp_Cache',filename)\n",
    "    \n",
    "    if os.path.isfile(filename):\n",
    "        return [np.nan]*15\n",
    "        #with open(filename, 'rb') as f:\n",
    "        #    res = pickle.load(f)\n",
    "        #    return res\n",
    "    else:\n",
    "        try:    \n",
    "            #a,astd,asem,wa,wastd,wasem,ca,castd,casem,pval = ilep.cachedCalculateClusterAccuracy(sessionfile,clust,reps=reps,categories='stimulus')\n",
    "            res = ilep.cachedCalculateClusterAccuracy(sessionfile,clust,reps=reps,categories=categories)\n",
    "        except Exception as e:\n",
    "            #raise e\n",
    "            print(e)\n",
    "            res = [np.nan]*15\n",
    "        with open(filename, 'wb') as f:\n",
    "            pickle.dump(res, f, protocol=pickle.HIGHEST_PROTOCOL)\n",
    "            \n",
    "    return res"
   ]
  },
  {
   "cell_type": "markdown",
   "id": "066e06e1-3de0-4c01-bde7-d2cc36da0d14",
   "metadata": {},
   "source": [
    "# Dual Recording"
   ]
  },
  {
   "cell_type": "code",
   "execution_count": null,
   "id": "490edc93-b26f-458e-a4a3-705552bce2e7",
   "metadata": {
    "tags": []
   },
   "outputs": [
    {
     "name": "stdout",
     "output_type": "stream",
     "text": [
      "Starting run at: 2023-01-06 13:31:09.409195\n"
     ]
    }
   ],
   "source": [
    "EnumSession = []\n",
    "EnumClust = []\n",
    "sessions = os.listdir(act_directory)\n",
    "for session in sessions:\n",
    "    sessionfile = ilep.loadSessionCached(act_directory,session)\n",
    "    \n",
    "    #if sessionfile.meta.animal = 'BS_50':\n",
    "    #    continue\n",
    "    \n",
    "    for clust in sessionfile.clusters.good:\n",
    "        EnumSession.append(session)\n",
    "        EnumClust.append(clust)\n",
    "        \n",
    "#EnumSession = EnumSession[0:24]\n",
    "#EnumClust = EnumClust[0:24]\n",
    "\n",
    "#res = calculateDecodingForSingleNeuron(EnumSession[0],EnumClust[0])\n",
    "#print(res)\n",
    "\n",
    "#Parallel Execution\n",
    "start_time = datetime.now()\n",
    "print('Starting run at: '+str(start_time))\n",
    "res = dv.map_sync(calculateDecodingForSingleNeuron, EnumSession,EnumClust,[act_directory]*len(EnumClust))\n",
    "#res = calculateDecodingForSingleNeuron(EnumSession[0],EnumClust[0],act_directory)\n",
    "#print(res)\n",
    "\n",
    "end_time = datetime.now()\n",
    "print('Elapsed time: '+str(end_time-start_time))\n",
    "        \n",
    "finish_time = datetime.now()\n",
    "print('Run completed at '+str(finish_time))"
   ]
  },
  {
   "cell_type": "markdown",
   "id": "a7fd2393-d713-49d0-94b9-5d01632fc2b8",
   "metadata": {},
   "source": [
    "# Recreate from cached results"
   ]
  },
  {
   "cell_type": "code",
   "execution_count": 13,
   "id": "9253e922-af4c-4de2-aab7-4771aaade2e6",
   "metadata": {
    "tags": []
   },
   "outputs": [
    {
     "name": "stderr",
     "output_type": "stream",
     "text": [
      "5801it [00:25, 228.70it/s]\n"
     ]
    },
    {
     "name": "stdout",
     "output_type": "stream",
     "text": [
      "Data saved to D:\\MouseDatachoiceDecodingCached5801units2022-12-20FromCache.csv at: 2022-12-20 15:51:48.575558\n"
     ]
    }
   ],
   "source": [
    "sessionIDs = []\n",
    "clusters = []\n",
    "accuracies = []\n",
    "accuracies_std = []\n",
    "accuracies_sem = []\n",
    "waccuracies = []\n",
    "waccuracies_std = []\n",
    "waccuracies_sem = []\n",
    "caccuracies = []\n",
    "caccuracies_std = []\n",
    "caccuracies_sem = []\n",
    "saccuracies = []\n",
    "saccuracies_std = []\n",
    "saccuracies_sem = []\n",
    "pvals_c = []\n",
    "pvals_s = []\n",
    "frac_empty = []\n",
    "repetitions = []\n",
    "\n",
    "EnumSession = []\n",
    "EnumClust = []\n",
    "sessions = os.listdir(act_directory)\n",
    "for session in sessions:\n",
    "    sessionfile = ilep.loadSessionCached(act_directory,session)\n",
    "    for clust in sessionfile.clusters.good:\n",
    "        EnumSession.append(session)\n",
    "        EnumClust.append(clust)\n",
    "        \n",
    "#EnumSession = EnumSession[0:24]\n",
    "#EnumClust = EnumClust[0:24]\n",
    "        \n",
    "for idx,(session,clust) in tqdm(enumerate(zip(EnumSession,EnumClust))):\n",
    "    sessionfile = ilep.loadSessionCached(act_directory,session)\n",
    "    filename = ilep.generateDateString(sessionfile) + ' cluster ' + str(clust) + ' decoding cached result.pickle'\n",
    "    filename = os.path.join('D:\\\\Temp_Cache',filename)\n",
    "    \n",
    "    this_res = [np.nan]*15\n",
    "    try:\n",
    "        with open(filename, 'rb') as f:\n",
    "            this_res = pickle.load(f)\n",
    "    except Exception as e:\n",
    "        #print(filename + ' failed')\n",
    "        #print(e)\n",
    "        pass\n",
    "    \n",
    "    try:\n",
    "        accuracies.append(this_res[0])\n",
    "        accuracies_std.append(this_res[1])\n",
    "        accuracies_sem.append(this_res[2])\n",
    "\n",
    "        waccuracies.append(this_res[3])\n",
    "        waccuracies_std.append(this_res[4])\n",
    "        waccuracies_sem.append(this_res[5])\n",
    "\n",
    "        caccuracies.append(this_res[6])\n",
    "        caccuracies_std.append(this_res[7])\n",
    "        caccuracies_sem.append(this_res[8])\n",
    "\n",
    "        saccuracies.append(this_res[9])\n",
    "        saccuracies_std.append(this_res[10])\n",
    "        saccuracies_sem.append(this_res[11])\n",
    "\n",
    "        pvals_c.append(this_res[12])\n",
    "        pvals_s.append(this_res[13])\n",
    "\n",
    "        frac_empty.append(this_res[14])\n",
    "    except:\n",
    "        print(filename)\n",
    "    \n",
    "    sessionIDs.append(EnumSession[idx])\n",
    "    clusters.append(EnumClust[idx])\n",
    "    repetitions.append(reps)\n",
    "    \n",
    "############################################ SAVE #######################################################\n",
    "    \n",
    "data = np.column_stack([sessionIDs,clusters,accuracies,accuracies_std,accuracies_sem,waccuracies,waccuracies_std,waccuracies_sem,caccuracies,caccuracies_std,caccuracies_sem,saccuracies,saccuracies_std,saccuracies_sem,pvals_c,pvals_s,frac_empty,repetitions])\n",
    "labels = ['sessions','clusters','accuracies','accuracies_std','accuracies_sem','waccuracies','waccuracies_std','waccuracies_sem','caccuracies','caccuracies_std','caccuracies_sem','saccuracies','saccuracies_std','saccuracies_sem','pvals_c','pvals_s','frac_empty','repetitions']\n",
    "df = pd.DataFrame(data=data, columns=labels)\n",
    "\n",
    "filename = 'D:\\\\MouseData'+categories+'DecodingCached'+str(len(clusters))+'units'+str(datetime.now())\n",
    "filename = filename.split(' ')[0]\n",
    "filename = filename + 'FromCache.csv'\n",
    "df.to_csv(filename)\n",
    "\n",
    "save_time = datetime.now()\n",
    "print('Data saved to '+filename+' at: '+str(save_time))"
   ]
  },
  {
   "cell_type": "markdown",
   "id": "1775926e-ab79-4fe6-bc0c-256a61a4248d",
   "metadata": {},
   "source": [
    "# Opsin Recording"
   ]
  },
  {
   "cell_type": "code",
   "execution_count": null,
   "id": "54e6a7d5-234b-4f70-bff6-8cc92cb02c33",
   "metadata": {
    "tags": []
   },
   "outputs": [
    {
     "name": "stdout",
     "output_type": "stream",
     "text": [
      "Starting run at: 2022-12-06 10:52:19.829142\n"
     ]
    }
   ],
   "source": [
    "EnumSession = []\n",
    "EnumClust = []\n",
    "sessions = os.listdir(ops_directory)\n",
    "for session in sessions:\n",
    "    sessionfile = ilep.loadSessionCached(ops_directory,session)\n",
    "    \n",
    "    for clust in sessionfile.clusters.good:\n",
    "        EnumSession.append(session)\n",
    "        EnumClust.append(clust)\n",
    "        \n",
    "EnumSession = EnumSession[0:24]\n",
    "EnumClust = EnumClust[0:24]\n",
    "\n",
    "#res = calculateDecodingForSingleNeuron(EnumSession[0],EnumClust[0])\n",
    "#print(res)\n",
    "\n",
    "#Parallel Execution\n",
    "start_time = datetime.now()\n",
    "print('Starting run at: '+str(start_time))\n",
    "res = dv.map_sync(calculateDecodingForSingleNeuron, EnumSession,EnumClust,[ops_directory]*len(EnumClust))\n",
    "end_time = datetime.now()\n",
    "print('Elapsed time: '+str(end_time-start_time))\n",
    "        \n",
    "finish_time = datetime.now()\n",
    "print('Run completed at '+str(finish_time))"
   ]
  },
  {
   "cell_type": "markdown",
   "id": "fe93d4e4-b24f-4a30-b282-7ee0d6d5c4c1",
   "metadata": {},
   "source": [
    "# Recreate from cached results"
   ]
  },
  {
   "cell_type": "code",
   "execution_count": 12,
   "id": "3c36be98-c33c-495e-93f8-d62c18d37eec",
   "metadata": {
    "tags": []
   },
   "outputs": [
    {
     "name": "stderr",
     "output_type": "stream",
     "text": [
      "111it [00:00, 143.69it/s]\n"
     ]
    },
    {
     "ename": "IndexError",
     "evalue": "list index out of range",
     "output_type": "error",
     "traceback": [
      "\u001b[1;31m---------------------------------------------------------------------------\u001b[0m",
      "\u001b[1;31mIndexError\u001b[0m                                Traceback (most recent call last)",
      "\u001b[1;32m<ipython-input-12-5a212dbcb289>\u001b[0m in \u001b[0;36m<module>\u001b[1;34m\u001b[0m\n\u001b[0;32m     58\u001b[0m     \u001b[0msaccuracies\u001b[0m\u001b[1;33m.\u001b[0m\u001b[0mappend\u001b[0m\u001b[1;33m(\u001b[0m\u001b[0mthis_res\u001b[0m\u001b[1;33m[\u001b[0m\u001b[1;36m9\u001b[0m\u001b[1;33m]\u001b[0m\u001b[1;33m)\u001b[0m\u001b[1;33m\u001b[0m\u001b[1;33m\u001b[0m\u001b[0m\n\u001b[0;32m     59\u001b[0m     \u001b[0msaccuracies_std\u001b[0m\u001b[1;33m.\u001b[0m\u001b[0mappend\u001b[0m\u001b[1;33m(\u001b[0m\u001b[0mthis_res\u001b[0m\u001b[1;33m[\u001b[0m\u001b[1;36m10\u001b[0m\u001b[1;33m]\u001b[0m\u001b[1;33m)\u001b[0m\u001b[1;33m\u001b[0m\u001b[1;33m\u001b[0m\u001b[0m\n\u001b[1;32m---> 60\u001b[1;33m     \u001b[0msaccuracies_sem\u001b[0m\u001b[1;33m.\u001b[0m\u001b[0mappend\u001b[0m\u001b[1;33m(\u001b[0m\u001b[0mthis_res\u001b[0m\u001b[1;33m[\u001b[0m\u001b[1;36m11\u001b[0m\u001b[1;33m]\u001b[0m\u001b[1;33m)\u001b[0m\u001b[1;33m\u001b[0m\u001b[1;33m\u001b[0m\u001b[0m\n\u001b[0m\u001b[0;32m     61\u001b[0m \u001b[1;33m\u001b[0m\u001b[0m\n\u001b[0;32m     62\u001b[0m     \u001b[0mpvals_c\u001b[0m\u001b[1;33m.\u001b[0m\u001b[0mappend\u001b[0m\u001b[1;33m(\u001b[0m\u001b[0mthis_res\u001b[0m\u001b[1;33m[\u001b[0m\u001b[1;36m12\u001b[0m\u001b[1;33m]\u001b[0m\u001b[1;33m)\u001b[0m\u001b[1;33m\u001b[0m\u001b[1;33m\u001b[0m\u001b[0m\n",
      "\u001b[1;31mIndexError\u001b[0m: list index out of range"
     ]
    }
   ],
   "source": [
    "sessionIDs = []\n",
    "clusters = []\n",
    "accuracies = []\n",
    "accuracies_std = []\n",
    "accuracies_sem = []\n",
    "waccuracies = []\n",
    "waccuracies_std = []\n",
    "waccuracies_sem = []\n",
    "caccuracies = []\n",
    "caccuracies_std = []\n",
    "caccuracies_sem = []\n",
    "saccuracies = []\n",
    "saccuracies_std = []\n",
    "saccuracies_sem = []\n",
    "pvals_c = []\n",
    "pvals_s = []\n",
    "frac_empty = []\n",
    "repetitions = []\n",
    "\n",
    "EnumSession = []\n",
    "EnumClust = []\n",
    "sessions = os.listdir(act_directory)\n",
    "for session in sessions:\n",
    "    sessionfile = ilep.loadSessionCached(act_directory,session)\n",
    "    for clust in sessionfile.clusters.good:\n",
    "        EnumSession.append(session)\n",
    "        EnumClust.append(clust)\n",
    "        \n",
    "#EnumSession = EnumSession[0:24]\n",
    "#EnumClust = EnumClust[0:24]\n",
    "        \n",
    "for idx,(session,clust) in tqdm(enumerate(zip(EnumSession,EnumClust))):\n",
    "    sessionfile = ilep.loadSessionCached(act_directory,session)\n",
    "    filename = ilep.generateDateString(sessionfile) + ' cluster ' + str(clust) + ' decoding cached result.pickle'\n",
    "    filename = os.path.join('D:\\\\Temp_Cache',filename)\n",
    "    \n",
    "    this_res = [np.nan]*10\n",
    "    try:\n",
    "        with open(filename, 'rb') as f:\n",
    "            this_res = pickle.load(f)\n",
    "    except Exception as e:\n",
    "        #print(filename + ' failed')\n",
    "        #print(e)\n",
    "        pass\n",
    "    \n",
    "    accuracies.append(this_res[0])\n",
    "    accuracies_std.append(this_res[1])\n",
    "    accuracies_sem.append(this_res[2])\n",
    "            \n",
    "    waccuracies.append(this_res[3])\n",
    "    waccuracies_std.append(this_res[4])\n",
    "    waccuracies_sem.append(this_res[5])\n",
    "            \n",
    "    caccuracies.append(this_res[6])\n",
    "    caccuracies_std.append(this_res[7])\n",
    "    caccuracies_sem.append(this_res[8])\n",
    "    \n",
    "    saccuracies.append(this_res[9])\n",
    "    saccuracies_std.append(this_res[10])\n",
    "    saccuracies_sem.append(this_res[11])\n",
    "    \n",
    "    pvals_c.append(this_res[12])\n",
    "    pvals_s.append(this_res[13])\n",
    "    \n",
    "    frac_empty.append(this_res[14])\n",
    "            \n",
    "    sessionIDs.append(EnumSession[idx])\n",
    "    clusters.append(EnumClust[idx])\n",
    "    repetitions.append(reps)\n",
    "    \n",
    "############################################ SAVE #######################################################\n",
    "    \n",
    "data = np.column_stack([sessionIDs,clusters,accuracies,accuracies_std,accuracies_sem,waccuracies,waccuracies_std,waccuracies_sem,caccuracies,caccuracies_std,caccuracies_sem,saccuracies,saccuracies_std,saccuracies_sem,pvals_c,pvals_s,frac_empty,repetitions])\n",
    "labels = ['sessions','clusters','accuracies','accuracies_std','accuracies_sem','waccuracies','waccuracies_std','waccuracies_sem','caccuracies','caccuracies_std','caccuracies_sem','saccuracies','saccuracies_std','saccuracies_sem','pvals_c','pvals_s','frac_empty','repetitions']\n",
    "df = pd.DataFrame(data=data, columns=labels)\n",
    "\n",
    "filename = 'D:\\\\MouseData'+categories+'DecodingCached'+str(len(clusters))+'units'+str(datetime.now())\n",
    "filename = filename.split(' ')[0]\n",
    "filename = filename + 'FromCache.csv'\n",
    "df.to_csv(filename)\n",
    "\n",
    "save_time = datetime.now()\n",
    "print('Data saved to '+filename+' at: '+str(save_time))"
   ]
  },
  {
   "cell_type": "code",
   "execution_count": null,
   "id": "93783fb3-0ea1-4c60-8953-202d0068b6ea",
   "metadata": {},
   "outputs": [],
   "source": []
  },
  {
   "cell_type": "code",
   "execution_count": null,
   "id": "b874bfb6-aa22-4f08-9d5b-43b46095dc93",
   "metadata": {},
   "outputs": [],
   "source": []
  },
  {
   "cell_type": "code",
   "execution_count": null,
   "id": "5cb1611e-5168-437b-abf1-c84724397942",
   "metadata": {},
   "outputs": [],
   "source": []
  },
  {
   "cell_type": "code",
   "execution_count": null,
   "id": "959fb051-fcd5-4c26-a9fd-6d841d85dc8d",
   "metadata": {},
   "outputs": [],
   "source": []
  },
  {
   "cell_type": "code",
   "execution_count": null,
   "id": "56dd8f6e-e9b3-4e31-8c65-44f9de1e22fc",
   "metadata": {},
   "outputs": [],
   "source": []
  },
  {
   "cell_type": "code",
   "execution_count": null,
   "id": "ec059294-95f3-47d2-95e8-d7c40e96e1e4",
   "metadata": {},
   "outputs": [],
   "source": []
  },
  {
   "cell_type": "code",
   "execution_count": null,
   "id": "0cef86fc-81ea-4db8-bae0-bf459ba72e66",
   "metadata": {},
   "outputs": [],
   "source": []
  },
  {
   "cell_type": "code",
   "execution_count": null,
   "id": "6d48a012-ecd6-48d4-b0bd-bd615b73a334",
   "metadata": {},
   "outputs": [],
   "source": []
  },
  {
   "cell_type": "code",
   "execution_count": null,
   "id": "bc51139d-a5de-4125-b1d0-6140b5cb0a04",
   "metadata": {},
   "outputs": [],
   "source": []
  },
  {
   "cell_type": "code",
   "execution_count": null,
   "id": "61d4af92-b7e3-4ffb-8938-04c955288371",
   "metadata": {},
   "outputs": [],
   "source": []
  },
  {
   "cell_type": "code",
   "execution_count": null,
   "id": "ae7a009e-35c5-4226-94c2-f3d74d311463",
   "metadata": {},
   "outputs": [],
   "source": []
  },
  {
   "cell_type": "code",
   "execution_count": null,
   "id": "54d7ed9c-80be-49d3-baf7-72f64829d4ae",
   "metadata": {},
   "outputs": [],
   "source": []
  },
  {
   "cell_type": "code",
   "execution_count": null,
   "id": "0dbe53fe-b4d4-45ed-8a4c-05b722ab9ebb",
   "metadata": {},
   "outputs": [],
   "source": []
  },
  {
   "cell_type": "code",
   "execution_count": null,
   "id": "b14b78c2-01aa-4ec7-9b01-f79740c21404",
   "metadata": {},
   "outputs": [],
   "source": []
  },
  {
   "cell_type": "code",
   "execution_count": null,
   "id": "00a3d3dc-237c-4cc7-91ba-d3d45c16c3b5",
   "metadata": {},
   "outputs": [],
   "source": []
  },
  {
   "cell_type": "code",
   "execution_count": null,
   "id": "24b009b6-1a74-4b58-bf51-31325e68929b",
   "metadata": {},
   "outputs": [],
   "source": []
  },
  {
   "cell_type": "code",
   "execution_count": null,
   "id": "2d00ec30-6bf2-4055-b1dc-952c5ab93480",
   "metadata": {},
   "outputs": [],
   "source": []
  },
  {
   "cell_type": "code",
   "execution_count": null,
   "id": "ababc06c-0484-4a01-8a0b-7b63cf1c2a51",
   "metadata": {},
   "outputs": [],
   "source": []
  },
  {
   "cell_type": "code",
   "execution_count": null,
   "id": "72314f94-d569-4ae3-ba8a-906e99bd32db",
   "metadata": {},
   "outputs": [],
   "source": []
  },
  {
   "cell_type": "code",
   "execution_count": null,
   "id": "a798d001-9d5a-44bc-af87-65867279aafc",
   "metadata": {},
   "outputs": [],
   "source": []
  },
  {
   "cell_type": "code",
   "execution_count": null,
   "id": "678bcc97-e00f-4de5-85ec-6cae072ea932",
   "metadata": {},
   "outputs": [],
   "source": []
  },
  {
   "cell_type": "code",
   "execution_count": null,
   "id": "628af265-0776-4722-b806-3b5dc9d6b468",
   "metadata": {},
   "outputs": [],
   "source": []
  },
  {
   "cell_type": "code",
   "execution_count": null,
   "id": "fbe00bdf-725b-43d7-ab7e-a935160c2a16",
   "metadata": {},
   "outputs": [],
   "source": []
  },
  {
   "cell_type": "code",
   "execution_count": null,
   "id": "b9a78775-08f1-4bb3-9579-83f55440ce94",
   "metadata": {},
   "outputs": [],
   "source": []
  },
  {
   "cell_type": "code",
   "execution_count": null,
   "id": "00cabbca-ce7d-44ce-94cd-385bf5ba8362",
   "metadata": {},
   "outputs": [],
   "source": []
  },
  {
   "cell_type": "code",
   "execution_count": null,
   "id": "c3f823da-8b0c-431d-b368-381876f130df",
   "metadata": {},
   "outputs": [],
   "source": []
  },
  {
   "cell_type": "code",
   "execution_count": null,
   "id": "a2676f55-8453-4241-b3a0-719229dbe957",
   "metadata": {},
   "outputs": [],
   "source": []
  },
  {
   "cell_type": "code",
   "execution_count": null,
   "id": "efab6b87-afa3-4884-8b5b-1fc7987f2b74",
   "metadata": {},
   "outputs": [],
   "source": []
  },
  {
   "cell_type": "code",
   "execution_count": null,
   "id": "66e28de0-24ca-40dd-b15b-d56f8f25d2ab",
   "metadata": {},
   "outputs": [],
   "source": []
  },
  {
   "cell_type": "code",
   "execution_count": null,
   "id": "8a1d083e-a066-4ef9-ade4-594402588918",
   "metadata": {},
   "outputs": [],
   "source": []
  },
  {
   "cell_type": "code",
   "execution_count": null,
   "id": "8d82578e-b63f-4e9a-afd2-3d65fc3616ec",
   "metadata": {},
   "outputs": [],
   "source": []
  },
  {
   "cell_type": "code",
   "execution_count": null,
   "id": "b00b67f6-aeff-4ae1-9617-635b408dfa64",
   "metadata": {},
   "outputs": [],
   "source": []
  },
  {
   "cell_type": "code",
   "execution_count": null,
   "id": "e38e41cf-af4d-46e2-8e2e-44b7d4e0518b",
   "metadata": {},
   "outputs": [],
   "source": []
  },
  {
   "cell_type": "code",
   "execution_count": null,
   "id": "d32f0a53-cfb6-4153-8932-8d357fa5ba6d",
   "metadata": {},
   "outputs": [],
   "source": []
  },
  {
   "cell_type": "code",
   "execution_count": null,
   "id": "7ffed7e7-6dbc-48bf-a29a-f93cf5ddce69",
   "metadata": {},
   "outputs": [],
   "source": []
  },
  {
   "cell_type": "code",
   "execution_count": null,
   "id": "0111154d-ed46-4832-841c-7d450e5cdb2a",
   "metadata": {},
   "outputs": [],
   "source": []
  },
  {
   "cell_type": "code",
   "execution_count": null,
   "id": "7094e3f8-b75c-4697-8f73-6aface69b764",
   "metadata": {},
   "outputs": [],
   "source": []
  },
  {
   "cell_type": "code",
   "execution_count": null,
   "id": "2b24ef12-3d78-486d-8476-142d4a75abd4",
   "metadata": {},
   "outputs": [],
   "source": []
  },
  {
   "cell_type": "code",
   "execution_count": null,
   "id": "07a16c5c-7000-42d8-8cdf-004daed6e1a2",
   "metadata": {},
   "outputs": [],
   "source": []
  },
  {
   "cell_type": "code",
   "execution_count": null,
   "id": "ed622324-cf29-4b83-a256-05d759eb03f6",
   "metadata": {},
   "outputs": [],
   "source": []
  },
  {
   "cell_type": "code",
   "execution_count": null,
   "id": "40b4cc7e-9b3f-4708-b411-7dd8ec41896b",
   "metadata": {},
   "outputs": [],
   "source": []
  },
  {
   "cell_type": "code",
   "execution_count": null,
   "id": "bea2f717-2bf8-4b08-865f-9f86b53d3fd9",
   "metadata": {},
   "outputs": [],
   "source": []
  },
  {
   "cell_type": "code",
   "execution_count": null,
   "id": "73849416-8f10-4630-9b39-a08622caab23",
   "metadata": {
    "collapsed": true,
    "jupyter": {
     "outputs_hidden": true
    },
    "tags": []
   },
   "outputs": [
    {
     "name": "stdout",
     "output_type": "stream",
     "text": [
      "Starting run at: 2022-09-22 12:50:52.339307\n"
     ]
    },
    {
     "name": "stderr",
     "output_type": "stream",
     "text": [
      "  0%|          | 11/4858 [14:11<114:48:10, 85.27s/it]"
     ]
    }
   ],
   "source": [
    "start_time = datetime.now()\n",
    "print('Starting run at: '+str(start_time))\n",
    "\n",
    "sessionIDs = []\n",
    "clusters = []\n",
    "accuracies = []\n",
    "accuracies_std = []\n",
    "accuracies_sem = []\n",
    "waccuracies = []\n",
    "waccuracies_std = []\n",
    "waccuracies_sem = []\n",
    "caccuracies = []\n",
    "caccuracies_std = []\n",
    "caccuracies_sem = []\n",
    "pvals = []\n",
    "repetitions = []\n",
    "\n",
    "EnumSession = []\n",
    "EnumClust = []\n",
    "sessions = os.listdir(act_directory)\n",
    "for session in sessions:\n",
    "    sessionfile = ilep.loadSessionCached(act_directory,session)\n",
    "    for clust in sessionfile.clusters.good:\n",
    "        EnumSession.append(session)\n",
    "        EnumClust.append(clust)\n",
    "\n",
    "for idx in tqdm(range(len(EnumClust))):\n",
    "    sessionID = EnumSession[idx]\n",
    "    clust = EnumClust[idx]\n",
    "    \n",
    "    if session != sessionID:\n",
    "        session = sessionID\n",
    "        sessionfile = ilep.loadSessionCached(act_directory,session)\n",
    "    \n",
    "    try:\n",
    "        a,astd,asem,wa,wastd,wasem,ca,castd,casem,pval = ilep.cachedCalculateClusterAccuracy(sessionfile,clust,reps=reps,categories='stimulus')\n",
    "        accuracies.append(a)\n",
    "        accuracies_std.append(astd)\n",
    "        accuracies_sem.append(asem)\n",
    "            \n",
    "        waccuracies.append(wa)\n",
    "        waccuracies_std.append(wastd)\n",
    "        waccuracies_sem.append(wasem)\n",
    "            \n",
    "        caccuracies.append(ca)\n",
    "        caccuracies_std.append(castd)\n",
    "        caccuracies_sem.append(casem)\n",
    "        pvals.append(pval)\n",
    "            \n",
    "        sessionIDs.append(session)\n",
    "        clusters.append(clust)\n",
    "        repetitions.append(reps)\n",
    "    except Exception as e:\n",
    "        #print('failure loading '+ilep.generateDateString(sessionfile))\n",
    "        raise e\n",
    "        pass\n",
    "\n",
    "################################ SAVE DATA TO DISK ############################################\n",
    "        \n",
    "data = np.column_stack([sessionIDs,clusters,accuracies,accuracies_std,accuracies_sem,waccuracies,waccuracies_std,waccuracies_sem,caccuracies,caccuracies_std,caccuracies_sem,pvals,repetitions])\n",
    "labels = ['sessions','clusters','accuracies','accuracies_std','accuracies_sem','waccuracies','waccuracies_std','waccuracies_sem','caccuracies','caccuracies_std','caccuracies_sem','pvals','repetitions']\n",
    "df = pd.DataFrame(data=data, columns=labels)\n",
    "print(df)\n",
    "#df.to_csv('D:\\\\MouseData'+categories+'DecodingCached '+str(datetime.now())+'.csv')\n",
    "\n",
    "end_time = datetime.now()\n",
    "print('Data saved at: '+str(end_time))\n",
    "\n",
    "print('Elapsed time: '+str(end_time-start_time))"
   ]
  },
  {
   "cell_type": "code",
   "execution_count": null,
   "id": "0c4efda1-0ea5-42b5-94cb-6dae5f85491d",
   "metadata": {},
   "outputs": [],
   "source": []
  },
  {
   "cell_type": "code",
   "execution_count": 20,
   "id": "d242d495-7460-415a-b8c7-e48c19531f0a",
   "metadata": {},
   "outputs": [
    {
     "data": {
      "text/plain": [
       "0.19742992925783176"
      ]
     },
     "execution_count": 20,
     "metadata": {},
     "output_type": "execute_result"
    }
   ],
   "source": [
    "np.random.rand()"
   ]
  },
  {
   "cell_type": "code",
   "execution_count": null,
   "id": "24cc5478-c0f5-4e56-80a4-e2213f2533c9",
   "metadata": {},
   "outputs": [],
   "source": []
  },
  {
   "cell_type": "code",
   "execution_count": null,
   "id": "5c03f884-b55b-41bd-b820-56330c8fa112",
   "metadata": {},
   "outputs": [],
   "source": []
  },
  {
   "cell_type": "markdown",
   "id": "c3c7e1c7-6572-4e2b-b9e6-7c9bf1a5ba96",
   "metadata": {},
   "source": [
    "# Split into KFolds"
   ]
  },
  {
   "cell_type": "code",
   "execution_count": 112,
   "id": "4fe6be65-b3d5-4124-98dc-54cef216904e",
   "metadata": {},
   "outputs": [
    {
     "name": "stdout",
     "output_type": "stream",
     "text": [
      "0: 384 43\n",
      "1: 384 43\n",
      "2: 384 43\n",
      "3: 384 43\n",
      "4: 384 43\n",
      "5: 384 43\n",
      "6: 384 43\n",
      "7: 385 42\n",
      "8: 385 42\n",
      "9: 385 42\n"
     ]
    }
   ],
   "source": [
    "clustToUse = sessionfile.clusters.good[0]\n",
    "clust = clustToUse\n",
    "\n",
    "conditions = ilep.getAllConditions(sessionfile,clust)\n",
    "cond = conditions['all_trials']\n",
    "\n",
    "conditions_to_test = ['target_tone','nontarget_tone']\n",
    "\n",
    "#Train_X_full,Test_X = Train_Test_Split(cond.trials,frac_test = 0.1)\n",
    "Train_X_full = cond.trials\n",
    "folds = ilep.K_fold_strat(sessionfile,Train_X_full,10)\n",
    "\n",
    "for K, (Train_X, Test_X) in enumerate(folds):\n",
    "    print(str(K) + ': ' + str(len(Train_X)) + ' ' + str(len(Test_X)))"
   ]
  },
  {
   "cell_type": "markdown",
   "id": "bab71989-a2e0-4f8f-a241-32d9e7c26a2f",
   "metadata": {},
   "source": [
    "# Plot ISI Likelihoods"
   ]
  },
  {
   "cell_type": "code",
   "execution_count": 115,
   "id": "0ee4e516-481e-4d79-9be6-45427696955a",
   "metadata": {},
   "outputs": [
    {
     "name": "stderr",
     "output_type": "stream",
     "text": [
      "100%|██████████| 1/1 [00:10<00:00, 10.30s/it]\n"
     ]
    },
    {
     "data": {
      "image/png": "[encoded data removed]",
      "text/plain": [
       "<Figure size 750x450 with 1 Axes>"
      ]
     },
     "metadata": {
      "needs_background": "light"
     },
     "output_type": "display_data"
    }
   ],
   "source": [
    "numclusts = 1\n",
    "clustsToUse = sessionfile.clusters.good\n",
    "clustsToUse = clustsToUse[0:min(numclusts,len(clustsToUse))]\n",
    "\n",
    "for clust in tqdm(clustsToUse):\n",
    "    best_bw = ilep.sklearn_grid_search_bw(sessionfile,clust)\n",
    "    \n",
    "    xmin = -1\n",
    "    xmax = 5\n",
    "    xrange = np.linspace(xmin,xmax,num=1000)\n",
    "    \n",
    "    \n",
    "    folds = ilep.K_fold_strat(sessionfile,sessionfile.trim[clust].trimmed_trials,10)\n",
    "    TargISILibraries = np.zeros((len(xrange),len(folds)))\n",
    "    NontargISILibraries = np.zeros((len(xrange),len(folds)))\n",
    "    for K, (Train_X, Test_X) in enumerate(folds):\n",
    "        \n",
    "        model = ilep.trainDecodingAlgorithm(sessionfile,clust,best_bw,Train_X,['target_tone','nontarget_tone'],control=False)\n",
    "        \n",
    "        TargISILibraries[:,K] = model['target_tone'].Likelihood.evaluate(xrange)\n",
    "        NontargISILibraries[:,K] = model['nontarget_tone'].Likelihood.evaluate(xrange)\n",
    "\n",
    "    TargISILibrariesSTD = np.std(TargISILibraries,axis=1)\n",
    "    TargISILibrariesSEM = sem(TargISILibraries,axis=1)\n",
    "    TargISILibrariesMEAN = np.mean(TargISILibraries,axis=1)\n",
    "    NontargISILibrariesSTD = np.std(NontargISILibraries,axis=1)\n",
    "    NontargISILibrariesSEM = sem(NontargISILibraries,axis=1)\n",
    "    NontargISILibrariesMEAN = np.mean(NontargISILibraries,axis=1)\n",
    "\n",
    "    fig,ax = plt.subplots(figsize=(5,3))\n",
    "    \n",
    "    ax.plot(xrange,TargISILibrariesMEAN,color='blue',zorder=10)\n",
    "    ax.fill_between(xrange,TargISILibrariesMEAN+TargISILibrariesSEM,TargISILibrariesMEAN-TargISILibrariesSEM,color='blue',alpha=0.25,lw=0,zorder=9)\n",
    "    \n",
    "    ax.plot(xrange,NontargISILibrariesMEAN,color='red',zorder=10)\n",
    "    ax.fill_between(xrange,NontargISILibrariesMEAN+NontargISILibrariesSEM,NontargISILibrariesMEAN-NontargISILibrariesSEM,color='red',alpha=0.25,lw=0,zorder=9)\n",
    "    \n",
    "    ax.plot([],[],color='red',label='Target tone')\n",
    "    ax.plot([],[],color='blue',label='Nontarget tone')\n",
    "    ax.legend(frameon=False)\n",
    "\n",
    "    fig.savefig(os.path.join('D:\\\\Figures','Decoding Schematics','ISI Libraries',ilep.generateDateString(sessionfile)+' cluster '+str(clust)))"
   ]
  },
  {
   "cell_type": "markdown",
   "id": "a48c3685-16be-452f-b48c-959e3392dd45",
   "metadata": {},
   "source": [
    "# Plot Weighted LLR"
   ]
  },
  {
   "cell_type": "code",
   "execution_count": 117,
   "id": "5c889b2a-e6b6-4010-918c-cfa93a3a92d1",
   "metadata": {},
   "outputs": [
    {
     "name": "stderr",
     "output_type": "stream",
     "text": [
      "100%|██████████| 1/1 [00:07<00:00,  7.06s/it]\n"
     ]
    },
    {
     "data": {
      "image/png": "[encoded data removed]",
      "text/plain": [
       "<Figure size 750x450 with 1 Axes>"
      ]
     },
     "metadata": {
      "needs_background": "light"
     },
     "output_type": "display_data"
    }
   ],
   "source": [
    "numclusts = 1\n",
    "clustsToUse = sessionfile.clusters.good\n",
    "clustsToUse = clustsToUse[0:min(numclusts,len(clustsToUse))]\n",
    "\n",
    "for clust in tqdm(clustsToUse):\n",
    "    best_bw = ilep.sklearn_grid_search_bw(sessionfile,clust)\n",
    "    bw = best_bw\n",
    "\n",
    "    condition_names = ['all_trials','target_tone','nontarget_tone']\n",
    "    model = ilep.trainDecodingAlgorithm(sessionfile,clust,bw,Train_X,condition_names)\n",
    "\n",
    "    xmin = -1\n",
    "    xmax = 5\n",
    "    xrange = np.linspace(xmin,xmax,num=1000)\n",
    "\n",
    "    target = model['target_tone'].Likelihood.evaluate(xrange)\n",
    "    nontarget = model['nontarget_tone'].Likelihood.evaluate(xrange)\n",
    "    alltrials = model['all_trials'].Likelihood.evaluate(xrange)\n",
    "    \n",
    "    #result = (np.log10(target) - np.log10(nontarget)) / np.log10(alltrials)\n",
    "    #print(np.sort(np.unique(target)))\n",
    "    #ax.plot((target))\n",
    "\n",
    "    result = (np.log10(target) - np.log10(nontarget)) * alltrials\n",
    "    \n",
    "    fig,ax = plt.subplots(figsize=(5,3))\n",
    "    \n",
    "    #Calculate which sections are above/below 0\n",
    "    rs = np.row_stack((result,np.zeros(len(result))))\n",
    "    posres = np.max(rs,axis=0)\n",
    "    negres = np.min(rs,axis=0)\n",
    "    \n",
    "    #ax.fill_between(xrange,posres,color='red',lw=0,alpha=0.125,label='Target tone')\n",
    "    #ax.fill_between(xrange,negres,color='blue',lw=0,alpha=0.125,label='Nontarget tone')\n",
    "    \n",
    "#     for idx in range(len(xrange)-1):\n",
    "#         if result[idx] > 0:\n",
    "#             color = 'red'\n",
    "#         else:\n",
    "#             color = 'blue'\n",
    "#         ax.plot(xrange[idx:idx+2],result[idx:idx+2],color=color,alpha=1,lw=1.5)\n",
    "    \n",
    "    ax.plot(xrange,result,color=GOOD_GREY,alpha=1,lw=1.5)\n",
    "    \n",
    "    try:\n",
    "        fig.savefig(os.path.join('D:\\\\Figures','Decoding Schematics','W LLRs',ilep.generateDateString(sessionfile)+' cluster '+str(clust)))\n",
    "    except:\n",
    "        fig.savefig(os.path.join('D:\\\\Figures','Decoding Schematics','W LLRs',ANIMAL+' cluster '+str(clust)))\n",
    "    pass"
   ]
  },
  {
   "cell_type": "code",
   "execution_count": 7,
   "id": "5c03c722-15de-4136-babd-e3e8e6f502c1",
   "metadata": {},
   "outputs": [],
   "source": [
    "# def CalculatePosterior(prior,posmodel,negmodel,logISI):\n",
    "#     return prior + np.log10(posmodel.Likelihood.evaluate(logISI)) - np.log10(negmodel.Likelihood.evaluate(logISI))"
   ]
  },
  {
   "cell_type": "code",
   "execution_count": 8,
   "id": "071ff479-d173-4e86-bd4e-db21f36d772f",
   "metadata": {},
   "outputs": [
    {
     "name": "stdout",
     "output_type": "stream",
     "text": [
      "correct  : 0\n",
      "incorrect: 0\n"
     ]
    },
    {
     "ename": "ZeroDivisionError",
     "evalue": "division by zero",
     "output_type": "error",
     "traceback": [
      "\u001b[1;31m---------------------------------------------------------------------------\u001b[0m",
      "\u001b[1;31mZeroDivisionError\u001b[0m                         Traceback (most recent call last)",
      "\u001b[1;32m<ipython-input-8-61db984e74f7>\u001b[0m in \u001b[0;36m<module>\u001b[1;34m\u001b[0m\n\u001b[0;32m     53\u001b[0m     \u001b[0mprint\u001b[0m\u001b[1;33m(\u001b[0m\u001b[1;34m'incorrect: '\u001b[0m\u001b[1;33m+\u001b[0m\u001b[0mstr\u001b[0m\u001b[1;33m(\u001b[0m\u001b[0mincorrect_trials\u001b[0m\u001b[1;33m)\u001b[0m\u001b[1;33m)\u001b[0m\u001b[1;33m\u001b[0m\u001b[1;33m\u001b[0m\u001b[0m\n\u001b[0;32m     54\u001b[0m \u001b[1;33m\u001b[0m\u001b[0m\n\u001b[1;32m---> 55\u001b[1;33m     \u001b[0mprint\u001b[0m\u001b[1;33m(\u001b[0m\u001b[1;34m'PC: '\u001b[0m\u001b[1;33m+\u001b[0m\u001b[0mstr\u001b[0m\u001b[1;33m(\u001b[0m\u001b[0maccumulated_correct_predictions\u001b[0m\u001b[1;33m/\u001b[0m\u001b[0maccumulated_total_predictions\u001b[0m\u001b[1;33m)\u001b[0m\u001b[1;33m)\u001b[0m\u001b[1;33m\u001b[0m\u001b[1;33m\u001b[0m\u001b[0m\n\u001b[0m",
      "\u001b[1;31mZeroDivisionError\u001b[0m: division by zero"
     ]
    }
   ],
   "source": [
    "plot=False\n",
    "\n",
    "correct_trials = 0\n",
    "incorrect_trials = 0\n",
    "\n",
    "accumulated_correct_predictions = 0\n",
    "accumulated_total_predictions = 0\n",
    "\n",
    "for clust in sessionfile.clusters.good:\n",
    "    folds = ilep.K_fold_strat(sessionfile,sessionfile.trim[clust].trimmed_trials,10)\n",
    "    for K, (Train_X, Test_X) in enumerate(folds):\n",
    "        best_bw = 0.2\n",
    "        model = ilep.trainDecodingAlgorithm(sessionfile,clust,best_bw,Train_X,['target_tone','nontarget_tone'])\n",
    "        for trial in Test_X:\n",
    "            \n",
    "            prediction,prob,probabilities,times = ilep.predictTrial(sessionfile,clust,model,trial,conditions = ['target_tone','nontarget_tone'])\n",
    "\n",
    "            if(plot):\n",
    "                fig,ax = plt.subplots(figsize=(5,3))\n",
    "                gs = fig.add_gridspec(2,1,height_ratios=[1,5],hspace=0.01)\n",
    "                ax = plt.subplot(gs[1,0])\n",
    "                ax2 = plt.subplot(gs[0,0],sharex=ax)\n",
    "\n",
    "                Tcond = 'target_tone'\n",
    "                NTcond = 'nontarget_tone'\n",
    "                \n",
    "                ax.step(times,probabilities[Tcond].prob,color='red',label='target',where='post')\n",
    "                ax.step(times,probabilities[NTcond].prob,color='blue',label='nontarget',where='post')\n",
    "                ax.set_xticks([0,500,1000,1500,2000,2500])\n",
    "                ax.set_xticklabels(['0','500','1000','1500','2000','2500'])\n",
    "                ax.set_xlabel('Time (ms)')\n",
    "                ax.set_ylabel('Accumulated LL')\n",
    "\n",
    "                ax2.eventplot(times[1:len(times)],color='k')\n",
    "                ax2.spines['bottom'].set_visible(False)\n",
    "                ax2.spines['left'].set_visible(False)\n",
    "                ax2.get_xaxis().set_visible(False)\n",
    "                ax2.get_yaxis().set_visible(False)\n",
    "                ax.legend(frameon=False)\n",
    "\n",
    "                x_axes = ax.get_xlim()\n",
    "                y_axes = ax.get_ylim()\n",
    "                #Fill between\n",
    "                ax.set_xlim(x_axes)\n",
    "                ax.set_ylim(y_axes)\n",
    "            else:\n",
    "                pass\n",
    "                #Calculate accuracy\n",
    "\n",
    "\n",
    "    #Potential discrepancy: correct/incorrect needs to be weighted\n",
    "    print('correct  : '+str(correct_trials))\n",
    "    print('incorrect: '+str(incorrect_trials))\n",
    "\n",
    "    print('PC: '+str(accumulated_correct_predictions/accumulated_total_predictions))"
   ]
  },
  {
   "cell_type": "code",
   "execution_count": null,
   "id": "3a272a31-e357-40a8-b844-8d8def8d57d5",
   "metadata": {},
   "outputs": [],
   "source": []
  },
  {
   "cell_type": "code",
   "execution_count": null,
   "id": "eccdaf59-7850-4208-bc72-4a01358badde",
   "metadata": {},
   "outputs": [],
   "source": []
  },
  {
   "cell_type": "code",
   "execution_count": null,
   "id": "087e1986-7efb-413e-b9ff-09c452398f09",
   "metadata": {},
   "outputs": [],
   "source": []
  },
  {
   "cell_type": "code",
   "execution_count": null,
   "id": "8e0b7542-5efb-45a2-8732-42591c898334",
   "metadata": {},
   "outputs": [],
   "source": []
  },
  {
   "cell_type": "code",
   "execution_count": null,
   "id": "4e30ff99-c098-4141-96cc-f8d06f72fc58",
   "metadata": {},
   "outputs": [],
   "source": []
  },
  {
   "cell_type": "code",
   "execution_count": null,
   "id": "23c40195-6e5e-47f7-9954-9972fb5b4784",
   "metadata": {},
   "outputs": [],
   "source": []
  },
  {
   "cell_type": "markdown",
   "id": "b62791f7-af6e-48a3-8832-091ed008b358",
   "metadata": {},
   "source": [
    "# Run Calculation on Rat Data"
   ]
  },
  {
   "cell_type": "code",
   "execution_count": 5,
   "id": "03b0789a-bff8-4c99-9b57-8264a61465ef",
   "metadata": {},
   "outputs": [],
   "source": [
    "categories = 'stimulus'\n",
    "reps = 1000"
   ]
  },
  {
   "cell_type": "code",
   "execution_count": 6,
   "id": "a5aefe1a-b694-41a8-95b6-8f81d2324fe6",
   "metadata": {},
   "outputs": [
    {
     "ename": "KeyboardInterrupt",
     "evalue": "",
     "output_type": "error",
     "traceback": [
      "\u001b[1;31m---------------------------------------------------------------------------\u001b[0m",
      "\u001b[1;31mKeyboardInterrupt\u001b[0m                         Traceback (most recent call last)",
      "\u001b[1;32m<ipython-input-6-e294a567ec4e>\u001b[0m in \u001b[0;36m<module>\u001b[1;34m\u001b[0m\n\u001b[0;32m     18\u001b[0m \u001b[1;32mfor\u001b[0m \u001b[0mANIMAL\u001b[0m \u001b[1;32min\u001b[0m \u001b[0mANIMALS_LIST\u001b[0m\u001b[1;33m:\u001b[0m\u001b[1;33m\u001b[0m\u001b[1;33m\u001b[0m\u001b[0m\n\u001b[0;32m     19\u001b[0m     \u001b[1;32mtry\u001b[0m\u001b[1;33m:\u001b[0m\u001b[1;33m\u001b[0m\u001b[1;33m\u001b[0m\u001b[0m\n\u001b[1;32m---> 20\u001b[1;33m         \u001b[0msessionfile\u001b[0m \u001b[1;33m=\u001b[0m \u001b[0mload_session_h5py\u001b[0m\u001b[1;33m(\u001b[0m\u001b[0mANIMAL\u001b[0m\u001b[1;33m)\u001b[0m\u001b[1;33m\u001b[0m\u001b[1;33m\u001b[0m\u001b[0m\n\u001b[0m\u001b[0;32m     21\u001b[0m         \u001b[1;32mfor\u001b[0m \u001b[0mclust\u001b[0m \u001b[1;32min\u001b[0m \u001b[0msessionfile\u001b[0m\u001b[1;33m.\u001b[0m\u001b[0mclusters\u001b[0m\u001b[1;33m.\u001b[0m\u001b[0mgood\u001b[0m\u001b[1;33m:\u001b[0m\u001b[1;33m\u001b[0m\u001b[1;33m\u001b[0m\u001b[0m\n\u001b[0;32m     22\u001b[0m             \u001b[0mEnumANIMAL\u001b[0m\u001b[1;33m.\u001b[0m\u001b[0mappend\u001b[0m\u001b[1;33m(\u001b[0m\u001b[0mANIMAL\u001b[0m\u001b[1;33m)\u001b[0m\u001b[1;33m\u001b[0m\u001b[1;33m\u001b[0m\u001b[0m\n",
      "\u001b[1;32m<ipython-input-2-6d48f449a081>\u001b[0m in \u001b[0;36mload_session_h5py\u001b[1;34m(ANIMAL)\u001b[0m\n\u001b[0;32m    169\u001b[0m         \u001b[0mspikes\u001b[0m \u001b[1;33m*=\u001b[0m \u001b[0msessionfile\u001b[0m\u001b[1;33m.\u001b[0m\u001b[0mmeta\u001b[0m\u001b[1;33m.\u001b[0m\u001b[0mfs\u001b[0m\u001b[1;33m\u001b[0m\u001b[1;33m\u001b[0m\u001b[0m\n\u001b[0;32m    170\u001b[0m         \u001b[0mclusters\u001b[0m \u001b[1;33m=\u001b[0m \u001b[0mnp\u001b[0m\u001b[1;33m.\u001b[0m\u001b[0mfull_like\u001b[0m\u001b[1;33m(\u001b[0m\u001b[0mspikes\u001b[0m\u001b[1;33m,\u001b[0m\u001b[0mclust\u001b[0m\u001b[1;33m)\u001b[0m\u001b[1;33m\u001b[0m\u001b[1;33m\u001b[0m\u001b[0m\n\u001b[1;32m--> 171\u001b[1;33m         \u001b[0msessionfile\u001b[0m\u001b[1;33m.\u001b[0m\u001b[0mspikes\u001b[0m\u001b[1;33m.\u001b[0m\u001b[0mtimes\u001b[0m \u001b[1;33m=\u001b[0m \u001b[0mnp\u001b[0m\u001b[1;33m.\u001b[0m\u001b[0mconcatenate\u001b[0m\u001b[1;33m(\u001b[0m\u001b[1;33m(\u001b[0m\u001b[0msessionfile\u001b[0m\u001b[1;33m.\u001b[0m\u001b[0mspikes\u001b[0m\u001b[1;33m.\u001b[0m\u001b[0mtimes\u001b[0m\u001b[1;33m,\u001b[0m\u001b[0mspikes\u001b[0m\u001b[1;33m)\u001b[0m\u001b[1;33m)\u001b[0m\u001b[1;33m\u001b[0m\u001b[1;33m\u001b[0m\u001b[0m\n\u001b[0m\u001b[0;32m    172\u001b[0m         \u001b[0msessionfile\u001b[0m\u001b[1;33m.\u001b[0m\u001b[0mspikes\u001b[0m\u001b[1;33m.\u001b[0m\u001b[0mclusters\u001b[0m \u001b[1;33m=\u001b[0m \u001b[0mnp\u001b[0m\u001b[1;33m.\u001b[0m\u001b[0mconcatenate\u001b[0m\u001b[1;33m(\u001b[0m\u001b[1;33m(\u001b[0m\u001b[0msessionfile\u001b[0m\u001b[1;33m.\u001b[0m\u001b[0mspikes\u001b[0m\u001b[1;33m.\u001b[0m\u001b[0mclusters\u001b[0m\u001b[1;33m,\u001b[0m\u001b[0mclusters\u001b[0m\u001b[1;33m)\u001b[0m\u001b[1;33m)\u001b[0m\u001b[1;33m\u001b[0m\u001b[1;33m\u001b[0m\u001b[0m\n\u001b[0;32m    173\u001b[0m \u001b[1;33m\u001b[0m\u001b[0m\n",
      "\u001b[1;32m<__array_function__ internals>\u001b[0m in \u001b[0;36mconcatenate\u001b[1;34m(*args, **kwargs)\u001b[0m\n",
      "\u001b[1;31mKeyboardInterrupt\u001b[0m: "
     ]
    }
   ],
   "source": [
    "ANIMALS_LIST = [key for key in ANIMALS]\n",
    "\n",
    "sessions = []\n",
    "clusters = []\n",
    "accuracies = []\n",
    "accuracies_std = []\n",
    "accuracies_sem = []\n",
    "waccuracies = []\n",
    "waccuracies_std = []\n",
    "waccuracies_sem = []\n",
    "caccuracies = []\n",
    "caccuracies_std = []\n",
    "caccuracies_sem = []\n",
    "saccuracies = []\n",
    "saccuracies_std = []\n",
    "saccuracies_sem = []\n",
    "pvals_c = []\n",
    "pvals_s = []\n",
    "frac_empty = []\n",
    "\n",
    "EnumANIMAL = []\n",
    "EnumClust = []\n",
    "for ANIMAL in ANIMALS_LIST:\n",
    "    try:\n",
    "        sessionfile = load_session_h5py(ANIMAL)\n",
    "        for clust in sessionfile.clusters.good:\n",
    "            EnumANIMAL.append(ANIMAL)\n",
    "            EnumClust.append(clust)\n",
    "    except Exception as e:\n",
    "        pass\n",
    "\n",
    "for idx in tqdm(range(len(EnumClust))):\n",
    "    ANIMALID = EnumANIMAL[idx]\n",
    "    clust = EnumClust[idx]\n",
    "    \n",
    "    if ANIMAL != ANIMALID:\n",
    "        ANIMAL = ANIMALID\n",
    "        sessionfile = load_session_h5py(ANIMAL)\n",
    "    \n",
    "    try:\n",
    "        a,astd,asem,wa,wastd,wasem,ca,castd,casem,sa,sastd,sasem,pval_c,pval_s,f_e = CalculateClusterAccuracy(sessionfile,clust,reps=reps,categories=categories)\n",
    "        accuracies.append(a)\n",
    "        accuracies_std.append(astd)\n",
    "        accuracies_sem.append(asem)\n",
    "            \n",
    "        waccuracies.append(wa)\n",
    "        waccuracies_std.append(wastd)\n",
    "        waccuracies_sem.append(wasem)\n",
    "            \n",
    "        caccuracies.append(ca)\n",
    "        caccuracies_std.append(castd)\n",
    "        caccuracies_sem.append(casem)\n",
    "        \n",
    "        saccuracies.append(sa)\n",
    "        saccuracies_std.append(sastd)\n",
    "        saccuracies_sem.append(sasem)\n",
    "        \n",
    "        pvals_c.append(pval_c)\n",
    "        pvals_s.append(pval_s)\n",
    "        \n",
    "        frac_empty.append(f_e)\n",
    "        \n",
    "        sessions.append(ANIMAL)\n",
    "        clusters.append(clust)\n",
    "        repetitions.append(reps)\n",
    "    except Exception as e:\n",
    "        #print('failure loading '+ANIMAL)\n",
    "        #raise e\n",
    "        pass\n",
    "        \n",
    "######################## SAVING TO DISK ######################################\n",
    "        \n",
    "data = np.column_stack([sessionIDs,clusters,accuracies,accuracies_std,accuracies_sem,waccuracies,waccuracies_std,waccuracies_sem,caccuracies,caccuracies_std,caccuracies_sem,pvals,repetitions])\n",
    "labels = ['sessions','clusters','accuracies','accuracies_std','accuracies_sem','waccuracies','waccuracies_std','waccuracies_sem','caccuracies','caccuracies_std','caccuracies_sem','pvals','repetitions']\n",
    "df = pd.DataFrame(data=data, columns=labels)\n",
    "print(df)\n",
    "df.to_csv('D:\\\\RatData'+categories+'DecodingCached '+str(datetime.now())+'.csv')"
   ]
  },
  {
   "cell_type": "code",
   "execution_count": 3,
   "id": "a1f29592-24ad-4c6d-9b7a-be6a066ad7f4",
   "metadata": {},
   "outputs": [],
   "source": [
    "categories = 'stimulus'\n",
    "reps = 1000"
   ]
  },
  {
   "cell_type": "code",
   "execution_count": null,
   "id": "2b61059c-ca46-44cb-b36a-b137d5689d0c",
   "metadata": {},
   "outputs": [],
   "source": []
  },
  {
   "cell_type": "code",
   "execution_count": null,
   "id": "3e95bb93-ef79-4a03-961f-53b054b5c4c9",
   "metadata": {},
   "outputs": [],
   "source": []
  },
  {
   "cell_type": "code",
   "execution_count": null,
   "id": "cbd30c4a-cb33-47f9-a773-144eae079d6a",
   "metadata": {},
   "outputs": [],
   "source": []
  },
  {
   "cell_type": "code",
   "execution_count": null,
   "id": "e309b0cf-3b8f-4e4f-870b-b20d8586bcfa",
   "metadata": {},
   "outputs": [],
   "source": []
  },
  {
   "cell_type": "code",
   "execution_count": null,
   "id": "5af352a9-e922-4f7b-928b-6280bff954f1",
   "metadata": {},
   "outputs": [],
   "source": [
    "sessions = os.listdir()"
   ]
  },
  {
   "cell_type": "code",
   "execution_count": null,
   "id": "559d5d63-5d83-457f-8200-a2b26411dd3b",
   "metadata": {},
   "outputs": [],
   "source": []
  },
  {
   "cell_type": "code",
   "execution_count": null,
   "id": "69a3f6e6-7ec7-4b8f-a794-f7f1edad60ac",
   "metadata": {},
   "outputs": [],
   "source": []
  },
  {
   "cell_type": "code",
   "execution_count": null,
   "id": "d3c7e95d-a92d-4a2a-9f23-ee7538cb8041",
   "metadata": {},
   "outputs": [],
   "source": []
  }
 ],
 "metadata": {
  "kernelspec": {
   "display_name": "Python 3",
   "language": "python",
   "name": "python3"
  },
  "language_info": {
   "codemirror_mode": {
    "name": "ipython",
    "version": 3
   },
   "file_extension": ".py",
   "mimetype": "text/x-python",
   "name": "python",
   "nbconvert_exporter": "python",
   "pygments_lexer": "ipython3",
   "version": "3.8.8"
  }
 },
 "nbformat": 4,
 "nbformat_minor": 5
}
