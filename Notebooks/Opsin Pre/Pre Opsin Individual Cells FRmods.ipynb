{
 "cells": [
  {
   "cell_type": "code",
   "execution_count": null,
   "id": "c4882f32-d45a-4a34-99a9-84c9966945e6",
   "metadata": {},
   "outputs": [],
   "source": []
  },
  {
   "cell_type": "code",
   "execution_count": 17,
   "id": "c597f6d1-1cd2-4fa8-9e78-fa86353c1b9a",
   "metadata": {
    "tags": []
   },
   "outputs": [],
   "source": [
    "import sys, os\n",
    "import json, pickle\n",
    "import matplotlib.pyplot as plt\n",
    "import matplotlib as mpl\n",
    "import numpy as np\n",
    "import pandas as pd\n",
    "import time as pytime\n",
    "import statsmodels.tsa.stattools as tsas\n",
    "import ruptures as rpt\n",
    "sys.path.append('../..')\n",
    "import InsanallyLabEphysTools as ilep\n",
    "from scipy.stats import gaussian_kde, sem, ttest_ind, ttest_rel, norm, mannwhitneyu, linregress, wilcoxon\n",
    "from tqdm import tqdm\n",
    "from types import SimpleNamespace\n",
    "from sklearn import linear_model\n",
    "from sklearn.model_selection import KFold\n",
    "import seaborn as sns\n",
    "import traceback\n",
    "from itertools import product\n",
    "from brokenaxes import brokenaxes\n",
    "import pingouin as pg\n",
    "import colorsys\n",
    "\n",
    "plt.rcParams['legend.fontsize'] = 'small'\n",
    "plt.rcParams['axes.labelsize'] = 'medium'\n",
    "plt.rcParams['axes.formatter.limits'] = [-2,3]\n",
    "plt.rcParams['axes.formatter.use_mathtext'] = True\n",
    "plt.rcParams['axes.spines.top'] = False\n",
    "plt.rcParams['axes.spines.right'] = False\n",
    "plt.rcParams['xtick.direction'] = 'in'\n",
    "plt.rcParams['ytick.direction'] = 'in'\n",
    "plt.rcParams['figure.dpi'] = '150'\n",
    "\n",
    "#Set global font parameters\n",
    "plt.rcParams['font.family'] = 'sans-serif'\n",
    "plt.rcParams['font.sans-serif'] = 'Arial'\n",
    "#Set font type to TrueType for compatibility\n",
    "plt.rcParams['pdf.fonttype'] = 42\n",
    "plt.rcParams['ps.fonttype'] = 42\n",
    "\n",
    "TARGET_COLOR = '#ff3654'\n",
    "NONTARGET_COLOR = '#5776ff'\n",
    "\n",
    "CR_COLOR = '#808080'\n",
    "NCR_COLOR = '#FF767C'\n",
    "CNO_COLOR = '#00BFFF'\n",
    "SWITCH_COLOR = '#B07A3B'\n",
    "LASER_COLOR = '#3375E9'\n",
    "GOOD_GREY = '#969696'\n",
    "GOOD_GREEN = '#32A852'\n",
    "NCR_COLOR_DESAT = '#D98C90'\n",
    "CR_COLOR_DESAT = '#A0A0A0'\n",
    "NCR_CR_cmap = mpl.colors.LinearSegmentedColormap.from_list('NCR-CR color map', [NCR_COLOR, CR_COLOR], N=1000)\n",
    "PHASE_COLORS = ['#DEB9E0','#B78AB9','#906D92','#ABC5E8','#869BB7','#5E6C80']#,'#6ded94','#50d979','#36bf5f']\n",
    "\n",
    "dualanimalnames = ['BS_40','BS_41','BS_42','BS_49','BS_50','BS_51','BS_56','BS_59','BS_67','BS_70','BS_72','BS_87','BS_108']\n",
    "danimals = ['DS_15','DS_19','DS_24','DS_27','DS_28']\n",
    "\n",
    "retroanimals = ['PB_86','BS_86','PB_92','BS_92','BS_100','BS_103','BS_111','BS_119','BS_123','BS_128','BS_131','BS_139','BS_163','BS_165']\n",
    "did_learn = ['BS_92','BS_103','BS_111','BS_179']\n",
    "did_not_learn = ['BS_86','BS_100','BS_119','BS_123','BS_128','BS_131','BS_163','BS_174']\n",
    "indeterminate = ['BS_139','BS_165','BS_191','BS_192']\n",
    "\n",
    "\n",
    "#BS_59\n",
    "dualanimalnames = ['BS_40','BS_41','BS_42','BS_49','BS_50','BS_51','BS_56','BS_59','BS_67','BS_70','BS_72','BS_87','BS_108']#,'DS_15','DS_19']\n",
    "opsinanimalnames = ['BS_86','BS_92','BS_100','BS_103','BS_111','BS_119','BS_123','BS_128','BS_131','BS_139','BS_163','BS_165','BS_174','BS_179','BS_191','BS_192']\n",
    "tuninganimalnames = ['BS_173','BS_175','BS_187','BS_188','BS_213','BS_214','TH_217','AE_235','AE_236','TH_237']\n",
    "unuseddualanimals = ['BS_78']\n",
    "danimals = ['DS_15','DS_19','DS_24','DS_27','DS_28','DS_16','DS_17','DS_22','DS_13','DS_23']\n",
    "\n",
    "#act_directory = 'D:\\\\Analysis_Cache_archived_Oct_27_2022'\n",
    "act_directory = '..\\\\..\\\\Data\\\\Analysis_Cache'#'C:\\\\Users\\insan\\\\Desktop\\\\Analysis_Cache_Aug23'\n",
    "ops_directory = '..\\\\..\\\\Data\\\\Opsin_Cache'\n",
    "beh_directory = '..\\\\..\\\\Data\\\\Behavioor'\n",
    "\n",
    "stim25sdecodingfilename = 'D:\\\\stimdecoding_25s.csv'\n",
    "stim25sopsinondecodingfilename = 'D:\\\\stimdecoding_25s_opsin_on.csv'\n",
    "stim25sopsinoffdecodingfilename = 'D:\\\\stimdecoding_25s_opsin_off.csv'\n",
    "\n",
    "current_version = 1 #June 22nd, 2023\n",
    "current_version = 2 #July 11th, 2023\n",
    "current_version = 3 #July 21th, 2023\n",
    "current_version = 4 #July 31th, 2023\n",
    "current_version = 5 #Aug 2nd, 2023\n",
    "current_version = 6 #Aug 12th, 2023\n",
    "current_version = 7 #Nov 6th, 2023\n",
    "\n",
    "stdfont = 14\n",
    "stdyfrac = 0.06"
   ]
  },
  {
   "cell_type": "code",
   "execution_count": 3,
   "id": "deca8bdd-a3b5-43ba-b2f8-fe8266e37311",
   "metadata": {},
   "outputs": [],
   "source": [
    "animals = ['AE_344','AE_346','AE_367']\n",
    "# animals = np.concatenate((dualanimalnames,['DS_15','DS_19']))\n",
    "# animals = ['BS_51','BS_52','BS_56','BS_59','BS_61']"
   ]
  },
  {
   "cell_type": "code",
   "execution_count": 4,
   "id": "bf562dee-40e4-47d3-bc21-01f806a4ada3",
   "metadata": {},
   "outputs": [
    {
     "name": "stdout",
     "output_type": "stream",
     "text": [
      "['AE_344', 'AE_346', 'AE_367']\n"
     ]
    }
   ],
   "source": [
    "print(animals)"
   ]
  },
  {
   "cell_type": "code",
   "execution_count": 5,
   "id": "670b2156-2de9-495f-b7f2-c2c4cfbb8830",
   "metadata": {
    "tags": []
   },
   "outputs": [
    {
     "name": "stdout",
     "output_type": "stream",
     "text": [
      "Fetching files for BS_51\n",
      "Fetching files for BS_52\n",
      "Fetching files for BS_56\n",
      "Fetching files for BS_59\n",
      "Fetching files for BS_61\n",
      "Fetching files for BS_86\n",
      "Fetching files for BS_92\n",
      "Fetching files for BS_100\n",
      "Fetching files for BS_103\n",
      "Fetching files for BS_111\n",
      "Fetching files for BS_119\n",
      "Fetching files for BS_123\n",
      "Fetching files for BS_128\n",
      "Fetching files for BS_131\n",
      "Fetching files for BS_139\n",
      "Fetching files for BS_163\n",
      "Fetching files for BS_165\n",
      "Fetching files for BS_174\n",
      "Fetching files for BS_179\n",
      "Fetching files for BS_191\n",
      "Fetching files for BS_192\n",
      "Fetching files for BS_33\n",
      "Fetching files for BS_67\n",
      "Fetching files for BS_73\n",
      "Fetching files for BS_78\n",
      "Fetching files for BS_108\n",
      "Fetching files for BS_40\n",
      "Fetching files for BS_41\n",
      "Fetching files for BS_42\n",
      "Fetching files for BS_49\n",
      "Fetching files for BS_50\n",
      "Fetching files for BS_70\n",
      "Fetching files for BS_72\n",
      "Fetching files for BS_83\n",
      "Fetching files for BS_85\n",
      "Fetching files for BS_87\n",
      "Fetching files for BS_95\n",
      "Fetching files for BS_113\n",
      "Fetching files for DS_15\n",
      "Fetching files for DS_16\n",
      "Fetching files for DS_17\n",
      "Fetching files for DS_19\n",
      "Fetching files for DS_22\n",
      "Fetching files for DS_23\n",
      "Fetching files for DS_24\n",
      "Fetching files for DS_27\n",
      "Fetching files for DS_28\n",
      "Fetching files for DS_13\n",
      "Fetching files for BS_173\n",
      "Fetching files for BS_175\n",
      "Fetching files for BS_187\n",
      "Fetching files for BS_188\n",
      "Fetching files for BS_213\n",
      "Fetching files for BS_214\n",
      "Fetching files for TH_217\n",
      "Fetching files for AE_235\n",
      "Fetching files for AE_236\n",
      "Fetching files for TH_237\n",
      "Fetching files for AE_252\n",
      "Fetching files for AE_254\n",
      "Fetching files for AE_238\n",
      "Fetching files for AE_239\n",
      "Fetching files for AE_240\n",
      "Fetching files for AE_267\n",
      "Fetching files for AO_273\n",
      "Fetching files for AO_274\n",
      "Fetching files for AE_287\n",
      "Fetching files for AE_301\n",
      "Fetching files for AE_312\n",
      "Fetching files for AE_344\n",
      "Fetching files for AE_346\n",
      "Fetching files for AE_367\n",
      "Fetching files for AE_350\n",
      "Fetching files for AE_351\n",
      "Fetching files for AE_359\n",
      "Fetching files for AE_368\n",
      "Fetching files for AE_369\n",
      "..\\..\\Data\\Behavioor\\BS_61\\behavior\\BS_61_42v2_reversal.txt: No columns to parse from file\n",
      "..\\..\\Data\\Behavioor\\BS_103\\behavior\\BS_103_11v4_opto.txt: No columns to parse from file\n",
      "Error loading ..\\..\\Data\\Behavioor\\BS_123\\behavior\\BS_123_18v1_opto.txt: No columns to parse from file\n",
      "..\\..\\Data\\Behavioor\\BS_123\\behavior\\BS_123_18v1_opto.txt: No columns to parse from file\n",
      "ERROR: MULTIPLE REVERSALS IN ANIMAL BS_179\n",
      "..\\..\\Data\\Behavioor\\BS_191\\behavior\\BS_191_1v2.txt: No columns to parse from file\n",
      "Error loading ..\\..\\Data\\Behavioor\\BS_33\\behavior\\BS_33_9v1.txt: No columns to parse from file\n",
      "..\\..\\Data\\Behavioor\\BS_33\\behavior\\BS_33_9v1.txt: No columns to parse from file\n",
      "..\\..\\Data\\Behavioor\\BS_33\\behavior\\BS_33_20v1_reversal.txt: No columns to parse from file\n",
      "..\\..\\Data\\Behavioor\\BS_49\\behavior\\BS_49_14v4_reversal.txt: No columns to parse from file\n",
      "Error loading ..\\..\\Data\\Behavioor\\BS_87\\behavior\\BS_87_1v1.txt: No columns to parse from file\n",
      "..\\..\\Data\\Behavioor\\BS_87\\behavior\\BS_87_1v1.txt: No columns to parse from file\n",
      "DS_15 session 21 has no response time\n",
      "DS_15 session 22 has no response time\n",
      "DS_15 session 23 has no response time\n",
      "DS_15 session 24 has no response time\n",
      "DS_15 session 25 has no response time\n",
      "DS_15 session 26 has no response time\n",
      "DS_15 session 27 has no response time\n",
      "DS_15 session 29 has no response time\n",
      "DS_16 session 21 has no response time\n",
      "DS_16 session 22 has no response time\n",
      "DS_16 session 23 has no response time\n",
      "DS_16 session 24 has no response time\n",
      "DS_16 session 25 has no response time\n",
      "DS_16 session 26 has no response time\n",
      "DS_16 session 27 has no response time\n",
      "DS_16 session 28 has no response time\n",
      "DS_16 session 29 has no response time\n",
      "DS_16 session 30 has no response time\n",
      "DS_16 session 31 has no response time\n",
      "DS_17 session 13 has no response time\n",
      "DS_17 session 14 has no response time\n",
      "DS_17 session 15 has no response time\n",
      "DS_17 session 16 has no response time\n",
      "DS_17 session 17 has no response time\n",
      "DS_17 session 18 has no response time\n",
      "DS_17 session 19 has no response time\n",
      "DS_17 session 20 has no response time\n",
      "DS_17 session 21 has no response time\n",
      "DS_17 session 22 has no response time\n",
      "DS_17 session 23 has no response time\n",
      "DS_17 session 24 has no response time\n",
      "DS_17 session 25 has no response time\n",
      "DS_17 session 26 has no response time\n",
      "DS_17 session 27 has no response time\n",
      "DS_19 session 11 has no response time\n",
      "DS_19 session 12 has no response time\n",
      "DS_19 session 13 has no response time\n",
      "DS_19 session 14 has no response time\n",
      "DS_19 session 15 has no response time\n",
      "DS_19 session 16 has no response time\n",
      "DS_19 session 17 has no response time\n",
      "DS_19 session 18 has no response time\n",
      "DS_19 session 19 has no response time\n",
      "DS_19 session 20 has no response time\n",
      "DS_19 session 21 has no response time\n",
      "DS_19 session 22 has no response time\n",
      "DS_19 session 23 has no response time\n",
      "DS_19 session 24 has no response time\n",
      "DS_19 session 25 has no response time\n",
      "DS_19 session 26 has no response time\n",
      "DS_19 session 27 has no response time\n",
      "DS_22 session 13 has no response time\n",
      "DS_22 session 14 has no response time\n",
      "DS_22 session 15 has no response time\n",
      "DS_22 session 16 has no response time\n",
      "DS_22 session 17 has no response time\n",
      "DS_23 session 15 has no response time\n",
      "DS_23 session 16 has no response time\n",
      "DS_23 session 17 has no response time\n",
      "DS_23 session 18 has no response time\n",
      "DS_23 session 19 has no response time\n",
      "DS_23 session 20 has no response time\n",
      "DS_23 session 21 has no response time\n",
      "DS_23 session 22 has no response time\n",
      "DS_23 session 23 has no response time\n",
      "DS_23 session 24 has no response time\n",
      "DS_23 session 25 has no response time\n",
      "DS_23 session 26 has no response time\n",
      "DS_23 session 27 has no response time\n",
      "DS_23 session 28 has no response time\n",
      "DS_23 session 32 has no response time\n",
      "DS_23 session 33 has no response time\n",
      "DS_24 session 11 has no response time\n",
      "DS_24 session 12 has no response time\n",
      "DS_24 session 13 has no response time\n",
      "DS_24 session 14 has no response time\n",
      "DS_24 session 15 has no response time\n",
      "DS_24 session 16 has no response time\n",
      "DS_24 session 17 has no response time\n",
      "DS_24 session 18 has no response time\n",
      "DS_24 session 19 has no response time\n",
      "DS_24 session 20 has no response time\n",
      "DS_24 session 21 has no response time\n",
      "DS_24 session 22 has no response time\n",
      "DS_24 session 23 has no response time\n",
      "DS_24 session 24 has no response time\n",
      "DS_24 session 25 has no response time\n",
      "DS_24 session 26 has no response time\n",
      "..\\..\\Data\\Behavioor\\BS_173\\behavior\\BS_173_9v2.txt: No columns to parse from file\n",
      "..\\..\\Data\\Behavioor\\AE_238\\behavior\\AE_238_48v2.txt: No columns to parse from file\n",
      "..\\..\\Data\\Behavioor\\AE_239\\behavior\\AE_239_27v3.txt: No columns to parse from file\n",
      "..\\..\\Data\\Behavioor\\AO_273\\behavior\\AO_273_20v2_reversal.txt: No columns to parse from file\n",
      "..\\..\\Data\\Behavioor\\AE_367\\behavior\\AE_367_8v2_opto.txt: No columns to parse from file\n"
     ]
    }
   ],
   "source": [
    "animalBehaviors = ilep.getAllBehavior(beh_directory)"
   ]
  },
  {
   "cell_type": "code",
   "execution_count": 6,
   "id": "1bbbd6c7-3313-4b91-81f7-18ee4ae57149",
   "metadata": {
    "tags": []
   },
   "outputs": [
    {
     "name": "stderr",
     "output_type": "stream",
     "text": [
      "posx and posy should be finite values\n",
      "posx and posy should be finite values\n",
      "posx and posy should be finite values\n",
      "posx and posy should be finite values\n",
      "posx and posy should be finite values\n",
      "posx and posy should be finite values\n",
      "posx and posy should be finite values\n",
      "posx and posy should be finite values\n",
      "posx and posy should be finite values\n",
      "posx and posy should be finite values\n",
      "posx and posy should be finite values\n",
      "posx and posy should be finite values\n",
      "posx and posy should be finite values\n",
      "posx and posy should be finite values\n",
      "posx and posy should be finite values\n",
      "posx and posy should be finite values\n",
      "posx and posy should be finite values\n",
      "posx and posy should be finite values\n"
     ]
    },
    {
     "data": {
      "image/png": "[encoded data removed]",
      "text/plain": [
       "<Figure size 2250x2250 with 3 Axes>"
      ]
     },
     "metadata": {},
     "output_type": "display_data"
    }
   ],
   "source": [
    "learning_phases,_,_ = ilep.calculateLearningPhasesV2(animals,animalBehaviors,plot=True)\n",
    "#plt.savefig(os.path.join('D:\\\\\\\\TempFigures','All ephys animals learning phases.pdf'),transparent=False,facecolor=\"white\")"
   ]
  },
  {
   "cell_type": "code",
   "execution_count": 21,
   "id": "a6cc307c-8521-4634-a612-1d22976dd770",
   "metadata": {
    "tags": []
   },
   "outputs": [
    {
     "name": "stderr",
     "output_type": "stream",
     "text": [
      "100%|██████████| 194/194 [00:05<00:00, 33.99it/s]\n"
     ]
    }
   ],
   "source": [
    "EnumSession = []\n",
    "EnumClust = []\n",
    "sessions = os.listdir(ops_directory)\n",
    "for session in tqdm(sessions):\n",
    "    sessionfile = ilep.loadSessionCached(ops_directory,session)\n",
    "    \n",
    "    # if sessionfile.meta.task in ['passive no behavior']:\n",
    "    #     continue\n",
    "    # if sessionfile.meta.task in ['tuning nonreversal','tuning switch','tuning reversal']:\n",
    "    #     continue\n",
    "    if sessionfile.meta.region != 'AC':\n",
    "        continue\n",
    "        \n",
    "    if sessionfile.meta.animal not in animals:\n",
    "        continue\n",
    "    \n",
    "    if sessionfile.meta.animal == 'BS_59':\n",
    "        print('A')\n",
    "    \n",
    "#     EnumSession.append(session)    \n",
    "    for clust in sessionfile.clusters.good:\n",
    "        EnumSession.append(session)\n",
    "        EnumClust.append(clust)"
   ]
  },
  {
   "cell_type": "code",
   "execution_count": 22,
   "id": "382a7933-483d-43d2-9219-270b493f664b",
   "metadata": {},
   "outputs": [
    {
     "name": "stderr",
     "output_type": "stream",
     "text": [
      "100%|██████████| 895/895 [01:02<00:00, 14.25it/s]"
     ]
    },
    {
     "name": "stdout",
     "output_type": "stream",
     "text": [
      "errors for: []\n"
     ]
    },
    {
     "name": "stderr",
     "output_type": "stream",
     "text": [
      "\n"
     ]
    }
   ],
   "source": [
    "EILphases = np.full_like(EnumSession,np.nan)\n",
    "error_animals = []\n",
    "\n",
    "for idx,session in enumerate(tqdm(EnumSession)):\n",
    "    sessionfile = ilep.loadSessionCached(ops_directory,session)\n",
    "    \n",
    "    try:\n",
    "        animal = sessionfile.meta.animal\n",
    "        day = sessionfile.meta.day_of_training\n",
    "        \n",
    "        if sessionfile.meta.task in ['switch','opto switch','tuning switch']:\n",
    "            EILphases[idx] = 'switch'\n",
    "\n",
    "        elif sessionfile.meta.task in ['nonreversal','opto nonreversal','tuning nonreversal'] and day in learning_phases[animal].pre_early_days:\n",
    "            EILphases[idx] = 'pre early'\n",
    "        elif sessionfile.meta.task in ['nonreversal','opto nonreversal','tuning nonreversal']  and day in learning_phases[animal].pre_late_days:\n",
    "            EILphases[idx] = 'pre late'\n",
    "        elif sessionfile.meta.task in ['nonreversal','opto nonreversal','tuning nonreversal'] and day in learning_phases[animal].pre_expert_days:\n",
    "            EILphases[idx] = 'pre expert'\n",
    "\n",
    "        elif sessionfile.meta.task in ['reversal','opto reversal','tuning reversal']  and day in learning_phases[animal].post_early_days:\n",
    "            EILphases[idx] = 'post early'\n",
    "        elif sessionfile.meta.task in ['reversal','opto reversal','tuning reversal']  and day in learning_phases[animal].post_late_days:\n",
    "            EILphases[idx] = 'post late'\n",
    "        elif sessionfile.meta.task in ['reversal','opto reversal','tuning reversal']  and day in learning_phases[animal].post_expert_days:\n",
    "            EILphases[idx] = 'post expert'\n",
    "    except Exception as e:\n",
    "        #print(ilep.generateDateString(sessionfile))\n",
    "        error_animals.append(sessionfile.meta.animal)\n",
    "        pass\n",
    "                             \n",
    "error_animals = np.unique(error_animals)\n",
    "print('errors for: '+str(error_animals))"
   ]
  },
  {
   "cell_type": "code",
   "execution_count": null,
   "id": "9ef3b32d-e3fe-4442-a573-a5950491b1a2",
   "metadata": {},
   "outputs": [],
   "source": []
  },
  {
   "cell_type": "code",
   "execution_count": null,
   "id": "f353fc30-54aa-4686-a089-86c3f68688f6",
   "metadata": {},
   "outputs": [],
   "source": []
  },
  {
   "cell_type": "code",
   "execution_count": null,
   "id": "5de5988e-4a31-4e81-83cb-80f7f92251ac",
   "metadata": {},
   "outputs": [],
   "source": []
  },
  {
   "cell_type": "code",
   "execution_count": null,
   "id": "16ae27aa-e0c5-4f27-a6eb-c0cf4c2e3ae5",
   "metadata": {},
   "outputs": [],
   "source": []
  },
  {
   "cell_type": "code",
   "execution_count": 40,
   "id": "b1f36c4d-678a-4f9d-ac57-bc89ad474749",
   "metadata": {
    "tags": []
   },
   "outputs": [
    {
     "name": "stderr",
     "output_type": "stream",
     "text": [
      "895it [01:04, 13.91it/s]\n"
     ]
    }
   ],
   "source": [
    "cellstouseFR = 'all cells'\n",
    "#cellstouseFR = 'task encoders'\n",
    "\n",
    "animals_list = []\n",
    "sessions_list = []\n",
    "cluster_ID_list = []\n",
    "learning_phase_list = []\n",
    "FRmod_list = []\n",
    "\n",
    "for idx,(session,clust) in tqdm(enumerate(zip(EnumSession,EnumClust))):\n",
    "    sessionfile = ilep.loadSessionCached(ops_directory,session)\n",
    "    \n",
    "    #Currently not active as tuning curve animals have not been decoded\n",
    "    if cellstouseFR == 'task encoders':\n",
    "        if not np.isfinite(accuracies[idx]) or pvals[idx] > 0.05 or accuracies[idx] < task_encoder_threshold:\n",
    "            continue\n",
    "    \n",
    "    if EILphases[idx] not in ['pre early','pre late','pre expert','post early','post late','post expert']:\n",
    "        continue\n",
    "\n",
    "    if EILphases[idx] not in ['pre expert','post expert'] and sessionfile.meta.animal in ['DS_15','DS_19']:\n",
    "        continue\n",
    "        \n",
    "    try:\n",
    "        FRmod = sessionfile.responsiveness[clust]['laser_off'].FRmodulation\n",
    "    except Exception as e:\n",
    "        FRmod = np.nan\n",
    "        print(e)\n",
    "\n",
    "    animals_list.append(sessionfile.meta.animal)\n",
    "    sessions_list.append(session)\n",
    "    cluster_ID_list.append(clust)\n",
    "    learning_phase_list.append(EILphases[idx])\n",
    "    FRmod_list.append(FRmod)"
   ]
  },
  {
   "cell_type": "code",
   "execution_count": 41,
   "id": "00a62f9f-90b5-466e-88d6-d1f1ee923c6f",
   "metadata": {},
   "outputs": [],
   "source": [
    "df_dict = dict()\n",
    "df_dict['animal'] = animals_list\n",
    "df_dict['session'] = sessions_list\n",
    "df_dict['cluster ID'] = cluster_ID_list\n",
    "df_dict['learning phase'] = learning_phase_list\n",
    "df_dict['FR modulation'] = FRmod_list\n",
    "df = pd.DataFrame(df_dict)"
   ]
  },
  {
   "cell_type": "code",
   "execution_count": 42,
   "id": "04008c96-d8ce-4553-99c1-b859cfa57032",
   "metadata": {},
   "outputs": [
    {
     "data": {
      "text/html": [
       "<div>\n",
       "<style scoped>\n",
       "    .dataframe tbody tr th:only-of-type {\n",
       "        vertical-align: middle;\n",
       "    }\n",
       "\n",
       "    .dataframe tbody tr th {\n",
       "        vertical-align: top;\n",
       "    }\n",
       "\n",
       "    .dataframe thead th {\n",
       "        text-align: right;\n",
       "    }\n",
       "</style>\n",
       "<table border=\"1\" class=\"dataframe\">\n",
       "  <thead>\n",
       "    <tr style=\"text-align: right;\">\n",
       "      <th></th>\n",
       "      <th>animal</th>\n",
       "      <th>session</th>\n",
       "      <th>cluster ID</th>\n",
       "      <th>learning phase</th>\n",
       "      <th>FR modulation</th>\n",
       "    </tr>\n",
       "  </thead>\n",
       "  <tbody>\n",
       "    <tr>\n",
       "      <th>0</th>\n",
       "      <td>AE_344</td>\n",
       "      <td>AE_344_10_opto_AC.pickle</td>\n",
       "      <td>0</td>\n",
       "      <td>pre late</td>\n",
       "      <td>3.834423</td>\n",
       "    </tr>\n",
       "    <tr>\n",
       "      <th>1</th>\n",
       "      <td>AE_344</td>\n",
       "      <td>AE_344_10_opto_AC.pickle</td>\n",
       "      <td>7</td>\n",
       "      <td>pre late</td>\n",
       "      <td>4.782609</td>\n",
       "    </tr>\n",
       "    <tr>\n",
       "      <th>2</th>\n",
       "      <td>AE_344</td>\n",
       "      <td>AE_344_10_opto_AC.pickle</td>\n",
       "      <td>15</td>\n",
       "      <td>pre late</td>\n",
       "      <td>8.627451</td>\n",
       "    </tr>\n",
       "    <tr>\n",
       "      <th>3</th>\n",
       "      <td>AE_344</td>\n",
       "      <td>AE_344_10_opto_AC.pickle</td>\n",
       "      <td>18</td>\n",
       "      <td>pre late</td>\n",
       "      <td>2.265795</td>\n",
       "    </tr>\n",
       "    <tr>\n",
       "      <th>4</th>\n",
       "      <td>AE_344</td>\n",
       "      <td>AE_344_10_opto_AC.pickle</td>\n",
       "      <td>27</td>\n",
       "      <td>pre late</td>\n",
       "      <td>11.895425</td>\n",
       "    </tr>\n",
       "    <tr>\n",
       "      <th>...</th>\n",
       "      <td>...</td>\n",
       "      <td>...</td>\n",
       "      <td>...</td>\n",
       "      <td>...</td>\n",
       "      <td>...</td>\n",
       "    </tr>\n",
       "    <tr>\n",
       "      <th>890</th>\n",
       "      <td>AE_367</td>\n",
       "      <td>AE_367_9_opto_AC.pickle</td>\n",
       "      <td>49</td>\n",
       "      <td>pre late</td>\n",
       "      <td>2.967742</td>\n",
       "    </tr>\n",
       "    <tr>\n",
       "      <th>891</th>\n",
       "      <td>AE_367</td>\n",
       "      <td>AE_367_9_opto_AC.pickle</td>\n",
       "      <td>50</td>\n",
       "      <td>pre late</td>\n",
       "      <td>0.963855</td>\n",
       "    </tr>\n",
       "    <tr>\n",
       "      <th>892</th>\n",
       "      <td>AE_367</td>\n",
       "      <td>AE_367_9_opto_AC.pickle</td>\n",
       "      <td>55</td>\n",
       "      <td>pre late</td>\n",
       "      <td>2.145594</td>\n",
       "    </tr>\n",
       "    <tr>\n",
       "      <th>893</th>\n",
       "      <td>AE_367</td>\n",
       "      <td>AE_367_9_opto_AC.pickle</td>\n",
       "      <td>56</td>\n",
       "      <td>pre late</td>\n",
       "      <td>2.037037</td>\n",
       "    </tr>\n",
       "    <tr>\n",
       "      <th>894</th>\n",
       "      <td>AE_367</td>\n",
       "      <td>AE_367_9_opto_AC.pickle</td>\n",
       "      <td>57</td>\n",
       "      <td>pre late</td>\n",
       "      <td>5.849462</td>\n",
       "    </tr>\n",
       "  </tbody>\n",
       "</table>\n",
       "<p>895 rows × 5 columns</p>\n",
       "</div>"
      ],
      "text/plain": [
       "     animal                   session  cluster ID learning phase  \\\n",
       "0    AE_344  AE_344_10_opto_AC.pickle           0       pre late   \n",
       "1    AE_344  AE_344_10_opto_AC.pickle           7       pre late   \n",
       "2    AE_344  AE_344_10_opto_AC.pickle          15       pre late   \n",
       "3    AE_344  AE_344_10_opto_AC.pickle          18       pre late   \n",
       "4    AE_344  AE_344_10_opto_AC.pickle          27       pre late   \n",
       "..      ...                       ...         ...            ...   \n",
       "890  AE_367   AE_367_9_opto_AC.pickle          49       pre late   \n",
       "891  AE_367   AE_367_9_opto_AC.pickle          50       pre late   \n",
       "892  AE_367   AE_367_9_opto_AC.pickle          55       pre late   \n",
       "893  AE_367   AE_367_9_opto_AC.pickle          56       pre late   \n",
       "894  AE_367   AE_367_9_opto_AC.pickle          57       pre late   \n",
       "\n",
       "     FR modulation  \n",
       "0         3.834423  \n",
       "1         4.782609  \n",
       "2         8.627451  \n",
       "3         2.265795  \n",
       "4        11.895425  \n",
       "..             ...  \n",
       "890       2.967742  \n",
       "891       0.963855  \n",
       "892       2.145594  \n",
       "893       2.037037  \n",
       "894       5.849462  \n",
       "\n",
       "[895 rows x 5 columns]"
      ]
     },
     "execution_count": 42,
     "metadata": {},
     "output_type": "execute_result"
    }
   ],
   "source": [
    "df"
   ]
  },
  {
   "cell_type": "code",
   "execution_count": 43,
   "id": "430e53f2-31b8-49b2-934c-a0d76f6d388e",
   "metadata": {},
   "outputs": [
    {
     "data": {
      "text/plain": [
       "895"
      ]
     },
     "execution_count": 43,
     "metadata": {},
     "output_type": "execute_result"
    }
   ],
   "source": [
    "np.sum(np.isfinite(df['FR modulation']))"
   ]
  },
  {
   "cell_type": "code",
   "execution_count": null,
   "id": "a020d67e-f87a-43af-a2ba-fcc0f94b34db",
   "metadata": {},
   "outputs": [],
   "source": []
  },
  {
   "cell_type": "code",
   "execution_count": null,
   "id": "02e545cc-3c0c-4722-bca8-cc33297e0716",
   "metadata": {},
   "outputs": [],
   "source": []
  },
  {
   "cell_type": "code",
   "execution_count": null,
   "id": "f7805169-486d-4449-9467-769e77ebe093",
   "metadata": {},
   "outputs": [],
   "source": []
  },
  {
   "cell_type": "code",
   "execution_count": null,
   "id": "e8ff7e9a-4f04-45e6-b5c4-9fac9f80ab6e",
   "metadata": {},
   "outputs": [],
   "source": []
  },
  {
   "cell_type": "code",
   "execution_count": null,
   "id": "a65d3d45-61f4-4a64-9f5a-d01126f1c594",
   "metadata": {},
   "outputs": [],
   "source": []
  },
  {
   "cell_type": "code",
   "execution_count": null,
   "id": "17933a91-0414-48ca-aa99-cf0facb4c849",
   "metadata": {},
   "outputs": [],
   "source": []
  },
  {
   "cell_type": "code",
   "execution_count": null,
   "id": "e7d94b5b-83b9-4a2f-b865-34d51027b2a3",
   "metadata": {},
   "outputs": [],
   "source": []
  },
  {
   "cell_type": "code",
   "execution_count": null,
   "id": "dc70c444-0e9f-414b-86d4-9a8648d0083b",
   "metadata": {},
   "outputs": [],
   "source": []
  },
  {
   "cell_type": "code",
   "execution_count": null,
   "id": "73aee64d-bac0-4fe8-924e-7befeaa0962b",
   "metadata": {},
   "outputs": [],
   "source": []
  },
  {
   "cell_type": "code",
   "execution_count": null,
   "id": "a9e05bf3-8ac9-4281-a739-7c1e1b1b5c71",
   "metadata": {},
   "outputs": [],
   "source": []
  },
  {
   "cell_type": "code",
   "execution_count": 74,
   "id": "4d67378f-da0e-4f11-a605-e89f9dfb1696",
   "metadata": {},
   "outputs": [],
   "source": [
    "FRmod_preearly = []\n",
    "FRmod_prelate = []\n",
    "FRmod_preexpert = []\n",
    "FRmod_postearly = []\n",
    "FRmod_postlate = []\n",
    "FRmod_postexpert = []\n",
    "\n",
    "animal = animals[2]\n",
    "df_subset = df[df['animal']==animal]\n",
    "for row in df_subset.iloc:\n",
    "    if row['learning phase'] == 'pre early':\n",
    "        FRmod_preearly.append(row['FR modulation'])\n",
    "    if row['learning phase'] == 'pre late':\n",
    "        FRmod_prelate.append(row['FR modulation'])\n",
    "    if row['learning phase'] == 'pre expert':\n",
    "        FRmod_preexpert.append(row['FR modulation'])\n",
    "        \n",
    "    # if row['learning phase'] == 'post early':\n",
    "    #     FRmod_postearly.append(row['FR modulation'])\n",
    "    # if row['learning phase'] == 'post late':\n",
    "    #     FRmod_postlate.append(row['FR modulation'])\n",
    "    # if row['learning phase'] == 'post expert':\n",
    "    #     FRmod_postexpert.append(row['FR modulation'])\n",
    "\n",
    "FRmod_preearly = np.array(FRmod_preearly)\n",
    "FRmod_prelate = np.array(FRmod_prelate)\n",
    "FRmod_preexpert = np.array(FRmod_preexpert)\n",
    "FRmod_postearly = np.array(FRmod_postearly)\n",
    "FRmod_postlate = np.array(FRmod_postlate)\n",
    "FRmod_postexpert = np.array(FRmod_postexpert)"
   ]
  },
  {
   "cell_type": "code",
   "execution_count": 75,
   "id": "384a7541-31a6-4694-891b-f8cec1bf94ed",
   "metadata": {},
   "outputs": [
    {
     "data": {
      "text/plain": [
       "28"
      ]
     },
     "execution_count": 75,
     "metadata": {},
     "output_type": "execute_result"
    }
   ],
   "source": [
    "len(FRmod_preearly)"
   ]
  },
  {
   "cell_type": "code",
   "execution_count": 76,
   "id": "db7b060f-094f-49e4-8656-ab52750df6fb",
   "metadata": {},
   "outputs": [
    {
     "data": {
      "text/plain": [
       "118"
      ]
     },
     "execution_count": 76,
     "metadata": {},
     "output_type": "execute_result"
    }
   ],
   "source": [
    "len(FRmod_prelate)"
   ]
  },
  {
   "cell_type": "code",
   "execution_count": 77,
   "id": "d47b949a-a956-4463-a624-a50b1c242efb",
   "metadata": {},
   "outputs": [
    {
     "data": {
      "text/plain": [
       "0"
      ]
     },
     "execution_count": 77,
     "metadata": {},
     "output_type": "execute_result"
    }
   ],
   "source": [
    "len(FRmod_preexpert)"
   ]
  },
  {
   "cell_type": "code",
   "execution_count": null,
   "id": "995f7def-6b90-4430-b233-45cff9b57597",
   "metadata": {},
   "outputs": [],
   "source": []
  },
  {
   "cell_type": "code",
   "execution_count": 78,
   "id": "81b4bdb0-ec56-4479-9e4a-6772c98ca0e0",
   "metadata": {},
   "outputs": [
    {
     "name": "stdout",
     "output_type": "stream",
     "text": [
      "4.947916666666667\n",
      "2.7883771929824555\n"
     ]
    },
    {
     "data": {
      "image/png": "[encoded data removed]",
      "text/plain": [
       "<Figure size 559.125x677.25 with 1 Axes>"
      ]
     },
     "metadata": {},
     "output_type": "display_data"
    }
   ],
   "source": [
    "def add_axis_size(fig, ax_w, ax_h, left, bottom):\n",
    "    fig_w, fig_h = fig.get_size_inches()\n",
    "    ax = fig.add_axes([left/fig_w, bottom/fig_h, ax_w/fig_w, ax_h/fig_h])\n",
    "    return ax\n",
    "\n",
    "def make_axis_size(ax_w, ax_h, left=.3, bottom=.3, right=0, top=0):\n",
    "    fig_w = (ax_w + left + right) * 1.05\n",
    "    fig_h = (ax_h + bottom + top) * 1.05\n",
    "    fig = plt.figure(figsize=(fig_w, fig_h))\n",
    "    ax = add_axis_size(fig, ax_w, ax_h, left, bottom)\n",
    "    return fig, ax\n",
    "\n",
    "fig,ax = make_axis_size(3.25, 4, left=.3, bottom=.3, right=0, top=0)\n",
    "switch_offset = 0.25\n",
    "\n",
    "################################################################################################################\n",
    "\n",
    "size = 20\n",
    "summary_size=150\n",
    "summary_width=1.25#0.75\n",
    "\n",
    "mn = 3.5\n",
    "spread = 2.5\n",
    "# colors = NCR_CR_cmap( (Y-(mn-spread/2))/ (spread) )\n",
    "    \n",
    "###\n",
    "    \n",
    "FRmod_baseline_median = 3.5\n",
    "data = [FRmod_preearly,FRmod_prelate,FRmod_preexpert,FRmod_postearly,FRmod_postlate,FRmod_postexpert]\n",
    "labels = ['Early','Late','Expert','Early','Late','Expert']\n",
    "numCon = len(data)\n",
    "\n",
    "###\n",
    "X = [np.ones(len(l))*idx + polarity*switch_offset for idx,(l,polarity) in enumerate(zip(data,[-1,-1,-1,1,1,1]))]\n",
    "_,Y = ilep.violin(np.concatenate(X),np.concatenate(data),width=0.75,minjitter=0.075)\n",
    "X,_ = ilep.violin(np.concatenate(X),np.log10(np.concatenate(data)),width=0.75,minjitter=0.075)\n",
    "colors = NCR_CR_cmap( (Y-(mn-spread/2))/ (spread) )\n",
    "\n",
    "ax.scatter(X, Y, s=size, ec=colors, fc='white', lw=1,zorder=-10,clip_on=False)\n",
    "ax.set_yscale('log',subs=[])\n",
    "\n",
    "#Plot summary\n",
    "for idx,(column,polarity) in enumerate(zip(data,[-1,-1,-1,1,1,1])):\n",
    "    column = ilep.rmnan(column)\n",
    "    if len(column) == 0:\n",
    "        continue\n",
    "    percentCR = np.nanmean(np.greater(column,FRmod_baseline_median))*100\n",
    "    \n",
    "    eye_color= NCR_CR_cmap((percentCR-40)/20)\n",
    "    border_color = 'k'#NCR_CR_cmap((percentCR-40)/20)  \n",
    "#     r,g,b = mpl.colors.to_rgb(eye_color)\n",
    "#     h,l,s = colorsys.rgb_to_hls(r,g,b)\n",
    "    \n",
    "    Q1, median, Q3 = (np.percentile(column, q) for q in [25, 50, 75])\n",
    "#     median = np.mean(column)\n",
    "#     Q1 = median - sem(column)\n",
    "#     Q1 = median + sem(column)\n",
    "\n",
    "    print(median)\n",
    "    \n",
    "    ax.scatter([idx+polarity*switch_offset], [median], ec=border_color,fc=eye_color, s=summary_size,lw=summary_width, zorder=10)\n",
    "    ax.plot([idx+polarity*switch_offset, idx+polarity*switch_offset], [Q1, Q3], c=border_color, lw=summary_width, zorder=9, solid_capstyle='round')\n",
    "\n",
    "\n",
    "################################################################################################################\n",
    "labels = ['Early','Late','Expert','Early','Late','Expert']\n",
    "\n",
    "ax.set_ylim([0.1,200])\n",
    "ax.set_yticks([0.1,1,10,100])\n",
    "ax.set_yticklabels(['0.1','1','10','100'])\n",
    "ylab = ax.set_ylabel('Firing rate modulation (spikes/s)')\n",
    "\n",
    "ax.set_xlim([-0.75-switch_offset,5.75+switch_offset])\n",
    "ax.set_xticks([0-switch_offset,1-switch_offset,2-switch_offset,3+switch_offset,4+switch_offset,5+switch_offset])\n",
    "ax.set_xticklabels(labels)\n",
    "# xlab = ax.set_xlabel('Example X label')\n",
    "\n",
    "xtick_pos_pre = ax.get_xticks()[1]\n",
    "xtick_pos_post = ax.get_xticks()[4]\n",
    "Yval = ilep.getPrePostLabelYval(ax.get_ylim(),Yfrac=-2*stdyfrac,log=True)\n",
    "t1 = ax.text(xtick_pos_pre, Yval, 'Pre', ha='center', va='bottom', fontsize=stdfont,color='k')\n",
    "t2 = ax.text(xtick_pos_post, Yval, 'Post', ha='center', va='bottom',  fontsize=stdfont,color='k')\n",
    "ax.annotate('', xy=(0.03, -stdyfrac), xycoords='axes fraction', xytext=(0.49, -stdyfrac),arrowprops=dict(arrowstyle='-', color='black'))\n",
    "ax.annotate('', xy=(0.53, -stdyfrac), xycoords='axes fraction', xytext=(0.99, -stdyfrac),arrowprops=dict(arrowstyle='-', color='black'))\n",
    "\n",
    "ax.tick_params(direction='in', length=6, width=1)\n",
    "\n",
    "for item in ([ax.title, ax.xaxis.label, ax.yaxis.label] +\n",
    "    ax.get_xticklabels() + ax.get_yticklabels()):\n",
    "    item.set_fontsize(stdfont)\n",
    "for item in (ax.get_xticklabels()):\n",
    "    item.set_fontsize(stdfont*0.9)\n",
    "    pass\n",
    "\n",
    "Y = np.mean(ax.get_ylim())\n",
    "Y = 10**np.mean(np.log10(ax.get_ylim()))\n",
    "t = ax.text(2.5,Y,'Reversal',rotation=90,fontsize=stdfont,color=SWITCH_COLOR,horizontalalignment='center',verticalalignment='center')\n",
    "ax.plot([2.5]*2,[ax.get_ylim()[0],Y*0.45],lw=1,color=SWITCH_COLOR)\n",
    "ax.plot([2.5]*2,[ax.get_ylim()[1],Y/0.45],lw=1,color=SWITCH_COLOR)\n",
    "\n",
    "ax.fill_between(ax.get_xlim(),[ax.get_ylim()[0]]*2,[ax.get_ylim()[1]*2]*2,color='white',alpha=0.4,zorder=-5,clip_on=False)\n",
    "\n",
    "ttl = ax.set_title(' ')\n",
    "artists = [ylab,t1,t2,ttl]\n",
    "fig.savefig(os.path.join(f'C:\\\\Users\\\\4thgr\\\\Downloads\\\\Figure 3a pre opto {animal}.pdf'),transparent=False,facecolor=\"white\",dpi=400, bbox_extra_artists=(artists), bbox_inches='tight')"
   ]
  },
  {
   "cell_type": "code",
   "execution_count": 79,
   "id": "9a313147-72e7-4c54-a662-3b8e0685ec68",
   "metadata": {},
   "outputs": [
    {
     "data": {
      "text/plain": [
       "MannwhitneyuResult(statistic=1910.0, pvalue=0.20056626250937581)"
      ]
     },
     "execution_count": 79,
     "metadata": {},
     "output_type": "execute_result"
    }
   ],
   "source": [
    "mannwhitneyu(FRmod_preearly,FRmod_prelate)"
   ]
  },
  {
   "cell_type": "code",
   "execution_count": null,
   "id": "a08e6851-755d-4988-b7c0-e63cc0b00efc",
   "metadata": {},
   "outputs": [],
   "source": []
  },
  {
   "cell_type": "code",
   "execution_count": null,
   "id": "e4defb8a-ea8b-4bdc-8e45-a55b56073ae1",
   "metadata": {},
   "outputs": [],
   "source": []
  }
 ],
 "metadata": {
  "kernelspec": {
   "display_name": "Python 3 (ipykernel)",
   "language": "python",
   "name": "python3"
  },
  "language_info": {
   "codemirror_mode": {
    "name": "ipython",
    "version": 3
   },
   "file_extension": ".py",
   "mimetype": "text/x-python",
   "name": "python",
   "nbconvert_exporter": "python",
   "pygments_lexer": "ipython3",
   "version": "3.12.5"
  }
 },
 "nbformat": 4,
 "nbformat_minor": 5
}
