{
 "cells": [
  {
   "cell_type": "markdown",
   "id": "3281d785-a72a-48d2-89b4-a52d7a3a4d90",
   "metadata": {},
   "source": [
    "# Import"
   ]
  },
  {
   "cell_type": "code",
   "execution_count": 55,
   "id": "4aa7f28e-fcc5-4354-9cb0-73979d1dd5cd",
   "metadata": {},
   "outputs": [],
   "source": [
    "import pandas as pd\n",
    "import numpy as np\n",
    "import sys, os\n",
    "sys.path.append('..')\n",
    "import InsanallyLabEphysTools as ilep"
   ]
  },
  {
   "cell_type": "code",
   "execution_count": null,
   "id": "aa6c51f7-188a-414e-8e0b-73def38a0ac0",
   "metadata": {},
   "outputs": [],
   "source": []
  },
  {
   "cell_type": "code",
   "execution_count": null,
   "id": "04336bcb-069a-484b-a300-f37380be4da5",
   "metadata": {},
   "outputs": [],
   "source": []
  },
  {
   "cell_type": "code",
   "execution_count": null,
   "id": "683b3177-35c3-421d-aea8-dcdc7233a8c6",
   "metadata": {},
   "outputs": [],
   "source": []
  },
  {
   "cell_type": "markdown",
   "id": "45b0873b-0487-4676-9ca8-a04b2473ebb6",
   "metadata": {},
   "source": [
    "# Load Backed-up Data"
   ]
  },
  {
   "cell_type": "code",
   "execution_count": 53,
   "id": "eb16ee7e-5b68-483d-bffb-e898fc4adbc7",
   "metadata": {},
   "outputs": [],
   "source": [
    "primary_data_directory = 'P:\\\\Electrophysiology'"
   ]
  },
  {
   "cell_type": "code",
   "execution_count": 58,
   "id": "fd2ab0c4-2dfc-4e91-845c-bd3552984148",
   "metadata": {},
   "outputs": [
    {
     "data": {
      "text/plain": [
       "['.DS_Store',\n",
       " 'AE_229',\n",
       " 'AE_231',\n",
       " 'AE_232',\n",
       " 'AE_235',\n",
       " 'AE_236',\n",
       " 'AE_238',\n",
       " 'AE_239',\n",
       " 'AE_240',\n",
       " 'AE_252',\n",
       " 'AE_254',\n",
       " 'AE_261',\n",
       " 'AE_263',\n",
       " 'AE_265',\n",
       " 'AE_267',\n",
       " 'AE_282',\n",
       " 'AE_287',\n",
       " 'AE_293',\n",
       " 'AE_294',\n",
       " 'AE_300',\n",
       " 'AE_301',\n",
       " 'AE_302',\n",
       " 'AE_312',\n",
       " 'AO_273',\n",
       " 'AO_274',\n",
       " 'AO_276',\n",
       " 'April 6 2023 AC Second Reversal AE_238_2001.ccf',\n",
       " 'April 6 2023 AC Second Reversal AE_238_2001.nev',\n",
       " 'April 6 2023 AC Second Reversal AE_238_2001.ns5',\n",
       " 'April 6 2023 AC Second Reversal AE_238_2001.ns6',\n",
       " 'April 6 2023 AC Second Reversal AE_238_2002.ccf',\n",
       " 'April 6 2023 AC Second Reversal AE_238_2002.nev',\n",
       " 'April 6 2023 AC Second Reversal AE_238_2002.ns5',\n",
       " 'April 6 2023 AC Second Reversal AE_238_2002.ns6',\n",
       " 'April 6 2023 AC Second Reversal AE_238_2003.ccf',\n",
       " 'April 6 2023 AC Second Reversal AE_238_2003.nev',\n",
       " 'April 6 2023 AC Second Reversal AE_238_2003.ns5',\n",
       " 'April 6 2023 AC Second Reversal AE_238_2003.ns6',\n",
       " 'BS_100',\n",
       " 'BS_103',\n",
       " 'BS_107',\n",
       " 'BS_108',\n",
       " 'BS_109',\n",
       " 'BS_111',\n",
       " 'BS_112',\n",
       " 'BS_113',\n",
       " 'BS_116',\n",
       " 'BS_119',\n",
       " 'BS_123',\n",
       " 'BS_128',\n",
       " 'BS_131',\n",
       " 'BS_139',\n",
       " 'BS_152',\n",
       " 'BS_156',\n",
       " 'BS_163',\n",
       " 'BS_164',\n",
       " 'BS_165',\n",
       " 'BS_173',\n",
       " 'BS_174',\n",
       " 'BS_175',\n",
       " 'BS_179',\n",
       " 'BS_187',\n",
       " 'BS_188',\n",
       " 'BS_191',\n",
       " 'BS_192',\n",
       " 'BS_196',\n",
       " 'BS_197',\n",
       " 'BS_213',\n",
       " 'BS_214',\n",
       " 'BS_226',\n",
       " 'BS_33',\n",
       " 'BS_40',\n",
       " 'BS_41',\n",
       " 'BS_42',\n",
       " 'BS_49',\n",
       " 'BS_50',\n",
       " 'BS_51',\n",
       " 'BS_52',\n",
       " 'BS_56',\n",
       " 'BS_59',\n",
       " 'BS_61',\n",
       " 'BS_67',\n",
       " 'BS_70',\n",
       " 'BS_72',\n",
       " 'BS_73',\n",
       " 'BS_78',\n",
       " 'BS_83',\n",
       " 'BS_85',\n",
       " 'BS_86',\n",
       " 'BS_87',\n",
       " 'BS_92',\n",
       " 'BS_95',\n",
       " 'DS_04',\n",
       " 'DS_06',\n",
       " 'DS_07',\n",
       " 'DS_08',\n",
       " 'DS_09',\n",
       " 'DS_10',\n",
       " 'DS_11',\n",
       " 'DS_12',\n",
       " 'DS_13',\n",
       " 'DS_15',\n",
       " 'DS_16',\n",
       " 'DS_17',\n",
       " 'DS_19',\n",
       " 'DS_20',\n",
       " 'DS_22',\n",
       " 'DS_23',\n",
       " 'DS_24',\n",
       " 'DS_26',\n",
       " 'DS_27',\n",
       " 'DS_28',\n",
       " 'DS_30',\n",
       " 'DS_35',\n",
       " 'LA_204',\n",
       " 'LA_205',\n",
       " 'MNI_01',\n",
       " 'MNI_02',\n",
       " 'November 30 2021 Dual BS_70_7001.ccf',\n",
       " 'November 30 2021 Dual BS_70_7001.nev',\n",
       " 'OL_168',\n",
       " 'OL_169',\n",
       " 'OL_197',\n",
       " 'OL_241',\n",
       " 'OL_242',\n",
       " 'OL_246',\n",
       " 'OL_247',\n",
       " 'OL_248',\n",
       " 'PA_38',\n",
       " 'PA_39',\n",
       " 'PA_43',\n",
       " 'PB_112',\n",
       " 'PB_116',\n",
       " 'PB_121',\n",
       " 'PB_122',\n",
       " 'PB_124',\n",
       " 'PB_86',\n",
       " 'PB_92',\n",
       " 'Silicon Probe Recordings',\n",
       " 'SS_55',\n",
       " 'test',\n",
       " 'TEST 1-13-23',\n",
       " 'TH_200',\n",
       " 'TH_201',\n",
       " 'TH_203',\n",
       " 'TH_217',\n",
       " 'TH_230',\n",
       " 'TH_233',\n",
       " 'TH_234',\n",
       " 'TH_237',\n",
       " 'TI_259',\n",
       " 'TI_262']"
      ]
     },
     "execution_count": 58,
     "metadata": {},
     "output_type": "execute_result"
    }
   ],
   "source": [
    "os.listdir(primary_data_directory)"
   ]
  },
  {
   "cell_type": "code",
   "execution_count": null,
   "id": "9bebce6b-bc19-42bc-b887-fb52fa7ff718",
   "metadata": {},
   "outputs": [],
   "source": []
  },
  {
   "cell_type": "code",
   "execution_count": null,
   "id": "ad919eb6-5c24-4403-89cf-6dacf0a26ece",
   "metadata": {},
   "outputs": [],
   "source": []
  },
  {
   "cell_type": "code",
   "execution_count": null,
   "id": "8ebaa34f-a43f-416f-a1a4-66866cce62b2",
   "metadata": {},
   "outputs": [],
   "source": []
  },
  {
   "cell_type": "code",
   "execution_count": null,
   "id": "f173f2c9-5e4c-4cc6-b5ed-f64b8bd81a5c",
   "metadata": {},
   "outputs": [],
   "source": []
  },
  {
   "cell_type": "code",
   "execution_count": null,
   "id": "6cfe38aa-f2af-4022-8eb4-eacc79408dc9",
   "metadata": {},
   "outputs": [],
   "source": []
  },
  {
   "cell_type": "code",
   "execution_count": 51,
   "id": "a19f97f5-e764-456e-80ae-12e5cc1e16cd",
   "metadata": {},
   "outputs": [],
   "source": [
    "filename = 'C:\\\\Users\\insan\\Downloads\\Ephys Lab Notebook - Ephys.csv'"
   ]
  },
  {
   "cell_type": "code",
   "execution_count": 52,
   "id": "2fad395d-635a-4624-aa57-9c5f58f11022",
   "metadata": {},
   "outputs": [],
   "source": [
    "csv = pd.read_csv(filename)\n",
    "rec_files = csv['Filename (note that number corresponds to day of recording)'].values"
   ]
  },
  {
   "cell_type": "code",
   "execution_count": 41,
   "id": "1228a20f-a0c7-4205-abd3-e7f4ed978b49",
   "metadata": {},
   "outputs": [],
   "source": [
    "rec_files = [str(s) for s in rec_files]"
   ]
  },
  {
   "cell_type": "code",
   "execution_count": 45,
   "id": "e8690cc6-e35e-44e7-b557-6ff7e9d158ba",
   "metadata": {},
   "outputs": [],
   "source": [
    "mask = [(r != 'nan') for r in rec_files]\n",
    "rec_files = list(np.array(rec_files)[mask])"
   ]
  },
  {
   "cell_type": "code",
   "execution_count": 48,
   "id": "2f872954-465f-428b-81d3-60ddde9f1cce",
   "metadata": {},
   "outputs": [],
   "source": [
    "rec_files = sorted(rec_files)"
   ]
  },
  {
   "cell_type": "code",
   "execution_count": 50,
   "id": "f8bd19a8-e3bf-4297-8089-c1e197def25f",
   "metadata": {},
   "outputs": [
    {
     "data": {
      "text/plain": [
       "1652"
      ]
     },
     "execution_count": 50,
     "metadata": {},
     "output_type": "execute_result"
    }
   ],
   "source": [
    "len(rec_files)"
   ]
  },
  {
   "cell_type": "code",
   "execution_count": null,
   "id": "c728461d-6907-429b-9288-610dcfb003f6",
   "metadata": {},
   "outputs": [],
   "source": []
  },
  {
   "cell_type": "code",
   "execution_count": null,
   "id": "5ebbdf88-1134-4672-9837-724170f1eeda",
   "metadata": {},
   "outputs": [],
   "source": []
  }
 ],
 "metadata": {
  "kernelspec": {
   "display_name": "Python 3",
   "language": "python",
   "name": "python3"
  },
  "language_info": {
   "codemirror_mode": {
    "name": "ipython",
    "version": 3
   },
   "file_extension": ".py",
   "mimetype": "text/x-python",
   "name": "python",
   "nbconvert_exporter": "python",
   "pygments_lexer": "ipython3",
   "version": "3.8.8"
  }
 },
 "nbformat": 4,
 "nbformat_minor": 5
}
