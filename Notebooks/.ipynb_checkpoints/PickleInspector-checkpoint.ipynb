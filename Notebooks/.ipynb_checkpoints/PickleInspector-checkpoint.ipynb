{
 "cells": [
  {
   "cell_type": "code",
   "execution_count": 1,
   "id": "231af356-f09e-43e0-8587-f4b5311b769d",
   "metadata": {},
   "outputs": [
    {
     "name": "stderr",
     "output_type": "stream",
     "text": [
      "C:\\Users\\insan\\anaconda3\\envs\\EphysPlotting\\lib\\site-packages\\outdated\\utils.py:14: OutdatedPackageWarning: The package pingouin is out of date. Your version is 0.5.2, the latest is 0.5.4.\n",
      "Set the environment variable OUTDATED_IGNORE=1 to disable these warnings.\n",
      "  return warn(\n"
     ]
    }
   ],
   "source": [
    "import sys, os\n",
    "import json, pickle\n",
    "import matplotlib.pyplot as plt\n",
    "import matplotlib as mpl\n",
    "import numpy as np\n",
    "import pandas as pd\n",
    "import time as pytime\n",
    "import statsmodels.tsa.stattools as tsa\n",
    "import ruptures as rpt\n",
    "sys.path.append('..')\n",
    "import InsanallyLabEphysTools as ilep\n",
    "from scipy.stats import gaussian_kde, sem, ttest_ind, ttest_rel, norm, mannwhitneyu, linregress, wilcoxon\n",
    "from tqdm import tqdm\n",
    "from types import SimpleNamespace\n",
    "from sklearn import linear_model\n",
    "from itertools import product\n",
    "import tkinter as tk\n",
    "from tkinter import filedialog\n",
    "\n",
    "from KDEpy import FFTKDE\n",
    "\n",
    "from sklearn.model_selection import GridSearchCV, StratifiedKFold\n",
    "from sklearn.neighbors import KernelDensity\n",
    "\n",
    "plt.rcParams['legend.fontsize'] = 'small'\n",
    "plt.rcParams['axes.labelsize'] = 'medium'\n",
    "plt.rcParams['axes.formatter.limits'] = [-2,3]\n",
    "plt.rcParams['axes.formatter.use_mathtext'] = True\n",
    "plt.rcParams['axes.spines.top'] = False\n",
    "plt.rcParams['axes.spines.right'] = False\n",
    "plt.rcParams['xtick.direction'] = 'in'\n",
    "plt.rcParams['ytick.direction'] = 'in'\n",
    "plt.rcParams['figure.dpi'] = '150'\n",
    "\n",
    "#Set global font parameters\n",
    "plt.rcParams['font.family'] = 'sans-serif'\n",
    "plt.rcParams['font.sans-serif'] = 'Arial'\n",
    "#Set font type to TrueType for compatibility\n",
    "plt.rcParams['pdf.fonttype'] = 42\n",
    "plt.rcParams['ps.fonttype'] = 42\n",
    "\n",
    "CR_COLOR = '#808080'\n",
    "NCR_COLOR = '#FF767C'\n",
    "CNO_COLOR = '#00BFFF'\n",
    "SWITCH_COLOR = '#B07A3B'\n",
    "LASER_COLOR = '#3375E9'\n",
    "GOOD_GREY = '#969696'\n",
    "GOOD_GREEN = '#32A852'\n",
    "NCR_COLOR_DESAT = '#D98C90'\n",
    "CR_COLOR_DESAT = '#A0A0A0'\n",
    "NCR_CR_cmap = mpl.colors.LinearSegmentedColormap.from_list('NCR-CR color map', [NCR_COLOR, CR_COLOR], N=1000)\n",
    "PHASE_COLORS = ['#DEB9E0','#B78AB9','#906D92','#ABC5E8','#869BB7','#5E6C80']#,'#6ded94','#50d979','#36bf5f']\n",
    "\n",
    "act_directory = 'D:\\\\Analysis_Cache'\n",
    "ops_directory = 'D:\\\\Opsin_Cache'\n",
    "\n",
    "stdfont = 14\n",
    "stdyfrac = 0.06"
   ]
  },
  {
   "cell_type": "code",
   "execution_count": null,
   "id": "a11c173b-afe2-4dc5-a779-e37b135eac0b",
   "metadata": {},
   "outputs": [],
   "source": []
  },
  {
   "cell_type": "code",
   "execution_count": null,
   "id": "5cff6d0c-fd1b-4715-b3e8-760377bac03d",
   "metadata": {},
   "outputs": [],
   "source": []
  },
  {
   "cell_type": "code",
   "execution_count": 2,
   "id": "853dd660-19a6-42ad-978d-f0afb74ef37f",
   "metadata": {},
   "outputs": [],
   "source": [
    "root = tk.Tk()\n",
    "root.withdraw()\n",
    "\n",
    "file_path = filedialog.askopenfilename()"
   ]
  },
  {
   "cell_type": "code",
   "execution_count": null,
   "id": "86b85344-b6cb-44d6-8fc8-c1270fd9fa1d",
   "metadata": {},
   "outputs": [],
   "source": []
  },
  {
   "cell_type": "code",
   "execution_count": 3,
   "id": "b406ec3a-20a8-4d92-93b2-5c30977c8102",
   "metadata": {
    "collapsed": true,
    "jupyter": {
     "outputs_hidden": true
    },
    "tags": []
   },
   "outputs": [
    {
     "ename": "ValueError",
     "evalue": "Cannot load file containing pickled data when allow_pickle=False",
     "output_type": "error",
     "traceback": [
      "\u001b[1;31m---------------------------------------------------------------------------\u001b[0m",
      "\u001b[1;31mValueError\u001b[0m                                Traceback (most recent call last)",
      "\u001b[1;32m<ipython-input-3-10fd7007e28e>\u001b[0m in \u001b[0;36m<module>\u001b[1;34m\u001b[0m\n\u001b[1;32m----> 1\u001b[1;33m \u001b[0mfile_contents\u001b[0m \u001b[1;33m=\u001b[0m \u001b[0mnp\u001b[0m\u001b[1;33m.\u001b[0m\u001b[0mload\u001b[0m\u001b[1;33m(\u001b[0m\u001b[0mfile_path\u001b[0m\u001b[1;33m)\u001b[0m\u001b[1;33m\u001b[0m\u001b[1;33m\u001b[0m\u001b[0m\n\u001b[0m",
      "\u001b[1;32m~\\anaconda3\\envs\\EphysPlotting\\lib\\site-packages\\numpy\\lib\\npyio.py\u001b[0m in \u001b[0;36mload\u001b[1;34m(file, mmap_mode, allow_pickle, fix_imports, encoding)\u001b[0m\n\u001b[0;32m    443\u001b[0m             \u001b[1;31m# Try a pickle\u001b[0m\u001b[1;33m\u001b[0m\u001b[1;33m\u001b[0m\u001b[1;33m\u001b[0m\u001b[0m\n\u001b[0;32m    444\u001b[0m             \u001b[1;32mif\u001b[0m \u001b[1;32mnot\u001b[0m \u001b[0mallow_pickle\u001b[0m\u001b[1;33m:\u001b[0m\u001b[1;33m\u001b[0m\u001b[1;33m\u001b[0m\u001b[0m\n\u001b[1;32m--> 445\u001b[1;33m                 raise ValueError(\"Cannot load file containing pickled data \"\n\u001b[0m\u001b[0;32m    446\u001b[0m                                  \"when allow_pickle=False\")\n\u001b[0;32m    447\u001b[0m             \u001b[1;32mtry\u001b[0m\u001b[1;33m:\u001b[0m\u001b[1;33m\u001b[0m\u001b[1;33m\u001b[0m\u001b[0m\n",
      "\u001b[1;31mValueError\u001b[0m: Cannot load file containing pickled data when allow_pickle=False"
     ]
    }
   ],
   "source": [
    "file_contents = np.load(file_path)"
   ]
  },
  {
   "cell_type": "code",
   "execution_count": 3,
   "id": "ed2eef4d-3e83-47af-8280-353e26318b92",
   "metadata": {},
   "outputs": [],
   "source": [
    "with open(file_path, 'rb') as f:\n",
    "    file_contents = pickle.load(f)"
   ]
  },
  {
   "cell_type": "code",
   "execution_count": null,
   "id": "eb6e8181-7939-4f44-b00a-4b2842a6f996",
   "metadata": {},
   "outputs": [],
   "source": []
  },
  {
   "cell_type": "code",
   "execution_count": 4,
   "id": "16c1cdf0-1f15-4d52-8f4e-ca7544171c06",
   "metadata": {},
   "outputs": [
    {
     "data": {
      "text/plain": [
       "'C:/Users/insan/Documents/TempWorkspace/EnumSession.pickle'"
      ]
     },
     "execution_count": 4,
     "metadata": {},
     "output_type": "execute_result"
    }
   ],
   "source": [
    "file_path"
   ]
  },
  {
   "cell_type": "code",
   "execution_count": 8,
   "id": "a5da58be-c4bd-459a-86b2-946fc1746515",
   "metadata": {
    "tags": []
   },
   "outputs": [
    {
     "name": "stdout",
     "output_type": "stream",
     "text": [
      "['AE_267_10_opto_control_AC.pickle' 'AE_267_11_opto_control_AC.pickle'\n",
      " 'AE_267_1_opto_control_AC.pickle' 'AE_267_2_opto_control_AC.pickle'\n",
      " 'AE_267_3_opto_control_AC.pickle' 'AE_267_4_opto_control_AC.pickle'\n",
      " 'AE_267_5_opto_control_AC.pickle' 'AE_267_6_opto_control_AC.pickle'\n",
      " 'AE_267_7_opto_control_AC.pickle' 'AE_287_10_opto_control_AC.pickle'\n",
      " 'AE_287_2_opto_control_AC.pickle' 'AE_287_3_opto_control_AC.pickle'\n",
      " 'AE_287_4_opto_control_AC.pickle' 'AE_287_5_opto_control_AC.pickle'\n",
      " 'AE_287_6_opto_control_AC.pickle' 'AE_287_7_opto_control_AC.pickle'\n",
      " 'AE_287_9_opto_control_AC.pickle' 'AO_273_10_opto_control_AC.pickle'\n",
      " 'AO_273_11_opto_control_AC.pickle' 'AO_273_12_opto_control_AC.pickle'\n",
      " 'AO_273_13_opto_control_AC.pickle' 'AO_273_14_opto_control_AC.pickle'\n",
      " 'AO_273_15_opto_control_AC.pickle' 'AO_273_1_opto_control_AC.pickle'\n",
      " 'AO_273_2_opto_control_AC.pickle' 'AO_273_4_opto_control_AC.pickle'\n",
      " 'AO_273_5_opto_control_AC.pickle' 'AO_273_7_opto_control_AC.pickle'\n",
      " 'AO_273_8_opto_control_AC.pickle' 'AO_273_9_opto_control_AC.pickle'\n",
      " 'AO_274_10_opto_control_AC.pickle' 'AO_274_12_opto_control_AC.pickle'\n",
      " 'AO_274_13_opto_control_AC.pickle' 'AO_274_1_opto_control_AC.pickle'\n",
      " 'AO_274_8_opto_control_AC.pickle' 'AO_274_9_opto_control_AC.pickle'\n",
      " 'BS_103_1_opto_AC.pickle' 'BS_103_2_opto_AC.pickle'\n",
      " 'BS_103_6_opto_AC.pickle' 'BS_103_7_opto_AC.pickle'\n",
      " 'BS_103_9_opto_AC.pickle' 'BS_111_10_opto_AC.pickle'\n",
      " 'BS_111_1_opto_AC.pickle' 'BS_111_5_opto_AC.pickle'\n",
      " 'BS_111_7_opto_AC.pickle' 'BS_111_8_opto_AC.pickle'\n",
      " 'BS_111_9_opto_AC.pickle' 'BS_119_1_opto_AC.pickle'\n",
      " 'BS_119_2_opto_AC.pickle' 'BS_119_6_opto_AC.pickle'\n",
      " 'BS_123_1_opto_AC.pickle' 'BS_123_3_opto_AC.pickle'\n",
      " 'BS_123_5_opto_AC.pickle' 'BS_123_6_opto_AC.pickle'\n",
      " 'BS_123_7_opto_AC.pickle' 'BS_123_8_opto_AC.pickle'\n",
      " 'BS_128_11_opto_AC.pickle' 'BS_128_1_opto_AC.pickle'\n",
      " 'BS_128_2_opto_AC.pickle' 'BS_128_3_opto_AC.pickle'\n",
      " 'BS_128_5_opto_AC.pickle' 'BS_128_6_opto_AC.pickle'\n",
      " 'BS_128_7_opto_AC.pickle' 'BS_131_4_opto_AC.pickle'\n",
      " 'BS_131_8_opto_AC.pickle' 'BS_139_1_opto_AC.pickle'\n",
      " 'BS_139_2_opto_AC.pickle' 'BS_139_4_opto_AC.pickle'\n",
      " 'BS_163_1_opto_AC.pickle' 'BS_163_2_opto_AC.pickle'\n",
      " 'BS_163_3_opto_AC.pickle' 'BS_163_5_opto_AC.pickle'\n",
      " 'BS_165_1_opto_AC.pickle' 'BS_174_1_opto_AC.pickle'\n",
      " 'BS_174_2_opto_AC.pickle' 'BS_174_3_opto_AC.pickle'\n",
      " 'BS_174_5_opto_AC.pickle' 'BS_179_1_opto_AC.pickle'\n",
      " 'BS_179_2_opto_AC.pickle' 'BS_191_1_opto_AC.pickle'\n",
      " 'BS_191_2_opto_AC.pickle' 'BS_191_3_opto_AC.pickle'\n",
      " 'BS_192_1_opto_AC.pickle' 'BS_86_1_opto_AC.pickle'\n",
      " 'BS_86_2_opto_AC.pickle' 'BS_86_3_opto_AC.pickle'\n",
      " 'BS_86_4_opto_AC.pickle' 'BS_86_5_opto_AC.pickle'\n",
      " 'BS_86_6_opto_AC.pickle' 'BS_92_11_opto_AC.pickle'\n",
      " 'BS_92_1_opto_AC.pickle' 'BS_92_3_opto_AC.pickle'\n",
      " 'BS_92_4_opto_AC.pickle' 'BS_92_5_opto_AC.pickle'\n",
      " 'BS_92_9_opto_AC.pickle']\n"
     ]
    }
   ],
   "source": [
    "print(np.unique(file_contents))"
   ]
  },
  {
   "cell_type": "code",
   "execution_count": null,
   "id": "61771ec1-f815-4c2d-9df0-217e5f6df5e4",
   "metadata": {},
   "outputs": [],
   "source": []
  },
  {
   "cell_type": "code",
   "execution_count": null,
   "id": "30a664c7-1002-4408-b783-254008ef1b9b",
   "metadata": {},
   "outputs": [],
   "source": []
  },
  {
   "cell_type": "code",
   "execution_count": null,
   "id": "88ec1231-1743-422c-a9e5-3d93f40c4481",
   "metadata": {},
   "outputs": [],
   "source": []
  }
 ],
 "metadata": {
  "kernelspec": {
   "display_name": "Python 3",
   "language": "python",
   "name": "python3"
  },
  "language_info": {
   "codemirror_mode": {
    "name": "ipython",
    "version": 3
   },
   "file_extension": ".py",
   "mimetype": "text/x-python",
   "name": "python",
   "nbconvert_exporter": "python",
   "pygments_lexer": "ipython3",
   "version": "3.8.8"
  }
 },
 "nbformat": 4,
 "nbformat_minor": 5
}
