{
 "cells": [
  {
   "cell_type": "code",
   "execution_count": 1,
   "id": "bd4575fd-35bb-4117-b824-7096c93a1c0b",
   "metadata": {},
   "outputs": [],
   "source": [
    "import sys, os\n",
    "import json, pickle\n",
    "import matplotlib.pyplot as plt\n",
    "import matplotlib as mpl\n",
    "import numpy as np\n",
    "import pandas as pd\n",
    "import time as pytime\n",
    "import statsmodels.tsa.stattools as tsa\n",
    "import ruptures as rpt\n",
    "sys.path.append('../..')\n",
    "import InsanallyLabEphysTools as ilep\n",
    "from scipy.stats import gaussian_kde, sem, ttest_ind, ttest_rel, norm, mannwhitneyu, linregress, wilcoxon\n",
    "from tqdm import tqdm\n",
    "from types import SimpleNamespace\n",
    "from sklearn import linear_model\n",
    "from sklearn.model_selection import KFold\n",
    "import seaborn as sns\n",
    "import traceback\n",
    "from itertools import product\n",
    "\n",
    "plt.rcParams['legend.fontsize'] = 'small'\n",
    "plt.rcParams['axes.labelsize'] = 'medium'\n",
    "plt.rcParams['axes.formatter.limits'] = [-2,3]\n",
    "plt.rcParams['axes.formatter.use_mathtext'] = True\n",
    "plt.rcParams['axes.spines.top'] = False\n",
    "plt.rcParams['axes.spines.right'] = False\n",
    "plt.rcParams['xtick.direction'] = 'in'\n",
    "plt.rcParams['ytick.direction'] = 'in'\n",
    "plt.rcParams['figure.dpi'] = '150'\n",
    "\n",
    "#Set global font parameters\n",
    "plt.rcParams['font.family'] = 'sans-serif'\n",
    "plt.rcParams['font.sans-serif'] = 'Arial'\n",
    "#Set font type to TrueType for compatibility\n",
    "plt.rcParams['pdf.fonttype'] = 42\n",
    "plt.rcParams['ps.fonttype'] = 42\n",
    "\n",
    "TARGET_COLOR = '#ff3654'\n",
    "NONTARGET_COLOR = '#5776ff'\n",
    "\n",
    "CR_COLOR = '#808080'\n",
    "NCR_COLOR = '#FF767C'\n",
    "CNO_COLOR = '#00BFFF'\n",
    "SWITCH_COLOR = '#B07A3B'\n",
    "LASER_COLOR = '#3375E9'\n",
    "GOOD_GREY = '#969696'\n",
    "GOOD_GREEN = '#32A852'\n",
    "NCR_COLOR_DESAT = '#D98C90'\n",
    "CR_COLOR_DESAT = '#A0A0A0'\n",
    "NCR_CR_cmap = mpl.colors.LinearSegmentedColormap.from_list('NCR-CR color map', [NCR_COLOR, CR_COLOR], N=1000)\n",
    "PHASE_COLORS = ['#DEB9E0','#B78AB9','#906D92','#ABC5E8','#869BB7','#5E6C80']#,'#6ded94','#50d979','#36bf5f']\n",
    "\n",
    "#dualanimalnames = ['BS_40','BS_41','BS_42','BS_49','BS_50','BS_51','BS_56','BS_59','BS_61','BS_67','BS_70','BS_72','BS_87','BS_108','DS_15','DS_19']\n",
    "dualanimalnames = ['BS_40','BS_41','BS_42','BS_49','BS_50','BS_51','BS_56','BS_59','BS_67','BS_70','BS_72','BS_87','BS_108','DS_15','DS_19']\n",
    "\n",
    "#act_directory = 'D:\\\\Analysis_Cache_archived_Oct_27_2022'\n",
    "act_directory = '..\\\\..\\\\Data\\\\Analysis_Cache'\n",
    "ops_directory = '..\\\\..\\\\Data\\\\Opsin_Cache'\n",
    "beh_directory = '..\\\\..\\\\Data\\\\Behavioor'"
   ]
  },
  {
   "cell_type": "code",
   "execution_count": 2,
   "id": "21205ec7-687e-436b-87e9-6be6ac72edb4",
   "metadata": {
    "jupyter": {
     "source_hidden": true
    },
    "tags": []
   },
   "outputs": [],
   "source": [
    "class TrialInterval:\n",
    "    _startTimeSamples = 0\n",
    "    _endTimeSamples = 0\n",
    "    _isStartTimeRelToResponse = True\n",
    "    _isEndTimeRelToResponse = True\n",
    "    _averageLickDelay = 0.2 * 30000\n",
    "\n",
    "    def __init__(self,start,end,startresp,endresp):\n",
    "        self._startTimeSamples = start\n",
    "        self._endTimeSamples = end\n",
    "        self._isStartTimeRelToResponse = startresp\n",
    "        self._isEndTimeRelToResponse = endresp\n",
    "\n",
    "    def _CalculateAvgLickDelay(self,sessionfile):\n",
    "        go_responses = np.array(sessionfile.trials.response)[sessionfile.trials.go]\n",
    "        go_starts = np.array(sessionfile.trials.starts)[sessionfile.trials.go]\n",
    "        self._averageLickDelay = np.nanmean(go_responses - go_starts)\n",
    "\n",
    "    def _ToTimestamp(self,sessionfile,trial):\n",
    "        starttime = sessionfile.trials.starts[trial]\n",
    "        if self._isStartTimeRelToResponse:\n",
    "            starttime = sessionfile.trials.response[trial]\n",
    "            if np.isnan(starttime):\n",
    "                starttime = sessionfile.trials.starts[trial] + self._averageLickDelay\n",
    "        starttime = starttime + self._startTimeSamples\n",
    "\n",
    "        endtime = sessionfile.trials.starts[trial]\n",
    "        if self._isEndTimeRelToResponse:\n",
    "            endtime = sessionfile.trials.response[trial]\n",
    "            if np.isnan(endtime):\n",
    "                endtime = sessionfile.trials.starts[trial] + self._averageLickDelay\n",
    "        endtime = endtime + self._endTimeSamples\n",
    "\n",
    "        return [starttime,endtime]\n",
    "\n",
    "    def _ToString(self):\n",
    "        return f\"Interval has start {self._startTimeSamples}, end {self._startTimeSamples}. startresp {self._isStartTimeRelToResponse} and endresp {self._isEndTimeRelToResponse}\"\n",
    "\n",
    "# def statisticalComparison(sessionfile,clust,preCondition,postCondition):\n",
    "#     preInterval = TrialInterval(0,2.5*sessionfile.meta.fs,False,False)\n",
    "#     postInterval = TrialInterval(0,2.5*sessionfile.meta.fs,False,False)\n",
    "    \n",
    "#     allConditions = ilep.getAllConditions(sessionfile,clust)\n",
    "#     preTrials = allConditions[preCondition].trials\n",
    "#     postTrials = allConditions[postCondition].trials\n",
    "        \n",
    "#     preTrialRates = np.full_like(preTrials,np.nan,dtype='float')\n",
    "#     postTrialRates = np.full_like(postTrials,np.nan,dtype='float')    \n",
    "#     for idx,trial in enumerate(preTrials):\n",
    "#         start,end = preInterval._ToTimestamp(sessionfile,trial)\n",
    "#         spikes = ilep.getSpikeTimes(sessionfile,clust=clust,starttime=start,endtime=end)\n",
    "#         preTrialRates[idx] = len(spikes) / ((end-start)/sessionfile.meta.fs)\n",
    "#     for idx,trial in enumerate(postTrials):\n",
    "#         start,end = postInterval._ToTimestamp(sessionfile,trial)\n",
    "#         spikes = ilep.getSpikeTimes(sessionfile,clust=clust,starttime=start,endtime=end)\n",
    "#         postTrialRates[idx] = len(spikes) / ((end-start)/sessionfile.meta.fs)\n",
    "        \n",
    "#     pvalue_inc = mannwhitneyu(preTrialRates,postTrialRates,alternative='less').pvalue\n",
    "#     pvalue_dec = mannwhitneyu(preTrialRates,postTrialRates,alternative='greater').pvalue\n",
    "#     if pvalue_inc <= 0.05:# and np.median(postTrialRates) > np.median(preTrialRates):\n",
    "#         label = 'increased'\n",
    "#         pvalue = pvalue_inc\n",
    "#     elif pvalue_dec <= 0.05:# and np.median(postTrialRates) < np.median(preTrialRates):\n",
    "#         label = 'decreased'\n",
    "#         pvalue = pvalue_dec\n",
    "#     else:\n",
    "#         label = 'unchanged'\n",
    "#         pvalue = np.min(pvalue_inc,pvalue_dec)\n",
    "#     return label,pvalue\n",
    "\n",
    "def statisticalComparison(sessionfile,clust,preCondition,postCondition,preInterval,postInterval,iterations=5000,sample_percent=0.5,pthresh=0.95,modthresh=0.1):\n",
    "    if pthresh < 0.5:\n",
    "        raise Exception('pthresh cannot be less than 50%!')\n",
    "    \n",
    "    preInterval = TrialInterval(0,2.5*sessionfile.meta.fs,False,False)\n",
    "    postInterval = TrialInterval(0,2.5*sessionfile.meta.fs,False,False)\n",
    "    \n",
    "    allConditions = ilep.getAllConditions(sessionfile,clust)\n",
    "    preTrials = allConditions[preCondition].trials\n",
    "    postTrials = allConditions[postCondition].trials\n",
    "    \n",
    "    if preCondition == postCondition:\n",
    "        paired=True\n",
    "    else:\n",
    "        paired=False\n",
    "    \n",
    "    preTrialRates = np.full_like(preTrials,np.nan,dtype='float')\n",
    "    postTrialRates = np.full_like(postTrials,np.nan,dtype='float')\n",
    "    \n",
    "    for idx,trial in enumerate(preTrials):\n",
    "        start,end = preInterval._ToTimestamp(sessionfile,trial)\n",
    "        spikes = ilep.getSpikeTimes(sessionfile,clust=clust,starttime=start,endtime=end)\n",
    "        preTrialRates[idx] = len(spikes) / ((end-start)/sessionfile.meta.fs)\n",
    "        \n",
    "    for idx,trial in enumerate(postTrials):\n",
    "        start,end = postInterval._ToTimestamp(sessionfile,trial)\n",
    "        spikes = ilep.getSpikeTimes(sessionfile,clust=clust,starttime=start,endtime=end)\n",
    "        postTrialRates[idx] = len(spikes) / ((end-start)/sessionfile.meta.fs)\n",
    "    \n",
    "    increased=0\n",
    "    decreased=0\n",
    "    unchanged=0\n",
    "    \n",
    "    for i in range(iterations):\n",
    "        if paired and len(preTrialRates) != len(preTrialRates):\n",
    "            raise Exception('Non-equal length paired comparison')\n",
    "        if paired:\n",
    "            raise Exception('Paired comparison is not yet implemented')\n",
    "        else:\n",
    "            preIdxs = range(len(preTrialRates))\n",
    "            postIdxs = range(len(postTrialRates))\n",
    "            preIdxs = np.random.permutation(preIdxs)\n",
    "            postIdxs = np.random.permutation(postIdxs)\n",
    "            maxIdx = int(sample_percent*min(len(preIdxs),len(postIdxs)))\n",
    "            preIdxs = preIdxs[range(maxIdx)]\n",
    "            postIdxs = postIdxs[range(maxIdx)]\n",
    "            \n",
    "        preTrialsToCompare = preTrialRates[preIdxs]\n",
    "        postTrialsToCompare = postTrialRates[postIdxs]\n",
    "        \n",
    "        deltaTrialMean = np.mean(postTrialsToCompare - preTrialsToCompare)\n",
    "        \n",
    "        if deltaTrialMean >= modthresh:\n",
    "            increased+=1\n",
    "        elif deltaTrialMean <= -modthresh:\n",
    "            decreased+=1\n",
    "        else:\n",
    "            unchanged+=1\n",
    "            \n",
    "    p_increased = increased / (increased+decreased+unchanged)\n",
    "    p_decreased = decreased / (increased+decreased+unchanged)\n",
    "    p_unchanged = unchanged / (increased+decreased+unchanged)\n",
    "    \n",
    "    print(f\"inc: {p_increased}, dec: {p_decreased}, unch: {p_unchanged}\")\n",
    "    \n",
    "    if p_increased >= pthresh:\n",
    "        label='increased'\n",
    "        pval = 1-p_increased\n",
    "    elif p_decreased >= pthresh:\n",
    "        label='decreased'\n",
    "        pval = 1-p_decreased\n",
    "    elif p_unchanged >= pthresh:\n",
    "        label='unchanged'\n",
    "        pval = 1-p_unchanged\n",
    "    else:\n",
    "        label='inconclusive'\n",
    "        pval=1-np.max([p_increased,p_decreased,p_unchanged])\n",
    "    return label,pval"
   ]
  },
  {
   "cell_type": "code",
   "execution_count": 3,
   "id": "5b7edfdd-fc7e-41c1-b077-039cc8cd45a8",
   "metadata": {
    "jupyter": {
     "source_hidden": true
    },
    "tags": []
   },
   "outputs": [],
   "source": [
    "#this function calculates pval for one cluster(one cell)\n",
    "def calculate_NCR_CR_pval(sessionfile,clust):\n",
    "\n",
    "    #convert window(100ms) in samples\n",
    "    sessionfile.meta.fs #30000 samples / second from blackrock\n",
    "    window = sessionfile.meta.fs * 0.1\n",
    "    trials_to_use = sessionfile.trim[clust].trimmed_trials\n",
    "\n",
    "    #create array for stimulus period\n",
    "    #tone play start time\n",
    "    onset_window_start_time = np.zeros(len(trials_to_use))\n",
    "    for idx, trial in enumerate(trials_to_use):\n",
    "        onset_window_start_time[idx] = sessionfile.trials.starts[trial]\n",
    "\n",
    "    #tone play end time\n",
    "    onset_window_end_time = onset_window_start_time + window\n",
    "    #offset window start time\n",
    "    offset_window_start_time = onset_window_end_time\n",
    "    #offset window end time\n",
    "    offset_window_end_time = offset_window_start_time + window\n",
    "    #stimulus array\n",
    "    stimulus_array = np.zeros([len(onset_window_start_time),2,2])\n",
    "    for i in range(len(onset_window_start_time)):\n",
    "        stimulus_array[i] = [[onset_window_start_time[i],onset_window_end_time[i]],\n",
    "                             [offset_window_start_time[i],offset_window_end_time[i]]\n",
    "                            ]\n",
    "\n",
    "    #create array for baseline period\n",
    "    base_window1_start = onset_window_start_time - 3*window\n",
    "    base_window1_end = onset_window_start_time - 2*window\n",
    "    base_window2_start = base_window1_end\n",
    "    base_window2_end = onset_window_start_time - 1*window\n",
    "    base_window3_start = base_window2_end\n",
    "    base_window3_end = onset_window_start_time\n",
    "\n",
    "    baseline_array = np.zeros([len(base_window1_start),3,2])\n",
    "    for i in range(len(onset_window_start_time)):\n",
    "        baseline_array[i] = [[base_window1_start[i],base_window1_end[i]],\n",
    "                             [base_window2_start[i],base_window2_end[i]],\n",
    "                             [base_window3_start[i],base_window3_end[i]],\n",
    "                            ]\n",
    "\n",
    "    #evaluate spike count within stimulus window\n",
    "    spikecounts_stimuluswindow = np.zeros((len(onset_window_start_time),2))\n",
    "\n",
    "    for idx, t in enumerate(stimulus_array):\n",
    "        #print(t[0][0])\n",
    "\n",
    "        #spike count from onset window\n",
    "        spikecount_onsetwindow = len(ilep.getSpikeTimes(sessionfile,clust=clust,starttime=t[0][0],endtime=t[0][1]))\n",
    "\n",
    "        #spike count from offset window\n",
    "        spikecount_offsetwindow = len(ilep.getSpikeTimes(sessionfile,clust=clust,starttime=t[1][0],endtime=t[1][1]))\n",
    "\n",
    "        spikecounts_stimuluswindow[idx][0]=spikecount_onsetwindow\n",
    "        spikecounts_stimuluswindow[idx][1]=spikecount_offsetwindow\n",
    "\n",
    "    #evaluate spike count within baseline window\n",
    "    spikecounts_basewindow = np.zeros((len(onset_window_start_time),3))\n",
    "\n",
    "    for idx, t in enumerate(baseline_array):\n",
    "        #print(t[0][0])\n",
    "\n",
    "        #spike count from window1\n",
    "        spikecount_base_window1 = len(ilep.getSpikeTimes(sessionfile,clust=clust,starttime=t[0][0],endtime=t[0][1]))\n",
    "\n",
    "        #spike count from window2\n",
    "        spikecount_base_window2 = len(ilep.getSpikeTimes(sessionfile,clust=clust,starttime=t[1][0],endtime=t[1][1]))\n",
    "\n",
    "        #spike count from window3\n",
    "        spikecount_base_window3 = len(ilep.getSpikeTimes(sessionfile,clust=clust,starttime=t[2][0],endtime=t[2][1]))\n",
    "\n",
    "        spikecounts_basewindow[idx][0]=spikecount_base_window1\n",
    "        spikecounts_basewindow[idx][1]=spikecount_base_window2\n",
    "        spikecounts_basewindow[idx][2]=spikecount_base_window3\n",
    "\n",
    "    ###### CODE BELOW HERE SHOULD LOOP 5000 TIMES \n",
    "    iterations = 5000\n",
    "    #spikecounts_diff_mean_arr = []\n",
    "\n",
    "    CR_evok_appear=0\n",
    "    CR_sup_appear=0\n",
    "    NCR_appear=0\n",
    "\n",
    "    for i in range(iterations):\n",
    "\n",
    "        #1.subsampled 90% of the spike count changes from baseline,\n",
    "        #2.calculated the mean of these values, repeated this process 5000 times \n",
    "\n",
    "        #1.\n",
    "        #subsampled 90% trials\n",
    "        trials = range(len(spikecounts_stimuluswindow))\n",
    "        trials_perm = np.random.permutation(trials)\n",
    "        trials_subsamp = trials_perm[range(int(0.9*len(trials_perm)))]\n",
    "\n",
    "        #calculate spike count changes from baseline in the subsample\n",
    "        spikecounts_diff = []\n",
    "        for trial_idx in trials_subsamp:\n",
    "            random_stimulus = spikecounts_stimuluswindow[trial_idx][np.random.randint(2)]\n",
    "            random_base = spikecounts_basewindow[trial_idx][np.random.randint(3)]\n",
    "            spikecounts_diff.append(random_stimulus-random_base)\n",
    "\n",
    "        #2. \n",
    "        #calculate the mean of the spike counts diff  \n",
    "        spikecounts_diff_mean = np.mean(spikecounts_diff)\n",
    "        #calculate the # of appearance in each categotiry in 5000 iterations\n",
    "        if spikecounts_diff_mean > 0.1:\n",
    "            CR_evok_appear+=1\n",
    "        elif spikecounts_diff_mean < -0.1:\n",
    "            CR_sup_appear+=1\n",
    "        else:\n",
    "            NCR_appear+=1\n",
    "            \n",
    "    p_value_evoked = CR_evok_appear/(iterations)\n",
    "    p_value_suppressed = CR_sup_appear/(iterations)\n",
    "    p_value_NCR = NCR_appear/(iterations)\n",
    "    return p_value_evoked, p_value_suppressed, p_value_NCR"
   ]
  },
  {
   "cell_type": "code",
   "execution_count": 4,
   "id": "9dee6f74-1330-4c61-9172-245b2ecfe692",
   "metadata": {
    "tags": []
   },
   "outputs": [],
   "source": [
    "def get_response_times_with_default(sessionfile):\n",
    "    response_times_in_trial = (sessionfile.trials.response-sessionfile.trials.starts)\n",
    "    default_response_time = np.nanmedian(response_times_in_trial)\n",
    "\n",
    "    response_times = sessionfile.trials.response\n",
    "    nogo_trials = np.isnan(response_times)\n",
    "    response_times[nogo_trials] = sessionfile.trials.starts[nogo_trials]+default_response_time\n",
    "    return response_times"
   ]
  },
  {
   "cell_type": "code",
   "execution_count": 5,
   "id": "3a20aa7b-650e-40ae-b5e2-b9c6da84a5a5",
   "metadata": {
    "tags": []
   },
   "outputs": [
    {
     "name": "stdout",
     "output_type": "stream",
     "text": [
      "Fetching files for BS_51\n",
      "Fetching files for BS_52\n",
      "Fetching files for BS_56\n",
      "Fetching files for BS_59\n",
      "Fetching files for BS_61\n",
      "Fetching files for BS_86\n",
      "Fetching files for BS_92\n",
      "Fetching files for BS_100\n",
      "Fetching files for BS_103\n",
      "Fetching files for BS_111\n",
      "Fetching files for BS_119\n",
      "Fetching files for BS_123\n",
      "Fetching files for BS_128\n",
      "Fetching files for BS_131\n",
      "Fetching files for BS_139\n",
      "Fetching files for BS_163\n",
      "Fetching files for BS_165\n",
      "Fetching files for BS_174\n",
      "Fetching files for BS_179\n",
      "Fetching files for BS_191\n",
      "Fetching files for BS_192\n",
      "Fetching files for BS_33\n",
      "Fetching files for BS_67\n",
      "Fetching files for BS_73\n",
      "Fetching files for BS_78\n",
      "Fetching files for BS_108\n",
      "Fetching files for BS_40\n",
      "Fetching files for BS_41\n",
      "Fetching files for BS_42\n",
      "Fetching files for BS_49\n",
      "Fetching files for BS_50\n",
      "Fetching files for BS_70\n",
      "Fetching files for BS_72\n",
      "Fetching files for BS_83\n",
      "Fetching files for BS_85\n",
      "Fetching files for BS_87\n",
      "Fetching files for BS_95\n",
      "Fetching files for BS_113\n",
      "Fetching files for DS_15\n",
      "Fetching files for DS_16\n",
      "Fetching files for DS_17\n",
      "Fetching files for DS_19\n",
      "Fetching files for DS_22\n",
      "Fetching files for DS_23\n",
      "Fetching files for DS_24\n",
      "Fetching files for DS_27\n",
      "Fetching files for DS_28\n",
      "Fetching files for DS_13\n",
      "Fetching files for BS_173\n",
      "Fetching files for BS_175\n",
      "Fetching files for BS_187\n",
      "Fetching files for BS_188\n",
      "Fetching files for BS_213\n",
      "Fetching files for BS_214\n",
      "Fetching files for TH_217\n",
      "Fetching files for AE_235\n",
      "Fetching files for AE_236\n",
      "Fetching files for TH_237\n",
      "Fetching files for AE_252\n",
      "Fetching files for AE_254\n",
      "Fetching files for AE_238\n",
      "Fetching files for AE_239\n",
      "Fetching files for AE_240\n",
      "Fetching files for AE_267\n",
      "Fetching files for AO_273\n",
      "Fetching files for AO_274\n",
      "Fetching files for AE_287\n",
      "Fetching files for AE_301\n",
      "Fetching files for AE_312\n",
      "..\\..\\Data\\Behavioor\\BS_61\\behavior\\BS_61_42v2_reversal.txt: No columns to parse from file\n",
      "..\\..\\Data\\Behavioor\\BS_103\\behavior\\BS_103_11v4_opto.txt: No columns to parse from file\n",
      "Error loading ..\\..\\Data\\Behavioor\\BS_123\\behavior\\BS_123_18v1_opto.txt: No columns to parse from file\n",
      "..\\..\\Data\\Behavioor\\BS_123\\behavior\\BS_123_18v1_opto.txt: No columns to parse from file\n",
      "ERROR: MULTIPLE REVERSALS IN ANIMAL BS_179\n",
      "..\\..\\Data\\Behavioor\\BS_191\\behavior\\BS_191_1v2.txt: No columns to parse from file\n",
      "Error loading ..\\..\\Data\\Behavioor\\BS_33\\behavior\\BS_33_9v1.txt: No columns to parse from file\n",
      "..\\..\\Data\\Behavioor\\BS_33\\behavior\\BS_33_9v1.txt: No columns to parse from file\n",
      "..\\..\\Data\\Behavioor\\BS_33\\behavior\\BS_33_20v1_reversal.txt: No columns to parse from file\n",
      "..\\..\\Data\\Behavioor\\BS_49\\behavior\\BS_49_14v4_reversal.txt: No columns to parse from file\n",
      "Error loading ..\\..\\Data\\Behavioor\\BS_87\\behavior\\BS_87_1v1.txt: No columns to parse from file\n",
      "..\\..\\Data\\Behavioor\\BS_87\\behavior\\BS_87_1v1.txt: No columns to parse from file\n",
      "DS_15 session 21 has no response time\n",
      "DS_15 session 22 has no response time\n",
      "DS_15 session 23 has no response time\n",
      "DS_15 session 24 has no response time\n",
      "DS_15 session 25 has no response time\n",
      "DS_15 session 26 has no response time\n",
      "DS_15 session 27 has no response time\n",
      "DS_15 session 29 has no response time\n",
      "DS_16 session 21 has no response time\n",
      "DS_16 session 22 has no response time\n",
      "DS_16 session 23 has no response time\n",
      "DS_16 session 24 has no response time\n",
      "DS_16 session 25 has no response time\n",
      "DS_16 session 26 has no response time\n",
      "DS_16 session 27 has no response time\n",
      "DS_16 session 28 has no response time\n",
      "DS_16 session 29 has no response time\n",
      "DS_16 session 30 has no response time\n",
      "DS_16 session 31 has no response time\n",
      "DS_17 session 13 has no response time\n",
      "DS_17 session 14 has no response time\n",
      "DS_17 session 15 has no response time\n",
      "DS_17 session 16 has no response time\n",
      "DS_17 session 17 has no response time\n",
      "DS_17 session 18 has no response time\n",
      "DS_17 session 19 has no response time\n",
      "DS_17 session 20 has no response time\n",
      "DS_17 session 21 has no response time\n",
      "DS_17 session 22 has no response time\n",
      "DS_17 session 23 has no response time\n",
      "DS_17 session 24 has no response time\n",
      "DS_17 session 25 has no response time\n",
      "DS_17 session 26 has no response time\n",
      "DS_17 session 27 has no response time\n",
      "DS_19 session 11 has no response time\n",
      "DS_19 session 12 has no response time\n",
      "DS_19 session 13 has no response time\n",
      "DS_19 session 14 has no response time\n",
      "DS_19 session 15 has no response time\n",
      "DS_19 session 16 has no response time\n",
      "DS_19 session 17 has no response time\n",
      "DS_19 session 18 has no response time\n",
      "DS_19 session 19 has no response time\n",
      "DS_19 session 20 has no response time\n",
      "DS_19 session 21 has no response time\n",
      "DS_19 session 22 has no response time\n",
      "DS_19 session 23 has no response time\n",
      "DS_19 session 24 has no response time\n",
      "DS_19 session 25 has no response time\n",
      "DS_19 session 26 has no response time\n",
      "DS_19 session 27 has no response time\n",
      "DS_22 session 13 has no response time\n",
      "DS_22 session 14 has no response time\n",
      "DS_22 session 15 has no response time\n",
      "DS_22 session 16 has no response time\n",
      "DS_22 session 17 has no response time\n",
      "DS_23 session 15 has no response time\n",
      "DS_23 session 16 has no response time\n",
      "DS_23 session 17 has no response time\n",
      "DS_23 session 18 has no response time\n",
      "DS_23 session 19 has no response time\n",
      "DS_23 session 20 has no response time\n",
      "DS_23 session 21 has no response time\n",
      "DS_23 session 22 has no response time\n",
      "DS_23 session 23 has no response time\n",
      "DS_23 session 24 has no response time\n",
      "DS_23 session 25 has no response time\n",
      "DS_23 session 26 has no response time\n",
      "DS_23 session 27 has no response time\n",
      "DS_23 session 28 has no response time\n",
      "DS_23 session 32 has no response time\n",
      "DS_23 session 33 has no response time\n",
      "DS_24 session 11 has no response time\n",
      "DS_24 session 12 has no response time\n",
      "DS_24 session 13 has no response time\n",
      "DS_24 session 14 has no response time\n",
      "DS_24 session 15 has no response time\n",
      "DS_24 session 16 has no response time\n",
      "DS_24 session 17 has no response time\n",
      "DS_24 session 18 has no response time\n",
      "DS_24 session 19 has no response time\n",
      "DS_24 session 20 has no response time\n",
      "DS_24 session 21 has no response time\n",
      "DS_24 session 22 has no response time\n",
      "DS_24 session 23 has no response time\n",
      "DS_24 session 24 has no response time\n",
      "DS_24 session 25 has no response time\n",
      "DS_24 session 26 has no response time\n",
      "..\\..\\Data\\Behavioor\\BS_173\\behavior\\BS_173_9v2.txt: No columns to parse from file\n",
      "..\\..\\Data\\Behavioor\\AE_238\\behavior\\AE_238_48v2.txt: No columns to parse from file\n",
      "..\\..\\Data\\Behavioor\\AE_239\\behavior\\AE_239_27v3.txt: No columns to parse from file\n",
      "..\\..\\Data\\Behavioor\\AO_273\\behavior\\AO_273_20v2_reversal.txt: No columns to parse from file\n"
     ]
    }
   ],
   "source": [
    "animalBehaviors = ilep.getAllBehavior(beh_directory)"
   ]
  },
  {
   "cell_type": "code",
   "execution_count": 6,
   "id": "8596b815-eac6-4091-9ba6-5ffd8c01a820",
   "metadata": {
    "tags": []
   },
   "outputs": [
    {
     "name": "stderr",
     "output_type": "stream",
     "text": [
      "C:\\Users\\4thgr\\Documents\\TothSidleck2024\\Notebooks\\Revisions\\../..\\InsanallyLabEphysTools\\behavior.py:94: RuntimeWarning: invalid value encountered in scalar divide\n",
      "  pc = (hit+creject)/(hit+miss+falarm+creject)\n",
      "posx and posy should be finite values\n",
      "posx and posy should be finite values\n",
      "posx and posy should be finite values\n",
      "posx and posy should be finite values\n",
      "posx and posy should be finite values\n",
      "posx and posy should be finite values\n",
      "posx and posy should be finite values\n",
      "posx and posy should be finite values\n",
      "posx and posy should be finite values\n",
      "posx and posy should be finite values\n",
      "posx and posy should be finite values\n",
      "posx and posy should be finite values\n",
      "posx and posy should be finite values\n",
      "posx and posy should be finite values\n",
      "posx and posy should be finite values\n",
      "posx and posy should be finite values\n",
      "posx and posy should be finite values\n",
      "posx and posy should be finite values\n",
      "posx and posy should be finite values\n",
      "posx and posy should be finite values\n",
      "posx and posy should be finite values\n",
      "posx and posy should be finite values\n",
      "posx and posy should be finite values\n",
      "posx and posy should be finite values\n",
      "posx and posy should be finite values\n",
      "posx and posy should be finite values\n",
      "posx and posy should be finite values\n",
      "posx and posy should be finite values\n",
      "posx and posy should be finite values\n",
      "posx and posy should be finite values\n",
      "posx and posy should be finite values\n",
      "posx and posy should be finite values\n",
      "posx and posy should be finite values\n",
      "posx and posy should be finite values\n",
      "posx and posy should be finite values\n",
      "posx and posy should be finite values\n",
      "posx and posy should be finite values\n",
      "posx and posy should be finite values\n",
      "posx and posy should be finite values\n",
      "posx and posy should be finite values\n",
      "posx and posy should be finite values\n",
      "posx and posy should be finite values\n",
      "posx and posy should be finite values\n",
      "posx and posy should be finite values\n",
      "posx and posy should be finite values\n"
     ]
    },
    {
     "data": {
      "image/png": "[encoded data removed]",
      "text/plain": [
       "<Figure size 2250x2250 with 15 Axes>"
      ]
     },
     "metadata": {},
     "output_type": "display_data"
    }
   ],
   "source": [
    "learning_phases,_,_ = ilep.calculateLearningPhasesV2(dualanimalnames,animalBehaviors,plot=True)"
   ]
  },
  {
   "cell_type": "code",
   "execution_count": 7,
   "id": "ba3c3f49-64c4-4522-aa69-bb2e165b661e",
   "metadata": {},
   "outputs": [
    {
     "name": "stderr",
     "output_type": "stream",
     "text": [
      "100%|██████████| 740/740 [00:41<00:00, 17.66it/s]\n"
     ]
    }
   ],
   "source": [
    "EnumSession = []\n",
    "EnumClust = []\n",
    "sessions = os.listdir(act_directory)\n",
    "for session in tqdm(sessions):\n",
    "    sessionfile = ilep.loadSessionCached(act_directory,session)\n",
    "    \n",
    "    if sessionfile.meta.task == 'passive no behavior':\n",
    "        continue\n",
    "    if sessionfile.meta.task in ['tuning nonreversal','tuning switch','tuning reversal']:\n",
    "        continue\n",
    "    if sessionfile.meta.region != 'AC':\n",
    "        continue\n",
    "    \n",
    "    if sessionfile.meta.animal not in dualanimalnames:\n",
    "        continue\n",
    "    \n",
    "    for clust in sessionfile.clusters.good:\n",
    "        EnumSession.append(session)\n",
    "        EnumClust.append(clust)"
   ]
  },
  {
   "cell_type": "code",
   "execution_count": 8,
   "id": "81d9c49a-2e70-495f-98d5-50efe9e3dc93",
   "metadata": {},
   "outputs": [
    {
     "name": "stderr",
     "output_type": "stream",
     "text": [
      "100%|██████████| 1829/1829 [01:18<00:00, 23.22it/s]"
     ]
    },
    {
     "name": "stdout",
     "output_type": "stream",
     "text": [
      "errors for: []\n"
     ]
    },
    {
     "name": "stderr",
     "output_type": "stream",
     "text": [
      "\n"
     ]
    }
   ],
   "source": [
    "EILphases = np.full_like(EnumSession,np.nan)\n",
    "error_animals = []\n",
    "\n",
    "for idx,session in enumerate(tqdm(EnumSession)):\n",
    "    sessionfile = ilep.loadSessionCached(act_directory,session)\n",
    "    \n",
    "    try:\n",
    "        animal = sessionfile.meta.animal\n",
    "        day = sessionfile.meta.day_of_training\n",
    "        \n",
    "        if sessionfile.meta.task in ['switch','opto switch','tuning switch']:\n",
    "            EILphases[idx] = 'switch'\n",
    "\n",
    "        elif sessionfile.meta.task in ['nonreversal','opto nonreversal','tuning nonreversal'] and day in learning_phases[animal].pre_early_days:\n",
    "            EILphases[idx] = 'pre early'\n",
    "        elif sessionfile.meta.task in ['nonreversal','opto nonreversal','tuning nonreversal']  and day in learning_phases[animal].pre_late_days:\n",
    "            EILphases[idx] = 'pre late'\n",
    "        elif sessionfile.meta.task in ['nonreversal','opto nonreversal','tuning nonreversal'] and day in learning_phases[animal].pre_expert_days:\n",
    "            EILphases[idx] = 'pre expert'\n",
    "\n",
    "        elif sessionfile.meta.task in ['reversal','opto reversal','tuning reversal']  and day in learning_phases[animal].post_early_days:\n",
    "            EILphases[idx] = 'post early'\n",
    "        elif sessionfile.meta.task in ['reversal','opto reversal','tuning reversal']  and day in learning_phases[animal].post_late_days:\n",
    "            EILphases[idx] = 'post late'\n",
    "        elif sessionfile.meta.task in ['reversal','opto reversal','tuning reversal']  and day in learning_phases[animal].post_expert_days:\n",
    "            EILphases[idx] = 'post expert'\n",
    "    except Exception as e:\n",
    "        #print(ilep.generateDateString(sessionfile))\n",
    "        error_animals.append(sessionfile.meta.animal)\n",
    "        pass\n",
    "        raise e\n",
    "                             \n",
    "error_animals = np.unique(error_animals)\n",
    "print('errors for: '+str(error_animals))"
   ]
  },
  {
   "cell_type": "code",
   "execution_count": null,
   "id": "164e08ca-63ed-4cdd-8f44-d5cdd9d2a7ab",
   "metadata": {},
   "outputs": [],
   "source": []
  },
  {
   "cell_type": "code",
   "execution_count": null,
   "id": "df32fea8-3e70-49f8-a01d-c006e3ead3e3",
   "metadata": {},
   "outputs": [],
   "source": []
  },
  {
   "cell_type": "markdown",
   "id": "46919bbd-587e-45e3-aff3-a7bd0e919f03",
   "metadata": {},
   "source": [
    "# Folder Reset"
   ]
  },
  {
   "cell_type": "code",
   "execution_count": 9,
   "id": "e7b045a1-427f-4b6e-80ae-b5a867ccf030",
   "metadata": {},
   "outputs": [],
   "source": [
    "### Reset raster directory\n",
    "os.mkdir(os.path.join('C:\\\\Users\\\\4thgr\\\\Documents\\\\Rasters','GoNogoRastersChoice'))\n",
    "os.mkdir(os.path.join('C:\\\\Users\\\\4thgr\\\\Documents\\\\Rasters','GoNogoRastersChoice','pngs'))\n",
    "os.mkdir(os.path.join('C:\\\\Users\\\\4thgr\\\\Documents\\\\Rasters','GoNogoRastersChoice','pdfs'))\n",
    "for modcat in ['CR','NCR','Middle']:\n",
    "    os.mkdir(os.path.join('C:\\\\Users\\\\4thgr\\\\Documents\\\\Rasters','GoNogoRastersChoice',modcat))\n",
    "    os.mkdir(os.path.join('C:\\\\Users\\\\4thgr\\\\Documents\\\\Rasters','GoNogoRastersChoice',modcat,'pdfs'))\n",
    "    os.mkdir(os.path.join('C:\\\\Users\\\\4thgr\\\\Documents\\\\Rasters','GoNogoRastersChoice',modcat,'pngs'))\n",
    "    for phase in ['pre early','pre late','pre expert','switch','post early','post late','post expert']:\n",
    "        os.mkdir(os.path.join('C:\\\\Users\\\\4thgr\\\\Documents\\\\Rasters','GoNogoRastersChoice',modcat,phase))\n",
    "        os.mkdir(os.path.join('C:\\\\Users\\\\4thgr\\\\Documents\\\\Rasters','GoNogoRastersChoice',modcat,phase,'pdfs'))\n",
    "        os.mkdir(os.path.join('C:\\\\Users\\\\4thgr\\\\Documents\\\\Rasters','GoNogoRastersChoice',modcat,phase,'pngs'))"
   ]
  },
  {
   "cell_type": "code",
   "execution_count": null,
   "id": "3d18ab8a-d29d-4a0e-866a-09e600a24cd4",
   "metadata": {},
   "outputs": [],
   "source": []
  },
  {
   "cell_type": "code",
   "execution_count": null,
   "id": "f5deae80-3f2f-452d-b405-8d2dbee0aa01",
   "metadata": {},
   "outputs": [],
   "source": []
  },
  {
   "cell_type": "code",
   "execution_count": null,
   "id": "8ad3bd90-29d1-41c3-9197-dc8546a21da7",
   "metadata": {},
   "outputs": [],
   "source": []
  },
  {
   "cell_type": "code",
   "execution_count": null,
   "id": "c1788383-9b10-48ad-8385-eb1f6cbba418",
   "metadata": {},
   "outputs": [],
   "source": []
  },
  {
   "cell_type": "code",
   "execution_count": null,
   "id": "5607a0ef-f5bf-468d-b5a9-e3815ded929a",
   "metadata": {},
   "outputs": [],
   "source": []
  },
  {
   "cell_type": "code",
   "execution_count": null,
   "id": "240b5f52-daed-4c82-93ab-da613e3ee33a",
   "metadata": {},
   "outputs": [],
   "source": []
  },
  {
   "cell_type": "code",
   "execution_count": null,
   "id": "66756f70-28f8-4b51-89a5-4885eb949c56",
   "metadata": {},
   "outputs": [],
   "source": []
  },
  {
   "cell_type": "code",
   "execution_count": null,
   "id": "8577ffc8-abf1-42ea-be8b-56ffd1842275",
   "metadata": {},
   "outputs": [],
   "source": []
  },
  {
   "cell_type": "markdown",
   "id": "7adf616b-322d-4294-b43a-7ceccff03fd6",
   "metadata": {},
   "source": [
    "# Plotting Code"
   ]
  },
  {
   "cell_type": "code",
   "execution_count": 23,
   "id": "67d9ca73-2ab8-4526-b221-412c261f68f8",
   "metadata": {
    "tags": []
   },
   "outputs": [],
   "source": [
    "def visualizeClusterChoiceInternal(sessionfile,clust,ax1,ax2,Figure_start_time_ms=-250,Figure_end_time_ms=1000,xtickstouse=[0,500,1000],xticklabelstouse=None,align_to_choice=False,switch_cond='NA',limitToUse=None):\n",
    "    buffer = 250\n",
    "    sort_by_response_latency = False # Not implemented\n",
    "    bw_scott_factor = 3\n",
    "    \n",
    "    if align_to_choice:\n",
    "        mn = 0.8\n",
    "        spread = 0.5\n",
    "    else:\n",
    "        mn = 3.5\n",
    "        spread = 2\n",
    "    \n",
    "    # condition_of_interest = 'ERROR'\n",
    "    # assert (sessionfile.meta.task not in ['switch','opto switch','tuning_switch','second switch']) or (switch_cond != 'NA')\n",
    "    # if align_to_choice:\n",
    "    #     if sessionfile.meta.task in ['switch','opto switch','tuning_switch','second switch']:\n",
    "    #         condition_of_interest = switch_cond+'_go'\n",
    "    #     else:\n",
    "    #         condition_of_interest = 'go'\n",
    "    # else:\n",
    "    #     if sessionfile.meta.task in ['switch','opto switch','tuning_switch','second switch']:\n",
    "    #         condition_of_interest = switch_cond\n",
    "    #     else:\n",
    "    #         condition_of_interest = 'all_trials'\n",
    "    #DISABLED due to separating out go / nogo down below\n",
    "    condition_of_interest = 'all_trials'\n",
    "\n",
    "    response_times = get_response_times_with_default(sessionfile)\n",
    "    response_times = sessionfile.trials.response\n",
    "    ax2.spines['bottom'].set_visible(False)\n",
    "    ax1.spines['left'].set_visible(False)\n",
    "    ax2.tick_params(direction='out')\n",
    "#     ax1.get_yaxis().set_visible(False)\n",
    "\n",
    "    # if align_to_choice:\n",
    "    #     Y = sessionfile.responsiveness[clust][condition_of_interest].FRmodulation_choice\n",
    "    # else:\n",
    "    #     Y = sessionfile.responsiveness[clust][condition_of_interest].FRmodulation\n",
    "    # if np.isnan(Y):\n",
    "    #     color_to_use = 'k'\n",
    "    # else:\n",
    "    #     color_to_use = NCR_CR_cmap( (Y-(mn-spread/2))/ (spread) )\n",
    "\n",
    "    ### Get set of all trials to consider\n",
    "    allConditions = ilep.getAllConditions(sessionfile,clust)\n",
    "    trialsToPlot = allConditions[condition_of_interest].trials\n",
    "    \n",
    "    ### Reorder trials\n",
    "    # Nogo then go\n",
    "    trials_nogo = allConditions['nogo'].trials\n",
    "    trials_go = allConditions['go'].trials\n",
    "    trialsToPlot = np.concatenate((trials_nogo,trials_go))\n",
    "    len_nogo = len(trials_nogo)\n",
    "    len_go = len(trials_go)\n",
    "#     # Just nogo\n",
    "#     trialsToPlot = allConditions['nogo'].trials\n",
    "    ### End trial reordering\n",
    "\n",
    "    print(f\"l is {len_nogo}\")\n",
    "\n",
    "    ### Extract spike times\n",
    "    clustSpikes = ilep.getSpikeTimes(sessionfile,clust=clust)\n",
    "    trialSpikes = []\n",
    "    trialStimTimes = []\n",
    "    trialChoiceTimes = []\n",
    "    for trial in trialsToPlot:\n",
    "\n",
    "        #Need to get spike times for each trail...\n",
    "        if align_to_choice:\n",
    "            starttime = response_times[trial]+(Figure_start_time_ms-buffer)*sessionfile.meta.fs/1000\n",
    "            endtime = response_times[trial]+(Figure_end_time_ms+buffer)*sessionfile.meta.fs/1000\n",
    "        else:\n",
    "            starttime = sessionfile.trials.starts[trial]+(Figure_start_time_ms-buffer)*sessionfile.meta.fs/1000\n",
    "            endtime = sessionfile.trials.starts[trial]+(Figure_end_time_ms+buffer)*sessionfile.meta.fs/1000\n",
    "        \n",
    "        this_trial_spikes = ilep.getSpikeTimes(sessionfile,clust=clust,starttime=starttime,endtime=endtime)\n",
    "        if align_to_choice:\n",
    "            this_trial_spikes = this_trial_spikes - response_times[trial]\n",
    "        else:\n",
    "            this_trial_spikes = this_trial_spikes - sessionfile.trials.starts[trial]\n",
    "        this_trial_spikes = this_trial_spikes * 1000 / sessionfile.meta.fs\n",
    "\n",
    "        trialSpikes.append(this_trial_spikes)\n",
    "        if align_to_choice:\n",
    "            trialStimTimes.append(-(response_times[trial]-sessionfile.trials.starts[trial])/sessionfile.meta.fs*1000)\n",
    "            trialChoiceTimes.append(0)\n",
    "        else:\n",
    "            trialStimTimes.append(0)\n",
    "            trialChoiceTimes.append((response_times[trial]-sessionfile.trials.starts[trial])/sessionfile.meta.fs*1000)\n",
    "    trialSpikes = np.array(trialSpikes,dtype='object')\n",
    "\n",
    "    #Plot Raster\n",
    "    #NOGO\n",
    "    count = 0\n",
    "    for idx,trial in enumerate(trials_nogo):\n",
    "        if count < 15:\n",
    "            X = trialSpikes[idx]\n",
    "            Y = np.ones_like(trialSpikes[idx])*count\n",
    "            mask = np.logical_and( np.greater(X,Figure_start_time_ms) , np.less(X,Figure_end_time_ms) )\n",
    "            if np.sum(mask) > 0:\n",
    "                X = X[mask]\n",
    "                Y = Y[mask]\n",
    "                this_trial_col = 'purple'\n",
    "                ax1.scatter(X,Y,color=this_trial_col,s=9.,marker=2,lw=1.5,zorder=0,clip_on=False)\n",
    "                count += 1\n",
    "    #GO\n",
    "    count = 0\n",
    "    for idx,trial in enumerate(trials_go):\n",
    "        if count < 15:\n",
    "            X = trialSpikes[idx+len_nogo]\n",
    "            Y = np.ones_like(trialSpikes[idx+len_nogo])*(count+15)\n",
    "            mask = np.logical_and( np.greater(X,Figure_start_time_ms) , np.less(X,Figure_end_time_ms) )\n",
    "            if np.sum(mask) > 0:\n",
    "                X = X[mask]\n",
    "                Y = Y[mask]\n",
    "                this_trial_col = 'green'\n",
    "                ax1.scatter(X,Y,color=this_trial_col,s=9.,marker=2,lw=1.5,zorder=0,clip_on=False)\n",
    "                count += 1\n",
    "    \n",
    "    \n",
    "    \n",
    "    ### Plot stimulus times\n",
    "    if align_to_choice:\n",
    "        # X = np.array(trialStimTimes)\n",
    "        # Y = np.array(range(len(trialsToPlot)))\n",
    "        # mask = np.less(Y,15)\n",
    "        # X = X[mask]\n",
    "        # Y = Y[mask]+0.5\n",
    "        # ax1.scatter(X,Y,marker='o',fc='k',ec='k',zorder=1,s=10,lw=2)#,clip_on=False)\n",
    "\n",
    "        X = np.array(trialStimTimes)\n",
    "        Y = np.array(range(len(trialsToPlot)))\n",
    "        mask = np.logical_and(np.greater(Y,len_nogo),np.less(Y,len_nogo+15))\n",
    "        X = X[mask]\n",
    "        Y = Y[mask]+0 - len_nogo + 15\n",
    "        ax1.scatter(X,Y,marker='o',fc='k',ec='k',zorder=1,s=10,lw=2)#,clip_on=False)\n",
    "\n",
    "#     ### Plot response times\n",
    "#     if align_to_choice:\n",
    "#         ax1.scatter(trialChoiceTimes,range(len(trialsToPlot)),marker='o',fc='g',ec='g',zorder=1,s=10,lw=0)\n",
    "\n",
    "#     if EIL == 'switch':\n",
    "#        try:\n",
    "#            switch_point = np.where(np.greater(trialsToPlot,200))[0][0]-0.5\n",
    "#            ax1.axhline(switch_point,linestyle='--',lw=1,zorder=-10,color='k')\n",
    "#        except:\n",
    "#            pass\n",
    "    \n",
    "    #Legend\n",
    "#     ax1.scatter([],[],marker='o',fc='k',ec='k',s=15,label='stimulus')\n",
    "#     ax1.scatter([],[],marker='o',fc='g',ec='g',s=15,label='response')\n",
    "#     lgd = ax1.legend(frameon=False,loc=(-0.25,1),ncol=2,fontsize=14)\n",
    "    \n",
    "    #Set trial limits\n",
    "    max_trial_value = len(trialsToPlot)\n",
    "    sequence_of_possible_axis_limits = np.array([1,2,4,6,8,10,12,16,20,30])#,40,50,60,80,100,120,140,150,160,180,200])#,220,240,260,280,300,320,340,360,380,400])\n",
    "    idx_of_okay_limits = np.less_equal(sequence_of_possible_axis_limits,max_trial_value)\n",
    "    valid_limits = sequence_of_possible_axis_limits[idx_of_okay_limits]\n",
    "    if not len(valid_limits) > 0:\n",
    "        return False,[]\n",
    "    limit = np.max(valid_limits)\n",
    "    ax1.set_xlim([starttime,endtime])\n",
    "    ax1.set_ylim([0,limit])\n",
    "#     ax1.set_yticks([0,limit/2,limit])\n",
    "#     ax1.set_ylabel('Trial')\n",
    "    ax1.set_yticks([])\n",
    "\n",
    "\n",
    "\n",
    "    \n",
    "    #Plot PSTH\n",
    "    starttime = Figure_start_time_ms\n",
    "    endtime = Figure_end_time_ms\n",
    "    xrange = np.linspace(starttime,endtime,num=1000)\n",
    "    trialSpikes_nogo = trialSpikes[range(len_nogo)]\n",
    "    numSplits = min(10,len(trialSpikes_nogo))\n",
    "    if numSplits < 2:\n",
    "        return False,[] ### Return a failure\n",
    "    FR = np.full((numSplits,len(xrange)),np.nan)\n",
    "    kf = KFold(n_splits=numSplits)\n",
    "    for idx,(_,train_index) in enumerate(kf.split(trialSpikes_nogo)):\n",
    "        PSTHspikes = np.concatenate(trialSpikes_nogo[train_index])\n",
    "        if len(PSTHspikes) == 0:\n",
    "            FR[idx,:] = np.zeros(len(xrange))\n",
    "            continue\n",
    "        bw = len(PSTHspikes)**(-1./5) / bw_scott_factor\n",
    "        KDE = gaussian_kde(PSTHspikes,bw_method=bw)\n",
    "        FR[idx,:] = KDE.evaluate(xrange)\n",
    "        FR[idx,:] = FR[idx,:] * len(PSTHspikes) / len(train_index) * 1000 #1000 is conversion to s/s because units are all in ms for this plot\n",
    "    avg_FR = np.mean(FR,axis=0)\n",
    "    sem_FR = sem(FR,axis=0)\n",
    "    ax2.plot(xrange,avg_FR,lw=2,color='purple')\n",
    "    ax2.fill_between(xrange,avg_FR-sem_FR,avg_FR+sem_FR,color='purple',alpha=0.1,zorder=-10,lw=0)\n",
    "\n",
    "\n",
    "    \n",
    "    #Plot PSTH\n",
    "    starttime = Figure_start_time_ms\n",
    "    endtime = Figure_end_time_ms\n",
    "    xrange = np.linspace(starttime,endtime,num=1000)\n",
    "    trialSpikes_go = trialSpikes[range(len_nogo,len_nogo+len_go)]\n",
    "    numSplits = min(10,len(trialSpikes_go))\n",
    "    if numSplits < 2:\n",
    "        return False,[] ### Return a failure\n",
    "    FR = np.full((numSplits,len(xrange)),np.nan)\n",
    "    kf = KFold(n_splits=numSplits)\n",
    "    for idx,(_,train_index) in enumerate(kf.split(trialSpikes_go)):\n",
    "        PSTHspikes = np.concatenate(trialSpikes_go[train_index])\n",
    "        if len(PSTHspikes) == 0:\n",
    "            FR[idx,:] = np.zeros(len(xrange))\n",
    "            continue\n",
    "        bw = len(PSTHspikes)**(-1./5) / bw_scott_factor\n",
    "        KDE = gaussian_kde(PSTHspikes,bw_method=bw)\n",
    "        FR[idx,:] = KDE.evaluate(xrange)\n",
    "        FR[idx,:] = FR[idx,:] * len(PSTHspikes) / len(train_index) * 1000 #1000 is conversion to s/s because units are all in ms for this plot\n",
    "    avg_FR = np.mean(FR,axis=0)\n",
    "    sem_FR = sem(FR,axis=0)\n",
    "    ax2.plot(xrange,avg_FR,lw=2,color='green')\n",
    "    ax2.fill_between(xrange,avg_FR-sem_FR,avg_FR+sem_FR,color='green',alpha=0.1,zorder=-10,lw=0)\n",
    "\n",
    "\n",
    "\n",
    "\n",
    "\n",
    "\n",
    "\n",
    "    \n",
    "    #PSTH Limits\n",
    "    if limitToUse is None:\n",
    "        max_FR_value = np.max(avg_FR+sem_FR) * 1.1\n",
    "        sequence_of_possible_axis_limits = np.array([1,2,4,6,8,10,12,16,20,30,40,50,60,80,100,120,140,150,160,180,200])\n",
    "        idx_of_okay_limits = np.greater_equal(sequence_of_possible_axis_limits,max_FR_value)\n",
    "        valid_limits = sequence_of_possible_axis_limits[idx_of_okay_limits]\n",
    "        limit = np.min(valid_limits)\n",
    "    else:\n",
    "        limit  = limitToUse\n",
    "    ###\n",
    "#     limit = 30\n",
    "    ###\n",
    "    ax2.set_ylim([0,limit])\n",
    "#     ax2.set_yticks([0,limit/2,limit])\n",
    "#     ax2.set_yticklabels(['0',str(int(limit/2)),str(limit)])\n",
    "    ax2.set_yticks([0,limit])\n",
    "    ax2.set_yticklabels(['0',str(limit)])\n",
    "    ylab = ax2.set_ylabel('')#Firing rate\\n(spikes/s)')\n",
    "    \n",
    "    ### X limits\n",
    "    ax1.set_xlim([starttime,endtime])\n",
    "    ax2.set_xlim([starttime,endtime])\n",
    "    ax1.set_xticks(np.array(xtickstouse))\n",
    "    if xticklabelstouse is None:\n",
    "        ax1.set_xticklabels(np.array(xtickstouse))#/1000)\n",
    "    else:\n",
    "        ax1.set_xticklabels(xticklabelstouse)#/1000)\n",
    "    if align_to_choice:\n",
    "        xlab = ax1.set_xlabel('Time (ms)')#xlab = ax2.set_xlabel('Time relative to response (s)')\n",
    "    else:\n",
    "        xlab = ax1.set_xlabel('Time (ms)')#xlab = ax2.set_xlabel('Time relative to stimulus (s)')\n",
    "    ax2.set_xticks([])\n",
    "    \n",
    "    # ### Tone bar\n",
    "    # if not align_to_choice:\n",
    "    #     ax2.plot([0,100],[limit]*2,c='k',lw=2,clip_on=False,zorder=10)\n",
    "        \n",
    "    ### Stim bar\n",
    "    if not align_to_choice:\n",
    "        ax1.plot([0,0],[0,93],linestyle='--',lw=1,color='gray',zorder=-10,clip_on=False)\n",
    "        ax2.plot([0,0],ax2.get_ylim(),linestyle='--',lw=1,color='gray',zorder=-10,clip_on=False)\n",
    "    else:\n",
    "        ax1.plot([0,0],[0,93],linestyle='--',lw=1,color='green',zorder=-10,clip_on=False)\n",
    "        ax2.plot([0,0],ax2.get_ylim(),linestyle='--',lw=1,color='green',zorder=-10,clip_on=False)\n",
    "    \n",
    "    ################################################################\n",
    "    \n",
    "    #font size 15 old style. Font size 35 new style\n",
    "    \n",
    "    for axis in ['bottom','left']:\n",
    "        ax1.spines[axis].set_linewidth(1.75)\n",
    "        ax2.spines[axis].set_linewidth(1.75)\n",
    "    ax1.tick_params(width=0)\n",
    "    ax2.tick_params(width=1.75)\n",
    "    for item in ([ax1.title, ax1.xaxis.label, ax1.yaxis.label] +\n",
    "        ax1.get_xticklabels() + ax1.get_yticklabels()):\n",
    "        item.set_fontsize(35)\n",
    "    for item in ([ax2.title, ax2.xaxis.label, ax2.yaxis.label] +\n",
    "        ax2.get_xticklabels() + ax2.get_yticklabels()):\n",
    "        item.set_fontsize(35)\n",
    "\n",
    "    go_spikes = [np.sum(np.logical_and(np.greater(s,-50),np.less(s,0))) for s in trialSpikes_go]\n",
    "    nogo_spikes = [np.sum(np.logical_and(np.greater(s,-50),np.less(s,0))) for s in trialSpikes_nogo]\n",
    "    pval = ttest_ind(go_spikes,nogo_spikes).pvalue\n",
    "    if pval <= 0.05:\n",
    "        ax2.set_title('p = '+str(pval))\n",
    "    \n",
    "    artists = [ylab,xlab]\n",
    "    return True,artists"
   ]
  },
  {
   "cell_type": "code",
   "execution_count": null,
   "id": "40395696-138c-4a09-aa27-bd68c1437ba4",
   "metadata": {},
   "outputs": [],
   "source": []
  },
  {
   "cell_type": "code",
   "execution_count": null,
   "id": "ce10b2c0-fa9e-4c53-9bcc-dd61758af49f",
   "metadata": {},
   "outputs": [],
   "source": []
  },
  {
   "cell_type": "code",
   "execution_count": null,
   "id": "a38c8b1f-a007-45d3-a075-d6e2a073ffaf",
   "metadata": {},
   "outputs": [],
   "source": []
  },
  {
   "cell_type": "markdown",
   "id": "cb107e3e-253e-440d-b43f-f22b5adadbf5",
   "metadata": {},
   "source": [
    "# Rasters"
   ]
  },
  {
   "cell_type": "code",
   "execution_count": 24,
   "id": "2fca860f-d05e-4a47-92b7-81535ef7bac9",
   "metadata": {
    "tags": []
   },
   "outputs": [
    {
     "name": "stderr",
     "output_type": "stream",
     "text": [
      "0it [00:00, ?it/s]"
     ]
    },
    {
     "name": "stdout",
     "output_type": "stream",
     "text": [
      "l is 187\n"
     ]
    },
    {
     "name": "stderr",
     "output_type": "stream",
     "text": [
      "1829it [00:03, 607.28it/s]\n"
     ]
    },
    {
     "data": {
      "image/png": "[encoded data removed]",
      "text/plain": [
       "<Figure size 637.5x525 with 2 Axes>"
      ]
     },
     "metadata": {},
     "output_type": "display_data"
    }
   ],
   "source": [
    "for idx,(session,clust) in tqdm(enumerate(zip(EnumSession,EnumClust))):\n",
    "    limitToUse = None#30\n",
    "    \n",
    "    skip = True\n",
    "    if session == 'BS_40_2_AC.pickle' and clust in [190]:\n",
    "        limitToUse = 20\n",
    "        skip = False\n",
    "    # if session == 'BS_40_3_AC.pickle' and clust in [15]:\n",
    "    #     limitToUse = 20\n",
    "    #     skip = False\n",
    "    # if session == 'BS_40_6_AC.pickle' and clust in [27]:\n",
    "    #     limitToUse = 20\n",
    "    #     skip = False\n",
    "    # if session == 'BS_40_10_AC.pickle' and clust in [55]:\n",
    "    #     limitToUse = 20\n",
    "    #     skip = False\n",
    "    # if session == 'BS_40_15_AC.pickle' and clust in [0]:\n",
    "    #     limitToUse = 30\n",
    "    #     skip = False\n",
    "    # if session == 'BS_40_16_AC.pickle' and clust in [24]:\n",
    "    #     limitToUse = 30\n",
    "    #     skip = False\n",
    "    # if session == 'BS_41_5_AC.pickle' and clust in [2]:\n",
    "    #     limitToUse = 30\n",
    "    #     skip = False\n",
    "    # if session == 'BS_41_8_AC.pickle' and clust in [15]:\n",
    "    #     limitToUse = 30\n",
    "    #     skip = False\n",
    "    # if session == 'BS_41_9_AC.pickle' and clust in [37]:\n",
    "    #     limitToUse = 30\n",
    "    #     skip = False\n",
    "    # if session == 'BS_41_11_AC.pickle' and clust in [18]:\n",
    "    #     pass#Removed this day from consideration\n",
    "    # if session == 'BS_42_2_AC.pickle' and clust in [62]:\n",
    "    #     limitToUse = 30\n",
    "    #     skip = False\n",
    "    # if session == 'BS_42_3_AC.pickle' and clust in [63]:\n",
    "    #     limitToUse = 30\n",
    "    #     skip = False\n",
    "    # if session == 'BS_42_7_AC.pickle' and clust in [100]:\n",
    "    #     limitToUse = 30\n",
    "    #     skip = False\n",
    "    # if session == 'BS_42_11_AC.pickle' and clust in [44]:\n",
    "    #     limitToUse = 40\n",
    "    #     skip = False\n",
    "    # if session == 'BS_49_1_AC.pickle' and clust in [23,143,150]:\n",
    "    #     limitToUse = 20\n",
    "    #     skip = False\n",
    "    # if session == 'BS_49_2_AC.pickle' and clust in [6]:\n",
    "    #     limitToUse = 20\n",
    "    #     skip = False\n",
    "    # if session == 'BS_49_4_AC.pickle' and clust in [27,68]:\n",
    "    #     limitToUse = 20\n",
    "    #     skip = False\n",
    "    # if session == 'BS_49_4_AC.pickle' and clust in [39]:\n",
    "    #     limitToUse = 30\n",
    "    #     skip = False\n",
    "    # if session == 'BS_49_9_AC.pickle' and clust in [45]:\n",
    "    #     limitToUse = 20\n",
    "    #     skip = False\n",
    "    # if session == 'BS_50_7_AC.pickle' and clust in [12]:\n",
    "    #     limitToUse = 40\n",
    "    #     skip = False\n",
    "    # if session == 'BS_70_7_AC.pickle' and clust in [63]:\n",
    "    #     limitToUse = 30\n",
    "    #     skip = False\n",
    "    # if session == 'BS_70_8_AC.pickle' and clust in [3]:\n",
    "    #     limitToUse = 30\n",
    "    #     skip = False\n",
    "    # if session == 'BS_72_7_AC.pickle' and clust in [35]:\n",
    "    #     limitToUse = 30\n",
    "    #     skip = False\n",
    "    # if session == 'BS_87_1_AC.pickle' and clust in [30]:\n",
    "    #     limitToUse = 50\n",
    "    #     skip = False\n",
    "    # if session == 'BS_87_4_AC.pickle' and clust in [3]:\n",
    "    #     limitToUse = 30\n",
    "    #     skip = False\n",
    "    # if session == 'BS_108_1_AC.pickle' and clust in [9]:\n",
    "    #     limitToUse = 50\n",
    "    #     skip = False\n",
    "    # if session == 'DS_15_1_AC.pickle' and clust in [16,59]:\n",
    "    #     limitToUse = 50\n",
    "    #     skip = False\n",
    "    # if session == 'DS_15_12_AC.pickle' and clust in [19]:\n",
    "    #     limitToUse = 30\n",
    "    #     skip = False\n",
    "    # if session == 'DS_15_13_AC.pickle' and clust in [41]:\n",
    "    #     limitToUse = 30\n",
    "    #     skip = False\n",
    "    # if session == 'DS_15_15_AC.pickle' and clust in [113]:\n",
    "    #     limitToUse = 30\n",
    "    #     skip = False\n",
    "    # if session == 'DS_19_1_AC.pickle' and clust in [1]:\n",
    "    #     limitToUse = 50\n",
    "    #     skip = False\n",
    "    # if session == 'BS_40_2_AC.pickle' and clust in [210]:\n",
    "    #     limitToUse = 20\n",
    "    #     skip = False\n",
    "    # if session == 'BS_42_7_AC.pickle' and clust in [124]:\n",
    "    #     limitToUse = 30\n",
    "    #     skip = False\n",
    "    # if session == 'DS_15_16_AC.pickle' and clust in [23]:\n",
    "    #     limitToUse = 30\n",
    "    #     skip = False\n",
    "    # if session == 'DS_19_14_AC.pickle' and clust in [19]:\n",
    "    #     limitToUse = 30\n",
    "    #     skip = False\n",
    "    if skip:\n",
    "        continue\n",
    "    \n",
    "    plt.close('all')\n",
    "    sessionfile = ilep.loadSessionCached(act_directory,session)\n",
    "    if sessionfile.meta.task == 'switch':\n",
    "        print(\"Skipping Switch\")\n",
    "        continue\n",
    "    \n",
    "#     fig = plt.figure(figsize=(2.75,4.5))#Old Style\n",
    "    fig = plt.figure(figsize=(4.25,3.5))#New Style\n",
    "    gs = fig.add_gridspec(2,1,height_ratios=[1.75,1],hspace=0.25)#Old hspace 0.125 #Old ratios [2,1]\n",
    "    \n",
    "    ax3 = plt.subplot(gs[1,0])#Raster\n",
    "    ax4 = plt.subplot(gs[0,0])#,sharex=ax3)#PSTH\n",
    "    ax3.set_facecolor('#F2F2F2')\n",
    "    \n",
    "    #visualizeClusterChoiceInternal(sessionfile,clust,ax1,ax2,Figure_start_time_ms='-250',Figure_end_time_ms=1000,xtickstouse=[-250,0,250,500,750,1000],align_to_choice=False,switch_cond='NA'):\n",
    "    \n",
    "#     fst=-200\n",
    "#     fet=400\n",
    "#     xt=[-200,0,200,400]\n",
    "    fst=-400\n",
    "    fet=200\n",
    "    xt=[-400,-200,0,200]\n",
    "    xtl=None#['-200','0','200','400']\n",
    "    try:\n",
    "        success,artists = visualizeClusterChoiceInternal(sessionfile,clust,ax3,ax4,limitToUse=limitToUse,Figure_start_time_ms=fst,Figure_end_time_ms=fet,xtickstouse=xt,xticklabelstouse=xtl,align_to_choice=True)\n",
    "    except Exception as e:\n",
    "        print(e)\n",
    "        # raise e\n",
    "        continue\n",
    "    if not success:\n",
    "        print('Fail')\n",
    "        continue\n",
    "    \n",
    "    #Determine FRmod category\n",
    "    FRmodCategory = 'ERROR'\n",
    "    try:\n",
    "        FRmod = sessionfile.responsiveness[clust]['all_trials'].FRmodulation\n",
    "        if FRmod < 3.5:\n",
    "            FRmodCategory = 'NCR'\n",
    "        elif FRmod > 5:\n",
    "            FRmodCategory = 'CR'\n",
    "        else:\n",
    "            FRmodCategory = 'Middle'\n",
    "    except Exception as e:\n",
    "        print(e)\n",
    "        pass\n",
    "    #Skip unidentified category neurons\n",
    "    if FRmodCategory in ['ERROR','nan',np.nan]:\n",
    "        print(\"FRmodFail Skipping\")\n",
    "        continue\n",
    "    region = sessionfile.meta.region\n",
    "    EIL = EILphases[idx]\n",
    "    #Skip unidentified phase neurons\n",
    "    if EIL in ['ERROR','nan',np.nan]:\n",
    "        print(\"PhaseFail Skipping\")\n",
    "        continue\n",
    "       \n",
    "    try:\n",
    "        if not FRmodCategory == 'ERROR':\n",
    "            fig.savefig(os.path.join('C:\\\\Users\\\\4thgr\\\\Documents\\\\Rasters','GoNogoRastersChoice',FRmodCategory,EIL,'pdfs',ilep.generateDateString(sessionfile)+' '+str(clust)+'.pdf'),transparent=False,facecolor=\"white\",dpi=400, bbox_extra_artists=(artists), bbox_inches='tight')\n",
    "            fig.savefig(os.path.join('C:\\\\Users\\\\4thgr\\\\Documents\\\\Rasters','GoNogoRastersChoice',FRmodCategory,EIL,'pngs',ilep.generateDateString(sessionfile)+' '+str(clust)+'.png'),transparent=False,facecolor=\"white\",dpi=400, bbox_extra_artists=(artists), bbox_inches='tight')\n",
    "            fig.savefig(os.path.join('C:\\\\Users\\\\4thgr\\\\Documents\\\\Rasters','GoNogoRastersChoice',FRmodCategory,'pdfs',ilep.generateDateString(sessionfile)+' '+str(clust)+'.pdf'),transparent=False,facecolor=\"white\",dpi=400, bbox_extra_artists=(artists), bbox_inches='tight')\n",
    "            fig.savefig(os.path.join('C:\\\\Users\\\\4thgr\\\\Documents\\\\Rasters','GoNogoRastersChoice',FRmodCategory,'pngs',ilep.generateDateString(sessionfile)+' '+str(clust)+'.png'),transparent=False,facecolor=\"white\",dpi=400, bbox_extra_artists=(artists), bbox_inches='tight')\n",
    "        fig.savefig(os.path.join('C:\\\\Users\\\\4thgr\\\\Documents\\\\Rasters','GoNogoRastersChoice','pdfs',ilep.generateDateString(sessionfile)+' '+str(clust)+'.pdf'),transparent=False,facecolor=\"white\",dpi=400, bbox_extra_artists=(artists), bbox_inches='tight')\n",
    "        fig.savefig(os.path.join('C:\\\\Users\\\\4thgr\\\\Documents\\\\Rasters','GoNogoRastersChoice','pngs',ilep.generateDateString(sessionfile)+' '+str(clust)+'.png'),transparent=False,facecolor=\"white\",dpi=400, bbox_extra_artists=(artists), bbox_inches='tight')\n",
    "    except Exception as e:\n",
    "        print(e)"
   ]
  },
  {
   "cell_type": "code",
   "execution_count": null,
   "id": "f8a68943-2add-4ed0-9040-e819064db0e6",
   "metadata": {},
   "outputs": [],
   "source": []
  },
  {
   "cell_type": "code",
   "execution_count": null,
   "id": "64d8e664-041e-43e7-8c6f-b61d3db03eba",
   "metadata": {},
   "outputs": [],
   "source": []
  },
  {
   "cell_type": "code",
   "execution_count": null,
   "id": "842483ca-0981-4926-b83d-06a4f1b9026a",
   "metadata": {},
   "outputs": [],
   "source": []
  },
  {
   "cell_type": "code",
   "execution_count": null,
   "id": "28f00204-c426-4dd6-9f30-e6f11222fa21",
   "metadata": {},
   "outputs": [],
   "source": []
  },
  {
   "cell_type": "code",
   "execution_count": null,
   "id": "748db1dd-bf8c-4322-9f71-2b487d1dd587",
   "metadata": {},
   "outputs": [],
   "source": []
  },
  {
   "cell_type": "code",
   "execution_count": null,
   "id": "596c2255-eebc-4864-851a-cbe4ecc4441d",
   "metadata": {},
   "outputs": [],
   "source": []
  },
  {
   "cell_type": "code",
   "execution_count": null,
   "id": "9bcaf9ad-b1cc-4a49-8e37-bafd689a1e06",
   "metadata": {},
   "outputs": [],
   "source": []
  },
  {
   "cell_type": "code",
   "execution_count": null,
   "id": "b3053397-8840-4a84-8145-388f97db8bfc",
   "metadata": {},
   "outputs": [],
   "source": []
  },
  {
   "cell_type": "code",
   "execution_count": null,
   "id": "86a90325-b968-45a4-957e-509248fcbc56",
   "metadata": {},
   "outputs": [],
   "source": []
  },
  {
   "cell_type": "code",
   "execution_count": null,
   "id": "e041eb0c-86b8-49b1-b6b4-3d6260641c75",
   "metadata": {},
   "outputs": [],
   "source": []
  },
  {
   "cell_type": "code",
   "execution_count": null,
   "id": "1c81f5f8-6f5e-43c4-9fc0-0b6a68b29bb7",
   "metadata": {},
   "outputs": [],
   "source": []
  },
  {
   "cell_type": "code",
   "execution_count": null,
   "id": "193e52c5-cdcc-4aa0-8419-17b320638103",
   "metadata": {},
   "outputs": [],
   "source": []
  },
  {
   "cell_type": "code",
   "execution_count": null,
   "id": "ee7c2ce2-a595-45d6-8eef-663ab686e1bf",
   "metadata": {},
   "outputs": [],
   "source": []
  },
  {
   "cell_type": "code",
   "execution_count": null,
   "id": "11d4080c-b086-46f3-89ed-3e000023b37c",
   "metadata": {},
   "outputs": [],
   "source": []
  },
  {
   "cell_type": "code",
   "execution_count": null,
   "id": "a25a7a2e-0e00-4eae-bd51-3683e0160b8b",
   "metadata": {},
   "outputs": [],
   "source": []
  },
  {
   "cell_type": "code",
   "execution_count": null,
   "id": "569eb9cc-b97a-4189-9a03-dbb70d049772",
   "metadata": {},
   "outputs": [],
   "source": []
  },
  {
   "cell_type": "code",
   "execution_count": null,
   "id": "2bb2ca67-df22-496b-bf98-79583c5e970f",
   "metadata": {},
   "outputs": [],
   "source": []
  },
  {
   "cell_type": "code",
   "execution_count": null,
   "id": "da11699f-f850-44a6-8b50-2c4956f7e0ed",
   "metadata": {},
   "outputs": [],
   "source": []
  },
  {
   "cell_type": "code",
   "execution_count": null,
   "id": "67359be7-a163-4214-8022-78aeb2b65121",
   "metadata": {},
   "outputs": [],
   "source": []
  },
  {
   "cell_type": "code",
   "execution_count": null,
   "id": "10aedf84-e919-4b93-a3ac-fa4f3a6cb51e",
   "metadata": {},
   "outputs": [],
   "source": []
  },
  {
   "cell_type": "code",
   "execution_count": null,
   "id": "6b6fdc93-9a7b-46d5-8c90-328bd1c7177c",
   "metadata": {},
   "outputs": [],
   "source": []
  },
  {
   "cell_type": "code",
   "execution_count": null,
   "id": "335ba8c3-8035-4a64-8459-ad8ebd11f9ab",
   "metadata": {},
   "outputs": [],
   "source": []
  },
  {
   "cell_type": "code",
   "execution_count": null,
   "id": "995d48bb-85a6-4f19-b662-ec242916e4c1",
   "metadata": {},
   "outputs": [],
   "source": []
  },
  {
   "cell_type": "markdown",
   "id": "65a50ffb-cef3-4143-a58a-f4b611b8a545",
   "metadata": {},
   "source": [
    "## Stim Rasters - Pre-Switch"
   ]
  },
  {
   "cell_type": "code",
   "execution_count": null,
   "id": "ec9e002e-568b-4f82-9145-ccfb7b115ee3",
   "metadata": {},
   "outputs": [],
   "source": []
  },
  {
   "cell_type": "code",
   "execution_count": null,
   "id": "c24b6403-8261-4f6d-a969-9c0c21f605e9",
   "metadata": {},
   "outputs": [],
   "source": []
  },
  {
   "cell_type": "code",
   "execution_count": null,
   "id": "6490e704-3335-472e-8285-f084db095fd3",
   "metadata": {},
   "outputs": [],
   "source": []
  },
  {
   "cell_type": "code",
   "execution_count": 94,
   "id": "0b683e57-ad70-459b-aef5-494607216544",
   "metadata": {
    "tags": []
   },
   "outputs": [
    {
     "name": "stderr",
     "output_type": "stream",
     "text": [
      "0it [00:00, ?it/s]"
     ]
    },
    {
     "name": "stdout",
     "output_type": "stream",
     "text": [
      "BS_108_3_AC.pickle clust 19\n",
      "BS_108_3_AC.pickle clust 19\n",
      "BS_108_3_AC.pickle clust 19\n",
      "BS_108_3_AC.pickle clust 19\n",
      "BS_108_3_AC.pickle clust 19 Done\n",
      "CR\n",
      "switch\n"
     ]
    },
    {
     "name": "stderr",
     "output_type": "stream",
     "text": [
      "11it [00:01,  8.36it/s]"
     ]
    },
    {
     "name": "stdout",
     "output_type": "stream",
     "text": [
      "BS_108_3_AC.pickle clust 44\n",
      "BS_108_3_AC.pickle clust 44\n",
      "BS_108_3_AC.pickle clust 44\n",
      "BS_108_3_AC.pickle clust 44\n",
      "BS_108_3_AC.pickle clust 44 Done\n",
      "Middle\n",
      "switch\n"
     ]
    },
    {
     "name": "stderr",
     "output_type": "stream",
     "text": [
      "13it [00:02,  4.12it/s]"
     ]
    },
    {
     "name": "stdout",
     "output_type": "stream",
     "text": [
      "BS_108_3_AC.pickle clust 131\n",
      "BS_108_3_AC.pickle clust 131\n",
      "BS_108_3_AC.pickle clust 131\n",
      "BS_108_3_AC.pickle clust 131\n",
      "BS_108_3_AC.pickle clust 131 Done\n",
      "CR\n",
      "switch\n"
     ]
    },
    {
     "name": "stderr",
     "output_type": "stream",
     "text": [
      "19it [00:16,  1.21s/it]"
     ]
    },
    {
     "name": "stdout",
     "output_type": "stream",
     "text": [
      "BS_40_14_AC.pickle clust 22\n",
      "BS_40_14_AC.pickle clust 22\n",
      "BS_40_14_AC.pickle clust 22\n",
      "BS_40_14_AC.pickle clust 22\n",
      "BS_40_14_AC.pickle clust 22 Done\n",
      "Middle\n",
      "switch\n"
     ]
    },
    {
     "name": "stderr",
     "output_type": "stream",
     "text": [
      "104it [00:17,  7.80it/s]"
     ]
    },
    {
     "name": "stdout",
     "output_type": "stream",
     "text": [
      "BS_41_1_AC.pickle clust 33\n",
      "BS_41_1_AC.pickle clust 33\n",
      "BS_41_1_AC.pickle clust 33\n",
      "BS_41_1_AC.pickle clust 33\n",
      "BS_41_1_AC.pickle clust 33 Done\n",
      "CR\n",
      "switch\n"
     ]
    },
    {
     "name": "stderr",
     "output_type": "stream",
     "text": [
      "1829it [00:18, 96.30it/s]\n"
     ]
    },
    {
     "data": {
      "image/png": "[encoded data removed]",
      "text/plain": [
       "<Figure size 525x600 with 2 Axes>"
      ]
     },
     "metadata": {
      "needs_background": "light"
     },
     "output_type": "display_data"
    }
   ],
   "source": [
    "for idx,(session,clust) in tqdm(enumerate(zip(EnumSession,EnumClust))):\n",
    "    \n",
    "    limitToUse = 20\n",
    "    skip = True\n",
    "    if session == 'BS_40_14_AC.pickle' and clust in [22]:\n",
    "        skip = False\n",
    "    if session == 'BS_41_1_AC.pickle' and clust in [33]:\n",
    "        skip = False\n",
    "    if session == 'BS_108_3_AC.pickle' and clust in [44]:\n",
    "        skip = False\n",
    "    if session == 'BS_108_3_AC.pickle' and clust in [131]:\n",
    "        skip = False\n",
    "    if session == 'BS_108_3_AC.pickle' and clust in [19]:\n",
    "        limitToUse = 40\n",
    "        skip = False\n",
    "    if skip:\n",
    "        continue\n",
    "        \n",
    "    print(f\"{session} clust {clust}\")\n",
    "    \n",
    "    plt.close('all')\n",
    "    sessionfile = ilep.loadSessionCached(act_directory,session)\n",
    "    if not sessionfile.meta.task == 'switch':\n",
    "        continue\n",
    "        \n",
    "    print(f\"{session} clust {clust}\")\n",
    "    \n",
    "#     fig = plt.figure(figsize=(2.75,4.5))\n",
    "    fig = plt.figure(figsize=(3.5,4))\n",
    "    gs = fig.add_gridspec(2,1,height_ratios=[1.75,1],hspace=0.25)#,wspace=0.5)#0.1)\n",
    "    \n",
    "    ax4 = plt.subplot(gs[0,0],sharex=ax3)#PSTH\n",
    "    ax3 = plt.subplot(gs[1,0])#Raster\n",
    "    ax3.set_facecolor('#F2F2F2')\n",
    "    \n",
    "    print(f\"{session} clust {clust}\")\n",
    "    \n",
    "    #visualizeClusterChoiceInternal(sessionfile,clust,ax1,ax2,Figure_start_time_ms='-250',Figure_end_time_ms=1000,xtickstouse=[-250,0,250,500,750,1000],align_to_choice=False,switch_cond='NA'):\n",
    "    fst=-200\n",
    "    fet=400\n",
    "    xt=[-200,0,200,400]\n",
    "    xtl=None#['-200','0','+200','+400']\n",
    "    success,artists = visualizeClusterChoiceInternal(sessionfile,clust,ax3,ax4,switch_cond='pre_switch',limitToUse=limitToUse,Figure_start_time_ms=fst,Figure_end_time_ms=fet,xtickstouse=xt,xticklabelstouse=xtl)\n",
    "    if not success:\n",
    "        continue\n",
    "        \n",
    "    print(f\"{session} clust {clust}\")\n",
    "    \n",
    "    #Determine FRmod category\n",
    "    FRmodCategory = 'ERROR'\n",
    "    try:\n",
    "        FRmod = sessionfile.responsiveness[clust]['pre_switch'].FRmodulation\n",
    "        if FRmod < 1:\n",
    "            FRmodCategory = 'NCR'\n",
    "        elif FRmod > 4.5:\n",
    "            FRmodCategory = 'CR'\n",
    "        else:\n",
    "            FRmodCategory = 'Middle'\n",
    "    except Exception as e:\n",
    "        print(e)\n",
    "        pass\n",
    "    #Skip unidentified category neurons\n",
    "    if FRmodCategory in ['ERROR','nan',np.nan]:\n",
    "        continue\n",
    "    region = sessionfile.meta.region\n",
    "    EIL = EILphases[idx]\n",
    "    #Skip unidentified phase neurons\n",
    "    if EIL in ['ERROR','nan',np.nan]:\n",
    "        continue\n",
    "        \n",
    "#     break\n",
    "    print(f\"{session} clust {clust} Done\")\n",
    "    print(FRmodCategory)\n",
    "    print(EIL)\n",
    "    try:\n",
    "        if not FRmodCategory == 'ERROR':\n",
    "            fig.savefig(os.path.join('D:\\\\\\\\Rasters','Fig2StimRastersSubset',FRmodCategory,EIL,'pdfs',ilep.generateDateString(sessionfile)+' '+str(clust)+' pre.pdf'),transparent=False,facecolor=\"white\",dpi=400, bbox_extra_artists=(artists), bbox_inches='tight')\n",
    "            fig.savefig(os.path.join('D:\\\\\\\\Rasters','Fig2StimRastersSubset',FRmodCategory,EIL,'pngs',ilep.generateDateString(sessionfile)+' '+str(clust)+' pre.png'),transparent=False,facecolor=\"white\",dpi=400, bbox_extra_artists=(artists), bbox_inches='tight')\n",
    "            fig.savefig(os.path.join('D:\\\\\\\\Rasters','Fig2StimRastersSubset',FRmodCategory,'pdfs',ilep.generateDateString(sessionfile)+' '+str(clust)+' pre.pdf'),transparent=False,facecolor=\"white\",dpi=400, bbox_extra_artists=(artists), bbox_inches='tight')\n",
    "            fig.savefig(os.path.join('D:\\\\\\\\Rasters','Fig2StimRastersSubset',FRmodCategory,'pngs',ilep.generateDateString(sessionfile)+' '+str(clust)+' pre.png'),transparent=False,facecolor=\"white\",dpi=400, bbox_extra_artists=(artists), bbox_inches='tight')\n",
    "        fig.savefig(os.path.join('D:\\\\\\\\Rasters','Fig2StimRastersSubset','pdfs',ilep.generateDateString(sessionfile)+' '+str(clust)+' pre.pdf'),transparent=False,facecolor=\"white\",dpi=400, bbox_extra_artists=(artists), bbox_inches='tight')\n",
    "        fig.savefig(os.path.join('D:\\\\\\\\Rasters','Fig2StimRastersSubset','pngs',ilep.generateDateString(sessionfile)+' '+str(clust)+' pre.png'),transparent=False,facecolor=\"white\",dpi=400, bbox_extra_artists=(artists), bbox_inches='tight')\n",
    "    except Exception as e:\n",
    "        print(e)"
   ]
  },
  {
   "cell_type": "markdown",
   "id": "29cf5659-2fea-48f4-b50d-272595ed5f7c",
   "metadata": {},
   "source": [
    "## Stim Rasters - Post-Switch"
   ]
  },
  {
   "cell_type": "code",
   "execution_count": 95,
   "id": "64aafcac-13aa-4ceb-a41e-1181dd64519e",
   "metadata": {
    "tags": []
   },
   "outputs": [
    {
     "name": "stderr",
     "output_type": "stream",
     "text": [
      "0it [00:00, ?it/s]"
     ]
    },
    {
     "name": "stdout",
     "output_type": "stream",
     "text": [
      "BS_108_3_AC.pickle clust 19\n"
     ]
    },
    {
     "name": "stderr",
     "output_type": "stream",
     "text": [
      "11it [00:01, 10.04it/s]"
     ]
    },
    {
     "name": "stdout",
     "output_type": "stream",
     "text": [
      "BS_108_3_AC.pickle clust 44\n"
     ]
    },
    {
     "name": "stderr",
     "output_type": "stream",
     "text": [
      "13it [00:02,  5.02it/s]"
     ]
    },
    {
     "name": "stdout",
     "output_type": "stream",
     "text": [
      "BS_108_3_AC.pickle clust 131\n"
     ]
    },
    {
     "name": "stderr",
     "output_type": "stream",
     "text": [
      "19it [00:03,  5.06it/s]"
     ]
    },
    {
     "name": "stdout",
     "output_type": "stream",
     "text": [
      "BS_40_14_AC.pickle clust 22\n"
     ]
    },
    {
     "name": "stderr",
     "output_type": "stream",
     "text": [
      "104it [00:04, 31.15it/s]"
     ]
    },
    {
     "name": "stdout",
     "output_type": "stream",
     "text": [
      "BS_41_1_AC.pickle clust 33\n"
     ]
    },
    {
     "name": "stderr",
     "output_type": "stream",
     "text": [
      "1829it [00:05, 313.49it/s]\n"
     ]
    },
    {
     "data": {
      "image/png": "[encoded data removed]",
      "text/plain": [
       "<Figure size 525x600 with 2 Axes>"
      ]
     },
     "metadata": {
      "needs_background": "light"
     },
     "output_type": "display_data"
    }
   ],
   "source": [
    "for idx,(session,clust) in tqdm(enumerate(zip(EnumSession,EnumClust))):\n",
    "    \n",
    "    limitToUse = 20\n",
    "    skip = True\n",
    "    if session == 'BS_40_14_AC.pickle' and clust in [22]:\n",
    "        skip = False\n",
    "    if session == 'BS_41_1_AC.pickle' and clust in [33]:\n",
    "        skip = False\n",
    "    if session == 'BS_108_3_AC.pickle' and clust in [44]:\n",
    "        skip = False\n",
    "    if session == 'BS_108_3_AC.pickle' and clust in [131]:\n",
    "        skip = False\n",
    "    if session == 'BS_108_3_AC.pickle' and clust in [19]:\n",
    "        limitToUse = 40\n",
    "        skip = False\n",
    "    if skip:\n",
    "        continue\n",
    "    \n",
    "    plt.close('all')\n",
    "    sessionfile = ilep.loadSessionCached(act_directory,session)\n",
    "    if not sessionfile.meta.task == 'switch':\n",
    "        continue\n",
    "    \n",
    "#     fig = plt.figure(figsize=(2.75,4.5))\n",
    "    fig = plt.figure(figsize=(3.5,4))\n",
    "    gs = fig.add_gridspec(2,1,height_ratios=[1.75,1],hspace=0.25)\n",
    "    \n",
    "    ax4 = plt.subplot(gs[0,0],sharex=ax3)#PSTH\n",
    "    ax3 = plt.subplot(gs[1,0])#Raster\n",
    "    ax3.set_facecolor('#F2F2F2')\n",
    "    \n",
    "    #visualizeClusterChoiceInternal(sessionfile,clust,ax1,ax2,Figure_start_time_ms='-250',Figure_end_time_ms=1000,xtickstouse=[-250,0,250,500,750,1000],align_to_choice=False,switch_cond='NA'):\n",
    "    fst=-200\n",
    "    fet=400\n",
    "    xt=[-200,0,200,400]\n",
    "    xtl=None#['-200','0','200','400']\n",
    "    success,artists = visualizeClusterChoiceInternal(sessionfile,clust,ax3,ax4,switch_cond='post_switch',limitToUse=limitToUse,Figure_start_time_ms=fst,Figure_end_time_ms=fet,xtickstouse=xt,xticklabelstouse=xtl)\n",
    "    if not success:\n",
    "        continue\n",
    "    \n",
    "    #Determine FRmod category\n",
    "    FRmodCategory = 'ERROR'\n",
    "    try:\n",
    "        FRmod = sessionfile.responsiveness[clust]['post_switch'].FRmodulation\n",
    "        if FRmod < 1:\n",
    "            FRmodCategory = 'NCR'\n",
    "        elif FRmod > 4.5:\n",
    "            FRmodCategory = 'CR'\n",
    "        else:\n",
    "            FRmodCategory = 'Middle'\n",
    "    except Exception as e:\n",
    "        print(e)\n",
    "        pass\n",
    "    #Skip unidentified category neurons\n",
    "    if FRmodCategory in ['ERROR','nan',np.nan]:\n",
    "        continue\n",
    "    region = sessionfile.meta.region\n",
    "    EIL = EILphases[idx]\n",
    "    #Skip unidentified phase neurons\n",
    "    if EIL in ['ERROR','nan',np.nan]:\n",
    "        continue\n",
    "        \n",
    "#     break\n",
    "    print(f\"{session} clust {clust}\")\n",
    "    try:\n",
    "        if not FRmodCategory == 'ERROR':\n",
    "            fig.savefig(os.path.join('D:\\\\\\\\Rasters','Fig2StimRastersSubset',FRmodCategory,EIL,'pdfs',ilep.generateDateString(sessionfile)+' '+str(clust)+' post.pdf'),transparent=False,facecolor=\"white\",dpi=400, bbox_extra_artists=(artists), bbox_inches='tight')\n",
    "            fig.savefig(os.path.join('D:\\\\\\\\Rasters','Fig2StimRastersSubset',FRmodCategory,EIL,'pngs',ilep.generateDateString(sessionfile)+' '+str(clust)+' post.png'),transparent=False,facecolor=\"white\",dpi=400, bbox_extra_artists=(artists), bbox_inches='tight')\n",
    "            fig.savefig(os.path.join('D:\\\\\\\\Rasters','Fig2StimRastersSubset',FRmodCategory,'pdfs',ilep.generateDateString(sessionfile)+' '+str(clust)+' post.pdf'),transparent=False,facecolor=\"white\",dpi=400, bbox_extra_artists=(artists), bbox_inches='tight')\n",
    "            fig.savefig(os.path.join('D:\\\\\\\\Rasters','Fig2StimRastersSubset',FRmodCategory,'pngs',ilep.generateDateString(sessionfile)+' '+str(clust)+' post.png'),transparent=False,facecolor=\"white\",dpi=400, bbox_extra_artists=(artists), bbox_inches='tight')\n",
    "        fig.savefig(os.path.join('D:\\\\\\\\Rasters','Fig2StimRastersSubset','pdfs',ilep.generateDateString(sessionfile)+' '+str(clust)+' post.pdf'),transparent=False,facecolor=\"white\",dpi=400, bbox_extra_artists=(artists), bbox_inches='tight')\n",
    "        fig.savefig(os.path.join('D:\\\\\\\\Rasters','Fig2StimRastersSubset','pngs',ilep.generateDateString(sessionfile)+' '+str(clust)+' post.png'),transparent=False,facecolor=\"white\",dpi=400, bbox_extra_artists=(artists), bbox_inches='tight')\n",
    "    except Exception as e:\n",
    "        print(e)"
   ]
  },
  {
   "cell_type": "code",
   "execution_count": null,
   "id": "74f33711-286d-45ac-b178-c2dd8f5d2aef",
   "metadata": {},
   "outputs": [],
   "source": []
  },
  {
   "cell_type": "code",
   "execution_count": null,
   "id": "43ee921e-f4cc-4b4f-8271-2a1069b645a0",
   "metadata": {},
   "outputs": [],
   "source": []
  },
  {
   "cell_type": "code",
   "execution_count": null,
   "id": "f43ead66-31c9-4d85-9f85-f99877b7eab0",
   "metadata": {},
   "outputs": [],
   "source": []
  },
  {
   "cell_type": "markdown",
   "id": "19caca0b-639d-476d-8cbf-eb6c08fb19f9",
   "metadata": {},
   "source": [
    "# Choice Rasters"
   ]
  },
  {
   "cell_type": "code",
   "execution_count": 99,
   "id": "0101f9d4-ef8f-4dc5-95b8-4e8b52048543",
   "metadata": {
    "tags": []
   },
   "outputs": [
    {
     "name": "stderr",
     "output_type": "stream",
     "text": [
      "1829it [00:38, 47.39it/s] \n"
     ]
    },
    {
     "data": {
      "image/png": "[encoded data removed]",
      "text/plain": [
       "<Figure size 600x525 with 2 Axes>"
      ]
     },
     "metadata": {
      "needs_background": "light"
     },
     "output_type": "display_data"
    }
   ],
   "source": [
    "for idx,(session,clust) in tqdm(enumerate(zip(EnumSession,EnumClust))):\n",
    "\n",
    "    limitToUse = 20\n",
    "    skip = True\n",
    "    if session == 'BS_40_2_AC.pickle' and clust in [96,166,194,206,213]:\n",
    "        if clust == 194:\n",
    "            limitToUse = 40\n",
    "        if clust == 96:\n",
    "            limitToUse = 40\n",
    "        if clust == 206:\n",
    "            limitToUse = 40\n",
    "        skip = False\n",
    "    if session == 'BS_40_12_AC.pickle' and clust in [57]:\n",
    "        limitToUse=30\n",
    "        skip = False\n",
    "    if session == 'BS_40_22_AC.pickle' and clust in [13]:\n",
    "        skip = False\n",
    "    if session == 'BS_41_9_AC.pickle' and clust in [37]:\n",
    "        skip = False\n",
    "    if session == 'BS_42_2_AC.pickle' and clust in [118]:\n",
    "        skip = False\n",
    "    if session == 'BS_42_4_AC.pickle' and clust in [65]:\n",
    "        skip = False\n",
    "    if session == 'BS_42_6_AC.pickle' and clust in [51]:\n",
    "        limitToUse = 50\n",
    "        skip = False\n",
    "    if session == 'BS_42_9_AC.pickle' and clust in [32]:\n",
    "        skip = False\n",
    "    if session == 'BS_49_1_AC.pickle' and clust in [82,150]:\n",
    "        skip = False\n",
    "    if session == 'BS_49_9_AC.pickle' and clust in [61]:\n",
    "        skip = False\n",
    "    if session == 'BS_49_12_AC.pickle' and clust in [39]:\n",
    "        skip = False\n",
    "    if session == 'BS_50_2_AC.pickle' and clust in [14]:\n",
    "        limitToUse = 40\n",
    "        skip = False\n",
    "    if session == 'BS_50_3_AC.pickle' and clust in [3]:\n",
    "        limitToUse = 40\n",
    "        skip = False\n",
    "    if session == 'BS_50_3_AC.pickle' and clust in [16]:\n",
    "        skip = False\n",
    "    if session == 'BS_56_4_AC.pickle' and clust in [6]:\n",
    "        skip = False\n",
    "    if session == 'BS_50_7_AC.pickle' and clust in [5]:\n",
    "        skip = False\n",
    "    if session == 'BS_70_8_AC.pickle' and clust in [3]:\n",
    "        skip = False\n",
    "    if session == 'BS_72_1_AC.pickle' and clust in [24,30]:\n",
    "        skip = False\n",
    "    if session == 'BS_72_2_AC.pickle' and clust in [7,17]:\n",
    "        if clust == 7:\n",
    "            limitToUse = 30\n",
    "        skip = False\n",
    "    if session == 'BS_72_4_AC.pickle' and clust in [7,43]:\n",
    "        skip = False\n",
    "    if session == 'BS_72_5_AC.pickle' and clust in [22]:\n",
    "        limitToUse = 50\n",
    "        skip = False\n",
    "    if session == 'BS_72_6_AC.pickle' and clust in [23]:\n",
    "        skip = False\n",
    "    if session == 'BS_87_4_AC.pickle' and clust in [154]:\n",
    "        skip = False\n",
    "    if session == 'BS_87_8_AC.pickle' and clust in [1]:\n",
    "        skip = False\n",
    "    if session == 'BS_108_1_AC.pickle' and clust in [9]:\n",
    "        limitToUse=30\n",
    "        skip = False\n",
    "    if session == 'BS_108_6_AC.pickle' and clust in [126]:\n",
    "        skip = False\n",
    "    if session == 'DS_15_12_AC.pickle' and clust in [48]:\n",
    "        limitToUse = 50\n",
    "        skip = False\n",
    "    if session == 'DS_15_13_AC.pickle' and clust in [84,113]:\n",
    "        skip = False\n",
    "    if session == 'DS_15_14_AC.pickle' and clust in [54]:\n",
    "        skip = False\n",
    "    if session == 'DS_19_3_AC.pickle' and clust in [115]:\n",
    "        skip = False\n",
    "    if skip:\n",
    "        continue\n",
    "    \n",
    "    plt.close('all')\n",
    "    sessionfile = ilep.loadSessionCached(act_directory,session)\n",
    "    if sessionfile.meta.task == 'switch':\n",
    "        continue\n",
    "    \n",
    "    fig = plt.figure(figsize=(4,3.5))\n",
    "    gs = fig.add_gridspec(2,1,height_ratios=[1.75,1],hspace=0.25)\n",
    "    \n",
    "    ax4 = plt.subplot(gs[0,0],sharex=ax3)#PSTH\n",
    "    ax3 = plt.subplot(gs[1,0])#Raster\n",
    "    ax3.set_facecolor('#F2F2F2')\n",
    "    \n",
    "    #visualizeClusterChoiceInternal(sessionfile,clust,ax1,ax2,Figure_start_time_ms='-250',Figure_end_time_ms=1000,xtickstouse=[-250,0,250,500,750,1000],align_to_choice=False,switch_cond='NA'):\n",
    "    \n",
    "    fst=-400\n",
    "    fet=200\n",
    "    xt=[-400,-200,0,200]\n",
    "    xtl=None#['-400','-200','0','+200']\n",
    "    try:\n",
    "        success,artists = visualizeClusterChoiceInternal(sessionfile,clust,ax3,ax4,align_to_choice=True,limitToUse=limitToUse,Figure_start_time_ms=fst,Figure_end_time_ms=fet,xtickstouse=xt,xticklabelstouse=xtl)\n",
    "    except Exception as e:\n",
    "        print(e)\n",
    "        success = False\n",
    "    if not success:\n",
    "        continue\n",
    "    \n",
    "    #Determine FRmod category\n",
    "    FRmodCategory = 'ERROR'\n",
    "    try:\n",
    "        FRmod = sessionfile.responsiveness[clust]['go'].FRmodulation_choice\n",
    "        if FRmod < 0.8:\n",
    "            FRmodCategory = 'NCR'\n",
    "        elif FRmod > 4:\n",
    "            FRmodCategory = 'CR'\n",
    "        else:\n",
    "            FRmodCategory = 'Middle'\n",
    "    except Exception as e:\n",
    "        print(e)\n",
    "        pass\n",
    "    #Skip unidentified category neurons\n",
    "    if FRmodCategory in ['ERROR','nan',np.nan]:\n",
    "        continue\n",
    "    region = sessionfile.meta.region\n",
    "    EIL = EILphases[idx]\n",
    "    #Skip unidentified phase neurons\n",
    "    if EIL in ['ERROR','nan',np.nan]:\n",
    "        continue\n",
    "        \n",
    "    try:\n",
    "        if not FRmodCategory == 'ERROR':\n",
    "            fig.savefig(os.path.join('D:\\\\\\\\Rasters','EDF2ChoiceRastersSubset',FRmodCategory,EIL,'pdfs',ilep.generateDateString(sessionfile)+' '+str(clust)+'.pdf'),transparent=False,facecolor=\"white\",dpi=400, bbox_extra_artists=(artists), bbox_inches='tight')\n",
    "            fig.savefig(os.path.join('D:\\\\\\\\Rasters','EDF2ChoiceRastersSubset',FRmodCategory,EIL,'pngs',ilep.generateDateString(sessionfile)+' '+str(clust)+'.png'),transparent=False,facecolor=\"white\",dpi=400, bbox_extra_artists=(artists), bbox_inches='tight')\n",
    "            fig.savefig(os.path.join('D:\\\\\\\\Rasters','EDF2ChoiceRastersSubset',FRmodCategory,'pdfs',ilep.generateDateString(sessionfile)+' '+str(clust)+'.pdf'),transparent=False,facecolor=\"white\",dpi=400, bbox_extra_artists=(artists), bbox_inches='tight')\n",
    "            fig.savefig(os.path.join('D:\\\\\\\\Rasters','EDF2ChoiceRastersSubset',FRmodCategory,'pngs',ilep.generateDateString(sessionfile)+' '+str(clust)+'.png'),transparent=False,facecolor=\"white\",dpi=400, bbox_extra_artists=(artists), bbox_inches='tight')\n",
    "        fig.savefig(os.path.join('D:\\\\\\\\Rasters','EDF2ChoiceRastersSubset','pdfs',ilep.generateDateString(sessionfile)+' '+str(clust)+'.pdf'),transparent=False,facecolor=\"white\",dpi=400, bbox_extra_artists=(artists), bbox_inches='tight')\n",
    "        fig.savefig(os.path.join('D:\\\\\\\\Rasters','EDF2ChoiceRastersSubset','pngs',ilep.generateDateString(sessionfile)+' '+str(clust)+'.png'),transparent=False,facecolor=\"white\",dpi=400, bbox_extra_artists=(artists), bbox_inches='tight')\n",
    "    except Exception as e:\n",
    "        print(e)"
   ]
  },
  {
   "cell_type": "markdown",
   "id": "a35e8ed3-9aa0-4281-9c08-3268b5a9856f",
   "metadata": {},
   "source": [
    "## Choice Rasters - Pre-Switch"
   ]
  },
  {
   "cell_type": "code",
   "execution_count": null,
   "id": "192eecb8-6ee3-4311-b820-ca5454388ee4",
   "metadata": {},
   "outputs": [],
   "source": [
    "for idx,(session,clust) in tqdm(enumerate(zip(EnumSession,EnumClust))):\n",
    "    \n",
    "    plt.close('all')\n",
    "    sessionfile = ilep.loadSessionCached(act_directory,session)\n",
    "    if not sessionfile.meta.task == 'switch':\n",
    "        continue\n",
    "    \n",
    "#     fig = plt.figure(figsize=(3,6))\n",
    "    fig = plt.figure(figsize=(2.75,4.5))\n",
    "    gs = fig.add_gridspec(2,1,height_ratios=[2,1],hspace=0.125)#,wspace=0.5)#0.1)\n",
    "    ax3 = plt.subplot(gs[0,0])#Raster\n",
    "    ax4 = plt.subplot(gs[1,0],sharex=ax3)#PSTH\n",
    "    \n",
    "    #visualizeClusterChoiceInternal(sessionfile,clust,ax1,ax2,Figure_start_time_ms='-250',Figure_end_time_ms=1000,xtickstouse=[-250,0,250,500,750,1000],align_to_choice=False,switch_cond='NA'):\n",
    "    success,artists = visualizeClusterChoiceInternal(sessionfile,clust,ax3,ax4,Figure_start_time_ms=-750,Figure_end_time_ms=250,xtickstouse=[-1.0,-0.5,0],align_to_choice=True,switch_cond='pre_switch')\n",
    "    if not success:\n",
    "        continue\n",
    "    \n",
    "    #Determine FRmod category\n",
    "    FRmodCategory = 'ERROR'\n",
    "    try:\n",
    "        FRmod = sessionfile.responsiveness[clust]['go'].FRmodulation_choice\n",
    "        if FRmod < 0.8:\n",
    "            FRmodCategory = 'NCR'\n",
    "        elif FRmod > 4:\n",
    "            FRmodCategory = 'CR'\n",
    "        else:\n",
    "            FRmodCategory = 'Middle'\n",
    "    except Exception as e:\n",
    "        print(e)\n",
    "        pass\n",
    "    #Skip unidentified category neurons\n",
    "    if FRmodCategory in ['ERROR','nan',np.nan]:\n",
    "        continue\n",
    "    region = sessionfile.meta.region\n",
    "    EIL = EILphases[idx]\n",
    "    #Skip unidentified phase neurons\n",
    "    if EIL in ['ERROR','nan',np.nan]:\n",
    "        continue\n",
    "        \n",
    "#     break\n",
    "    try:\n",
    "        if not FRmodCategory == 'ERROR':\n",
    "            fig.savefig(os.path.join('D:\\\\\\\\TempFigures','EDF2ChoiceRasters',FRmodCategory,EIL,'pdfs',ilep.generateDateString(sessionfile)+' '+str(clust)+' pre.pdf'),transparent=False,facecolor=\"white\",dpi=400, bbox_extra_artists=(artists), bbox_inches='tight')\n",
    "            fig.savefig(os.path.join('D:\\\\\\\\TempFigures','EDF2ChoiceRasters',FRmodCategory,EIL,'pngs',ilep.generateDateString(sessionfile)+' '+str(clust)+' pre.png'),transparent=False,facecolor=\"white\",dpi=400, bbox_extra_artists=(artists), bbox_inches='tight')\n",
    "            fig.savefig(os.path.join('D:\\\\\\\\TempFigures','EDF2ChoiceRasters',FRmodCategory,'pdfs',ilep.generateDateString(sessionfile)+' '+str(clust)+' pre.pdf'),transparent=False,facecolor=\"white\",dpi=400, bbox_extra_artists=(artists), bbox_inches='tight')\n",
    "            fig.savefig(os.path.join('D:\\\\\\\\TempFigures','EDF2ChoiceRasters',FRmodCategory,'pngs',ilep.generateDateString(sessionfile)+' '+str(clust)+' pre.png'),transparent=False,facecolor=\"white\",dpi=400, bbox_extra_artists=(artists), bbox_inches='tight')\n",
    "        fig.savefig(os.path.join('D:\\\\\\\\TempFigures','EDF2ChoiceRasters','pdfs',ilep.generateDateString(sessionfile)+' '+str(clust)+' pre.pdf'),transparent=False,facecolor=\"white\",dpi=400, bbox_extra_artists=(artists), bbox_inches='tight')\n",
    "        fig.savefig(os.path.join('D:\\\\\\\\TempFigures','EDF2ChoiceRasters','pngs',ilep.generateDateString(sessionfile)+' '+str(clust)+' pre.png'),transparent=False,facecolor=\"white\",dpi=400, bbox_extra_artists=(artists), bbox_inches='tight')\n",
    "    except Exception as e:\n",
    "        print(e)"
   ]
  },
  {
   "cell_type": "markdown",
   "id": "e78c64aa-39a9-44d2-a9aa-8953e5a2c1ba",
   "metadata": {},
   "source": [
    "## Choice Rasters - Post-Switch"
   ]
  },
  {
   "cell_type": "code",
   "execution_count": null,
   "id": "32ac3e4c-4dc1-4813-8323-c3cc879e3921",
   "metadata": {},
   "outputs": [],
   "source": [
    "for idx,(session,clust) in tqdm(enumerate(zip(EnumSession,EnumClust))):\n",
    "\n",
    "    \n",
    "    plt.close('all')\n",
    "    sessionfile = ilep.loadSessionCached(act_directory,session)\n",
    "    if not sessionfile.meta.task == 'switch':\n",
    "        continue\n",
    "    \n",
    "#     fig = plt.figure(figsize=(3,6))\n",
    "    fig = plt.figure(figsize=(2.75,4.5))\n",
    "    gs = fig.add_gridspec(2,1,height_ratios=[2,1],hspace=0.125)#,wspace=0.5)#0.1)\n",
    "    ax3 = plt.subplot(gs[0,0])#Raster\n",
    "    ax4 = plt.subplot(gs[1,0],sharex=ax3)#PSTH\n",
    "    \n",
    "    #visualizeClusterChoiceInternal(sessionfile,clust,ax1,ax2,Figure_start_time_ms='-250',Figure_end_time_ms=1000,xtickstouse=[-250,0,250,500,750,1000],align_to_choice=False,switch_cond='NA'):\n",
    "    success,artists = visualizeClusterChoiceInternal(sessionfile,clust,ax3,ax4,Figure_start_time_ms=-750,Figure_end_time_ms=250,xtickstouse=[-1.0,-0.5,0],align_to_choice=True,switch_cond='post_switch')\n",
    "    if not success:\n",
    "        continue\n",
    "    \n",
    "    #Determine FRmod category\n",
    "    FRmodCategory = 'ERROR'\n",
    "    try:\n",
    "        FRmod = sessionfile.responsiveness[clust]['go'].FRmodulation_choice\n",
    "        if FRmod < 0.8:\n",
    "            FRmodCategory = 'NCR'\n",
    "        elif FRmod > 4:\n",
    "            FRmodCategory = 'CR'\n",
    "        else:\n",
    "            FRmodCategory = 'Middle'\n",
    "    except Exception as e:\n",
    "        print(e)\n",
    "        pass\n",
    "    #Skip unidentified category neurons\n",
    "    if FRmodCategory in ['ERROR','nan',np.nan]:\n",
    "        continue\n",
    "    region = sessionfile.meta.region\n",
    "    EIL = EILphases[idx]\n",
    "    #Skip unidentified phase neurons\n",
    "    if EIL in ['ERROR','nan',np.nan]:\n",
    "        continue\n",
    "        \n",
    "#     break\n",
    "    try:\n",
    "        if not FRmodCategory == 'ERROR':\n",
    "            fig.savefig(os.path.join('D:\\\\\\\\TempFigures','EDF2ChoiceRasters',FRmodCategory,EIL,'pdfs',ilep.generateDateString(sessionfile)+' '+str(clust)+' post.pdf'),transparent=False,facecolor=\"white\",dpi=400, bbox_extra_artists=(artists), bbox_inches='tight')\n",
    "            fig.savefig(os.path.join('D:\\\\\\\\TempFigures','EDF2ChoiceRasters',FRmodCategory,EIL,'pngs',ilep.generateDateString(sessionfile)+' '+str(clust)+' post.png'),transparent=False,facecolor=\"white\",dpi=400, bbox_extra_artists=(artists), bbox_inches='tight')\n",
    "            fig.savefig(os.path.join('D:\\\\\\\\TempFigures','EDF2ChoiceRasters',FRmodCategory,'pdfs',ilep.generateDateString(sessionfile)+' '+str(clust)+' post.pdf'),transparent=False,facecolor=\"white\",dpi=400, bbox_extra_artists=(artists), bbox_inches='tight')\n",
    "            fig.savefig(os.path.join('D:\\\\\\\\TempFigures','EDF2ChoiceRasters',FRmodCategory,'pngs',ilep.generateDateString(sessionfile)+' '+str(clust)+' post.png'),transparent=False,facecolor=\"white\",dpi=400, bbox_extra_artists=(artists), bbox_inches='tight')\n",
    "        fig.savefig(os.path.join('D:\\\\\\\\TempFigures','EDF2ChoiceRasters','pdfs',ilep.generateDateString(sessionfile)+' '+str(clust)+' post.pdf'),transparent=False,facecolor=\"white\",dpi=400, bbox_extra_artists=(artists), bbox_inches='tight')\n",
    "        fig.savefig(os.path.join('D:\\\\\\\\TempFigures','EDF2ChoiceRasters','pngs',ilep.generateDateString(sessionfile)+' '+str(clust)+' post.png'),transparent=False,facecolor=\"white\",dpi=400, bbox_extra_artists=(artists), bbox_inches='tight')\n",
    "    except Exception as e:\n",
    "        print(e)"
   ]
  },
  {
   "cell_type": "code",
   "execution_count": null,
   "id": "3217f95e-fc42-4f37-a282-70d680f43094",
   "metadata": {},
   "outputs": [],
   "source": []
  },
  {
   "cell_type": "code",
   "execution_count": null,
   "id": "40140cf9-00e0-4322-9923-738cca9123f4",
   "metadata": {},
   "outputs": [],
   "source": []
  },
  {
   "cell_type": "code",
   "execution_count": null,
   "id": "09639795-e5b6-448a-84f6-685210acb1bb",
   "metadata": {},
   "outputs": [],
   "source": []
  },
  {
   "cell_type": "code",
   "execution_count": null,
   "id": "06059096-3627-4733-8dfe-32d24659020b",
   "metadata": {},
   "outputs": [],
   "source": []
  },
  {
   "cell_type": "code",
   "execution_count": null,
   "id": "4bfa919d-c586-4c82-bd92-305167ceca5e",
   "metadata": {},
   "outputs": [],
   "source": []
  },
  {
   "cell_type": "code",
   "execution_count": null,
   "id": "75424716-aad7-4302-b964-85c91cedc62c",
   "metadata": {},
   "outputs": [],
   "source": []
  },
  {
   "cell_type": "code",
   "execution_count": null,
   "id": "23715410-0614-4c55-a6d8-4333431050a3",
   "metadata": {},
   "outputs": [],
   "source": []
  },
  {
   "cell_type": "code",
   "execution_count": null,
   "id": "da1b39ba-1776-4165-a082-1f013ca61d40",
   "metadata": {},
   "outputs": [],
   "source": []
  },
  {
   "cell_type": "code",
   "execution_count": null,
   "id": "7443440a-9c35-4eff-89e7-e903300c5ba5",
   "metadata": {},
   "outputs": [],
   "source": []
  },
  {
   "cell_type": "code",
   "execution_count": null,
   "id": "32e6be55-4a17-48b8-993c-1dda80927f58",
   "metadata": {},
   "outputs": [],
   "source": []
  },
  {
   "cell_type": "code",
   "execution_count": null,
   "id": "9e85d50e-1500-4bbc-adb2-934c06051fc5",
   "metadata": {},
   "outputs": [],
   "source": []
  },
  {
   "cell_type": "code",
   "execution_count": null,
   "id": "9e4ded2b-8b4b-41fa-ba9c-4163fb19d808",
   "metadata": {},
   "outputs": [],
   "source": []
  },
  {
   "cell_type": "code",
   "execution_count": null,
   "id": "330d2904-1d65-4de5-a880-f7a33e5c442d",
   "metadata": {},
   "outputs": [],
   "source": []
  },
  {
   "cell_type": "code",
   "execution_count": null,
   "id": "354dd237-b53b-4d8e-bf63-65db912a267b",
   "metadata": {},
   "outputs": [],
   "source": []
  },
  {
   "cell_type": "code",
   "execution_count": null,
   "id": "632a9018-a891-44a1-b550-838977e65a82",
   "metadata": {},
   "outputs": [],
   "source": []
  },
  {
   "cell_type": "code",
   "execution_count": null,
   "id": "866c875f-52b4-440f-8152-59be13731443",
   "metadata": {},
   "outputs": [],
   "source": []
  },
  {
   "cell_type": "code",
   "execution_count": null,
   "id": "7e0a9e56-047e-4169-a951-43bae9f6cc26",
   "metadata": {},
   "outputs": [],
   "source": []
  },
  {
   "cell_type": "code",
   "execution_count": null,
   "id": "04c3fd2d-90bf-405c-9929-7ad8b975f072",
   "metadata": {},
   "outputs": [],
   "source": []
  },
  {
   "cell_type": "code",
   "execution_count": null,
   "id": "8811b43d-02a8-40b9-9c93-a802ba7929d3",
   "metadata": {},
   "outputs": [],
   "source": []
  },
  {
   "cell_type": "code",
   "execution_count": null,
   "id": "4212ed88-f21a-4cd2-b5bb-b790c79fc1d8",
   "metadata": {},
   "outputs": [],
   "source": []
  },
  {
   "cell_type": "markdown",
   "id": "d65d9b60-4abd-4b76-9365-c7b4bfad8d4a",
   "metadata": {},
   "source": [
    "# Combined Rasters"
   ]
  },
  {
   "cell_type": "code",
   "execution_count": null,
   "id": "b8d8236f-0185-4482-b302-0b6d6613c26f",
   "metadata": {
    "tags": []
   },
   "outputs": [
    {
     "name": "stderr",
     "output_type": "stream",
     "text": [
      "16it [01:10,  1.55s/it]"
     ]
    },
    {
     "name": "stdout",
     "output_type": "stream",
     "text": [
      "Skipping Switch\n",
      "Skipping Switch\n",
      "Skipping Switch\n",
      "Skipping Switch\n",
      "Skipping Switch\n",
      "Skipping Switch\n"
     ]
    },
    {
     "name": "stderr",
     "output_type": "stream",
     "text": [
      "22it [01:10,  1.59it/s]"
     ]
    },
    {
     "name": "stdout",
     "output_type": "stream",
     "text": [
      "Skipping Switch\n",
      "Skipping Switch\n",
      "Skipping Switch\n",
      "Skipping Switch\n",
      "Skipping Switch\n",
      "Skipping Switch\n"
     ]
    },
    {
     "name": "stderr",
     "output_type": "stream",
     "text": [
      "28it [01:10,  3.30it/s]"
     ]
    },
    {
     "name": "stdout",
     "output_type": "stream",
     "text": [
      "Skipping Switch\n",
      "Skipping Switch\n",
      "Skipping Switch\n",
      "Skipping Switch\n",
      "Skipping Switch\n",
      "Skipping Switch\n",
      "Skipping Switch\n"
     ]
    },
    {
     "name": "stderr",
     "output_type": "stream",
     "text": [
      "34it [01:11,  5.67it/s]"
     ]
    },
    {
     "name": "stdout",
     "output_type": "stream",
     "text": [
      "Skipping Switch\n",
      "Skipping Switch\n",
      "Skipping Switch\n",
      "Skipping Switch\n",
      "Skipping Switch\n"
     ]
    },
    {
     "name": "stderr",
     "output_type": "stream",
     "text": [
      "37it [01:11,  7.38it/s]"
     ]
    },
    {
     "name": "stdout",
     "output_type": "stream",
     "text": [
      "Skipping Switch\n",
      "Skipping Switch\n",
      "Skipping Switch\n",
      "Skipping Switch\n",
      "Skipping Switch\n"
     ]
    },
    {
     "name": "stderr",
     "output_type": "stream",
     "text": [
      "40it [01:11,  9.24it/s]"
     ]
    },
    {
     "name": "stdout",
     "output_type": "stream",
     "text": [
      "Skipping Switch\n",
      "Skipping Switch\n"
     ]
    },
    {
     "name": "stderr",
     "output_type": "stream",
     "text": [
      "105it [15:30,  1.32it/s]"
     ]
    },
    {
     "name": "stdout",
     "output_type": "stream",
     "text": [
      "Skipping Switch\n",
      "Skipping Switch\n",
      "Skipping Switch\n",
      "Skipping Switch\n",
      "Skipping Switch\n",
      "Skipping Switch\n",
      "Skipping Switch\n"
     ]
    },
    {
     "name": "stderr",
     "output_type": "stream",
     "text": [
      "113it [15:30,  3.89it/s]"
     ]
    },
    {
     "name": "stdout",
     "output_type": "stream",
     "text": [
      "Skipping Switch\n",
      "Skipping Switch\n",
      "Skipping Switch\n",
      "Skipping Switch\n",
      "Skipping Switch\n",
      "Skipping Switch\n",
      "Skipping Switch\n",
      "Skipping Switch\n"
     ]
    },
    {
     "name": "stderr",
     "output_type": "stream",
     "text": [
      "121it [15:30,  7.99it/s]"
     ]
    },
    {
     "name": "stdout",
     "output_type": "stream",
     "text": [
      "Skipping Switch\n",
      "Skipping Switch\n",
      "Skipping Switch\n",
      "Skipping Switch\n",
      "Skipping Switch\n",
      "Skipping Switch\n",
      "Skipping Switch\n"
     ]
    },
    {
     "name": "stderr",
     "output_type": "stream",
     "text": [
      "124it [15:30,  9.96it/s]"
     ]
    },
    {
     "name": "stdout",
     "output_type": "stream",
     "text": [
      "Skipping Switch\n"
     ]
    },
    {
     "name": "stderr",
     "output_type": "stream",
     "text": [
      "302it [1:01:39, 12.78s/it]"
     ]
    },
    {
     "name": "stdout",
     "output_type": "stream",
     "text": [
      "PhaseFail Skipping\n"
     ]
    },
    {
     "name": "stderr",
     "output_type": "stream",
     "text": [
      "303it [1:01:41,  9.72s/it]"
     ]
    },
    {
     "name": "stdout",
     "output_type": "stream",
     "text": [
      "PhaseFail Skipping\n"
     ]
    },
    {
     "name": "stderr",
     "output_type": "stream",
     "text": [
      "304it [1:01:50,  9.39s/it]"
     ]
    },
    {
     "name": "stdout",
     "output_type": "stream",
     "text": [
      "PhaseFail Skipping\n"
     ]
    },
    {
     "name": "stderr",
     "output_type": "stream",
     "text": [
      "305it [1:01:54,  7.70s/it]"
     ]
    },
    {
     "name": "stdout",
     "output_type": "stream",
     "text": [
      "PhaseFail Skipping\n"
     ]
    },
    {
     "name": "stderr",
     "output_type": "stream",
     "text": [
      "306it [1:01:56,  6.20s/it]"
     ]
    },
    {
     "name": "stdout",
     "output_type": "stream",
     "text": [
      "PhaseFail Skipping\n"
     ]
    },
    {
     "name": "stderr",
     "output_type": "stream",
     "text": [
      "307it [1:01:59,  5.15s/it]"
     ]
    },
    {
     "name": "stdout",
     "output_type": "stream",
     "text": [
      "PhaseFail Skipping\n"
     ]
    },
    {
     "name": "stderr",
     "output_type": "stream",
     "text": [
      "308it [1:02:01,  4.37s/it]"
     ]
    },
    {
     "name": "stdout",
     "output_type": "stream",
     "text": [
      "PhaseFail Skipping\n"
     ]
    },
    {
     "name": "stderr",
     "output_type": "stream",
     "text": [
      "309it [1:02:06,  4.32s/it]"
     ]
    },
    {
     "name": "stdout",
     "output_type": "stream",
     "text": [
      "PhaseFail Skipping\n"
     ]
    },
    {
     "name": "stderr",
     "output_type": "stream",
     "text": [
      "310it [1:02:08,  3.80s/it]"
     ]
    },
    {
     "name": "stdout",
     "output_type": "stream",
     "text": [
      "PhaseFail Skipping\n"
     ]
    },
    {
     "name": "stderr",
     "output_type": "stream",
     "text": [
      "311it [1:02:11,  3.37s/it]"
     ]
    },
    {
     "name": "stdout",
     "output_type": "stream",
     "text": [
      "PhaseFail Skipping\n"
     ]
    },
    {
     "name": "stderr",
     "output_type": "stream",
     "text": [
      "312it [1:02:14,  3.23s/it]"
     ]
    },
    {
     "name": "stdout",
     "output_type": "stream",
     "text": [
      "PhaseFail Skipping\n"
     ]
    },
    {
     "name": "stderr",
     "output_type": "stream",
     "text": [
      "313it [1:02:16,  3.02s/it]"
     ]
    },
    {
     "name": "stdout",
     "output_type": "stream",
     "text": [
      "PhaseFail Skipping\n"
     ]
    },
    {
     "name": "stderr",
     "output_type": "stream",
     "text": [
      "314it [1:02:17,  2.37s/it]"
     ]
    },
    {
     "name": "stdout",
     "output_type": "stream",
     "text": [
      "PhaseFail Skipping\n"
     ]
    },
    {
     "name": "stderr",
     "output_type": "stream",
     "text": [
      "315it [1:02:19,  2.37s/it]"
     ]
    },
    {
     "name": "stdout",
     "output_type": "stream",
     "text": [
      "PhaseFail Skipping\n"
     ]
    },
    {
     "name": "stderr",
     "output_type": "stream",
     "text": [
      "316it [1:02:22,  2.51s/it]"
     ]
    },
    {
     "name": "stdout",
     "output_type": "stream",
     "text": [
      "PhaseFail Skipping\n"
     ]
    },
    {
     "name": "stderr",
     "output_type": "stream",
     "text": [
      "319it [1:02:25,  1.45s/it]"
     ]
    },
    {
     "name": "stdout",
     "output_type": "stream",
     "text": [
      "PhaseFail Skipping\n",
      "Skipping Switch\n",
      "Skipping Switch\n",
      "Skipping Switch\n"
     ]
    },
    {
     "name": "stderr",
     "output_type": "stream",
     "text": [
      "323it [1:02:25,  1.68it/s]"
     ]
    },
    {
     "name": "stdout",
     "output_type": "stream",
     "text": [
      "Skipping Switch\n",
      "Skipping Switch\n",
      "Skipping Switch\n",
      "Skipping Switch\n"
     ]
    },
    {
     "name": "stderr",
     "output_type": "stream",
     "text": [
      "327it [1:02:26,  3.33it/s]"
     ]
    },
    {
     "name": "stdout",
     "output_type": "stream",
     "text": [
      "Skipping Switch\n",
      "Skipping Switch\n",
      "Skipping Switch\n",
      "Skipping Switch\n"
     ]
    },
    {
     "name": "stderr",
     "output_type": "stream",
     "text": [
      "331it [1:02:26,  5.68it/s]"
     ]
    },
    {
     "name": "stdout",
     "output_type": "stream",
     "text": [
      "Skipping Switch\n",
      "Skipping Switch\n",
      "Skipping Switch\n",
      "Skipping Switch\n"
     ]
    },
    {
     "name": "stderr",
     "output_type": "stream",
     "text": [
      "335it [1:02:26,  8.48it/s]"
     ]
    },
    {
     "name": "stdout",
     "output_type": "stream",
     "text": [
      "Skipping Switch\n",
      "Skipping Switch\n",
      "Skipping Switch\n",
      "Skipping Switch\n"
     ]
    },
    {
     "name": "stderr",
     "output_type": "stream",
     "text": [
      "339it [1:02:27, 11.13it/s]"
     ]
    },
    {
     "name": "stdout",
     "output_type": "stream",
     "text": [
      "Skipping Switch\n",
      "Skipping Switch\n",
      "Skipping Switch\n",
      "Skipping Switch\n"
     ]
    },
    {
     "name": "stderr",
     "output_type": "stream",
     "text": [
      "343it [1:02:27, 12.84it/s]"
     ]
    },
    {
     "name": "stdout",
     "output_type": "stream",
     "text": [
      "Skipping Switch\n",
      "Skipping Switch\n",
      "Skipping Switch\n",
      "Skipping Switch\n"
     ]
    },
    {
     "name": "stderr",
     "output_type": "stream",
     "text": [
      "347it [1:02:27, 14.36it/s]"
     ]
    },
    {
     "name": "stdout",
     "output_type": "stream",
     "text": [
      "Skipping Switch\n",
      "Skipping Switch\n",
      "Skipping Switch\n",
      "Skipping Switch\n"
     ]
    },
    {
     "name": "stderr",
     "output_type": "stream",
     "text": [
      "351it [1:02:27, 15.02it/s]"
     ]
    },
    {
     "name": "stdout",
     "output_type": "stream",
     "text": [
      "Skipping Switch\n",
      "Skipping Switch\n",
      "Skipping Switch\n",
      "Skipping Switch\n"
     ]
    },
    {
     "name": "stderr",
     "output_type": "stream",
     "text": [
      "355it [1:02:28, 15.11it/s]"
     ]
    },
    {
     "name": "stdout",
     "output_type": "stream",
     "text": [
      "Skipping Switch\n",
      "Skipping Switch\n",
      "Skipping Switch\n"
     ]
    },
    {
     "name": "stderr",
     "output_type": "stream",
     "text": [
      "477it [1:42:23,  1.60s/it]"
     ]
    },
    {
     "name": "stdout",
     "output_type": "stream",
     "text": [
      "Skipping Switch\n",
      "Skipping Switch\n",
      "Skipping Switch\n",
      "Skipping Switch\n",
      "Skipping Switch\n",
      "Skipping Switch\n",
      "Skipping Switch\n",
      "Skipping Switch\n"
     ]
    },
    {
     "name": "stderr",
     "output_type": "stream",
     "text": [
      "485it [1:42:24,  1.60it/s]"
     ]
    },
    {
     "name": "stdout",
     "output_type": "stream",
     "text": [
      "Skipping Switch\n",
      "Skipping Switch\n",
      "Skipping Switch\n",
      "Skipping Switch\n",
      "Skipping Switch\n",
      "Skipping Switch\n",
      "Skipping Switch\n",
      "Skipping Switch\n",
      "Skipping Switch\n",
      "Skipping Switch\n"
     ]
    },
    {
     "name": "stderr",
     "output_type": "stream",
     "text": [
      "646it [2:50:03, 26.25s/it]"
     ]
    }
   ],
   "source": [
    "for idx,(session,clust) in tqdm(enumerate(zip(EnumSession,EnumClust))):\n",
    "    limitToUse = None#30\n",
    "    \n",
    "#     skip = True\n",
    "#     if session == 'BS_40_2_AC.pickle' and clust in [190]:\n",
    "#         limitToUse = 20\n",
    "#         skip = False\n",
    "#     if skip:\n",
    "#         continue\n",
    "    \n",
    "    plt.close('all')\n",
    "    sessionfile = ilep.loadSessionCached(act_directory,session)\n",
    "    if sessionfile.meta.task == 'switch':\n",
    "        print(\"Skipping Switch\")\n",
    "        continue\n",
    "    \n",
    "    fig = plt.figure(figsize=(10,6.25))#New Style\n",
    "    gs = fig.add_gridspec(2,2,height_ratios=[1,1],wspace=0.75,hspace=0.25)#Old hspace 0.125 #Old ratios [2,1]\n",
    "    #Stim\n",
    "    ax3 = plt.subplot(gs[0,0])#Raster\n",
    "    ax4 = plt.subplot(gs[1,0],sharex=ax3)#PSTH\n",
    "    #Choice\n",
    "    cax3 = plt.subplot(gs[0,1])#Raster\n",
    "    cax4 = plt.subplot(gs[1,1],sharex=cax3)#PSTH\n",
    "    \n",
    "    #visualizeClusterChoiceInternal(sessionfile,clust,ax1,ax2,Figure_start_time_ms='-250',Figure_end_time_ms=1000,xtickstouse=[-250,0,250,500,750,1000],align_to_choice=False,switch_cond='NA'):\n",
    "    try:\n",
    "        stim_success,stim_artists = visualizeClusterChoiceInternal(sessionfile,clust,ax3,ax4,limitToUse=limitToUse,Figure_start_time_ms=-50,Figure_end_time_ms=150,xtickstouse=[-50,0,50,100,150])\n",
    "    except:\n",
    "        stim_success = False\n",
    "    if not stim_success:\n",
    "        continue\n",
    "    try:\n",
    "        choice_success,choice_artists = visualizeClusterChoiceInternal(sessionfile,clust,cax3,cax4,limitToUse=limitToUse,align_to_choice=True,Figure_start_time_ms=-150,Figure_end_time_ms=50,xtickstouse=[-150,-100,-50,0,50])\n",
    "    except:\n",
    "        choice_success = False\n",
    "    if not choice_success:\n",
    "        continue\n",
    "    \n",
    "    FRmod = sessionfile.responsiveness[clust]['all_trials'].FRmodulation\n",
    "    Choicemod = sessionfile.responsiveness[clust]['go'].FRmodulation_choice\n",
    "    \n",
    "    ttl1 = ax3.set_title(FRmod)\n",
    "    ttl2 = cax3.set_title(Choicemod)\n",
    "    \n",
    "    #Determine FRmod category\n",
    "    FRmodCategory = 'ERROR'\n",
    "    try:\n",
    "        FRmod = sessionfile.responsiveness[clust]['all_trials'].FRmodulation\n",
    "        if FRmod < 3.5:\n",
    "            FRmodCategory = 'NCR'\n",
    "        elif FRmod > 5:\n",
    "            FRmodCategory = 'CR'\n",
    "        else:\n",
    "            FRmodCategory = 'Middle'\n",
    "    except Exception as e:\n",
    "        print(e)\n",
    "        pass\n",
    "    #Skip unidentified category neurons\n",
    "    if FRmodCategory in ['ERROR','nan',np.nan]:\n",
    "        print(\"FRmodFail Skipping\")\n",
    "        continue\n",
    "    region = sessionfile.meta.region\n",
    "    EIL = EILphases[idx]\n",
    "    #Skip unidentified phase neurons\n",
    "    if EIL in ['ERROR','nan',np.nan]:\n",
    "        print(\"PhaseFail Skipping\")\n",
    "        continue\n",
    "        \n",
    "#     break\n",
    "    try:\n",
    "        if not FRmodCategory == 'ERROR':\n",
    "            fig.savefig(os.path.join('D:\\\\\\\\Rasters','CombinedRasters',FRmodCategory,EIL,'pdfs',ilep.generateDateString(sessionfile)+' '+str(clust)+'.pdf'),transparent=False,facecolor=\"white\",dpi=400, bbox_extra_artists=(artists), bbox_inches='tight')\n",
    "            fig.savefig(os.path.join('D:\\\\\\\\Rasters','CombinedRasters',FRmodCategory,EIL,'pngs',ilep.generateDateString(sessionfile)+' '+str(clust)+'.png'),transparent=False,facecolor=\"white\",dpi=400, bbox_extra_artists=(artists), bbox_inches='tight')\n",
    "            fig.savefig(os.path.join('D:\\\\\\\\Rasters','CombinedRasters',FRmodCategory,'pdfs',ilep.generateDateString(sessionfile)+' '+str(clust)+'.pdf'),transparent=False,facecolor=\"white\",dpi=400, bbox_extra_artists=(artists), bbox_inches='tight')\n",
    "            fig.savefig(os.path.join('D:\\\\\\\\Rasters','CombinedRasters',FRmodCategory,'pngs',ilep.generateDateString(sessionfile)+' '+str(clust)+'.png'),transparent=False,facecolor=\"white\",dpi=400, bbox_extra_artists=(artists), bbox_inches='tight')\n",
    "        fig.savefig(os.path.join('D:\\\\\\\\Rasters','CombinedRasters','pdfs',ilep.generateDateString(sessionfile)+' '+str(clust)+'.pdf'),transparent=False,facecolor=\"white\",dpi=400, bbox_extra_artists=(artists), bbox_inches='tight')\n",
    "        fig.savefig(os.path.join('D:\\\\\\\\Rasters','CombinedRasters','pngs',ilep.generateDateString(sessionfile)+' '+str(clust)+'.png'),transparent=False,facecolor=\"white\",dpi=400, bbox_extra_artists=(artists), bbox_inches='tight')\n",
    "    except Exception as e:\n",
    "        print(e)"
   ]
  },
  {
   "cell_type": "code",
   "execution_count": null,
   "id": "fd958751-0514-43e0-a3f7-a0194f53e125",
   "metadata": {},
   "outputs": [],
   "source": []
  },
  {
   "cell_type": "code",
   "execution_count": null,
   "id": "7574a562-689c-4c7a-8b91-895fc9b51ab8",
   "metadata": {},
   "outputs": [],
   "source": []
  },
  {
   "cell_type": "code",
   "execution_count": null,
   "id": "80989b80-c5e4-42e9-96ce-01427e2b4773",
   "metadata": {},
   "outputs": [],
   "source": []
  },
  {
   "cell_type": "code",
   "execution_count": null,
   "id": "c6549eda-9fc4-4bb4-97b1-baa2f0831942",
   "metadata": {},
   "outputs": [],
   "source": []
  },
  {
   "cell_type": "code",
   "execution_count": null,
   "id": "d31f9a0b-6160-4bfb-bcc5-d4941bdcd096",
   "metadata": {},
   "outputs": [],
   "source": []
  },
  {
   "cell_type": "code",
   "execution_count": null,
   "id": "27836591-120e-4c92-8efc-4a1d120310db",
   "metadata": {},
   "outputs": [],
   "source": []
  },
  {
   "cell_type": "code",
   "execution_count": 35,
   "id": "9fabefc5-fbd8-456e-8c8e-2bbb8c9eab4e",
   "metadata": {},
   "outputs": [
    {
     "data": {
      "text/plain": [
       "[[0, 1, 2],\n",
       " [1, 2, 3],\n",
       " [2, 3, 4],\n",
       " [3, 4, 5],\n",
       " [4, 5, 6],\n",
       " [5, 6, 7],\n",
       " [6, 7, 8],\n",
       " [7, 8, 9],\n",
       " [8, 9, 10],\n",
       " [9, 10, 11]]"
      ]
     },
     "execution_count": 35,
     "metadata": {},
     "output_type": "execute_result"
    }
   ],
   "source": [
    "A"
   ]
  },
  {
   "cell_type": "code",
   "execution_count": 34,
   "id": "e830ed1b-1192-4343-a510-d51f3f17d31f",
   "metadata": {},
   "outputs": [],
   "source": [
    "A = [ [a,a+1,a+2] for a in range(10)]"
   ]
  },
  {
   "cell_type": "code",
   "execution_count": 36,
   "id": "f47aadd8-9658-44ea-912a-942288366759",
   "metadata": {},
   "outputs": [
    {
     "name": "stdout",
     "output_type": "stream",
     "text": [
      "[0]\n"
     ]
    },
    {
     "ename": "TypeError",
     "evalue": "only integer scalar arrays can be converted to a scalar index",
     "output_type": "error",
     "traceback": [
      "\u001b[1;31m---------------------------------------------------------------------------\u001b[0m",
      "\u001b[1;31mTypeError\u001b[0m                                 Traceback (most recent call last)",
      "\u001b[1;32m<ipython-input-36-c3053076bbe2>\u001b[0m in \u001b[0;36m<module>\u001b[1;34m\u001b[0m\n\u001b[0;32m      2\u001b[0m \u001b[1;32mfor\u001b[0m \u001b[0midx\u001b[0m\u001b[1;33m,\u001b[0m\u001b[1;33m(\u001b[0m\u001b[0m_\u001b[0m\u001b[1;33m,\u001b[0m\u001b[0mtrain_index\u001b[0m\u001b[1;33m)\u001b[0m \u001b[1;32min\u001b[0m \u001b[0menumerate\u001b[0m\u001b[1;33m(\u001b[0m\u001b[0mkf\u001b[0m\u001b[1;33m.\u001b[0m\u001b[0msplit\u001b[0m\u001b[1;33m(\u001b[0m\u001b[0mA\u001b[0m\u001b[1;33m)\u001b[0m\u001b[1;33m)\u001b[0m\u001b[1;33m:\u001b[0m\u001b[1;33m\u001b[0m\u001b[1;33m\u001b[0m\u001b[0m\n\u001b[0;32m      3\u001b[0m     \u001b[0mprint\u001b[0m\u001b[1;33m(\u001b[0m\u001b[0mtrain_index\u001b[0m\u001b[1;33m)\u001b[0m\u001b[1;33m\u001b[0m\u001b[1;33m\u001b[0m\u001b[0m\n\u001b[1;32m----> 4\u001b[1;33m     \u001b[0mprint\u001b[0m\u001b[1;33m(\u001b[0m\u001b[0mA\u001b[0m\u001b[1;33m[\u001b[0m\u001b[0mtrain_index\u001b[0m\u001b[1;33m]\u001b[0m\u001b[1;33m)\u001b[0m\u001b[1;33m\u001b[0m\u001b[1;33m\u001b[0m\u001b[0m\n\u001b[0m",
      "\u001b[1;31mTypeError\u001b[0m: only integer scalar arrays can be converted to a scalar index"
     ]
    }
   ],
   "source": [
    "kf = KFold(n_splits=10)\n",
    "for idx,(_,train_index) in enumerate(kf.split(A)):\n",
    "    print(train_index)\n",
    "    print(A[train_index])"
   ]
  },
  {
   "cell_type": "code",
   "execution_count": null,
   "id": "7897ff87-10f4-4c01-b6b6-d8e059b75d70",
   "metadata": {},
   "outputs": [],
   "source": []
  }
 ],
 "metadata": {
  "kernelspec": {
   "display_name": "Python 3 (ipykernel)",
   "language": "python",
   "name": "python3"
  },
  "language_info": {
   "codemirror_mode": {
    "name": "ipython",
    "version": 3
   },
   "file_extension": ".py",
   "mimetype": "text/x-python",
   "name": "python",
   "nbconvert_exporter": "python",
   "pygments_lexer": "ipython3",
   "version": "3.8.19"
  }
 },
 "nbformat": 4,
 "nbformat_minor": 5
}
