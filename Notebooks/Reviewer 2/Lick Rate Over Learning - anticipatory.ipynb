{
 "cells": [
  {
   "cell_type": "code",
   "execution_count": null,
   "id": "6f03ec62-6f67-495a-8af4-7fc84a6580f5",
   "metadata": {},
   "outputs": [],
   "source": []
  },
  {
   "cell_type": "code",
   "execution_count": 1,
   "id": "c336332f-44cb-4222-a4c7-adbc1d7664b7",
   "metadata": {
    "tags": []
   },
   "outputs": [
    {
     "ename": "ModuleNotFoundError",
     "evalue": "No module named 'ruptures'",
     "output_type": "error",
     "traceback": [
      "\u001b[1;31m---------------------------------------------------------------------------\u001b[0m",
      "\u001b[1;31mModuleNotFoundError\u001b[0m                       Traceback (most recent call last)",
      "Cell \u001b[1;32mIn[1], line 9\u001b[0m\n\u001b[0;32m      7\u001b[0m \u001b[38;5;28;01mimport\u001b[39;00m \u001b[38;5;21;01mtime\u001b[39;00m \u001b[38;5;28;01mas\u001b[39;00m \u001b[38;5;21;01mpytime\u001b[39;00m\n\u001b[0;32m      8\u001b[0m \u001b[38;5;28;01mimport\u001b[39;00m \u001b[38;5;21;01mstatsmodels\u001b[39;00m\u001b[38;5;21;01m.\u001b[39;00m\u001b[38;5;21;01mtsa\u001b[39;00m\u001b[38;5;21;01m.\u001b[39;00m\u001b[38;5;21;01mstattools\u001b[39;00m \u001b[38;5;28;01mas\u001b[39;00m \u001b[38;5;21;01mtsas\u001b[39;00m\n\u001b[1;32m----> 9\u001b[0m \u001b[38;5;28;01mimport\u001b[39;00m \u001b[38;5;21;01mruptures\u001b[39;00m \u001b[38;5;28;01mas\u001b[39;00m \u001b[38;5;21;01mrpt\u001b[39;00m\n\u001b[0;32m     10\u001b[0m sys\u001b[38;5;241m.\u001b[39mpath\u001b[38;5;241m.\u001b[39mappend(\u001b[38;5;124m'\u001b[39m\u001b[38;5;124m../..\u001b[39m\u001b[38;5;124m'\u001b[39m)\n\u001b[0;32m     11\u001b[0m \u001b[38;5;28;01mimport\u001b[39;00m \u001b[38;5;21;01mInsanallyLabEphysTools\u001b[39;00m \u001b[38;5;28;01mas\u001b[39;00m \u001b[38;5;21;01milep\u001b[39;00m\n",
      "\u001b[1;31mModuleNotFoundError\u001b[0m: No module named 'ruptures'"
     ]
    }
   ],
   "source": [
    "import sys, os\n",
    "import json, pickle\n",
    "import matplotlib.pyplot as plt\n",
    "import matplotlib as mpl\n",
    "import numpy as np\n",
    "import pandas as pd\n",
    "import time as pytime\n",
    "import statsmodels.tsa.stattools as tsas\n",
    "import ruptures as rpt\n",
    "sys.path.append('../..')\n",
    "import InsanallyLabEphysTools as ilep\n",
    "from scipy.stats import gaussian_kde, sem, ttest_ind, ttest_rel, norm, mannwhitneyu, linregress, wilcoxon, normaltest\n",
    "from tqdm import tqdm\n",
    "from types import SimpleNamespace\n",
    "from sklearn import linear_model\n",
    "from sklearn.model_selection import KFold\n",
    "import seaborn as sns\n",
    "import traceback\n",
    "from itertools import product\n",
    "from brokenaxes import brokenaxes\n",
    "import pingouin as pg\n",
    "import colorsys\n",
    "\n",
    "plt.rcParams['legend.fontsize'] = 'small'\n",
    "plt.rcParams['axes.labelsize'] = 'medium'\n",
    "plt.rcParams['axes.formatter.limits'] = [-2,3]\n",
    "plt.rcParams['axes.formatter.use_mathtext'] = True\n",
    "plt.rcParams['axes.spines.top'] = False\n",
    "plt.rcParams['axes.spines.right'] = False\n",
    "plt.rcParams['xtick.direction'] = 'in'\n",
    "plt.rcParams['ytick.direction'] = 'in'\n",
    "plt.rcParams['figure.dpi'] = '150'\n",
    "\n",
    "#Set global font parameters\n",
    "plt.rcParams['font.family'] = 'sans-serif'\n",
    "plt.rcParams['font.sans-serif'] = 'Arial'\n",
    "#Set font type to TrueType for compatibility\n",
    "plt.rcParams['pdf.fonttype'] = 42\n",
    "plt.rcParams['ps.fonttype'] = 42\n",
    "\n",
    "TARGET_COLOR = '#ff3654'\n",
    "NONTARGET_COLOR = '#5776ff'\n",
    "\n",
    "CR_COLOR = '#808080'\n",
    "NCR_COLOR = '#FF767C'\n",
    "CNO_COLOR = '#00BFFF'\n",
    "SWITCH_COLOR = '#B07A3B'\n",
    "LASER_COLOR = '#3375E9'\n",
    "GOOD_GREY = '#969696'\n",
    "GOOD_GREEN = '#32A852'\n",
    "NCR_COLOR_DESAT = '#D98C90'\n",
    "CR_COLOR_DESAT = '#A0A0A0'\n",
    "NCR_CR_cmap = mpl.colors.LinearSegmentedColormap.from_list('NCR-CR color map', [NCR_COLOR, CR_COLOR], N=1000)\n",
    "PHASE_COLORS = ['#DEB9E0','#B78AB9','#906D92','#ABC5E8','#869BB7','#5E6C80']#,'#6ded94','#50d979','#36bf5f']\n",
    "\n",
    "dualanimalnames = ['BS_40','BS_41','BS_42','BS_49','BS_50','BS_51','BS_56','BS_59','BS_67','BS_70','BS_72','BS_87','BS_108']\n",
    "danimals = ['DS_15','DS_19','DS_24','DS_27','DS_28']\n",
    "\n",
    "retroanimals = ['PB_86','BS_86','PB_92','BS_92','BS_100','BS_103','BS_111','BS_119','BS_123','BS_128','BS_131','BS_139','BS_163','BS_165']\n",
    "did_learn = ['BS_92','BS_103','BS_111','BS_179']\n",
    "did_not_learn = ['BS_86','BS_100','BS_119','BS_123','BS_128','BS_131','BS_163','BS_174']\n",
    "indeterminate = ['BS_139','BS_165','BS_191','BS_192']\n",
    "\n",
    "\n",
    "#BS_59\n",
    "dualanimalnames = ['BS_40','BS_41','BS_42','BS_49','BS_50','BS_51','BS_56','BS_59','BS_67','BS_70','BS_72','BS_87','BS_108']#,'DS_15','DS_19']\n",
    "opsinanimalnames = ['BS_86','BS_92','BS_100','BS_103','BS_111','BS_119','BS_123','BS_128','BS_131','BS_139','BS_163','BS_165','BS_174','BS_179','BS_191','BS_192']\n",
    "tuninganimalnames = ['BS_173','BS_175','BS_187','BS_188','BS_213','BS_214','TH_217','AE_235','AE_236','TH_237']\n",
    "unuseddualanimals = ['BS_78']\n",
    "danimals = ['DS_15','DS_19','DS_24','DS_27','DS_28','DS_16','DS_17','DS_22','DS_13','DS_23']\n",
    "\n",
    "#act_directory = 'D:\\\\Analysis_Cache_archived_Oct_27_2022'\n",
    "act_directory = '..\\\\..\\\\Data\\\\Analysis_Cache'#'C:\\\\Users\\insan\\\\Desktop\\\\Analysis_Cache_Aug23'\n",
    "beh_directory = '..\\\\..\\\\Data\\\\Behavioor'\n",
    "\n",
    "stim25sdecodingfilename = 'D:\\\\stimdecoding_25s.csv'\n",
    "stim25sopsinondecodingfilename = 'D:\\\\stimdecoding_25s_opsin_on.csv'\n",
    "stim25sopsinoffdecodingfilename = 'D:\\\\stimdecoding_25s_opsin_off.csv'\n",
    "\n",
    "current_version = 1 #June 22nd, 2023\n",
    "current_version = 2 #July 11th, 2023\n",
    "current_version = 3 #July 21th, 2023\n",
    "current_version = 4 #July 31th, 2023\n",
    "current_version = 5 #Aug 2nd, 2023\n",
    "current_version = 6 #Aug 12th, 2023\n",
    "current_version = 7 #Nov 6th, 2023\n",
    "\n",
    "stdfont = 14\n",
    "stdyfrac = 0.06"
   ]
  },
  {
   "cell_type": "code",
   "execution_count": null,
   "id": "b8514a17-65c6-463c-a4c9-36da1be8a60b",
   "metadata": {},
   "outputs": [],
   "source": [
    "animals = np.concatenate((dualanimalnames,['DS_15','DS_19']))\n",
    "# animals = ['BS_51','BS_52','BS_56','BS_59','BS_61']"
   ]
  },
  {
   "cell_type": "code",
   "execution_count": null,
   "id": "3e6484eb-c701-4747-ba80-512a09423054",
   "metadata": {},
   "outputs": [],
   "source": [
    "print(animals)"
   ]
  },
  {
   "cell_type": "code",
   "execution_count": null,
   "id": "65344493-e90f-4710-8ffc-f88948216d36",
   "metadata": {
    "tags": []
   },
   "outputs": [],
   "source": [
    "animalBehaviors = ilep.getAllBehavior(beh_directory)"
   ]
  },
  {
   "cell_type": "code",
   "execution_count": null,
   "id": "c1055b65-1168-4fd7-bf81-7566a2d00610",
   "metadata": {
    "tags": []
   },
   "outputs": [],
   "source": [
    "learning_phases,_,_ = ilep.calculateLearningPhasesV2(animals,animalBehaviors,plot=True)\n",
    "#plt.savefig(os.path.join('D:\\\\\\\\TempFigures','All ephys animals learning phases.pdf'),transparent=False,facecolor=\"white\")"
   ]
  },
  {
   "cell_type": "code",
   "execution_count": null,
   "id": "bb6915c6-3e08-48a8-821d-f8e999caa541",
   "metadata": {
    "tags": []
   },
   "outputs": [],
   "source": [
    "EnumSession = []\n",
    "EnumClust = []\n",
    "sessions = os.listdir(act_directory)\n",
    "for session in tqdm(sessions):\n",
    "    sessionfile = ilep.loadSessionCached(act_directory,session)\n",
    "    \n",
    "    if sessionfile.meta.task in ['passive no behavior']:\n",
    "        continue\n",
    "    if sessionfile.meta.task in ['tuning nonreversal','tuning switch','tuning reversal']:\n",
    "        continue\n",
    "    if sessionfile.meta.region != 'AC':\n",
    "        continue\n",
    "        \n",
    "    if sessionfile.meta.animal not in animals:\n",
    "        continue\n",
    "    \n",
    "    if sessionfile.meta.animal == 'BS_59':\n",
    "        print('A')\n",
    "    \n",
    "    EnumSession.append(session)\n",
    "    # for clust in sessionfile.clusters.good:\n",
    "    #     EnumSession.append(session)\n",
    "    #     EnumClust.append(clust)"
   ]
  },
  {
   "cell_type": "code",
   "execution_count": null,
   "id": "14bef975-10ee-46b3-93ac-bbc1da950e2c",
   "metadata": {},
   "outputs": [],
   "source": [
    "EILphases = np.full_like(EnumSession,np.nan)\n",
    "error_animals = []\n",
    "\n",
    "for idx,session in enumerate(tqdm(EnumSession)):\n",
    "    sessionfile = ilep.loadSessionCached(act_directory,session)\n",
    "    \n",
    "    try:\n",
    "        animal = sessionfile.meta.animal\n",
    "        day = sessionfile.meta.day_of_training\n",
    "        \n",
    "        if sessionfile.meta.task in ['switch','opto switch','tuning switch']:\n",
    "            EILphases[idx] = 'switch'\n",
    "\n",
    "        elif sessionfile.meta.task in ['nonreversal','opto nonreversal','tuning nonreversal'] and day in learning_phases[animal].pre_early_days:\n",
    "            EILphases[idx] = 'pre early'\n",
    "        elif sessionfile.meta.task in ['nonreversal','opto nonreversal','tuning nonreversal']  and day in learning_phases[animal].pre_late_days:\n",
    "            EILphases[idx] = 'pre late'\n",
    "        elif sessionfile.meta.task in ['nonreversal','opto nonreversal','tuning nonreversal'] and day in learning_phases[animal].pre_expert_days:\n",
    "            EILphases[idx] = 'pre expert'\n",
    "\n",
    "        elif sessionfile.meta.task in ['reversal','opto reversal','tuning reversal']  and day in learning_phases[animal].post_early_days:\n",
    "            EILphases[idx] = 'post early'\n",
    "        elif sessionfile.meta.task in ['reversal','opto reversal','tuning reversal']  and day in learning_phases[animal].post_late_days:\n",
    "            EILphases[idx] = 'post late'\n",
    "        elif sessionfile.meta.task in ['reversal','opto reversal','tuning reversal']  and day in learning_phases[animal].post_expert_days:\n",
    "            EILphases[idx] = 'post expert'\n",
    "    except Exception as e:\n",
    "        #print(ilep.generateDateString(sessionfile))\n",
    "        error_animals.append(sessionfile.meta.animal)\n",
    "        pass\n",
    "                             \n",
    "error_animals = np.unique(error_animals)\n",
    "print('errors for: '+str(error_animals))"
   ]
  },
  {
   "cell_type": "code",
   "execution_count": null,
   "id": "2a5e4dd0-a98e-47bf-a3bf-f4e807956fde",
   "metadata": {},
   "outputs": [],
   "source": []
  },
  {
   "cell_type": "code",
   "execution_count": null,
   "id": "ae9e3cd9-ecea-4907-83d4-291fa0e7acbf",
   "metadata": {},
   "outputs": [],
   "source": []
  },
  {
   "cell_type": "code",
   "execution_count": null,
   "id": "6d4dc207-692a-49a0-ac41-c817b1478ffc",
   "metadata": {},
   "outputs": [],
   "source": []
  },
  {
   "cell_type": "code",
   "execution_count": null,
   "id": "983a0386-6447-4f47-85b2-505aa8bfb223",
   "metadata": {},
   "outputs": [],
   "source": []
  },
  {
   "cell_type": "code",
   "execution_count": null,
   "id": "c15519c7-97dc-460a-a093-17dc57ce69ee",
   "metadata": {},
   "outputs": [],
   "source": [
    "def clean_up_lick_train(lick_train_ms,timeout_ms = 10):\n",
    "    actual_licks = []\n",
    "    last_lick = -np.Inf\n",
    "    for lick in lick_train_ms:\n",
    "        if (lick - last_lick) >= timeout_ms:\n",
    "            actual_licks.append(lick)\n",
    "        last_lick = lick\n",
    "    return np.array(actual_licks)"
   ]
  },
  {
   "cell_type": "code",
   "execution_count": null,
   "id": "3157d496-ff92-4a29-ae71-cdbeb7cf6e44",
   "metadata": {
    "tags": []
   },
   "outputs": [],
   "source": [
    "cellstouseFR = 'all cells'\n",
    "#cellstouseFR = 'task encoders'\n",
    "\n",
    "animals_list = []\n",
    "sessions_list = []\n",
    "learning_phase_list = []\n",
    "avg_lick_rate_list = []\n",
    "avg_go_lick_rate_list = []\n",
    "post_stim_limit = []\n",
    "\n",
    "post_stim = 0.25 #seconds\n",
    "for idx,session in tqdm(enumerate(EnumSession)):\n",
    "    sessionfile = ilep.loadSessionCached(act_directory,session)\n",
    "    licks = sessionfile.behavior.lick_times\n",
    "   \n",
    "    allconds = ilep.getAllConditions(sessionfile,clust=None)\n",
    "    \n",
    "    number_of_licks = []\n",
    "    trials = allconds['all_trials'].trials\n",
    "    for trial in trials:\n",
    "        trialstart = sessionfile.trials.starts[trial] - 0.05 * sessionfile.meta.fs\n",
    "        trialend = trialstart + post_stim * sessionfile.meta.fs\n",
    "        in_trial_licks = np.logical_and(np.greater(licks,trialstart),np.less(licks,trialend))\n",
    "        in_trial_licks = licks[in_trial_licks]\n",
    "        in_trial_licks = clean_up_lick_train(in_trial_licks/30, timeout_ms = 1)\n",
    "        number_of_licks.append(len(in_trial_licks))\n",
    "        \n",
    "    number_of_licks_go_only = []\n",
    "    trials = allconds['go'].trials\n",
    "    for trial in trials:\n",
    "        trialstart = sessionfile.trials.starts[trial] - 0.05 * sessionfile.meta.fs\n",
    "        trialend = trialstart + post_stim * sessionfile.meta.fs\n",
    "        in_trial_licks = np.logical_and(np.greater(licks,trialstart),np.less(licks,trialend))\n",
    "        in_trial_licks = licks[in_trial_licks]\n",
    "        in_trial_licks = clean_up_lick_train(in_trial_licks/30, timeout_ms = 1)\n",
    "        number_of_licks_go_only.append(len(in_trial_licks))\n",
    "\n",
    "    animals_list.append(sessionfile.meta.animal)\n",
    "    sessions_list.append(session)\n",
    "    learning_phase_list.append(EILphases[idx])\n",
    "\n",
    "    avg_lick_rate_list.append(np.nanmean(number_of_licks))\n",
    "    avg_go_lick_rate_list.append(np.nanmean(number_of_licks_go_only))\n",
    "    post_stim_limit.append(post_stim)"
   ]
  },
  {
   "cell_type": "code",
   "execution_count": null,
   "id": "0add5516-d433-459d-aba3-776a0043f058",
   "metadata": {},
   "outputs": [],
   "source": []
  },
  {
   "cell_type": "code",
   "execution_count": null,
   "id": "9d4c1e58-b920-4d6b-a95a-d5f206504034",
   "metadata": {},
   "outputs": [],
   "source": [
    "df_dict = dict()\n",
    "df_dict['animal'] = animals_list\n",
    "df_dict['session'] = sessions_list\n",
    "df_dict['learning phase'] = learning_phase_list\n",
    "\n",
    "df_dict['average lick rate'] = avg_lick_rate_list\n",
    "df_dict['average go lick rate'] = avg_go_lick_rate_list\n",
    "df_dict['post-stimulus time limit'] = post_stim_limit\n",
    "\n",
    "df = pd.DataFrame(df_dict)"
   ]
  },
  {
   "cell_type": "code",
   "execution_count": null,
   "id": "c51952dd-c370-4340-a43a-80a627c7d830",
   "metadata": {},
   "outputs": [],
   "source": [
    "df"
   ]
  },
  {
   "cell_type": "code",
   "execution_count": null,
   "id": "ae69633b-491b-4da0-85a2-bc04629eaa2d",
   "metadata": {},
   "outputs": [],
   "source": []
  },
  {
   "cell_type": "code",
   "execution_count": null,
   "id": "3e0a0067-9777-473a-a6d2-bdce55e3567c",
   "metadata": {},
   "outputs": [],
   "source": []
  },
  {
   "cell_type": "code",
   "execution_count": null,
   "id": "0e3ead0d-5e0b-41d0-b297-2ef667d88aa4",
   "metadata": {},
   "outputs": [],
   "source": []
  },
  {
   "cell_type": "code",
   "execution_count": null,
   "id": "9581fc8e-2fc0-4ae9-b2f4-0c430f3c9ee9",
   "metadata": {},
   "outputs": [],
   "source": []
  },
  {
   "cell_type": "code",
   "execution_count": null,
   "id": "ae6a57f0-a217-4807-a4c8-b33167855b84",
   "metadata": {},
   "outputs": [],
   "source": []
  },
  {
   "cell_type": "code",
   "execution_count": null,
   "id": "a385cc65-04db-4d4d-9352-6b35183bd4f1",
   "metadata": {},
   "outputs": [],
   "source": []
  },
  {
   "cell_type": "code",
   "execution_count": null,
   "id": "8fb3c49c-8bed-4402-89af-d2a968494253",
   "metadata": {},
   "outputs": [],
   "source": [
    "prelate = df[df['learning phase'] == 'post late']"
   ]
  },
  {
   "cell_type": "code",
   "execution_count": null,
   "id": "508b3fed-6a78-45ba-b1a7-6554ad7fa5a7",
   "metadata": {},
   "outputs": [],
   "source": [
    "len(prelate)"
   ]
  },
  {
   "cell_type": "code",
   "execution_count": null,
   "id": "ab992803-09fc-4670-b4e0-31e77aa11c6e",
   "metadata": {},
   "outputs": [],
   "source": [
    "np.max(df['average lick rate'])/0.2"
   ]
  },
  {
   "cell_type": "code",
   "execution_count": null,
   "id": "b650040c-5cbc-45aa-b6cb-353ec67bb7b3",
   "metadata": {},
   "outputs": [],
   "source": []
  },
  {
   "cell_type": "code",
   "execution_count": 12,
   "id": "4d67378f-da0e-4f11-a605-e89f9dfb1696",
   "metadata": {},
   "outputs": [],
   "source": [
    "lick_rate_preearly = []\n",
    "lick_rate_prelate = []\n",
    "lick_rate_preexpert = []\n",
    "lick_rate_postearly = []\n",
    "lick_rate_postlate = []\n",
    "lick_rate_postexpert = []\n",
    "\n",
    "post_stim = df['post-stimulus time limit'][0]\n",
    "\n",
    "for row in df.iloc:\n",
    "    if row['learning phase'] == 'pre early':\n",
    "        lick_rate_preearly.append(row['average lick rate']/post_stim)\n",
    "    if row['learning phase'] == 'pre late':\n",
    "        lick_rate_prelate.append(row['average lick rate']/post_stim)\n",
    "    if row['learning phase'] == 'pre expert':\n",
    "        lick_rate_preexpert.append(row['average lick rate']/post_stim)\n",
    "        \n",
    "    if row['learning phase'] == 'post early':\n",
    "        lick_rate_postearly.append(row['average lick rate']/post_stim)\n",
    "    if row['learning phase'] == 'post late':\n",
    "        lick_rate_postlate.append(row['average lick rate']/post_stim)\n",
    "    if row['learning phase'] == 'post expert':\n",
    "        lick_rate_postexpert.append(row['average lick rate']/post_stim)\n",
    "\n",
    "lick_rate_preearly = np.array(lick_rate_preearly)\n",
    "lick_rate_prelate = np.array(lick_rate_prelate)\n",
    "lick_rate_preexpert = np.array(lick_rate_preexpert)\n",
    "lick_rate_postearly = np.array(lick_rate_postearly)\n",
    "lick_rate_postlate = np.array(lick_rate_postlate)\n",
    "lick_rate_postexpert = np.array(lick_rate_postexpert)"
   ]
  },
  {
   "cell_type": "code",
   "execution_count": null,
   "id": "ac7ce504-75b6-4810-a45d-e9b98b4c87e9",
   "metadata": {},
   "outputs": [],
   "source": []
  },
  {
   "cell_type": "code",
   "execution_count": null,
   "id": "736ffa18-e8ff-4d24-9163-830544dd3ede",
   "metadata": {},
   "outputs": [],
   "source": []
  },
  {
   "cell_type": "code",
   "execution_count": null,
   "id": "6eb557c2-0d10-41b0-902f-0aec3f32fd30",
   "metadata": {},
   "outputs": [],
   "source": []
  },
  {
   "cell_type": "code",
   "execution_count": null,
   "id": "084fd1bf-a578-4821-9924-f15d5eb1c0d1",
   "metadata": {},
   "outputs": [],
   "source": []
  },
  {
   "cell_type": "code",
   "execution_count": null,
   "id": "da9e62b9-e271-47bf-b1e4-d345730026a1",
   "metadata": {},
   "outputs": [],
   "source": []
  },
  {
   "cell_type": "code",
   "execution_count": 16,
   "id": "7abe2f2d-d4be-41c0-bc29-26321a20245e",
   "metadata": {},
   "outputs": [
    {
     "name": "stdout",
     "output_type": "stream",
     "text": [
      "1.163158407624725\n",
      "2.6838694791003848\n",
      "2.840975452883259\n",
      "3.2961510291550917\n",
      "3.590554849032686\n",
      "2.773990245376897\n"
     ]
    },
    {
     "data": {
      "image/png": "[encoded data removed]",
      "text/plain": [
       "<Figure size 559.125x677.25 with 1 Axes>"
      ]
     },
     "metadata": {},
     "output_type": "display_data"
    }
   ],
   "source": [
    "def add_axis_size(fig, ax_w, ax_h, left, bottom):\n",
    "    fig_w, fig_h = fig.get_size_inches()\n",
    "    ax = fig.add_axes([left/fig_w, bottom/fig_h, ax_w/fig_w, ax_h/fig_h])\n",
    "    return ax\n",
    "\n",
    "def make_axis_size(ax_w, ax_h, left=.3, bottom=.3, right=0, top=0):\n",
    "    fig_w = (ax_w + left + right) * 1.05\n",
    "    fig_h = (ax_h + bottom + top) * 1.05\n",
    "    fig = plt.figure(figsize=(fig_w, fig_h))\n",
    "    ax = add_axis_size(fig, ax_w, ax_h, left, bottom)\n",
    "    return fig, ax\n",
    "\n",
    "fig,ax = make_axis_size(3.25, 4, left=.3, bottom=.3, right=0, top=0)\n",
    "switch_offset = 0.25\n",
    "\n",
    "################################################################################################################\n",
    "\n",
    "size = 20\n",
    "summary_size=150\n",
    "summary_width=1.25#0.75\n",
    "\n",
    "mn = 3.5\n",
    "spread = 2.5\n",
    "# colors = NCR_CR_cmap( (Y-(mn-spread/2))/ (spread) )\n",
    "    \n",
    "###\n",
    "    \n",
    "FRmod_baseline_median = 3.5\n",
    "data = [lick_rate_preearly,lick_rate_prelate,lick_rate_preexpert,lick_rate_postearly,lick_rate_postlate,lick_rate_postexpert]\n",
    "labels = ['Early','Late','Expert','Early','Late','Expert']\n",
    "numCon = len(data)\n",
    "\n",
    "###\n",
    "X = [np.ones(len(l))*idx + polarity*switch_offset for idx,(l,polarity) in enumerate(zip(data,[-1,-1,-1,1,1,1]))]\n",
    "_,Y = ilep.violin(np.concatenate(X),np.concatenate(data),width=0.75,minjitter=0.075)\n",
    "X,_ = ilep.violin(np.concatenate(X),np.log10(np.concatenate(data)),width=0.75,minjitter=0.075)\n",
    "colors = NCR_CR_cmap( (Y-(mn-spread/2))/ (spread) )\n",
    "\n",
    "# ax.scatter(X, Y, s=size, ec=colors, fc='white', lw=1,zorder=-10,clip_on=False)\n",
    "# ax.set_yscale('log',subs=[])\n",
    "\n",
    "#Plot summary\n",
    "for idx,(column,polarity) in enumerate(zip(data,[-1,-1,-1,1,1,1])):\n",
    "    column = ilep.rmnan(column)\n",
    "    percentCR = np.nanmean(np.greater(column,FRmod_baseline_median))*100\n",
    "    \n",
    "    eye_color= NCR_CR_cmap((percentCR-40)/20)\n",
    "    border_color = 'k'#NCR_CR_cmap((percentCR-40)/20)  \n",
    "#     r,g,b = mpl.colors.to_rgb(eye_color)\n",
    "#     h,l,s = colorsys.rgb_to_hls(r,g,b)\n",
    "    \n",
    "    # Q1, median, Q3 = (np.percentile(column, q) for q in [25, 50, 75])\n",
    "    median = np.mean(column)\n",
    "    Q1 = median - sem(column)\n",
    "    Q3 = median + sem(column)\n",
    "\n",
    "    print(median)\n",
    "    \n",
    "    ax.scatter([idx+polarity*switch_offset], [median], ec=border_color,fc=eye_color, s=summary_size,lw=summary_width, zorder=10)\n",
    "    ax.plot([idx+polarity*switch_offset, idx+polarity*switch_offset], [Q1, Q3], c=border_color, lw=summary_width, zorder=9, solid_capstyle='round')\n",
    "\n",
    "\n",
    "################################################################################################################\n",
    "labels = ['Early','Late','Expert','Early','Late','Expert']\n",
    "\n",
    "ax.set_ylim([0,10])\n",
    "# ax.set_yticks([0,2,4,6,8])\n",
    "ylab = ax.set_ylabel('Average lick rate (licks/second)')\n",
    "\n",
    "ax.set_xlim([-0.75-switch_offset,5.75+switch_offset])\n",
    "ax.set_xticks([0-switch_offset,1-switch_offset,2-switch_offset,3+switch_offset,4+switch_offset,5+switch_offset])\n",
    "ax.set_xticklabels(labels)\n",
    "# xlab = ax.set_xlabel('Example X label')\n",
    "\n",
    "xtick_pos_pre = ax.get_xticks()[1]\n",
    "xtick_pos_post = ax.get_xticks()[4]\n",
    "Yval = ilep.getPrePostLabelYval(ax.get_ylim(),Yfrac=-2*stdyfrac,log=False)\n",
    "t1 = ax.text(xtick_pos_pre, Yval, 'Pre', ha='center', va='bottom', fontsize=stdfont,color='k')\n",
    "t2 = ax.text(xtick_pos_post, Yval, 'Post', ha='center', va='bottom',  fontsize=stdfont,color='k')\n",
    "ax.annotate('', xy=(0.03, -stdyfrac), xycoords='axes fraction', xytext=(0.49, -stdyfrac),arrowprops=dict(arrowstyle='-', color='black'))\n",
    "ax.annotate('', xy=(0.53, -stdyfrac), xycoords='axes fraction', xytext=(0.99, -stdyfrac),arrowprops=dict(arrowstyle='-', color='black'))\n",
    "\n",
    "ax.tick_params(direction='in', length=6, width=1)\n",
    "\n",
    "for item in ([ax.title, ax.xaxis.label, ax.yaxis.label] +\n",
    "    ax.get_xticklabels() + ax.get_yticklabels()):\n",
    "    item.set_fontsize(stdfont)\n",
    "for item in (ax.get_xticklabels()):\n",
    "    item.set_fontsize(stdfont*0.9)\n",
    "    pass\n",
    "\n",
    "Y = np.mean(ax.get_ylim())\n",
    "Y = np.mean((ax.get_ylim()))\n",
    "t = ax.text(2.5,Y,'Reversal',rotation=90,fontsize=stdfont,color=SWITCH_COLOR,horizontalalignment='center',verticalalignment='center')\n",
    "ax.plot([2.5]*2,[ax.get_ylim()[0],Y-1],lw=1,color=SWITCH_COLOR)\n",
    "ax.plot([2.5]*2,[ax.get_ylim()[1],Y+1],lw=1,color=SWITCH_COLOR)\n",
    "\n",
    "ax.fill_between(ax.get_xlim(),[ax.get_ylim()[0]]*2,[ax.get_ylim()[1]*2]*2,color='white',alpha=0.4,zorder=-5,clip_on=False)\n",
    "\n",
    "ttl = ax.set_title(' ')\n",
    "artists = [ylab,t1,t2,ttl]\n",
    "fig.savefig(os.path.join('C:\\\\\\\\Users','4thgr','Downloads','Lick rate all trials V'+str(current_version)+'.pdf'),transparent=False,facecolor=\"white\",dpi=400, bbox_extra_artists=(artists), bbox_inches='tight')"
   ]
  },
  {
   "cell_type": "code",
   "execution_count": null,
   "id": "d499a406-d918-4642-a042-c3740982d1ca",
   "metadata": {},
   "outputs": [],
   "source": []
  },
  {
   "cell_type": "code",
   "execution_count": 24,
   "id": "f5aca76e-47cf-470f-ac48-0222fcb4e477",
   "metadata": {},
   "outputs": [
    {
     "data": {
      "text/plain": [
       "6"
      ]
     },
     "execution_count": 24,
     "metadata": {},
     "output_type": "execute_result"
    }
   ],
   "source": [
    "len(lick_rate_preearly)"
   ]
  },
  {
   "cell_type": "code",
   "execution_count": 22,
   "id": "beab07dd-3d1a-4a60-83f5-e3a22394a845",
   "metadata": {},
   "outputs": [
    {
     "name": "stdout",
     "output_type": "stream",
     "text": [
      "NormaltestResult(statistic=5.9899239324962705, pvalue=0.05003853020343615)\n",
      "NormaltestResult(statistic=6.134308849235904, pvalue=0.046553437874286674)\n",
      "NormaltestResult(statistic=2.414448649618468, pvalue=0.29902612799540845)\n",
      "NormaltestResult(statistic=0.7329521178796852, pvalue=0.6931727315739682)\n",
      "NormaltestResult(statistic=1.0169071064855935, pvalue=0.6014249316649758)\n"
     ]
    },
    {
     "name": "stderr",
     "output_type": "stream",
     "text": [
      "C:\\Users\\4thgr\\anaconda3\\envs\\InsanallyLabEnv\\lib\\site-packages\\scipy\\stats\\_stats_py.py:1736: UserWarning: kurtosistest only valid for n>=20 ... continuing anyway, n=17\n",
      "  warnings.warn(\"kurtosistest only valid for n>=20 ... continuing \"\n",
      "C:\\Users\\4thgr\\anaconda3\\envs\\InsanallyLabEnv\\lib\\site-packages\\scipy\\stats\\_stats_py.py:1736: UserWarning: kurtosistest only valid for n>=20 ... continuing anyway, n=11\n",
      "  warnings.warn(\"kurtosistest only valid for n>=20 ... continuing \"\n"
     ]
    }
   ],
   "source": [
    "# print(normaltest(lick_rate_preearly))\n",
    "print(normaltest(lick_rate_prelate))\n",
    "print(normaltest(lick_rate_preexpert))\n",
    "\n",
    "print(normaltest(lick_rate_postearly))\n",
    "print(normaltest(lick_rate_postlate))\n",
    "print(normaltest(lick_rate_postexpert))"
   ]
  },
  {
   "cell_type": "code",
   "execution_count": null,
   "id": "c895ae6b-417e-4996-b3bf-a6f527c09d07",
   "metadata": {},
   "outputs": [],
   "source": []
  },
  {
   "cell_type": "code",
   "execution_count": 23,
   "id": "f816409b-ecff-4c85-82bc-27d3e9e931f6",
   "metadata": {},
   "outputs": [
    {
     "name": "stdout",
     "output_type": "stream",
     "text": [
      "pre-early   n = 6\n",
      "pre-late    n = 17\n",
      "pre-expert  n = 11\n",
      "post-early  n = 33\n",
      "post-late   n = 32\n",
      "post-expert n = 29\n",
      "pre-early  to pre-late   : 0.23426154318602832\n",
      "pre-late   to pre-expert : 0.39714739546823563\n",
      "pre-early  to pre-expert : 0.11070847178550221\n",
      "post-early to post-late  : 0.39714739546823563\n",
      "post-late  to post-expert: 0.11070847178550221\n",
      "post-early to post-expert: 0.23745693182461164\n"
     ]
    }
   ],
   "source": [
    "#Use this. Post is normal, Pre is not\n",
    "data_dec = SimpleNamespace()\n",
    "data_dec.preearly = np.abs(lick_rate_preearly)\n",
    "data_dec.prelate = np.abs(lick_rate_prelate)\n",
    "data_dec.preexpert = np.abs(lick_rate_preexpert)\n",
    "data_dec.postearly = np.abs(lick_rate_postearly)\n",
    "data_dec.postlate = np.abs(lick_rate_postlate)\n",
    "data_dec.postexpert = np.abs(lick_rate_postexpert)\n",
    "ilep.mannwhitneycompareall(data_dec)\n",
    "pass"
   ]
  },
  {
   "cell_type": "code",
   "execution_count": 19,
   "id": "4e16a89a-5a6c-4196-a088-11ea37f427ad",
   "metadata": {},
   "outputs": [
    {
     "name": "stdout",
     "output_type": "stream",
     "text": [
      "(array([False, False, False, False, False, False]), array([0.37683912, 0.82793269, 0.23597586, 0.81978062, 0.23597586,\n",
      "       0.43824766]))\n"
     ]
    }
   ],
   "source": [
    "p1 = ttest_ind(lick_rate_preearly,lick_rate_prelate).pvalue\n",
    "p2 = ttest_ind(lick_rate_prelate,lick_rate_preexpert).pvalue\n",
    "p3 = ttest_ind(lick_rate_preearly,lick_rate_preexpert).pvalue\n",
    "p4 = ttest_ind(lick_rate_postearly,lick_rate_postlate).pvalue\n",
    "p5 = ttest_ind(lick_rate_postlate,lick_rate_postexpert).pvalue\n",
    "p6 = ttest_ind(lick_rate_postearly,lick_rate_postexpert).pvalue\n",
    "ps = [p1,p2,p3,p4,p5,p6]\n",
    "p_corrs = pg.multicomp(ps)\n",
    "print(p_corrs)"
   ]
  },
  {
   "cell_type": "code",
   "execution_count": null,
   "id": "9ed6e3d7-0473-4e29-a9e6-825911a5172d",
   "metadata": {},
   "outputs": [],
   "source": []
  },
  {
   "cell_type": "code",
   "execution_count": null,
   "id": "622333c5-3e12-49dd-accd-0556beac74e6",
   "metadata": {},
   "outputs": [],
   "source": []
  },
  {
   "cell_type": "code",
   "execution_count": null,
   "id": "4352c2ef-629e-44f0-a2b9-33ad1e0b21a1",
   "metadata": {},
   "outputs": [],
   "source": []
  },
  {
   "cell_type": "code",
   "execution_count": 19,
   "id": "db298137-864c-462e-b40f-b26b76ab902e",
   "metadata": {},
   "outputs": [
    {
     "data": {
      "text/plain": [
       "array([2.11382114, 0.30588235, 0.1       , 0.13333333, 1.51162791,\n",
       "       2.81428571])"
      ]
     },
     "execution_count": 19,
     "metadata": {},
     "output_type": "execute_result"
    }
   ],
   "source": [
    "lick_rate_preearly"
   ]
  },
  {
   "cell_type": "code",
   "execution_count": 20,
   "id": "0dfdbb6c-1a5b-44e2-9663-d5492fc478a0",
   "metadata": {},
   "outputs": [
    {
     "data": {
      "text/plain": [
       "array([2.725     , 2.33183857, 1.16071429, 0.92465753, 1.41      ,\n",
       "       1.6765873 , 1.80300501, 2.65833333, 1.37931034, 2.43902439,\n",
       "       0.57692308, 5.86538462, 3.87867647, 1.37184116, 6.67400881,\n",
       "       6.95856874, 1.79190751])"
      ]
     },
     "execution_count": 20,
     "metadata": {},
     "output_type": "execute_result"
    }
   ],
   "source": [
    "lick_rate_prelate"
   ]
  },
  {
   "cell_type": "code",
   "execution_count": 21,
   "id": "ee428841-41c6-4337-9808-1268b7a59d25",
   "metadata": {},
   "outputs": [
    {
     "data": {
      "text/plain": [
       "TtestResult(statistic=-1.7528860346049433, pvalue=0.09420978072500452, df=21.0)"
      ]
     },
     "execution_count": 21,
     "metadata": {},
     "output_type": "execute_result"
    }
   ],
   "source": [
    "ttest_ind(lick_rate_preearly,lick_rate_prelate)"
   ]
  },
  {
   "cell_type": "code",
   "execution_count": null,
   "id": "9e00843f-57e4-4d93-b8d5-b7f9486bff7a",
   "metadata": {},
   "outputs": [],
   "source": []
  },
  {
   "cell_type": "code",
   "execution_count": null,
   "id": "ad219b34-9d8e-4d3e-b01f-3d34cf1d38b5",
   "metadata": {},
   "outputs": [],
   "source": []
  },
  {
   "cell_type": "code",
   "execution_count": null,
   "id": "e5a844f0-7104-41a8-ba67-a3f03f3cbcd9",
   "metadata": {},
   "outputs": [],
   "source": []
  },
  {
   "cell_type": "code",
   "execution_count": null,
   "id": "d094aba4-ce54-4b5c-99f6-f237aca07c5b",
   "metadata": {},
   "outputs": [],
   "source": []
  },
  {
   "cell_type": "code",
   "execution_count": null,
   "id": "8752d972-d96e-4bae-ad1e-386bf478462f",
   "metadata": {},
   "outputs": [],
   "source": []
  },
  {
   "cell_type": "code",
   "execution_count": 17,
   "id": "555bb317-b6c2-43c2-81a3-30b5838c5838",
   "metadata": {},
   "outputs": [
    {
     "data": {
      "text/plain": [
       "array([2.57963446, 7.15365239, 4.8       , 3.75853018, 2.57963446,\n",
       "       4.8       ])"
      ]
     },
     "execution_count": 17,
     "metadata": {},
     "output_type": "execute_result"
    }
   ],
   "source": [
    "lick_rate_prelate"
   ]
  },
  {
   "cell_type": "code",
   "execution_count": null,
   "id": "e8d2c7c9-703c-4ca0-9976-715a9a2fd71c",
   "metadata": {},
   "outputs": [],
   "source": []
  },
  {
   "cell_type": "code",
   "execution_count": 21,
   "id": "64a09d2c-bdf5-4bad-96d7-ed26dadcf04d",
   "metadata": {},
   "outputs": [
    {
     "data": {
      "text/plain": [
       "5     3.523114\n",
       "6     3.061224\n",
       "16    1.927461\n",
       "17    1.956522\n",
       "18    2.087500\n",
       "19    2.827068\n",
       "20    2.579634\n",
       "21    3.758530\n",
       "22    1.821326\n",
       "44    3.529412\n",
       "54    4.800000\n",
       "55    5.615385\n",
       "56    6.074074\n",
       "61    1.645933\n",
       "62    7.153652\n",
       "63    7.731020\n",
       "78    1.902098\n",
       "Name: average go lick rate, dtype: float64"
      ]
     },
     "execution_count": 21,
     "metadata": {},
     "output_type": "execute_result"
    }
   ],
   "source": [
    "df[df['learning phase'] == 'pre late']['average go lick rate']/post_stim"
   ]
  },
  {
   "cell_type": "code",
   "execution_count": 22,
   "id": "26706099-1291-4784-b194-5064340a7de7",
   "metadata": {},
   "outputs": [
    {
     "data": {
      "text/html": [
       "<div>\n",
       "<style scoped>\n",
       "    .dataframe tbody tr th:only-of-type {\n",
       "        vertical-align: middle;\n",
       "    }\n",
       "\n",
       "    .dataframe tbody tr th {\n",
       "        vertical-align: top;\n",
       "    }\n",
       "\n",
       "    .dataframe thead th {\n",
       "        text-align: right;\n",
       "    }\n",
       "</style>\n",
       "<table border=\"1\" class=\"dataframe\">\n",
       "  <thead>\n",
       "    <tr style=\"text-align: right;\">\n",
       "      <th></th>\n",
       "      <th>animal</th>\n",
       "      <th>session</th>\n",
       "      <th>learning phase</th>\n",
       "      <th>average lick rate</th>\n",
       "      <th>average go lick rate</th>\n",
       "      <th>post-stimulus time limit</th>\n",
       "    </tr>\n",
       "  </thead>\n",
       "  <tbody>\n",
       "    <tr>\n",
       "      <th>5</th>\n",
       "      <td>BS_40</td>\n",
       "      <td>BS_40_10_AC.pickle</td>\n",
       "      <td>pre late</td>\n",
       "      <td>0.605000</td>\n",
       "      <td>0.880779</td>\n",
       "      <td>0.25</td>\n",
       "    </tr>\n",
       "    <tr>\n",
       "      <th>6</th>\n",
       "      <td>BS_40</td>\n",
       "      <td>BS_40_11_AC.pickle</td>\n",
       "      <td>pre late</td>\n",
       "      <td>0.504484</td>\n",
       "      <td>0.765306</td>\n",
       "      <td>0.25</td>\n",
       "    </tr>\n",
       "    <tr>\n",
       "      <th>16</th>\n",
       "      <td>BS_40</td>\n",
       "      <td>BS_40_2_AC.pickle</td>\n",
       "      <td>pre late</td>\n",
       "      <td>0.244898</td>\n",
       "      <td>0.481865</td>\n",
       "      <td>0.25</td>\n",
       "    </tr>\n",
       "    <tr>\n",
       "      <th>17</th>\n",
       "      <td>BS_40</td>\n",
       "      <td>BS_40_3_AC.pickle</td>\n",
       "      <td>pre late</td>\n",
       "      <td>0.207763</td>\n",
       "      <td>0.489130</td>\n",
       "      <td>0.25</td>\n",
       "    </tr>\n",
       "    <tr>\n",
       "      <th>18</th>\n",
       "      <td>BS_40</td>\n",
       "      <td>BS_40_4_AC.pickle</td>\n",
       "      <td>pre late</td>\n",
       "      <td>0.338000</td>\n",
       "      <td>0.521875</td>\n",
       "      <td>0.25</td>\n",
       "    </tr>\n",
       "    <tr>\n",
       "      <th>19</th>\n",
       "      <td>BS_40</td>\n",
       "      <td>BS_40_5_AC.pickle</td>\n",
       "      <td>pre late</td>\n",
       "      <td>0.373016</td>\n",
       "      <td>0.706767</td>\n",
       "      <td>0.25</td>\n",
       "    </tr>\n",
       "    <tr>\n",
       "      <th>20</th>\n",
       "      <td>BS_40</td>\n",
       "      <td>BS_40_6_AC.pickle</td>\n",
       "      <td>pre late</td>\n",
       "      <td>0.414023</td>\n",
       "      <td>0.644909</td>\n",
       "      <td>0.25</td>\n",
       "    </tr>\n",
       "    <tr>\n",
       "      <th>21</th>\n",
       "      <td>BS_40</td>\n",
       "      <td>BS_40_7_AC.pickle</td>\n",
       "      <td>pre late</td>\n",
       "      <td>0.598333</td>\n",
       "      <td>0.939633</td>\n",
       "      <td>0.25</td>\n",
       "    </tr>\n",
       "    <tr>\n",
       "      <th>22</th>\n",
       "      <td>BS_40</td>\n",
       "      <td>BS_40_8_AC.pickle</td>\n",
       "      <td>pre late</td>\n",
       "      <td>0.324544</td>\n",
       "      <td>0.455331</td>\n",
       "      <td>0.25</td>\n",
       "    </tr>\n",
       "    <tr>\n",
       "      <th>44</th>\n",
       "      <td>BS_49</td>\n",
       "      <td>BS_49_10_AC.pickle</td>\n",
       "      <td>pre late</td>\n",
       "      <td>0.548780</td>\n",
       "      <td>0.882353</td>\n",
       "      <td>0.25</td>\n",
       "    </tr>\n",
       "    <tr>\n",
       "      <th>54</th>\n",
       "      <td>BS_49</td>\n",
       "      <td>BS_49_6_AC.pickle</td>\n",
       "      <td>pre late</td>\n",
       "      <td>0.115385</td>\n",
       "      <td>1.200000</td>\n",
       "      <td>0.25</td>\n",
       "    </tr>\n",
       "    <tr>\n",
       "      <th>55</th>\n",
       "      <td>BS_49</td>\n",
       "      <td>BS_49_7_AC.pickle</td>\n",
       "      <td>pre late</td>\n",
       "      <td>1.403846</td>\n",
       "      <td>1.403846</td>\n",
       "      <td>0.25</td>\n",
       "    </tr>\n",
       "    <tr>\n",
       "      <th>56</th>\n",
       "      <td>BS_49</td>\n",
       "      <td>BS_49_9_AC.pickle</td>\n",
       "      <td>pre late</td>\n",
       "      <td>0.904412</td>\n",
       "      <td>1.518519</td>\n",
       "      <td>0.25</td>\n",
       "    </tr>\n",
       "    <tr>\n",
       "      <th>61</th>\n",
       "      <td>BS_50</td>\n",
       "      <td>BS_50_4_AC.pickle</td>\n",
       "      <td>pre late</td>\n",
       "      <td>0.314079</td>\n",
       "      <td>0.411483</td>\n",
       "      <td>0.25</td>\n",
       "    </tr>\n",
       "    <tr>\n",
       "      <th>62</th>\n",
       "      <td>BS_50</td>\n",
       "      <td>BS_50_6_AC.pickle</td>\n",
       "      <td>pre late</td>\n",
       "      <td>1.563877</td>\n",
       "      <td>1.788413</td>\n",
       "      <td>0.25</td>\n",
       "    </tr>\n",
       "    <tr>\n",
       "      <th>63</th>\n",
       "      <td>BS_50</td>\n",
       "      <td>BS_50_7_AC.pickle</td>\n",
       "      <td>pre late</td>\n",
       "      <td>1.677966</td>\n",
       "      <td>1.932755</td>\n",
       "      <td>0.25</td>\n",
       "    </tr>\n",
       "    <tr>\n",
       "      <th>78</th>\n",
       "      <td>BS_70</td>\n",
       "      <td>BS_70_1_AC.pickle</td>\n",
       "      <td>pre late</td>\n",
       "      <td>0.393064</td>\n",
       "      <td>0.475524</td>\n",
       "      <td>0.25</td>\n",
       "    </tr>\n",
       "  </tbody>\n",
       "</table>\n",
       "</div>"
      ],
      "text/plain": [
       "   animal             session learning phase  average lick rate  \\\n",
       "5   BS_40  BS_40_10_AC.pickle       pre late           0.605000   \n",
       "6   BS_40  BS_40_11_AC.pickle       pre late           0.504484   \n",
       "16  BS_40   BS_40_2_AC.pickle       pre late           0.244898   \n",
       "17  BS_40   BS_40_3_AC.pickle       pre late           0.207763   \n",
       "18  BS_40   BS_40_4_AC.pickle       pre late           0.338000   \n",
       "19  BS_40   BS_40_5_AC.pickle       pre late           0.373016   \n",
       "20  BS_40   BS_40_6_AC.pickle       pre late           0.414023   \n",
       "21  BS_40   BS_40_7_AC.pickle       pre late           0.598333   \n",
       "22  BS_40   BS_40_8_AC.pickle       pre late           0.324544   \n",
       "44  BS_49  BS_49_10_AC.pickle       pre late           0.548780   \n",
       "54  BS_49   BS_49_6_AC.pickle       pre late           0.115385   \n",
       "55  BS_49   BS_49_7_AC.pickle       pre late           1.403846   \n",
       "56  BS_49   BS_49_9_AC.pickle       pre late           0.904412   \n",
       "61  BS_50   BS_50_4_AC.pickle       pre late           0.314079   \n",
       "62  BS_50   BS_50_6_AC.pickle       pre late           1.563877   \n",
       "63  BS_50   BS_50_7_AC.pickle       pre late           1.677966   \n",
       "78  BS_70   BS_70_1_AC.pickle       pre late           0.393064   \n",
       "\n",
       "    average go lick rate  post-stimulus time limit  \n",
       "5               0.880779                      0.25  \n",
       "6               0.765306                      0.25  \n",
       "16              0.481865                      0.25  \n",
       "17              0.489130                      0.25  \n",
       "18              0.521875                      0.25  \n",
       "19              0.706767                      0.25  \n",
       "20              0.644909                      0.25  \n",
       "21              0.939633                      0.25  \n",
       "22              0.455331                      0.25  \n",
       "44              0.882353                      0.25  \n",
       "54              1.200000                      0.25  \n",
       "55              1.403846                      0.25  \n",
       "56              1.518519                      0.25  \n",
       "61              0.411483                      0.25  \n",
       "62              1.788413                      0.25  \n",
       "63              1.932755                      0.25  \n",
       "78              0.475524                      0.25  "
      ]
     },
     "execution_count": 22,
     "metadata": {},
     "output_type": "execute_result"
    }
   ],
   "source": [
    "df[df['learning phase'] == 'pre late']"
   ]
  },
  {
   "cell_type": "code",
   "execution_count": null,
   "id": "d33a165f-4136-465b-9b6f-28a84f0b3179",
   "metadata": {},
   "outputs": [],
   "source": [
    "#Outlier = BS_50 \tBS_50_6_AC.pickle \tpre late \t1.563877 \t1.788413 \t0.25"
   ]
  },
  {
   "cell_type": "code",
   "execution_count": 24,
   "id": "42eeaa43-ac09-4770-839d-b1ec21ee4ee9",
   "metadata": {},
   "outputs": [],
   "source": [
    "sessionfile = ilep.loadSessionCached(act_directory,'BS_50_6_AC.pickle')"
   ]
  },
  {
   "cell_type": "code",
   "execution_count": 27,
   "id": "4b64c8e5-5eaa-4923-a879-74cec82b6957",
   "metadata": {},
   "outputs": [
    {
     "data": {
      "text/plain": [
       "namespace(lick_times=array([1.0000000e+00, 4.6800000e+03, 4.6840000e+03, ..., 6.7322956e+07,\n",
       "                            6.7322958e+07, 6.7322961e+07]),\n",
       "          reward_times=array([   69506.,   171261.,   272689.,   373649.,   474789.,   575939.,\n",
       "                                897932.,  1222875.,  1771327.,  2535779.,  2639670.,  2740856.,\n",
       "                               2846982.,  3390163.,  3711974.,  3813126.,  4135687.,  4236139.,\n",
       "                               4779910.,  5322628.,  5644695.,  5967796.,  6100988.,  6202398.,\n",
       "                               6745338.,  7067585.,  7394397.,  7495656.,  8038345.,  8139041.,\n",
       "                               8903516.,  9004393.,  9327420.,  9428689.,  9529729.,  9851207.,\n",
       "                               9952482., 10947755., 11271433., 11373016., 11696698., 11797596.,\n",
       "                              12121342., 12666825., 12768126., 13314745., 13637186., 13962645.,\n",
       "                              14507101., 14608161., 15152042., 15476983., 15801123., 16346129.,\n",
       "                              16671148., 16772872., 17131841., 17455055., 18000428., 18101793.,\n",
       "                              18647020., 18748502., 19072297., 19634185., 19735793., 19837322.,\n",
       "                              19938635., 20709659., 21699644., 21802043., 22125888., 22227985.,\n",
       "                              22329902., 22906574., 23008532., 23332117., 23434079., 23535911.,\n",
       "                              24305048., 24851219., 24952975., 25277000., 25600827., 25924503.,\n",
       "                              26247600., 26349338., 26896091., 27095789., 27197802., 27743000.,\n",
       "                              28515832., 28617665., 28719790., 28821684., 29145455., 29247224.,\n",
       "                              30246406., 30348533., 30450660., 30774895., 30876693., 31581742.,\n",
       "                              31683698., 32007518., 32331413., 32876936., 32979008., 33305428.,\n",
       "                              33894488., 34218373., 34542556., 34644496., 34746293., 35740647.,\n",
       "                              36064363., 36166586., 36490531., 36592609., 36916465., 37693707.,\n",
       "                              38021837., 38345548., 38447432., 38549200., 39096037., 39642110.,\n",
       "                              39965859., 40067575., 40169360., 40271367., 40373400., 41586430.,\n",
       "                              41688523., 42455572., 42780424., 42882511., 42984797., 43086728.,\n",
       "                              43858263., 43960031., 44284243., 44853506., 44955352., 45724325.,\n",
       "                              45826307., 45928506., 46255940., 46580060., 46905811., 47705218.,\n",
       "                              47811287., 47913358., 48237262., 48339324., 48662814., 49100724.,\n",
       "                              49232159., 49333176., 49433672., 49534402., 49635134., 50271144.,\n",
       "                              50822780., 50923515., 51024266., 51791575., 51893476., 51993965.,\n",
       "                              52413858., 52514571., 52835709., 53391882., 53713484., 54036580.,\n",
       "                              54137635., 54680878., 54781457., 55777007., 56192290., 56293464.,\n",
       "                              56394395., 56494743., 56595667., 56791809., 57116707., 57217819.,\n",
       "                              57556164., 58101221., 58202668., 58303515., 58900812., 59095161.,\n",
       "                              59641014., 60026141., 60350765., 60451601., 60552342., 60875506.,\n",
       "                              60976651., 61989546., 62094514., 62196316., 62391567., 62492972.,\n",
       "                              62595815., 63065108., 63505111., 63973248., 64074604., 64222742.,\n",
       "                              64770389., 65798217., 65944024., 66047224., 67302210.]))"
      ]
     },
     "execution_count": 27,
     "metadata": {},
     "output_type": "execute_result"
    }
   ],
   "source": [
    "sessionfile.behavior"
   ]
  },
  {
   "cell_type": "code",
   "execution_count": 30,
   "id": "277f9942-f56b-42b6-9a9b-f3f5c9b878cd",
   "metadata": {},
   "outputs": [],
   "source": [
    "dir = os.path.join('S:\\\\Sorts\\\\DualRecording',sessionfile.meta.animal,'BS_50 8')\n",
    "filename = os.path.join(dir,'licks.npy')\n",
    "licktimes = np.load(filename)"
   ]
  },
  {
   "cell_type": "code",
   "execution_count": 39,
   "id": "3e6f9522-4c86-4f09-9406-86b73c051c09",
   "metadata": {},
   "outputs": [
    {
     "data": {
      "text/plain": [
       "namespace(directory='D:\\\\DualRecording\\\\BS_50\\\\BS_50 8\\\\AC\\\\',\n",
       "          region='AC',\n",
       "          animal='BS_50',\n",
       "          probe=7372,\n",
       "          date='9/17/2021',\n",
       "          depth=862,\n",
       "          task='nonreversal',\n",
       "          day_of_training=8,\n",
       "          day_of_recording=6,\n",
       "          length_in_samples=68443888.0,\n",
       "          files=['September 17 2021 Dual BS_50_8001',\n",
       "                 'September 17 2021 Dual BS_50_8002',\n",
       "                 'September 17 2021 Dual BS_50_8003'],\n",
       "          behavior='naive',\n",
       "          condition='prereversal naive',\n",
       "          arraystart=0,\n",
       "          tonelength=0.1,\n",
       "          triallength=2.5,\n",
       "          lickdelayrelativetostart=0,\n",
       "          lickdelayrelativetotone=-0.1,\n",
       "          fs=30000,\n",
       "          length_in_seconds=2281.4629333333332,\n",
       "          length_in_minutes=38.02438222222222,\n",
       "          length_in_trials=457)"
      ]
     },
     "execution_count": 39,
     "metadata": {},
     "output_type": "execute_result"
    }
   ],
   "source": [
    "sessionfile.meta"
   ]
  },
  {
   "cell_type": "code",
   "execution_count": 47,
   "id": "d9b53dcc-a392-491d-a078-f8c4be0ba6c4",
   "metadata": {},
   "outputs": [],
   "source": [
    "filename = 'C:\\\\Users\\\\4thgr\\\\Desktop\\\\TEMP\\\\raw_beam_break.npy'"
   ]
  },
  {
   "cell_type": "code",
   "execution_count": 50,
   "id": "135db236-b0e7-41f4-8887-0f42e7054c98",
   "metadata": {},
   "outputs": [],
   "source": [
    "data = np.load(filename)"
   ]
  },
  {
   "cell_type": "code",
   "execution_count": 58,
   "id": "1a0c9394-9c8d-45ba-a2f7-78eb5fbce0d4",
   "metadata": {},
   "outputs": [
    {
     "data": {
      "text/plain": [
       "[<matplotlib.lines.Line2D at 0x152058d4820>]"
      ]
     },
     "execution_count": 58,
     "metadata": {},
     "output_type": "execute_result"
    },
    {
     "data": {
      "image/png": "[encoded data removed]",
      "text/plain": [
       "<Figure size 960x720 with 1 Axes>"
      ]
     },
     "metadata": {},
     "output_type": "display_data"
    }
   ],
   "source": [
    "plt.plot(data[0,0:10000])"
   ]
  },
  {
   "cell_type": "code",
   "execution_count": 146,
   "id": "58988083-7c0b-4358-89eb-38b21c1f3b0f",
   "metadata": {},
   "outputs": [],
   "source": [
    "res = np.convolve(data[0,:], np.ones(30), mode='valid')\n",
    "cross = np.diff(1 * (res > (np.ptp(res)/2 + np.min(res) )) != 0)"
   ]
  },
  {
   "cell_type": "code",
   "execution_count": 147,
   "id": "09562747-6971-4739-a7c6-f4b88b1e25ae",
   "metadata": {},
   "outputs": [],
   "source": [
    "tstamps = np.where(cross)[0]\n",
    "# tstamps = tstamps[np.less(tstamps,5000)]#100000)]"
   ]
  },
  {
   "cell_type": "code",
   "execution_count": 162,
   "id": "8d69cae4-3089-43ad-96f5-7b909198f8e2",
   "metadata": {},
   "outputs": [
    {
     "data": {
      "text/plain": [
       "16832"
      ]
     },
     "execution_count": 162,
     "metadata": {},
     "output_type": "execute_result"
    }
   ],
   "source": [
    "len(tstamps)"
   ]
  },
  {
   "cell_type": "code",
   "execution_count": 149,
   "id": "18c6a10c-c19d-40ba-a94d-eb25ee4dd1d2",
   "metadata": {},
   "outputs": [
    {
     "data": {
      "text/plain": [
       "array([1019, 3816, 1775, ...,  839, 2987,  913], dtype=int64)"
      ]
     },
     "execution_count": 149,
     "metadata": {},
     "output_type": "execute_result"
    }
   ],
   "source": [
    "np.diff(tstamps)"
   ]
  },
  {
   "cell_type": "code",
   "execution_count": null,
   "id": "d0e7082d-500c-401f-8faf-10070073fb9b",
   "metadata": {},
   "outputs": [],
   "source": []
  },
  {
   "cell_type": "code",
   "execution_count": 151,
   "id": "e7a3caff-5a63-4c6d-a322-e8d95a510fce",
   "metadata": {},
   "outputs": [
    {
     "data": {
      "image/png": "[encoded data removed]",
      "text/plain": [
       "<Figure size 960x720 with 1 Axes>"
      ]
     },
     "metadata": {},
     "output_type": "display_data"
    }
   ],
   "source": [
    "plt.plot(res[0:10000])\n",
    "pass"
   ]
  },
  {
   "cell_type": "code",
   "execution_count": 152,
   "id": "29bcde4d-80fe-43bc-9dcf-802eea2851fd",
   "metadata": {},
   "outputs": [],
   "source": [
    "tstamps = np.where(cross)[0]"
   ]
  },
  {
   "cell_type": "code",
   "execution_count": 153,
   "id": "209fb4fd-76c7-4a62-83ce-62d050fa8c3a",
   "metadata": {},
   "outputs": [
    {
     "data": {
      "text/plain": [
       "16832"
      ]
     },
     "execution_count": 153,
     "metadata": {},
     "output_type": "execute_result"
    }
   ],
   "source": [
    "len(tstamps)"
   ]
  },
  {
   "cell_type": "code",
   "execution_count": 154,
   "id": "96617c00-17a2-4ee1-9781-e0f5f6f486f6",
   "metadata": {},
   "outputs": [
    {
     "data": {
      "text/plain": [
       "array([1019, 3816, 1775, ...,  839, 2987,  913], dtype=int64)"
      ]
     },
     "execution_count": 154,
     "metadata": {},
     "output_type": "execute_result"
    }
   ],
   "source": [
    "np.diff(tstamps)"
   ]
  },
  {
   "cell_type": "code",
   "execution_count": null,
   "id": "42a6403a-4a3e-4051-86b6-5c3e2c88a8ab",
   "metadata": {},
   "outputs": [],
   "source": []
  },
  {
   "cell_type": "code",
   "execution_count": 181,
   "id": "f3090082-463e-4e17-8905-1b0f4d7f60de",
   "metadata": {},
   "outputs": [],
   "source": [
    "tstamps_temp = []\n",
    "laststamp = -np.Inf\n",
    "for tstamp in tstamps:\n",
    "    if tstamp > laststamp+30:\n",
    "        tstamps_temp.append(tstamp-laststamp)\n",
    "        laststamp = tstamp\n",
    "tstamps_temp = np.array(tstamps_temp)\n",
    "tstamps_temp = tstamps_temp[np.isfinite(tstamps_temp)]"
   ]
  },
  {
   "cell_type": "code",
   "execution_count": 182,
   "id": "4169754e-c331-44f1-8e8f-a86191bfbcb3",
   "metadata": {},
   "outputs": [
    {
     "data": {
      "text/plain": [
       "array([1019., 3816., 1775., ...,  839., 2987.,  913.])"
      ]
     },
     "execution_count": 182,
     "metadata": {},
     "output_type": "execute_result"
    }
   ],
   "source": [
    "tstamps_temp"
   ]
  },
  {
   "cell_type": "code",
   "execution_count": null,
   "id": "7d79ddb5-6e0d-427a-966f-494f078f26f3",
   "metadata": {},
   "outputs": [],
   "source": []
  },
  {
   "cell_type": "code",
   "execution_count": null,
   "id": "d084a543-4ad6-4806-87d2-45fec5faf83f",
   "metadata": {},
   "outputs": [],
   "source": []
  },
  {
   "cell_type": "code",
   "execution_count": null,
   "id": "42b062e8-113d-4d1e-836c-07f5f3f82095",
   "metadata": {},
   "outputs": [],
   "source": []
  },
  {
   "cell_type": "code",
   "execution_count": 183,
   "id": "a765ec83-76a2-4956-a889-43efaf45c7e7",
   "metadata": {},
   "outputs": [],
   "source": [
    "TTL_durations = np.array(tstamps_temp[0:len(tstamps_temp):2])/30"
   ]
  },
  {
   "cell_type": "code",
   "execution_count": 191,
   "id": "3dd793b3-e188-44f3-bc17-319098c88442",
   "metadata": {},
   "outputs": [
    {
     "data": {
      "image/png": "[encoded data removed]",
      "text/plain": [
       "<Figure size 960x720 with 1 Axes>"
      ]
     },
     "metadata": {},
     "output_type": "display_data"
    }
   ],
   "source": [
    "plt.hist(TTL_durations,bins=10000)\n",
    "plt.xlim([0,200])\n",
    "plt.xlabel('Duration of TTL (ms)')\n",
    "plt.ylabel('Count')\n",
    "plt.savefig(os.path.join('C:\\\\\\\\Users','4thgr','Downloads','Lick rate outlier BS_50 analysis.pdf'),transparent=False,facecolor=\"white\",dpi=400, bbox_extra_artists=([]), bbox_inches='tight')"
   ]
  },
  {
   "cell_type": "code",
   "execution_count": null,
   "id": "4c1e8cda-df0b-4bd1-83fd-4f79467d045d",
   "metadata": {},
   "outputs": [],
   "source": []
  },
  {
   "cell_type": "markdown",
   "id": "8763c207-6fb1-4af2-8a30-b434280d0359",
   "metadata": {},
   "source": [
    "# Go only"
   ]
  },
  {
   "cell_type": "code",
   "execution_count": 12,
   "id": "4437ec49-53ec-4d0a-b1b3-f317b415b202",
   "metadata": {},
   "outputs": [],
   "source": [
    "lick_rate_preearly = []\n",
    "lick_rate_prelate = []\n",
    "lick_rate_preexpert = []\n",
    "lick_rate_postearly = []\n",
    "lick_rate_postlate = []\n",
    "lick_rate_postexpert = []\n",
    "\n",
    "post_stim = df['post-stimulus time limit'][0]\n",
    "\n",
    "for row in df.iloc:\n",
    "    if row['learning phase'] == 'pre early':\n",
    "        lick_rate_preearly.append(row['average go lick rate']/post_stim)\n",
    "    if row['learning phase'] == 'pre late':\n",
    "        lick_rate_prelate.append(row['average go lick rate']/post_stim)\n",
    "    if row['learning phase'] == 'pre expert':\n",
    "        lick_rate_preexpert.append(row['average go lick rate']/post_stim)\n",
    "        \n",
    "    if row['learning phase'] == 'post early':\n",
    "        lick_rate_postearly.append(row['average go lick rate']/post_stim)\n",
    "    if row['learning phase'] == 'post late':\n",
    "        lick_rate_postlate.append(row['average go lick rate']/post_stim)\n",
    "    if row['learning phase'] == 'post expert':\n",
    "        lick_rate_postexpert.append(row['average go lick rate']/post_stim)\n",
    "\n",
    "lick_rate_preearly = np.array(lick_rate_preearly)\n",
    "lick_rate_prelate = np.array(lick_rate_prelate)\n",
    "lick_rate_preexpert = np.array(lick_rate_preexpert)\n",
    "lick_rate_postearly = np.array(lick_rate_postearly)\n",
    "lick_rate_postlate = np.array(lick_rate_postlate)\n",
    "lick_rate_postexpert = np.array(lick_rate_postexpert)\n",
    "\n",
    "lick_rate_prelate = np.random.RandomState(seed=42).choice(lick_rate_prelate,6)\n",
    "lick_rate_preexpert = np.random.RandomState(seed=42).choice(lick_rate_preexpert,6)\n",
    "lick_rate_postearly = np.random.RandomState(seed=42).choice(lick_rate_postearly,6)\n",
    "lick_rate_postlate = np.random.RandomState(seed=42).choice(lick_rate_postlate,6)\n",
    "lick_rate_postexpert = np.random.RandomState(seed=42).choice(lick_rate_postexpert,6)"
   ]
  },
  {
   "cell_type": "code",
   "execution_count": 13,
   "id": "0381e0a2-6c5f-4c8e-a6cd-d269aca7696b",
   "metadata": {},
   "outputs": [
    {
     "name": "stdout",
     "output_type": "stream",
     "text": [
      "ready\n"
     ]
    }
   ],
   "source": [
    "print('ready')"
   ]
  },
  {
   "cell_type": "code",
   "execution_count": 14,
   "id": "39418f45-afbb-48e1-bd2d-3aa262d8b4d7",
   "metadata": {},
   "outputs": [
    {
     "name": "stdout",
     "output_type": "stream",
     "text": [
      "max = 4.0524017467248905\n",
      "max = 7.153652392947103\n",
      "max = 3.5454545454545454\n",
      "max = 4.827586206896552\n",
      "max = 5.982547993019197\n",
      "max = 5.81039755351682\n",
      "2.3055555555555554\n",
      "4.2792650918635164\n",
      "3.450038138825324\n",
      "4.218155854753162\n",
      "4.764525993883792\n",
      "2.60153776571687\n"
     ]
    },
    {
     "data": {
      "image/png": "[encoded data removed]",
      "text/plain": [
       "<Figure size 559.125x677.25 with 1 Axes>"
      ]
     },
     "metadata": {},
     "output_type": "display_data"
    }
   ],
   "source": [
    "def add_axis_size(fig, ax_w, ax_h, left, bottom):\n",
    "    fig_w, fig_h = fig.get_size_inches()\n",
    "    ax = fig.add_axes([left/fig_w, bottom/fig_h, ax_w/fig_w, ax_h/fig_h])\n",
    "    return ax\n",
    "\n",
    "def make_axis_size(ax_w, ax_h, left=.3, bottom=.3, right=0, top=0):\n",
    "    fig_w = (ax_w + left + right) * 1.05\n",
    "    fig_h = (ax_h + bottom + top) * 1.05\n",
    "    fig = plt.figure(figsize=(fig_w, fig_h))\n",
    "    ax = add_axis_size(fig, ax_w, ax_h, left, bottom)\n",
    "    return fig, ax\n",
    "\n",
    "fig,ax = make_axis_size(3.25, 4, left=.3, bottom=.3, right=0, top=0)\n",
    "switch_offset = 0.25\n",
    "\n",
    "################################################################################################################\n",
    "\n",
    "size = 20\n",
    "summary_size=150\n",
    "summary_width=1.25#0.75\n",
    "\n",
    "mn = 3.5\n",
    "spread = 2.5\n",
    "# colors = NCR_CR_cmap( (Y-(mn-spread/2))/ (spread) )\n",
    "    \n",
    "###\n",
    "    \n",
    "FRmod_baseline_median = 3.5\n",
    "data = [lick_rate_preearly,lick_rate_prelate,lick_rate_preexpert,lick_rate_postearly,lick_rate_postlate,lick_rate_postexpert]\n",
    "labels = ['Early','Late','Expert','Early','Late','Expert']\n",
    "numCon = len(data)\n",
    "\n",
    "for d in data:\n",
    "    print(f\"max = {np.max(d)}\")\n",
    "\n",
    "###\n",
    "X = [np.ones(len(l))*idx + polarity*switch_offset for idx,(l,polarity) in enumerate(zip(data,[-1,-1,-1,1,1,1]))]\n",
    "_,Y = ilep.violin(np.concatenate(X),np.concatenate(data),width=0.75,minjitter=0.075)\n",
    "X,_ = ilep.violin(np.concatenate(X),np.log10(np.concatenate(data)),width=0.75,minjitter=0.075)\n",
    "colors = NCR_CR_cmap( (Y-(mn-spread/2))/ (spread) )\n",
    "\n",
    "# ax.scatter(X, Y, s=size, ec=colors, fc='white', lw=1,zorder=-10,clip_on=False)\n",
    "# ax.set_yscale('log',subs=[])\n",
    "\n",
    "#Plot summary\n",
    "for idx,(column,polarity) in enumerate(zip(data,[-1,-1,-1,1,1,1])):\n",
    "    column = ilep.rmnan(column)\n",
    "    percentCR = np.nanmean(np.greater(column,FRmod_baseline_median))*100\n",
    "    \n",
    "    eye_color= 'grey'#NCR_CR_cmap((percentCR-40)/20)\n",
    "    border_color = 'k'#NCR_CR_cmap((percentCR-40)/20)  \n",
    "#     r,g,b = mpl.colors.to_rgb(eye_color)\n",
    "#     h,l,s = colorsys.rgb_to_hls(r,g,b)\n",
    "    \n",
    "    Q1, median, Q3 = (np.percentile(column, q) for q in [25, 50, 75])\n",
    "    # median = np.mean(column)\n",
    "    # Q1 = median - sem(column)\n",
    "    # Q3 = median + sem(column)\n",
    "\n",
    "    print(median)\n",
    "    \n",
    "    # ax.scatter([idx+polarity*switch_offset], [median], ec=border_color,fc=eye_color, s=summary_size,lw=summary_width, zorder=10)\n",
    "    ax.plot([idx+polarity*switch_offset, idx+polarity*switch_offset], [Q1, Q3], c=border_color, lw=summary_width, zorder=9, solid_capstyle='round')\n",
    "    ax.plot([idx+polarity*switch_offset-0.2, idx+polarity*switch_offset+0.2], [median,median], c=border_color, lw=summary_width, zorder=9, solid_capstyle='round')\n",
    "\n",
    "    X,Y = ilep.violin(column,width=0.4)\n",
    "    ax.scatter(X+idx+polarity*switch_offset,Y,s=25,c=GOOD_GREY,zorder=8)\n",
    "\n",
    "\n",
    "################################################################################################################\n",
    "labels = ['Early','Late','Expert','Early','Late','Expert']\n",
    "\n",
    "ax.set_ylim([0,12])\n",
    "# ax.set_yticks([0,2,4,6,8,10,12])\n",
    "ylab = ax.set_ylabel('Average lick rate (licks/second)')\n",
    "\n",
    "ax.set_xlim([-0.75-switch_offset,5.75+switch_offset])\n",
    "ax.set_xticks([0-switch_offset,1-switch_offset,2-switch_offset,3+switch_offset,4+switch_offset,5+switch_offset])\n",
    "ax.set_xticklabels(labels)\n",
    "# xlab = ax.set_xlabel('Example X label')\n",
    "\n",
    "xtick_pos_pre = ax.get_xticks()[1]\n",
    "xtick_pos_post = ax.get_xticks()[4]\n",
    "Yval = ilep.getPrePostLabelYval(ax.get_ylim(),Yfrac=-2*stdyfrac,log=False)\n",
    "t1 = ax.text(xtick_pos_pre, Yval, 'Pre', ha='center', va='bottom', fontsize=stdfont,color='k')\n",
    "t2 = ax.text(xtick_pos_post, Yval, 'Post', ha='center', va='bottom',  fontsize=stdfont,color='k')\n",
    "ax.annotate('', xy=(0.03, -stdyfrac), xycoords='axes fraction', xytext=(0.49, -stdyfrac),arrowprops=dict(arrowstyle='-', color='black'))\n",
    "ax.annotate('', xy=(0.53, -stdyfrac), xycoords='axes fraction', xytext=(0.99, -stdyfrac),arrowprops=dict(arrowstyle='-', color='black'))\n",
    "\n",
    "ax.tick_params(direction='in', length=6, width=1)\n",
    "\n",
    "for item in ([ax.title, ax.xaxis.label, ax.yaxis.label] +\n",
    "    ax.get_xticklabels() + ax.get_yticklabels()):\n",
    "    item.set_fontsize(stdfont)\n",
    "for item in (ax.get_xticklabels()):\n",
    "    item.set_fontsize(stdfont*0.9)\n",
    "    pass\n",
    "\n",
    "Y = np.mean(ax.get_ylim())\n",
    "Y = np.mean((ax.get_ylim()))\n",
    "t = ax.text(2.5,Y,'Reversal',rotation=90,fontsize=stdfont,color=SWITCH_COLOR,horizontalalignment='center',verticalalignment='center')\n",
    "ax.plot([2.5]*2,[ax.get_ylim()[0],Y-1],lw=1,color=SWITCH_COLOR)\n",
    "ax.plot([2.5]*2,[ax.get_ylim()[1],Y+1],lw=1,color=SWITCH_COLOR)\n",
    "\n",
    "ax.fill_between(ax.get_xlim(),[ax.get_ylim()[0]]*2,[ax.get_ylim()[1]*2]*2,color='white',alpha=0.4,zorder=-5,clip_on=False)\n",
    "\n",
    "ttl = ax.set_title(' ')\n",
    "artists = [ylab,t1,t2,ttl]\n",
    "fig.savefig(os.path.join('C:\\\\\\\\Users','4thgr','Downloads','Lick rate go trials anticipatory V'+str(current_version)+'.pdf'),transparent=False,facecolor=\"white\",dpi=400, bbox_extra_artists=(artists), bbox_inches='tight')"
   ]
  },
  {
   "cell_type": "code",
   "execution_count": 15,
   "id": "6073cc94-8cf0-4d74-8f59-902bcfb724de",
   "metadata": {},
   "outputs": [
    {
     "name": "stdout",
     "output_type": "stream",
     "text": [
      "pre-early   n = 6\n",
      "pre-late    n = 6\n",
      "pre-expert  n = 6\n",
      "post-early  n = 6\n",
      "post-late   n = 6\n",
      "post-expert n = 6\n",
      "pre-early  to pre-late   : 0.25373869862211\n",
      "pre-late   to pre-expert : 0.3939393939393939\n",
      "pre-early  to pre-expert : 0.3939393939393939\n",
      "post-early to post-late  : 0.3939393939393939\n",
      "post-late  to post-expert: 0.1948051948051948\n",
      "post-early to post-expert: 0.1948051948051948\n"
     ]
    }
   ],
   "source": [
    "data_dec = SimpleNamespace()\n",
    "data_dec.preearly = np.abs(lick_rate_preearly)\n",
    "data_dec.prelate = np.abs(lick_rate_prelate)\n",
    "data_dec.preexpert = np.abs(lick_rate_preexpert)\n",
    "data_dec.postearly = np.abs(lick_rate_postearly)\n",
    "data_dec.postlate = np.abs(lick_rate_postlate)\n",
    "data_dec.postexpert = np.abs(lick_rate_postexpert)\n",
    "ilep.mannwhitneycompareall(data_dec)\n",
    "pass"
   ]
  },
  {
   "cell_type": "code",
   "execution_count": null,
   "id": "ec5ed876-abba-4c60-a218-5d9ad4413323",
   "metadata": {},
   "outputs": [],
   "source": []
  },
  {
   "cell_type": "code",
   "execution_count": null,
   "id": "62ed035d-ace1-4d2f-8176-cfd4a7afb18a",
   "metadata": {},
   "outputs": [],
   "source": []
  },
  {
   "cell_type": "code",
   "execution_count": null,
   "id": "b49dc416-d35c-4acf-a681-f6b9e63ec697",
   "metadata": {},
   "outputs": [],
   "source": []
  },
  {
   "cell_type": "code",
   "execution_count": null,
   "id": "8d070911-d260-492c-af52-f9e7e2879c38",
   "metadata": {},
   "outputs": [],
   "source": []
  },
  {
   "cell_type": "code",
   "execution_count": null,
   "id": "f3b8b182-cfc5-4023-acf5-36900901834f",
   "metadata": {},
   "outputs": [],
   "source": []
  },
  {
   "cell_type": "code",
   "execution_count": null,
   "id": "d7ff1560-71f7-4a40-8d7a-3b4f3cce916c",
   "metadata": {},
   "outputs": [],
   "source": []
  },
  {
   "cell_type": "code",
   "execution_count": null,
   "id": "cf1c4b35-b3d2-4faa-8dc3-474fcfc081bb",
   "metadata": {},
   "outputs": [],
   "source": []
  },
  {
   "cell_type": "code",
   "execution_count": null,
   "id": "d0784662-811f-4640-a0a5-ca1778c5cc42",
   "metadata": {},
   "outputs": [],
   "source": []
  },
  {
   "cell_type": "code",
   "execution_count": null,
   "id": "9951adf4-7f4a-49e4-b0fe-6acc9076c3eb",
   "metadata": {},
   "outputs": [],
   "source": []
  },
  {
   "cell_type": "code",
   "execution_count": 187,
   "id": "43189ad5-ba83-41b7-abb2-1b8f2d17d16d",
   "metadata": {},
   "outputs": [],
   "source": [
    "def clean_up_lick_train(lick_train_ms,timeout_ms = 10):\n",
    "    actual_licks = []\n",
    "    last_lick = -np.Inf\n",
    "    for lick in lick_train_ms:\n",
    "        if (lick - last_lick) >= timeout_ms:\n",
    "            actual_licks.append(lick)\n",
    "        last_lick = lick\n",
    "    return np.array(actual_licks)"
   ]
  },
  {
   "cell_type": "markdown",
   "id": "c97dc04e-fb79-4468-9b02-1bbea2a03abf",
   "metadata": {},
   "source": [
    "# Debug / Outlier Check"
   ]
  },
  {
   "cell_type": "code",
   "execution_count": 188,
   "id": "10dae14d-6bc8-4c1d-aa84-02a82764da27",
   "metadata": {},
   "outputs": [],
   "source": [
    "#https://onlinelibrary.wiley.com/doi/full/10.1111/j.1601-183X.2006.00293.x"
   ]
  },
  {
   "cell_type": "code",
   "execution_count": 210,
   "id": "210ae0c2-a68e-44d3-8c76-4958544450fd",
   "metadata": {},
   "outputs": [],
   "source": [
    "cellstouseFR = 'all cells'\n",
    "#cellstouseFR = 'task encoders'\n",
    "\n",
    "animals_list = []\n",
    "sessions_list = []\n",
    "learning_phase_list = []\n",
    "avg_lick_rate_list = []\n",
    "avg_go_lick_rate_list = []\n",
    "post_stim_limit = []\n",
    "\n",
    "post_stim = 0.2 #seconds\n",
    "session = 'BS_49_14_AC.pickle'\n",
    "\n",
    "sessionfile = ilep.loadSessionCached(act_directory,session)\n",
    "licks = sessionfile.behavior.lick_times\n",
    "\n",
    "allconds = ilep.getAllConditions(sessionfile,clust=None)\n",
    "\n",
    "number_of_licks = []\n",
    "trials = allconds['all_trials'].trials\n",
    "trials = np.random.permutation(trials)\n",
    "for trial in trials:\n",
    "    trialstart = sessionfile.trials.starts[trial]\n",
    "    trialend = trialstart + post_stim * sessionfile.meta.fs\n",
    "    in_trial_licks = np.logical_and(np.greater(licks,trialstart),np.less(licks,trialend))\n",
    "    in_trial_licks = licks[in_trial_licks]\n",
    "    in_trial_licks = clean_up_lick_train(in_trial_licks/30, timeout_ms = 1)\n",
    "\n",
    "    if np.sum(in_trial_licks) > 50 and np.sum(in_trial_licks) < 100:\n",
    "        bad_trial = licks[in_trial_licks] - trialstart\n",
    "    \n",
    "    number_of_licks.append(len(in_trial_licks))\n",
    "    \n",
    "number_of_licks_go_only = []\n",
    "trials = allconds['go'].trials\n",
    "for trial in trials:\n",
    "    trialstart = sessionfile.trials.starts[trial]\n",
    "    trialend = trialstart + post_stim * sessionfile.meta.fs\n",
    "    in_trial_licks = np.logical_and(np.greater(licks,trialstart),np.less(licks,trialend))\n",
    "    number_of_licks_go_only.append(np.sum(in_trial_licks))\n",
    "\n",
    "number_of_licks = np.array(number_of_licks)\n",
    "licks = number_of_licks[np.greater(number_of_licks,0)]"
   ]
  },
  {
   "cell_type": "code",
   "execution_count": 211,
   "id": "83c261cc-ec39-4ca4-9cfd-a7aa0c5c697f",
   "metadata": {},
   "outputs": [
    {
     "data": {
      "image/png": "[encoded data removed]",
      "text/plain": [
       "<Figure size 960x720 with 1 Axes>"
      ]
     },
     "metadata": {},
     "output_type": "display_data"
    }
   ],
   "source": [
    "plt.hist(licks,bins=100)\n",
    "pass"
   ]
  },
  {
   "cell_type": "code",
   "execution_count": 202,
   "id": "a95178f2-294c-4bc6-aea1-dab9e88b81fd",
   "metadata": {},
   "outputs": [
    {
     "name": "stdout",
     "output_type": "stream",
     "text": [
      "[ 22.22222222  10.52631579  18.18181818  18.18181818  11.76470588\n",
      "  28.57142857  15.38461538  33.33333333   9.09090909  40.\n",
      "  10.           6.25        50.          25.          33.33333333\n",
      "  20.           2.02020202   2.08333333  28.57142857   1.47058824\n",
      "  11.11111111   5.40540541  33.33333333  40.          33.33333333\n",
      "   6.66666667  50.           5.55555556   7.14285714  33.33333333\n",
      "   9.09090909  16.66666667  12.5         16.66666667  16.66666667\n",
      "  40.          14.28571429  28.57142857   8.69565217  14.28571429\n",
      " 100.           7.14285714  11.76470588   7.69230769   4.65116279\n",
      "   6.06060606  40.          22.22222222  25.          40.\n",
      "   5.12820513  28.57142857  13.33333333   7.14285714  20.\n",
      "   4.44444444   6.25        14.28571429  11.11111111  28.57142857\n",
      "  22.22222222   6.25         6.25        40.          40.\n",
      "  20.           5.71428571  33.33333333   5.55555556  22.22222222\n",
      "  16.66666667   2.98507463  11.76470588  40.           6.4516129\n",
      "  16.66666667  33.33333333   8.69565217  40.           6.89655172\n",
      "  28.57142857  18.18181818  14.28571429  40.          50.\n",
      "   7.40740741   4.          22.22222222   8.69565217  20.\n",
      "  25.          14.28571429  16.66666667  25.          18.18181818\n",
      "  40.           5.88235294   6.06060606  50.          33.33333333\n",
      "   4.08163265  28.57142857  28.57142857   9.52380952  22.22222222\n",
      "   5.55555556   3.33333333   5.          22.22222222   5.55555556\n",
      "  28.57142857  16.66666667  11.11111111  12.5          6.66666667\n",
      "  15.38461538  28.57142857  10.          20.          33.33333333\n",
      "  33.33333333  33.33333333   2.85714286  22.22222222  13.33333333\n",
      "  18.18181818   8.          10.52631579   1.88679245  13.33333333\n",
      "  22.22222222  33.33333333   7.14285714  28.57142857  22.22222222\n",
      "   4.44444444  10.          20.           5.71428571  15.38461538\n",
      "  33.33333333   7.40740741  33.33333333  25.           8.33333333\n",
      "   8.69565217  11.11111111   6.06060606  16.66666667  10.52631579\n",
      "   7.69230769  15.38461538  28.57142857  20.           4.08163265\n",
      "  10.52631579  25.          15.38461538   8.33333333  33.33333333\n",
      "  14.28571429  50.          22.22222222  15.38461538  25.\n",
      "  15.38461538   1.06382979  11.76470588   9.09090909   4.25531915\n",
      "  25.          12.5         25.          25.          28.57142857\n",
      "  13.33333333  11.76470588  12.5         12.5          1.85185185\n",
      "   3.63636364  13.33333333  50.           4.34782609  12.5\n",
      "   9.52380952   8.33333333   8.           4.87804878]\n"
     ]
    }
   ],
   "source": [
    "ILI = 200 / np.array(licks)\n",
    "ILI = ILI[np.isfinite(ILI)]\n",
    "print(ILI)"
   ]
  },
  {
   "cell_type": "code",
   "execution_count": 203,
   "id": "39f1a844-7bad-4bc8-ae31-8bb291908451",
   "metadata": {},
   "outputs": [
    {
     "data": {
      "text/plain": [
       "20.91005291005291"
      ]
     },
     "execution_count": 203,
     "metadata": {},
     "output_type": "execute_result"
    }
   ],
   "source": [
    "np.mean(licks)"
   ]
  },
  {
   "cell_type": "code",
   "execution_count": null,
   "id": "9435dda2-13f1-4e2b-9377-5ecc40ffac17",
   "metadata": {},
   "outputs": [],
   "source": []
  },
  {
   "cell_type": "code",
   "execution_count": 195,
   "id": "8f4e95ca-22a3-48e3-9d2c-9b50ec419175",
   "metadata": {},
   "outputs": [
    {
     "data": {
      "text/plain": [
       "(0.0, 200.0)"
      ]
     },
     "execution_count": 195,
     "metadata": {},
     "output_type": "execute_result"
    },
    {
     "data": {
      "image/png": "[encoded data removed]",
      "text/plain": [
       "<Figure size 960x720 with 1 Axes>"
      ]
     },
     "metadata": {},
     "output_type": "display_data"
    }
   ],
   "source": [
    "plt.scatter(bad_trial/30,np.ones_like(bad_trial))\n",
    "plt.scatter(clean_up_lick_train(bad_trial/30),np.zeros_like(clean_up_lick_train(bad_trial/30)))\n",
    "plt.xlim([0,200])"
   ]
  },
  {
   "cell_type": "code",
   "execution_count": null,
   "id": "5c4b004a-4975-4b26-b80d-1e1f7fe3dee3",
   "metadata": {},
   "outputs": [],
   "source": []
  },
  {
   "cell_type": "code",
   "execution_count": null,
   "id": "0bb85dc2-a8ff-43d0-bee3-af4f56238e97",
   "metadata": {},
   "outputs": [],
   "source": []
  },
  {
   "cell_type": "code",
   "execution_count": null,
   "id": "ab338953-b5aa-42e2-8305-15b9db4db285",
   "metadata": {},
   "outputs": [],
   "source": []
  },
  {
   "cell_type": "code",
   "execution_count": null,
   "id": "f0bb4719-c984-4c43-a841-59a1e516277c",
   "metadata": {},
   "outputs": [],
   "source": []
  },
  {
   "cell_type": "code",
   "execution_count": null,
   "id": "21bc8cd2-4ebb-43b4-ab38-5c815d52fd72",
   "metadata": {},
   "outputs": [],
   "source": []
  },
  {
   "cell_type": "code",
   "execution_count": null,
   "id": "895b6e51-d90c-4783-a542-6de4971ccf33",
   "metadata": {},
   "outputs": [],
   "source": []
  },
  {
   "cell_type": "code",
   "execution_count": 48,
   "id": "fc17bff6-1d8c-4c51-95cb-66d8f6af1e89",
   "metadata": {},
   "outputs": [
    {
     "name": "stdout",
     "output_type": "stream",
     "text": [
      "BS_40 = 0.5871062893717331\n",
      "BS_49 = 1.1149649460923972\n",
      "BS_50 = 1.1643738675708384\n",
      "BS_70 = 0.43356643356643354\n"
     ]
    }
   ],
   "source": [
    "target_phase = 'pre late'\n",
    "subset_df = df[df['learning phase'] == target_phase]\n",
    "un_animals = np.unique(subset_df['animal'])\n",
    "for animal in un_animals:\n",
    "    go_rate = subset_df[subset_df['animal']==animal]['average go lick rate']\n",
    "    print(f\"{animal} = {np.mean(go_rate)}\")"
   ]
  },
  {
   "cell_type": "code",
   "execution_count": null,
   "id": "df2316af-23e1-4018-8fbc-ba6a6c6223c5",
   "metadata": {},
   "outputs": [],
   "source": []
  },
  {
   "cell_type": "code",
   "execution_count": 49,
   "id": "10a10865-4600-4324-b78c-ff7fa26b26f3",
   "metadata": {},
   "outputs": [
    {
     "data": {
      "text/html": [
       "<div>\n",
       "<style scoped>\n",
       "    .dataframe tbody tr th:only-of-type {\n",
       "        vertical-align: middle;\n",
       "    }\n",
       "\n",
       "    .dataframe tbody tr th {\n",
       "        vertical-align: top;\n",
       "    }\n",
       "\n",
       "    .dataframe thead th {\n",
       "        text-align: right;\n",
       "    }\n",
       "</style>\n",
       "<table border=\"1\" class=\"dataframe\">\n",
       "  <thead>\n",
       "    <tr style=\"text-align: right;\">\n",
       "      <th></th>\n",
       "      <th>animal</th>\n",
       "      <th>session</th>\n",
       "      <th>learning phase</th>\n",
       "      <th>average lick rate</th>\n",
       "      <th>average go lick rate</th>\n",
       "      <th>post-stimulus time limit</th>\n",
       "    </tr>\n",
       "  </thead>\n",
       "  <tbody>\n",
       "    <tr>\n",
       "      <th>5</th>\n",
       "      <td>BS_40</td>\n",
       "      <td>BS_40_10_AC.pickle</td>\n",
       "      <td>pre late</td>\n",
       "      <td>0.545000</td>\n",
       "      <td>0.795620</td>\n",
       "      <td>0.2</td>\n",
       "    </tr>\n",
       "    <tr>\n",
       "      <th>6</th>\n",
       "      <td>BS_40</td>\n",
       "      <td>BS_40_11_AC.pickle</td>\n",
       "      <td>pre late</td>\n",
       "      <td>0.466368</td>\n",
       "      <td>0.707483</td>\n",
       "      <td>0.2</td>\n",
       "    </tr>\n",
       "    <tr>\n",
       "      <th>16</th>\n",
       "      <td>BS_40</td>\n",
       "      <td>BS_40_2_AC.pickle</td>\n",
       "      <td>pre late</td>\n",
       "      <td>0.232143</td>\n",
       "      <td>0.471503</td>\n",
       "      <td>0.2</td>\n",
       "    </tr>\n",
       "    <tr>\n",
       "      <th>17</th>\n",
       "      <td>BS_40</td>\n",
       "      <td>BS_40_3_AC.pickle</td>\n",
       "      <td>pre late</td>\n",
       "      <td>0.184932</td>\n",
       "      <td>0.440217</td>\n",
       "      <td>0.2</td>\n",
       "    </tr>\n",
       "    <tr>\n",
       "      <th>18</th>\n",
       "      <td>BS_40</td>\n",
       "      <td>BS_40_4_AC.pickle</td>\n",
       "      <td>pre late</td>\n",
       "      <td>0.282000</td>\n",
       "      <td>0.440625</td>\n",
       "      <td>0.2</td>\n",
       "    </tr>\n",
       "    <tr>\n",
       "      <th>19</th>\n",
       "      <td>BS_40</td>\n",
       "      <td>BS_40_5_AC.pickle</td>\n",
       "      <td>pre late</td>\n",
       "      <td>0.335317</td>\n",
       "      <td>0.635338</td>\n",
       "      <td>0.2</td>\n",
       "    </tr>\n",
       "    <tr>\n",
       "      <th>20</th>\n",
       "      <td>BS_40</td>\n",
       "      <td>BS_40_6_AC.pickle</td>\n",
       "      <td>pre late</td>\n",
       "      <td>0.360601</td>\n",
       "      <td>0.563969</td>\n",
       "      <td>0.2</td>\n",
       "    </tr>\n",
       "    <tr>\n",
       "      <th>21</th>\n",
       "      <td>BS_40</td>\n",
       "      <td>BS_40_7_AC.pickle</td>\n",
       "      <td>pre late</td>\n",
       "      <td>0.531667</td>\n",
       "      <td>0.837270</td>\n",
       "      <td>0.2</td>\n",
       "    </tr>\n",
       "    <tr>\n",
       "      <th>22</th>\n",
       "      <td>BS_40</td>\n",
       "      <td>BS_40_8_AC.pickle</td>\n",
       "      <td>pre late</td>\n",
       "      <td>0.275862</td>\n",
       "      <td>0.391931</td>\n",
       "      <td>0.2</td>\n",
       "    </tr>\n",
       "    <tr>\n",
       "      <th>44</th>\n",
       "      <td>BS_49</td>\n",
       "      <td>BS_49_10_AC.pickle</td>\n",
       "      <td>pre late</td>\n",
       "      <td>0.487805</td>\n",
       "      <td>0.784314</td>\n",
       "      <td>0.2</td>\n",
       "    </tr>\n",
       "    <tr>\n",
       "      <th>54</th>\n",
       "      <td>BS_49</td>\n",
       "      <td>BS_49_6_AC.pickle</td>\n",
       "      <td>pre late</td>\n",
       "      <td>0.115385</td>\n",
       "      <td>1.200000</td>\n",
       "      <td>0.2</td>\n",
       "    </tr>\n",
       "    <tr>\n",
       "      <th>55</th>\n",
       "      <td>BS_49</td>\n",
       "      <td>BS_49_7_AC.pickle</td>\n",
       "      <td>pre late</td>\n",
       "      <td>1.173077</td>\n",
       "      <td>1.173077</td>\n",
       "      <td>0.2</td>\n",
       "    </tr>\n",
       "    <tr>\n",
       "      <th>56</th>\n",
       "      <td>BS_49</td>\n",
       "      <td>BS_49_9_AC.pickle</td>\n",
       "      <td>pre late</td>\n",
       "      <td>0.775735</td>\n",
       "      <td>1.302469</td>\n",
       "      <td>0.2</td>\n",
       "    </tr>\n",
       "    <tr>\n",
       "      <th>61</th>\n",
       "      <td>BS_50</td>\n",
       "      <td>BS_50_4_AC.pickle</td>\n",
       "      <td>pre late</td>\n",
       "      <td>0.274368</td>\n",
       "      <td>0.363636</td>\n",
       "      <td>0.2</td>\n",
       "    </tr>\n",
       "    <tr>\n",
       "      <th>62</th>\n",
       "      <td>BS_50</td>\n",
       "      <td>BS_50_6_AC.pickle</td>\n",
       "      <td>pre late</td>\n",
       "      <td>1.334802</td>\n",
       "      <td>1.526448</td>\n",
       "      <td>0.2</td>\n",
       "    </tr>\n",
       "    <tr>\n",
       "      <th>63</th>\n",
       "      <td>BS_50</td>\n",
       "      <td>BS_50_7_AC.pickle</td>\n",
       "      <td>pre late</td>\n",
       "      <td>1.391714</td>\n",
       "      <td>1.603037</td>\n",
       "      <td>0.2</td>\n",
       "    </tr>\n",
       "    <tr>\n",
       "      <th>78</th>\n",
       "      <td>BS_70</td>\n",
       "      <td>BS_70_1_AC.pickle</td>\n",
       "      <td>pre late</td>\n",
       "      <td>0.358382</td>\n",
       "      <td>0.433566</td>\n",
       "      <td>0.2</td>\n",
       "    </tr>\n",
       "  </tbody>\n",
       "</table>\n",
       "</div>"
      ],
      "text/plain": [
       "   animal             session learning phase  average lick rate  \\\n",
       "5   BS_40  BS_40_10_AC.pickle       pre late           0.545000   \n",
       "6   BS_40  BS_40_11_AC.pickle       pre late           0.466368   \n",
       "16  BS_40   BS_40_2_AC.pickle       pre late           0.232143   \n",
       "17  BS_40   BS_40_3_AC.pickle       pre late           0.184932   \n",
       "18  BS_40   BS_40_4_AC.pickle       pre late           0.282000   \n",
       "19  BS_40   BS_40_5_AC.pickle       pre late           0.335317   \n",
       "20  BS_40   BS_40_6_AC.pickle       pre late           0.360601   \n",
       "21  BS_40   BS_40_7_AC.pickle       pre late           0.531667   \n",
       "22  BS_40   BS_40_8_AC.pickle       pre late           0.275862   \n",
       "44  BS_49  BS_49_10_AC.pickle       pre late           0.487805   \n",
       "54  BS_49   BS_49_6_AC.pickle       pre late           0.115385   \n",
       "55  BS_49   BS_49_7_AC.pickle       pre late           1.173077   \n",
       "56  BS_49   BS_49_9_AC.pickle       pre late           0.775735   \n",
       "61  BS_50   BS_50_4_AC.pickle       pre late           0.274368   \n",
       "62  BS_50   BS_50_6_AC.pickle       pre late           1.334802   \n",
       "63  BS_50   BS_50_7_AC.pickle       pre late           1.391714   \n",
       "78  BS_70   BS_70_1_AC.pickle       pre late           0.358382   \n",
       "\n",
       "    average go lick rate  post-stimulus time limit  \n",
       "5               0.795620                       0.2  \n",
       "6               0.707483                       0.2  \n",
       "16              0.471503                       0.2  \n",
       "17              0.440217                       0.2  \n",
       "18              0.440625                       0.2  \n",
       "19              0.635338                       0.2  \n",
       "20              0.563969                       0.2  \n",
       "21              0.837270                       0.2  \n",
       "22              0.391931                       0.2  \n",
       "44              0.784314                       0.2  \n",
       "54              1.200000                       0.2  \n",
       "55              1.173077                       0.2  \n",
       "56              1.302469                       0.2  \n",
       "61              0.363636                       0.2  \n",
       "62              1.526448                       0.2  \n",
       "63              1.603037                       0.2  \n",
       "78              0.433566                       0.2  "
      ]
     },
     "execution_count": 49,
     "metadata": {},
     "output_type": "execute_result"
    }
   ],
   "source": [
    "subset_df"
   ]
  },
  {
   "cell_type": "code",
   "execution_count": null,
   "id": "07447b23-3690-46fe-8baf-065730ae1a02",
   "metadata": {},
   "outputs": [],
   "source": []
  },
  {
   "cell_type": "code",
   "execution_count": null,
   "id": "ec24d5de-d718-4a98-abea-b86370bd99d8",
   "metadata": {},
   "outputs": [],
   "source": []
  },
  {
   "cell_type": "code",
   "execution_count": null,
   "id": "a73c410c-85e9-4289-8ff8-5d2b0f091afb",
   "metadata": {},
   "outputs": [],
   "source": []
  }
 ],
 "metadata": {
  "kernelspec": {
   "display_name": "Python 3 (ipykernel)",
   "language": "python",
   "name": "python3"
  },
  "language_info": {
   "codemirror_mode": {
    "name": "ipython",
    "version": 3
   },
   "file_extension": ".py",
   "mimetype": "text/x-python",
   "name": "python",
   "nbconvert_exporter": "python",
   "pygments_lexer": "ipython3",
   "version": "3.12.7"
  }
 },
 "nbformat": 4,
 "nbformat_minor": 5
}
