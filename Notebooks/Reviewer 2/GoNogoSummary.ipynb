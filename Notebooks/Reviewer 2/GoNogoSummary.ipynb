{
 "cells": [
  {
   "cell_type": "code",
   "execution_count": null,
   "id": "714c0846-345b-4a0d-af9a-25ac131033b9",
   "metadata": {},
   "outputs": [],
   "source": []
  },
  {
   "cell_type": "code",
   "execution_count": 1,
   "id": "4b3ab91d-2f36-4bab-824d-4551c354930c",
   "metadata": {},
   "outputs": [],
   "source": [
    "import sys, os\n",
    "import json, pickle\n",
    "import matplotlib.pyplot as plt\n",
    "import matplotlib as mpl\n",
    "import numpy as np\n",
    "import pandas as pd\n",
    "import time as pytime\n",
    "import statsmodels.tsa.stattools as tsa\n",
    "import ruptures as rpt\n",
    "sys.path.append('../..')\n",
    "import InsanallyLabEphysTools as ilep\n",
    "from scipy.stats import gaussian_kde, sem, ttest_ind, ttest_rel, norm, mannwhitneyu, linregress, wilcoxon\n",
    "from tqdm import tqdm\n",
    "from types import SimpleNamespace\n",
    "from sklearn import linear_model\n",
    "from sklearn.model_selection import KFold\n",
    "import seaborn as sns\n",
    "import traceback\n",
    "from itertools import product\n",
    "\n",
    "plt.rcParams['legend.fontsize'] = 'small'\n",
    "plt.rcParams['axes.labelsize'] = 'medium'\n",
    "plt.rcParams['axes.formatter.limits'] = [-2,3]\n",
    "plt.rcParams['axes.formatter.use_mathtext'] = True\n",
    "plt.rcParams['axes.spines.top'] = False\n",
    "plt.rcParams['axes.spines.right'] = False\n",
    "plt.rcParams['xtick.direction'] = 'in'\n",
    "plt.rcParams['ytick.direction'] = 'in'\n",
    "plt.rcParams['figure.dpi'] = '150'\n",
    "\n",
    "#Set global font parameters\n",
    "plt.rcParams['font.family'] = 'sans-serif'\n",
    "plt.rcParams['font.sans-serif'] = 'Arial'\n",
    "#Set font type to TrueType for compatibility\n",
    "plt.rcParams['pdf.fonttype'] = 42\n",
    "plt.rcParams['ps.fonttype'] = 42\n",
    "\n",
    "TARGET_COLOR = '#ff3654'\n",
    "NONTARGET_COLOR = '#5776ff'\n",
    "\n",
    "CR_COLOR = '#808080'\n",
    "NCR_COLOR = '#FF767C'\n",
    "CNO_COLOR = '#00BFFF'\n",
    "SWITCH_COLOR = '#B07A3B'\n",
    "LASER_COLOR = '#3375E9'\n",
    "GOOD_GREY = '#969696'\n",
    "GOOD_GREEN = '#32A852'\n",
    "NCR_COLOR_DESAT = '#D98C90'\n",
    "CR_COLOR_DESAT = '#A0A0A0'\n",
    "NCR_CR_cmap = mpl.colors.LinearSegmentedColormap.from_list('NCR-CR color map', [NCR_COLOR, CR_COLOR], N=1000)\n",
    "PHASE_COLORS = ['#DEB9E0','#B78AB9','#906D92','#ABC5E8','#869BB7','#5E6C80']#,'#6ded94','#50d979','#36bf5f']\n",
    "\n",
    "#dualanimalnames = ['BS_40','BS_41','BS_42','BS_49','BS_50','BS_51','BS_56','BS_59','BS_61','BS_67','BS_70','BS_72','BS_87','BS_108','DS_15','DS_19']\n",
    "dualanimalnames = ['BS_40','BS_41','BS_42','BS_49','BS_50','BS_51','BS_56','BS_59','BS_67','BS_70','BS_72','BS_87','BS_108','DS_15','DS_19']\n",
    "\n",
    "#act_directory = 'D:\\\\Analysis_Cache_archived_Oct_27_2022'\n",
    "act_directory = '..\\\\..\\\\Data\\\\Analysis_Cache'\n",
    "ops_directory = '..\\\\..\\\\Data\\\\Opsin_Cache'\n",
    "beh_directory = '..\\\\..\\\\Data\\\\Behavioor'"
   ]
  },
  {
   "cell_type": "code",
   "execution_count": null,
   "id": "fa3bef6a-922d-48a4-b1d5-601a9311e5b7",
   "metadata": {},
   "outputs": [],
   "source": []
  }
 ],
 "metadata": {
  "kernelspec": {
   "display_name": "Python 3 (ipykernel)",
   "language": "python",
   "name": "python3"
  },
  "language_info": {
   "codemirror_mode": {
    "name": "ipython",
    "version": 3
   },
   "file_extension": ".py",
   "mimetype": "text/x-python",
   "name": "python",
   "nbconvert_exporter": "python",
   "pygments_lexer": "ipython3",
   "version": "3.12.4"
  }
 },
 "nbformat": 4,
 "nbformat_minor": 5
}
