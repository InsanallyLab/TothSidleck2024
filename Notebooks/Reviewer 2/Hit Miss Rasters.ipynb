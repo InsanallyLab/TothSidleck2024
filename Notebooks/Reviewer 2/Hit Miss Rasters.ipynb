{
 "cells": [
  {
   "cell_type": "code",
   "execution_count": 1,
   "id": "bd4575fd-35bb-4117-b824-7096c93a1c0b",
   "metadata": {},
   "outputs": [],
   "source": [
    "import sys, os\n",
    "import json, pickle\n",
    "import matplotlib.pyplot as plt\n",
    "import matplotlib as mpl\n",
    "import numpy as np\n",
    "import pandas as pd\n",
    "import time as pytime\n",
    "import statsmodels.tsa.stattools as tsa\n",
    "import ruptures as rpt\n",
    "sys.path.append('../..')\n",
    "import InsanallyLabEphysTools as ilep\n",
    "from scipy.stats import gaussian_kde, sem, ttest_ind, ttest_rel, norm, mannwhitneyu, linregress, wilcoxon\n",
    "from tqdm import tqdm\n",
    "from types import SimpleNamespace\n",
    "from sklearn import linear_model\n",
    "from sklearn.model_selection import KFold\n",
    "import seaborn as sns\n",
    "import traceback\n",
    "from itertools import product\n",
    "\n",
    "plt.rcParams['legend.fontsize'] = 'small'\n",
    "plt.rcParams['axes.labelsize'] = 'medium'\n",
    "plt.rcParams['axes.formatter.limits'] = [-2,3]\n",
    "plt.rcParams['axes.formatter.use_mathtext'] = True\n",
    "plt.rcParams['axes.spines.top'] = False\n",
    "plt.rcParams['axes.spines.right'] = False\n",
    "plt.rcParams['xtick.direction'] = 'in'\n",
    "plt.rcParams['ytick.direction'] = 'in'\n",
    "plt.rcParams['figure.dpi'] = '150'\n",
    "\n",
    "#Set global font parameters\n",
    "plt.rcParams['font.family'] = 'sans-serif'\n",
    "plt.rcParams['font.sans-serif'] = 'Arial'\n",
    "#Set font type to TrueType for compatibility\n",
    "plt.rcParams['pdf.fonttype'] = 42\n",
    "plt.rcParams['ps.fonttype'] = 42\n",
    "\n",
    "TARGET_COLOR = '#ff3654'\n",
    "NONTARGET_COLOR = '#5776ff'\n",
    "\n",
    "CR_COLOR = '#808080'\n",
    "NCR_COLOR = '#FF767C'\n",
    "CNO_COLOR = '#00BFFF'\n",
    "SWITCH_COLOR = '#B07A3B'\n",
    "LASER_COLOR = '#3375E9'\n",
    "GOOD_GREY = '#969696'\n",
    "GOOD_GREEN = '#32A852'\n",
    "NCR_COLOR_DESAT = '#D98C90'\n",
    "CR_COLOR_DESAT = '#A0A0A0'\n",
    "NCR_CR_cmap = mpl.colors.LinearSegmentedColormap.from_list('NCR-CR color map', [NCR_COLOR, CR_COLOR], N=1000)\n",
    "PHASE_COLORS = ['#DEB9E0','#B78AB9','#906D92','#ABC5E8','#869BB7','#5E6C80']#,'#6ded94','#50d979','#36bf5f']\n",
    "\n",
    "#dualanimalnames = ['BS_40','BS_41','BS_42','BS_49','BS_50','BS_51','BS_56','BS_59','BS_61','BS_67','BS_70','BS_72','BS_87','BS_108','DS_15','DS_19']\n",
    "dualanimalnames = ['BS_40','BS_41','BS_42','BS_49','BS_50','BS_51','BS_56','BS_59','BS_67','BS_70','BS_72','BS_87','BS_108','DS_15','DS_19']\n",
    "\n",
    "#act_directory = 'D:\\\\Analysis_Cache_archived_Oct_27_2022'\n",
    "act_directory = '..\\\\..\\\\Data\\\\Analysis_Cache'\n",
    "ops_directory = '..\\\\..\\\\Data\\\\Opsin_Cache'\n",
    "beh_directory = '..\\\\..\\\\Data\\\\Behavioor'"
   ]
  },
  {
   "cell_type": "code",
   "execution_count": 2,
   "id": "21205ec7-687e-436b-87e9-6be6ac72edb4",
   "metadata": {
    "jupyter": {
     "source_hidden": true
    },
    "tags": []
   },
   "outputs": [],
   "source": [
    "class TrialInterval:\n",
    "    _startTimeSamples = 0\n",
    "    _endTimeSamples = 0\n",
    "    _isStartTimeRelToResponse = True\n",
    "    _isEndTimeRelToResponse = True\n",
    "    _averageLickDelay = 0.2 * 30000\n",
    "\n",
    "    def __init__(self,start,end,startresp,endresp):\n",
    "        self._startTimeSamples = start\n",
    "        self._endTimeSamples = end\n",
    "        self._isStartTimeRelToResponse = startresp\n",
    "        self._isEndTimeRelToResponse = endresp\n",
    "\n",
    "    def _CalculateAvgLickDelay(self,sessionfile):\n",
    "        go_responses = np.array(sessionfile.trials.response)[sessionfile.trials.go]\n",
    "        go_starts = np.array(sessionfile.trials.starts)[sessionfile.trials.go]\n",
    "        self._averageLickDelay = np.nanmean(go_responses - go_starts)\n",
    "\n",
    "    def _ToTimestamp(self,sessionfile,trial):\n",
    "        starttime = sessionfile.trials.starts[trial]\n",
    "        if self._isStartTimeRelToResponse:\n",
    "            starttime = sessionfile.trials.response[trial]\n",
    "            if np.isnan(starttime):\n",
    "                starttime = sessionfile.trials.starts[trial] + self._averageLickDelay\n",
    "        starttime = starttime + self._startTimeSamples\n",
    "\n",
    "        endtime = sessionfile.trials.starts[trial]\n",
    "        if self._isEndTimeRelToResponse:\n",
    "            endtime = sessionfile.trials.response[trial]\n",
    "            if np.isnan(endtime):\n",
    "                endtime = sessionfile.trials.starts[trial] + self._averageLickDelay\n",
    "        endtime = endtime + self._endTimeSamples\n",
    "\n",
    "        return [starttime,endtime]\n",
    "\n",
    "    def _ToString(self):\n",
    "        return f\"Interval has start {self._startTimeSamples}, end {self._startTimeSamples}. startresp {self._isStartTimeRelToResponse} and endresp {self._isEndTimeRelToResponse}\"\n",
    "\n",
    "# def statisticalComparison(sessionfile,clust,preCondition,postCondition):\n",
    "#     preInterval = TrialInterval(0,2.5*sessionfile.meta.fs,False,False)\n",
    "#     postInterval = TrialInterval(0,2.5*sessionfile.meta.fs,False,False)\n",
    "    \n",
    "#     allConditions = ilep.getAllConditions(sessionfile,clust)\n",
    "#     preTrials = allConditions[preCondition].trials\n",
    "#     postTrials = allConditions[postCondition].trials\n",
    "        \n",
    "#     preTrialRates = np.full_like(preTrials,np.nan,dtype='float')\n",
    "#     postTrialRates = np.full_like(postTrials,np.nan,dtype='float')    \n",
    "#     for idx,trial in enumerate(preTrials):\n",
    "#         start,end = preInterval._ToTimestamp(sessionfile,trial)\n",
    "#         spikes = ilep.getSpikeTimes(sessionfile,clust=clust,starttime=start,endtime=end)\n",
    "#         preTrialRates[idx] = len(spikes) / ((end-start)/sessionfile.meta.fs)\n",
    "#     for idx,trial in enumerate(postTrials):\n",
    "#         start,end = postInterval._ToTimestamp(sessionfile,trial)\n",
    "#         spikes = ilep.getSpikeTimes(sessionfile,clust=clust,starttime=start,endtime=end)\n",
    "#         postTrialRates[idx] = len(spikes) / ((end-start)/sessionfile.meta.fs)\n",
    "        \n",
    "#     pvalue_inc = mannwhitneyu(preTrialRates,postTrialRates,alternative='less').pvalue\n",
    "#     pvalue_dec = mannwhitneyu(preTrialRates,postTrialRates,alternative='greater').pvalue\n",
    "#     if pvalue_inc <= 0.05:# and np.median(postTrialRates) > np.median(preTrialRates):\n",
    "#         label = 'increased'\n",
    "#         pvalue = pvalue_inc\n",
    "#     elif pvalue_dec <= 0.05:# and np.median(postTrialRates) < np.median(preTrialRates):\n",
    "#         label = 'decreased'\n",
    "#         pvalue = pvalue_dec\n",
    "#     else:\n",
    "#         label = 'unchanged'\n",
    "#         pvalue = np.min(pvalue_inc,pvalue_dec)\n",
    "#     return label,pvalue\n",
    "\n",
    "def statisticalComparison(sessionfile,clust,preCondition,postCondition,preInterval,postInterval,iterations=5000,sample_percent=0.5,pthresh=0.95,modthresh=0.1):\n",
    "    if pthresh < 0.5:\n",
    "        raise Exception('pthresh cannot be less than 50%!')\n",
    "    \n",
    "    preInterval = TrialInterval(0,2.5*sessionfile.meta.fs,False,False)\n",
    "    postInterval = TrialInterval(0,2.5*sessionfile.meta.fs,False,False)\n",
    "    \n",
    "    allConditions = ilep.getAllConditions(sessionfile,clust)\n",
    "    preTrials = allConditions[preCondition].trials\n",
    "    postTrials = allConditions[postCondition].trials\n",
    "    \n",
    "    if preCondition == postCondition:\n",
    "        paired=True\n",
    "    else:\n",
    "        paired=False\n",
    "    \n",
    "    preTrialRates = np.full_like(preTrials,np.nan,dtype='float')\n",
    "    postTrialRates = np.full_like(postTrials,np.nan,dtype='float')\n",
    "    \n",
    "    for idx,trial in enumerate(preTrials):\n",
    "        start,end = preInterval._ToTimestamp(sessionfile,trial)\n",
    "        spikes = ilep.getSpikeTimes(sessionfile,clust=clust,starttime=start,endtime=end)\n",
    "        preTrialRates[idx] = len(spikes) / ((end-start)/sessionfile.meta.fs)\n",
    "        \n",
    "    for idx,trial in enumerate(postTrials):\n",
    "        start,end = postInterval._ToTimestamp(sessionfile,trial)\n",
    "        spikes = ilep.getSpikeTimes(sessionfile,clust=clust,starttime=start,endtime=end)\n",
    "        postTrialRates[idx] = len(spikes) / ((end-start)/sessionfile.meta.fs)\n",
    "    \n",
    "    increased=0\n",
    "    decreased=0\n",
    "    unchanged=0\n",
    "    \n",
    "    for i in range(iterations):\n",
    "        if paired and len(preTrialRates) != len(preTrialRates):\n",
    "            raise Exception('Non-equal length paired comparison')\n",
    "        if paired:\n",
    "            raise Exception('Paired comparison is not yet implemented')\n",
    "        else:\n",
    "            preIdxs = range(len(preTrialRates))\n",
    "            postIdxs = range(len(postTrialRates))\n",
    "            preIdxs = np.random.permutation(preIdxs)\n",
    "            postIdxs = np.random.permutation(postIdxs)\n",
    "            maxIdx = int(sample_percent*min(len(preIdxs),len(postIdxs)))\n",
    "            preIdxs = preIdxs[range(maxIdx)]\n",
    "            postIdxs = postIdxs[range(maxIdx)]\n",
    "            \n",
    "        preTrialsToCompare = preTrialRates[preIdxs]\n",
    "        postTrialsToCompare = postTrialRates[postIdxs]\n",
    "        \n",
    "        deltaTrialMean = np.mean(postTrialsToCompare - preTrialsToCompare)\n",
    "        \n",
    "        if deltaTrialMean >= modthresh:\n",
    "            increased+=1\n",
    "        elif deltaTrialMean <= -modthresh:\n",
    "            decreased+=1\n",
    "        else:\n",
    "            unchanged+=1\n",
    "            \n",
    "    p_increased = increased / (increased+decreased+unchanged)\n",
    "    p_decreased = decreased / (increased+decreased+unchanged)\n",
    "    p_unchanged = unchanged / (increased+decreased+unchanged)\n",
    "    \n",
    "    print(f\"inc: {p_increased}, dec: {p_decreased}, unch: {p_unchanged}\")\n",
    "    \n",
    "    if p_increased >= pthresh:\n",
    "        label='increased'\n",
    "        pval = 1-p_increased\n",
    "    elif p_decreased >= pthresh:\n",
    "        label='decreased'\n",
    "        pval = 1-p_decreased\n",
    "    elif p_unchanged >= pthresh:\n",
    "        label='unchanged'\n",
    "        pval = 1-p_unchanged\n",
    "    else:\n",
    "        label='inconclusive'\n",
    "        pval=1-np.max([p_increased,p_decreased,p_unchanged])\n",
    "    return label,pval"
   ]
  },
  {
   "cell_type": "code",
   "execution_count": 3,
   "id": "5b7edfdd-fc7e-41c1-b077-039cc8cd45a8",
   "metadata": {
    "jupyter": {
     "source_hidden": true
    },
    "tags": []
   },
   "outputs": [],
   "source": [
    "#this function calculates pval for one cluster(one cell)\n",
    "def calculate_NCR_CR_pval(sessionfile,clust):\n",
    "\n",
    "    #convert window(100ms) in samples\n",
    "    sessionfile.meta.fs #30000 samples / second from blackrock\n",
    "    window = sessionfile.meta.fs * 0.1\n",
    "    trials_to_use = sessionfile.trim[clust].trimmed_trials\n",
    "\n",
    "    #create array for stimulus period\n",
    "    #tone play start time\n",
    "    onset_window_start_time = np.zeros(len(trials_to_use))\n",
    "    for idx, trial in enumerate(trials_to_use):\n",
    "        onset_window_start_time[idx] = sessionfile.trials.starts[trial]\n",
    "\n",
    "    #tone play end time\n",
    "    onset_window_end_time = onset_window_start_time + window\n",
    "    #offset window start time\n",
    "    offset_window_start_time = onset_window_end_time\n",
    "    #offset window end time\n",
    "    offset_window_end_time = offset_window_start_time + window\n",
    "    #stimulus array\n",
    "    stimulus_array = np.zeros([len(onset_window_start_time),2,2])\n",
    "    for i in range(len(onset_window_start_time)):\n",
    "        stimulus_array[i] = [[onset_window_start_time[i],onset_window_end_time[i]],\n",
    "                             [offset_window_start_time[i],offset_window_end_time[i]]\n",
    "                            ]\n",
    "\n",
    "    #create array for baseline period\n",
    "    base_window1_start = onset_window_start_time - 3*window\n",
    "    base_window1_end = onset_window_start_time - 2*window\n",
    "    base_window2_start = base_window1_end\n",
    "    base_window2_end = onset_window_start_time - 1*window\n",
    "    base_window3_start = base_window2_end\n",
    "    base_window3_end = onset_window_start_time\n",
    "\n",
    "    baseline_array = np.zeros([len(base_window1_start),3,2])\n",
    "    for i in range(len(onset_window_start_time)):\n",
    "        baseline_array[i] = [[base_window1_start[i],base_window1_end[i]],\n",
    "                             [base_window2_start[i],base_window2_end[i]],\n",
    "                             [base_window3_start[i],base_window3_end[i]],\n",
    "                            ]\n",
    "\n",
    "    #evaluate spike count within stimulus window\n",
    "    spikecounts_stimuluswindow = np.zeros((len(onset_window_start_time),2))\n",
    "\n",
    "    for idx, t in enumerate(stimulus_array):\n",
    "        #print(t[0][0])\n",
    "\n",
    "        #spike count from onset window\n",
    "        spikecount_onsetwindow = len(ilep.getSpikeTimes(sessionfile,clust=clust,starttime=t[0][0],endtime=t[0][1]))\n",
    "\n",
    "        #spike count from offset window\n",
    "        spikecount_offsetwindow = len(ilep.getSpikeTimes(sessionfile,clust=clust,starttime=t[1][0],endtime=t[1][1]))\n",
    "\n",
    "        spikecounts_stimuluswindow[idx][0]=spikecount_onsetwindow\n",
    "        spikecounts_stimuluswindow[idx][1]=spikecount_offsetwindow\n",
    "\n",
    "    #evaluate spike count within baseline window\n",
    "    spikecounts_basewindow = np.zeros((len(onset_window_start_time),3))\n",
    "\n",
    "    for idx, t in enumerate(baseline_array):\n",
    "        #print(t[0][0])\n",
    "\n",
    "        #spike count from window1\n",
    "        spikecount_base_window1 = len(ilep.getSpikeTimes(sessionfile,clust=clust,starttime=t[0][0],endtime=t[0][1]))\n",
    "\n",
    "        #spike count from window2\n",
    "        spikecount_base_window2 = len(ilep.getSpikeTimes(sessionfile,clust=clust,starttime=t[1][0],endtime=t[1][1]))\n",
    "\n",
    "        #spike count from window3\n",
    "        spikecount_base_window3 = len(ilep.getSpikeTimes(sessionfile,clust=clust,starttime=t[2][0],endtime=t[2][1]))\n",
    "\n",
    "        spikecounts_basewindow[idx][0]=spikecount_base_window1\n",
    "        spikecounts_basewindow[idx][1]=spikecount_base_window2\n",
    "        spikecounts_basewindow[idx][2]=spikecount_base_window3\n",
    "\n",
    "    ###### CODE BELOW HERE SHOULD LOOP 5000 TIMES \n",
    "    iterations = 5000\n",
    "    #spikecounts_diff_mean_arr = []\n",
    "\n",
    "    CR_evok_appear=0\n",
    "    CR_sup_appear=0\n",
    "    NCR_appear=0\n",
    "\n",
    "    for i in range(iterations):\n",
    "\n",
    "        #1.subsampled 90% of the spike count changes from baseline,\n",
    "        #2.calculated the mean of these values, repeated this process 5000 times \n",
    "\n",
    "        #1.\n",
    "        #subsampled 90% trials\n",
    "        trials = range(len(spikecounts_stimuluswindow))\n",
    "        trials_perm = np.random.permutation(trials)\n",
    "        trials_subsamp = trials_perm[range(int(0.9*len(trials_perm)))]\n",
    "\n",
    "        #calculate spike count changes from baseline in the subsample\n",
    "        spikecounts_diff = []\n",
    "        for trial_idx in trials_subsamp:\n",
    "            random_stimulus = spikecounts_stimuluswindow[trial_idx][np.random.randint(2)]\n",
    "            random_base = spikecounts_basewindow[trial_idx][np.random.randint(3)]\n",
    "            spikecounts_diff.append(random_stimulus-random_base)\n",
    "\n",
    "        #2. \n",
    "        #calculate the mean of the spike counts diff  \n",
    "        spikecounts_diff_mean = np.mean(spikecounts_diff)\n",
    "        #calculate the # of appearance in each categotiry in 5000 iterations\n",
    "        if spikecounts_diff_mean > 0.1:\n",
    "            CR_evok_appear+=1\n",
    "        elif spikecounts_diff_mean < -0.1:\n",
    "            CR_sup_appear+=1\n",
    "        else:\n",
    "            NCR_appear+=1\n",
    "            \n",
    "    p_value_evoked = CR_evok_appear/(iterations)\n",
    "    p_value_suppressed = CR_sup_appear/(iterations)\n",
    "    p_value_NCR = NCR_appear/(iterations)\n",
    "    return p_value_evoked, p_value_suppressed, p_value_NCR"
   ]
  },
  {
   "cell_type": "code",
   "execution_count": 4,
   "id": "9dee6f74-1330-4c61-9172-245b2ecfe692",
   "metadata": {
    "jupyter": {
     "source_hidden": true
    },
    "tags": []
   },
   "outputs": [],
   "source": [
    "def get_response_times_with_default(sessionfile):\n",
    "    response_times_in_trial = (sessionfile.trials.response-sessionfile.trials.starts)\n",
    "    default_response_time = np.nanmedian(response_times_in_trial)\n",
    "\n",
    "    response_times = sessionfile.trials.response\n",
    "    nogo_trials = np.isnan(response_times)\n",
    "    response_times[nogo_trials] = sessionfile.trials.starts[nogo_trials]+default_response_time\n",
    "    return response_times"
   ]
  },
  {
   "cell_type": "code",
   "execution_count": 5,
   "id": "3a20aa7b-650e-40ae-b5e2-b9c6da84a5a5",
   "metadata": {
    "tags": []
   },
   "outputs": [
    {
     "name": "stdout",
     "output_type": "stream",
     "text": [
      "Fetching files for BS_51\n",
      "Fetching files for BS_52\n",
      "Fetching files for BS_56\n",
      "Fetching files for BS_59\n",
      "Fetching files for BS_61\n",
      "Fetching files for BS_86\n",
      "Fetching files for BS_92\n",
      "Fetching files for BS_100\n",
      "Fetching files for BS_103\n",
      "Fetching files for BS_111\n",
      "Fetching files for BS_119\n",
      "Fetching files for BS_123\n",
      "Fetching files for BS_128\n",
      "Fetching files for BS_131\n",
      "Fetching files for BS_139\n",
      "Fetching files for BS_163\n",
      "Fetching files for BS_165\n",
      "Fetching files for BS_174\n",
      "Fetching files for BS_179\n",
      "Fetching files for BS_191\n",
      "Fetching files for BS_192\n",
      "Fetching files for BS_33\n",
      "Fetching files for BS_67\n",
      "Fetching files for BS_73\n",
      "Fetching files for BS_78\n",
      "Fetching files for BS_108\n",
      "Fetching files for BS_40\n",
      "Fetching files for BS_41\n",
      "Fetching files for BS_42\n",
      "Fetching files for BS_49\n",
      "Fetching files for BS_50\n",
      "Fetching files for BS_70\n",
      "Fetching files for BS_72\n",
      "Fetching files for BS_83\n",
      "Fetching files for BS_85\n",
      "Fetching files for BS_87\n",
      "Fetching files for BS_95\n",
      "Fetching files for BS_113\n",
      "Fetching files for DS_15\n",
      "Fetching files for DS_16\n",
      "Fetching files for DS_17\n",
      "Fetching files for DS_19\n",
      "Fetching files for DS_22\n",
      "Fetching files for DS_23\n",
      "Fetching files for DS_24\n",
      "Fetching files for DS_27\n",
      "Fetching files for DS_28\n",
      "Fetching files for DS_13\n",
      "Fetching files for BS_173\n",
      "Fetching files for BS_175\n",
      "Fetching files for BS_187\n",
      "Fetching files for BS_188\n",
      "Fetching files for BS_213\n",
      "Fetching files for BS_214\n",
      "Fetching files for TH_217\n",
      "Fetching files for AE_235\n",
      "Fetching files for AE_236\n",
      "Fetching files for TH_237\n",
      "Fetching files for AE_252\n",
      "Fetching files for AE_254\n",
      "Fetching files for AE_238\n",
      "Fetching files for AE_239\n",
      "Fetching files for AE_240\n",
      "Fetching files for AE_267\n",
      "Fetching files for AO_273\n",
      "Fetching files for AO_274\n",
      "Fetching files for AE_287\n",
      "Fetching files for AE_301\n",
      "Fetching files for AE_312\n",
      "..\\..\\Data\\Behavioor\\BS_61\\behavior\\BS_61_42v2_reversal.txt: No columns to parse from file\n",
      "..\\..\\Data\\Behavioor\\BS_103\\behavior\\BS_103_11v4_opto.txt: No columns to parse from file\n",
      "Error loading ..\\..\\Data\\Behavioor\\BS_123\\behavior\\BS_123_18v1_opto.txt: No columns to parse from file\n",
      "..\\..\\Data\\Behavioor\\BS_123\\behavior\\BS_123_18v1_opto.txt: No columns to parse from file\n",
      "ERROR: MULTIPLE REVERSALS IN ANIMAL BS_179\n",
      "..\\..\\Data\\Behavioor\\BS_191\\behavior\\BS_191_1v2.txt: No columns to parse from file\n",
      "Error loading ..\\..\\Data\\Behavioor\\BS_33\\behavior\\BS_33_9v1.txt: No columns to parse from file\n",
      "..\\..\\Data\\Behavioor\\BS_33\\behavior\\BS_33_9v1.txt: No columns to parse from file\n",
      "..\\..\\Data\\Behavioor\\BS_33\\behavior\\BS_33_20v1_reversal.txt: No columns to parse from file\n",
      "..\\..\\Data\\Behavioor\\BS_49\\behavior\\BS_49_14v4_reversal.txt: No columns to parse from file\n",
      "Error loading ..\\..\\Data\\Behavioor\\BS_87\\behavior\\BS_87_1v1.txt: No columns to parse from file\n",
      "..\\..\\Data\\Behavioor\\BS_87\\behavior\\BS_87_1v1.txt: No columns to parse from file\n",
      "DS_15 session 21 has no response time\n",
      "DS_15 session 22 has no response time\n",
      "DS_15 session 23 has no response time\n",
      "DS_15 session 24 has no response time\n",
      "DS_15 session 25 has no response time\n",
      "DS_15 session 26 has no response time\n",
      "DS_15 session 27 has no response time\n",
      "DS_15 session 29 has no response time\n",
      "DS_16 session 21 has no response time\n",
      "DS_16 session 22 has no response time\n",
      "DS_16 session 23 has no response time\n",
      "DS_16 session 24 has no response time\n",
      "DS_16 session 25 has no response time\n",
      "DS_16 session 26 has no response time\n",
      "DS_16 session 27 has no response time\n",
      "DS_16 session 28 has no response time\n",
      "DS_16 session 29 has no response time\n",
      "DS_16 session 30 has no response time\n",
      "DS_16 session 31 has no response time\n",
      "DS_17 session 13 has no response time\n",
      "DS_17 session 14 has no response time\n",
      "DS_17 session 15 has no response time\n",
      "DS_17 session 16 has no response time\n",
      "DS_17 session 17 has no response time\n",
      "DS_17 session 18 has no response time\n",
      "DS_17 session 19 has no response time\n",
      "DS_17 session 20 has no response time\n",
      "DS_17 session 21 has no response time\n",
      "DS_17 session 22 has no response time\n",
      "DS_17 session 23 has no response time\n",
      "DS_17 session 24 has no response time\n",
      "DS_17 session 25 has no response time\n",
      "DS_17 session 26 has no response time\n",
      "DS_17 session 27 has no response time\n",
      "DS_19 session 11 has no response time\n",
      "DS_19 session 12 has no response time\n",
      "DS_19 session 13 has no response time\n",
      "DS_19 session 14 has no response time\n",
      "DS_19 session 15 has no response time\n",
      "DS_19 session 16 has no response time\n",
      "DS_19 session 17 has no response time\n",
      "DS_19 session 18 has no response time\n",
      "DS_19 session 19 has no response time\n",
      "DS_19 session 20 has no response time\n",
      "DS_19 session 21 has no response time\n",
      "DS_19 session 22 has no response time\n",
      "DS_19 session 23 has no response time\n",
      "DS_19 session 24 has no response time\n",
      "DS_19 session 25 has no response time\n",
      "DS_19 session 26 has no response time\n",
      "DS_19 session 27 has no response time\n",
      "DS_22 session 13 has no response time\n",
      "DS_22 session 14 has no response time\n",
      "DS_22 session 15 has no response time\n",
      "DS_22 session 16 has no response time\n",
      "DS_22 session 17 has no response time\n",
      "DS_23 session 15 has no response time\n",
      "DS_23 session 16 has no response time\n",
      "DS_23 session 17 has no response time\n",
      "DS_23 session 18 has no response time\n",
      "DS_23 session 19 has no response time\n",
      "DS_23 session 20 has no response time\n",
      "DS_23 session 21 has no response time\n",
      "DS_23 session 22 has no response time\n",
      "DS_23 session 23 has no response time\n",
      "DS_23 session 24 has no response time\n",
      "DS_23 session 25 has no response time\n",
      "DS_23 session 26 has no response time\n",
      "DS_23 session 27 has no response time\n",
      "DS_23 session 28 has no response time\n",
      "DS_23 session 32 has no response time\n",
      "DS_23 session 33 has no response time\n",
      "DS_24 session 11 has no response time\n",
      "DS_24 session 12 has no response time\n",
      "DS_24 session 13 has no response time\n",
      "DS_24 session 14 has no response time\n",
      "DS_24 session 15 has no response time\n",
      "DS_24 session 16 has no response time\n",
      "DS_24 session 17 has no response time\n",
      "DS_24 session 18 has no response time\n",
      "DS_24 session 19 has no response time\n",
      "DS_24 session 20 has no response time\n",
      "DS_24 session 21 has no response time\n",
      "DS_24 session 22 has no response time\n",
      "DS_24 session 23 has no response time\n",
      "DS_24 session 24 has no response time\n",
      "DS_24 session 25 has no response time\n",
      "DS_24 session 26 has no response time\n",
      "..\\..\\Data\\Behavioor\\BS_173\\behavior\\BS_173_9v2.txt: No columns to parse from file\n",
      "..\\..\\Data\\Behavioor\\AE_238\\behavior\\AE_238_48v2.txt: No columns to parse from file\n",
      "..\\..\\Data\\Behavioor\\AE_239\\behavior\\AE_239_27v3.txt: No columns to parse from file\n",
      "..\\..\\Data\\Behavioor\\AO_273\\behavior\\AO_273_20v2_reversal.txt: No columns to parse from file\n"
     ]
    }
   ],
   "source": [
    "animalBehaviors = ilep.getAllBehavior(beh_directory)"
   ]
  },
  {
   "cell_type": "code",
   "execution_count": 6,
   "id": "8596b815-eac6-4091-9ba6-5ffd8c01a820",
   "metadata": {
    "tags": []
   },
   "outputs": [
    {
     "name": "stderr",
     "output_type": "stream",
     "text": [
      "C:\\Users\\4thgr\\OneDrive\\Documents\\TothSidleck2024\\Notebooks\\Reviewer 2\\../..\\InsanallyLabEphysTools\\behavior.py:94: RuntimeWarning: invalid value encountered in scalar divide\n",
      "  pc = (hit+creject)/(hit+miss+falarm+creject)\n",
      "posx and posy should be finite values\n",
      "posx and posy should be finite values\n",
      "posx and posy should be finite values\n",
      "posx and posy should be finite values\n",
      "posx and posy should be finite values\n",
      "posx and posy should be finite values\n",
      "posx and posy should be finite values\n",
      "posx and posy should be finite values\n",
      "posx and posy should be finite values\n",
      "posx and posy should be finite values\n",
      "posx and posy should be finite values\n",
      "posx and posy should be finite values\n",
      "posx and posy should be finite values\n",
      "posx and posy should be finite values\n",
      "posx and posy should be finite values\n",
      "posx and posy should be finite values\n",
      "posx and posy should be finite values\n",
      "posx and posy should be finite values\n",
      "posx and posy should be finite values\n",
      "posx and posy should be finite values\n",
      "posx and posy should be finite values\n",
      "posx and posy should be finite values\n",
      "posx and posy should be finite values\n",
      "posx and posy should be finite values\n",
      "posx and posy should be finite values\n",
      "posx and posy should be finite values\n",
      "posx and posy should be finite values\n",
      "posx and posy should be finite values\n",
      "posx and posy should be finite values\n",
      "posx and posy should be finite values\n",
      "posx and posy should be finite values\n",
      "posx and posy should be finite values\n",
      "posx and posy should be finite values\n",
      "posx and posy should be finite values\n",
      "posx and posy should be finite values\n",
      "posx and posy should be finite values\n",
      "posx and posy should be finite values\n",
      "posx and posy should be finite values\n",
      "posx and posy should be finite values\n",
      "posx and posy should be finite values\n",
      "posx and posy should be finite values\n",
      "posx and posy should be finite values\n",
      "posx and posy should be finite values\n",
      "posx and posy should be finite values\n",
      "posx and posy should be finite values\n"
     ]
    },
    {
     "data": {
      "image/png": "[encoded data removed]",
      "text/plain": [
       "<Figure size 2250x2250 with 15 Axes>"
      ]
     },
     "metadata": {},
     "output_type": "display_data"
    }
   ],
   "source": [
    "learning_phases,_,_ = ilep.calculateLearningPhasesV2(dualanimalnames,animalBehaviors,plot=True)"
   ]
  },
  {
   "cell_type": "code",
   "execution_count": 7,
   "id": "ba3c3f49-64c4-4522-aa69-bb2e165b661e",
   "metadata": {},
   "outputs": [
    {
     "name": "stderr",
     "output_type": "stream",
     "text": [
      "100%|██████████| 740/740 [00:31<00:00, 23.50it/s]\n"
     ]
    }
   ],
   "source": [
    "EnumSession = []\n",
    "EnumClust = []\n",
    "sessions = os.listdir(act_directory)\n",
    "for session in tqdm(sessions):\n",
    "    sessionfile = ilep.loadSessionCached(act_directory,session)\n",
    "    \n",
    "    if sessionfile.meta.task == 'passive no behavior':\n",
    "        continue\n",
    "    if sessionfile.meta.task in ['tuning nonreversal','tuning switch','tuning reversal']:\n",
    "        continue\n",
    "    if sessionfile.meta.region != 'AC':\n",
    "        continue\n",
    "    \n",
    "    if sessionfile.meta.animal not in dualanimalnames:\n",
    "        continue\n",
    "    \n",
    "    for clust in sessionfile.clusters.good:\n",
    "        EnumSession.append(session)\n",
    "        EnumClust.append(clust)"
   ]
  },
  {
   "cell_type": "code",
   "execution_count": 8,
   "id": "81d9c49a-2e70-495f-98d5-50efe9e3dc93",
   "metadata": {},
   "outputs": [
    {
     "name": "stderr",
     "output_type": "stream",
     "text": [
      "100%|██████████| 1829/1829 [00:45<00:00, 40.02it/s] "
     ]
    },
    {
     "name": "stdout",
     "output_type": "stream",
     "text": [
      "errors for: []\n"
     ]
    },
    {
     "name": "stderr",
     "output_type": "stream",
     "text": [
      "\n"
     ]
    }
   ],
   "source": [
    "EILphases = np.full_like(EnumSession,np.nan)\n",
    "error_animals = []\n",
    "\n",
    "for idx,session in enumerate(tqdm(EnumSession)):\n",
    "    sessionfile = ilep.loadSessionCached(act_directory,session)\n",
    "    \n",
    "    try:\n",
    "        animal = sessionfile.meta.animal\n",
    "        day = sessionfile.meta.day_of_training\n",
    "        \n",
    "        if sessionfile.meta.task in ['switch','opto switch','tuning switch']:\n",
    "            EILphases[idx] = 'switch'\n",
    "\n",
    "        elif sessionfile.meta.task in ['nonreversal','opto nonreversal','tuning nonreversal'] and day in learning_phases[animal].pre_early_days:\n",
    "            EILphases[idx] = 'pre early'\n",
    "        elif sessionfile.meta.task in ['nonreversal','opto nonreversal','tuning nonreversal']  and day in learning_phases[animal].pre_late_days:\n",
    "            EILphases[idx] = 'pre late'\n",
    "        elif sessionfile.meta.task in ['nonreversal','opto nonreversal','tuning nonreversal'] and day in learning_phases[animal].pre_expert_days:\n",
    "            EILphases[idx] = 'pre expert'\n",
    "\n",
    "        elif sessionfile.meta.task in ['reversal','opto reversal','tuning reversal']  and day in learning_phases[animal].post_early_days:\n",
    "            EILphases[idx] = 'post early'\n",
    "        elif sessionfile.meta.task in ['reversal','opto reversal','tuning reversal']  and day in learning_phases[animal].post_late_days:\n",
    "            EILphases[idx] = 'post late'\n",
    "        elif sessionfile.meta.task in ['reversal','opto reversal','tuning reversal']  and day in learning_phases[animal].post_expert_days:\n",
    "            EILphases[idx] = 'post expert'\n",
    "    except Exception as e:\n",
    "        #print(ilep.generateDateString(sessionfile))\n",
    "        error_animals.append(sessionfile.meta.animal)\n",
    "        pass\n",
    "        raise e\n",
    "                             \n",
    "error_animals = np.unique(error_animals)\n",
    "print('errors for: '+str(error_animals))"
   ]
  },
  {
   "cell_type": "code",
   "execution_count": null,
   "id": "164e08ca-63ed-4cdd-8f44-d5cdd9d2a7ab",
   "metadata": {},
   "outputs": [],
   "source": []
  },
  {
   "cell_type": "code",
   "execution_count": null,
   "id": "df32fea8-3e70-49f8-a01d-c006e3ead3e3",
   "metadata": {},
   "outputs": [],
   "source": []
  },
  {
   "cell_type": "markdown",
   "id": "46919bbd-587e-45e3-aff3-a7bd0e919f03",
   "metadata": {},
   "source": [
    "# Folder Reset"
   ]
  },
  {
   "cell_type": "code",
   "execution_count": 9,
   "id": "e7b045a1-427f-4b6e-80ae-b5a867ccf030",
   "metadata": {},
   "outputs": [],
   "source": [
    "### Reset raster directory\n",
    "os.mkdir(os.path.join('C:\\\\Users\\\\4thgr\\\\Documents\\\\Rasters','HitMissRasters'))\n",
    "os.mkdir(os.path.join('C:\\\\Users\\\\4thgr\\\\Documents\\\\Rasters','HitMissRasters','pngs'))\n",
    "os.mkdir(os.path.join('C:\\\\Users\\\\4thgr\\\\Documents\\\\Rasters','HitMissRasters','pdfs'))\n",
    "for modcat in ['CR','NCR','Middle']:\n",
    "    os.mkdir(os.path.join('C:\\\\Users\\\\4thgr\\\\Documents\\\\Rasters','HitMissRasters',modcat))\n",
    "    os.mkdir(os.path.join('C:\\\\Users\\\\4thgr\\\\Documents\\\\Rasters','HitMissRasters',modcat,'pdfs'))\n",
    "    os.mkdir(os.path.join('C:\\\\Users\\\\4thgr\\\\Documents\\\\Rasters','HitMissRasters',modcat,'pngs'))\n",
    "    for phase in ['pre early','pre late','pre expert','switch','post early','post late','post expert']:\n",
    "        os.mkdir(os.path.join('C:\\\\Users\\\\4thgr\\\\Documents\\\\Rasters','HitMissRasters',modcat,phase))\n",
    "        os.mkdir(os.path.join('C:\\\\Users\\\\4thgr\\\\Documents\\\\Rasters','HitMissRasters',modcat,phase,'pdfs'))\n",
    "        os.mkdir(os.path.join('C:\\\\Users\\\\4thgr\\\\Documents\\\\Rasters','HitMissRasters',modcat,phase,'pngs'))"
   ]
  },
  {
   "cell_type": "code",
   "execution_count": null,
   "id": "3d18ab8a-d29d-4a0e-866a-09e600a24cd4",
   "metadata": {},
   "outputs": [],
   "source": []
  },
  {
   "cell_type": "code",
   "execution_count": null,
   "id": "f5deae80-3f2f-452d-b405-8d2dbee0aa01",
   "metadata": {},
   "outputs": [],
   "source": []
  },
  {
   "cell_type": "code",
   "execution_count": null,
   "id": "8ad3bd90-29d1-41c3-9197-dc8546a21da7",
   "metadata": {},
   "outputs": [],
   "source": []
  },
  {
   "cell_type": "code",
   "execution_count": null,
   "id": "c1788383-9b10-48ad-8385-eb1f6cbba418",
   "metadata": {},
   "outputs": [],
   "source": []
  },
  {
   "cell_type": "code",
   "execution_count": null,
   "id": "5607a0ef-f5bf-468d-b5a9-e3815ded929a",
   "metadata": {},
   "outputs": [],
   "source": []
  },
  {
   "cell_type": "code",
   "execution_count": null,
   "id": "240b5f52-daed-4c82-93ab-da613e3ee33a",
   "metadata": {},
   "outputs": [],
   "source": []
  },
  {
   "cell_type": "code",
   "execution_count": null,
   "id": "66756f70-28f8-4b51-89a5-4885eb949c56",
   "metadata": {},
   "outputs": [],
   "source": []
  },
  {
   "cell_type": "code",
   "execution_count": null,
   "id": "8577ffc8-abf1-42ea-be8b-56ffd1842275",
   "metadata": {},
   "outputs": [],
   "source": []
  },
  {
   "cell_type": "markdown",
   "id": "7adf616b-322d-4294-b43a-7ceccff03fd6",
   "metadata": {},
   "source": [
    "# Plotting Code"
   ]
  },
  {
   "cell_type": "code",
   "execution_count": 10,
   "id": "67d9ca73-2ab8-4526-b221-412c261f68f8",
   "metadata": {
    "tags": []
   },
   "outputs": [],
   "source": [
    "def visualizeClusterChoiceInternal(sessionfile,clust,ax1,ax2,Figure_start_time_ms=-250,Figure_end_time_ms=1000,xtickstouse=[0,500,1000],xticklabelstouse=None,align_to_choice=False,switch_cond='NA',limitToUse=None):\n",
    "    buffer = 250\n",
    "    sort_by_response_latency = False # Not implemented\n",
    "    bw_scott_factor = 3\n",
    "    \n",
    "    if align_to_choice:\n",
    "        mn = 0.8\n",
    "        spread = 0.5\n",
    "    else:\n",
    "        mn = 3.5\n",
    "        spread = 2\n",
    "    \n",
    "    condition_of_interest = 'ERROR'\n",
    "    assert (sessionfile.meta.task not in ['switch','opto switch','tuning_switch','second switch']) or (switch_cond != 'NA')\n",
    "    if align_to_choice:\n",
    "        if sessionfile.meta.task in ['switch','opto switch','tuning_switch','second switch']:\n",
    "            condition_of_interest = switch_cond+'_go'\n",
    "        else:\n",
    "            condition_of_interest = 'go'\n",
    "    else:\n",
    "        if sessionfile.meta.task in ['switch','opto switch','tuning_switch','second switch']:\n",
    "            condition_of_interest = switch_cond\n",
    "        else:\n",
    "            condition_of_interest = 'all_trials'\n",
    "    \n",
    "    response_times = sessionfile.trials.response#get_response_times_with_default(sessionfile)\n",
    "    ax2.spines['bottom'].set_visible(False)\n",
    "    ax1.spines['left'].set_visible(False)\n",
    "    ax2.tick_params(direction='out')\n",
    "#     ax1.get_yaxis().set_visible(False)\n",
    "\n",
    "    if align_to_choice:\n",
    "        Y = sessionfile.responsiveness[clust][condition_of_interest].FRmodulation_choice\n",
    "    else:\n",
    "        Y = sessionfile.responsiveness[clust][condition_of_interest].FRmodulation\n",
    "    if np.isnan(Y):\n",
    "        color_to_use = 'k'\n",
    "    else:\n",
    "        color_to_use = NCR_CR_cmap( (Y-(mn-spread/2))/ (spread) )\n",
    "\n",
    "    ### Get set of all trials to consider\n",
    "    allConditions = ilep.getAllConditions(sessionfile,clust)\n",
    "    trialsToPlot = allConditions[condition_of_interest].trials\n",
    "    \n",
    "    ### Reorder trials\n",
    "    # Nogo then go\n",
    "    trials_nogo = allConditions['miss'].trials\n",
    "    trials_go = allConditions['hit'].trials\n",
    "    trialsToPlot = np.concatenate((trials_nogo,trials_go))\n",
    "    len_nogo = len(trials_nogo)\n",
    "    len_go = len(trials_go)\n",
    "#     # Just nogo\n",
    "#     trialsToPlot = allConditions['nogo'].trials\n",
    "    ### End trial reordering\n",
    "\n",
    "    ### Extract spike times\n",
    "    clustSpikes = ilep.getSpikeTimes(sessionfile,clust=clust)\n",
    "    trialSpikes = []\n",
    "    trialStimTimes = []\n",
    "    trialChoiceTimes = []\n",
    "    for trial in trialsToPlot:\n",
    "\n",
    "        #Need to get spike times for each trail...\n",
    "        if align_to_choice:\n",
    "            starttime = response_times[trial]+(Figure_start_time_ms-buffer)*sessionfile.meta.fs/1000\n",
    "            endtime = response_times[trial]+(Figure_end_time_ms+buffer)*sessionfile.meta.fs/1000\n",
    "        else:\n",
    "            starttime = sessionfile.trials.starts[trial]+(Figure_start_time_ms-buffer)*sessionfile.meta.fs/1000\n",
    "            endtime = sessionfile.trials.starts[trial]+(Figure_end_time_ms+buffer)*sessionfile.meta.fs/1000\n",
    "        \n",
    "        this_trial_spikes = ilep.getSpikeTimes(sessionfile,clust=clust,starttime=starttime,endtime=endtime)\n",
    "        if align_to_choice:\n",
    "            this_trial_spikes = this_trial_spikes - response_times[trial]\n",
    "        else:\n",
    "            this_trial_spikes = this_trial_spikes - sessionfile.trials.starts[trial]\n",
    "        this_trial_spikes = this_trial_spikes * 1000 / sessionfile.meta.fs\n",
    "\n",
    "        trialSpikes.append(this_trial_spikes)\n",
    "        if align_to_choice:\n",
    "            trialStimTimes.append(-(response_times[trial]-sessionfile.trials.starts[trial])/sessionfile.meta.fs*1000)\n",
    "            trialChoiceTimes.append(0)\n",
    "        else:\n",
    "            trialStimTimes.append(0)\n",
    "            trialChoiceTimes.append((response_times[trial]-sessionfile.trials.starts[trial])/sessionfile.meta.fs*1000)\n",
    "    trialSpikes = np.array(trialSpikes,dtype='object')\n",
    "\n",
    "    #Plot Raster\n",
    "    #NOGO\n",
    "    count = 0\n",
    "    for idx,trial in enumerate(trials_nogo):\n",
    "        if count < 15:\n",
    "            X = trialSpikes[idx]\n",
    "            Y = np.ones_like(trialSpikes[idx])*count\n",
    "            mask = np.logical_and( np.greater(X,Figure_start_time_ms) , np.less(X,Figure_end_time_ms) )\n",
    "            if np.sum(mask) > 0:\n",
    "                X = X[mask]\n",
    "                Y = Y[mask]\n",
    "                this_trial_col = 'purple'\n",
    "                ax1.scatter(X,Y,color=this_trial_col,s=9.,marker=2,lw=1.5,zorder=0,clip_on=False)\n",
    "                count += 1\n",
    "    #GO\n",
    "    count = 0\n",
    "    for idx,trial in enumerate(trials_go):\n",
    "        if count < 15:\n",
    "            X = trialSpikes[idx+len_nogo]\n",
    "            Y = np.ones_like(trialSpikes[idx+len_nogo])*(count+15)\n",
    "            mask = np.logical_and( np.greater(X,Figure_start_time_ms) , np.less(X,Figure_end_time_ms) )\n",
    "            if np.sum(mask) > 0:\n",
    "                X = X[mask]\n",
    "                Y = Y[mask]\n",
    "                this_trial_col = 'green'\n",
    "                ax1.scatter(X,Y,color=this_trial_col,s=9.,marker=2,lw=1.5,zorder=0,clip_on=False)\n",
    "                count += 1\n",
    "    \n",
    "    \n",
    "    \n",
    "    ### Plot stimulus times\n",
    "    if align_to_choice:\n",
    "        X = np.array(trialStimTimes)\n",
    "        Y = np.array(range(len(trialsToPlot)))\n",
    "        mask = np.less(Y,30)\n",
    "        X = X[mask]\n",
    "        Y = Y[mask]+0.5\n",
    "        ax1.scatter(X,Y,marker='o',fc='k',ec='k',zorder=1,s=10,lw=2)#,clip_on=False)\n",
    "#     ### Plot response times\n",
    "#     if align_to_choice:\n",
    "#         ax1.scatter(trialChoiceTimes,range(len(trialsToPlot)),marker='o',fc='g',ec='g',zorder=1,s=10,lw=0)\n",
    "\n",
    "#     if EIL == 'switch':\n",
    "#        try:\n",
    "#            switch_point = np.where(np.greater(trialsToPlot,200))[0][0]-0.5\n",
    "#            ax1.axhline(switch_point,linestyle='--',lw=1,zorder=-10,color='k')\n",
    "#        except:\n",
    "#            pass\n",
    "    \n",
    "    #Legend\n",
    "#     ax1.scatter([],[],marker='o',fc='k',ec='k',s=15,label='stimulus')\n",
    "#     ax1.scatter([],[],marker='o',fc='g',ec='g',s=15,label='response')\n",
    "#     lgd = ax1.legend(frameon=False,loc=(-0.25,1),ncol=2,fontsize=14)\n",
    "    \n",
    "    #Set trial limits\n",
    "    max_trial_value = len(trialsToPlot)\n",
    "    sequence_of_possible_axis_limits = np.array([1,2,4,6,8,10,12,16,20,30])#,40,50,60,80,100,120,140,150,160,180,200])#,220,240,260,280,300,320,340,360,380,400])\n",
    "    idx_of_okay_limits = np.less_equal(sequence_of_possible_axis_limits,max_trial_value)\n",
    "    valid_limits = sequence_of_possible_axis_limits[idx_of_okay_limits]\n",
    "    if not len(valid_limits) > 0:\n",
    "        return False,[]\n",
    "    limit = np.max(valid_limits)\n",
    "    ax1.set_xlim([starttime,endtime])\n",
    "    ax1.set_ylim([0,limit])\n",
    "#     ax1.set_yticks([0,limit/2,limit])\n",
    "#     ax1.set_ylabel('Trial')\n",
    "    ax1.set_yticks([])\n",
    "\n",
    "\n",
    "\n",
    "    \n",
    "    #Plot PSTH\n",
    "    starttime = Figure_start_time_ms\n",
    "    endtime = Figure_end_time_ms\n",
    "    xrange = np.linspace(starttime,endtime,num=1000)\n",
    "    trialSpikes_nogo = trialSpikes[range(len_nogo)]\n",
    "    numSplits = min(10,len(trialSpikes_nogo))\n",
    "    if numSplits < 2:\n",
    "        return False,[] ### Return a failure\n",
    "    FR = np.full((numSplits,len(xrange)),np.nan)\n",
    "    kf = KFold(n_splits=numSplits)\n",
    "    for idx,(_,train_index) in enumerate(kf.split(trialSpikes_nogo)):\n",
    "        PSTHspikes = np.concatenate(trialSpikes_nogo[train_index])\n",
    "        if len(PSTHspikes) == 0:\n",
    "            FR[idx,:] = np.zeros(len(xrange))\n",
    "            continue\n",
    "        bw = len(PSTHspikes)**(-1./5) / bw_scott_factor\n",
    "        KDE = gaussian_kde(PSTHspikes,bw_method=bw)\n",
    "        FR[idx,:] = KDE.evaluate(xrange)\n",
    "        FR[idx,:] = FR[idx,:] * len(PSTHspikes) / len(train_index) * 1000 #1000 is conversion to s/s because units are all in ms for this plot\n",
    "    avg_FR = np.mean(FR,axis=0)\n",
    "    sem_FR = sem(FR,axis=0)\n",
    "    ax2.plot(xrange,avg_FR,lw=2,color='purple')\n",
    "    ax2.fill_between(xrange,avg_FR-sem_FR,avg_FR+sem_FR,color='purple',alpha=0.1,zorder=-10,lw=0)\n",
    "\n",
    "\n",
    "    \n",
    "    #Plot PSTH\n",
    "    starttime = Figure_start_time_ms\n",
    "    endtime = Figure_end_time_ms\n",
    "    xrange = np.linspace(starttime,endtime,num=1000)\n",
    "    trialSpikes_go = trialSpikes[range(len_nogo,len_nogo+len_go)]\n",
    "    numSplits = min(10,len(trialSpikes_go))\n",
    "    if numSplits < 2:\n",
    "        return False,[] ### Return a failure\n",
    "    FR = np.full((numSplits,len(xrange)),np.nan)\n",
    "    kf = KFold(n_splits=numSplits)\n",
    "    for idx,(_,train_index) in enumerate(kf.split(trialSpikes_go)):\n",
    "        PSTHspikes = np.concatenate(trialSpikes_go[train_index])\n",
    "        if len(PSTHspikes) == 0:\n",
    "            FR[idx,:] = np.zeros(len(xrange))\n",
    "            continue\n",
    "        bw = len(PSTHspikes)**(-1./5) / bw_scott_factor\n",
    "        KDE = gaussian_kde(PSTHspikes,bw_method=bw)\n",
    "        FR[idx,:] = KDE.evaluate(xrange)\n",
    "        FR[idx,:] = FR[idx,:] * len(PSTHspikes) / len(train_index) * 1000 #1000 is conversion to s/s because units are all in ms for this plot\n",
    "    avg_FR = np.mean(FR,axis=0)\n",
    "    sem_FR = sem(FR,axis=0)\n",
    "    ax2.plot(xrange,avg_FR,lw=2,color='green')\n",
    "    ax2.fill_between(xrange,avg_FR-sem_FR,avg_FR+sem_FR,color='green',alpha=0.1,zorder=-10,lw=0)\n",
    "\n",
    "\n",
    "\n",
    "\n",
    "\n",
    "\n",
    "\n",
    "    \n",
    "    #PSTH Limits\n",
    "    if limitToUse is None:\n",
    "        max_FR_value = np.max(avg_FR+sem_FR) * 1.1\n",
    "        sequence_of_possible_axis_limits = np.array([1,2,4,6,8,10,12,16,20,30,40,50,60,80,100,120,140,150,160,180,200])\n",
    "        idx_of_okay_limits = np.greater_equal(sequence_of_possible_axis_limits,max_FR_value)\n",
    "        valid_limits = sequence_of_possible_axis_limits[idx_of_okay_limits]\n",
    "        limit = np.min(valid_limits)\n",
    "    else:\n",
    "        limit  = limitToUse\n",
    "    ###\n",
    "#     limit = 30\n",
    "    ###\n",
    "    ax2.set_ylim([0,limit])\n",
    "#     ax2.set_yticks([0,limit/2,limit])\n",
    "#     ax2.set_yticklabels(['0',str(int(limit/2)),str(limit)])\n",
    "    ax2.set_yticks([0,limit])\n",
    "    ax2.set_yticklabels(['0',str(limit)])\n",
    "    ylab = ax2.set_ylabel('')#Firing rate\\n(spikes/s)')\n",
    "    \n",
    "    ### X limits\n",
    "    ax1.set_xlim([starttime,endtime])\n",
    "    ax2.set_xlim([starttime,endtime])\n",
    "    ax1.set_xticks(np.array(xtickstouse))\n",
    "    if xticklabelstouse is None:\n",
    "        ax1.set_xticklabels(np.array(xtickstouse))#/1000)\n",
    "    else:\n",
    "        ax1.set_xticklabels(xticklabelstouse)#/1000)\n",
    "    if align_to_choice:\n",
    "        xlab = ax1.set_xlabel('Time (ms)')#xlab = ax2.set_xlabel('Time relative to response (s)')\n",
    "    else:\n",
    "        xlab = ax1.set_xlabel('Time (ms)')#xlab = ax2.set_xlabel('Time relative to stimulus (s)')\n",
    "    ax2.set_xticks([])\n",
    "    \n",
    "    ### Tone bar\n",
    "    if not align_to_choice:\n",
    "        ax2.plot([0,100],[limit]*2,c='k',lw=2,clip_on=False,zorder=10)\n",
    "        \n",
    "    ### Stim bar\n",
    "    if not align_to_choice:\n",
    "        ax1.plot([0,0],[0,93],linestyle='--',lw=1,color='gray',zorder=-10,clip_on=False)\n",
    "        ax2.plot([0,0],ax2.get_ylim(),linestyle='--',lw=1,color='gray',zorder=-10,clip_on=False)\n",
    "    else:\n",
    "        ax1.plot([0,0],[0,93],linestyle='--',lw=1,color='green',zorder=-10,clip_on=False)\n",
    "#         ax2.plot([0,0],ax2.get_ylim(),linestyle='--',lw=1,color='green',zorder=-10,clip_on=False)\n",
    "    \n",
    "    ################################################################\n",
    "    \n",
    "    #font size 15 old style. Font size 35 new style\n",
    "    \n",
    "    for axis in ['bottom','left']:\n",
    "        ax1.spines[axis].set_linewidth(1.75)\n",
    "        ax2.spines[axis].set_linewidth(1.75)\n",
    "    ax1.tick_params(width=0)\n",
    "    ax2.tick_params(width=1.75)\n",
    "    for item in ([ax1.title, ax1.xaxis.label, ax1.yaxis.label] +\n",
    "        ax1.get_xticklabels() + ax1.get_yticklabels()):\n",
    "        item.set_fontsize(35)\n",
    "    for item in ([ax2.title, ax2.xaxis.label, ax2.yaxis.label] +\n",
    "        ax2.get_xticklabels() + ax2.get_yticklabels()):\n",
    "        item.set_fontsize(35)\n",
    "\n",
    "    go_spikes = [np.sum(np.logical_and(np.greater(s,-50),np.less(s,0))) for s in trialSpikes_go]\n",
    "    nogo_spikes = [np.sum(np.logical_and(np.greater(s,-50),np.less(s,0))) for s in trialSpikes_nogo]\n",
    "    pval = ttest_ind(go_spikes,nogo_spikes).pvalue\n",
    "    if pval <= 0.05:\n",
    "        ax2.set_title('p = '+str(pval))\n",
    "    \n",
    "    artists = [ylab,xlab]\n",
    "    return True,artists"
   ]
  },
  {
   "cell_type": "code",
   "execution_count": null,
   "id": "40395696-138c-4a09-aa27-bd68c1437ba4",
   "metadata": {},
   "outputs": [],
   "source": []
  },
  {
   "cell_type": "code",
   "execution_count": null,
   "id": "ce10b2c0-fa9e-4c53-9bcc-dd61758af49f",
   "metadata": {},
   "outputs": [],
   "source": []
  },
  {
   "cell_type": "code",
   "execution_count": null,
   "id": "a38c8b1f-a007-45d3-a075-d6e2a073ffaf",
   "metadata": {},
   "outputs": [],
   "source": []
  },
  {
   "cell_type": "markdown",
   "id": "cb107e3e-253e-440d-b43f-f22b5adadbf5",
   "metadata": {},
   "source": [
    "# Stim Rasters"
   ]
  },
  {
   "cell_type": "code",
   "execution_count": 11,
   "id": "2fca860f-d05e-4a47-92b7-81535ef7bac9",
   "metadata": {
    "tags": []
   },
   "outputs": [
    {
     "name": "stderr",
     "output_type": "stream",
     "text": [
      "2it [00:00,  6.41it/s]"
     ]
    },
    {
     "name": "stdout",
     "output_type": "stream",
     "text": [
      "Fail\n",
      "Fail\n"
     ]
    },
    {
     "name": "stderr",
     "output_type": "stream",
     "text": [
      "4it [00:00,  6.59it/s]"
     ]
    },
    {
     "name": "stdout",
     "output_type": "stream",
     "text": [
      "Fail\n",
      "Fail\n"
     ]
    },
    {
     "name": "stderr",
     "output_type": "stream",
     "text": [
      "6it [00:00,  5.97it/s]"
     ]
    },
    {
     "name": "stdout",
     "output_type": "stream",
     "text": [
      "Fail\n",
      "Fail\n"
     ]
    },
    {
     "name": "stderr",
     "output_type": "stream",
     "text": [
      "8it [00:01,  6.01it/s]"
     ]
    },
    {
     "name": "stdout",
     "output_type": "stream",
     "text": [
      "Fail\n",
      "Fail\n"
     ]
    },
    {
     "name": "stderr",
     "output_type": "stream",
     "text": [
      "10it [00:01,  6.51it/s]"
     ]
    },
    {
     "name": "stdout",
     "output_type": "stream",
     "text": [
      "Fail\n",
      "Fail\n",
      "Skipping Switch\n"
     ]
    },
    {
     "name": "stderr",
     "output_type": "stream",
     "text": [
      "12it [00:01,  8.18it/s]"
     ]
    },
    {
     "name": "stdout",
     "output_type": "stream",
     "text": [
      "Skipping Switch\n",
      "Skipping Switch\n",
      "Skipping Switch\n"
     ]
    },
    {
     "name": "stderr",
     "output_type": "stream",
     "text": [
      "18it [00:02, 13.26it/s]"
     ]
    },
    {
     "name": "stdout",
     "output_type": "stream",
     "text": [
      "Skipping Switch\n",
      "Skipping Switch\n",
      "Skipping Switch\n",
      "Skipping Switch\n"
     ]
    },
    {
     "name": "stderr",
     "output_type": "stream",
     "text": [
      "20it [00:02, 12.59it/s]"
     ]
    },
    {
     "name": "stdout",
     "output_type": "stream",
     "text": [
      "Skipping Switch\n",
      "Skipping Switch\n",
      "Skipping Switch\n"
     ]
    },
    {
     "name": "stderr",
     "output_type": "stream",
     "text": [
      "25it [00:02, 14.47it/s]"
     ]
    },
    {
     "name": "stdout",
     "output_type": "stream",
     "text": [
      "Skipping Switch\n",
      "Skipping Switch\n",
      "Skipping Switch\n",
      "Skipping Switch\n"
     ]
    },
    {
     "name": "stderr",
     "output_type": "stream",
     "text": [
      "27it [00:02, 13.27it/s]"
     ]
    },
    {
     "name": "stdout",
     "output_type": "stream",
     "text": [
      "Skipping Switch\n",
      "Skipping Switch\n",
      "Skipping Switch\n",
      "Skipping Switch\n"
     ]
    },
    {
     "name": "stderr",
     "output_type": "stream",
     "text": [
      "30it [00:03, 13.29it/s]"
     ]
    },
    {
     "name": "stdout",
     "output_type": "stream",
     "text": [
      "Skipping Switch\n",
      "Skipping Switch\n",
      "Skipping Switch\n"
     ]
    },
    {
     "name": "stderr",
     "output_type": "stream",
     "text": [
      "36it [00:03, 15.14it/s]"
     ]
    },
    {
     "name": "stdout",
     "output_type": "stream",
     "text": [
      "Skipping Switch\n",
      "Skipping Switch\n",
      "Skipping Switch\n",
      "Skipping Switch\n"
     ]
    },
    {
     "name": "stderr",
     "output_type": "stream",
     "text": [
      "38it [00:03, 13.69it/s]"
     ]
    },
    {
     "name": "stdout",
     "output_type": "stream",
     "text": [
      "Skipping Switch\n",
      "Skipping Switch\n",
      "Skipping Switch\n"
     ]
    },
    {
     "name": "stderr",
     "output_type": "stream",
     "text": [
      "40it [00:03, 12.72it/s]"
     ]
    },
    {
     "name": "stdout",
     "output_type": "stream",
     "text": [
      "Skipping Switch\n",
      "Skipping Switch\n"
     ]
    },
    {
     "name": "stderr",
     "output_type": "stream",
     "text": [
      "43it [00:05,  3.90it/s]"
     ]
    },
    {
     "name": "stdout",
     "output_type": "stream",
     "text": [
      "fail\n"
     ]
    },
    {
     "name": "stderr",
     "output_type": "stream",
     "text": [
      "44it [00:05,  3.97it/s]"
     ]
    },
    {
     "name": "stdout",
     "output_type": "stream",
     "text": [
      "fail\n"
     ]
    },
    {
     "name": "stderr",
     "output_type": "stream",
     "text": [
      "45it [00:06,  4.07it/s]"
     ]
    },
    {
     "name": "stdout",
     "output_type": "stream",
     "text": [
      "fail\n"
     ]
    },
    {
     "name": "stderr",
     "output_type": "stream",
     "text": [
      "47it [00:07,  2.41it/s]"
     ]
    },
    {
     "name": "stdout",
     "output_type": "stream",
     "text": [
      "Fail\n"
     ]
    },
    {
     "name": "stderr",
     "output_type": "stream",
     "text": [
      "50it [00:09,  2.40it/s]"
     ]
    },
    {
     "name": "stdout",
     "output_type": "stream",
     "text": [
      "fail\n",
      "Fail\n"
     ]
    },
    {
     "name": "stderr",
     "output_type": "stream",
     "text": [
      "52it [00:10,  1.81it/s]"
     ]
    },
    {
     "name": "stdout",
     "output_type": "stream",
     "text": [
      "fail\n"
     ]
    },
    {
     "name": "stderr",
     "output_type": "stream",
     "text": [
      "54it [00:12,  1.71it/s]"
     ]
    },
    {
     "name": "stdout",
     "output_type": "stream",
     "text": [
      "fail\n"
     ]
    },
    {
     "name": "stderr",
     "output_type": "stream",
     "text": [
      "58it [00:16,  1.26it/s]"
     ]
    },
    {
     "name": "stdout",
     "output_type": "stream",
     "text": [
      "fail\n"
     ]
    },
    {
     "name": "stderr",
     "output_type": "stream",
     "text": [
      "59it [00:16,  1.61it/s]"
     ]
    },
    {
     "name": "stdout",
     "output_type": "stream",
     "text": [
      "fail\n"
     ]
    },
    {
     "name": "stderr",
     "output_type": "stream",
     "text": [
      "60it [00:16,  1.99it/s]"
     ]
    },
    {
     "name": "stdout",
     "output_type": "stream",
     "text": [
      "fail\n"
     ]
    },
    {
     "name": "stderr",
     "output_type": "stream",
     "text": [
      "62it [00:17,  1.77it/s]"
     ]
    },
    {
     "name": "stdout",
     "output_type": "stream",
     "text": [
      "fail\n"
     ]
    },
    {
     "name": "stderr",
     "output_type": "stream",
     "text": [
      "63it [00:18,  2.17it/s]"
     ]
    },
    {
     "name": "stdout",
     "output_type": "stream",
     "text": [
      "fail\n"
     ]
    },
    {
     "name": "stderr",
     "output_type": "stream",
     "text": [
      "65it [00:19,  1.81it/s]"
     ]
    },
    {
     "name": "stdout",
     "output_type": "stream",
     "text": [
      "fail\n"
     ]
    },
    {
     "name": "stderr",
     "output_type": "stream",
     "text": [
      "66it [00:19,  2.06it/s]"
     ]
    },
    {
     "name": "stdout",
     "output_type": "stream",
     "text": [
      "fail\n"
     ]
    },
    {
     "name": "stderr",
     "output_type": "stream",
     "text": [
      "67it [00:20,  2.46it/s]"
     ]
    },
    {
     "name": "stdout",
     "output_type": "stream",
     "text": [
      "fail\n"
     ]
    },
    {
     "name": "stderr",
     "output_type": "stream",
     "text": [
      "72it [00:26,  1.09it/s]"
     ]
    },
    {
     "name": "stdout",
     "output_type": "stream",
     "text": [
      "fail\n"
     ]
    },
    {
     "name": "stderr",
     "output_type": "stream",
     "text": [
      "75it [00:29,  1.09it/s]"
     ]
    },
    {
     "name": "stdout",
     "output_type": "stream",
     "text": [
      "fail\n"
     ]
    },
    {
     "name": "stderr",
     "output_type": "stream",
     "text": [
      "78it [00:32,  1.09it/s]"
     ]
    },
    {
     "name": "stdout",
     "output_type": "stream",
     "text": [
      "fail\n"
     ]
    },
    {
     "name": "stderr",
     "output_type": "stream",
     "text": [
      "79it [00:32,  1.35it/s]"
     ]
    },
    {
     "name": "stdout",
     "output_type": "stream",
     "text": [
      "fail\n"
     ]
    },
    {
     "name": "stderr",
     "output_type": "stream",
     "text": [
      "85it [00:38,  1.51it/s]"
     ]
    },
    {
     "name": "stdout",
     "output_type": "stream",
     "text": [
      "fail\n",
      "fail\n"
     ]
    },
    {
     "name": "stderr",
     "output_type": "stream",
     "text": [
      "88it [00:40,  2.00it/s]"
     ]
    },
    {
     "name": "stdout",
     "output_type": "stream",
     "text": [
      "fail\n",
      "fail\n"
     ]
    },
    {
     "name": "stderr",
     "output_type": "stream",
     "text": [
      "93it [00:44,  1.71it/s]"
     ]
    },
    {
     "name": "stdout",
     "output_type": "stream",
     "text": [
      "fail\n",
      "Fail\n"
     ]
    },
    {
     "name": "stderr",
     "output_type": "stream",
     "text": [
      "95it [00:44,  2.81it/s]"
     ]
    },
    {
     "name": "stdout",
     "output_type": "stream",
     "text": [
      "Fail\n",
      "Fail\n"
     ]
    },
    {
     "name": "stderr",
     "output_type": "stream",
     "text": [
      "96it [00:44,  3.44it/s]"
     ]
    },
    {
     "name": "stdout",
     "output_type": "stream",
     "text": [
      "Fail\n"
     ]
    },
    {
     "name": "stderr",
     "output_type": "stream",
     "text": [
      "98it [00:45,  3.71it/s]"
     ]
    },
    {
     "name": "stdout",
     "output_type": "stream",
     "text": [
      "fail\n",
      "fail\n"
     ]
    },
    {
     "name": "stderr",
     "output_type": "stream",
     "text": [
      "99it [00:45,  4.34it/s]"
     ]
    },
    {
     "name": "stdout",
     "output_type": "stream",
     "text": [
      "Fail\n"
     ]
    },
    {
     "name": "stderr",
     "output_type": "stream",
     "text": [
      "104it [00:46,  4.86it/s]"
     ]
    },
    {
     "name": "stdout",
     "output_type": "stream",
     "text": [
      "Fail\n",
      "Skipping Switch\n",
      "Skipping Switch\n",
      "Skipping Switch\n",
      "Skipping Switch\n",
      "Skipping Switch\n"
     ]
    },
    {
     "name": "stderr",
     "output_type": "stream",
     "text": [
      "107it [00:47,  7.59it/s]"
     ]
    },
    {
     "name": "stdout",
     "output_type": "stream",
     "text": [
      "Skipping Switch\n",
      "Skipping Switch\n"
     ]
    },
    {
     "name": "stderr",
     "output_type": "stream",
     "text": [
      "112it [00:47, 10.00it/s]"
     ]
    },
    {
     "name": "stdout",
     "output_type": "stream",
     "text": [
      "Skipping Switch\n",
      "Skipping Switch\n",
      "Skipping Switch\n",
      "Skipping Switch\n",
      "Skipping Switch\n",
      "Skipping Switch\n"
     ]
    },
    {
     "name": "stderr",
     "output_type": "stream",
     "text": [
      "115it [00:47, 12.73it/s]"
     ]
    },
    {
     "name": "stdout",
     "output_type": "stream",
     "text": [
      "Skipping Switch\n",
      "Skipping Switch\n",
      "Skipping Switch\n"
     ]
    },
    {
     "name": "stderr",
     "output_type": "stream",
     "text": [
      "121it [00:48, 13.43it/s]"
     ]
    },
    {
     "name": "stdout",
     "output_type": "stream",
     "text": [
      "Skipping Switch\n",
      "Skipping Switch\n",
      "Skipping Switch\n",
      "Skipping Switch\n",
      "Skipping Switch\n",
      "Skipping Switch\n"
     ]
    },
    {
     "name": "stderr",
     "output_type": "stream",
     "text": [
      "124it [00:48, 15.62it/s]"
     ]
    },
    {
     "name": "stdout",
     "output_type": "stream",
     "text": [
      "Skipping Switch\n"
     ]
    },
    {
     "name": "stderr",
     "output_type": "stream",
     "text": [
      "132it [00:57,  1.35it/s]"
     ]
    },
    {
     "name": "stdout",
     "output_type": "stream",
     "text": [
      "fail\n"
     ]
    },
    {
     "name": "stderr",
     "output_type": "stream",
     "text": [
      "146it [01:15,  1.02it/s]"
     ]
    },
    {
     "name": "stdout",
     "output_type": "stream",
     "text": [
      "fail\n"
     ]
    },
    {
     "name": "stderr",
     "output_type": "stream",
     "text": [
      "155it [01:25,  1.01it/s]"
     ]
    },
    {
     "name": "stdout",
     "output_type": "stream",
     "text": [
      "fail\n"
     ]
    },
    {
     "name": "stderr",
     "output_type": "stream",
     "text": [
      "157it [01:27,  1.18it/s]"
     ]
    },
    {
     "name": "stdout",
     "output_type": "stream",
     "text": [
      "fail\n"
     ]
    },
    {
     "name": "stderr",
     "output_type": "stream",
     "text": [
      "161it [01:31,  1.21it/s]"
     ]
    },
    {
     "name": "stdout",
     "output_type": "stream",
     "text": [
      "fail\n"
     ]
    },
    {
     "name": "stderr",
     "output_type": "stream",
     "text": [
      "163it [01:33,  1.30it/s]"
     ]
    },
    {
     "name": "stdout",
     "output_type": "stream",
     "text": [
      "fail\n"
     ]
    },
    {
     "name": "stderr",
     "output_type": "stream",
     "text": [
      "168it [01:37,  1.44it/s]"
     ]
    },
    {
     "name": "stdout",
     "output_type": "stream",
     "text": [
      "fail\n",
      "Fail\n"
     ]
    },
    {
     "name": "stderr",
     "output_type": "stream",
     "text": [
      "170it [01:38,  2.44it/s]"
     ]
    },
    {
     "name": "stdout",
     "output_type": "stream",
     "text": [
      "Fail\n",
      "Fail\n"
     ]
    },
    {
     "name": "stderr",
     "output_type": "stream",
     "text": [
      "172it [01:38,  3.50it/s]"
     ]
    },
    {
     "name": "stdout",
     "output_type": "stream",
     "text": [
      "fail\n",
      "fail\n"
     ]
    },
    {
     "name": "stderr",
     "output_type": "stream",
     "text": [
      "174it [01:38,  4.34it/s]"
     ]
    },
    {
     "name": "stdout",
     "output_type": "stream",
     "text": [
      "fail\n",
      "fail\n"
     ]
    },
    {
     "name": "stderr",
     "output_type": "stream",
     "text": [
      "176it [01:40,  2.16it/s]"
     ]
    },
    {
     "name": "stdout",
     "output_type": "stream",
     "text": [
      "fail\n"
     ]
    },
    {
     "name": "stderr",
     "output_type": "stream",
     "text": [
      "179it [01:42,  2.11it/s]"
     ]
    },
    {
     "name": "stdout",
     "output_type": "stream",
     "text": [
      "fail\n",
      "Fail\n"
     ]
    },
    {
     "name": "stderr",
     "output_type": "stream",
     "text": [
      "181it [01:42,  3.10it/s]"
     ]
    },
    {
     "name": "stdout",
     "output_type": "stream",
     "text": [
      "Fail\n",
      "Fail\n"
     ]
    },
    {
     "name": "stderr",
     "output_type": "stream",
     "text": [
      "183it [01:42,  4.04it/s]"
     ]
    },
    {
     "name": "stdout",
     "output_type": "stream",
     "text": [
      "Fail\n",
      "Fail\n"
     ]
    },
    {
     "name": "stderr",
     "output_type": "stream",
     "text": [
      "184it [01:42,  4.28it/s]"
     ]
    },
    {
     "name": "stdout",
     "output_type": "stream",
     "text": [
      "fail\n"
     ]
    },
    {
     "name": "stderr",
     "output_type": "stream",
     "text": [
      "187it [01:46,  1.55it/s]"
     ]
    },
    {
     "name": "stdout",
     "output_type": "stream",
     "text": [
      "fail\n"
     ]
    },
    {
     "name": "stderr",
     "output_type": "stream",
     "text": [
      "201it [02:04,  1.02s/it]"
     ]
    },
    {
     "name": "stdout",
     "output_type": "stream",
     "text": [
      "fail\n"
     ]
    },
    {
     "name": "stderr",
     "output_type": "stream",
     "text": [
      "208it [02:12,  1.01s/it]"
     ]
    },
    {
     "name": "stdout",
     "output_type": "stream",
     "text": [
      "fail\n"
     ]
    },
    {
     "name": "stderr",
     "output_type": "stream",
     "text": [
      "209it [02:13,  1.25it/s]"
     ]
    },
    {
     "name": "stdout",
     "output_type": "stream",
     "text": [
      "fail\n"
     ]
    },
    {
     "name": "stderr",
     "output_type": "stream",
     "text": [
      "211it [02:14,  1.41it/s]"
     ]
    },
    {
     "name": "stdout",
     "output_type": "stream",
     "text": [
      "fail\n"
     ]
    },
    {
     "name": "stderr",
     "output_type": "stream",
     "text": [
      "212it [02:15,  1.46it/s]"
     ]
    },
    {
     "name": "stdout",
     "output_type": "stream",
     "text": [
      "fail\n"
     ]
    },
    {
     "name": "stderr",
     "output_type": "stream",
     "text": [
      "213it [02:15,  1.83it/s]"
     ]
    },
    {
     "name": "stdout",
     "output_type": "stream",
     "text": [
      "fail\n"
     ]
    },
    {
     "name": "stderr",
     "output_type": "stream",
     "text": [
      "214it [02:15,  2.18it/s]"
     ]
    },
    {
     "name": "stdout",
     "output_type": "stream",
     "text": [
      "fail\n"
     ]
    },
    {
     "name": "stderr",
     "output_type": "stream",
     "text": [
      "215it [02:15,  2.60it/s]"
     ]
    },
    {
     "name": "stdout",
     "output_type": "stream",
     "text": [
      "fail\n"
     ]
    },
    {
     "name": "stderr",
     "output_type": "stream",
     "text": [
      "217it [02:17,  1.63it/s]"
     ]
    },
    {
     "name": "stdout",
     "output_type": "stream",
     "text": [
      "fail\n"
     ]
    },
    {
     "name": "stderr",
     "output_type": "stream",
     "text": [
      "221it [02:21,  1.19it/s]"
     ]
    },
    {
     "name": "stdout",
     "output_type": "stream",
     "text": [
      "fail\n"
     ]
    },
    {
     "name": "stderr",
     "output_type": "stream",
     "text": [
      "222it [02:22,  1.51it/s]"
     ]
    },
    {
     "name": "stdout",
     "output_type": "stream",
     "text": [
      "fail\n"
     ]
    },
    {
     "name": "stderr",
     "output_type": "stream",
     "text": [
      "231it [02:33,  1.01it/s]"
     ]
    },
    {
     "name": "stdout",
     "output_type": "stream",
     "text": [
      "fail\n"
     ]
    },
    {
     "name": "stderr",
     "output_type": "stream",
     "text": [
      "232it [02:33,  1.30it/s]"
     ]
    },
    {
     "name": "stdout",
     "output_type": "stream",
     "text": [
      "fail\n"
     ]
    },
    {
     "name": "stderr",
     "output_type": "stream",
     "text": [
      "235it [02:36,  1.21it/s]"
     ]
    },
    {
     "name": "stdout",
     "output_type": "stream",
     "text": [
      "fail\n"
     ]
    },
    {
     "name": "stderr",
     "output_type": "stream",
     "text": [
      "238it [02:39,  1.15it/s]"
     ]
    },
    {
     "name": "stdout",
     "output_type": "stream",
     "text": [
      "fail\n"
     ]
    },
    {
     "name": "stderr",
     "output_type": "stream",
     "text": [
      "244it [02:47,  1.01s/it]"
     ]
    },
    {
     "name": "stdout",
     "output_type": "stream",
     "text": [
      "fail\n"
     ]
    },
    {
     "name": "stderr",
     "output_type": "stream",
     "text": [
      "245it [02:47,  1.28it/s]"
     ]
    },
    {
     "name": "stdout",
     "output_type": "stream",
     "text": [
      "fail\n"
     ]
    },
    {
     "name": "stderr",
     "output_type": "stream",
     "text": [
      "246it [02:47,  1.63it/s]"
     ]
    },
    {
     "name": "stdout",
     "output_type": "stream",
     "text": [
      "fail\n"
     ]
    },
    {
     "name": "stderr",
     "output_type": "stream",
     "text": [
      "247it [02:47,  2.04it/s]"
     ]
    },
    {
     "name": "stdout",
     "output_type": "stream",
     "text": [
      "fail\n"
     ]
    },
    {
     "name": "stderr",
     "output_type": "stream",
     "text": [
      "250it [02:51,  1.39it/s]"
     ]
    },
    {
     "name": "stdout",
     "output_type": "stream",
     "text": [
      "fail\n"
     ]
    },
    {
     "name": "stderr",
     "output_type": "stream",
     "text": [
      "252it [02:52,  1.25it/s]"
     ]
    },
    {
     "name": "stdout",
     "output_type": "stream",
     "text": [
      "fail\n"
     ]
    },
    {
     "name": "stderr",
     "output_type": "stream",
     "text": [
      "254it [02:54,  1.42it/s]"
     ]
    },
    {
     "name": "stdout",
     "output_type": "stream",
     "text": [
      "fail\n"
     ]
    },
    {
     "name": "stderr",
     "output_type": "stream",
     "text": [
      "259it [02:59,  1.19it/s]"
     ]
    },
    {
     "name": "stdout",
     "output_type": "stream",
     "text": [
      "fail\n"
     ]
    },
    {
     "name": "stderr",
     "output_type": "stream",
     "text": [
      "263it [03:02,  1.53it/s]"
     ]
    },
    {
     "name": "stdout",
     "output_type": "stream",
     "text": [
      "fail\n",
      "fail\n"
     ]
    },
    {
     "name": "stderr",
     "output_type": "stream",
     "text": [
      "265it [03:03,  2.38it/s]"
     ]
    },
    {
     "name": "stdout",
     "output_type": "stream",
     "text": [
      "fail\n",
      "fail\n"
     ]
    },
    {
     "name": "stderr",
     "output_type": "stream",
     "text": [
      "266it [03:03,  1.93it/s]"
     ]
    },
    {
     "name": "stdout",
     "output_type": "stream",
     "text": [
      "fail\n"
     ]
    },
    {
     "name": "stderr",
     "output_type": "stream",
     "text": [
      "269it [03:06,  1.49it/s]"
     ]
    },
    {
     "name": "stdout",
     "output_type": "stream",
     "text": [
      "fail\n"
     ]
    },
    {
     "name": "stderr",
     "output_type": "stream",
     "text": [
      "275it [03:13,  1.00s/it]"
     ]
    },
    {
     "name": "stdout",
     "output_type": "stream",
     "text": [
      "fail\n"
     ]
    },
    {
     "name": "stderr",
     "output_type": "stream",
     "text": [
      "277it [03:15,  1.27it/s]"
     ]
    },
    {
     "name": "stdout",
     "output_type": "stream",
     "text": [
      "fail\n"
     ]
    },
    {
     "name": "stderr",
     "output_type": "stream",
     "text": [
      "278it [03:15,  1.59it/s]"
     ]
    },
    {
     "name": "stdout",
     "output_type": "stream",
     "text": [
      "fail\n"
     ]
    },
    {
     "name": "stderr",
     "output_type": "stream",
     "text": [
      "292it [03:33,  1.02s/it]"
     ]
    },
    {
     "name": "stdout",
     "output_type": "stream",
     "text": [
      "fail\n"
     ]
    },
    {
     "name": "stderr",
     "output_type": "stream",
     "text": [
      "296it [03:37,  1.33it/s]"
     ]
    },
    {
     "name": "stdout",
     "output_type": "stream",
     "text": [
      "fail\n",
      "fail\n"
     ]
    },
    {
     "name": "stderr",
     "output_type": "stream",
     "text": [
      "297it [03:37,  1.66it/s]"
     ]
    },
    {
     "name": "stdout",
     "output_type": "stream",
     "text": [
      "fail\n"
     ]
    },
    {
     "name": "stderr",
     "output_type": "stream",
     "text": [
      "298it [03:37,  2.03it/s]"
     ]
    },
    {
     "name": "stdout",
     "output_type": "stream",
     "text": [
      "fail\n",
      "fail\n"
     ]
    },
    {
     "name": "stderr",
     "output_type": "stream",
     "text": [
      "300it [03:38,  2.97it/s]"
     ]
    },
    {
     "name": "stdout",
     "output_type": "stream",
     "text": [
      "fail\n"
     ]
    },
    {
     "name": "stderr",
     "output_type": "stream",
     "text": [
      "302it [03:40,  1.51it/s]"
     ]
    },
    {
     "name": "stdout",
     "output_type": "stream",
     "text": [
      "PhaseFail Skipping\n"
     ]
    },
    {
     "name": "stderr",
     "output_type": "stream",
     "text": [
      "303it [03:40,  1.81it/s]"
     ]
    },
    {
     "name": "stdout",
     "output_type": "stream",
     "text": [
      "PhaseFail Skipping\n"
     ]
    },
    {
     "name": "stderr",
     "output_type": "stream",
     "text": [
      "304it [03:41,  2.02it/s]"
     ]
    },
    {
     "name": "stdout",
     "output_type": "stream",
     "text": [
      "PhaseFail Skipping\n"
     ]
    },
    {
     "name": "stderr",
     "output_type": "stream",
     "text": [
      "305it [03:41,  2.04it/s]"
     ]
    },
    {
     "name": "stdout",
     "output_type": "stream",
     "text": [
      "PhaseFail Skipping\n"
     ]
    },
    {
     "name": "stderr",
     "output_type": "stream",
     "text": [
      "306it [03:42,  2.35it/s]"
     ]
    },
    {
     "name": "stdout",
     "output_type": "stream",
     "text": [
      "fail\n"
     ]
    },
    {
     "name": "stderr",
     "output_type": "stream",
     "text": [
      "307it [03:42,  2.65it/s]"
     ]
    },
    {
     "name": "stdout",
     "output_type": "stream",
     "text": [
      "fail\n"
     ]
    },
    {
     "name": "stderr",
     "output_type": "stream",
     "text": [
      "308it [03:42,  2.97it/s]"
     ]
    },
    {
     "name": "stdout",
     "output_type": "stream",
     "text": [
      "fail\n"
     ]
    },
    {
     "name": "stderr",
     "output_type": "stream",
     "text": [
      "309it [03:43,  2.45it/s]"
     ]
    },
    {
     "name": "stdout",
     "output_type": "stream",
     "text": [
      "PhaseFail Skipping\n"
     ]
    },
    {
     "name": "stderr",
     "output_type": "stream",
     "text": [
      "310it [03:43,  2.68it/s]"
     ]
    },
    {
     "name": "stdout",
     "output_type": "stream",
     "text": [
      "PhaseFail Skipping\n"
     ]
    },
    {
     "name": "stderr",
     "output_type": "stream",
     "text": [
      "311it [03:43,  3.05it/s]"
     ]
    },
    {
     "name": "stdout",
     "output_type": "stream",
     "text": [
      "fail\n"
     ]
    },
    {
     "name": "stderr",
     "output_type": "stream",
     "text": [
      "312it [03:43,  3.16it/s]"
     ]
    },
    {
     "name": "stdout",
     "output_type": "stream",
     "text": [
      "PhaseFail Skipping\n"
     ]
    },
    {
     "name": "stderr",
     "output_type": "stream",
     "text": [
      "313it [03:44,  3.31it/s]"
     ]
    },
    {
     "name": "stdout",
     "output_type": "stream",
     "text": [
      "fail\n"
     ]
    },
    {
     "name": "stderr",
     "output_type": "stream",
     "text": [
      "315it [03:45,  2.46it/s]"
     ]
    },
    {
     "name": "stdout",
     "output_type": "stream",
     "text": [
      "Fail\n",
      "fail\n"
     ]
    },
    {
     "name": "stderr",
     "output_type": "stream",
     "text": [
      "316it [03:45,  2.70it/s]"
     ]
    },
    {
     "name": "stdout",
     "output_type": "stream",
     "text": [
      "PhaseFail Skipping\n"
     ]
    },
    {
     "name": "stderr",
     "output_type": "stream",
     "text": [
      "319it [03:46,  4.20it/s]"
     ]
    },
    {
     "name": "stdout",
     "output_type": "stream",
     "text": [
      "fail\n",
      "Skipping Switch\n",
      "Skipping Switch\n"
     ]
    },
    {
     "name": "stderr",
     "output_type": "stream",
     "text": [
      "321it [03:46,  5.71it/s]"
     ]
    },
    {
     "name": "stdout",
     "output_type": "stream",
     "text": [
      "Skipping Switch\n",
      "Skipping Switch\n",
      "Skipping Switch\n"
     ]
    },
    {
     "name": "stderr",
     "output_type": "stream",
     "text": [
      "325it [03:46,  8.01it/s]"
     ]
    },
    {
     "name": "stdout",
     "output_type": "stream",
     "text": [
      "Skipping Switch\n",
      "Skipping Switch\n",
      "Skipping Switch\n"
     ]
    },
    {
     "name": "stderr",
     "output_type": "stream",
     "text": [
      "327it [03:47,  4.20it/s]"
     ]
    },
    {
     "name": "stdout",
     "output_type": "stream",
     "text": [
      "Skipping Switch\n",
      "Skipping Switch\n",
      "Skipping Switch\n"
     ]
    },
    {
     "name": "stderr",
     "output_type": "stream",
     "text": [
      "331it [03:47,  6.88it/s]"
     ]
    },
    {
     "name": "stdout",
     "output_type": "stream",
     "text": [
      "Skipping Switch\n",
      "Skipping Switch\n",
      "Skipping Switch\n"
     ]
    },
    {
     "name": "stderr",
     "output_type": "stream",
     "text": [
      "333it [03:48,  7.89it/s]"
     ]
    },
    {
     "name": "stdout",
     "output_type": "stream",
     "text": [
      "Skipping Switch\n",
      "Skipping Switch\n",
      "Skipping Switch\n"
     ]
    },
    {
     "name": "stderr",
     "output_type": "stream",
     "text": [
      "337it [03:48,  9.08it/s]"
     ]
    },
    {
     "name": "stdout",
     "output_type": "stream",
     "text": [
      "Skipping Switch\n",
      "Skipping Switch\n",
      "Skipping Switch\n"
     ]
    },
    {
     "name": "stderr",
     "output_type": "stream",
     "text": [
      "339it [03:49,  4.65it/s]"
     ]
    },
    {
     "name": "stdout",
     "output_type": "stream",
     "text": [
      "Skipping Switch\n",
      "Skipping Switch\n",
      "Skipping Switch\n"
     ]
    },
    {
     "name": "stderr",
     "output_type": "stream",
     "text": [
      "343it [03:49,  6.55it/s]"
     ]
    },
    {
     "name": "stdout",
     "output_type": "stream",
     "text": [
      "Skipping Switch\n",
      "Skipping Switch\n",
      "Skipping Switch\n"
     ]
    },
    {
     "name": "stderr",
     "output_type": "stream",
     "text": [
      "346it [03:50,  7.97it/s]"
     ]
    },
    {
     "name": "stdout",
     "output_type": "stream",
     "text": [
      "Skipping Switch\n",
      "Skipping Switch\n",
      "Skipping Switch\n"
     ]
    },
    {
     "name": "stderr",
     "output_type": "stream",
     "text": [
      "348it [03:50,  8.89it/s]"
     ]
    },
    {
     "name": "stdout",
     "output_type": "stream",
     "text": [
      "Skipping Switch\n",
      "Skipping Switch\n"
     ]
    },
    {
     "name": "stderr",
     "output_type": "stream",
     "text": [
      "350it [03:51,  4.52it/s]"
     ]
    },
    {
     "name": "stdout",
     "output_type": "stream",
     "text": [
      "Skipping Switch\n",
      "Skipping Switch\n",
      "Skipping Switch\n"
     ]
    },
    {
     "name": "stderr",
     "output_type": "stream",
     "text": [
      "353it [03:51,  6.06it/s]"
     ]
    },
    {
     "name": "stdout",
     "output_type": "stream",
     "text": [
      "Skipping Switch\n",
      "Skipping Switch\n",
      "Skipping Switch\n"
     ]
    },
    {
     "name": "stderr",
     "output_type": "stream",
     "text": [
      "355it [03:51,  7.13it/s]"
     ]
    },
    {
     "name": "stdout",
     "output_type": "stream",
     "text": [
      "Skipping Switch\n"
     ]
    },
    {
     "name": "stderr",
     "output_type": "stream",
     "text": [
      "357it [03:53,  3.06it/s]"
     ]
    },
    {
     "name": "stdout",
     "output_type": "stream",
     "text": [
      "fail\n"
     ]
    },
    {
     "name": "stderr",
     "output_type": "stream",
     "text": [
      "359it [03:53,  3.56it/s]"
     ]
    },
    {
     "name": "stdout",
     "output_type": "stream",
     "text": [
      "fail\n",
      "fail\n"
     ]
    },
    {
     "name": "stderr",
     "output_type": "stream",
     "text": [
      "360it [03:54,  2.25it/s]"
     ]
    },
    {
     "name": "stdout",
     "output_type": "stream",
     "text": [
      "fail\n"
     ]
    },
    {
     "name": "stderr",
     "output_type": "stream",
     "text": [
      "363it [03:56,  1.66it/s]"
     ]
    },
    {
     "name": "stdout",
     "output_type": "stream",
     "text": [
      "fail\n"
     ]
    },
    {
     "name": "stderr",
     "output_type": "stream",
     "text": [
      "365it [03:57,  2.50it/s]"
     ]
    },
    {
     "name": "stdout",
     "output_type": "stream",
     "text": [
      "fail\n",
      "fail\n"
     ]
    },
    {
     "name": "stderr",
     "output_type": "stream",
     "text": [
      "368it [04:00,  1.27it/s]"
     ]
    },
    {
     "name": "stdout",
     "output_type": "stream",
     "text": [
      "fail\n"
     ]
    },
    {
     "name": "stderr",
     "output_type": "stream",
     "text": [
      "373it [04:06,  1.06s/it]"
     ]
    },
    {
     "name": "stdout",
     "output_type": "stream",
     "text": [
      "Fail\n"
     ]
    },
    {
     "name": "stderr",
     "output_type": "stream",
     "text": [
      "379it [04:14,  1.11s/it]"
     ]
    },
    {
     "name": "stdout",
     "output_type": "stream",
     "text": [
      "fail\n"
     ]
    },
    {
     "name": "stderr",
     "output_type": "stream",
     "text": [
      "381it [04:16,  1.07it/s]"
     ]
    },
    {
     "name": "stdout",
     "output_type": "stream",
     "text": [
      "fail\n"
     ]
    },
    {
     "name": "stderr",
     "output_type": "stream",
     "text": [
      "382it [04:16,  1.33it/s]"
     ]
    },
    {
     "name": "stdout",
     "output_type": "stream",
     "text": [
      "fail\n"
     ]
    },
    {
     "name": "stderr",
     "output_type": "stream",
     "text": [
      "383it [04:16,  1.67it/s]"
     ]
    },
    {
     "name": "stdout",
     "output_type": "stream",
     "text": [
      "fail\n"
     ]
    },
    {
     "name": "stderr",
     "output_type": "stream",
     "text": [
      "386it [04:20,  1.20it/s]"
     ]
    },
    {
     "name": "stdout",
     "output_type": "stream",
     "text": [
      "fail\n"
     ]
    },
    {
     "name": "stderr",
     "output_type": "stream",
     "text": [
      "387it [04:20,  1.54it/s]"
     ]
    },
    {
     "name": "stdout",
     "output_type": "stream",
     "text": [
      "fail\n"
     ]
    },
    {
     "name": "stderr",
     "output_type": "stream",
     "text": [
      "390it [04:24,  1.01it/s]"
     ]
    },
    {
     "name": "stdout",
     "output_type": "stream",
     "text": [
      "fail\n"
     ]
    },
    {
     "name": "stderr",
     "output_type": "stream",
     "text": [
      "398it [04:32,  1.33it/s]"
     ]
    },
    {
     "name": "stdout",
     "output_type": "stream",
     "text": [
      "Fail\n",
      "Fail\n"
     ]
    },
    {
     "name": "stderr",
     "output_type": "stream",
     "text": [
      "402it [04:37,  1.08it/s]"
     ]
    },
    {
     "name": "stdout",
     "output_type": "stream",
     "text": [
      "Fail\n"
     ]
    },
    {
     "name": "stderr",
     "output_type": "stream",
     "text": [
      "406it [04:41,  1.09s/it]"
     ]
    },
    {
     "name": "stdout",
     "output_type": "stream",
     "text": [
      "Fail\n"
     ]
    },
    {
     "name": "stderr",
     "output_type": "stream",
     "text": [
      "408it [04:43,  1.17it/s]"
     ]
    },
    {
     "name": "stdout",
     "output_type": "stream",
     "text": [
      "fail\n"
     ]
    },
    {
     "name": "stderr",
     "output_type": "stream",
     "text": [
      "412it [04:48,  1.08s/it]"
     ]
    },
    {
     "name": "stdout",
     "output_type": "stream",
     "text": [
      "Fail\n"
     ]
    },
    {
     "name": "stderr",
     "output_type": "stream",
     "text": [
      "414it [04:49,  1.18it/s]"
     ]
    },
    {
     "name": "stdout",
     "output_type": "stream",
     "text": [
      "fail\n"
     ]
    },
    {
     "name": "stderr",
     "output_type": "stream",
     "text": [
      "415it [04:49,  1.49it/s]"
     ]
    },
    {
     "name": "stdout",
     "output_type": "stream",
     "text": [
      "fail\n"
     ]
    },
    {
     "name": "stderr",
     "output_type": "stream",
     "text": [
      "422it [04:58,  1.08it/s]"
     ]
    },
    {
     "name": "stdout",
     "output_type": "stream",
     "text": [
      "fail\n"
     ]
    },
    {
     "name": "stderr",
     "output_type": "stream",
     "text": [
      "424it [04:59,  1.30it/s]"
     ]
    },
    {
     "name": "stdout",
     "output_type": "stream",
     "text": [
      "fail\n"
     ]
    },
    {
     "name": "stderr",
     "output_type": "stream",
     "text": [
      "425it [04:59,  1.60it/s]"
     ]
    },
    {
     "name": "stdout",
     "output_type": "stream",
     "text": [
      "fail\n"
     ]
    },
    {
     "name": "stderr",
     "output_type": "stream",
     "text": [
      "426it [05:00,  1.95it/s]"
     ]
    },
    {
     "name": "stdout",
     "output_type": "stream",
     "text": [
      "fail\n"
     ]
    },
    {
     "name": "stderr",
     "output_type": "stream",
     "text": [
      "427it [05:01,  1.45it/s]"
     ]
    },
    {
     "name": "stdout",
     "output_type": "stream",
     "text": [
      "fail\n"
     ]
    },
    {
     "name": "stderr",
     "output_type": "stream",
     "text": [
      "429it [05:02,  1.55it/s]"
     ]
    },
    {
     "name": "stdout",
     "output_type": "stream",
     "text": [
      "fail\n"
     ]
    },
    {
     "name": "stderr",
     "output_type": "stream",
     "text": [
      "430it [05:02,  1.89it/s]"
     ]
    },
    {
     "name": "stdout",
     "output_type": "stream",
     "text": [
      "fail\n"
     ]
    },
    {
     "name": "stderr",
     "output_type": "stream",
     "text": [
      "431it [05:03,  2.25it/s]"
     ]
    },
    {
     "name": "stdout",
     "output_type": "stream",
     "text": [
      "fail\n"
     ]
    },
    {
     "name": "stderr",
     "output_type": "stream",
     "text": [
      "432it [05:03,  2.63it/s]"
     ]
    },
    {
     "name": "stdout",
     "output_type": "stream",
     "text": [
      "fail\n"
     ]
    },
    {
     "name": "stderr",
     "output_type": "stream",
     "text": [
      "433it [05:03,  2.93it/s]"
     ]
    },
    {
     "name": "stdout",
     "output_type": "stream",
     "text": [
      "fail\n"
     ]
    },
    {
     "name": "stderr",
     "output_type": "stream",
     "text": [
      "435it [05:05,  1.92it/s]"
     ]
    },
    {
     "name": "stdout",
     "output_type": "stream",
     "text": [
      "fail\n"
     ]
    },
    {
     "name": "stderr",
     "output_type": "stream",
     "text": [
      "436it [05:05,  2.32it/s]"
     ]
    },
    {
     "name": "stdout",
     "output_type": "stream",
     "text": [
      "fail\n"
     ]
    },
    {
     "name": "stderr",
     "output_type": "stream",
     "text": [
      "437it [05:05,  2.64it/s]"
     ]
    },
    {
     "name": "stdout",
     "output_type": "stream",
     "text": [
      "fail\n"
     ]
    },
    {
     "name": "stderr",
     "output_type": "stream",
     "text": [
      "440it [05:08,  1.91it/s]"
     ]
    },
    {
     "name": "stdout",
     "output_type": "stream",
     "text": [
      "fail\n",
      "fail\n"
     ]
    },
    {
     "name": "stderr",
     "output_type": "stream",
     "text": [
      "444it [05:12,  1.30it/s]"
     ]
    },
    {
     "name": "stdout",
     "output_type": "stream",
     "text": [
      "fail\n"
     ]
    },
    {
     "name": "stderr",
     "output_type": "stream",
     "text": [
      "446it [05:13,  1.44it/s]"
     ]
    },
    {
     "name": "stdout",
     "output_type": "stream",
     "text": [
      "Fail\n"
     ]
    },
    {
     "name": "stderr",
     "output_type": "stream",
     "text": [
      "449it [05:16,  1.18it/s]"
     ]
    },
    {
     "name": "stdout",
     "output_type": "stream",
     "text": [
      "Fail\n"
     ]
    },
    {
     "name": "stderr",
     "output_type": "stream",
     "text": [
      "451it [05:18,  1.39it/s]"
     ]
    },
    {
     "name": "stdout",
     "output_type": "stream",
     "text": [
      "fail\n"
     ]
    },
    {
     "name": "stderr",
     "output_type": "stream",
     "text": [
      "456it [05:24,  1.11it/s]"
     ]
    },
    {
     "name": "stdout",
     "output_type": "stream",
     "text": [
      "fail\n"
     ]
    },
    {
     "name": "stderr",
     "output_type": "stream",
     "text": [
      "457it [05:24,  1.43it/s]"
     ]
    },
    {
     "name": "stdout",
     "output_type": "stream",
     "text": [
      "Fail\n"
     ]
    },
    {
     "name": "stderr",
     "output_type": "stream",
     "text": [
      "460it [05:26,  1.43it/s]"
     ]
    },
    {
     "name": "stdout",
     "output_type": "stream",
     "text": [
      "fail\n"
     ]
    },
    {
     "name": "stderr",
     "output_type": "stream",
     "text": [
      "462it [05:29,  1.24it/s]"
     ]
    },
    {
     "name": "stdout",
     "output_type": "stream",
     "text": [
      "fail\n"
     ]
    },
    {
     "name": "stderr",
     "output_type": "stream",
     "text": [
      "464it [05:29,  2.03it/s]"
     ]
    },
    {
     "name": "stdout",
     "output_type": "stream",
     "text": [
      "fail\n",
      "fail\n"
     ]
    },
    {
     "name": "stderr",
     "output_type": "stream",
     "text": [
      "467it [05:31,  2.21it/s]"
     ]
    },
    {
     "name": "stdout",
     "output_type": "stream",
     "text": [
      "Fail\n",
      "fail\n"
     ]
    },
    {
     "name": "stderr",
     "output_type": "stream",
     "text": [
      "472it [05:32,  3.74it/s]"
     ]
    },
    {
     "name": "stdout",
     "output_type": "stream",
     "text": [
      "fail\n",
      "Skipping Switch\n",
      "Skipping Switch\n",
      "Skipping Switch\n",
      "Skipping Switch\n"
     ]
    },
    {
     "name": "stderr",
     "output_type": "stream",
     "text": [
      "474it [05:32,  5.22it/s]"
     ]
    },
    {
     "name": "stdout",
     "output_type": "stream",
     "text": [
      "Skipping Switch\n",
      "Skipping Switch\n",
      "Skipping Switch\n"
     ]
    },
    {
     "name": "stderr",
     "output_type": "stream",
     "text": [
      "480it [05:34,  5.81it/s]"
     ]
    },
    {
     "name": "stdout",
     "output_type": "stream",
     "text": [
      "Skipping Switch\n",
      "Skipping Switch\n",
      "Skipping Switch\n",
      "Skipping Switch\n",
      "Skipping Switch\n",
      "Skipping Switch\n"
     ]
    },
    {
     "name": "stderr",
     "output_type": "stream",
     "text": [
      "486it [05:34, 10.20it/s]"
     ]
    },
    {
     "name": "stdout",
     "output_type": "stream",
     "text": [
      "Skipping Switch\n",
      "Skipping Switch\n",
      "Skipping Switch\n",
      "Skipping Switch\n",
      "Skipping Switch\n"
     ]
    },
    {
     "name": "stderr",
     "output_type": "stream",
     "text": [
      "490it [05:37,  2.76it/s]"
     ]
    },
    {
     "name": "stdout",
     "output_type": "stream",
     "text": [
      "fail\n",
      "fail\n"
     ]
    },
    {
     "name": "stderr",
     "output_type": "stream",
     "text": [
      "492it [05:37,  2.97it/s]"
     ]
    },
    {
     "name": "stdout",
     "output_type": "stream",
     "text": [
      "fail\n"
     ]
    },
    {
     "name": "stderr",
     "output_type": "stream",
     "text": [
      "493it [05:37,  3.14it/s]"
     ]
    },
    {
     "name": "stdout",
     "output_type": "stream",
     "text": [
      "fail\n"
     ]
    },
    {
     "name": "stderr",
     "output_type": "stream",
     "text": [
      "494it [05:38,  2.11it/s]"
     ]
    },
    {
     "name": "stdout",
     "output_type": "stream",
     "text": [
      "fail\n"
     ]
    },
    {
     "name": "stderr",
     "output_type": "stream",
     "text": [
      "497it [05:41,  1.50it/s]"
     ]
    },
    {
     "name": "stdout",
     "output_type": "stream",
     "text": [
      "fail\n"
     ]
    },
    {
     "name": "stderr",
     "output_type": "stream",
     "text": [
      "498it [05:42,  1.79it/s]"
     ]
    },
    {
     "name": "stdout",
     "output_type": "stream",
     "text": [
      "fail\n"
     ]
    },
    {
     "name": "stderr",
     "output_type": "stream",
     "text": [
      "501it [05:45,  1.38it/s]"
     ]
    },
    {
     "name": "stdout",
     "output_type": "stream",
     "text": [
      "fail\n"
     ]
    },
    {
     "name": "stderr",
     "output_type": "stream",
     "text": [
      "504it [05:48,  1.12it/s]"
     ]
    },
    {
     "name": "stdout",
     "output_type": "stream",
     "text": [
      "fail\n"
     ]
    },
    {
     "name": "stderr",
     "output_type": "stream",
     "text": [
      "505it [05:48,  1.39it/s]"
     ]
    },
    {
     "name": "stdout",
     "output_type": "stream",
     "text": [
      "fail\n"
     ]
    },
    {
     "name": "stderr",
     "output_type": "stream",
     "text": [
      "506it [05:49,  1.66it/s]"
     ]
    },
    {
     "name": "stdout",
     "output_type": "stream",
     "text": [
      "fail\n"
     ]
    },
    {
     "name": "stderr",
     "output_type": "stream",
     "text": [
      "514it [05:59,  1.00it/s]"
     ]
    },
    {
     "name": "stdout",
     "output_type": "stream",
     "text": [
      "fail\n"
     ]
    },
    {
     "name": "stderr",
     "output_type": "stream",
     "text": [
      "515it [05:59,  1.28it/s]"
     ]
    },
    {
     "name": "stdout",
     "output_type": "stream",
     "text": [
      "fail\n"
     ]
    },
    {
     "name": "stderr",
     "output_type": "stream",
     "text": [
      "516it [05:59,  1.65it/s]"
     ]
    },
    {
     "name": "stdout",
     "output_type": "stream",
     "text": [
      "Fail\n"
     ]
    },
    {
     "name": "stderr",
     "output_type": "stream",
     "text": [
      "517it [06:01,  1.32it/s]"
     ]
    },
    {
     "name": "stdout",
     "output_type": "stream",
     "text": [
      "fail\n"
     ]
    },
    {
     "name": "stderr",
     "output_type": "stream",
     "text": [
      "518it [06:01,  1.65it/s]"
     ]
    },
    {
     "name": "stdout",
     "output_type": "stream",
     "text": [
      "Fail\n"
     ]
    },
    {
     "name": "stderr",
     "output_type": "stream",
     "text": [
      "521it [06:02,  2.09it/s]"
     ]
    },
    {
     "name": "stdout",
     "output_type": "stream",
     "text": [
      "fail\n",
      "fail\n"
     ]
    },
    {
     "name": "stderr",
     "output_type": "stream",
     "text": [
      "523it [06:03,  2.95it/s]"
     ]
    },
    {
     "name": "stdout",
     "output_type": "stream",
     "text": [
      "fail\n",
      "Fail\n"
     ]
    },
    {
     "name": "stderr",
     "output_type": "stream",
     "text": [
      "524it [06:03,  3.35it/s]"
     ]
    },
    {
     "name": "stdout",
     "output_type": "stream",
     "text": [
      "fail\n"
     ]
    },
    {
     "name": "stderr",
     "output_type": "stream",
     "text": [
      "525it [06:03,  3.43it/s]"
     ]
    },
    {
     "name": "stdout",
     "output_type": "stream",
     "text": [
      "fail\n"
     ]
    },
    {
     "name": "stderr",
     "output_type": "stream",
     "text": [
      "526it [06:04,  3.42it/s]"
     ]
    },
    {
     "name": "stdout",
     "output_type": "stream",
     "text": [
      "fail\n"
     ]
    },
    {
     "name": "stderr",
     "output_type": "stream",
     "text": [
      "531it [06:10,  1.11it/s]"
     ]
    },
    {
     "name": "stdout",
     "output_type": "stream",
     "text": [
      "fail\n"
     ]
    },
    {
     "name": "stderr",
     "output_type": "stream",
     "text": [
      "532it [06:10,  1.40it/s]"
     ]
    },
    {
     "name": "stdout",
     "output_type": "stream",
     "text": [
      "fail\n"
     ]
    },
    {
     "name": "stderr",
     "output_type": "stream",
     "text": [
      "533it [06:10,  1.73it/s]"
     ]
    },
    {
     "name": "stdout",
     "output_type": "stream",
     "text": [
      "fail\n"
     ]
    },
    {
     "name": "stderr",
     "output_type": "stream",
     "text": [
      "534it [06:10,  2.09it/s]"
     ]
    },
    {
     "name": "stdout",
     "output_type": "stream",
     "text": [
      "fail\n"
     ]
    },
    {
     "name": "stderr",
     "output_type": "stream",
     "text": [
      "536it [06:12,  1.66it/s]"
     ]
    },
    {
     "name": "stdout",
     "output_type": "stream",
     "text": [
      "fail\n"
     ]
    },
    {
     "name": "stderr",
     "output_type": "stream",
     "text": [
      "537it [06:12,  1.89it/s]"
     ]
    },
    {
     "name": "stdout",
     "output_type": "stream",
     "text": [
      "fail\n"
     ]
    },
    {
     "name": "stderr",
     "output_type": "stream",
     "text": [
      "540it [06:16,  1.11it/s]"
     ]
    },
    {
     "name": "stdout",
     "output_type": "stream",
     "text": [
      "fail\n"
     ]
    },
    {
     "name": "stderr",
     "output_type": "stream",
     "text": [
      "542it [06:18,  1.26it/s]"
     ]
    },
    {
     "name": "stdout",
     "output_type": "stream",
     "text": [
      "fail\n"
     ]
    },
    {
     "name": "stderr",
     "output_type": "stream",
     "text": [
      "543it [06:18,  1.58it/s]"
     ]
    },
    {
     "name": "stdout",
     "output_type": "stream",
     "text": [
      "fail\n"
     ]
    },
    {
     "name": "stderr",
     "output_type": "stream",
     "text": [
      "545it [06:19,  1.53it/s]"
     ]
    },
    {
     "name": "stdout",
     "output_type": "stream",
     "text": [
      "fail\n"
     ]
    },
    {
     "name": "stderr",
     "output_type": "stream",
     "text": [
      "546it [06:20,  1.82it/s]"
     ]
    },
    {
     "name": "stdout",
     "output_type": "stream",
     "text": [
      "fail\n"
     ]
    },
    {
     "name": "stderr",
     "output_type": "stream",
     "text": [
      "547it [06:20,  2.10it/s]"
     ]
    },
    {
     "name": "stdout",
     "output_type": "stream",
     "text": [
      "fail\n"
     ]
    },
    {
     "name": "stderr",
     "output_type": "stream",
     "text": [
      "549it [06:21,  2.91it/s]"
     ]
    },
    {
     "name": "stdout",
     "output_type": "stream",
     "text": [
      "fail\n",
      "Fail\n"
     ]
    },
    {
     "name": "stderr",
     "output_type": "stream",
     "text": [
      "550it [06:21,  3.39it/s]"
     ]
    },
    {
     "name": "stdout",
     "output_type": "stream",
     "text": [
      "fail\n"
     ]
    },
    {
     "name": "stderr",
     "output_type": "stream",
     "text": [
      "551it [06:21,  3.71it/s]"
     ]
    },
    {
     "name": "stdout",
     "output_type": "stream",
     "text": [
      "fail\n"
     ]
    },
    {
     "name": "stderr",
     "output_type": "stream",
     "text": [
      "552it [06:21,  3.69it/s]"
     ]
    },
    {
     "name": "stdout",
     "output_type": "stream",
     "text": [
      "fail\n"
     ]
    },
    {
     "name": "stderr",
     "output_type": "stream",
     "text": [
      "553it [06:22,  1.80it/s]"
     ]
    },
    {
     "name": "stdout",
     "output_type": "stream",
     "text": [
      "fail\n"
     ]
    },
    {
     "name": "stderr",
     "output_type": "stream",
     "text": [
      "554it [06:23,  2.12it/s]"
     ]
    },
    {
     "name": "stdout",
     "output_type": "stream",
     "text": [
      "fail\n"
     ]
    },
    {
     "name": "stderr",
     "output_type": "stream",
     "text": [
      "555it [06:23,  2.49it/s]"
     ]
    },
    {
     "name": "stdout",
     "output_type": "stream",
     "text": [
      "Fail\n"
     ]
    },
    {
     "name": "stderr",
     "output_type": "stream",
     "text": [
      "560it [06:28,  1.25it/s]"
     ]
    },
    {
     "name": "stdout",
     "output_type": "stream",
     "text": [
      "fail\n"
     ]
    },
    {
     "name": "stderr",
     "output_type": "stream",
     "text": [
      "565it [06:35,  1.01it/s]"
     ]
    },
    {
     "name": "stdout",
     "output_type": "stream",
     "text": [
      "fail\n"
     ]
    },
    {
     "name": "stderr",
     "output_type": "stream",
     "text": [
      "566it [06:35,  1.29it/s]"
     ]
    },
    {
     "name": "stdout",
     "output_type": "stream",
     "text": [
      "fail\n"
     ]
    },
    {
     "name": "stderr",
     "output_type": "stream",
     "text": [
      "578it [06:51,  1.01it/s]"
     ]
    },
    {
     "name": "stdout",
     "output_type": "stream",
     "text": [
      "fail\n"
     ]
    },
    {
     "name": "stderr",
     "output_type": "stream",
     "text": [
      "582it [06:55,  1.16it/s]"
     ]
    },
    {
     "name": "stdout",
     "output_type": "stream",
     "text": [
      "fail\n"
     ]
    },
    {
     "name": "stderr",
     "output_type": "stream",
     "text": [
      "584it [06:57,  1.05it/s]"
     ]
    },
    {
     "name": "stdout",
     "output_type": "stream",
     "text": [
      "fail\n"
     ]
    },
    {
     "name": "stderr",
     "output_type": "stream",
     "text": [
      "587it [07:00,  1.22it/s]"
     ]
    },
    {
     "name": "stdout",
     "output_type": "stream",
     "text": [
      "fail\n"
     ]
    },
    {
     "name": "stderr",
     "output_type": "stream",
     "text": [
      "589it [07:01,  1.36it/s]"
     ]
    },
    {
     "name": "stdout",
     "output_type": "stream",
     "text": [
      "fail\n"
     ]
    },
    {
     "name": "stderr",
     "output_type": "stream",
     "text": [
      "590it [07:02,  1.68it/s]"
     ]
    },
    {
     "name": "stdout",
     "output_type": "stream",
     "text": [
      "fail\n"
     ]
    },
    {
     "name": "stderr",
     "output_type": "stream",
     "text": [
      "593it [07:05,  1.10it/s]"
     ]
    },
    {
     "name": "stdout",
     "output_type": "stream",
     "text": [
      "fail\n"
     ]
    },
    {
     "name": "stderr",
     "output_type": "stream",
     "text": [
      "596it [07:08,  1.23it/s]"
     ]
    },
    {
     "name": "stdout",
     "output_type": "stream",
     "text": [
      "fail\n"
     ]
    },
    {
     "name": "stderr",
     "output_type": "stream",
     "text": [
      "597it [07:08,  1.51it/s]"
     ]
    },
    {
     "name": "stdout",
     "output_type": "stream",
     "text": [
      "fail\n"
     ]
    },
    {
     "name": "stderr",
     "output_type": "stream",
     "text": [
      "599it [07:09,  2.32it/s]"
     ]
    },
    {
     "name": "stdout",
     "output_type": "stream",
     "text": [
      "fail\n",
      "Fail\n"
     ]
    },
    {
     "name": "stderr",
     "output_type": "stream",
     "text": [
      "601it [07:10,  1.96it/s]"
     ]
    },
    {
     "name": "stdout",
     "output_type": "stream",
     "text": [
      "fail\n"
     ]
    },
    {
     "name": "stderr",
     "output_type": "stream",
     "text": [
      "603it [07:11,  1.75it/s]"
     ]
    },
    {
     "name": "stdout",
     "output_type": "stream",
     "text": [
      "fail\n"
     ]
    },
    {
     "name": "stderr",
     "output_type": "stream",
     "text": [
      "605it [07:12,  2.59it/s]"
     ]
    },
    {
     "name": "stdout",
     "output_type": "stream",
     "text": [
      "Fail\n",
      "Fail\n"
     ]
    },
    {
     "name": "stderr",
     "output_type": "stream",
     "text": [
      "612it [07:21,  1.08it/s]"
     ]
    },
    {
     "name": "stdout",
     "output_type": "stream",
     "text": [
      "fail\n"
     ]
    },
    {
     "name": "stderr",
     "output_type": "stream",
     "text": [
      "613it [07:21,  1.39it/s]"
     ]
    },
    {
     "name": "stdout",
     "output_type": "stream",
     "text": [
      "Fail\n"
     ]
    },
    {
     "name": "stderr",
     "output_type": "stream",
     "text": [
      "616it [07:24,  1.42it/s]"
     ]
    },
    {
     "name": "stdout",
     "output_type": "stream",
     "text": [
      "Fail\n",
      "Fail\n"
     ]
    },
    {
     "name": "stderr",
     "output_type": "stream",
     "text": [
      "618it [07:24,  2.29it/s]"
     ]
    },
    {
     "name": "stdout",
     "output_type": "stream",
     "text": [
      "fail\n",
      "Fail\n"
     ]
    },
    {
     "name": "stderr",
     "output_type": "stream",
     "text": [
      "619it [07:24,  2.77it/s]"
     ]
    },
    {
     "name": "stdout",
     "output_type": "stream",
     "text": [
      "Fail\n"
     ]
    },
    {
     "name": "stderr",
     "output_type": "stream",
     "text": [
      "620it [07:25,  3.19it/s]"
     ]
    },
    {
     "name": "stdout",
     "output_type": "stream",
     "text": [
      "Fail\n"
     ]
    },
    {
     "name": "stderr",
     "output_type": "stream",
     "text": [
      "622it [07:26,  2.14it/s]"
     ]
    },
    {
     "name": "stdout",
     "output_type": "stream",
     "text": [
      "Fail\n"
     ]
    },
    {
     "name": "stderr",
     "output_type": "stream",
     "text": [
      "624it [07:26,  2.99it/s]"
     ]
    },
    {
     "name": "stdout",
     "output_type": "stream",
     "text": [
      "fail\n",
      "fail\n"
     ]
    },
    {
     "name": "stderr",
     "output_type": "stream",
     "text": [
      "625it [07:27,  3.27it/s]"
     ]
    },
    {
     "name": "stdout",
     "output_type": "stream",
     "text": [
      "fail\n"
     ]
    },
    {
     "name": "stderr",
     "output_type": "stream",
     "text": [
      "627it [07:27,  3.75it/s]"
     ]
    },
    {
     "name": "stdout",
     "output_type": "stream",
     "text": [
      "Fail\n",
      "Fail\n"
     ]
    },
    {
     "name": "stderr",
     "output_type": "stream",
     "text": [
      "628it [07:28,  3.30it/s]"
     ]
    },
    {
     "name": "stdout",
     "output_type": "stream",
     "text": [
      "Fail\n"
     ]
    },
    {
     "name": "stderr",
     "output_type": "stream",
     "text": [
      "629it [07:28,  3.54it/s]"
     ]
    },
    {
     "name": "stdout",
     "output_type": "stream",
     "text": [
      "Fail\n"
     ]
    },
    {
     "name": "stderr",
     "output_type": "stream",
     "text": [
      "630it [07:28,  3.56it/s]"
     ]
    },
    {
     "name": "stdout",
     "output_type": "stream",
     "text": [
      "Fail\n"
     ]
    },
    {
     "name": "stderr",
     "output_type": "stream",
     "text": [
      "631it [07:28,  3.74it/s]"
     ]
    },
    {
     "name": "stdout",
     "output_type": "stream",
     "text": [
      "Fail\n"
     ]
    },
    {
     "name": "stderr",
     "output_type": "stream",
     "text": [
      "632it [07:30,  1.70it/s]"
     ]
    },
    {
     "name": "stdout",
     "output_type": "stream",
     "text": [
      "Fail\n"
     ]
    },
    {
     "name": "stderr",
     "output_type": "stream",
     "text": [
      "633it [07:30,  2.02it/s]"
     ]
    },
    {
     "name": "stdout",
     "output_type": "stream",
     "text": [
      "Fail\n"
     ]
    },
    {
     "name": "stderr",
     "output_type": "stream",
     "text": [
      "634it [07:30,  2.23it/s]"
     ]
    },
    {
     "name": "stdout",
     "output_type": "stream",
     "text": [
      "Fail\n"
     ]
    },
    {
     "name": "stderr",
     "output_type": "stream",
     "text": [
      "635it [07:30,  2.65it/s]"
     ]
    },
    {
     "name": "stdout",
     "output_type": "stream",
     "text": [
      "Fail\n"
     ]
    },
    {
     "name": "stderr",
     "output_type": "stream",
     "text": [
      "636it [07:31,  2.96it/s]"
     ]
    },
    {
     "name": "stdout",
     "output_type": "stream",
     "text": [
      "Fail\n"
     ]
    },
    {
     "name": "stderr",
     "output_type": "stream",
     "text": [
      "637it [07:31,  2.93it/s]"
     ]
    },
    {
     "name": "stdout",
     "output_type": "stream",
     "text": [
      "Fail\n"
     ]
    },
    {
     "name": "stderr",
     "output_type": "stream",
     "text": [
      "638it [07:31,  3.24it/s]"
     ]
    },
    {
     "name": "stdout",
     "output_type": "stream",
     "text": [
      "Fail\n"
     ]
    },
    {
     "name": "stderr",
     "output_type": "stream",
     "text": [
      "639it [07:31,  3.59it/s]"
     ]
    },
    {
     "name": "stdout",
     "output_type": "stream",
     "text": [
      "Fail\n"
     ]
    },
    {
     "name": "stderr",
     "output_type": "stream",
     "text": [
      "640it [07:32,  3.51it/s]"
     ]
    },
    {
     "name": "stdout",
     "output_type": "stream",
     "text": [
      "Fail\n"
     ]
    },
    {
     "name": "stderr",
     "output_type": "stream",
     "text": [
      "641it [07:32,  3.54it/s]"
     ]
    },
    {
     "name": "stdout",
     "output_type": "stream",
     "text": [
      "Fail\n"
     ]
    },
    {
     "name": "stderr",
     "output_type": "stream",
     "text": [
      "642it [07:32,  3.53it/s]"
     ]
    },
    {
     "name": "stdout",
     "output_type": "stream",
     "text": [
      "Fail\n"
     ]
    },
    {
     "name": "stderr",
     "output_type": "stream",
     "text": [
      "643it [07:33,  3.60it/s]"
     ]
    },
    {
     "name": "stdout",
     "output_type": "stream",
     "text": [
      "Fail\n"
     ]
    },
    {
     "name": "stderr",
     "output_type": "stream",
     "text": [
      "644it [07:33,  3.44it/s]"
     ]
    },
    {
     "name": "stdout",
     "output_type": "stream",
     "text": [
      "Fail\n"
     ]
    },
    {
     "name": "stderr",
     "output_type": "stream",
     "text": [
      "646it [07:33,  3.92it/s]"
     ]
    },
    {
     "name": "stdout",
     "output_type": "stream",
     "text": [
      "Fail\n",
      "Fail\n"
     ]
    },
    {
     "name": "stderr",
     "output_type": "stream",
     "text": [
      "647it [07:34,  3.79it/s]"
     ]
    },
    {
     "name": "stdout",
     "output_type": "stream",
     "text": [
      "Fail\n"
     ]
    },
    {
     "name": "stderr",
     "output_type": "stream",
     "text": [
      "649it [07:34,  4.05it/s]"
     ]
    },
    {
     "name": "stdout",
     "output_type": "stream",
     "text": [
      "Fail\n",
      "Fail\n"
     ]
    },
    {
     "name": "stderr",
     "output_type": "stream",
     "text": [
      "651it [07:35,  4.38it/s]"
     ]
    },
    {
     "name": "stdout",
     "output_type": "stream",
     "text": [
      "Fail\n",
      "Fail\n"
     ]
    },
    {
     "name": "stderr",
     "output_type": "stream",
     "text": [
      "652it [07:35,  4.55it/s]"
     ]
    },
    {
     "name": "stdout",
     "output_type": "stream",
     "text": [
      "Fail\n"
     ]
    },
    {
     "name": "stderr",
     "output_type": "stream",
     "text": [
      "654it [07:35,  4.60it/s]"
     ]
    },
    {
     "name": "stdout",
     "output_type": "stream",
     "text": [
      "Fail\n",
      "Fail\n"
     ]
    },
    {
     "name": "stderr",
     "output_type": "stream",
     "text": [
      "655it [07:35,  4.21it/s]"
     ]
    },
    {
     "name": "stdout",
     "output_type": "stream",
     "text": [
      "Fail\n"
     ]
    },
    {
     "name": "stderr",
     "output_type": "stream",
     "text": [
      "657it [07:37,  2.13it/s]"
     ]
    },
    {
     "name": "stdout",
     "output_type": "stream",
     "text": [
      "Fail\n",
      "Fail\n"
     ]
    },
    {
     "name": "stderr",
     "output_type": "stream",
     "text": [
      "659it [07:38,  1.94it/s]"
     ]
    },
    {
     "name": "stdout",
     "output_type": "stream",
     "text": [
      "fail\n"
     ]
    },
    {
     "name": "stderr",
     "output_type": "stream",
     "text": [
      "660it [07:39,  2.35it/s]"
     ]
    },
    {
     "name": "stdout",
     "output_type": "stream",
     "text": [
      "fail\n"
     ]
    },
    {
     "name": "stderr",
     "output_type": "stream",
     "text": [
      "661it [07:39,  2.76it/s]"
     ]
    },
    {
     "name": "stdout",
     "output_type": "stream",
     "text": [
      "fail\n"
     ]
    },
    {
     "name": "stderr",
     "output_type": "stream",
     "text": [
      "667it [07:45,  1.30it/s]"
     ]
    },
    {
     "name": "stdout",
     "output_type": "stream",
     "text": [
      "fail\n"
     ]
    },
    {
     "name": "stderr",
     "output_type": "stream",
     "text": [
      "673it [07:52,  1.09it/s]"
     ]
    },
    {
     "name": "stdout",
     "output_type": "stream",
     "text": [
      "fail\n"
     ]
    },
    {
     "name": "stderr",
     "output_type": "stream",
     "text": [
      "685it [08:08,  1.11s/it]"
     ]
    },
    {
     "name": "stdout",
     "output_type": "stream",
     "text": [
      "fail\n"
     ]
    },
    {
     "name": "stderr",
     "output_type": "stream",
     "text": [
      "687it [08:10,  1.15it/s]"
     ]
    },
    {
     "name": "stdout",
     "output_type": "stream",
     "text": [
      "fail\n"
     ]
    },
    {
     "name": "stderr",
     "output_type": "stream",
     "text": [
      "698it [08:24,  1.03it/s]"
     ]
    },
    {
     "name": "stdout",
     "output_type": "stream",
     "text": [
      "fail\n"
     ]
    },
    {
     "name": "stderr",
     "output_type": "stream",
     "text": [
      "699it [08:24,  1.30it/s]"
     ]
    },
    {
     "name": "stdout",
     "output_type": "stream",
     "text": [
      "fail\n"
     ]
    },
    {
     "name": "stderr",
     "output_type": "stream",
     "text": [
      "702it [08:28,  1.06it/s]"
     ]
    },
    {
     "name": "stdout",
     "output_type": "stream",
     "text": [
      "fail\n"
     ]
    },
    {
     "name": "stderr",
     "output_type": "stream",
     "text": [
      "712it [08:40,  1.01it/s]"
     ]
    },
    {
     "name": "stdout",
     "output_type": "stream",
     "text": [
      "fail\n"
     ]
    },
    {
     "name": "stderr",
     "output_type": "stream",
     "text": [
      "717it [08:46,  1.14s/it]"
     ]
    },
    {
     "name": "stdout",
     "output_type": "stream",
     "text": [
      "fail\n"
     ]
    },
    {
     "name": "stderr",
     "output_type": "stream",
     "text": [
      "722it [08:52,  1.09it/s]"
     ]
    },
    {
     "name": "stdout",
     "output_type": "stream",
     "text": [
      "fail\n"
     ]
    },
    {
     "name": "stderr",
     "output_type": "stream",
     "text": [
      "724it [08:53,  1.28it/s]"
     ]
    },
    {
     "name": "stdout",
     "output_type": "stream",
     "text": [
      "fail\n"
     ]
    },
    {
     "name": "stderr",
     "output_type": "stream",
     "text": [
      "732it [09:03,  1.10it/s]"
     ]
    },
    {
     "name": "stdout",
     "output_type": "stream",
     "text": [
      "fail\n"
     ]
    },
    {
     "name": "stderr",
     "output_type": "stream",
     "text": [
      "739it [09:12,  1.02it/s]"
     ]
    },
    {
     "name": "stdout",
     "output_type": "stream",
     "text": [
      "fail\n"
     ]
    },
    {
     "name": "stderr",
     "output_type": "stream",
     "text": [
      "742it [09:14,  1.21it/s]"
     ]
    },
    {
     "name": "stdout",
     "output_type": "stream",
     "text": [
      "fail\n"
     ]
    },
    {
     "name": "stderr",
     "output_type": "stream",
     "text": [
      "747it [09:21,  1.16s/it]"
     ]
    },
    {
     "name": "stdout",
     "output_type": "stream",
     "text": [
      "fail\n"
     ]
    },
    {
     "name": "stderr",
     "output_type": "stream",
     "text": [
      "750it [09:24,  1.14it/s]"
     ]
    },
    {
     "name": "stdout",
     "output_type": "stream",
     "text": [
      "fail\n"
     ]
    },
    {
     "name": "stderr",
     "output_type": "stream",
     "text": [
      "752it [09:24,  1.82it/s]"
     ]
    },
    {
     "name": "stdout",
     "output_type": "stream",
     "text": [
      "fail\n",
      "fail\n"
     ]
    },
    {
     "name": "stderr",
     "output_type": "stream",
     "text": [
      "756it [09:28,  1.39it/s]"
     ]
    },
    {
     "name": "stdout",
     "output_type": "stream",
     "text": [
      "fail\n"
     ]
    },
    {
     "name": "stderr",
     "output_type": "stream",
     "text": [
      "757it [09:28,  1.76it/s]"
     ]
    },
    {
     "name": "stdout",
     "output_type": "stream",
     "text": [
      "fail\n"
     ]
    },
    {
     "name": "stderr",
     "output_type": "stream",
     "text": [
      "763it [09:34,  1.57it/s]"
     ]
    },
    {
     "name": "stdout",
     "output_type": "stream",
     "text": [
      "fail\n",
      "fail\n"
     ]
    },
    {
     "name": "stderr",
     "output_type": "stream",
     "text": [
      "767it [09:38,  1.35it/s]"
     ]
    },
    {
     "name": "stdout",
     "output_type": "stream",
     "text": [
      "fail\n"
     ]
    },
    {
     "name": "stderr",
     "output_type": "stream",
     "text": [
      "770it [09:42,  1.07it/s]"
     ]
    },
    {
     "name": "stdout",
     "output_type": "stream",
     "text": [
      "fail\n"
     ]
    },
    {
     "name": "stderr",
     "output_type": "stream",
     "text": [
      "776it [09:49,  1.12s/it]C:\\Users\\4thgr\\AppData\\Local\\anaconda3\\envs\\TothSidleckEnv\\Lib\\site-packages\\scipy\\stats\\_axis_nan_policy.py:531: RuntimeWarning: Precision loss occurred in moment calculation due to catastrophic cancellation. This occurs when the data are nearly identical. Results may be unreliable.\n",
      "  res = hypotest_fun_out(*samples, **kwds)\n",
      "779it [09:53,  1.14s/it]"
     ]
    },
    {
     "name": "stdout",
     "output_type": "stream",
     "text": [
      "fail\n"
     ]
    },
    {
     "name": "stderr",
     "output_type": "stream",
     "text": [
      "781it [09:54,  1.12it/s]"
     ]
    },
    {
     "name": "stdout",
     "output_type": "stream",
     "text": [
      "fail\n"
     ]
    },
    {
     "name": "stderr",
     "output_type": "stream",
     "text": [
      "782it [09:54,  1.44it/s]"
     ]
    },
    {
     "name": "stdout",
     "output_type": "stream",
     "text": [
      "fail\n"
     ]
    },
    {
     "name": "stderr",
     "output_type": "stream",
     "text": [
      "784it [09:56,  1.57it/s]"
     ]
    },
    {
     "name": "stdout",
     "output_type": "stream",
     "text": [
      "fail\n"
     ]
    },
    {
     "name": "stderr",
     "output_type": "stream",
     "text": [
      "787it [09:58,  1.52it/s]"
     ]
    },
    {
     "name": "stdout",
     "output_type": "stream",
     "text": [
      "fail\n"
     ]
    },
    {
     "name": "stderr",
     "output_type": "stream",
     "text": [
      "791it [10:01,  1.92it/s]"
     ]
    },
    {
     "name": "stdout",
     "output_type": "stream",
     "text": [
      "Fail\n",
      "Fail\n"
     ]
    },
    {
     "name": "stderr",
     "output_type": "stream",
     "text": [
      "793it [10:02,  1.49it/s]"
     ]
    },
    {
     "name": "stdout",
     "output_type": "stream",
     "text": [
      "fail\n",
      "fail\n"
     ]
    },
    {
     "name": "stderr",
     "output_type": "stream",
     "text": [
      "797it [10:05,  1.81it/s]"
     ]
    },
    {
     "name": "stdout",
     "output_type": "stream",
     "text": [
      "fail\n",
      "fail\n"
     ]
    },
    {
     "name": "stderr",
     "output_type": "stream",
     "text": [
      "800it [10:07,  2.22it/s]"
     ]
    },
    {
     "name": "stdout",
     "output_type": "stream",
     "text": [
      "fail\n",
      "Fail\n"
     ]
    },
    {
     "name": "stderr",
     "output_type": "stream",
     "text": [
      "801it [10:07,  2.72it/s]"
     ]
    },
    {
     "name": "stdout",
     "output_type": "stream",
     "text": [
      "Fail\n"
     ]
    },
    {
     "name": "stderr",
     "output_type": "stream",
     "text": [
      "804it [10:09,  1.67it/s]"
     ]
    },
    {
     "name": "stdout",
     "output_type": "stream",
     "text": [
      "fail\n"
     ]
    },
    {
     "name": "stderr",
     "output_type": "stream",
     "text": [
      "806it [10:11,  1.61it/s]"
     ]
    },
    {
     "name": "stdout",
     "output_type": "stream",
     "text": [
      "fail\n"
     ]
    },
    {
     "name": "stderr",
     "output_type": "stream",
     "text": [
      "811it [10:17,  1.13it/s]"
     ]
    },
    {
     "name": "stdout",
     "output_type": "stream",
     "text": [
      "fail\n"
     ]
    },
    {
     "name": "stderr",
     "output_type": "stream",
     "text": [
      "814it [10:20,  1.30it/s]"
     ]
    },
    {
     "name": "stdout",
     "output_type": "stream",
     "text": [
      "fail\n"
     ]
    },
    {
     "name": "stderr",
     "output_type": "stream",
     "text": [
      "816it [10:21,  1.45it/s]"
     ]
    },
    {
     "name": "stdout",
     "output_type": "stream",
     "text": [
      "fail\n"
     ]
    },
    {
     "name": "stderr",
     "output_type": "stream",
     "text": [
      "820it [10:25,  1.15it/s]"
     ]
    },
    {
     "name": "stdout",
     "output_type": "stream",
     "text": [
      "fail\n",
      "fail\n"
     ]
    },
    {
     "name": "stderr",
     "output_type": "stream",
     "text": [
      "824it [10:29,  1.24it/s]"
     ]
    },
    {
     "name": "stdout",
     "output_type": "stream",
     "text": [
      "fail\n"
     ]
    },
    {
     "name": "stderr",
     "output_type": "stream",
     "text": [
      "835it [10:43,  1.01s/it]"
     ]
    },
    {
     "name": "stdout",
     "output_type": "stream",
     "text": [
      "fail\n"
     ]
    },
    {
     "name": "stderr",
     "output_type": "stream",
     "text": [
      "839it [10:47,  1.19it/s]"
     ]
    },
    {
     "name": "stdout",
     "output_type": "stream",
     "text": [
      "fail\n"
     ]
    },
    {
     "name": "stderr",
     "output_type": "stream",
     "text": [
      "846it [10:56,  1.00it/s]"
     ]
    },
    {
     "name": "stdout",
     "output_type": "stream",
     "text": [
      "fail\n"
     ]
    },
    {
     "name": "stderr",
     "output_type": "stream",
     "text": [
      "850it [10:59,  1.22it/s]"
     ]
    },
    {
     "name": "stdout",
     "output_type": "stream",
     "text": [
      "fail\n"
     ]
    },
    {
     "name": "stderr",
     "output_type": "stream",
     "text": [
      "852it [11:00,  1.98it/s]"
     ]
    },
    {
     "name": "stdout",
     "output_type": "stream",
     "text": [
      "fail\n",
      "fail\n"
     ]
    },
    {
     "name": "stderr",
     "output_type": "stream",
     "text": [
      "854it [11:00,  2.94it/s]"
     ]
    },
    {
     "name": "stdout",
     "output_type": "stream",
     "text": [
      "Fail\n",
      "fail\n"
     ]
    },
    {
     "name": "stderr",
     "output_type": "stream",
     "text": [
      "855it [11:00,  3.20it/s]"
     ]
    },
    {
     "name": "stdout",
     "output_type": "stream",
     "text": [
      "fail\n"
     ]
    },
    {
     "name": "stderr",
     "output_type": "stream",
     "text": [
      "858it [11:02,  2.74it/s]"
     ]
    },
    {
     "name": "stdout",
     "output_type": "stream",
     "text": [
      "fail\n",
      "Fail\n"
     ]
    },
    {
     "name": "stderr",
     "output_type": "stream",
     "text": [
      "859it [11:02,  3.15it/s]"
     ]
    },
    {
     "name": "stdout",
     "output_type": "stream",
     "text": [
      "fail\n"
     ]
    },
    {
     "name": "stderr",
     "output_type": "stream",
     "text": [
      "860it [11:02,  3.51it/s]"
     ]
    },
    {
     "name": "stdout",
     "output_type": "stream",
     "text": [
      "fail\n"
     ]
    },
    {
     "name": "stderr",
     "output_type": "stream",
     "text": [
      "863it [11:07,  1.10it/s]"
     ]
    },
    {
     "name": "stdout",
     "output_type": "stream",
     "text": [
      "fail\n"
     ]
    },
    {
     "name": "stderr",
     "output_type": "stream",
     "text": [
      "866it [11:09,  1.27it/s]"
     ]
    },
    {
     "name": "stdout",
     "output_type": "stream",
     "text": [
      "fail\n"
     ]
    },
    {
     "name": "stderr",
     "output_type": "stream",
     "text": [
      "870it [11:14,  1.12s/it]"
     ]
    },
    {
     "name": "stdout",
     "output_type": "stream",
     "text": [
      "session BS_56_7_AC_10-29-2021 clust 4 tried to load saved active trials but failed. Error: 22\n",
      "session BS_56_7_AC_10-29-2021 clust 4 tried to load saved active trials but failed. Error: 22\n",
      "session BS_56_7_AC_10-29-2021 clust 4 tried to load saved active trials but failed. Error: 22\n",
      "session BS_56_7_AC_10-29-2021 clust 4 tried to load saved active trials but failed. Error: 22\n",
      "session BS_56_7_AC_10-29-2021 clust 4 tried to load saved active trials but failed. Error: 22\n",
      "session BS_56_7_AC_10-29-2021 clust 4 tried to load saved active trials but failed. Error: 22\n",
      "session BS_56_7_AC_10-29-2021 clust 4 tried to load saved active trials but failed. Error: 22\n",
      "session BS_56_7_AC_10-29-2021 clust 4 tried to load saved active trials but failed. Error: 22\n",
      "session BS_56_7_AC_10-29-2021 clust 4 tried to load saved active trials but failed. Error: 22\n",
      "session BS_56_7_AC_10-29-2021 clust 4 tried to load saved active trials but failed. Error: 22\n",
      "session BS_56_7_AC_10-29-2021 clust 4 tried to load saved active trials but failed. Error: 22\n",
      "session BS_56_7_AC_10-29-2021 clust 4 tried to load saved active trials but failed. Error: 22\n",
      "session BS_56_7_AC_10-29-2021 clust 4 tried to load saved active trials but failed. Error: 22\n",
      "session BS_56_7_AC_10-29-2021 clust 4 tried to load saved active trials but failed. Error: 22\n",
      "session BS_56_7_AC_10-29-2021 clust 4 tried to load saved active trials but failed. Error: 22\n",
      "session BS_56_7_AC_10-29-2021 clust 4 tried to load saved active trials but failed. Error: 22\n",
      "session BS_56_7_AC_10-29-2021 clust 4 tried to load saved active trials but failed. Error: 22\n",
      "session BS_56_7_AC_10-29-2021 clust 4 tried to load saved active trials but failed. Error: 22\n",
      "session BS_56_7_AC_10-29-2021 clust 4 tried to load saved active trials but failed. Error: 22\n",
      "session BS_56_7_AC_10-29-2021 clust 4 tried to load saved active trials but failed. Error: 22\n",
      "session BS_56_7_AC_10-29-2021 clust 4 tried to load saved active trials but failed. Error: 22\n",
      "session BS_56_7_AC_10-29-2021 clust 4 tried to load saved active trials but failed. Error: 22\n",
      "session BS_56_7_AC_10-29-2021 clust 4 tried to load saved active trials but failed. Error: 22\n",
      "session BS_56_7_AC_10-29-2021 clust 4 tried to load saved active trials but failed. Error: 22\n",
      "session BS_56_7_AC_10-29-2021 clust 4 tried to load saved active trials but failed. Error: 22\n",
      "session BS_56_7_AC_10-29-2021 clust 4 tried to load saved active trials but failed. Error: 22\n",
      "session BS_56_7_AC_10-29-2021 clust 4 tried to load saved active trials but failed. Error: 22\n",
      "session BS_56_7_AC_10-29-2021 clust 4 tried to load saved active trials but failed. Error: 22\n",
      "session BS_56_7_AC_10-29-2021 clust 4 tried to load saved active trials but failed. Error: 22\n",
      "session BS_56_7_AC_10-29-2021 clust 4 tried to load saved active trials but failed. Error: 22\n",
      "session BS_56_7_AC_10-29-2021 clust 4 tried to load saved active trials but failed. Error: 22\n",
      "session BS_56_7_AC_10-29-2021 clust 4 tried to load saved active trials but failed. Error: 22\n",
      "session BS_56_7_AC_10-29-2021 clust 4 tried to load saved active trials but failed. Error: 22\n",
      "session BS_56_7_AC_10-29-2021 clust 4 tried to load saved active trials but failed. Error: 22\n",
      "session BS_56_7_AC_10-29-2021 clust 4 tried to load saved active trials but failed. Error: 22\n",
      "session BS_56_7_AC_10-29-2021 clust 4 tried to load saved active trials but failed. Error: 22\n",
      "session BS_56_7_AC_10-29-2021 clust 4 tried to load saved active trials but failed. Error: 22\n",
      "session BS_56_7_AC_10-29-2021 clust 4 tried to load saved active trials but failed. Error: 22\n",
      "session BS_56_7_AC_10-29-2021 clust 4 tried to load saved active trials but failed. Error: 22\n"
     ]
    },
    {
     "name": "stderr",
     "output_type": "stream",
     "text": [
      "872it [11:14,  1.47it/s]"
     ]
    },
    {
     "name": "stdout",
     "output_type": "stream",
     "text": [
      "PhaseFail Skipping\n",
      "session BS_56_7_AC_10-29-2021 clust 12 tried to load saved active trials but failed. Error: 22\n",
      "session BS_56_7_AC_10-29-2021 clust 12 tried to load saved active trials but failed. Error: 22\n",
      "session BS_56_7_AC_10-29-2021 clust 12 tried to load saved active trials but failed. Error: 22\n",
      "session BS_56_7_AC_10-29-2021 clust 12 tried to load saved active trials but failed. Error: 22\n",
      "session BS_56_7_AC_10-29-2021 clust 12 tried to load saved active trials but failed. Error: 22\n",
      "session BS_56_7_AC_10-29-2021 clust 12 tried to load saved active trials but failed. Error: 22\n",
      "session BS_56_7_AC_10-29-2021 clust 12 tried to load saved active trials but failed. Error: 22\n",
      "session BS_56_7_AC_10-29-2021 clust 12 tried to load saved active trials but failed. Error: 22\n",
      "session BS_56_7_AC_10-29-2021 clust 12 tried to load saved active trials but failed. Error: 22\n",
      "session BS_56_7_AC_10-29-2021 clust 12 tried to load saved active trials but failed. Error: 22\n",
      "session BS_56_7_AC_10-29-2021 clust 12 tried to load saved active trials but failed. Error: 22\n",
      "session BS_56_7_AC_10-29-2021 clust 12 tried to load saved active trials but failed. Error: 22\n",
      "session BS_56_7_AC_10-29-2021 clust 12 tried to load saved active trials but failed. Error: 22\n",
      "session BS_56_7_AC_10-29-2021 clust 12 tried to load saved active trials but failed. Error: 22\n",
      "session BS_56_7_AC_10-29-2021 clust 12 tried to load saved active trials but failed. Error: 22\n",
      "session BS_56_7_AC_10-29-2021 clust 12 tried to load saved active trials but failed. Error: 22\n",
      "session BS_56_7_AC_10-29-2021 clust 12 tried to load saved active trials but failed. Error: 22\n",
      "session BS_56_7_AC_10-29-2021 clust 12 tried to load saved active trials but failed. Error: 22\n",
      "session BS_56_7_AC_10-29-2021 clust 12 tried to load saved active trials but failed. Error: 22\n",
      "session BS_56_7_AC_10-29-2021 clust 12 tried to load saved active trials but failed. Error: 22\n",
      "session BS_56_7_AC_10-29-2021 clust 12 tried to load saved active trials but failed. Error: 22\n",
      "session BS_56_7_AC_10-29-2021 clust 12 tried to load saved active trials but failed. Error: 22\n",
      "session BS_56_7_AC_10-29-2021 clust 12 tried to load saved active trials but failed. Error: 22\n",
      "session BS_56_7_AC_10-29-2021 clust 12 tried to load saved active trials but failed. Error: 22\n",
      "session BS_56_7_AC_10-29-2021 clust 12 tried to load saved active trials but failed. Error: 22\n",
      "session BS_56_7_AC_10-29-2021 clust 12 tried to load saved active trials but failed. Error: 22\n",
      "session BS_56_7_AC_10-29-2021 clust 12 tried to load saved active trials but failed. Error: 22\n",
      "session BS_56_7_AC_10-29-2021 clust 12 tried to load saved active trials but failed. Error: 22\n",
      "session BS_56_7_AC_10-29-2021 clust 12 tried to load saved active trials but failed. Error: 22\n",
      "session BS_56_7_AC_10-29-2021 clust 12 tried to load saved active trials but failed. Error: 22\n",
      "session BS_56_7_AC_10-29-2021 clust 12 tried to load saved active trials but failed. Error: 22\n",
      "session BS_56_7_AC_10-29-2021 clust 12 tried to load saved active trials but failed. Error: 22\n",
      "session BS_56_7_AC_10-29-2021 clust 12 tried to load saved active trials but failed. Error: 22\n",
      "session BS_56_7_AC_10-29-2021 clust 12 tried to load saved active trials but failed. Error: 22\n",
      "session BS_56_7_AC_10-29-2021 clust 12 tried to load saved active trials but failed. Error: 22\n",
      "session BS_56_7_AC_10-29-2021 clust 12 tried to load saved active trials but failed. Error: 22\n",
      "session BS_56_7_AC_10-29-2021 clust 12 tried to load saved active trials but failed. Error: 22\n",
      "session BS_56_7_AC_10-29-2021 clust 12 tried to load saved active trials but failed. Error: 22\n",
      "session BS_56_7_AC_10-29-2021 clust 12 tried to load saved active trials but failed. Error: 22\n",
      "fail\n"
     ]
    },
    {
     "name": "stderr",
     "output_type": "stream",
     "text": [
      "873it [11:15,  1.88it/s]"
     ]
    },
    {
     "name": "stdout",
     "output_type": "stream",
     "text": [
      "Fail\n"
     ]
    },
    {
     "name": "stderr",
     "output_type": "stream",
     "text": [
      "874it [11:15,  2.16it/s]"
     ]
    },
    {
     "name": "stdout",
     "output_type": "stream",
     "text": [
      "Fail\n"
     ]
    },
    {
     "name": "stderr",
     "output_type": "stream",
     "text": [
      "876it [11:15,  3.06it/s]"
     ]
    },
    {
     "name": "stdout",
     "output_type": "stream",
     "text": [
      "Fail\n",
      "Fail\n"
     ]
    },
    {
     "name": "stderr",
     "output_type": "stream",
     "text": [
      "878it [11:16,  3.43it/s]"
     ]
    },
    {
     "name": "stdout",
     "output_type": "stream",
     "text": [
      "Fail\n",
      "Fail\n"
     ]
    },
    {
     "name": "stderr",
     "output_type": "stream",
     "text": [
      "879it [11:16,  3.67it/s]"
     ]
    },
    {
     "name": "stdout",
     "output_type": "stream",
     "text": [
      "Fail\n"
     ]
    },
    {
     "name": "stderr",
     "output_type": "stream",
     "text": [
      "881it [11:16,  4.41it/s]"
     ]
    },
    {
     "name": "stdout",
     "output_type": "stream",
     "text": [
      "fail\n",
      "Fail\n"
     ]
    },
    {
     "name": "stderr",
     "output_type": "stream",
     "text": [
      "883it [11:17,  5.13it/s]"
     ]
    },
    {
     "name": "stdout",
     "output_type": "stream",
     "text": [
      "Fail\n",
      "Fail\n"
     ]
    },
    {
     "name": "stderr",
     "output_type": "stream",
     "text": [
      "884it [11:17,  5.54it/s]"
     ]
    },
    {
     "name": "stdout",
     "output_type": "stream",
     "text": [
      "Fail\n"
     ]
    },
    {
     "name": "stderr",
     "output_type": "stream",
     "text": [
      "886it [11:19,  1.96it/s]"
     ]
    },
    {
     "name": "stdout",
     "output_type": "stream",
     "text": [
      "Fail\n",
      "Fail\n"
     ]
    },
    {
     "name": "stderr",
     "output_type": "stream",
     "text": [
      "888it [11:19,  2.97it/s]"
     ]
    },
    {
     "name": "stdout",
     "output_type": "stream",
     "text": [
      "Fail\n",
      "fail\n"
     ]
    },
    {
     "name": "stderr",
     "output_type": "stream",
     "text": [
      "890it [11:20,  3.95it/s]"
     ]
    },
    {
     "name": "stdout",
     "output_type": "stream",
     "text": [
      "Fail\n",
      "Fail\n"
     ]
    },
    {
     "name": "stderr",
     "output_type": "stream",
     "text": [
      "891it [11:20,  4.47it/s]"
     ]
    },
    {
     "name": "stdout",
     "output_type": "stream",
     "text": [
      "Fail\n"
     ]
    },
    {
     "name": "stderr",
     "output_type": "stream",
     "text": [
      "905it [11:38,  1.01it/s]"
     ]
    },
    {
     "name": "stdout",
     "output_type": "stream",
     "text": [
      "Fail\n"
     ]
    },
    {
     "name": "stderr",
     "output_type": "stream",
     "text": [
      "910it [11:43,  1.09it/s]"
     ]
    },
    {
     "name": "stdout",
     "output_type": "stream",
     "text": [
      "fail\n"
     ]
    },
    {
     "name": "stderr",
     "output_type": "stream",
     "text": [
      "914it [11:49,  1.14s/it]"
     ]
    },
    {
     "name": "stdout",
     "output_type": "stream",
     "text": [
      "fail\n"
     ]
    },
    {
     "name": "stderr",
     "output_type": "stream",
     "text": [
      "919it [11:54,  1.12it/s]"
     ]
    },
    {
     "name": "stdout",
     "output_type": "stream",
     "text": [
      "Fail\n"
     ]
    },
    {
     "name": "stderr",
     "output_type": "stream",
     "text": [
      "922it [11:56,  1.24it/s]"
     ]
    },
    {
     "name": "stdout",
     "output_type": "stream",
     "text": [
      "fail\n"
     ]
    },
    {
     "name": "stderr",
     "output_type": "stream",
     "text": [
      "925it [11:59,  1.29it/s]"
     ]
    },
    {
     "name": "stdout",
     "output_type": "stream",
     "text": [
      "fail\n"
     ]
    },
    {
     "name": "stderr",
     "output_type": "stream",
     "text": [
      "926it [11:59,  1.62it/s]"
     ]
    },
    {
     "name": "stdout",
     "output_type": "stream",
     "text": [
      "fail\n"
     ]
    },
    {
     "name": "stderr",
     "output_type": "stream",
     "text": [
      "928it [12:02,  1.04it/s]"
     ]
    },
    {
     "name": "stdout",
     "output_type": "stream",
     "text": [
      "fail\n"
     ]
    },
    {
     "name": "stderr",
     "output_type": "stream",
     "text": [
      "929it [12:02,  1.35it/s]"
     ]
    },
    {
     "name": "stdout",
     "output_type": "stream",
     "text": [
      "fail\n"
     ]
    },
    {
     "name": "stderr",
     "output_type": "stream",
     "text": [
      "932it [12:05,  1.36it/s]"
     ]
    },
    {
     "name": "stdout",
     "output_type": "stream",
     "text": [
      "Fail\n"
     ]
    },
    {
     "name": "stderr",
     "output_type": "stream",
     "text": [
      "933it [12:05,  1.71it/s]"
     ]
    },
    {
     "name": "stdout",
     "output_type": "stream",
     "text": [
      "fail\n"
     ]
    },
    {
     "name": "stderr",
     "output_type": "stream",
     "text": [
      "934it [12:06,  2.04it/s]"
     ]
    },
    {
     "name": "stdout",
     "output_type": "stream",
     "text": [
      "fail\n"
     ]
    },
    {
     "name": "stderr",
     "output_type": "stream",
     "text": [
      "936it [12:07,  1.87it/s]"
     ]
    },
    {
     "name": "stdout",
     "output_type": "stream",
     "text": [
      "fail\n"
     ]
    },
    {
     "name": "stderr",
     "output_type": "stream",
     "text": [
      "937it [12:07,  2.23it/s]"
     ]
    },
    {
     "name": "stdout",
     "output_type": "stream",
     "text": [
      "fail\n"
     ]
    },
    {
     "name": "stderr",
     "output_type": "stream",
     "text": [
      "938it [12:07,  2.60it/s]"
     ]
    },
    {
     "name": "stdout",
     "output_type": "stream",
     "text": [
      "fail\n"
     ]
    },
    {
     "name": "stderr",
     "output_type": "stream",
     "text": [
      "940it [12:09,  1.95it/s]"
     ]
    },
    {
     "name": "stdout",
     "output_type": "stream",
     "text": [
      "Fail\n"
     ]
    },
    {
     "name": "stderr",
     "output_type": "stream",
     "text": [
      "941it [12:09,  2.34it/s]"
     ]
    },
    {
     "name": "stdout",
     "output_type": "stream",
     "text": [
      "Fail\n"
     ]
    },
    {
     "name": "stderr",
     "output_type": "stream",
     "text": [
      "944it [12:12,  1.52it/s]"
     ]
    },
    {
     "name": "stdout",
     "output_type": "stream",
     "text": [
      "fail\n",
      "Skipping Switch\n",
      "Skipping Switch\n"
     ]
    },
    {
     "name": "stderr",
     "output_type": "stream",
     "text": [
      "954it [12:23,  1.13it/s]"
     ]
    },
    {
     "name": "stdout",
     "output_type": "stream",
     "text": [
      "fail\n"
     ]
    },
    {
     "name": "stderr",
     "output_type": "stream",
     "text": [
      "956it [12:24,  1.32it/s]"
     ]
    },
    {
     "name": "stdout",
     "output_type": "stream",
     "text": [
      "fail\n"
     ]
    },
    {
     "name": "stderr",
     "output_type": "stream",
     "text": [
      "958it [12:26,  1.43it/s]"
     ]
    },
    {
     "name": "stdout",
     "output_type": "stream",
     "text": [
      "fail\n"
     ]
    },
    {
     "name": "stderr",
     "output_type": "stream",
     "text": [
      "959it [12:26,  1.81it/s]"
     ]
    },
    {
     "name": "stdout",
     "output_type": "stream",
     "text": [
      "fail\n"
     ]
    },
    {
     "name": "stderr",
     "output_type": "stream",
     "text": [
      "960it [12:26,  2.20it/s]"
     ]
    },
    {
     "name": "stdout",
     "output_type": "stream",
     "text": [
      "fail\n"
     ]
    },
    {
     "name": "stderr",
     "output_type": "stream",
     "text": [
      "965it [12:33,  1.05it/s]"
     ]
    },
    {
     "name": "stdout",
     "output_type": "stream",
     "text": [
      "fail\n"
     ]
    },
    {
     "name": "stderr",
     "output_type": "stream",
     "text": [
      "968it [12:35,  1.21it/s]"
     ]
    },
    {
     "name": "stdout",
     "output_type": "stream",
     "text": [
      "fail\n"
     ]
    },
    {
     "name": "stderr",
     "output_type": "stream",
     "text": [
      "969it [12:36,  1.51it/s]"
     ]
    },
    {
     "name": "stdout",
     "output_type": "stream",
     "text": [
      "fail\n"
     ]
    },
    {
     "name": "stderr",
     "output_type": "stream",
     "text": [
      "970it [12:36,  1.89it/s]"
     ]
    },
    {
     "name": "stdout",
     "output_type": "stream",
     "text": [
      "fail\n"
     ]
    },
    {
     "name": "stderr",
     "output_type": "stream",
     "text": [
      "981it [12:51,  1.09s/it]"
     ]
    },
    {
     "name": "stdout",
     "output_type": "stream",
     "text": [
      "fail\n"
     ]
    },
    {
     "name": "stderr",
     "output_type": "stream",
     "text": [
      "990it [13:03,  1.33s/it]"
     ]
    },
    {
     "name": "stdout",
     "output_type": "stream",
     "text": [
      "fail\n"
     ]
    },
    {
     "name": "stderr",
     "output_type": "stream",
     "text": [
      "994it [13:07,  1.02it/s]"
     ]
    },
    {
     "name": "stdout",
     "output_type": "stream",
     "text": [
      "fail\n"
     ]
    },
    {
     "name": "stderr",
     "output_type": "stream",
     "text": [
      "999it [13:13,  1.08it/s]"
     ]
    },
    {
     "name": "stdout",
     "output_type": "stream",
     "text": [
      "fail\n"
     ]
    },
    {
     "name": "stderr",
     "output_type": "stream",
     "text": [
      "1001it [13:14,  1.26it/s]"
     ]
    },
    {
     "name": "stdout",
     "output_type": "stream",
     "text": [
      "fail\n"
     ]
    },
    {
     "name": "stderr",
     "output_type": "stream",
     "text": [
      "1012it [13:27,  1.42it/s]"
     ]
    },
    {
     "name": "stdout",
     "output_type": "stream",
     "text": [
      "fail\n",
      "fail\n"
     ]
    },
    {
     "name": "stderr",
     "output_type": "stream",
     "text": [
      "1015it [13:29,  1.97it/s]"
     ]
    },
    {
     "name": "stdout",
     "output_type": "stream",
     "text": [
      "Fail\n",
      "Fail\n"
     ]
    },
    {
     "name": "stderr",
     "output_type": "stream",
     "text": [
      "1018it [13:31,  1.48it/s]"
     ]
    },
    {
     "name": "stdout",
     "output_type": "stream",
     "text": [
      "fail\n"
     ]
    },
    {
     "name": "stderr",
     "output_type": "stream",
     "text": [
      "1020it [13:34,  1.22it/s]"
     ]
    },
    {
     "name": "stdout",
     "output_type": "stream",
     "text": [
      "Fail\n",
      "Fail\n"
     ]
    },
    {
     "name": "stderr",
     "output_type": "stream",
     "text": [
      "1021it [13:34,  1.56it/s]"
     ]
    },
    {
     "name": "stdout",
     "output_type": "stream",
     "text": [
      "Fail\n"
     ]
    },
    {
     "name": "stderr",
     "output_type": "stream",
     "text": [
      "1023it [13:35,  1.65it/s]"
     ]
    },
    {
     "name": "stdout",
     "output_type": "stream",
     "text": [
      "Fail\n"
     ]
    },
    {
     "name": "stderr",
     "output_type": "stream",
     "text": [
      "1024it [13:35,  2.04it/s]"
     ]
    },
    {
     "name": "stdout",
     "output_type": "stream",
     "text": [
      "Fail\n"
     ]
    },
    {
     "name": "stderr",
     "output_type": "stream",
     "text": [
      "1026it [13:37,  1.79it/s]"
     ]
    },
    {
     "name": "stdout",
     "output_type": "stream",
     "text": [
      "fail\n"
     ]
    },
    {
     "name": "stderr",
     "output_type": "stream",
     "text": [
      "1028it [13:37,  2.62it/s]"
     ]
    },
    {
     "name": "stdout",
     "output_type": "stream",
     "text": [
      "fail\n",
      "Fail\n"
     ]
    },
    {
     "name": "stderr",
     "output_type": "stream",
     "text": [
      "1029it [13:37,  3.01it/s]"
     ]
    },
    {
     "name": "stdout",
     "output_type": "stream",
     "text": [
      "fail\n"
     ]
    },
    {
     "name": "stderr",
     "output_type": "stream",
     "text": [
      "1031it [13:39,  2.17it/s]"
     ]
    },
    {
     "name": "stdout",
     "output_type": "stream",
     "text": [
      "Fail\n"
     ]
    },
    {
     "name": "stderr",
     "output_type": "stream",
     "text": [
      "1034it [13:40,  2.42it/s]"
     ]
    },
    {
     "name": "stdout",
     "output_type": "stream",
     "text": [
      "Fail\n",
      "Fail\n"
     ]
    },
    {
     "name": "stderr",
     "output_type": "stream",
     "text": [
      "1036it [13:41,  3.39it/s]"
     ]
    },
    {
     "name": "stdout",
     "output_type": "stream",
     "text": [
      "Fail\n",
      "Fail\n"
     ]
    },
    {
     "name": "stderr",
     "output_type": "stream",
     "text": [
      "1038it [13:41,  4.17it/s]"
     ]
    },
    {
     "name": "stdout",
     "output_type": "stream",
     "text": [
      "Fail\n",
      "Fail\n"
     ]
    },
    {
     "name": "stderr",
     "output_type": "stream",
     "text": [
      "1040it [13:41,  4.73it/s]"
     ]
    },
    {
     "name": "stdout",
     "output_type": "stream",
     "text": [
      "Fail\n",
      "Fail\n"
     ]
    },
    {
     "name": "stderr",
     "output_type": "stream",
     "text": [
      "1041it [13:42,  4.93it/s]"
     ]
    },
    {
     "name": "stdout",
     "output_type": "stream",
     "text": [
      "Fail\n"
     ]
    },
    {
     "name": "stderr",
     "output_type": "stream",
     "text": [
      "1043it [13:42,  5.03it/s]"
     ]
    },
    {
     "name": "stdout",
     "output_type": "stream",
     "text": [
      "Fail\n",
      "Fail\n"
     ]
    },
    {
     "name": "stderr",
     "output_type": "stream",
     "text": [
      "1045it [13:42,  5.54it/s]"
     ]
    },
    {
     "name": "stdout",
     "output_type": "stream",
     "text": [
      "Fail\n",
      "Fail\n"
     ]
    },
    {
     "name": "stderr",
     "output_type": "stream",
     "text": [
      "1047it [13:43,  5.66it/s]"
     ]
    },
    {
     "name": "stdout",
     "output_type": "stream",
     "text": [
      "Fail\n",
      "Fail\n",
      "Skipping Switch\n"
     ]
    },
    {
     "name": "stderr",
     "output_type": "stream",
     "text": [
      "1055it [13:43, 18.14it/s]"
     ]
    },
    {
     "name": "stdout",
     "output_type": "stream",
     "text": [
      "Skipping Switch\n",
      "Skipping Switch\n",
      "Skipping Switch\n",
      "Skipping Switch\n",
      "Skipping Switch\n",
      "Skipping Switch\n",
      "Skipping Switch\n",
      "Skipping Switch\n"
     ]
    },
    {
     "name": "stderr",
     "output_type": "stream",
     "text": [
      "1058it [13:45,  3.68it/s]"
     ]
    },
    {
     "name": "stdout",
     "output_type": "stream",
     "text": [
      "Skipping Switch\n",
      "Skipping Switch\n",
      "Skipping Switch\n"
     ]
    },
    {
     "name": "stderr",
     "output_type": "stream",
     "text": [
      "1062it [13:48,  2.16it/s]"
     ]
    },
    {
     "name": "stdout",
     "output_type": "stream",
     "text": [
      "fail\n"
     ]
    },
    {
     "name": "stderr",
     "output_type": "stream",
     "text": [
      "1064it [13:49,  1.86it/s]"
     ]
    },
    {
     "name": "stdout",
     "output_type": "stream",
     "text": [
      "fail\n"
     ]
    },
    {
     "name": "stderr",
     "output_type": "stream",
     "text": [
      "1077it [14:07,  1.06s/it]"
     ]
    },
    {
     "name": "stdout",
     "output_type": "stream",
     "text": [
      "Fail\n"
     ]
    },
    {
     "name": "stderr",
     "output_type": "stream",
     "text": [
      "1078it [14:07,  1.21it/s]"
     ]
    },
    {
     "name": "stdout",
     "output_type": "stream",
     "text": [
      "fail\n"
     ]
    },
    {
     "name": "stderr",
     "output_type": "stream",
     "text": [
      "1079it [14:07,  1.54it/s]"
     ]
    },
    {
     "name": "stdout",
     "output_type": "stream",
     "text": [
      "fail\n"
     ]
    },
    {
     "name": "stderr",
     "output_type": "stream",
     "text": [
      "1081it [14:09,  1.58it/s]"
     ]
    },
    {
     "name": "stdout",
     "output_type": "stream",
     "text": [
      "fail\n"
     ]
    },
    {
     "name": "stderr",
     "output_type": "stream",
     "text": [
      "1082it [14:09,  1.97it/s]"
     ]
    },
    {
     "name": "stdout",
     "output_type": "stream",
     "text": [
      "fail\n"
     ]
    },
    {
     "name": "stderr",
     "output_type": "stream",
     "text": [
      "1083it [14:09,  2.35it/s]"
     ]
    },
    {
     "name": "stdout",
     "output_type": "stream",
     "text": [
      "fail\n"
     ]
    },
    {
     "name": "stderr",
     "output_type": "stream",
     "text": [
      "1087it [14:13,  1.24it/s]"
     ]
    },
    {
     "name": "stdout",
     "output_type": "stream",
     "text": [
      "fail\n"
     ]
    },
    {
     "name": "stderr",
     "output_type": "stream",
     "text": [
      "1088it [14:14,  1.44it/s]"
     ]
    },
    {
     "name": "stdout",
     "output_type": "stream",
     "text": [
      "fail\n"
     ]
    },
    {
     "name": "stderr",
     "output_type": "stream",
     "text": [
      "1090it [14:15,  1.47it/s]"
     ]
    },
    {
     "name": "stdout",
     "output_type": "stream",
     "text": [
      "fail\n"
     ]
    },
    {
     "name": "stderr",
     "output_type": "stream",
     "text": [
      "1091it [14:16,  1.82it/s]"
     ]
    },
    {
     "name": "stdout",
     "output_type": "stream",
     "text": [
      "fail\n"
     ]
    },
    {
     "name": "stderr",
     "output_type": "stream",
     "text": [
      "1095it [14:22,  1.02s/it]"
     ]
    },
    {
     "name": "stdout",
     "output_type": "stream",
     "text": [
      "fail\n"
     ]
    },
    {
     "name": "stderr",
     "output_type": "stream",
     "text": [
      "1099it [14:26,  1.13it/s]"
     ]
    },
    {
     "name": "stdout",
     "output_type": "stream",
     "text": [
      "fail\n"
     ]
    },
    {
     "name": "stderr",
     "output_type": "stream",
     "text": [
      "1100it [14:26,  1.46it/s]"
     ]
    },
    {
     "name": "stdout",
     "output_type": "stream",
     "text": [
      "fail\n"
     ]
    },
    {
     "name": "stderr",
     "output_type": "stream",
     "text": [
      "1103it [14:29,  1.32it/s]"
     ]
    },
    {
     "name": "stdout",
     "output_type": "stream",
     "text": [
      "fail\n"
     ]
    },
    {
     "name": "stderr",
     "output_type": "stream",
     "text": [
      "1104it [14:29,  1.67it/s]"
     ]
    },
    {
     "name": "stdout",
     "output_type": "stream",
     "text": [
      "Fail\n"
     ]
    },
    {
     "name": "stderr",
     "output_type": "stream",
     "text": [
      "1106it [14:30,  1.64it/s]"
     ]
    },
    {
     "name": "stdout",
     "output_type": "stream",
     "text": [
      "fail\n"
     ]
    },
    {
     "name": "stderr",
     "output_type": "stream",
     "text": [
      "1110it [14:37,  1.25s/it]"
     ]
    },
    {
     "name": "stdout",
     "output_type": "stream",
     "text": [
      "fail\n"
     ]
    },
    {
     "name": "stderr",
     "output_type": "stream",
     "text": [
      "1111it [14:37,  1.07it/s]"
     ]
    },
    {
     "name": "stdout",
     "output_type": "stream",
     "text": [
      "Fail\n"
     ]
    },
    {
     "name": "stderr",
     "output_type": "stream",
     "text": [
      "1113it [14:38,  1.27it/s]"
     ]
    },
    {
     "name": "stdout",
     "output_type": "stream",
     "text": [
      "fail\n"
     ]
    },
    {
     "name": "stderr",
     "output_type": "stream",
     "text": [
      "1120it [14:46,  1.14it/s]"
     ]
    },
    {
     "name": "stdout",
     "output_type": "stream",
     "text": [
      "fail\n"
     ]
    },
    {
     "name": "stderr",
     "output_type": "stream",
     "text": [
      "1122it [14:47,  1.36it/s]"
     ]
    },
    {
     "name": "stdout",
     "output_type": "stream",
     "text": [
      "Fail\n"
     ]
    },
    {
     "name": "stderr",
     "output_type": "stream",
     "text": [
      "1123it [14:48,  1.72it/s]"
     ]
    },
    {
     "name": "stdout",
     "output_type": "stream",
     "text": [
      "fail\n"
     ]
    },
    {
     "name": "stderr",
     "output_type": "stream",
     "text": [
      "1124it [14:48,  1.95it/s]"
     ]
    },
    {
     "name": "stdout",
     "output_type": "stream",
     "text": [
      "fail\n"
     ]
    },
    {
     "name": "stderr",
     "output_type": "stream",
     "text": [
      "1130it [14:56,  1.06s/it]"
     ]
    },
    {
     "name": "stdout",
     "output_type": "stream",
     "text": [
      "fail\n"
     ]
    },
    {
     "name": "stderr",
     "output_type": "stream",
     "text": [
      "1135it [15:01,  1.18it/s]"
     ]
    },
    {
     "name": "stdout",
     "output_type": "stream",
     "text": [
      "fail\n"
     ]
    },
    {
     "name": "stderr",
     "output_type": "stream",
     "text": [
      "1137it [15:02,  1.40it/s]"
     ]
    },
    {
     "name": "stdout",
     "output_type": "stream",
     "text": [
      "fail\n"
     ]
    },
    {
     "name": "stderr",
     "output_type": "stream",
     "text": [
      "1141it [15:06,  1.30it/s]"
     ]
    },
    {
     "name": "stdout",
     "output_type": "stream",
     "text": [
      "fail\n"
     ]
    },
    {
     "name": "stderr",
     "output_type": "stream",
     "text": [
      "1144it [15:11,  1.18s/it]"
     ]
    },
    {
     "name": "stdout",
     "output_type": "stream",
     "text": [
      "Fail\n"
     ]
    },
    {
     "name": "stderr",
     "output_type": "stream",
     "text": [
      "1147it [15:12,  1.47it/s]"
     ]
    },
    {
     "name": "stdout",
     "output_type": "stream",
     "text": [
      "fail\n",
      "Fail\n"
     ]
    },
    {
     "name": "stderr",
     "output_type": "stream",
     "text": [
      "1149it [15:13,  2.35it/s]"
     ]
    },
    {
     "name": "stdout",
     "output_type": "stream",
     "text": [
      "fail\n",
      "Fail\n"
     ]
    },
    {
     "name": "stderr",
     "output_type": "stream",
     "text": [
      "1151it [15:13,  3.24it/s]"
     ]
    },
    {
     "name": "stdout",
     "output_type": "stream",
     "text": [
      "fail\n",
      "fail\n"
     ]
    },
    {
     "name": "stderr",
     "output_type": "stream",
     "text": [
      "1152it [15:13,  3.51it/s]"
     ]
    },
    {
     "name": "stdout",
     "output_type": "stream",
     "text": [
      "fail\n"
     ]
    },
    {
     "name": "stderr",
     "output_type": "stream",
     "text": [
      "1153it [15:14,  3.53it/s]"
     ]
    },
    {
     "name": "stdout",
     "output_type": "stream",
     "text": [
      "PhaseFail Skipping\n"
     ]
    },
    {
     "name": "stderr",
     "output_type": "stream",
     "text": [
      "1154it [15:14,  3.77it/s]"
     ]
    },
    {
     "name": "stdout",
     "output_type": "stream",
     "text": [
      "fail\n"
     ]
    },
    {
     "name": "stderr",
     "output_type": "stream",
     "text": [
      "1155it [15:14,  4.01it/s]"
     ]
    },
    {
     "name": "stdout",
     "output_type": "stream",
     "text": [
      "fail\n"
     ]
    },
    {
     "name": "stderr",
     "output_type": "stream",
     "text": [
      "1158it [15:17,  1.74it/s]"
     ]
    },
    {
     "name": "stdout",
     "output_type": "stream",
     "text": [
      "fail\n"
     ]
    },
    {
     "name": "stderr",
     "output_type": "stream",
     "text": [
      "1159it [15:17,  2.13it/s]"
     ]
    },
    {
     "name": "stdout",
     "output_type": "stream",
     "text": [
      "fail\n"
     ]
    },
    {
     "name": "stderr",
     "output_type": "stream",
     "text": [
      "1162it [15:19,  1.59it/s]"
     ]
    },
    {
     "name": "stdout",
     "output_type": "stream",
     "text": [
      "fail\n"
     ]
    },
    {
     "name": "stderr",
     "output_type": "stream",
     "text": [
      "1164it [15:21,  1.54it/s]"
     ]
    },
    {
     "name": "stdout",
     "output_type": "stream",
     "text": [
      "fail\n"
     ]
    },
    {
     "name": "stderr",
     "output_type": "stream",
     "text": [
      "1174it [15:35,  1.01s/it]"
     ]
    },
    {
     "name": "stdout",
     "output_type": "stream",
     "text": [
      "fail\n"
     ]
    },
    {
     "name": "stderr",
     "output_type": "stream",
     "text": [
      "1181it [15:43,  1.07it/s]"
     ]
    },
    {
     "name": "stdout",
     "output_type": "stream",
     "text": [
      "fail\n"
     ]
    },
    {
     "name": "stderr",
     "output_type": "stream",
     "text": [
      "1182it [15:45,  1.36s/it]"
     ]
    },
    {
     "name": "stdout",
     "output_type": "stream",
     "text": [
      "fail\n"
     ]
    },
    {
     "name": "stderr",
     "output_type": "stream",
     "text": [
      "1197it [16:05,  1.41s/it]"
     ]
    },
    {
     "name": "stdout",
     "output_type": "stream",
     "text": [
      "fail\n"
     ]
    },
    {
     "name": "stderr",
     "output_type": "stream",
     "text": [
      "1199it [16:07,  1.02s/it]"
     ]
    },
    {
     "name": "stdout",
     "output_type": "stream",
     "text": [
      "fail\n"
     ]
    },
    {
     "name": "stderr",
     "output_type": "stream",
     "text": [
      "1201it [16:08,  1.22it/s]"
     ]
    },
    {
     "name": "stdout",
     "output_type": "stream",
     "text": [
      "fail\n"
     ]
    },
    {
     "name": "stderr",
     "output_type": "stream",
     "text": [
      "1206it [16:14,  1.14it/s]"
     ]
    },
    {
     "name": "stdout",
     "output_type": "stream",
     "text": [
      "fail\n"
     ]
    },
    {
     "name": "stderr",
     "output_type": "stream",
     "text": [
      "1210it [16:18,  1.16it/s]"
     ]
    },
    {
     "name": "stdout",
     "output_type": "stream",
     "text": [
      "fail\n"
     ]
    },
    {
     "name": "stderr",
     "output_type": "stream",
     "text": [
      "1211it [16:18,  1.49it/s]"
     ]
    },
    {
     "name": "stdout",
     "output_type": "stream",
     "text": [
      "fail\n"
     ]
    },
    {
     "name": "stderr",
     "output_type": "stream",
     "text": [
      "1212it [16:18,  1.79it/s]"
     ]
    },
    {
     "name": "stdout",
     "output_type": "stream",
     "text": [
      "fail\n"
     ]
    },
    {
     "name": "stderr",
     "output_type": "stream",
     "text": [
      "1215it [16:23,  1.18s/it]"
     ]
    },
    {
     "name": "stdout",
     "output_type": "stream",
     "text": [
      "fail\n"
     ]
    },
    {
     "name": "stderr",
     "output_type": "stream",
     "text": [
      "1228it [16:38,  1.07it/s]"
     ]
    },
    {
     "name": "stdout",
     "output_type": "stream",
     "text": [
      "fail\n"
     ]
    },
    {
     "name": "stderr",
     "output_type": "stream",
     "text": [
      "1230it [16:42,  1.26s/it]"
     ]
    },
    {
     "name": "stdout",
     "output_type": "stream",
     "text": [
      "fail\n"
     ]
    },
    {
     "name": "stderr",
     "output_type": "stream",
     "text": [
      "1231it [16:42,  1.05it/s]"
     ]
    },
    {
     "name": "stdout",
     "output_type": "stream",
     "text": [
      "fail\n"
     ]
    },
    {
     "name": "stderr",
     "output_type": "stream",
     "text": [
      "1232it [16:43,  1.35it/s]"
     ]
    },
    {
     "name": "stdout",
     "output_type": "stream",
     "text": [
      "fail\n"
     ]
    },
    {
     "name": "stderr",
     "output_type": "stream",
     "text": [
      "1233it [16:43,  1.67it/s]"
     ]
    },
    {
     "name": "stdout",
     "output_type": "stream",
     "text": [
      "fail\n"
     ]
    },
    {
     "name": "stderr",
     "output_type": "stream",
     "text": [
      "1234it [16:43,  2.03it/s]"
     ]
    },
    {
     "name": "stdout",
     "output_type": "stream",
     "text": [
      "fail\n"
     ]
    },
    {
     "name": "stderr",
     "output_type": "stream",
     "text": [
      "1235it [16:43,  2.38it/s]"
     ]
    },
    {
     "name": "stdout",
     "output_type": "stream",
     "text": [
      "fail\n"
     ]
    },
    {
     "name": "stderr",
     "output_type": "stream",
     "text": [
      "1237it [16:45,  1.85it/s]"
     ]
    },
    {
     "name": "stdout",
     "output_type": "stream",
     "text": [
      "fail\n"
     ]
    },
    {
     "name": "stderr",
     "output_type": "stream",
     "text": [
      "1239it [16:46,  1.69it/s]"
     ]
    },
    {
     "name": "stdout",
     "output_type": "stream",
     "text": [
      "fail\n"
     ]
    },
    {
     "name": "stderr",
     "output_type": "stream",
     "text": [
      "1240it [16:47,  2.06it/s]"
     ]
    },
    {
     "name": "stdout",
     "output_type": "stream",
     "text": [
      "fail\n"
     ]
    },
    {
     "name": "stderr",
     "output_type": "stream",
     "text": [
      "1243it [16:49,  1.48it/s]"
     ]
    },
    {
     "name": "stdout",
     "output_type": "stream",
     "text": [
      "fail\n"
     ]
    },
    {
     "name": "stderr",
     "output_type": "stream",
     "text": [
      "1248it [16:54,  1.24it/s]"
     ]
    },
    {
     "name": "stdout",
     "output_type": "stream",
     "text": [
      "Fail\n"
     ]
    },
    {
     "name": "stderr",
     "output_type": "stream",
     "text": [
      "1250it [16:55,  2.02it/s]"
     ]
    },
    {
     "name": "stdout",
     "output_type": "stream",
     "text": [
      "Fail\n",
      "Fail\n"
     ]
    },
    {
     "name": "stderr",
     "output_type": "stream",
     "text": [
      "1253it [16:57,  1.57it/s]"
     ]
    },
    {
     "name": "stdout",
     "output_type": "stream",
     "text": [
      "fail\n"
     ]
    },
    {
     "name": "stderr",
     "output_type": "stream",
     "text": [
      "1254it [17:00,  1.21s/it]"
     ]
    },
    {
     "name": "stdout",
     "output_type": "stream",
     "text": [
      "fail\n"
     ]
    },
    {
     "name": "stderr",
     "output_type": "stream",
     "text": [
      "1256it [17:00,  1.42it/s]"
     ]
    },
    {
     "name": "stdout",
     "output_type": "stream",
     "text": [
      "fail\n",
      "fail\n"
     ]
    },
    {
     "name": "stderr",
     "output_type": "stream",
     "text": [
      "1258it [17:01,  1.60it/s]"
     ]
    },
    {
     "name": "stdout",
     "output_type": "stream",
     "text": [
      "fail\n"
     ]
    },
    {
     "name": "stderr",
     "output_type": "stream",
     "text": [
      "1259it [17:02,  1.94it/s]"
     ]
    },
    {
     "name": "stdout",
     "output_type": "stream",
     "text": [
      "fail\n"
     ]
    },
    {
     "name": "stderr",
     "output_type": "stream",
     "text": [
      "1260it [17:02,  2.25it/s]"
     ]
    },
    {
     "name": "stdout",
     "output_type": "stream",
     "text": [
      "Fail\n"
     ]
    },
    {
     "name": "stderr",
     "output_type": "stream",
     "text": [
      "1261it [17:02,  2.58it/s]"
     ]
    },
    {
     "name": "stdout",
     "output_type": "stream",
     "text": [
      "fail\n"
     ]
    },
    {
     "name": "stderr",
     "output_type": "stream",
     "text": [
      "1262it [17:02,  2.94it/s]"
     ]
    },
    {
     "name": "stdout",
     "output_type": "stream",
     "text": [
      "Fail\n"
     ]
    },
    {
     "name": "stderr",
     "output_type": "stream",
     "text": [
      "1263it [17:03,  3.05it/s]"
     ]
    },
    {
     "name": "stdout",
     "output_type": "stream",
     "text": [
      "fail\n"
     ]
    },
    {
     "name": "stderr",
     "output_type": "stream",
     "text": [
      "1264it [17:03,  3.10it/s]"
     ]
    },
    {
     "name": "stdout",
     "output_type": "stream",
     "text": [
      "fail\n"
     ]
    },
    {
     "name": "stderr",
     "output_type": "stream",
     "text": [
      "1265it [17:03,  2.92it/s]"
     ]
    },
    {
     "name": "stdout",
     "output_type": "stream",
     "text": [
      "fail\n"
     ]
    },
    {
     "name": "stderr",
     "output_type": "stream",
     "text": [
      "1266it [17:04,  3.23it/s]"
     ]
    },
    {
     "name": "stdout",
     "output_type": "stream",
     "text": [
      "Fail\n"
     ]
    },
    {
     "name": "stderr",
     "output_type": "stream",
     "text": [
      "1267it [17:04,  3.38it/s]"
     ]
    },
    {
     "name": "stdout",
     "output_type": "stream",
     "text": [
      "fail\n"
     ]
    },
    {
     "name": "stderr",
     "output_type": "stream",
     "text": [
      "1268it [17:04,  3.46it/s]"
     ]
    },
    {
     "name": "stdout",
     "output_type": "stream",
     "text": [
      "fail\n"
     ]
    },
    {
     "name": "stderr",
     "output_type": "stream",
     "text": [
      "1270it [17:06,  1.90it/s]"
     ]
    },
    {
     "name": "stdout",
     "output_type": "stream",
     "text": [
      "fail\n"
     ]
    },
    {
     "name": "stderr",
     "output_type": "stream",
     "text": [
      "1271it [17:06,  2.18it/s]"
     ]
    },
    {
     "name": "stdout",
     "output_type": "stream",
     "text": [
      "fail\n"
     ]
    },
    {
     "name": "stderr",
     "output_type": "stream",
     "text": [
      "1272it [17:06,  2.51it/s]"
     ]
    },
    {
     "name": "stdout",
     "output_type": "stream",
     "text": [
      "fail\n"
     ]
    },
    {
     "name": "stderr",
     "output_type": "stream",
     "text": [
      "1273it [17:07,  2.80it/s]"
     ]
    },
    {
     "name": "stdout",
     "output_type": "stream",
     "text": [
      "Fail\n"
     ]
    },
    {
     "name": "stderr",
     "output_type": "stream",
     "text": [
      "1274it [17:07,  3.09it/s]"
     ]
    },
    {
     "name": "stdout",
     "output_type": "stream",
     "text": [
      "Fail\n"
     ]
    },
    {
     "name": "stderr",
     "output_type": "stream",
     "text": [
      "1276it [17:08,  2.11it/s]"
     ]
    },
    {
     "name": "stdout",
     "output_type": "stream",
     "text": [
      "Fail\n"
     ]
    },
    {
     "name": "stderr",
     "output_type": "stream",
     "text": [
      "1278it [17:09,  2.90it/s]"
     ]
    },
    {
     "name": "stdout",
     "output_type": "stream",
     "text": [
      "fail\n",
      "Fail\n"
     ]
    },
    {
     "name": "stderr",
     "output_type": "stream",
     "text": [
      "1281it [17:12,  1.54it/s]"
     ]
    },
    {
     "name": "stdout",
     "output_type": "stream",
     "text": [
      "Fail\n"
     ]
    },
    {
     "name": "stderr",
     "output_type": "stream",
     "text": [
      "1282it [17:12,  1.87it/s]"
     ]
    },
    {
     "name": "stdout",
     "output_type": "stream",
     "text": [
      "fail\n"
     ]
    },
    {
     "name": "stderr",
     "output_type": "stream",
     "text": [
      "1283it [17:12,  2.27it/s]"
     ]
    },
    {
     "name": "stdout",
     "output_type": "stream",
     "text": [
      "fail\n"
     ]
    },
    {
     "name": "stderr",
     "output_type": "stream",
     "text": [
      "1285it [17:14,  1.84it/s]"
     ]
    },
    {
     "name": "stdout",
     "output_type": "stream",
     "text": [
      "fail\n"
     ]
    },
    {
     "name": "stderr",
     "output_type": "stream",
     "text": [
      "1286it [17:14,  2.23it/s]"
     ]
    },
    {
     "name": "stdout",
     "output_type": "stream",
     "text": [
      "fail\n"
     ]
    },
    {
     "name": "stderr",
     "output_type": "stream",
     "text": [
      "1287it [17:14,  2.67it/s]"
     ]
    },
    {
     "name": "stdout",
     "output_type": "stream",
     "text": [
      "Fail\n"
     ]
    },
    {
     "name": "stderr",
     "output_type": "stream",
     "text": [
      "1291it [17:20,  1.23it/s]"
     ]
    },
    {
     "name": "stdout",
     "output_type": "stream",
     "text": [
      "Fail\n",
      "Fail\n"
     ]
    },
    {
     "name": "stderr",
     "output_type": "stream",
     "text": [
      "1292it [17:20,  1.55it/s]"
     ]
    },
    {
     "name": "stdout",
     "output_type": "stream",
     "text": [
      "fail\n"
     ]
    },
    {
     "name": "stderr",
     "output_type": "stream",
     "text": [
      "1293it [17:20,  1.93it/s]"
     ]
    },
    {
     "name": "stdout",
     "output_type": "stream",
     "text": [
      "Fail\n"
     ]
    },
    {
     "name": "stderr",
     "output_type": "stream",
     "text": [
      "1294it [17:20,  2.28it/s]"
     ]
    },
    {
     "name": "stdout",
     "output_type": "stream",
     "text": [
      "fail\n"
     ]
    },
    {
     "name": "stderr",
     "output_type": "stream",
     "text": [
      "1295it [17:21,  2.53it/s]"
     ]
    },
    {
     "name": "stdout",
     "output_type": "stream",
     "text": [
      "fail\n"
     ]
    },
    {
     "name": "stderr",
     "output_type": "stream",
     "text": [
      "1297it [17:22,  1.88it/s]"
     ]
    },
    {
     "name": "stdout",
     "output_type": "stream",
     "text": [
      "Fail\n"
     ]
    },
    {
     "name": "stderr",
     "output_type": "stream",
     "text": [
      "1302it [17:28,  1.21it/s]"
     ]
    },
    {
     "name": "stdout",
     "output_type": "stream",
     "text": [
      "Fail\n"
     ]
    },
    {
     "name": "stderr",
     "output_type": "stream",
     "text": [
      "1303it [17:28,  1.53it/s]"
     ]
    },
    {
     "name": "stdout",
     "output_type": "stream",
     "text": [
      "fail\n"
     ]
    },
    {
     "name": "stderr",
     "output_type": "stream",
     "text": [
      "1304it [17:28,  1.87it/s]"
     ]
    },
    {
     "name": "stdout",
     "output_type": "stream",
     "text": [
      "Fail\n"
     ]
    },
    {
     "name": "stderr",
     "output_type": "stream",
     "text": [
      "1306it [17:30,  1.43it/s]"
     ]
    },
    {
     "name": "stdout",
     "output_type": "stream",
     "text": [
      "Fail\n"
     ]
    },
    {
     "name": "stderr",
     "output_type": "stream",
     "text": [
      "1307it [17:30,  1.78it/s]"
     ]
    },
    {
     "name": "stdout",
     "output_type": "stream",
     "text": [
      "fail\n"
     ]
    },
    {
     "name": "stderr",
     "output_type": "stream",
     "text": [
      "1308it [17:31,  2.16it/s]"
     ]
    },
    {
     "name": "stdout",
     "output_type": "stream",
     "text": [
      "Fail\n"
     ]
    },
    {
     "name": "stderr",
     "output_type": "stream",
     "text": [
      "1310it [17:31,  3.00it/s]"
     ]
    },
    {
     "name": "stdout",
     "output_type": "stream",
     "text": [
      "fail\n",
      "Fail\n"
     ]
    },
    {
     "name": "stderr",
     "output_type": "stream",
     "text": [
      "1311it [17:31,  3.45it/s]"
     ]
    },
    {
     "name": "stdout",
     "output_type": "stream",
     "text": [
      "Fail\n"
     ]
    },
    {
     "name": "stderr",
     "output_type": "stream",
     "text": [
      "1314it [17:33,  2.55it/s]"
     ]
    },
    {
     "name": "stdout",
     "output_type": "stream",
     "text": [
      "fail\n",
      "fail\n"
     ]
    },
    {
     "name": "stderr",
     "output_type": "stream",
     "text": [
      "1320it [17:42,  1.01s/it]"
     ]
    },
    {
     "name": "stdout",
     "output_type": "stream",
     "text": [
      "fail\n"
     ]
    },
    {
     "name": "stderr",
     "output_type": "stream",
     "text": [
      "1323it [17:44,  1.19it/s]"
     ]
    },
    {
     "name": "stdout",
     "output_type": "stream",
     "text": [
      "fail\n"
     ]
    },
    {
     "name": "stderr",
     "output_type": "stream",
     "text": [
      "1325it [17:46,  1.35it/s]"
     ]
    },
    {
     "name": "stdout",
     "output_type": "stream",
     "text": [
      "fail\n"
     ]
    },
    {
     "name": "stderr",
     "output_type": "stream",
     "text": [
      "1326it [17:46,  1.66it/s]"
     ]
    },
    {
     "name": "stdout",
     "output_type": "stream",
     "text": [
      "Fail\n"
     ]
    },
    {
     "name": "stderr",
     "output_type": "stream",
     "text": [
      "1328it [17:46,  2.49it/s]"
     ]
    },
    {
     "name": "stdout",
     "output_type": "stream",
     "text": [
      "Fail\n",
      "Fail\n"
     ]
    },
    {
     "name": "stderr",
     "output_type": "stream",
     "text": [
      "1329it [17:47,  2.82it/s]"
     ]
    },
    {
     "name": "stdout",
     "output_type": "stream",
     "text": [
      "Fail\n"
     ]
    },
    {
     "name": "stderr",
     "output_type": "stream",
     "text": [
      "1331it [17:47,  3.37it/s]"
     ]
    },
    {
     "name": "stdout",
     "output_type": "stream",
     "text": [
      "Fail\n",
      "Fail\n"
     ]
    },
    {
     "name": "stderr",
     "output_type": "stream",
     "text": [
      "1332it [17:47,  3.57it/s]"
     ]
    },
    {
     "name": "stdout",
     "output_type": "stream",
     "text": [
      "Fail\n"
     ]
    },
    {
     "name": "stderr",
     "output_type": "stream",
     "text": [
      "1334it [17:48,  4.03it/s]"
     ]
    },
    {
     "name": "stdout",
     "output_type": "stream",
     "text": [
      "Fail\n",
      "Fail\n"
     ]
    },
    {
     "name": "stderr",
     "output_type": "stream",
     "text": [
      "1336it [17:48,  4.04it/s]"
     ]
    },
    {
     "name": "stdout",
     "output_type": "stream",
     "text": [
      "Fail\n",
      "Fail\n"
     ]
    },
    {
     "name": "stderr",
     "output_type": "stream",
     "text": [
      "1337it [17:49,  4.10it/s]"
     ]
    },
    {
     "name": "stdout",
     "output_type": "stream",
     "text": [
      "Fail\n"
     ]
    },
    {
     "name": "stderr",
     "output_type": "stream",
     "text": [
      "1338it [17:49,  4.11it/s]"
     ]
    },
    {
     "name": "stdout",
     "output_type": "stream",
     "text": [
      "Fail\n"
     ]
    },
    {
     "name": "stderr",
     "output_type": "stream",
     "text": [
      "1340it [17:49,  4.32it/s]"
     ]
    },
    {
     "name": "stdout",
     "output_type": "stream",
     "text": [
      "Fail\n",
      "Fail\n"
     ]
    },
    {
     "name": "stderr",
     "output_type": "stream",
     "text": [
      "1341it [17:50,  4.03it/s]"
     ]
    },
    {
     "name": "stdout",
     "output_type": "stream",
     "text": [
      "Fail\n"
     ]
    },
    {
     "name": "stderr",
     "output_type": "stream",
     "text": [
      "1343it [17:50,  4.45it/s]"
     ]
    },
    {
     "name": "stdout",
     "output_type": "stream",
     "text": [
      "Fail\n",
      "Fail\n"
     ]
    },
    {
     "name": "stderr",
     "output_type": "stream",
     "text": [
      "1344it [17:50,  4.52it/s]"
     ]
    },
    {
     "name": "stdout",
     "output_type": "stream",
     "text": [
      "Fail\n"
     ]
    },
    {
     "name": "stderr",
     "output_type": "stream",
     "text": [
      "1345it [17:50,  4.50it/s]"
     ]
    },
    {
     "name": "stdout",
     "output_type": "stream",
     "text": [
      "Fail\n"
     ]
    },
    {
     "name": "stderr",
     "output_type": "stream",
     "text": [
      "1346it [17:51,  4.23it/s]"
     ]
    },
    {
     "name": "stdout",
     "output_type": "stream",
     "text": [
      "Fail\n"
     ]
    },
    {
     "name": "stderr",
     "output_type": "stream",
     "text": [
      "1347it [17:51,  4.27it/s]"
     ]
    },
    {
     "name": "stdout",
     "output_type": "stream",
     "text": [
      "Fail\n"
     ]
    },
    {
     "name": "stderr",
     "output_type": "stream",
     "text": [
      "1348it [17:51,  4.28it/s]"
     ]
    },
    {
     "name": "stdout",
     "output_type": "stream",
     "text": [
      "Fail\n"
     ]
    },
    {
     "name": "stderr",
     "output_type": "stream",
     "text": [
      "1349it [17:51,  4.20it/s]"
     ]
    },
    {
     "name": "stdout",
     "output_type": "stream",
     "text": [
      "Fail\n"
     ]
    },
    {
     "name": "stderr",
     "output_type": "stream",
     "text": [
      "1350it [17:52,  4.06it/s]"
     ]
    },
    {
     "name": "stdout",
     "output_type": "stream",
     "text": [
      "Fail\n"
     ]
    },
    {
     "name": "stderr",
     "output_type": "stream",
     "text": [
      "1351it [17:52,  3.76it/s]"
     ]
    },
    {
     "name": "stdout",
     "output_type": "stream",
     "text": [
      "fail\n"
     ]
    },
    {
     "name": "stderr",
     "output_type": "stream",
     "text": [
      "1352it [17:52,  3.88it/s]"
     ]
    },
    {
     "name": "stdout",
     "output_type": "stream",
     "text": [
      "fail\n"
     ]
    },
    {
     "name": "stderr",
     "output_type": "stream",
     "text": [
      "1353it [17:52,  3.94it/s]"
     ]
    },
    {
     "name": "stdout",
     "output_type": "stream",
     "text": [
      "fail\n"
     ]
    },
    {
     "name": "stderr",
     "output_type": "stream",
     "text": [
      "1355it [17:56,  1.04it/s]"
     ]
    },
    {
     "name": "stdout",
     "output_type": "stream",
     "text": [
      "Fail\n"
     ]
    },
    {
     "name": "stderr",
     "output_type": "stream",
     "text": [
      "1356it [17:57,  1.32it/s]"
     ]
    },
    {
     "name": "stdout",
     "output_type": "stream",
     "text": [
      "fail\n"
     ]
    },
    {
     "name": "stderr",
     "output_type": "stream",
     "text": [
      "1358it [17:58,  1.41it/s]"
     ]
    },
    {
     "name": "stdout",
     "output_type": "stream",
     "text": [
      "fail\n"
     ]
    },
    {
     "name": "stderr",
     "output_type": "stream",
     "text": [
      "1359it [17:58,  1.72it/s]"
     ]
    },
    {
     "name": "stdout",
     "output_type": "stream",
     "text": [
      "fail\n"
     ]
    },
    {
     "name": "stderr",
     "output_type": "stream",
     "text": [
      "1367it [18:07,  1.12it/s]"
     ]
    },
    {
     "name": "stdout",
     "output_type": "stream",
     "text": [
      "fail\n"
     ]
    },
    {
     "name": "stderr",
     "output_type": "stream",
     "text": [
      "1369it [18:09,  1.29it/s]"
     ]
    },
    {
     "name": "stdout",
     "output_type": "stream",
     "text": [
      "fail\n"
     ]
    },
    {
     "name": "stderr",
     "output_type": "stream",
     "text": [
      "1371it [18:10,  1.43it/s]"
     ]
    },
    {
     "name": "stdout",
     "output_type": "stream",
     "text": [
      "fail\n"
     ]
    },
    {
     "name": "stderr",
     "output_type": "stream",
     "text": [
      "1375it [18:14,  1.22it/s]"
     ]
    },
    {
     "name": "stdout",
     "output_type": "stream",
     "text": [
      "fail\n"
     ]
    },
    {
     "name": "stderr",
     "output_type": "stream",
     "text": [
      "1377it [18:19,  1.30s/it]"
     ]
    },
    {
     "name": "stdout",
     "output_type": "stream",
     "text": [
      "fail\n"
     ]
    },
    {
     "name": "stderr",
     "output_type": "stream",
     "text": [
      "1378it [18:19,  1.01it/s]"
     ]
    },
    {
     "name": "stdout",
     "output_type": "stream",
     "text": [
      "fail\n"
     ]
    },
    {
     "name": "stderr",
     "output_type": "stream",
     "text": [
      "1379it [18:19,  1.29it/s]"
     ]
    },
    {
     "name": "stdout",
     "output_type": "stream",
     "text": [
      "fail\n"
     ]
    },
    {
     "name": "stderr",
     "output_type": "stream",
     "text": [
      "1380it [18:19,  1.62it/s]"
     ]
    },
    {
     "name": "stdout",
     "output_type": "stream",
     "text": [
      "fail\n"
     ]
    },
    {
     "name": "stderr",
     "output_type": "stream",
     "text": [
      "1382it [18:21,  1.52it/s]"
     ]
    },
    {
     "name": "stdout",
     "output_type": "stream",
     "text": [
      "Fail\n"
     ]
    },
    {
     "name": "stderr",
     "output_type": "stream",
     "text": [
      "1383it [18:21,  1.82it/s]"
     ]
    },
    {
     "name": "stdout",
     "output_type": "stream",
     "text": [
      "Fail\n",
      "Fail\n"
     ]
    },
    {
     "name": "stderr",
     "output_type": "stream",
     "text": [
      "1385it [18:22,  2.64it/s]"
     ]
    },
    {
     "name": "stdout",
     "output_type": "stream",
     "text": [
      "Fail\n"
     ]
    },
    {
     "name": "stderr",
     "output_type": "stream",
     "text": [
      "1386it [18:22,  2.97it/s]"
     ]
    },
    {
     "name": "stdout",
     "output_type": "stream",
     "text": [
      "Fail\n"
     ]
    },
    {
     "name": "stderr",
     "output_type": "stream",
     "text": [
      "1387it [18:22,  3.20it/s]"
     ]
    },
    {
     "name": "stdout",
     "output_type": "stream",
     "text": [
      "Fail\n"
     ]
    },
    {
     "name": "stderr",
     "output_type": "stream",
     "text": [
      "1388it [18:22,  3.46it/s]"
     ]
    },
    {
     "name": "stdout",
     "output_type": "stream",
     "text": [
      "Fail\n"
     ]
    },
    {
     "name": "stderr",
     "output_type": "stream",
     "text": [
      "1389it [18:23,  3.61it/s]"
     ]
    },
    {
     "name": "stdout",
     "output_type": "stream",
     "text": [
      "Fail\n"
     ]
    },
    {
     "name": "stderr",
     "output_type": "stream",
     "text": [
      "1390it [18:23,  3.66it/s]"
     ]
    },
    {
     "name": "stdout",
     "output_type": "stream",
     "text": [
      "Fail\n"
     ]
    },
    {
     "name": "stderr",
     "output_type": "stream",
     "text": [
      "1391it [18:23,  3.93it/s]"
     ]
    },
    {
     "name": "stdout",
     "output_type": "stream",
     "text": [
      "Fail\n"
     ]
    },
    {
     "name": "stderr",
     "output_type": "stream",
     "text": [
      "1392it [18:23,  4.10it/s]"
     ]
    },
    {
     "name": "stdout",
     "output_type": "stream",
     "text": [
      "Fail\n"
     ]
    },
    {
     "name": "stderr",
     "output_type": "stream",
     "text": [
      "1393it [18:24,  4.23it/s]"
     ]
    },
    {
     "name": "stdout",
     "output_type": "stream",
     "text": [
      "Fail\n"
     ]
    },
    {
     "name": "stderr",
     "output_type": "stream",
     "text": [
      "1394it [18:24,  4.21it/s]"
     ]
    },
    {
     "name": "stdout",
     "output_type": "stream",
     "text": [
      "Fail\n"
     ]
    },
    {
     "name": "stderr",
     "output_type": "stream",
     "text": [
      "1395it [18:24,  4.21it/s]"
     ]
    },
    {
     "name": "stdout",
     "output_type": "stream",
     "text": [
      "Fail\n"
     ]
    },
    {
     "name": "stderr",
     "output_type": "stream",
     "text": [
      "1396it [18:24,  4.28it/s]"
     ]
    },
    {
     "name": "stdout",
     "output_type": "stream",
     "text": [
      "Fail\n"
     ]
    },
    {
     "name": "stderr",
     "output_type": "stream",
     "text": [
      "1397it [18:24,  4.25it/s]"
     ]
    },
    {
     "name": "stdout",
     "output_type": "stream",
     "text": [
      "Fail\n"
     ]
    },
    {
     "name": "stderr",
     "output_type": "stream",
     "text": [
      "1398it [18:25,  4.10it/s]"
     ]
    },
    {
     "name": "stdout",
     "output_type": "stream",
     "text": [
      "Fail\n"
     ]
    },
    {
     "name": "stderr",
     "output_type": "stream",
     "text": [
      "1399it [18:25,  3.52it/s]"
     ]
    },
    {
     "name": "stdout",
     "output_type": "stream",
     "text": [
      "Fail\n"
     ]
    },
    {
     "name": "stderr",
     "output_type": "stream",
     "text": [
      "1401it [18:26,  3.81it/s]"
     ]
    },
    {
     "name": "stdout",
     "output_type": "stream",
     "text": [
      "Fail\n",
      "Fail\n"
     ]
    },
    {
     "name": "stderr",
     "output_type": "stream",
     "text": [
      "1402it [18:26,  4.03it/s]"
     ]
    },
    {
     "name": "stdout",
     "output_type": "stream",
     "text": [
      "Fail\n"
     ]
    },
    {
     "name": "stderr",
     "output_type": "stream",
     "text": [
      "1403it [18:26,  4.08it/s]"
     ]
    },
    {
     "name": "stdout",
     "output_type": "stream",
     "text": [
      "Fail\n"
     ]
    },
    {
     "name": "stderr",
     "output_type": "stream",
     "text": [
      "1405it [18:27,  4.22it/s]"
     ]
    },
    {
     "name": "stdout",
     "output_type": "stream",
     "text": [
      "Fail\n",
      "Fail\n"
     ]
    },
    {
     "name": "stderr",
     "output_type": "stream",
     "text": [
      "1406it [18:27,  4.65it/s]"
     ]
    },
    {
     "name": "stdout",
     "output_type": "stream",
     "text": [
      "Fail\n"
     ]
    },
    {
     "name": "stderr",
     "output_type": "stream",
     "text": [
      "1407it [18:27,  4.69it/s]"
     ]
    },
    {
     "name": "stdout",
     "output_type": "stream",
     "text": [
      "Fail\n"
     ]
    },
    {
     "name": "stderr",
     "output_type": "stream",
     "text": [
      "1408it [18:27,  4.62it/s]"
     ]
    },
    {
     "name": "stdout",
     "output_type": "stream",
     "text": [
      "Fail\n"
     ]
    },
    {
     "name": "stderr",
     "output_type": "stream",
     "text": [
      "1409it [18:27,  4.46it/s]"
     ]
    },
    {
     "name": "stdout",
     "output_type": "stream",
     "text": [
      "Fail\n"
     ]
    },
    {
     "name": "stderr",
     "output_type": "stream",
     "text": [
      "1410it [18:28,  4.50it/s]"
     ]
    },
    {
     "name": "stdout",
     "output_type": "stream",
     "text": [
      "Fail\n"
     ]
    },
    {
     "name": "stderr",
     "output_type": "stream",
     "text": [
      "1412it [18:29,  2.35it/s]"
     ]
    },
    {
     "name": "stdout",
     "output_type": "stream",
     "text": [
      "fail\n"
     ]
    },
    {
     "name": "stderr",
     "output_type": "stream",
     "text": [
      "1413it [18:29,  2.73it/s]"
     ]
    },
    {
     "name": "stdout",
     "output_type": "stream",
     "text": [
      "fail\n"
     ]
    },
    {
     "name": "stderr",
     "output_type": "stream",
     "text": [
      "1419it [18:38,  1.08s/it]"
     ]
    },
    {
     "name": "stdout",
     "output_type": "stream",
     "text": [
      "fail\n"
     ]
    },
    {
     "name": "stderr",
     "output_type": "stream",
     "text": [
      "1420it [18:38,  1.22it/s]"
     ]
    },
    {
     "name": "stdout",
     "output_type": "stream",
     "text": [
      "fail\n"
     ]
    },
    {
     "name": "stderr",
     "output_type": "stream",
     "text": [
      "1423it [18:41,  1.33it/s]"
     ]
    },
    {
     "name": "stdout",
     "output_type": "stream",
     "text": [
      "Fail\n"
     ]
    },
    {
     "name": "stderr",
     "output_type": "stream",
     "text": [
      "1425it [18:41,  2.12it/s]"
     ]
    },
    {
     "name": "stdout",
     "output_type": "stream",
     "text": [
      "Fail\n",
      "Fail\n"
     ]
    },
    {
     "name": "stderr",
     "output_type": "stream",
     "text": [
      "1426it [18:42,  2.50it/s]"
     ]
    },
    {
     "name": "stdout",
     "output_type": "stream",
     "text": [
      "fail\n"
     ]
    },
    {
     "name": "stderr",
     "output_type": "stream",
     "text": [
      "1429it [18:44,  1.58it/s]"
     ]
    },
    {
     "name": "stdout",
     "output_type": "stream",
     "text": [
      "fail\n"
     ]
    },
    {
     "name": "stderr",
     "output_type": "stream",
     "text": [
      "1431it [18:45,  2.39it/s]"
     ]
    },
    {
     "name": "stdout",
     "output_type": "stream",
     "text": [
      "Fail\n",
      "Fail\n"
     ]
    },
    {
     "name": "stderr",
     "output_type": "stream",
     "text": [
      "1433it [18:45,  3.35it/s]"
     ]
    },
    {
     "name": "stdout",
     "output_type": "stream",
     "text": [
      "Fail\n",
      "Fail\n"
     ]
    },
    {
     "name": "stderr",
     "output_type": "stream",
     "text": [
      "1435it [18:45,  4.21it/s]"
     ]
    },
    {
     "name": "stdout",
     "output_type": "stream",
     "text": [
      "Fail\n",
      "Fail\n"
     ]
    },
    {
     "name": "stderr",
     "output_type": "stream",
     "text": [
      "1437it [18:46,  4.84it/s]"
     ]
    },
    {
     "name": "stdout",
     "output_type": "stream",
     "text": [
      "Fail\n",
      "Fail\n"
     ]
    },
    {
     "name": "stderr",
     "output_type": "stream",
     "text": [
      "1439it [18:46,  4.96it/s]"
     ]
    },
    {
     "name": "stdout",
     "output_type": "stream",
     "text": [
      "Fail\n",
      "Fail\n"
     ]
    },
    {
     "name": "stderr",
     "output_type": "stream",
     "text": [
      "1441it [18:46,  5.09it/s]"
     ]
    },
    {
     "name": "stdout",
     "output_type": "stream",
     "text": [
      "Fail\n",
      "Fail\n"
     ]
    },
    {
     "name": "stderr",
     "output_type": "stream",
     "text": [
      "1443it [18:47,  5.13it/s]"
     ]
    },
    {
     "name": "stdout",
     "output_type": "stream",
     "text": [
      "Fail\n",
      "Fail\n"
     ]
    },
    {
     "name": "stderr",
     "output_type": "stream",
     "text": [
      "1444it [18:47,  5.25it/s]"
     ]
    },
    {
     "name": "stdout",
     "output_type": "stream",
     "text": [
      "Fail\n"
     ]
    },
    {
     "name": "stderr",
     "output_type": "stream",
     "text": [
      "1446it [18:48,  2.41it/s]"
     ]
    },
    {
     "name": "stdout",
     "output_type": "stream",
     "text": [
      "fail\n"
     ]
    },
    {
     "name": "stderr",
     "output_type": "stream",
     "text": [
      "1449it [18:50,  2.46it/s]"
     ]
    },
    {
     "name": "stdout",
     "output_type": "stream",
     "text": [
      "Fail\n",
      "Fail\n"
     ]
    },
    {
     "name": "stderr",
     "output_type": "stream",
     "text": [
      "1450it [18:50,  2.90it/s]"
     ]
    },
    {
     "name": "stdout",
     "output_type": "stream",
     "text": [
      "Fail\n"
     ]
    },
    {
     "name": "stderr",
     "output_type": "stream",
     "text": [
      "1452it [18:54,  1.34s/it]"
     ]
    },
    {
     "name": "stdout",
     "output_type": "stream",
     "text": [
      "fail\n"
     ]
    },
    {
     "name": "stderr",
     "output_type": "stream",
     "text": [
      "1455it [18:56,  1.39it/s]"
     ]
    },
    {
     "name": "stdout",
     "output_type": "stream",
     "text": [
      "Fail\n",
      "Fail\n"
     ]
    },
    {
     "name": "stderr",
     "output_type": "stream",
     "text": [
      "1458it [18:58,  1.91it/s]"
     ]
    },
    {
     "name": "stdout",
     "output_type": "stream",
     "text": [
      "fail\n",
      "Fail\n"
     ]
    },
    {
     "name": "stderr",
     "output_type": "stream",
     "text": [
      "1460it [18:58,  2.87it/s]"
     ]
    },
    {
     "name": "stdout",
     "output_type": "stream",
     "text": [
      "fail\n",
      "Fail\n"
     ]
    },
    {
     "name": "stderr",
     "output_type": "stream",
     "text": [
      "1462it [18:58,  3.93it/s]"
     ]
    },
    {
     "name": "stdout",
     "output_type": "stream",
     "text": [
      "Fail\n",
      "Fail\n"
     ]
    },
    {
     "name": "stderr",
     "output_type": "stream",
     "text": [
      "1465it [19:00,  2.73it/s]"
     ]
    },
    {
     "name": "stdout",
     "output_type": "stream",
     "text": [
      "fail\n",
      "Fail\n"
     ]
    },
    {
     "name": "stderr",
     "output_type": "stream",
     "text": [
      "1467it [19:01,  2.04it/s]"
     ]
    },
    {
     "name": "stdout",
     "output_type": "stream",
     "text": [
      "Fail\n"
     ]
    },
    {
     "name": "stderr",
     "output_type": "stream",
     "text": [
      "1470it [19:04,  1.59it/s]"
     ]
    },
    {
     "name": "stdout",
     "output_type": "stream",
     "text": [
      "Fail\n"
     ]
    },
    {
     "name": "stderr",
     "output_type": "stream",
     "text": [
      "1476it [19:05,  3.56it/s]"
     ]
    },
    {
     "name": "stdout",
     "output_type": "stream",
     "text": [
      "Skipping Switch\n",
      "Skipping Switch\n",
      "Skipping Switch\n",
      "Skipping Switch\n",
      "Skipping Switch\n",
      "Skipping Switch\n"
     ]
    },
    {
     "name": "stderr",
     "output_type": "stream",
     "text": [
      "1481it [19:09,  1.74it/s]"
     ]
    },
    {
     "name": "stdout",
     "output_type": "stream",
     "text": [
      "fail\n"
     ]
    },
    {
     "name": "stderr",
     "output_type": "stream",
     "text": [
      "1484it [19:12,  1.39it/s]"
     ]
    },
    {
     "name": "stdout",
     "output_type": "stream",
     "text": [
      "fail\n"
     ]
    },
    {
     "name": "stderr",
     "output_type": "stream",
     "text": [
      "1489it [19:21,  1.07s/it]"
     ]
    },
    {
     "name": "stdout",
     "output_type": "stream",
     "text": [
      "fail\n"
     ]
    },
    {
     "name": "stderr",
     "output_type": "stream",
     "text": [
      "1490it [19:21,  1.16it/s]"
     ]
    },
    {
     "name": "stdout",
     "output_type": "stream",
     "text": [
      "fail\n"
     ]
    },
    {
     "name": "stderr",
     "output_type": "stream",
     "text": [
      "1491it [19:21,  1.43it/s]"
     ]
    },
    {
     "name": "stdout",
     "output_type": "stream",
     "text": [
      "fail\n"
     ]
    },
    {
     "name": "stderr",
     "output_type": "stream",
     "text": [
      "1493it [19:23,  1.43it/s]"
     ]
    },
    {
     "name": "stdout",
     "output_type": "stream",
     "text": [
      "fail\n"
     ]
    },
    {
     "name": "stderr",
     "output_type": "stream",
     "text": [
      "1494it [19:23,  1.75it/s]"
     ]
    },
    {
     "name": "stdout",
     "output_type": "stream",
     "text": [
      "fail\n"
     ]
    },
    {
     "name": "stderr",
     "output_type": "stream",
     "text": [
      "1495it [19:23,  2.07it/s]"
     ]
    },
    {
     "name": "stdout",
     "output_type": "stream",
     "text": [
      "fail\n"
     ]
    },
    {
     "name": "stderr",
     "output_type": "stream",
     "text": [
      "1498it [19:26,  1.56it/s]"
     ]
    },
    {
     "name": "stdout",
     "output_type": "stream",
     "text": [
      "fail\n"
     ]
    },
    {
     "name": "stderr",
     "output_type": "stream",
     "text": [
      "1500it [19:27,  1.57it/s]"
     ]
    },
    {
     "name": "stdout",
     "output_type": "stream",
     "text": [
      "Fail\n"
     ]
    },
    {
     "name": "stderr",
     "output_type": "stream",
     "text": [
      "1502it [19:29,  1.59it/s]"
     ]
    },
    {
     "name": "stdout",
     "output_type": "stream",
     "text": [
      "fail\n"
     ]
    },
    {
     "name": "stderr",
     "output_type": "stream",
     "text": [
      "1504it [19:30,  1.60it/s]"
     ]
    },
    {
     "name": "stdout",
     "output_type": "stream",
     "text": [
      "Fail\n"
     ]
    },
    {
     "name": "stderr",
     "output_type": "stream",
     "text": [
      "1511it [19:41,  1.50s/it]"
     ]
    },
    {
     "name": "stdout",
     "output_type": "stream",
     "text": [
      "fail\n"
     ]
    },
    {
     "name": "stderr",
     "output_type": "stream",
     "text": [
      "1518it [19:49,  1.00it/s]"
     ]
    },
    {
     "name": "stdout",
     "output_type": "stream",
     "text": [
      "fail\n"
     ]
    },
    {
     "name": "stderr",
     "output_type": "stream",
     "text": [
      "1520it [19:51,  1.22it/s]"
     ]
    },
    {
     "name": "stdout",
     "output_type": "stream",
     "text": [
      "fail\n"
     ]
    },
    {
     "name": "stderr",
     "output_type": "stream",
     "text": [
      "1521it [19:51,  1.51it/s]"
     ]
    },
    {
     "name": "stdout",
     "output_type": "stream",
     "text": [
      "fail\n"
     ]
    },
    {
     "name": "stderr",
     "output_type": "stream",
     "text": [
      "1522it [19:51,  1.90it/s]"
     ]
    },
    {
     "name": "stdout",
     "output_type": "stream",
     "text": [
      "Fail\n"
     ]
    },
    {
     "name": "stderr",
     "output_type": "stream",
     "text": [
      "1523it [19:51,  2.29it/s]"
     ]
    },
    {
     "name": "stdout",
     "output_type": "stream",
     "text": [
      "fail\n"
     ]
    },
    {
     "name": "stderr",
     "output_type": "stream",
     "text": [
      "1525it [19:53,  1.87it/s]"
     ]
    },
    {
     "name": "stdout",
     "output_type": "stream",
     "text": [
      "fail\n"
     ]
    },
    {
     "name": "stderr",
     "output_type": "stream",
     "text": [
      "1526it [19:53,  2.26it/s]"
     ]
    },
    {
     "name": "stdout",
     "output_type": "stream",
     "text": [
      "fail\n"
     ]
    },
    {
     "name": "stderr",
     "output_type": "stream",
     "text": [
      "1527it [19:53,  2.57it/s]"
     ]
    },
    {
     "name": "stdout",
     "output_type": "stream",
     "text": [
      "fail\n"
     ]
    },
    {
     "name": "stderr",
     "output_type": "stream",
     "text": [
      "1529it [19:55,  1.97it/s]"
     ]
    },
    {
     "name": "stdout",
     "output_type": "stream",
     "text": [
      "fail\n"
     ]
    },
    {
     "name": "stderr",
     "output_type": "stream",
     "text": [
      "1530it [19:55,  2.37it/s]"
     ]
    },
    {
     "name": "stdout",
     "output_type": "stream",
     "text": [
      "Fail\n"
     ]
    },
    {
     "name": "stderr",
     "output_type": "stream",
     "text": [
      "1531it [19:55,  2.75it/s]"
     ]
    },
    {
     "name": "stdout",
     "output_type": "stream",
     "text": [
      "fail\n"
     ]
    },
    {
     "name": "stderr",
     "output_type": "stream",
     "text": [
      "1533it [19:57,  1.98it/s]"
     ]
    },
    {
     "name": "stdout",
     "output_type": "stream",
     "text": [
      "fail\n"
     ]
    },
    {
     "name": "stderr",
     "output_type": "stream",
     "text": [
      "1535it [19:58,  1.66it/s]"
     ]
    },
    {
     "name": "stdout",
     "output_type": "stream",
     "text": [
      "Fail\n"
     ]
    },
    {
     "name": "stderr",
     "output_type": "stream",
     "text": [
      "1539it [20:05,  1.40s/it]"
     ]
    },
    {
     "name": "stdout",
     "output_type": "stream",
     "text": [
      "fail\n"
     ]
    },
    {
     "name": "stderr",
     "output_type": "stream",
     "text": [
      "1542it [20:08,  1.00it/s]"
     ]
    },
    {
     "name": "stdout",
     "output_type": "stream",
     "text": [
      "Fail\n"
     ]
    },
    {
     "name": "stderr",
     "output_type": "stream",
     "text": [
      "1543it [20:08,  1.29it/s]"
     ]
    },
    {
     "name": "stdout",
     "output_type": "stream",
     "text": [
      "fail\n"
     ]
    },
    {
     "name": "stderr",
     "output_type": "stream",
     "text": [
      "1545it [20:08,  2.08it/s]"
     ]
    },
    {
     "name": "stdout",
     "output_type": "stream",
     "text": [
      "Fail\n",
      "Fail\n"
     ]
    },
    {
     "name": "stderr",
     "output_type": "stream",
     "text": [
      "1547it [20:10,  1.79it/s]"
     ]
    },
    {
     "name": "stdout",
     "output_type": "stream",
     "text": [
      "Fail\n"
     ]
    },
    {
     "name": "stderr",
     "output_type": "stream",
     "text": [
      "1549it [20:11,  1.62it/s]"
     ]
    },
    {
     "name": "stdout",
     "output_type": "stream",
     "text": [
      "Fail\n"
     ]
    },
    {
     "name": "stderr",
     "output_type": "stream",
     "text": [
      "1551it [20:13,  1.55it/s]"
     ]
    },
    {
     "name": "stdout",
     "output_type": "stream",
     "text": [
      "Fail\n"
     ]
    },
    {
     "name": "stderr",
     "output_type": "stream",
     "text": [
      "1552it [20:13,  1.92it/s]"
     ]
    },
    {
     "name": "stdout",
     "output_type": "stream",
     "text": [
      "Fail\n"
     ]
    },
    {
     "name": "stderr",
     "output_type": "stream",
     "text": [
      "1554it [20:15,  1.74it/s]"
     ]
    },
    {
     "name": "stdout",
     "output_type": "stream",
     "text": [
      "fail\n"
     ]
    },
    {
     "name": "stderr",
     "output_type": "stream",
     "text": [
      "1556it [20:15,  2.56it/s]"
     ]
    },
    {
     "name": "stdout",
     "output_type": "stream",
     "text": [
      "Fail\n",
      "Fail\n"
     ]
    },
    {
     "name": "stderr",
     "output_type": "stream",
     "text": [
      "1559it [20:18,  1.61it/s]"
     ]
    },
    {
     "name": "stdout",
     "output_type": "stream",
     "text": [
      "fail\n"
     ]
    },
    {
     "name": "stderr",
     "output_type": "stream",
     "text": [
      "1560it [20:18,  1.97it/s]"
     ]
    },
    {
     "name": "stdout",
     "output_type": "stream",
     "text": [
      "fail\n"
     ]
    },
    {
     "name": "stderr",
     "output_type": "stream",
     "text": [
      "1564it [20:22,  1.31it/s]"
     ]
    },
    {
     "name": "stdout",
     "output_type": "stream",
     "text": [
      "fail\n"
     ]
    },
    {
     "name": "stderr",
     "output_type": "stream",
     "text": [
      "1566it [20:23,  1.42it/s]"
     ]
    },
    {
     "name": "stdout",
     "output_type": "stream",
     "text": [
      "fail\n"
     ]
    },
    {
     "name": "stderr",
     "output_type": "stream",
     "text": [
      "1567it [20:24,  1.77it/s]"
     ]
    },
    {
     "name": "stdout",
     "output_type": "stream",
     "text": [
      "fail\n"
     ]
    },
    {
     "name": "stderr",
     "output_type": "stream",
     "text": [
      "1569it [20:25,  1.52it/s]"
     ]
    },
    {
     "name": "stdout",
     "output_type": "stream",
     "text": [
      "fail\n"
     ]
    },
    {
     "name": "stderr",
     "output_type": "stream",
     "text": [
      "1570it [20:28,  1.42s/it]"
     ]
    },
    {
     "name": "stdout",
     "output_type": "stream",
     "text": [
      "Fail\n"
     ]
    },
    {
     "name": "stderr",
     "output_type": "stream",
     "text": [
      "1572it [20:29,  1.23it/s]"
     ]
    },
    {
     "name": "stdout",
     "output_type": "stream",
     "text": [
      "fail\n",
      "Fail\n"
     ]
    },
    {
     "name": "stderr",
     "output_type": "stream",
     "text": [
      "1575it [20:31,  1.76it/s]"
     ]
    },
    {
     "name": "stdout",
     "output_type": "stream",
     "text": [
      "Fail\n",
      "Fail\n"
     ]
    },
    {
     "name": "stderr",
     "output_type": "stream",
     "text": [
      "1577it [20:31,  2.67it/s]"
     ]
    },
    {
     "name": "stdout",
     "output_type": "stream",
     "text": [
      "Fail\n",
      "Fail\n"
     ]
    },
    {
     "name": "stderr",
     "output_type": "stream",
     "text": [
      "1578it [20:31,  2.90it/s]"
     ]
    },
    {
     "name": "stdout",
     "output_type": "stream",
     "text": [
      "Fail\n"
     ]
    },
    {
     "name": "stderr",
     "output_type": "stream",
     "text": [
      "1580it [20:32,  3.57it/s]"
     ]
    },
    {
     "name": "stdout",
     "output_type": "stream",
     "text": [
      "Fail\n",
      "Fail\n"
     ]
    },
    {
     "name": "stderr",
     "output_type": "stream",
     "text": [
      "1581it [20:32,  3.81it/s]"
     ]
    },
    {
     "name": "stdout",
     "output_type": "stream",
     "text": [
      "Fail\n"
     ]
    },
    {
     "name": "stderr",
     "output_type": "stream",
     "text": [
      "1582it [20:32,  3.90it/s]"
     ]
    },
    {
     "name": "stdout",
     "output_type": "stream",
     "text": [
      "Fail\n"
     ]
    },
    {
     "name": "stderr",
     "output_type": "stream",
     "text": [
      "1584it [20:33,  4.32it/s]"
     ]
    },
    {
     "name": "stdout",
     "output_type": "stream",
     "text": [
      "Fail\n",
      "Fail\n"
     ]
    },
    {
     "name": "stderr",
     "output_type": "stream",
     "text": [
      "1586it [20:33,  4.29it/s]"
     ]
    },
    {
     "name": "stdout",
     "output_type": "stream",
     "text": [
      "Fail\n",
      "Fail\n"
     ]
    },
    {
     "name": "stderr",
     "output_type": "stream",
     "text": [
      "1587it [20:33,  4.28it/s]"
     ]
    },
    {
     "name": "stdout",
     "output_type": "stream",
     "text": [
      "Fail\n"
     ]
    },
    {
     "name": "stderr",
     "output_type": "stream",
     "text": [
      "1589it [20:34,  4.43it/s]"
     ]
    },
    {
     "name": "stdout",
     "output_type": "stream",
     "text": [
      "Fail\n",
      "Fail\n"
     ]
    },
    {
     "name": "stderr",
     "output_type": "stream",
     "text": [
      "1591it [20:34,  4.58it/s]"
     ]
    },
    {
     "name": "stdout",
     "output_type": "stream",
     "text": [
      "Fail\n",
      "Fail\n"
     ]
    },
    {
     "name": "stderr",
     "output_type": "stream",
     "text": [
      "1593it [20:35,  4.77it/s]"
     ]
    },
    {
     "name": "stdout",
     "output_type": "stream",
     "text": [
      "Fail\n",
      "Fail\n"
     ]
    },
    {
     "name": "stderr",
     "output_type": "stream",
     "text": [
      "1595it [20:35,  4.74it/s]"
     ]
    },
    {
     "name": "stdout",
     "output_type": "stream",
     "text": [
      "Fail\n",
      "Fail\n"
     ]
    },
    {
     "name": "stderr",
     "output_type": "stream",
     "text": [
      "1597it [20:35,  4.85it/s]"
     ]
    },
    {
     "name": "stdout",
     "output_type": "stream",
     "text": [
      "Fail\n",
      "Fail\n"
     ]
    },
    {
     "name": "stderr",
     "output_type": "stream",
     "text": [
      "1599it [20:36,  5.11it/s]"
     ]
    },
    {
     "name": "stdout",
     "output_type": "stream",
     "text": [
      "Fail\n",
      "Fail\n"
     ]
    },
    {
     "name": "stderr",
     "output_type": "stream",
     "text": [
      "1601it [20:36,  4.98it/s]"
     ]
    },
    {
     "name": "stdout",
     "output_type": "stream",
     "text": [
      "Fail\n",
      "Fail\n"
     ]
    },
    {
     "name": "stderr",
     "output_type": "stream",
     "text": [
      "1602it [20:36,  5.00it/s]"
     ]
    },
    {
     "name": "stdout",
     "output_type": "stream",
     "text": [
      "Fail\n"
     ]
    },
    {
     "name": "stderr",
     "output_type": "stream",
     "text": [
      "1603it [20:37,  4.74it/s]"
     ]
    },
    {
     "name": "stdout",
     "output_type": "stream",
     "text": [
      "Fail\n"
     ]
    },
    {
     "name": "stderr",
     "output_type": "stream",
     "text": [
      "1605it [20:37,  4.88it/s]"
     ]
    },
    {
     "name": "stdout",
     "output_type": "stream",
     "text": [
      "Fail\n",
      "Fail\n"
     ]
    },
    {
     "name": "stderr",
     "output_type": "stream",
     "text": [
      "1606it [20:37,  4.68it/s]"
     ]
    },
    {
     "name": "stdout",
     "output_type": "stream",
     "text": [
      "Fail\n"
     ]
    },
    {
     "name": "stderr",
     "output_type": "stream",
     "text": [
      "1607it [20:38,  4.62it/s]"
     ]
    },
    {
     "name": "stdout",
     "output_type": "stream",
     "text": [
      "Fail\n"
     ]
    },
    {
     "name": "stderr",
     "output_type": "stream",
     "text": [
      "1609it [20:38,  4.81it/s]"
     ]
    },
    {
     "name": "stdout",
     "output_type": "stream",
     "text": [
      "Fail\n",
      "Fail\n"
     ]
    },
    {
     "name": "stderr",
     "output_type": "stream",
     "text": [
      "1611it [20:38,  4.93it/s]"
     ]
    },
    {
     "name": "stdout",
     "output_type": "stream",
     "text": [
      "Fail\n",
      "Fail\n"
     ]
    },
    {
     "name": "stderr",
     "output_type": "stream",
     "text": [
      "1612it [20:39,  4.91it/s]"
     ]
    },
    {
     "name": "stdout",
     "output_type": "stream",
     "text": [
      "Fail\n"
     ]
    },
    {
     "name": "stderr",
     "output_type": "stream",
     "text": [
      "1613it [20:39,  4.85it/s]"
     ]
    },
    {
     "name": "stdout",
     "output_type": "stream",
     "text": [
      "Fail\n"
     ]
    },
    {
     "name": "stderr",
     "output_type": "stream",
     "text": [
      "1616it [20:42,  1.61it/s]"
     ]
    },
    {
     "name": "stdout",
     "output_type": "stream",
     "text": [
      "fail\n"
     ]
    },
    {
     "name": "stderr",
     "output_type": "stream",
     "text": [
      "1617it [20:42,  1.99it/s]"
     ]
    },
    {
     "name": "stdout",
     "output_type": "stream",
     "text": [
      "fail\n"
     ]
    },
    {
     "name": "stderr",
     "output_type": "stream",
     "text": [
      "1618it [20:42,  2.33it/s]"
     ]
    },
    {
     "name": "stdout",
     "output_type": "stream",
     "text": [
      "fail\n"
     ]
    },
    {
     "name": "stderr",
     "output_type": "stream",
     "text": [
      "1619it [20:42,  2.70it/s]"
     ]
    },
    {
     "name": "stdout",
     "output_type": "stream",
     "text": [
      "fail\n"
     ]
    },
    {
     "name": "stderr",
     "output_type": "stream",
     "text": [
      "1623it [20:50,  1.10s/it]"
     ]
    },
    {
     "name": "stdout",
     "output_type": "stream",
     "text": [
      "fail\n"
     ]
    },
    {
     "name": "stderr",
     "output_type": "stream",
     "text": [
      "1624it [20:50,  1.18it/s]"
     ]
    },
    {
     "name": "stdout",
     "output_type": "stream",
     "text": [
      "fail\n"
     ]
    },
    {
     "name": "stderr",
     "output_type": "stream",
     "text": [
      "1625it [20:50,  1.47it/s]"
     ]
    },
    {
     "name": "stdout",
     "output_type": "stream",
     "text": [
      "fail\n"
     ]
    },
    {
     "name": "stderr",
     "output_type": "stream",
     "text": [
      "1630it [20:55,  1.53it/s]"
     ]
    },
    {
     "name": "stdout",
     "output_type": "stream",
     "text": [
      "Fail\n",
      "Fail\n"
     ]
    },
    {
     "name": "stderr",
     "output_type": "stream",
     "text": [
      "1633it [20:55,  3.13it/s]"
     ]
    },
    {
     "name": "stdout",
     "output_type": "stream",
     "text": [
      "Fail\n",
      "Skipping Switch\n",
      "Skipping Switch\n",
      "Skipping Switch\n"
     ]
    },
    {
     "name": "stderr",
     "output_type": "stream",
     "text": [
      "1638it [20:55,  7.20it/s]"
     ]
    },
    {
     "name": "stdout",
     "output_type": "stream",
     "text": [
      "Skipping Switch\n",
      "Skipping Switch\n",
      "Skipping Switch\n",
      "Skipping Switch\n"
     ]
    },
    {
     "name": "stderr",
     "output_type": "stream",
     "text": [
      "1642it [20:56, 10.17it/s]"
     ]
    },
    {
     "name": "stdout",
     "output_type": "stream",
     "text": [
      "Skipping Switch\n",
      "Skipping Switch\n",
      "Skipping Switch\n",
      "Skipping Switch\n"
     ]
    },
    {
     "name": "stderr",
     "output_type": "stream",
     "text": [
      "1646it [20:56, 13.30it/s]"
     ]
    },
    {
     "name": "stdout",
     "output_type": "stream",
     "text": [
      "Skipping Switch\n",
      "Skipping Switch\n",
      "Skipping Switch\n",
      "Skipping Switch\n"
     ]
    },
    {
     "name": "stderr",
     "output_type": "stream",
     "text": [
      "1650it [20:56, 15.35it/s]"
     ]
    },
    {
     "name": "stdout",
     "output_type": "stream",
     "text": [
      "Skipping Switch\n",
      "Skipping Switch\n",
      "Skipping Switch\n",
      "Skipping Switch\n"
     ]
    },
    {
     "name": "stderr",
     "output_type": "stream",
     "text": [
      "1654it [20:56, 16.29it/s]"
     ]
    },
    {
     "name": "stdout",
     "output_type": "stream",
     "text": [
      "Skipping Switch\n",
      "Skipping Switch\n",
      "Skipping Switch\n",
      "Skipping Switch\n",
      "Skipping Switch\n"
     ]
    },
    {
     "name": "stderr",
     "output_type": "stream",
     "text": [
      "1659it [21:01,  1.96it/s]"
     ]
    },
    {
     "name": "stdout",
     "output_type": "stream",
     "text": [
      "fail\n"
     ]
    },
    {
     "name": "stderr",
     "output_type": "stream",
     "text": [
      "1661it [21:02,  1.71it/s]"
     ]
    },
    {
     "name": "stdout",
     "output_type": "stream",
     "text": [
      "fail\n"
     ]
    },
    {
     "name": "stderr",
     "output_type": "stream",
     "text": [
      "1671it [21:17,  1.08s/it]"
     ]
    },
    {
     "name": "stdout",
     "output_type": "stream",
     "text": [
      "fail\n"
     ]
    },
    {
     "name": "stderr",
     "output_type": "stream",
     "text": [
      "1675it [21:21,  1.40it/s]"
     ]
    },
    {
     "name": "stdout",
     "output_type": "stream",
     "text": [
      "fail\n",
      "fail\n"
     ]
    },
    {
     "name": "stderr",
     "output_type": "stream",
     "text": [
      "1677it [21:22,  1.48it/s]"
     ]
    },
    {
     "name": "stdout",
     "output_type": "stream",
     "text": [
      "fail\n"
     ]
    },
    {
     "name": "stderr",
     "output_type": "stream",
     "text": [
      "1678it [21:22,  1.80it/s]"
     ]
    },
    {
     "name": "stdout",
     "output_type": "stream",
     "text": [
      "fail\n"
     ]
    },
    {
     "name": "stderr",
     "output_type": "stream",
     "text": [
      "1679it [21:23,  2.12it/s]"
     ]
    },
    {
     "name": "stdout",
     "output_type": "stream",
     "text": [
      "fail\n"
     ]
    },
    {
     "name": "stderr",
     "output_type": "stream",
     "text": [
      "1680it [21:23,  2.53it/s]"
     ]
    },
    {
     "name": "stdout",
     "output_type": "stream",
     "text": [
      "fail\n"
     ]
    },
    {
     "name": "stderr",
     "output_type": "stream",
     "text": [
      "1687it [21:31,  1.00it/s]"
     ]
    },
    {
     "name": "stdout",
     "output_type": "stream",
     "text": [
      "fail\n"
     ]
    },
    {
     "name": "stderr",
     "output_type": "stream",
     "text": [
      "1692it [21:40,  1.28s/it]"
     ]
    },
    {
     "name": "stdout",
     "output_type": "stream",
     "text": [
      "fail\n"
     ]
    },
    {
     "name": "stderr",
     "output_type": "stream",
     "text": [
      "1693it [21:41,  1.03it/s]"
     ]
    },
    {
     "name": "stdout",
     "output_type": "stream",
     "text": [
      "fail\n"
     ]
    },
    {
     "name": "stderr",
     "output_type": "stream",
     "text": [
      "1694it [21:41,  1.29it/s]"
     ]
    },
    {
     "name": "stdout",
     "output_type": "stream",
     "text": [
      "fail\n"
     ]
    },
    {
     "name": "stderr",
     "output_type": "stream",
     "text": [
      "1695it [21:41,  1.56it/s]"
     ]
    },
    {
     "name": "stdout",
     "output_type": "stream",
     "text": [
      "fail\n"
     ]
    },
    {
     "name": "stderr",
     "output_type": "stream",
     "text": [
      "1696it [21:41,  1.87it/s]"
     ]
    },
    {
     "name": "stdout",
     "output_type": "stream",
     "text": [
      "fail\n"
     ]
    },
    {
     "name": "stderr",
     "output_type": "stream",
     "text": [
      "1697it [21:42,  2.21it/s]"
     ]
    },
    {
     "name": "stdout",
     "output_type": "stream",
     "text": [
      "fail\n"
     ]
    },
    {
     "name": "stderr",
     "output_type": "stream",
     "text": [
      "1703it [21:49,  1.01it/s]"
     ]
    },
    {
     "name": "stdout",
     "output_type": "stream",
     "text": [
      "fail\n"
     ]
    },
    {
     "name": "stderr",
     "output_type": "stream",
     "text": [
      "1704it [21:49,  1.30it/s]"
     ]
    },
    {
     "name": "stdout",
     "output_type": "stream",
     "text": [
      "fail\n"
     ]
    },
    {
     "name": "stderr",
     "output_type": "stream",
     "text": [
      "1705it [21:50,  1.54it/s]"
     ]
    },
    {
     "name": "stdout",
     "output_type": "stream",
     "text": [
      "fail\n"
     ]
    },
    {
     "name": "stderr",
     "output_type": "stream",
     "text": [
      "1711it [21:58,  1.09s/it]"
     ]
    },
    {
     "name": "stdout",
     "output_type": "stream",
     "text": [
      "fail\n"
     ]
    },
    {
     "name": "stderr",
     "output_type": "stream",
     "text": [
      "1715it [22:06,  1.99s/it]"
     ]
    },
    {
     "name": "stdout",
     "output_type": "stream",
     "text": [
      "Fail\n"
     ]
    },
    {
     "name": "stderr",
     "output_type": "stream",
     "text": [
      "1716it [22:06,  1.48s/it]"
     ]
    },
    {
     "name": "stdout",
     "output_type": "stream",
     "text": [
      "fail\n"
     ]
    },
    {
     "name": "stderr",
     "output_type": "stream",
     "text": [
      "1718it [22:08,  1.16s/it]"
     ]
    },
    {
     "name": "stdout",
     "output_type": "stream",
     "text": [
      "fail\n"
     ]
    },
    {
     "name": "stderr",
     "output_type": "stream",
     "text": [
      "1719it [22:09,  1.11it/s]"
     ]
    },
    {
     "name": "stdout",
     "output_type": "stream",
     "text": [
      "fail\n"
     ]
    },
    {
     "name": "stderr",
     "output_type": "stream",
     "text": [
      "1721it [22:10,  1.22it/s]"
     ]
    },
    {
     "name": "stdout",
     "output_type": "stream",
     "text": [
      "Fail\n"
     ]
    },
    {
     "name": "stderr",
     "output_type": "stream",
     "text": [
      "1724it [22:13,  1.13it/s]"
     ]
    },
    {
     "name": "stdout",
     "output_type": "stream",
     "text": [
      "fail\n"
     ]
    },
    {
     "name": "stderr",
     "output_type": "stream",
     "text": [
      "1727it [22:16,  1.17it/s]"
     ]
    },
    {
     "name": "stdout",
     "output_type": "stream",
     "text": [
      "fail\n"
     ]
    },
    {
     "name": "stderr",
     "output_type": "stream",
     "text": [
      "1730it [22:19,  1.11it/s]"
     ]
    },
    {
     "name": "stdout",
     "output_type": "stream",
     "text": [
      "fail\n"
     ]
    },
    {
     "name": "stderr",
     "output_type": "stream",
     "text": [
      "1732it [22:22,  1.10it/s]"
     ]
    },
    {
     "name": "stdout",
     "output_type": "stream",
     "text": [
      "fail\n"
     ]
    },
    {
     "name": "stderr",
     "output_type": "stream",
     "text": [
      "1733it [22:22,  1.38it/s]"
     ]
    },
    {
     "name": "stdout",
     "output_type": "stream",
     "text": [
      "Fail\n"
     ]
    },
    {
     "name": "stderr",
     "output_type": "stream",
     "text": [
      "1735it [22:23,  1.41it/s]"
     ]
    },
    {
     "name": "stdout",
     "output_type": "stream",
     "text": [
      "fail\n"
     ]
    },
    {
     "name": "stderr",
     "output_type": "stream",
     "text": [
      "1749it [22:44,  1.08s/it]"
     ]
    },
    {
     "name": "stdout",
     "output_type": "stream",
     "text": [
      "fail\n"
     ]
    },
    {
     "name": "stderr",
     "output_type": "stream",
     "text": [
      "1756it [22:54,  1.11s/it]"
     ]
    },
    {
     "name": "stdout",
     "output_type": "stream",
     "text": [
      "fail\n"
     ]
    },
    {
     "name": "stderr",
     "output_type": "stream",
     "text": [
      "1757it [22:54,  1.17it/s]"
     ]
    },
    {
     "name": "stdout",
     "output_type": "stream",
     "text": [
      "fail\n"
     ]
    },
    {
     "name": "stderr",
     "output_type": "stream",
     "text": [
      "1761it [22:59,  1.09it/s]"
     ]
    },
    {
     "name": "stdout",
     "output_type": "stream",
     "text": [
      "Fail\n"
     ]
    },
    {
     "name": "stderr",
     "output_type": "stream",
     "text": [
      "1762it [22:59,  1.39it/s]"
     ]
    },
    {
     "name": "stdout",
     "output_type": "stream",
     "text": [
      "fail\n"
     ]
    },
    {
     "name": "stderr",
     "output_type": "stream",
     "text": [
      "1767it [23:07,  1.13s/it]"
     ]
    },
    {
     "name": "stdout",
     "output_type": "stream",
     "text": [
      "fail\n"
     ]
    },
    {
     "name": "stderr",
     "output_type": "stream",
     "text": [
      "1769it [23:09,  1.02it/s]"
     ]
    },
    {
     "name": "stdout",
     "output_type": "stream",
     "text": [
      "fail\n"
     ]
    },
    {
     "name": "stderr",
     "output_type": "stream",
     "text": [
      "1781it [23:25,  1.10s/it]"
     ]
    },
    {
     "name": "stdout",
     "output_type": "stream",
     "text": [
      "fail\n"
     ]
    },
    {
     "name": "stderr",
     "output_type": "stream",
     "text": [
      "1784it [23:29,  1.01it/s]"
     ]
    },
    {
     "name": "stdout",
     "output_type": "stream",
     "text": [
      "fail\n"
     ]
    },
    {
     "name": "stderr",
     "output_type": "stream",
     "text": [
      "1785it [23:32,  1.77s/it]"
     ]
    },
    {
     "name": "stdout",
     "output_type": "stream",
     "text": [
      "Fail\n"
     ]
    },
    {
     "name": "stderr",
     "output_type": "stream",
     "text": [
      "1790it [23:38,  1.19s/it]"
     ]
    },
    {
     "name": "stdout",
     "output_type": "stream",
     "text": [
      "fail\n"
     ]
    },
    {
     "name": "stderr",
     "output_type": "stream",
     "text": [
      "1791it [23:39,  1.09it/s]"
     ]
    },
    {
     "name": "stdout",
     "output_type": "stream",
     "text": [
      "Fail\n"
     ]
    },
    {
     "name": "stderr",
     "output_type": "stream",
     "text": [
      "1798it [23:47,  1.03it/s]"
     ]
    },
    {
     "name": "stdout",
     "output_type": "stream",
     "text": [
      "fail\n"
     ]
    },
    {
     "name": "stderr",
     "output_type": "stream",
     "text": [
      "1799it [23:47,  1.31it/s]"
     ]
    },
    {
     "name": "stdout",
     "output_type": "stream",
     "text": [
      "fail\n"
     ]
    },
    {
     "name": "stderr",
     "output_type": "stream",
     "text": [
      "1803it [23:52,  1.15it/s]"
     ]
    },
    {
     "name": "stdout",
     "output_type": "stream",
     "text": [
      "fail\n"
     ]
    },
    {
     "name": "stderr",
     "output_type": "stream",
     "text": [
      "1809it [23:59,  1.05it/s]"
     ]
    },
    {
     "name": "stdout",
     "output_type": "stream",
     "text": [
      "fail\n"
     ]
    },
    {
     "name": "stderr",
     "output_type": "stream",
     "text": [
      "1811it [24:04,  1.52s/it]"
     ]
    },
    {
     "name": "stdout",
     "output_type": "stream",
     "text": [
      "fail\n"
     ]
    },
    {
     "name": "stderr",
     "output_type": "stream",
     "text": [
      "1812it [24:04,  1.16s/it]"
     ]
    },
    {
     "name": "stdout",
     "output_type": "stream",
     "text": [
      "fail\n"
     ]
    },
    {
     "name": "stderr",
     "output_type": "stream",
     "text": [
      "1815it [24:07,  1.06it/s]"
     ]
    },
    {
     "name": "stdout",
     "output_type": "stream",
     "text": [
      "fail\n"
     ]
    },
    {
     "name": "stderr",
     "output_type": "stream",
     "text": [
      "1817it [24:08,  1.21it/s]"
     ]
    },
    {
     "name": "stdout",
     "output_type": "stream",
     "text": [
      "fail\n"
     ]
    },
    {
     "name": "stderr",
     "output_type": "stream",
     "text": [
      "1818it [24:09,  1.48it/s]"
     ]
    },
    {
     "name": "stdout",
     "output_type": "stream",
     "text": [
      "fail\n"
     ]
    },
    {
     "name": "stderr",
     "output_type": "stream",
     "text": [
      "1825it [24:17,  1.05it/s]"
     ]
    },
    {
     "name": "stdout",
     "output_type": "stream",
     "text": [
      "fail\n"
     ]
    },
    {
     "name": "stderr",
     "output_type": "stream",
     "text": [
      "1827it [24:19,  1.25it/s]"
     ]
    },
    {
     "name": "stdout",
     "output_type": "stream",
     "text": [
      "Fail\n",
      "Fail\n"
     ]
    },
    {
     "name": "stderr",
     "output_type": "stream",
     "text": [
      "1829it [24:20,  1.25it/s]\n"
     ]
    },
    {
     "data": {
      "image/png": "[encoded data removed]",
      "text/plain": [
       "<Figure size 637.5x525 with 2 Axes>"
      ]
     },
     "metadata": {},
     "output_type": "display_data"
    }
   ],
   "source": [
    "for idx,(session,clust) in tqdm(enumerate(zip(EnumSession,EnumClust))):\n",
    "    limitToUse = None#30\n",
    "    \n",
    "    # skip = True\n",
    "    # if session == 'BS_40_2_AC.pickle' and clust in [190]:\n",
    "    #     limitToUse = 20\n",
    "    #     skip = False\n",
    "    # if session == 'BS_40_3_AC.pickle' and clust in [15]:\n",
    "    #     limitToUse = 20\n",
    "    #     skip = False\n",
    "    # if session == 'BS_40_6_AC.pickle' and clust in [27]:\n",
    "    #     limitToUse = 20\n",
    "    #     skip = False\n",
    "    # if session == 'BS_40_10_AC.pickle' and clust in [55]:\n",
    "    #     limitToUse = 20\n",
    "    #     skip = False\n",
    "    # if session == 'BS_40_15_AC.pickle' and clust in [0]:\n",
    "    #     limitToUse = 30\n",
    "    #     skip = False\n",
    "    # if session == 'BS_40_16_AC.pickle' and clust in [24]:\n",
    "    #     limitToUse = 30\n",
    "    #     skip = False\n",
    "    # if session == 'BS_41_5_AC.pickle' and clust in [2]:\n",
    "    #     limitToUse = 30\n",
    "    #     skip = False\n",
    "    # if session == 'BS_41_8_AC.pickle' and clust in [15]:\n",
    "    #     limitToUse = 30\n",
    "    #     skip = False\n",
    "    # if session == 'BS_41_9_AC.pickle' and clust in [37]:\n",
    "    #     limitToUse = 30\n",
    "    #     skip = False\n",
    "    # if session == 'BS_41_11_AC.pickle' and clust in [18]:\n",
    "    #     pass#Removed this day from consideration\n",
    "    # if session == 'BS_42_2_AC.pickle' and clust in [62]:\n",
    "    #     limitToUse = 30\n",
    "    #     skip = False\n",
    "    # if session == 'BS_42_3_AC.pickle' and clust in [63]:\n",
    "    #     limitToUse = 30\n",
    "    #     skip = False\n",
    "    # if session == 'BS_42_7_AC.pickle' and clust in [100]:\n",
    "    #     limitToUse = 30\n",
    "    #     skip = False\n",
    "    # if session == 'BS_42_11_AC.pickle' and clust in [44]:\n",
    "    #     limitToUse = 40\n",
    "    #     skip = False\n",
    "    # if session == 'BS_49_1_AC.pickle' and clust in [23,143,150]:\n",
    "    #     limitToUse = 20\n",
    "    #     skip = False\n",
    "    # if session == 'BS_49_2_AC.pickle' and clust in [6]:\n",
    "    #     limitToUse = 20\n",
    "    #     skip = False\n",
    "    # if session == 'BS_49_4_AC.pickle' and clust in [27,68]:\n",
    "    #     limitToUse = 20\n",
    "    #     skip = False\n",
    "    # if session == 'BS_49_4_AC.pickle' and clust in [39]:\n",
    "    #     limitToUse = 30\n",
    "    #     skip = False\n",
    "    # if session == 'BS_49_9_AC.pickle' and clust in [45]:\n",
    "    #     limitToUse = 20\n",
    "    #     skip = False\n",
    "    # if session == 'BS_50_7_AC.pickle' and clust in [12]:\n",
    "    #     limitToUse = 40\n",
    "    #     skip = False\n",
    "    # if session == 'BS_70_7_AC.pickle' and clust in [63]:\n",
    "    #     limitToUse = 30\n",
    "    #     skip = False\n",
    "    # if session == 'BS_70_8_AC.pickle' and clust in [3]:\n",
    "    #     limitToUse = 30\n",
    "    #     skip = False\n",
    "    # if session == 'BS_72_7_AC.pickle' and clust in [35]:\n",
    "    #     limitToUse = 30\n",
    "    #     skip = False\n",
    "    # if session == 'BS_87_1_AC.pickle' and clust in [30]:\n",
    "    #     limitToUse = 50\n",
    "    #     skip = False\n",
    "    # if session == 'BS_87_4_AC.pickle' and clust in [3]:\n",
    "    #     limitToUse = 30\n",
    "    #     skip = False\n",
    "    # if session == 'BS_108_1_AC.pickle' and clust in [9]:\n",
    "    #     limitToUse = 50\n",
    "    #     skip = False\n",
    "    # if session == 'DS_15_1_AC.pickle' and clust in [16,59]:\n",
    "    #     limitToUse = 50\n",
    "    #     skip = False\n",
    "    # if session == 'DS_15_12_AC.pickle' and clust in [19]:\n",
    "    #     limitToUse = 30\n",
    "    #     skip = False\n",
    "    # if session == 'DS_15_13_AC.pickle' and clust in [41]:\n",
    "    #     limitToUse = 30\n",
    "    #     skip = False\n",
    "    # if session == 'DS_15_15_AC.pickle' and clust in [113]:\n",
    "    #     limitToUse = 30\n",
    "    #     skip = False\n",
    "    # if session == 'DS_19_1_AC.pickle' and clust in [1]:\n",
    "    #     limitToUse = 50\n",
    "    #     skip = False\n",
    "    # if session == 'BS_40_2_AC.pickle' and clust in [210]:\n",
    "    #     limitToUse = 20\n",
    "    #     skip = False\n",
    "    # if session == 'BS_42_7_AC.pickle' and clust in [124]:\n",
    "    #     limitToUse = 30\n",
    "    #     skip = False\n",
    "    # if session == 'DS_15_16_AC.pickle' and clust in [23]:\n",
    "    #     limitToUse = 30\n",
    "    #     skip = False\n",
    "    # if session == 'DS_19_14_AC.pickle' and clust in [19]:\n",
    "    #     limitToUse = 30\n",
    "    #     skip = False\n",
    "    # if skip:\n",
    "    #     continue\n",
    "\n",
    "    try:\n",
    "        plt.close('all')\n",
    "        sessionfile = ilep.loadSessionCached(act_directory,session)\n",
    "        if sessionfile.meta.task == 'switch':\n",
    "            print(\"Skipping Switch\")\n",
    "            continue\n",
    "        \n",
    "    #     fig = plt.figure(figsize=(2.75,4.5))#Old Style\n",
    "        fig = plt.figure(figsize=(4.25,3.5))#New Style\n",
    "        gs = fig.add_gridspec(2,1,height_ratios=[1.75,1],hspace=0.25)#Old hspace 0.125 #Old ratios [2,1]\n",
    "        \n",
    "        ax3 = plt.subplot(gs[1,0])#Raster\n",
    "        ax4 = plt.subplot(gs[0,0])#,sharex=ax3)#PSTH\n",
    "        ax3.set_facecolor('#F2F2F2')\n",
    "        \n",
    "        #visualizeClusterChoiceInternal(sessionfile,clust,ax1,ax2,Figure_start_time_ms='-250',Figure_end_time_ms=1000,xtickstouse=[-250,0,250,500,750,1000],align_to_choice=False,switch_cond='NA'):\n",
    "        \n",
    "    #     fst=-200\n",
    "    #     fet=400\n",
    "    #     xt=[-200,0,200,400]\n",
    "        fst=-200\n",
    "        fet=400\n",
    "        xt=[-200,0,200,400]\n",
    "        xtl=None#['-200','0','200','400']\n",
    "        success,artists = visualizeClusterChoiceInternal(sessionfile,clust,ax3,ax4,limitToUse=limitToUse,Figure_start_time_ms=fst,Figure_end_time_ms=fet,xtickstouse=xt,xticklabelstouse=xtl)\n",
    "        if not success:\n",
    "            print('Fail')\n",
    "            continue\n",
    "        \n",
    "        #Determine FRmod category\n",
    "        FRmodCategory = 'ERROR'\n",
    "        try:\n",
    "            FRmod = sessionfile.responsiveness[clust]['all_trials'].FRmodulation\n",
    "            if FRmod < 3.5:\n",
    "                FRmodCategory = 'NCR'\n",
    "            elif FRmod > 5:\n",
    "                FRmodCategory = 'CR'\n",
    "            else:\n",
    "                FRmodCategory = 'Middle'\n",
    "        except Exception as e:\n",
    "            print(e)\n",
    "            pass\n",
    "        #Skip unidentified category neurons\n",
    "        if FRmodCategory in ['ERROR','nan',np.nan]:\n",
    "            print(\"FRmodFail Skipping\")\n",
    "            continue\n",
    "        region = sessionfile.meta.region\n",
    "        EIL = EILphases[idx]\n",
    "        #Skip unidentified phase neurons\n",
    "        if EIL in ['ERROR','nan',np.nan]:\n",
    "            print(\"PhaseFail Skipping\")\n",
    "            continue\n",
    "           \n",
    "        try:\n",
    "            if not FRmodCategory == 'ERROR':\n",
    "                fig.savefig(os.path.join('C:\\\\Users\\\\4thgr\\\\Documents\\\\Rasters','HitMissRasters',FRmodCategory,EIL,'pdfs',ilep.generateDateString(sessionfile)+' '+str(clust)+'.pdf'),transparent=False,facecolor=\"white\",dpi=400, bbox_extra_artists=(artists), bbox_inches='tight')\n",
    "                fig.savefig(os.path.join('C:\\\\Users\\\\4thgr\\\\Documents\\\\Rasters','HitMissRasters',FRmodCategory,EIL,'pngs',ilep.generateDateString(sessionfile)+' '+str(clust)+'.png'),transparent=False,facecolor=\"white\",dpi=400, bbox_extra_artists=(artists), bbox_inches='tight')\n",
    "                fig.savefig(os.path.join('C:\\\\Users\\\\4thgr\\\\Documents\\\\Rasters','HitMissRasters',FRmodCategory,'pdfs',ilep.generateDateString(sessionfile)+' '+str(clust)+'.pdf'),transparent=False,facecolor=\"white\",dpi=400, bbox_extra_artists=(artists), bbox_inches='tight')\n",
    "                fig.savefig(os.path.join('C:\\\\Users\\\\4thgr\\\\Documents\\\\Rasters','HitMissRasters',FRmodCategory,'pngs',ilep.generateDateString(sessionfile)+' '+str(clust)+'.png'),transparent=False,facecolor=\"white\",dpi=400, bbox_extra_artists=(artists), bbox_inches='tight')\n",
    "            fig.savefig(os.path.join('C:\\\\Users\\\\4thgr\\\\Documents\\\\Rasters','HitMissRasters','pdfs',ilep.generateDateString(sessionfile)+' '+str(clust)+'.pdf'),transparent=False,facecolor=\"white\",dpi=400, bbox_extra_artists=(artists), bbox_inches='tight')\n",
    "            fig.savefig(os.path.join('C:\\\\Users\\\\4thgr\\\\Documents\\\\Rasters','HitMissRasters','pngs',ilep.generateDateString(sessionfile)+' '+str(clust)+'.png'),transparent=False,facecolor=\"white\",dpi=400, bbox_extra_artists=(artists), bbox_inches='tight')\n",
    "        except Exception as e:\n",
    "            print(e)\n",
    "\n",
    "    except:\n",
    "        print('fail')"
   ]
  },
  {
   "cell_type": "code",
   "execution_count": null,
   "id": "4334e8f5-48b0-4f1c-837a-d04ed02137e9",
   "metadata": {},
   "outputs": [],
   "source": []
  },
  {
   "cell_type": "code",
   "execution_count": null,
   "id": "50865103-ccb2-4e76-be0f-50cfe13cc295",
   "metadata": {},
   "outputs": [],
   "source": []
  },
  {
   "cell_type": "code",
   "execution_count": null,
   "id": "de231c33-a8f4-4cd5-8afa-d0839bcfcf5c",
   "metadata": {},
   "outputs": [],
   "source": []
  },
  {
   "cell_type": "code",
   "execution_count": null,
   "id": "b730eaa1-14d1-417e-82ad-0d5c726b7091",
   "metadata": {},
   "outputs": [],
   "source": []
  },
  {
   "cell_type": "code",
   "execution_count": null,
   "id": "b44a1de7-1d02-448d-b25a-4d0369414ef6",
   "metadata": {},
   "outputs": [],
   "source": []
  },
  {
   "cell_type": "code",
   "execution_count": null,
   "id": "bbd82732-8bb3-4fa1-a331-6ef05731cb7f",
   "metadata": {},
   "outputs": [],
   "source": []
  },
  {
   "cell_type": "code",
   "execution_count": null,
   "id": "39771ee7-e5b6-4c33-9088-1514af810342",
   "metadata": {},
   "outputs": [],
   "source": []
  },
  {
   "cell_type": "code",
   "execution_count": null,
   "id": "84f2614e-0034-4f07-8ee9-2995b4f2aabe",
   "metadata": {},
   "outputs": [],
   "source": []
  },
  {
   "cell_type": "code",
   "execution_count": null,
   "id": "0c15c21a-b18c-4ca7-a1ed-3bdfa6666156",
   "metadata": {},
   "outputs": [],
   "source": []
  },
  {
   "cell_type": "code",
   "execution_count": null,
   "id": "f44db002-cafb-4ebd-9404-0c93a2327478",
   "metadata": {},
   "outputs": [],
   "source": []
  },
  {
   "cell_type": "code",
   "execution_count": null,
   "id": "609bebe0-765f-4884-ab9f-5aabbba5dac5",
   "metadata": {},
   "outputs": [],
   "source": []
  },
  {
   "cell_type": "markdown",
   "id": "65a50ffb-cef3-4143-a58a-f4b611b8a545",
   "metadata": {},
   "source": [
    "## Stim Rasters - Pre-Switch"
   ]
  },
  {
   "cell_type": "code",
   "execution_count": null,
   "id": "ec9e002e-568b-4f82-9145-ccfb7b115ee3",
   "metadata": {},
   "outputs": [],
   "source": []
  },
  {
   "cell_type": "code",
   "execution_count": 94,
   "id": "0b683e57-ad70-459b-aef5-494607216544",
   "metadata": {
    "tags": []
   },
   "outputs": [
    {
     "name": "stderr",
     "output_type": "stream",
     "text": [
      "0it [00:00, ?it/s]"
     ]
    },
    {
     "name": "stdout",
     "output_type": "stream",
     "text": [
      "BS_108_3_AC.pickle clust 19\n",
      "BS_108_3_AC.pickle clust 19\n",
      "BS_108_3_AC.pickle clust 19\n",
      "BS_108_3_AC.pickle clust 19\n",
      "BS_108_3_AC.pickle clust 19 Done\n",
      "CR\n",
      "switch\n"
     ]
    },
    {
     "name": "stderr",
     "output_type": "stream",
     "text": [
      "11it [00:01,  8.36it/s]"
     ]
    },
    {
     "name": "stdout",
     "output_type": "stream",
     "text": [
      "BS_108_3_AC.pickle clust 44\n",
      "BS_108_3_AC.pickle clust 44\n",
      "BS_108_3_AC.pickle clust 44\n",
      "BS_108_3_AC.pickle clust 44\n",
      "BS_108_3_AC.pickle clust 44 Done\n",
      "Middle\n",
      "switch\n"
     ]
    },
    {
     "name": "stderr",
     "output_type": "stream",
     "text": [
      "13it [00:02,  4.12it/s]"
     ]
    },
    {
     "name": "stdout",
     "output_type": "stream",
     "text": [
      "BS_108_3_AC.pickle clust 131\n",
      "BS_108_3_AC.pickle clust 131\n",
      "BS_108_3_AC.pickle clust 131\n",
      "BS_108_3_AC.pickle clust 131\n",
      "BS_108_3_AC.pickle clust 131 Done\n",
      "CR\n",
      "switch\n"
     ]
    },
    {
     "name": "stderr",
     "output_type": "stream",
     "text": [
      "19it [00:16,  1.21s/it]"
     ]
    },
    {
     "name": "stdout",
     "output_type": "stream",
     "text": [
      "BS_40_14_AC.pickle clust 22\n",
      "BS_40_14_AC.pickle clust 22\n",
      "BS_40_14_AC.pickle clust 22\n",
      "BS_40_14_AC.pickle clust 22\n",
      "BS_40_14_AC.pickle clust 22 Done\n",
      "Middle\n",
      "switch\n"
     ]
    },
    {
     "name": "stderr",
     "output_type": "stream",
     "text": [
      "104it [00:17,  7.80it/s]"
     ]
    },
    {
     "name": "stdout",
     "output_type": "stream",
     "text": [
      "BS_41_1_AC.pickle clust 33\n",
      "BS_41_1_AC.pickle clust 33\n",
      "BS_41_1_AC.pickle clust 33\n",
      "BS_41_1_AC.pickle clust 33\n",
      "BS_41_1_AC.pickle clust 33 Done\n",
      "CR\n",
      "switch\n"
     ]
    },
    {
     "name": "stderr",
     "output_type": "stream",
     "text": [
      "1829it [00:18, 96.30it/s]\n"
     ]
    },
    {
     "data": {
      "image/png": "[encoded data removed]",
      "text/plain": [
       "<Figure size 525x600 with 2 Axes>"
      ]
     },
     "metadata": {
      "needs_background": "light"
     },
     "output_type": "display_data"
    }
   ],
   "source": [
    "for idx,(session,clust) in tqdm(enumerate(zip(EnumSession,EnumClust))):\n",
    "    \n",
    "    limitToUse = 20\n",
    "    skip = True\n",
    "    if session == 'BS_40_14_AC.pickle' and clust in [22]:\n",
    "        skip = False\n",
    "    if session == 'BS_41_1_AC.pickle' and clust in [33]:\n",
    "        skip = False\n",
    "    if session == 'BS_108_3_AC.pickle' and clust in [44]:\n",
    "        skip = False\n",
    "    if session == 'BS_108_3_AC.pickle' and clust in [131]:\n",
    "        skip = False\n",
    "    if session == 'BS_108_3_AC.pickle' and clust in [19]:\n",
    "        limitToUse = 40\n",
    "        skip = False\n",
    "    if skip:\n",
    "        continue\n",
    "        \n",
    "    print(f\"{session} clust {clust}\")\n",
    "    \n",
    "    plt.close('all')\n",
    "    sessionfile = ilep.loadSessionCached(act_directory,session)\n",
    "    if not sessionfile.meta.task == 'switch':\n",
    "        continue\n",
    "        \n",
    "    print(f\"{session} clust {clust}\")\n",
    "    \n",
    "#     fig = plt.figure(figsize=(2.75,4.5))\n",
    "    fig = plt.figure(figsize=(3.5,4))\n",
    "    gs = fig.add_gridspec(2,1,height_ratios=[1.75,1],hspace=0.25)#,wspace=0.5)#0.1)\n",
    "    \n",
    "    ax4 = plt.subplot(gs[0,0],sharex=ax3)#PSTH\n",
    "    ax3 = plt.subplot(gs[1,0])#Raster\n",
    "    ax3.set_facecolor('#F2F2F2')\n",
    "    \n",
    "    print(f\"{session} clust {clust}\")\n",
    "    \n",
    "    #visualizeClusterChoiceInternal(sessionfile,clust,ax1,ax2,Figure_start_time_ms='-250',Figure_end_time_ms=1000,xtickstouse=[-250,0,250,500,750,1000],align_to_choice=False,switch_cond='NA'):\n",
    "    fst=-200\n",
    "    fet=400\n",
    "    xt=[-200,0,200,400]\n",
    "    xtl=None#['-200','0','+200','+400']\n",
    "    success,artists = visualizeClusterChoiceInternal(sessionfile,clust,ax3,ax4,switch_cond='pre_switch',limitToUse=limitToUse,Figure_start_time_ms=fst,Figure_end_time_ms=fet,xtickstouse=xt,xticklabelstouse=xtl)\n",
    "    if not success:\n",
    "        continue\n",
    "        \n",
    "    print(f\"{session} clust {clust}\")\n",
    "    \n",
    "    #Determine FRmod category\n",
    "    FRmodCategory = 'ERROR'\n",
    "    try:\n",
    "        FRmod = sessionfile.responsiveness[clust]['pre_switch'].FRmodulation\n",
    "        if FRmod < 1:\n",
    "            FRmodCategory = 'NCR'\n",
    "        elif FRmod > 4.5:\n",
    "            FRmodCategory = 'CR'\n",
    "        else:\n",
    "            FRmodCategory = 'Middle'\n",
    "    except Exception as e:\n",
    "        print(e)\n",
    "        pass\n",
    "    #Skip unidentified category neurons\n",
    "    if FRmodCategory in ['ERROR','nan',np.nan]:\n",
    "        continue\n",
    "    region = sessionfile.meta.region\n",
    "    EIL = EILphases[idx]\n",
    "    #Skip unidentified phase neurons\n",
    "    if EIL in ['ERROR','nan',np.nan]:\n",
    "        continue\n",
    "        \n",
    "#     break\n",
    "    print(f\"{session} clust {clust} Done\")\n",
    "    print(FRmodCategory)\n",
    "    print(EIL)\n",
    "    try:\n",
    "        if not FRmodCategory == 'ERROR':\n",
    "            fig.savefig(os.path.join('D:\\\\\\\\Rasters','Fig2StimRastersSubset',FRmodCategory,EIL,'pdfs',ilep.generateDateString(sessionfile)+' '+str(clust)+' pre.pdf'),transparent=False,facecolor=\"white\",dpi=400, bbox_extra_artists=(artists), bbox_inches='tight')\n",
    "            fig.savefig(os.path.join('D:\\\\\\\\Rasters','Fig2StimRastersSubset',FRmodCategory,EIL,'pngs',ilep.generateDateString(sessionfile)+' '+str(clust)+' pre.png'),transparent=False,facecolor=\"white\",dpi=400, bbox_extra_artists=(artists), bbox_inches='tight')\n",
    "            fig.savefig(os.path.join('D:\\\\\\\\Rasters','Fig2StimRastersSubset',FRmodCategory,'pdfs',ilep.generateDateString(sessionfile)+' '+str(clust)+' pre.pdf'),transparent=False,facecolor=\"white\",dpi=400, bbox_extra_artists=(artists), bbox_inches='tight')\n",
    "            fig.savefig(os.path.join('D:\\\\\\\\Rasters','Fig2StimRastersSubset',FRmodCategory,'pngs',ilep.generateDateString(sessionfile)+' '+str(clust)+' pre.png'),transparent=False,facecolor=\"white\",dpi=400, bbox_extra_artists=(artists), bbox_inches='tight')\n",
    "        fig.savefig(os.path.join('D:\\\\\\\\Rasters','Fig2StimRastersSubset','pdfs',ilep.generateDateString(sessionfile)+' '+str(clust)+' pre.pdf'),transparent=False,facecolor=\"white\",dpi=400, bbox_extra_artists=(artists), bbox_inches='tight')\n",
    "        fig.savefig(os.path.join('D:\\\\\\\\Rasters','Fig2StimRastersSubset','pngs',ilep.generateDateString(sessionfile)+' '+str(clust)+' pre.png'),transparent=False,facecolor=\"white\",dpi=400, bbox_extra_artists=(artists), bbox_inches='tight')\n",
    "    except Exception as e:\n",
    "        print(e)"
   ]
  },
  {
   "cell_type": "markdown",
   "id": "29cf5659-2fea-48f4-b50d-272595ed5f7c",
   "metadata": {},
   "source": [
    "## Stim Rasters - Post-Switch"
   ]
  },
  {
   "cell_type": "code",
   "execution_count": 95,
   "id": "64aafcac-13aa-4ceb-a41e-1181dd64519e",
   "metadata": {
    "tags": []
   },
   "outputs": [
    {
     "name": "stderr",
     "output_type": "stream",
     "text": [
      "0it [00:00, ?it/s]"
     ]
    },
    {
     "name": "stdout",
     "output_type": "stream",
     "text": [
      "BS_108_3_AC.pickle clust 19\n"
     ]
    },
    {
     "name": "stderr",
     "output_type": "stream",
     "text": [
      "11it [00:01, 10.04it/s]"
     ]
    },
    {
     "name": "stdout",
     "output_type": "stream",
     "text": [
      "BS_108_3_AC.pickle clust 44\n"
     ]
    },
    {
     "name": "stderr",
     "output_type": "stream",
     "text": [
      "13it [00:02,  5.02it/s]"
     ]
    },
    {
     "name": "stdout",
     "output_type": "stream",
     "text": [
      "BS_108_3_AC.pickle clust 131\n"
     ]
    },
    {
     "name": "stderr",
     "output_type": "stream",
     "text": [
      "19it [00:03,  5.06it/s]"
     ]
    },
    {
     "name": "stdout",
     "output_type": "stream",
     "text": [
      "BS_40_14_AC.pickle clust 22\n"
     ]
    },
    {
     "name": "stderr",
     "output_type": "stream",
     "text": [
      "104it [00:04, 31.15it/s]"
     ]
    },
    {
     "name": "stdout",
     "output_type": "stream",
     "text": [
      "BS_41_1_AC.pickle clust 33\n"
     ]
    },
    {
     "name": "stderr",
     "output_type": "stream",
     "text": [
      "1829it [00:05, 313.49it/s]\n"
     ]
    },
    {
     "data": {
      "image/png": "[encoded data removed]",
      "text/plain": [
       "<Figure size 525x600 with 2 Axes>"
      ]
     },
     "metadata": {
      "needs_background": "light"
     },
     "output_type": "display_data"
    }
   ],
   "source": [
    "for idx,(session,clust) in tqdm(enumerate(zip(EnumSession,EnumClust))):\n",
    "    \n",
    "    limitToUse = 20\n",
    "    skip = True\n",
    "    if session == 'BS_40_14_AC.pickle' and clust in [22]:\n",
    "        skip = False\n",
    "    if session == 'BS_41_1_AC.pickle' and clust in [33]:\n",
    "        skip = False\n",
    "    if session == 'BS_108_3_AC.pickle' and clust in [44]:\n",
    "        skip = False\n",
    "    if session == 'BS_108_3_AC.pickle' and clust in [131]:\n",
    "        skip = False\n",
    "    if session == 'BS_108_3_AC.pickle' and clust in [19]:\n",
    "        limitToUse = 40\n",
    "        skip = False\n",
    "    if skip:\n",
    "        continue\n",
    "    \n",
    "    plt.close('all')\n",
    "    sessionfile = ilep.loadSessionCached(act_directory,session)\n",
    "    if not sessionfile.meta.task == 'switch':\n",
    "        continue\n",
    "    \n",
    "#     fig = plt.figure(figsize=(2.75,4.5))\n",
    "    fig = plt.figure(figsize=(3.5,4))\n",
    "    gs = fig.add_gridspec(2,1,height_ratios=[1.75,1],hspace=0.25)\n",
    "    \n",
    "    ax4 = plt.subplot(gs[0,0],sharex=ax3)#PSTH\n",
    "    ax3 = plt.subplot(gs[1,0])#Raster\n",
    "    ax3.set_facecolor('#F2F2F2')\n",
    "    \n",
    "    #visualizeClusterChoiceInternal(sessionfile,clust,ax1,ax2,Figure_start_time_ms='-250',Figure_end_time_ms=1000,xtickstouse=[-250,0,250,500,750,1000],align_to_choice=False,switch_cond='NA'):\n",
    "    fst=-200\n",
    "    fet=400\n",
    "    xt=[-200,0,200,400]\n",
    "    xtl=None#['-200','0','200','400']\n",
    "    success,artists = visualizeClusterChoiceInternal(sessionfile,clust,ax3,ax4,switch_cond='post_switch',limitToUse=limitToUse,Figure_start_time_ms=fst,Figure_end_time_ms=fet,xtickstouse=xt,xticklabelstouse=xtl)\n",
    "    if not success:\n",
    "        continue\n",
    "    \n",
    "    #Determine FRmod category\n",
    "    FRmodCategory = 'ERROR'\n",
    "    try:\n",
    "        FRmod = sessionfile.responsiveness[clust]['post_switch'].FRmodulation\n",
    "        if FRmod < 1:\n",
    "            FRmodCategory = 'NCR'\n",
    "        elif FRmod > 4.5:\n",
    "            FRmodCategory = 'CR'\n",
    "        else:\n",
    "            FRmodCategory = 'Middle'\n",
    "    except Exception as e:\n",
    "        print(e)\n",
    "        pass\n",
    "    #Skip unidentified category neurons\n",
    "    if FRmodCategory in ['ERROR','nan',np.nan]:\n",
    "        continue\n",
    "    region = sessionfile.meta.region\n",
    "    EIL = EILphases[idx]\n",
    "    #Skip unidentified phase neurons\n",
    "    if EIL in ['ERROR','nan',np.nan]:\n",
    "        continue\n",
    "        \n",
    "#     break\n",
    "    print(f\"{session} clust {clust}\")\n",
    "    try:\n",
    "        if not FRmodCategory == 'ERROR':\n",
    "            fig.savefig(os.path.join('D:\\\\\\\\Rasters','Fig2StimRastersSubset',FRmodCategory,EIL,'pdfs',ilep.generateDateString(sessionfile)+' '+str(clust)+' post.pdf'),transparent=False,facecolor=\"white\",dpi=400, bbox_extra_artists=(artists), bbox_inches='tight')\n",
    "            fig.savefig(os.path.join('D:\\\\\\\\Rasters','Fig2StimRastersSubset',FRmodCategory,EIL,'pngs',ilep.generateDateString(sessionfile)+' '+str(clust)+' post.png'),transparent=False,facecolor=\"white\",dpi=400, bbox_extra_artists=(artists), bbox_inches='tight')\n",
    "            fig.savefig(os.path.join('D:\\\\\\\\Rasters','Fig2StimRastersSubset',FRmodCategory,'pdfs',ilep.generateDateString(sessionfile)+' '+str(clust)+' post.pdf'),transparent=False,facecolor=\"white\",dpi=400, bbox_extra_artists=(artists), bbox_inches='tight')\n",
    "            fig.savefig(os.path.join('D:\\\\\\\\Rasters','Fig2StimRastersSubset',FRmodCategory,'pngs',ilep.generateDateString(sessionfile)+' '+str(clust)+' post.png'),transparent=False,facecolor=\"white\",dpi=400, bbox_extra_artists=(artists), bbox_inches='tight')\n",
    "        fig.savefig(os.path.join('D:\\\\\\\\Rasters','Fig2StimRastersSubset','pdfs',ilep.generateDateString(sessionfile)+' '+str(clust)+' post.pdf'),transparent=False,facecolor=\"white\",dpi=400, bbox_extra_artists=(artists), bbox_inches='tight')\n",
    "        fig.savefig(os.path.join('D:\\\\\\\\Rasters','Fig2StimRastersSubset','pngs',ilep.generateDateString(sessionfile)+' '+str(clust)+' post.png'),transparent=False,facecolor=\"white\",dpi=400, bbox_extra_artists=(artists), bbox_inches='tight')\n",
    "    except Exception as e:\n",
    "        print(e)"
   ]
  },
  {
   "cell_type": "code",
   "execution_count": null,
   "id": "74f33711-286d-45ac-b178-c2dd8f5d2aef",
   "metadata": {},
   "outputs": [],
   "source": []
  },
  {
   "cell_type": "code",
   "execution_count": null,
   "id": "43ee921e-f4cc-4b4f-8271-2a1069b645a0",
   "metadata": {},
   "outputs": [],
   "source": []
  },
  {
   "cell_type": "code",
   "execution_count": null,
   "id": "f43ead66-31c9-4d85-9f85-f99877b7eab0",
   "metadata": {},
   "outputs": [],
   "source": []
  },
  {
   "cell_type": "markdown",
   "id": "19caca0b-639d-476d-8cbf-eb6c08fb19f9",
   "metadata": {},
   "source": [
    "# Choice Rasters"
   ]
  },
  {
   "cell_type": "code",
   "execution_count": 99,
   "id": "0101f9d4-ef8f-4dc5-95b8-4e8b52048543",
   "metadata": {
    "tags": []
   },
   "outputs": [
    {
     "name": "stderr",
     "output_type": "stream",
     "text": [
      "1829it [00:38, 47.39it/s] \n"
     ]
    },
    {
     "data": {
      "image/png": "[encoded data removed]",
      "text/plain": [
       "<Figure size 600x525 with 2 Axes>"
      ]
     },
     "metadata": {
      "needs_background": "light"
     },
     "output_type": "display_data"
    }
   ],
   "source": [
    "for idx,(session,clust) in tqdm(enumerate(zip(EnumSession,EnumClust))):\n",
    "\n",
    "    limitToUse = 20\n",
    "    skip = True\n",
    "    if session == 'BS_40_2_AC.pickle' and clust in [96,166,194,206,213]:\n",
    "        if clust == 194:\n",
    "            limitToUse = 40\n",
    "        if clust == 96:\n",
    "            limitToUse = 40\n",
    "        if clust == 206:\n",
    "            limitToUse = 40\n",
    "        skip = False\n",
    "    if session == 'BS_40_12_AC.pickle' and clust in [57]:\n",
    "        limitToUse=30\n",
    "        skip = False\n",
    "    if session == 'BS_40_22_AC.pickle' and clust in [13]:\n",
    "        skip = False\n",
    "    if session == 'BS_41_9_AC.pickle' and clust in [37]:\n",
    "        skip = False\n",
    "    if session == 'BS_42_2_AC.pickle' and clust in [118]:\n",
    "        skip = False\n",
    "    if session == 'BS_42_4_AC.pickle' and clust in [65]:\n",
    "        skip = False\n",
    "    if session == 'BS_42_6_AC.pickle' and clust in [51]:\n",
    "        limitToUse = 50\n",
    "        skip = False\n",
    "    if session == 'BS_42_9_AC.pickle' and clust in [32]:\n",
    "        skip = False\n",
    "    if session == 'BS_49_1_AC.pickle' and clust in [82,150]:\n",
    "        skip = False\n",
    "    if session == 'BS_49_9_AC.pickle' and clust in [61]:\n",
    "        skip = False\n",
    "    if session == 'BS_49_12_AC.pickle' and clust in [39]:\n",
    "        skip = False\n",
    "    if session == 'BS_50_2_AC.pickle' and clust in [14]:\n",
    "        limitToUse = 40\n",
    "        skip = False\n",
    "    if session == 'BS_50_3_AC.pickle' and clust in [3]:\n",
    "        limitToUse = 40\n",
    "        skip = False\n",
    "    if session == 'BS_50_3_AC.pickle' and clust in [16]:\n",
    "        skip = False\n",
    "    if session == 'BS_56_4_AC.pickle' and clust in [6]:\n",
    "        skip = False\n",
    "    if session == 'BS_50_7_AC.pickle' and clust in [5]:\n",
    "        skip = False\n",
    "    if session == 'BS_70_8_AC.pickle' and clust in [3]:\n",
    "        skip = False\n",
    "    if session == 'BS_72_1_AC.pickle' and clust in [24,30]:\n",
    "        skip = False\n",
    "    if session == 'BS_72_2_AC.pickle' and clust in [7,17]:\n",
    "        if clust == 7:\n",
    "            limitToUse = 30\n",
    "        skip = False\n",
    "    if session == 'BS_72_4_AC.pickle' and clust in [7,43]:\n",
    "        skip = False\n",
    "    if session == 'BS_72_5_AC.pickle' and clust in [22]:\n",
    "        limitToUse = 50\n",
    "        skip = False\n",
    "    if session == 'BS_72_6_AC.pickle' and clust in [23]:\n",
    "        skip = False\n",
    "    if session == 'BS_87_4_AC.pickle' and clust in [154]:\n",
    "        skip = False\n",
    "    if session == 'BS_87_8_AC.pickle' and clust in [1]:\n",
    "        skip = False\n",
    "    if session == 'BS_108_1_AC.pickle' and clust in [9]:\n",
    "        limitToUse=30\n",
    "        skip = False\n",
    "    if session == 'BS_108_6_AC.pickle' and clust in [126]:\n",
    "        skip = False\n",
    "    if session == 'DS_15_12_AC.pickle' and clust in [48]:\n",
    "        limitToUse = 50\n",
    "        skip = False\n",
    "    if session == 'DS_15_13_AC.pickle' and clust in [84,113]:\n",
    "        skip = False\n",
    "    if session == 'DS_15_14_AC.pickle' and clust in [54]:\n",
    "        skip = False\n",
    "    if session == 'DS_19_3_AC.pickle' and clust in [115]:\n",
    "        skip = False\n",
    "    if skip:\n",
    "        continue\n",
    "    \n",
    "    plt.close('all')\n",
    "    sessionfile = ilep.loadSessionCached(act_directory,session)\n",
    "    if sessionfile.meta.task == 'switch':\n",
    "        continue\n",
    "    \n",
    "    fig = plt.figure(figsize=(4,3.5))\n",
    "    gs = fig.add_gridspec(2,1,height_ratios=[1.75,1],hspace=0.25)\n",
    "    \n",
    "    ax4 = plt.subplot(gs[0,0],sharex=ax3)#PSTH\n",
    "    ax3 = plt.subplot(gs[1,0])#Raster\n",
    "    ax3.set_facecolor('#F2F2F2')\n",
    "    \n",
    "    #visualizeClusterChoiceInternal(sessionfile,clust,ax1,ax2,Figure_start_time_ms='-250',Figure_end_time_ms=1000,xtickstouse=[-250,0,250,500,750,1000],align_to_choice=False,switch_cond='NA'):\n",
    "    \n",
    "    fst=-400\n",
    "    fet=200\n",
    "    xt=[-400,-200,0,200]\n",
    "    xtl=None#['-400','-200','0','+200']\n",
    "    try:\n",
    "        success,artists = visualizeClusterChoiceInternal(sessionfile,clust,ax3,ax4,align_to_choice=True,limitToUse=limitToUse,Figure_start_time_ms=fst,Figure_end_time_ms=fet,xtickstouse=xt,xticklabelstouse=xtl)\n",
    "    except Exception as e:\n",
    "        print(e)\n",
    "        success = False\n",
    "    if not success:\n",
    "        continue\n",
    "    \n",
    "    #Determine FRmod category\n",
    "    FRmodCategory = 'ERROR'\n",
    "    try:\n",
    "        FRmod = sessionfile.responsiveness[clust]['go'].FRmodulation_choice\n",
    "        if FRmod < 0.8:\n",
    "            FRmodCategory = 'NCR'\n",
    "        elif FRmod > 4:\n",
    "            FRmodCategory = 'CR'\n",
    "        else:\n",
    "            FRmodCategory = 'Middle'\n",
    "    except Exception as e:\n",
    "        print(e)\n",
    "        pass\n",
    "    #Skip unidentified category neurons\n",
    "    if FRmodCategory in ['ERROR','nan',np.nan]:\n",
    "        continue\n",
    "    region = sessionfile.meta.region\n",
    "    EIL = EILphases[idx]\n",
    "    #Skip unidentified phase neurons\n",
    "    if EIL in ['ERROR','nan',np.nan]:\n",
    "        continue\n",
    "        \n",
    "    try:\n",
    "        if not FRmodCategory == 'ERROR':\n",
    "            fig.savefig(os.path.join('D:\\\\\\\\Rasters','EDF2ChoiceRastersSubset',FRmodCategory,EIL,'pdfs',ilep.generateDateString(sessionfile)+' '+str(clust)+'.pdf'),transparent=False,facecolor=\"white\",dpi=400, bbox_extra_artists=(artists), bbox_inches='tight')\n",
    "            fig.savefig(os.path.join('D:\\\\\\\\Rasters','EDF2ChoiceRastersSubset',FRmodCategory,EIL,'pngs',ilep.generateDateString(sessionfile)+' '+str(clust)+'.png'),transparent=False,facecolor=\"white\",dpi=400, bbox_extra_artists=(artists), bbox_inches='tight')\n",
    "            fig.savefig(os.path.join('D:\\\\\\\\Rasters','EDF2ChoiceRastersSubset',FRmodCategory,'pdfs',ilep.generateDateString(sessionfile)+' '+str(clust)+'.pdf'),transparent=False,facecolor=\"white\",dpi=400, bbox_extra_artists=(artists), bbox_inches='tight')\n",
    "            fig.savefig(os.path.join('D:\\\\\\\\Rasters','EDF2ChoiceRastersSubset',FRmodCategory,'pngs',ilep.generateDateString(sessionfile)+' '+str(clust)+'.png'),transparent=False,facecolor=\"white\",dpi=400, bbox_extra_artists=(artists), bbox_inches='tight')\n",
    "        fig.savefig(os.path.join('D:\\\\\\\\Rasters','EDF2ChoiceRastersSubset','pdfs',ilep.generateDateString(sessionfile)+' '+str(clust)+'.pdf'),transparent=False,facecolor=\"white\",dpi=400, bbox_extra_artists=(artists), bbox_inches='tight')\n",
    "        fig.savefig(os.path.join('D:\\\\\\\\Rasters','EDF2ChoiceRastersSubset','pngs',ilep.generateDateString(sessionfile)+' '+str(clust)+'.png'),transparent=False,facecolor=\"white\",dpi=400, bbox_extra_artists=(artists), bbox_inches='tight')\n",
    "    except Exception as e:\n",
    "        print(e)"
   ]
  },
  {
   "cell_type": "markdown",
   "id": "a35e8ed3-9aa0-4281-9c08-3268b5a9856f",
   "metadata": {},
   "source": [
    "## Choice Rasters - Pre-Switch"
   ]
  },
  {
   "cell_type": "code",
   "execution_count": null,
   "id": "192eecb8-6ee3-4311-b820-ca5454388ee4",
   "metadata": {},
   "outputs": [],
   "source": [
    "for idx,(session,clust) in tqdm(enumerate(zip(EnumSession,EnumClust))):\n",
    "    \n",
    "    plt.close('all')\n",
    "    sessionfile = ilep.loadSessionCached(act_directory,session)\n",
    "    if not sessionfile.meta.task == 'switch':\n",
    "        continue\n",
    "    \n",
    "#     fig = plt.figure(figsize=(3,6))\n",
    "    fig = plt.figure(figsize=(2.75,4.5))\n",
    "    gs = fig.add_gridspec(2,1,height_ratios=[2,1],hspace=0.125)#,wspace=0.5)#0.1)\n",
    "    ax3 = plt.subplot(gs[0,0])#Raster\n",
    "    ax4 = plt.subplot(gs[1,0],sharex=ax3)#PSTH\n",
    "    \n",
    "    #visualizeClusterChoiceInternal(sessionfile,clust,ax1,ax2,Figure_start_time_ms='-250',Figure_end_time_ms=1000,xtickstouse=[-250,0,250,500,750,1000],align_to_choice=False,switch_cond='NA'):\n",
    "    success,artists = visualizeClusterChoiceInternal(sessionfile,clust,ax3,ax4,Figure_start_time_ms=-750,Figure_end_time_ms=250,xtickstouse=[-1.0,-0.5,0],align_to_choice=True,switch_cond='pre_switch')\n",
    "    if not success:\n",
    "        continue\n",
    "    \n",
    "    #Determine FRmod category\n",
    "    FRmodCategory = 'ERROR'\n",
    "    try:\n",
    "        FRmod = sessionfile.responsiveness[clust]['go'].FRmodulation_choice\n",
    "        if FRmod < 0.8:\n",
    "            FRmodCategory = 'NCR'\n",
    "        elif FRmod > 4:\n",
    "            FRmodCategory = 'CR'\n",
    "        else:\n",
    "            FRmodCategory = 'Middle'\n",
    "    except Exception as e:\n",
    "        print(e)\n",
    "        pass\n",
    "    #Skip unidentified category neurons\n",
    "    if FRmodCategory in ['ERROR','nan',np.nan]:\n",
    "        continue\n",
    "    region = sessionfile.meta.region\n",
    "    EIL = EILphases[idx]\n",
    "    #Skip unidentified phase neurons\n",
    "    if EIL in ['ERROR','nan',np.nan]:\n",
    "        continue\n",
    "        \n",
    "#     break\n",
    "    try:\n",
    "        if not FRmodCategory == 'ERROR':\n",
    "            fig.savefig(os.path.join('D:\\\\\\\\TempFigures','EDF2ChoiceRasters',FRmodCategory,EIL,'pdfs',ilep.generateDateString(sessionfile)+' '+str(clust)+' pre.pdf'),transparent=False,facecolor=\"white\",dpi=400, bbox_extra_artists=(artists), bbox_inches='tight')\n",
    "            fig.savefig(os.path.join('D:\\\\\\\\TempFigures','EDF2ChoiceRasters',FRmodCategory,EIL,'pngs',ilep.generateDateString(sessionfile)+' '+str(clust)+' pre.png'),transparent=False,facecolor=\"white\",dpi=400, bbox_extra_artists=(artists), bbox_inches='tight')\n",
    "            fig.savefig(os.path.join('D:\\\\\\\\TempFigures','EDF2ChoiceRasters',FRmodCategory,'pdfs',ilep.generateDateString(sessionfile)+' '+str(clust)+' pre.pdf'),transparent=False,facecolor=\"white\",dpi=400, bbox_extra_artists=(artists), bbox_inches='tight')\n",
    "            fig.savefig(os.path.join('D:\\\\\\\\TempFigures','EDF2ChoiceRasters',FRmodCategory,'pngs',ilep.generateDateString(sessionfile)+' '+str(clust)+' pre.png'),transparent=False,facecolor=\"white\",dpi=400, bbox_extra_artists=(artists), bbox_inches='tight')\n",
    "        fig.savefig(os.path.join('D:\\\\\\\\TempFigures','EDF2ChoiceRasters','pdfs',ilep.generateDateString(sessionfile)+' '+str(clust)+' pre.pdf'),transparent=False,facecolor=\"white\",dpi=400, bbox_extra_artists=(artists), bbox_inches='tight')\n",
    "        fig.savefig(os.path.join('D:\\\\\\\\TempFigures','EDF2ChoiceRasters','pngs',ilep.generateDateString(sessionfile)+' '+str(clust)+' pre.png'),transparent=False,facecolor=\"white\",dpi=400, bbox_extra_artists=(artists), bbox_inches='tight')\n",
    "    except Exception as e:\n",
    "        print(e)"
   ]
  },
  {
   "cell_type": "markdown",
   "id": "e78c64aa-39a9-44d2-a9aa-8953e5a2c1ba",
   "metadata": {},
   "source": [
    "## Choice Rasters - Post-Switch"
   ]
  },
  {
   "cell_type": "code",
   "execution_count": null,
   "id": "32ac3e4c-4dc1-4813-8323-c3cc879e3921",
   "metadata": {},
   "outputs": [],
   "source": [
    "for idx,(session,clust) in tqdm(enumerate(zip(EnumSession,EnumClust))):\n",
    "\n",
    "    \n",
    "    plt.close('all')\n",
    "    sessionfile = ilep.loadSessionCached(act_directory,session)\n",
    "    if not sessionfile.meta.task == 'switch':\n",
    "        continue\n",
    "    \n",
    "#     fig = plt.figure(figsize=(3,6))\n",
    "    fig = plt.figure(figsize=(2.75,4.5))\n",
    "    gs = fig.add_gridspec(2,1,height_ratios=[2,1],hspace=0.125)#,wspace=0.5)#0.1)\n",
    "    ax3 = plt.subplot(gs[0,0])#Raster\n",
    "    ax4 = plt.subplot(gs[1,0],sharex=ax3)#PSTH\n",
    "    \n",
    "    #visualizeClusterChoiceInternal(sessionfile,clust,ax1,ax2,Figure_start_time_ms='-250',Figure_end_time_ms=1000,xtickstouse=[-250,0,250,500,750,1000],align_to_choice=False,switch_cond='NA'):\n",
    "    success,artists = visualizeClusterChoiceInternal(sessionfile,clust,ax3,ax4,Figure_start_time_ms=-750,Figure_end_time_ms=250,xtickstouse=[-1.0,-0.5,0],align_to_choice=True,switch_cond='post_switch')\n",
    "    if not success:\n",
    "        continue\n",
    "    \n",
    "    #Determine FRmod category\n",
    "    FRmodCategory = 'ERROR'\n",
    "    try:\n",
    "        FRmod = sessionfile.responsiveness[clust]['go'].FRmodulation_choice\n",
    "        if FRmod < 0.8:\n",
    "            FRmodCategory = 'NCR'\n",
    "        elif FRmod > 4:\n",
    "            FRmodCategory = 'CR'\n",
    "        else:\n",
    "            FRmodCategory = 'Middle'\n",
    "    except Exception as e:\n",
    "        print(e)\n",
    "        pass\n",
    "    #Skip unidentified category neurons\n",
    "    if FRmodCategory in ['ERROR','nan',np.nan]:\n",
    "        continue\n",
    "    region = sessionfile.meta.region\n",
    "    EIL = EILphases[idx]\n",
    "    #Skip unidentified phase neurons\n",
    "    if EIL in ['ERROR','nan',np.nan]:\n",
    "        continue\n",
    "        \n",
    "#     break\n",
    "    try:\n",
    "        if not FRmodCategory == 'ERROR':\n",
    "            fig.savefig(os.path.join('D:\\\\\\\\TempFigures','EDF2ChoiceRasters',FRmodCategory,EIL,'pdfs',ilep.generateDateString(sessionfile)+' '+str(clust)+' post.pdf'),transparent=False,facecolor=\"white\",dpi=400, bbox_extra_artists=(artists), bbox_inches='tight')\n",
    "            fig.savefig(os.path.join('D:\\\\\\\\TempFigures','EDF2ChoiceRasters',FRmodCategory,EIL,'pngs',ilep.generateDateString(sessionfile)+' '+str(clust)+' post.png'),transparent=False,facecolor=\"white\",dpi=400, bbox_extra_artists=(artists), bbox_inches='tight')\n",
    "            fig.savefig(os.path.join('D:\\\\\\\\TempFigures','EDF2ChoiceRasters',FRmodCategory,'pdfs',ilep.generateDateString(sessionfile)+' '+str(clust)+' post.pdf'),transparent=False,facecolor=\"white\",dpi=400, bbox_extra_artists=(artists), bbox_inches='tight')\n",
    "            fig.savefig(os.path.join('D:\\\\\\\\TempFigures','EDF2ChoiceRasters',FRmodCategory,'pngs',ilep.generateDateString(sessionfile)+' '+str(clust)+' post.png'),transparent=False,facecolor=\"white\",dpi=400, bbox_extra_artists=(artists), bbox_inches='tight')\n",
    "        fig.savefig(os.path.join('D:\\\\\\\\TempFigures','EDF2ChoiceRasters','pdfs',ilep.generateDateString(sessionfile)+' '+str(clust)+' post.pdf'),transparent=False,facecolor=\"white\",dpi=400, bbox_extra_artists=(artists), bbox_inches='tight')\n",
    "        fig.savefig(os.path.join('D:\\\\\\\\TempFigures','EDF2ChoiceRasters','pngs',ilep.generateDateString(sessionfile)+' '+str(clust)+' post.png'),transparent=False,facecolor=\"white\",dpi=400, bbox_extra_artists=(artists), bbox_inches='tight')\n",
    "    except Exception as e:\n",
    "        print(e)"
   ]
  },
  {
   "cell_type": "code",
   "execution_count": null,
   "id": "3217f95e-fc42-4f37-a282-70d680f43094",
   "metadata": {},
   "outputs": [],
   "source": []
  },
  {
   "cell_type": "code",
   "execution_count": null,
   "id": "40140cf9-00e0-4322-9923-738cca9123f4",
   "metadata": {},
   "outputs": [],
   "source": []
  },
  {
   "cell_type": "code",
   "execution_count": null,
   "id": "09639795-e5b6-448a-84f6-685210acb1bb",
   "metadata": {},
   "outputs": [],
   "source": []
  },
  {
   "cell_type": "code",
   "execution_count": null,
   "id": "06059096-3627-4733-8dfe-32d24659020b",
   "metadata": {},
   "outputs": [],
   "source": []
  },
  {
   "cell_type": "code",
   "execution_count": null,
   "id": "4bfa919d-c586-4c82-bd92-305167ceca5e",
   "metadata": {},
   "outputs": [],
   "source": []
  },
  {
   "cell_type": "code",
   "execution_count": null,
   "id": "75424716-aad7-4302-b964-85c91cedc62c",
   "metadata": {},
   "outputs": [],
   "source": []
  },
  {
   "cell_type": "code",
   "execution_count": null,
   "id": "23715410-0614-4c55-a6d8-4333431050a3",
   "metadata": {},
   "outputs": [],
   "source": []
  },
  {
   "cell_type": "code",
   "execution_count": null,
   "id": "da1b39ba-1776-4165-a082-1f013ca61d40",
   "metadata": {},
   "outputs": [],
   "source": []
  },
  {
   "cell_type": "code",
   "execution_count": null,
   "id": "7443440a-9c35-4eff-89e7-e903300c5ba5",
   "metadata": {},
   "outputs": [],
   "source": []
  },
  {
   "cell_type": "code",
   "execution_count": null,
   "id": "32e6be55-4a17-48b8-993c-1dda80927f58",
   "metadata": {},
   "outputs": [],
   "source": []
  },
  {
   "cell_type": "code",
   "execution_count": null,
   "id": "9e85d50e-1500-4bbc-adb2-934c06051fc5",
   "metadata": {},
   "outputs": [],
   "source": []
  },
  {
   "cell_type": "code",
   "execution_count": null,
   "id": "9e4ded2b-8b4b-41fa-ba9c-4163fb19d808",
   "metadata": {},
   "outputs": [],
   "source": []
  },
  {
   "cell_type": "code",
   "execution_count": null,
   "id": "330d2904-1d65-4de5-a880-f7a33e5c442d",
   "metadata": {},
   "outputs": [],
   "source": []
  },
  {
   "cell_type": "code",
   "execution_count": null,
   "id": "354dd237-b53b-4d8e-bf63-65db912a267b",
   "metadata": {},
   "outputs": [],
   "source": []
  },
  {
   "cell_type": "code",
   "execution_count": null,
   "id": "632a9018-a891-44a1-b550-838977e65a82",
   "metadata": {},
   "outputs": [],
   "source": []
  },
  {
   "cell_type": "code",
   "execution_count": null,
   "id": "866c875f-52b4-440f-8152-59be13731443",
   "metadata": {},
   "outputs": [],
   "source": []
  },
  {
   "cell_type": "code",
   "execution_count": null,
   "id": "7e0a9e56-047e-4169-a951-43bae9f6cc26",
   "metadata": {},
   "outputs": [],
   "source": []
  },
  {
   "cell_type": "code",
   "execution_count": null,
   "id": "04c3fd2d-90bf-405c-9929-7ad8b975f072",
   "metadata": {},
   "outputs": [],
   "source": []
  },
  {
   "cell_type": "code",
   "execution_count": null,
   "id": "8811b43d-02a8-40b9-9c93-a802ba7929d3",
   "metadata": {},
   "outputs": [],
   "source": []
  },
  {
   "cell_type": "code",
   "execution_count": null,
   "id": "4212ed88-f21a-4cd2-b5bb-b790c79fc1d8",
   "metadata": {},
   "outputs": [],
   "source": []
  },
  {
   "cell_type": "markdown",
   "id": "d65d9b60-4abd-4b76-9365-c7b4bfad8d4a",
   "metadata": {},
   "source": [
    "# Combined Rasters"
   ]
  },
  {
   "cell_type": "code",
   "execution_count": null,
   "id": "b8d8236f-0185-4482-b302-0b6d6613c26f",
   "metadata": {
    "tags": []
   },
   "outputs": [
    {
     "name": "stderr",
     "output_type": "stream",
     "text": [
      "16it [01:10,  1.55s/it]"
     ]
    },
    {
     "name": "stdout",
     "output_type": "stream",
     "text": [
      "Skipping Switch\n",
      "Skipping Switch\n",
      "Skipping Switch\n",
      "Skipping Switch\n",
      "Skipping Switch\n",
      "Skipping Switch\n"
     ]
    },
    {
     "name": "stderr",
     "output_type": "stream",
     "text": [
      "22it [01:10,  1.59it/s]"
     ]
    },
    {
     "name": "stdout",
     "output_type": "stream",
     "text": [
      "Skipping Switch\n",
      "Skipping Switch\n",
      "Skipping Switch\n",
      "Skipping Switch\n",
      "Skipping Switch\n",
      "Skipping Switch\n"
     ]
    },
    {
     "name": "stderr",
     "output_type": "stream",
     "text": [
      "28it [01:10,  3.30it/s]"
     ]
    },
    {
     "name": "stdout",
     "output_type": "stream",
     "text": [
      "Skipping Switch\n",
      "Skipping Switch\n",
      "Skipping Switch\n",
      "Skipping Switch\n",
      "Skipping Switch\n",
      "Skipping Switch\n",
      "Skipping Switch\n"
     ]
    },
    {
     "name": "stderr",
     "output_type": "stream",
     "text": [
      "34it [01:11,  5.67it/s]"
     ]
    },
    {
     "name": "stdout",
     "output_type": "stream",
     "text": [
      "Skipping Switch\n",
      "Skipping Switch\n",
      "Skipping Switch\n",
      "Skipping Switch\n",
      "Skipping Switch\n"
     ]
    },
    {
     "name": "stderr",
     "output_type": "stream",
     "text": [
      "37it [01:11,  7.38it/s]"
     ]
    },
    {
     "name": "stdout",
     "output_type": "stream",
     "text": [
      "Skipping Switch\n",
      "Skipping Switch\n",
      "Skipping Switch\n",
      "Skipping Switch\n",
      "Skipping Switch\n"
     ]
    },
    {
     "name": "stderr",
     "output_type": "stream",
     "text": [
      "40it [01:11,  9.24it/s]"
     ]
    },
    {
     "name": "stdout",
     "output_type": "stream",
     "text": [
      "Skipping Switch\n",
      "Skipping Switch\n"
     ]
    },
    {
     "name": "stderr",
     "output_type": "stream",
     "text": [
      "105it [15:30,  1.32it/s]"
     ]
    },
    {
     "name": "stdout",
     "output_type": "stream",
     "text": [
      "Skipping Switch\n",
      "Skipping Switch\n",
      "Skipping Switch\n",
      "Skipping Switch\n",
      "Skipping Switch\n",
      "Skipping Switch\n",
      "Skipping Switch\n"
     ]
    },
    {
     "name": "stderr",
     "output_type": "stream",
     "text": [
      "113it [15:30,  3.89it/s]"
     ]
    },
    {
     "name": "stdout",
     "output_type": "stream",
     "text": [
      "Skipping Switch\n",
      "Skipping Switch\n",
      "Skipping Switch\n",
      "Skipping Switch\n",
      "Skipping Switch\n",
      "Skipping Switch\n",
      "Skipping Switch\n",
      "Skipping Switch\n"
     ]
    },
    {
     "name": "stderr",
     "output_type": "stream",
     "text": [
      "121it [15:30,  7.99it/s]"
     ]
    },
    {
     "name": "stdout",
     "output_type": "stream",
     "text": [
      "Skipping Switch\n",
      "Skipping Switch\n",
      "Skipping Switch\n",
      "Skipping Switch\n",
      "Skipping Switch\n",
      "Skipping Switch\n",
      "Skipping Switch\n"
     ]
    },
    {
     "name": "stderr",
     "output_type": "stream",
     "text": [
      "124it [15:30,  9.96it/s]"
     ]
    },
    {
     "name": "stdout",
     "output_type": "stream",
     "text": [
      "Skipping Switch\n"
     ]
    },
    {
     "name": "stderr",
     "output_type": "stream",
     "text": [
      "302it [1:01:39, 12.78s/it]"
     ]
    },
    {
     "name": "stdout",
     "output_type": "stream",
     "text": [
      "PhaseFail Skipping\n"
     ]
    },
    {
     "name": "stderr",
     "output_type": "stream",
     "text": [
      "303it [1:01:41,  9.72s/it]"
     ]
    },
    {
     "name": "stdout",
     "output_type": "stream",
     "text": [
      "PhaseFail Skipping\n"
     ]
    },
    {
     "name": "stderr",
     "output_type": "stream",
     "text": [
      "304it [1:01:50,  9.39s/it]"
     ]
    },
    {
     "name": "stdout",
     "output_type": "stream",
     "text": [
      "PhaseFail Skipping\n"
     ]
    },
    {
     "name": "stderr",
     "output_type": "stream",
     "text": [
      "305it [1:01:54,  7.70s/it]"
     ]
    },
    {
     "name": "stdout",
     "output_type": "stream",
     "text": [
      "PhaseFail Skipping\n"
     ]
    },
    {
     "name": "stderr",
     "output_type": "stream",
     "text": [
      "306it [1:01:56,  6.20s/it]"
     ]
    },
    {
     "name": "stdout",
     "output_type": "stream",
     "text": [
      "PhaseFail Skipping\n"
     ]
    },
    {
     "name": "stderr",
     "output_type": "stream",
     "text": [
      "307it [1:01:59,  5.15s/it]"
     ]
    },
    {
     "name": "stdout",
     "output_type": "stream",
     "text": [
      "PhaseFail Skipping\n"
     ]
    },
    {
     "name": "stderr",
     "output_type": "stream",
     "text": [
      "308it [1:02:01,  4.37s/it]"
     ]
    },
    {
     "name": "stdout",
     "output_type": "stream",
     "text": [
      "PhaseFail Skipping\n"
     ]
    },
    {
     "name": "stderr",
     "output_type": "stream",
     "text": [
      "309it [1:02:06,  4.32s/it]"
     ]
    },
    {
     "name": "stdout",
     "output_type": "stream",
     "text": [
      "PhaseFail Skipping\n"
     ]
    },
    {
     "name": "stderr",
     "output_type": "stream",
     "text": [
      "310it [1:02:08,  3.80s/it]"
     ]
    },
    {
     "name": "stdout",
     "output_type": "stream",
     "text": [
      "PhaseFail Skipping\n"
     ]
    },
    {
     "name": "stderr",
     "output_type": "stream",
     "text": [
      "311it [1:02:11,  3.37s/it]"
     ]
    },
    {
     "name": "stdout",
     "output_type": "stream",
     "text": [
      "PhaseFail Skipping\n"
     ]
    },
    {
     "name": "stderr",
     "output_type": "stream",
     "text": [
      "312it [1:02:14,  3.23s/it]"
     ]
    },
    {
     "name": "stdout",
     "output_type": "stream",
     "text": [
      "PhaseFail Skipping\n"
     ]
    },
    {
     "name": "stderr",
     "output_type": "stream",
     "text": [
      "313it [1:02:16,  3.02s/it]"
     ]
    },
    {
     "name": "stdout",
     "output_type": "stream",
     "text": [
      "PhaseFail Skipping\n"
     ]
    },
    {
     "name": "stderr",
     "output_type": "stream",
     "text": [
      "314it [1:02:17,  2.37s/it]"
     ]
    },
    {
     "name": "stdout",
     "output_type": "stream",
     "text": [
      "PhaseFail Skipping\n"
     ]
    },
    {
     "name": "stderr",
     "output_type": "stream",
     "text": [
      "315it [1:02:19,  2.37s/it]"
     ]
    },
    {
     "name": "stdout",
     "output_type": "stream",
     "text": [
      "PhaseFail Skipping\n"
     ]
    },
    {
     "name": "stderr",
     "output_type": "stream",
     "text": [
      "316it [1:02:22,  2.51s/it]"
     ]
    },
    {
     "name": "stdout",
     "output_type": "stream",
     "text": [
      "PhaseFail Skipping\n"
     ]
    },
    {
     "name": "stderr",
     "output_type": "stream",
     "text": [
      "319it [1:02:25,  1.45s/it]"
     ]
    },
    {
     "name": "stdout",
     "output_type": "stream",
     "text": [
      "PhaseFail Skipping\n",
      "Skipping Switch\n",
      "Skipping Switch\n",
      "Skipping Switch\n"
     ]
    },
    {
     "name": "stderr",
     "output_type": "stream",
     "text": [
      "323it [1:02:25,  1.68it/s]"
     ]
    },
    {
     "name": "stdout",
     "output_type": "stream",
     "text": [
      "Skipping Switch\n",
      "Skipping Switch\n",
      "Skipping Switch\n",
      "Skipping Switch\n"
     ]
    },
    {
     "name": "stderr",
     "output_type": "stream",
     "text": [
      "327it [1:02:26,  3.33it/s]"
     ]
    },
    {
     "name": "stdout",
     "output_type": "stream",
     "text": [
      "Skipping Switch\n",
      "Skipping Switch\n",
      "Skipping Switch\n",
      "Skipping Switch\n"
     ]
    },
    {
     "name": "stderr",
     "output_type": "stream",
     "text": [
      "331it [1:02:26,  5.68it/s]"
     ]
    },
    {
     "name": "stdout",
     "output_type": "stream",
     "text": [
      "Skipping Switch\n",
      "Skipping Switch\n",
      "Skipping Switch\n",
      "Skipping Switch\n"
     ]
    },
    {
     "name": "stderr",
     "output_type": "stream",
     "text": [
      "335it [1:02:26,  8.48it/s]"
     ]
    },
    {
     "name": "stdout",
     "output_type": "stream",
     "text": [
      "Skipping Switch\n",
      "Skipping Switch\n",
      "Skipping Switch\n",
      "Skipping Switch\n"
     ]
    },
    {
     "name": "stderr",
     "output_type": "stream",
     "text": [
      "339it [1:02:27, 11.13it/s]"
     ]
    },
    {
     "name": "stdout",
     "output_type": "stream",
     "text": [
      "Skipping Switch\n",
      "Skipping Switch\n",
      "Skipping Switch\n",
      "Skipping Switch\n"
     ]
    },
    {
     "name": "stderr",
     "output_type": "stream",
     "text": [
      "343it [1:02:27, 12.84it/s]"
     ]
    },
    {
     "name": "stdout",
     "output_type": "stream",
     "text": [
      "Skipping Switch\n",
      "Skipping Switch\n",
      "Skipping Switch\n",
      "Skipping Switch\n"
     ]
    },
    {
     "name": "stderr",
     "output_type": "stream",
     "text": [
      "347it [1:02:27, 14.36it/s]"
     ]
    },
    {
     "name": "stdout",
     "output_type": "stream",
     "text": [
      "Skipping Switch\n",
      "Skipping Switch\n",
      "Skipping Switch\n",
      "Skipping Switch\n"
     ]
    },
    {
     "name": "stderr",
     "output_type": "stream",
     "text": [
      "351it [1:02:27, 15.02it/s]"
     ]
    },
    {
     "name": "stdout",
     "output_type": "stream",
     "text": [
      "Skipping Switch\n",
      "Skipping Switch\n",
      "Skipping Switch\n",
      "Skipping Switch\n"
     ]
    },
    {
     "name": "stderr",
     "output_type": "stream",
     "text": [
      "355it [1:02:28, 15.11it/s]"
     ]
    },
    {
     "name": "stdout",
     "output_type": "stream",
     "text": [
      "Skipping Switch\n",
      "Skipping Switch\n",
      "Skipping Switch\n"
     ]
    },
    {
     "name": "stderr",
     "output_type": "stream",
     "text": [
      "477it [1:42:23,  1.60s/it]"
     ]
    },
    {
     "name": "stdout",
     "output_type": "stream",
     "text": [
      "Skipping Switch\n",
      "Skipping Switch\n",
      "Skipping Switch\n",
      "Skipping Switch\n",
      "Skipping Switch\n",
      "Skipping Switch\n",
      "Skipping Switch\n",
      "Skipping Switch\n"
     ]
    },
    {
     "name": "stderr",
     "output_type": "stream",
     "text": [
      "485it [1:42:24,  1.60it/s]"
     ]
    },
    {
     "name": "stdout",
     "output_type": "stream",
     "text": [
      "Skipping Switch\n",
      "Skipping Switch\n",
      "Skipping Switch\n",
      "Skipping Switch\n",
      "Skipping Switch\n",
      "Skipping Switch\n",
      "Skipping Switch\n",
      "Skipping Switch\n",
      "Skipping Switch\n",
      "Skipping Switch\n"
     ]
    },
    {
     "name": "stderr",
     "output_type": "stream",
     "text": [
      "646it [2:50:03, 26.25s/it]"
     ]
    }
   ],
   "source": [
    "for idx,(session,clust) in tqdm(enumerate(zip(EnumSession,EnumClust))):\n",
    "    limitToUse = None#30\n",
    "    \n",
    "#     skip = True\n",
    "#     if session == 'BS_40_2_AC.pickle' and clust in [190]:\n",
    "#         limitToUse = 20\n",
    "#         skip = False\n",
    "#     if skip:\n",
    "#         continue\n",
    "    \n",
    "    plt.close('all')\n",
    "    sessionfile = ilep.loadSessionCached(act_directory,session)\n",
    "    if sessionfile.meta.task == 'switch':\n",
    "        print(\"Skipping Switch\")\n",
    "        continue\n",
    "    \n",
    "    fig = plt.figure(figsize=(10,6.25))#New Style\n",
    "    gs = fig.add_gridspec(2,2,height_ratios=[1,1],wspace=0.75,hspace=0.25)#Old hspace 0.125 #Old ratios [2,1]\n",
    "    #Stim\n",
    "    ax3 = plt.subplot(gs[0,0])#Raster\n",
    "    ax4 = plt.subplot(gs[1,0],sharex=ax3)#PSTH\n",
    "    #Choice\n",
    "    cax3 = plt.subplot(gs[0,1])#Raster\n",
    "    cax4 = plt.subplot(gs[1,1],sharex=cax3)#PSTH\n",
    "    \n",
    "    #visualizeClusterChoiceInternal(sessionfile,clust,ax1,ax2,Figure_start_time_ms='-250',Figure_end_time_ms=1000,xtickstouse=[-250,0,250,500,750,1000],align_to_choice=False,switch_cond='NA'):\n",
    "    try:\n",
    "        stim_success,stim_artists = visualizeClusterChoiceInternal(sessionfile,clust,ax3,ax4,limitToUse=limitToUse,Figure_start_time_ms=-50,Figure_end_time_ms=150,xtickstouse=[-50,0,50,100,150])\n",
    "    except:\n",
    "        stim_success = False\n",
    "    if not stim_success:\n",
    "        continue\n",
    "    try:\n",
    "        choice_success,choice_artists = visualizeClusterChoiceInternal(sessionfile,clust,cax3,cax4,limitToUse=limitToUse,align_to_choice=True,Figure_start_time_ms=-150,Figure_end_time_ms=50,xtickstouse=[-150,-100,-50,0,50])\n",
    "    except:\n",
    "        choice_success = False\n",
    "    if not choice_success:\n",
    "        continue\n",
    "    \n",
    "    FRmod = sessionfile.responsiveness[clust]['all_trials'].FRmodulation\n",
    "    Choicemod = sessionfile.responsiveness[clust]['go'].FRmodulation_choice\n",
    "    \n",
    "    ttl1 = ax3.set_title(FRmod)\n",
    "    ttl2 = cax3.set_title(Choicemod)\n",
    "    \n",
    "    #Determine FRmod category\n",
    "    FRmodCategory = 'ERROR'\n",
    "    try:\n",
    "        FRmod = sessionfile.responsiveness[clust]['all_trials'].FRmodulation\n",
    "        if FRmod < 3.5:\n",
    "            FRmodCategory = 'NCR'\n",
    "        elif FRmod > 5:\n",
    "            FRmodCategory = 'CR'\n",
    "        else:\n",
    "            FRmodCategory = 'Middle'\n",
    "    except Exception as e:\n",
    "        print(e)\n",
    "        pass\n",
    "    #Skip unidentified category neurons\n",
    "    if FRmodCategory in ['ERROR','nan',np.nan]:\n",
    "        print(\"FRmodFail Skipping\")\n",
    "        continue\n",
    "    region = sessionfile.meta.region\n",
    "    EIL = EILphases[idx]\n",
    "    #Skip unidentified phase neurons\n",
    "    if EIL in ['ERROR','nan',np.nan]:\n",
    "        print(\"PhaseFail Skipping\")\n",
    "        continue\n",
    "        \n",
    "#     break\n",
    "    try:\n",
    "        if not FRmodCategory == 'ERROR':\n",
    "            fig.savefig(os.path.join('D:\\\\\\\\Rasters','CombinedRasters',FRmodCategory,EIL,'pdfs',ilep.generateDateString(sessionfile)+' '+str(clust)+'.pdf'),transparent=False,facecolor=\"white\",dpi=400, bbox_extra_artists=(artists), bbox_inches='tight')\n",
    "            fig.savefig(os.path.join('D:\\\\\\\\Rasters','CombinedRasters',FRmodCategory,EIL,'pngs',ilep.generateDateString(sessionfile)+' '+str(clust)+'.png'),transparent=False,facecolor=\"white\",dpi=400, bbox_extra_artists=(artists), bbox_inches='tight')\n",
    "            fig.savefig(os.path.join('D:\\\\\\\\Rasters','CombinedRasters',FRmodCategory,'pdfs',ilep.generateDateString(sessionfile)+' '+str(clust)+'.pdf'),transparent=False,facecolor=\"white\",dpi=400, bbox_extra_artists=(artists), bbox_inches='tight')\n",
    "            fig.savefig(os.path.join('D:\\\\\\\\Rasters','CombinedRasters',FRmodCategory,'pngs',ilep.generateDateString(sessionfile)+' '+str(clust)+'.png'),transparent=False,facecolor=\"white\",dpi=400, bbox_extra_artists=(artists), bbox_inches='tight')\n",
    "        fig.savefig(os.path.join('D:\\\\\\\\Rasters','CombinedRasters','pdfs',ilep.generateDateString(sessionfile)+' '+str(clust)+'.pdf'),transparent=False,facecolor=\"white\",dpi=400, bbox_extra_artists=(artists), bbox_inches='tight')\n",
    "        fig.savefig(os.path.join('D:\\\\\\\\Rasters','CombinedRasters','pngs',ilep.generateDateString(sessionfile)+' '+str(clust)+'.png'),transparent=False,facecolor=\"white\",dpi=400, bbox_extra_artists=(artists), bbox_inches='tight')\n",
    "    except Exception as e:\n",
    "        print(e)"
   ]
  },
  {
   "cell_type": "code",
   "execution_count": null,
   "id": "fd958751-0514-43e0-a3f7-a0194f53e125",
   "metadata": {},
   "outputs": [],
   "source": []
  },
  {
   "cell_type": "code",
   "execution_count": null,
   "id": "7574a562-689c-4c7a-8b91-895fc9b51ab8",
   "metadata": {},
   "outputs": [],
   "source": []
  },
  {
   "cell_type": "code",
   "execution_count": null,
   "id": "80989b80-c5e4-42e9-96ce-01427e2b4773",
   "metadata": {},
   "outputs": [],
   "source": []
  },
  {
   "cell_type": "code",
   "execution_count": null,
   "id": "c6549eda-9fc4-4bb4-97b1-baa2f0831942",
   "metadata": {},
   "outputs": [],
   "source": []
  },
  {
   "cell_type": "code",
   "execution_count": null,
   "id": "d31f9a0b-6160-4bfb-bcc5-d4941bdcd096",
   "metadata": {},
   "outputs": [],
   "source": []
  },
  {
   "cell_type": "code",
   "execution_count": null,
   "id": "27836591-120e-4c92-8efc-4a1d120310db",
   "metadata": {},
   "outputs": [],
   "source": []
  },
  {
   "cell_type": "code",
   "execution_count": 35,
   "id": "9fabefc5-fbd8-456e-8c8e-2bbb8c9eab4e",
   "metadata": {},
   "outputs": [
    {
     "data": {
      "text/plain": [
       "[[0, 1, 2],\n",
       " [1, 2, 3],\n",
       " [2, 3, 4],\n",
       " [3, 4, 5],\n",
       " [4, 5, 6],\n",
       " [5, 6, 7],\n",
       " [6, 7, 8],\n",
       " [7, 8, 9],\n",
       " [8, 9, 10],\n",
       " [9, 10, 11]]"
      ]
     },
     "execution_count": 35,
     "metadata": {},
     "output_type": "execute_result"
    }
   ],
   "source": [
    "A"
   ]
  },
  {
   "cell_type": "code",
   "execution_count": 34,
   "id": "e830ed1b-1192-4343-a510-d51f3f17d31f",
   "metadata": {},
   "outputs": [],
   "source": [
    "A = [ [a,a+1,a+2] for a in range(10)]"
   ]
  },
  {
   "cell_type": "code",
   "execution_count": 36,
   "id": "f47aadd8-9658-44ea-912a-942288366759",
   "metadata": {},
   "outputs": [
    {
     "name": "stdout",
     "output_type": "stream",
     "text": [
      "[0]\n"
     ]
    },
    {
     "ename": "TypeError",
     "evalue": "only integer scalar arrays can be converted to a scalar index",
     "output_type": "error",
     "traceback": [
      "\u001b[1;31m---------------------------------------------------------------------------\u001b[0m",
      "\u001b[1;31mTypeError\u001b[0m                                 Traceback (most recent call last)",
      "\u001b[1;32m<ipython-input-36-c3053076bbe2>\u001b[0m in \u001b[0;36m<module>\u001b[1;34m\u001b[0m\n\u001b[0;32m      2\u001b[0m \u001b[1;32mfor\u001b[0m \u001b[0midx\u001b[0m\u001b[1;33m,\u001b[0m\u001b[1;33m(\u001b[0m\u001b[0m_\u001b[0m\u001b[1;33m,\u001b[0m\u001b[0mtrain_index\u001b[0m\u001b[1;33m)\u001b[0m \u001b[1;32min\u001b[0m \u001b[0menumerate\u001b[0m\u001b[1;33m(\u001b[0m\u001b[0mkf\u001b[0m\u001b[1;33m.\u001b[0m\u001b[0msplit\u001b[0m\u001b[1;33m(\u001b[0m\u001b[0mA\u001b[0m\u001b[1;33m)\u001b[0m\u001b[1;33m)\u001b[0m\u001b[1;33m:\u001b[0m\u001b[1;33m\u001b[0m\u001b[1;33m\u001b[0m\u001b[0m\n\u001b[0;32m      3\u001b[0m     \u001b[0mprint\u001b[0m\u001b[1;33m(\u001b[0m\u001b[0mtrain_index\u001b[0m\u001b[1;33m)\u001b[0m\u001b[1;33m\u001b[0m\u001b[1;33m\u001b[0m\u001b[0m\n\u001b[1;32m----> 4\u001b[1;33m     \u001b[0mprint\u001b[0m\u001b[1;33m(\u001b[0m\u001b[0mA\u001b[0m\u001b[1;33m[\u001b[0m\u001b[0mtrain_index\u001b[0m\u001b[1;33m]\u001b[0m\u001b[1;33m)\u001b[0m\u001b[1;33m\u001b[0m\u001b[1;33m\u001b[0m\u001b[0m\n\u001b[0m",
      "\u001b[1;31mTypeError\u001b[0m: only integer scalar arrays can be converted to a scalar index"
     ]
    }
   ],
   "source": [
    "kf = KFold(n_splits=10)\n",
    "for idx,(_,train_index) in enumerate(kf.split(A)):\n",
    "    print(train_index)\n",
    "    print(A[train_index])"
   ]
  },
  {
   "cell_type": "code",
   "execution_count": null,
   "id": "7897ff87-10f4-4c01-b6b6-d8e059b75d70",
   "metadata": {},
   "outputs": [],
   "source": []
  }
 ],
 "metadata": {
  "kernelspec": {
   "display_name": "Python 3 (ipykernel)",
   "language": "python",
   "name": "python3"
  },
  "language_info": {
   "codemirror_mode": {
    "name": "ipython",
    "version": 3
   },
   "file_extension": ".py",
   "mimetype": "text/x-python",
   "name": "python",
   "nbconvert_exporter": "python",
   "pygments_lexer": "ipython3",
   "version": "3.12.5"
  }
 },
 "nbformat": 4,
 "nbformat_minor": 5
}
